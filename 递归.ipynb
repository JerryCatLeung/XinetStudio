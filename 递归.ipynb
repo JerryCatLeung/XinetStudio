{
 "cells": [
  {
   "cell_type": "markdown",
   "metadata": {},
   "source": [
    "## [递归](https://introcs.cs.princeton.edu/python/23recursion/)\n",
    "\n",
    "函数自身调用自己的机制称为：递归（recursion）\n",
    "\n",
    "使用一个优雅的递归程序解决问题对每个程序员而言是一个令人满意的经验。递归远不只是一种编程技术，在许多环境中，它是描述自然界的有用方法。\n",
    "推崇递归的一个重要原因是：递归提供了一个直接的证明技术称为**数学归纳法**（mathematical induction）。\n",
    "\n",
    "### factorial function（阶乘函数）\n",
    "\n",
    "$n! = n \\times (n-1) \\times (n-2) \\times \\cdots \\times 2  \\times 1$"
   ]
  },
  {
   "cell_type": "code",
   "execution_count": 1,
   "metadata": {
    "ExecuteTime": {
     "end_time": "2018-03-20T15:03:04.236787Z",
     "start_time": "2018-03-20T15:03:04.232798Z"
    }
   },
   "outputs": [],
   "source": [
    "def factorial(n):\n",
    "    '''n 必须是整数'''\n",
    "    if n == 1:\n",
    "        return 1\n",
    "    return n * factorial(n - 1)"
   ]
  },
  {
   "cell_type": "code",
   "execution_count": 2,
   "metadata": {
    "ExecuteTime": {
     "end_time": "2018-03-20T15:03:12.479106Z",
     "start_time": "2018-03-20T15:03:12.468113Z"
    },
    "scrolled": true
   },
   "outputs": [
    {
     "data": {
      "text/plain": [
       "120"
      ]
     },
     "execution_count": 2,
     "metadata": {},
     "output_type": "execute_result"
    }
   ],
   "source": [
    "factorial(5)"
   ]
  },
  {
   "cell_type": "markdown",
   "metadata": {},
   "source": [
    "### 欧几里得算法\n",
    "\n",
    "If $p > q$, the gcd of $p$ and $q$ is the same as the gcd of $q$ and $p % q$. "
   ]
  },
  {
   "cell_type": "code",
   "execution_count": 3,
   "metadata": {
    "ExecuteTime": {
     "end_time": "2018-03-20T15:04:28.414971Z",
     "start_time": "2018-03-20T15:04:28.409955Z"
    }
   },
   "outputs": [],
   "source": [
    "def gcd(p, q):\n",
    "    if q == 0: return p\n",
    "    return gcd(q, p % q)"
   ]
  },
  {
   "cell_type": "code",
   "execution_count": 7,
   "metadata": {
    "ExecuteTime": {
     "end_time": "2018-03-21T03:59:43.954469Z",
     "start_time": "2018-03-21T03:59:43.948469Z"
    }
   },
   "outputs": [
    {
     "data": {
      "text/plain": [
       "24"
      ]
     },
     "execution_count": 7,
     "metadata": {},
     "output_type": "execute_result"
    }
   ],
   "source": [
    "gcd(72, 96)"
   ]
  },
  {
   "cell_type": "markdown",
   "metadata": {},
   "source": [
    "## 动态编程，避免递归陷阱\n",
    "使用数组保存已经计算的值"
   ]
  }
 ],
 "metadata": {
  "kernelspec": {
   "display_name": "Python 3",
   "language": "python",
   "name": "python3"
  },
  "language_info": {
   "codemirror_mode": {
    "name": "ipython",
    "version": 3
   },
   "file_extension": ".py",
   "mimetype": "text/x-python",
   "name": "python",
   "nbconvert_exporter": "python",
   "pygments_lexer": "ipython3",
   "version": "3.6.3"
  },
  "toc": {
   "nav_menu": {},
   "number_sections": true,
   "sideBar": true,
   "skip_h1_title": false,
   "title_cell": "Table of Contents",
   "title_sidebar": "Contents",
   "toc_cell": false,
   "toc_position": {},
   "toc_section_display": true,
   "toc_window_display": false
  },
  "varInspector": {
   "cols": {
    "lenName": 16,
    "lenType": 16,
    "lenVar": 40
   },
   "kernels_config": {
    "python": {
     "delete_cmd_postfix": "",
     "delete_cmd_prefix": "del ",
     "library": "var_list.py",
     "varRefreshCmd": "print(var_dic_list())"
    },
    "r": {
     "delete_cmd_postfix": ") ",
     "delete_cmd_prefix": "rm(",
     "library": "var_list.r",
     "varRefreshCmd": "cat(var_dic_list()) "
    }
   },
   "types_to_exclude": [
    "module",
    "function",
    "builtin_function_or_method",
    "instance",
    "_Feature"
   ],
   "window_display": false
  }
 },
 "nbformat": 4,
 "nbformat_minor": 2
}
