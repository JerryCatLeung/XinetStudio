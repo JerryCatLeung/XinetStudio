{
 "cells": [
  {
   "cell_type": "code",
   "execution_count": 1,
   "metadata": {
    "ExecuteTime": {
     "end_time": "2018-02-28T02:13:45.743904Z",
     "start_time": "2018-02-28T02:13:44.502605Z"
    }
   },
   "outputs": [],
   "source": [
    "%matplotlib inline\n",
    "\n",
    "import matplotlib\n",
    "import matplotlib.pyplot as plt\n",
    "import numpy as np\n",
    "import pandas as pd\n",
    "import bokeh as bk"
   ]
  },
  {
   "cell_type": "markdown",
   "metadata": {},
   "source": [
    "# python可视化工具概述\n",
    "\n",
    "- `Pandas` 对于简单绘图，可以随手用，但你需要学习定制 `matplotlib`。\n",
    "- `Seaborn` 可以支持更多复杂的可视化方式，但仍然需要 `matplotlib` 知识，上色功能是个亮点。\n",
    "- `ggplot` 有很多功能，但还需要发展。\n",
    "- `bokeh`一个有效的工具，如果你想建立一个可视化的服务器，这几乎是杀鸡用牛刀的事情。\n",
    "- `pygal` 独立运行，可用来生成交互的 `svg` 图表和 `png` 文件。它没有基于 `matploglib` 的方案那样灵活。\n",
    "- `Plotly` 可生成大多数可交互图表。你可以保存为离线文件，然后建立丰富的基于 web 的可视化。\n",
    "\n",
    "Bokeh 交互式数据可视化,在 Python 中用 `Bokeh` 实现，Bokeh 可以直接跟 `Jinja2` 集成，将生成的图像在网页中直接显示，正满足需求。\n",
    "\n",
    "学习资料：\n",
    "- [Python:利用 Bokeh 进行可视化](http://kissg.me/2016/08/29/python-visualization-with-bokeh/)\n",
    "- [Welcome to Bokeh](http://bokeh.pydata.org/en/latest/)\n",
    "\n",
    "`Bokeh` 包是一个交互式的可视化库。其利用 web 浏览器进行展示，目标是以 `D3.js` 的风格绘制图案，这样图会看起来很优美，而且很容易构造。`Bokeh` 支持大量的流式的数据集。你可以用这个库创建各种图表/图形。它的一个主要竞争对手可能要属 [Plotly](https://plot.ly/) 了。\n",
    "\n",
    "   - `D3.js` 是一个可用于创建“数据驱动文档”（Data Driven Documents） JavaScript 库。详情看[这里](https://d3js.org/)\n",
    "    \n",
    "## 生成图像"
   ]
  },
  {
   "cell_type": "code",
   "execution_count": 5,
   "metadata": {
    "ExecuteTime": {
     "end_time": "2018-02-28T02:24:19.633292Z",
     "start_time": "2018-02-28T02:24:19.326476Z"
    }
   },
   "outputs": [],
   "source": [
    "from bokeh.plotting import figure, output_file, show\n",
    "\n",
    "output_file(\"test.html\")\n",
    "\n",
    "x = range(1, 6)\n",
    "y = [10, 5, 7, 1, 6]\n",
    "plot = figure(title='Line example', x_axis_label='x', y_axis_label='y')\n",
    "plot.line(x, y, legend='Test', line_width=4)\n",
    "show(plot)"
   ]
  },
  {
   "cell_type": "markdown",
   "metadata": {},
   "source": [
    "`Bokeh` 还支持 `Jupyter Notebook`，唯一需要修改的就是用 `output_notebook` 代替 `output_file`。"
   ]
  },
  {
   "cell_type": "code",
   "execution_count": 9,
   "metadata": {
    "ExecuteTime": {
     "end_time": "2018-02-28T02:28:43.003950Z",
     "start_time": "2018-02-28T02:28:42.531694Z"
    }
   },
   "outputs": [
    {
     "data": {
      "text/html": [
       "\n",
       "    <div class=\"bk-root\">\n",
       "        <a href=\"https://bokeh.pydata.org\" target=\"_blank\" class=\"bk-logo bk-logo-small bk-logo-notebook\"></a>\n",
       "        <span id=\"f8662934-0ab5-43ae-b462-b8db79e65116\">Loading BokehJS ...</span>\n",
       "    </div>"
      ]
     },
     "metadata": {},
     "output_type": "display_data"
    },
    {
     "data": {
      "application/javascript": [
       "\n",
       "(function(root) {\n",
       "  function now() {\n",
       "    return new Date();\n",
       "  }\n",
       "\n",
       "  var force = true;\n",
       "\n",
       "  if (typeof (root._bokeh_onload_callbacks) === \"undefined\" || force === true) {\n",
       "    root._bokeh_onload_callbacks = [];\n",
       "    root._bokeh_is_loading = undefined;\n",
       "  }\n",
       "\n",
       "  var JS_MIME_TYPE = 'application/javascript';\n",
       "  var HTML_MIME_TYPE = 'text/html';\n",
       "  var EXEC_MIME_TYPE = 'application/vnd.bokehjs_exec.v0+json';\n",
       "  var CLASS_NAME = 'output_bokeh rendered_html';\n",
       "\n",
       "  /**\n",
       "   * Render data to the DOM node\n",
       "   */\n",
       "  function render(props, node) {\n",
       "    var script = document.createElement(\"script\");\n",
       "    node.appendChild(script);\n",
       "  }\n",
       "\n",
       "  /**\n",
       "   * Handle when an output is cleared or removed\n",
       "   */\n",
       "  function handleClearOutput(event, handle) {\n",
       "    var cell = handle.cell;\n",
       "\n",
       "    var id = cell.output_area._bokeh_element_id;\n",
       "    var server_id = cell.output_area._bokeh_server_id;\n",
       "    // Clean up Bokeh references\n",
       "    if (id !== undefined) {\n",
       "      Bokeh.index[id].model.document.clear();\n",
       "      delete Bokeh.index[id];\n",
       "    }\n",
       "\n",
       "    if (server_id !== undefined) {\n",
       "      // Clean up Bokeh references\n",
       "      var cmd = \"from bokeh.io.state import curstate; print(curstate().uuid_to_server['\" + server_id + \"'].get_sessions()[0].document.roots[0]._id)\";\n",
       "      cell.notebook.kernel.execute(cmd, {\n",
       "        iopub: {\n",
       "          output: function(msg) {\n",
       "            var element_id = msg.content.text.trim();\n",
       "            Bokeh.index[element_id].model.document.clear();\n",
       "            delete Bokeh.index[element_id];\n",
       "          }\n",
       "        }\n",
       "      });\n",
       "      // Destroy server and session\n",
       "      var cmd = \"import bokeh.io.notebook as ion; ion.destroy_server('\" + server_id + \"')\";\n",
       "      cell.notebook.kernel.execute(cmd);\n",
       "    }\n",
       "  }\n",
       "\n",
       "  /**\n",
       "   * Handle when a new output is added\n",
       "   */\n",
       "  function handleAddOutput(event, handle) {\n",
       "    var output_area = handle.output_area;\n",
       "    var output = handle.output;\n",
       "\n",
       "    // limit handleAddOutput to display_data with EXEC_MIME_TYPE content only\n",
       "    if ((output.output_type != \"display_data\") || (!output.data.hasOwnProperty(EXEC_MIME_TYPE))) {\n",
       "      return\n",
       "    }\n",
       "\n",
       "    var toinsert = output_area.element.find(`.${CLASS_NAME.split(' ')[0]}`);\n",
       "\n",
       "    if (output.metadata[EXEC_MIME_TYPE][\"id\"] !== undefined) {\n",
       "      toinsert[0].firstChild.textContent = output.data[JS_MIME_TYPE];\n",
       "      // store reference to embed id on output_area\n",
       "      output_area._bokeh_element_id = output.metadata[EXEC_MIME_TYPE][\"id\"];\n",
       "    }\n",
       "    if (output.metadata[EXEC_MIME_TYPE][\"server_id\"] !== undefined) {\n",
       "      var bk_div = document.createElement(\"div\");\n",
       "      bk_div.innerHTML = output.data[HTML_MIME_TYPE];\n",
       "      var script_attrs = bk_div.children[0].attributes;\n",
       "      for (var i = 0; i < script_attrs.length; i++) {\n",
       "        toinsert[0].firstChild.setAttribute(script_attrs[i].name, script_attrs[i].value);\n",
       "      }\n",
       "      // store reference to server id on output_area\n",
       "      output_area._bokeh_server_id = output.metadata[EXEC_MIME_TYPE][\"server_id\"];\n",
       "    }\n",
       "  }\n",
       "\n",
       "  function register_renderer(events, OutputArea) {\n",
       "\n",
       "    function append_mime(data, metadata, element) {\n",
       "      // create a DOM node to render to\n",
       "      var toinsert = this.create_output_subarea(\n",
       "        metadata,\n",
       "        CLASS_NAME,\n",
       "        EXEC_MIME_TYPE\n",
       "      );\n",
       "      this.keyboard_manager.register_events(toinsert);\n",
       "      // Render to node\n",
       "      var props = {data: data, metadata: metadata[EXEC_MIME_TYPE]};\n",
       "      render(props, toinsert[0]);\n",
       "      element.append(toinsert);\n",
       "      return toinsert\n",
       "    }\n",
       "\n",
       "    /* Handle when an output is cleared or removed */\n",
       "    events.on('clear_output.CodeCell', handleClearOutput);\n",
       "    events.on('delete.Cell', handleClearOutput);\n",
       "\n",
       "    /* Handle when a new output is added */\n",
       "    events.on('output_added.OutputArea', handleAddOutput);\n",
       "\n",
       "    /**\n",
       "     * Register the mime type and append_mime function with output_area\n",
       "     */\n",
       "    OutputArea.prototype.register_mime_type(EXEC_MIME_TYPE, append_mime, {\n",
       "      /* Is output safe? */\n",
       "      safe: true,\n",
       "      /* Index of renderer in `output_area.display_order` */\n",
       "      index: 0\n",
       "    });\n",
       "  }\n",
       "\n",
       "  // register the mime type if in Jupyter Notebook environment and previously unregistered\n",
       "  if (root.Jupyter !== undefined) {\n",
       "    var events = require('base/js/events');\n",
       "    var OutputArea = require('notebook/js/outputarea').OutputArea;\n",
       "\n",
       "    if (OutputArea.prototype.mime_types().indexOf(EXEC_MIME_TYPE) == -1) {\n",
       "      register_renderer(events, OutputArea);\n",
       "    }\n",
       "  }\n",
       "\n",
       "  \n",
       "  if (typeof (root._bokeh_timeout) === \"undefined\" || force === true) {\n",
       "    root._bokeh_timeout = Date.now() + 5000;\n",
       "    root._bokeh_failed_load = false;\n",
       "  }\n",
       "\n",
       "  var NB_LOAD_WARNING = {'data': {'text/html':\n",
       "     \"<div style='background-color: #fdd'>\\n\"+\n",
       "     \"<p>\\n\"+\n",
       "     \"BokehJS does not appear to have successfully loaded. If loading BokehJS from CDN, this \\n\"+\n",
       "     \"may be due to a slow or bad network connection. Possible fixes:\\n\"+\n",
       "     \"</p>\\n\"+\n",
       "     \"<ul>\\n\"+\n",
       "     \"<li>re-rerun `output_notebook()` to attempt to load from CDN again, or</li>\\n\"+\n",
       "     \"<li>use INLINE resources instead, as so:</li>\\n\"+\n",
       "     \"</ul>\\n\"+\n",
       "     \"<code>\\n\"+\n",
       "     \"from bokeh.resources import INLINE\\n\"+\n",
       "     \"output_notebook(resources=INLINE)\\n\"+\n",
       "     \"</code>\\n\"+\n",
       "     \"</div>\"}};\n",
       "\n",
       "  function display_loaded() {\n",
       "    var el = document.getElementById(\"f8662934-0ab5-43ae-b462-b8db79e65116\");\n",
       "    if (el != null) {\n",
       "      el.textContent = \"BokehJS is loading...\";\n",
       "    }\n",
       "    if (root.Bokeh !== undefined) {\n",
       "      if (el != null) {\n",
       "        el.textContent = \"BokehJS \" + root.Bokeh.version + \" successfully loaded.\";\n",
       "      }\n",
       "    } else if (Date.now() < root._bokeh_timeout) {\n",
       "      setTimeout(display_loaded, 100)\n",
       "    }\n",
       "  }\n",
       "\n",
       "\n",
       "  function run_callbacks() {\n",
       "    try {\n",
       "      root._bokeh_onload_callbacks.forEach(function(callback) { callback() });\n",
       "    }\n",
       "    finally {\n",
       "      delete root._bokeh_onload_callbacks\n",
       "    }\n",
       "    console.info(\"Bokeh: all callbacks have finished\");\n",
       "  }\n",
       "\n",
       "  function load_libs(js_urls, callback) {\n",
       "    root._bokeh_onload_callbacks.push(callback);\n",
       "    if (root._bokeh_is_loading > 0) {\n",
       "      console.log(\"Bokeh: BokehJS is being loaded, scheduling callback at\", now());\n",
       "      return null;\n",
       "    }\n",
       "    if (js_urls == null || js_urls.length === 0) {\n",
       "      run_callbacks();\n",
       "      return null;\n",
       "    }\n",
       "    console.log(\"Bokeh: BokehJS not loaded, scheduling load and callback at\", now());\n",
       "    root._bokeh_is_loading = js_urls.length;\n",
       "    for (var i = 0; i < js_urls.length; i++) {\n",
       "      var url = js_urls[i];\n",
       "      var s = document.createElement('script');\n",
       "      s.src = url;\n",
       "      s.async = false;\n",
       "      s.onreadystatechange = s.onload = function() {\n",
       "        root._bokeh_is_loading--;\n",
       "        if (root._bokeh_is_loading === 0) {\n",
       "          console.log(\"Bokeh: all BokehJS libraries loaded\");\n",
       "          run_callbacks()\n",
       "        }\n",
       "      };\n",
       "      s.onerror = function() {\n",
       "        console.warn(\"failed to load library \" + url);\n",
       "      };\n",
       "      console.log(\"Bokeh: injecting script tag for BokehJS library: \", url);\n",
       "      document.getElementsByTagName(\"head\")[0].appendChild(s);\n",
       "    }\n",
       "  };var element = document.getElementById(\"f8662934-0ab5-43ae-b462-b8db79e65116\");\n",
       "  if (element == null) {\n",
       "    console.log(\"Bokeh: ERROR: autoload.js configured with elementid 'f8662934-0ab5-43ae-b462-b8db79e65116' but no matching script tag was found. \")\n",
       "    return false;\n",
       "  }\n",
       "\n",
       "  var js_urls = [\"https://cdn.pydata.org/bokeh/release/bokeh-0.12.10.min.js\", \"https://cdn.pydata.org/bokeh/release/bokeh-widgets-0.12.10.min.js\", \"https://cdn.pydata.org/bokeh/release/bokeh-tables-0.12.10.min.js\", \"https://cdn.pydata.org/bokeh/release/bokeh-gl-0.12.10.min.js\"];\n",
       "\n",
       "  var inline_js = [\n",
       "    function(Bokeh) {\n",
       "      Bokeh.set_log_level(\"info\");\n",
       "    },\n",
       "    \n",
       "    function(Bokeh) {\n",
       "      \n",
       "    },\n",
       "    function(Bokeh) {\n",
       "      console.log(\"Bokeh: injecting CSS: https://cdn.pydata.org/bokeh/release/bokeh-0.12.10.min.css\");\n",
       "      Bokeh.embed.inject_css(\"https://cdn.pydata.org/bokeh/release/bokeh-0.12.10.min.css\");\n",
       "      console.log(\"Bokeh: injecting CSS: https://cdn.pydata.org/bokeh/release/bokeh-widgets-0.12.10.min.css\");\n",
       "      Bokeh.embed.inject_css(\"https://cdn.pydata.org/bokeh/release/bokeh-widgets-0.12.10.min.css\");\n",
       "      console.log(\"Bokeh: injecting CSS: https://cdn.pydata.org/bokeh/release/bokeh-tables-0.12.10.min.css\");\n",
       "      Bokeh.embed.inject_css(\"https://cdn.pydata.org/bokeh/release/bokeh-tables-0.12.10.min.css\");\n",
       "    }\n",
       "  ];\n",
       "\n",
       "  function run_inline_js() {\n",
       "    \n",
       "    if ((root.Bokeh !== undefined) || (force === true)) {\n",
       "      for (var i = 0; i < inline_js.length; i++) {\n",
       "        inline_js[i].call(root, root.Bokeh);\n",
       "      }if (force === true) {\n",
       "        display_loaded();\n",
       "      }} else if (Date.now() < root._bokeh_timeout) {\n",
       "      setTimeout(run_inline_js, 100);\n",
       "    } else if (!root._bokeh_failed_load) {\n",
       "      console.log(\"Bokeh: BokehJS failed to load within specified timeout.\");\n",
       "      root._bokeh_failed_load = true;\n",
       "    } else if (force !== true) {\n",
       "      var cell = $(document.getElementById(\"f8662934-0ab5-43ae-b462-b8db79e65116\")).parents('.cell').data().cell;\n",
       "      cell.output_area.append_execute_result(NB_LOAD_WARNING)\n",
       "    }\n",
       "\n",
       "  }\n",
       "\n",
       "  if (root._bokeh_is_loading === 0) {\n",
       "    console.log(\"Bokeh: BokehJS loaded, going straight to plotting\");\n",
       "    run_inline_js();\n",
       "  } else {\n",
       "    load_libs(js_urls, function() {\n",
       "      console.log(\"Bokeh: BokehJS plotting callback run at\", now());\n",
       "      run_inline_js();\n",
       "    });\n",
       "  }\n",
       "}(window));"
      ],
      "application/vnd.bokehjs_load.v0+json": "\n(function(root) {\n  function now() {\n    return new Date();\n  }\n\n  var force = true;\n\n  if (typeof (root._bokeh_onload_callbacks) === \"undefined\" || force === true) {\n    root._bokeh_onload_callbacks = [];\n    root._bokeh_is_loading = undefined;\n  }\n\n  \n\n  \n  if (typeof (root._bokeh_timeout) === \"undefined\" || force === true) {\n    root._bokeh_timeout = Date.now() + 5000;\n    root._bokeh_failed_load = false;\n  }\n\n  var NB_LOAD_WARNING = {'data': {'text/html':\n     \"<div style='background-color: #fdd'>\\n\"+\n     \"<p>\\n\"+\n     \"BokehJS does not appear to have successfully loaded. If loading BokehJS from CDN, this \\n\"+\n     \"may be due to a slow or bad network connection. Possible fixes:\\n\"+\n     \"</p>\\n\"+\n     \"<ul>\\n\"+\n     \"<li>re-rerun `output_notebook()` to attempt to load from CDN again, or</li>\\n\"+\n     \"<li>use INLINE resources instead, as so:</li>\\n\"+\n     \"</ul>\\n\"+\n     \"<code>\\n\"+\n     \"from bokeh.resources import INLINE\\n\"+\n     \"output_notebook(resources=INLINE)\\n\"+\n     \"</code>\\n\"+\n     \"</div>\"}};\n\n  function display_loaded() {\n    var el = document.getElementById(\"f8662934-0ab5-43ae-b462-b8db79e65116\");\n    if (el != null) {\n      el.textContent = \"BokehJS is loading...\";\n    }\n    if (root.Bokeh !== undefined) {\n      if (el != null) {\n        el.textContent = \"BokehJS \" + root.Bokeh.version + \" successfully loaded.\";\n      }\n    } else if (Date.now() < root._bokeh_timeout) {\n      setTimeout(display_loaded, 100)\n    }\n  }\n\n\n  function run_callbacks() {\n    try {\n      root._bokeh_onload_callbacks.forEach(function(callback) { callback() });\n    }\n    finally {\n      delete root._bokeh_onload_callbacks\n    }\n    console.info(\"Bokeh: all callbacks have finished\");\n  }\n\n  function load_libs(js_urls, callback) {\n    root._bokeh_onload_callbacks.push(callback);\n    if (root._bokeh_is_loading > 0) {\n      console.log(\"Bokeh: BokehJS is being loaded, scheduling callback at\", now());\n      return null;\n    }\n    if (js_urls == null || js_urls.length === 0) {\n      run_callbacks();\n      return null;\n    }\n    console.log(\"Bokeh: BokehJS not loaded, scheduling load and callback at\", now());\n    root._bokeh_is_loading = js_urls.length;\n    for (var i = 0; i < js_urls.length; i++) {\n      var url = js_urls[i];\n      var s = document.createElement('script');\n      s.src = url;\n      s.async = false;\n      s.onreadystatechange = s.onload = function() {\n        root._bokeh_is_loading--;\n        if (root._bokeh_is_loading === 0) {\n          console.log(\"Bokeh: all BokehJS libraries loaded\");\n          run_callbacks()\n        }\n      };\n      s.onerror = function() {\n        console.warn(\"failed to load library \" + url);\n      };\n      console.log(\"Bokeh: injecting script tag for BokehJS library: \", url);\n      document.getElementsByTagName(\"head\")[0].appendChild(s);\n    }\n  };var element = document.getElementById(\"f8662934-0ab5-43ae-b462-b8db79e65116\");\n  if (element == null) {\n    console.log(\"Bokeh: ERROR: autoload.js configured with elementid 'f8662934-0ab5-43ae-b462-b8db79e65116' but no matching script tag was found. \")\n    return false;\n  }\n\n  var js_urls = [\"https://cdn.pydata.org/bokeh/release/bokeh-0.12.10.min.js\", \"https://cdn.pydata.org/bokeh/release/bokeh-widgets-0.12.10.min.js\", \"https://cdn.pydata.org/bokeh/release/bokeh-tables-0.12.10.min.js\", \"https://cdn.pydata.org/bokeh/release/bokeh-gl-0.12.10.min.js\"];\n\n  var inline_js = [\n    function(Bokeh) {\n      Bokeh.set_log_level(\"info\");\n    },\n    \n    function(Bokeh) {\n      \n    },\n    function(Bokeh) {\n      console.log(\"Bokeh: injecting CSS: https://cdn.pydata.org/bokeh/release/bokeh-0.12.10.min.css\");\n      Bokeh.embed.inject_css(\"https://cdn.pydata.org/bokeh/release/bokeh-0.12.10.min.css\");\n      console.log(\"Bokeh: injecting CSS: https://cdn.pydata.org/bokeh/release/bokeh-widgets-0.12.10.min.css\");\n      Bokeh.embed.inject_css(\"https://cdn.pydata.org/bokeh/release/bokeh-widgets-0.12.10.min.css\");\n      console.log(\"Bokeh: injecting CSS: https://cdn.pydata.org/bokeh/release/bokeh-tables-0.12.10.min.css\");\n      Bokeh.embed.inject_css(\"https://cdn.pydata.org/bokeh/release/bokeh-tables-0.12.10.min.css\");\n    }\n  ];\n\n  function run_inline_js() {\n    \n    if ((root.Bokeh !== undefined) || (force === true)) {\n      for (var i = 0; i < inline_js.length; i++) {\n        inline_js[i].call(root, root.Bokeh);\n      }if (force === true) {\n        display_loaded();\n      }} else if (Date.now() < root._bokeh_timeout) {\n      setTimeout(run_inline_js, 100);\n    } else if (!root._bokeh_failed_load) {\n      console.log(\"Bokeh: BokehJS failed to load within specified timeout.\");\n      root._bokeh_failed_load = true;\n    } else if (force !== true) {\n      var cell = $(document.getElementById(\"f8662934-0ab5-43ae-b462-b8db79e65116\")).parents('.cell').data().cell;\n      cell.output_area.append_execute_result(NB_LOAD_WARNING)\n    }\n\n  }\n\n  if (root._bokeh_is_loading === 0) {\n    console.log(\"Bokeh: BokehJS loaded, going straight to plotting\");\n    run_inline_js();\n  } else {\n    load_libs(js_urls, function() {\n      console.log(\"Bokeh: BokehJS plotting callback run at\", now());\n      run_inline_js();\n    });\n  }\n}(window));"
     },
     "metadata": {},
     "output_type": "display_data"
    },
    {
     "data": {
      "text/html": [
       "\n",
       "<div class=\"bk-root\">\n",
       "    <div class=\"bk-plotdiv\" id=\"be5a59c7-1056-4799-8e87-8ef1a4faf0b0\"></div>\n",
       "</div>"
      ]
     },
     "metadata": {},
     "output_type": "display_data"
    },
    {
     "data": {
      "application/javascript": [
       "(function(root) {\n",
       "  function embed_document(root) {\n",
       "    var docs_json = {\"c6b8d820-4f99-4274-b676-288015516b6f\":{\"roots\":{\"references\":[{\"attributes\":{\"axis_label\":\"x\",\"formatter\":{\"id\":\"1dbd1eb1-071b-4aff-969b-7c1fded7eec0\",\"type\":\"BasicTickFormatter\"},\"plot\":{\"id\":\"c00f057a-9702-4bdb-a7c2-c245c799bc6c\",\"subtype\":\"Figure\",\"type\":\"Plot\"},\"ticker\":{\"id\":\"58759ce2-54c7-40ad-8215-5b639c38e648\",\"type\":\"BasicTicker\"}},\"id\":\"d69c3fcd-c43b-4521-a641-68517887fa34\",\"type\":\"LinearAxis\"},{\"attributes\":{},\"id\":\"6351bd04-9aca-4bcd-89fe-edee27b0a2e4\",\"type\":\"ResetTool\"},{\"attributes\":{},\"id\":\"58759ce2-54c7-40ad-8215-5b639c38e648\",\"type\":\"BasicTicker\"},{\"attributes\":{\"label\":{\"value\":\"Test\"},\"renderers\":[{\"id\":\"3c55cb6f-ac61-4c73-af74-ce9638af801f\",\"type\":\"GlyphRenderer\"}]},\"id\":\"b8fe3879-d2c6-45f2-906c-29ae6752f309\",\"type\":\"LegendItem\"},{\"attributes\":{\"below\":[{\"id\":\"d69c3fcd-c43b-4521-a641-68517887fa34\",\"type\":\"LinearAxis\"}],\"left\":[{\"id\":\"60342e7b-6cd3-483f-988d-4baa3d93d58f\",\"type\":\"LinearAxis\"}],\"renderers\":[{\"id\":\"d69c3fcd-c43b-4521-a641-68517887fa34\",\"type\":\"LinearAxis\"},{\"id\":\"98535a2d-8785-4a69-bf5c-a05683e31eb1\",\"type\":\"Grid\"},{\"id\":\"60342e7b-6cd3-483f-988d-4baa3d93d58f\",\"type\":\"LinearAxis\"},{\"id\":\"2cdff959-b6e6-4693-be69-9048861c4f2b\",\"type\":\"Grid\"},{\"id\":\"4e0d3594-79d7-4ad5-ae4c-9aec67647cdd\",\"type\":\"BoxAnnotation\"},{\"id\":\"90fad82b-c544-4f5a-a1bb-82bcc9c4a5f2\",\"type\":\"Legend\"},{\"id\":\"3c55cb6f-ac61-4c73-af74-ce9638af801f\",\"type\":\"GlyphRenderer\"}],\"title\":{\"id\":\"a95ebac8-205d-4796-9aa7-9f79188ea8b2\",\"type\":\"Title\"},\"toolbar\":{\"id\":\"a9a6138b-c9e1-46da-8a48-af48613f6d5f\",\"type\":\"Toolbar\"},\"x_range\":{\"id\":\"d0bdbff8-e285-4a93-8ac1-48ca6cc94616\",\"type\":\"DataRange1d\"},\"x_scale\":{\"id\":\"5a7284ab-9fa3-4245-9fb7-9d0a6a6395ff\",\"type\":\"LinearScale\"},\"y_range\":{\"id\":\"a4dd0d2c-53a5-42e4-aa5c-9a4be03f1c34\",\"type\":\"DataRange1d\"},\"y_scale\":{\"id\":\"9a9082f9-7871-4d66-8ce3-862dfce6914c\",\"type\":\"LinearScale\"}},\"id\":\"c00f057a-9702-4bdb-a7c2-c245c799bc6c\",\"subtype\":\"Figure\",\"type\":\"Plot\"},{\"attributes\":{\"plot\":null,\"text\":\"Line example\"},\"id\":\"a95ebac8-205d-4796-9aa7-9f79188ea8b2\",\"type\":\"Title\"},{\"attributes\":{\"source\":{\"id\":\"227d9122-79b5-4f0b-999c-69de682f5131\",\"type\":\"ColumnDataSource\"}},\"id\":\"03c95d20-cd69-426c-b3a4-12cf013ccac5\",\"type\":\"CDSView\"},{\"attributes\":{},\"id\":\"9a9082f9-7871-4d66-8ce3-862dfce6914c\",\"type\":\"LinearScale\"},{\"attributes\":{\"dimension\":1,\"plot\":{\"id\":\"c00f057a-9702-4bdb-a7c2-c245c799bc6c\",\"subtype\":\"Figure\",\"type\":\"Plot\"},\"ticker\":{\"id\":\"8b992db8-0e89-4b18-8fe0-0787b5eb3c01\",\"type\":\"BasicTicker\"}},\"id\":\"2cdff959-b6e6-4693-be69-9048861c4f2b\",\"type\":\"Grid\"},{\"attributes\":{\"data_source\":{\"id\":\"227d9122-79b5-4f0b-999c-69de682f5131\",\"type\":\"ColumnDataSource\"},\"glyph\":{\"id\":\"9c523de7-2d28-4226-93e4-5347b9144c4a\",\"type\":\"Line\"},\"hover_glyph\":null,\"muted_glyph\":null,\"nonselection_glyph\":{\"id\":\"fbfac9af-32f0-4652-b9a5-4667da3d1474\",\"type\":\"Line\"},\"selection_glyph\":null,\"view\":{\"id\":\"03c95d20-cd69-426c-b3a4-12cf013ccac5\",\"type\":\"CDSView\"}},\"id\":\"3c55cb6f-ac61-4c73-af74-ce9638af801f\",\"type\":\"GlyphRenderer\"},{\"attributes\":{\"callback\":null},\"id\":\"a4dd0d2c-53a5-42e4-aa5c-9a4be03f1c34\",\"type\":\"DataRange1d\"},{\"attributes\":{},\"id\":\"1dbd1eb1-071b-4aff-969b-7c1fded7eec0\",\"type\":\"BasicTickFormatter\"},{\"attributes\":{\"axis_label\":\"y\",\"formatter\":{\"id\":\"bfff5083-bdd9-4f00-82f8-e9b30ad32b11\",\"type\":\"BasicTickFormatter\"},\"plot\":{\"id\":\"c00f057a-9702-4bdb-a7c2-c245c799bc6c\",\"subtype\":\"Figure\",\"type\":\"Plot\"},\"ticker\":{\"id\":\"8b992db8-0e89-4b18-8fe0-0787b5eb3c01\",\"type\":\"BasicTicker\"}},\"id\":\"60342e7b-6cd3-483f-988d-4baa3d93d58f\",\"type\":\"LinearAxis\"},{\"attributes\":{},\"id\":\"43c742dc-e248-4120-bf13-a49c3c67c13d\",\"type\":\"WheelZoomTool\"},{\"attributes\":{\"callback\":null},\"id\":\"d0bdbff8-e285-4a93-8ac1-48ca6cc94616\",\"type\":\"DataRange1d\"},{\"attributes\":{\"callback\":null,\"column_names\":[\"x\",\"y\"],\"data\":{\"x\":[1,2,3,4,5],\"y\":[10,5,7,1,6]}},\"id\":\"227d9122-79b5-4f0b-999c-69de682f5131\",\"type\":\"ColumnDataSource\"},{\"attributes\":{\"plot\":{\"id\":\"c00f057a-9702-4bdb-a7c2-c245c799bc6c\",\"subtype\":\"Figure\",\"type\":\"Plot\"},\"ticker\":{\"id\":\"58759ce2-54c7-40ad-8215-5b639c38e648\",\"type\":\"BasicTicker\"}},\"id\":\"98535a2d-8785-4a69-bf5c-a05683e31eb1\",\"type\":\"Grid\"},{\"attributes\":{},\"id\":\"8b992db8-0e89-4b18-8fe0-0787b5eb3c01\",\"type\":\"BasicTicker\"},{\"attributes\":{\"bottom_units\":\"screen\",\"fill_alpha\":{\"value\":0.5},\"fill_color\":{\"value\":\"lightgrey\"},\"left_units\":\"screen\",\"level\":\"overlay\",\"line_alpha\":{\"value\":1.0},\"line_color\":{\"value\":\"black\"},\"line_dash\":[4,4],\"line_width\":{\"value\":2},\"plot\":null,\"render_mode\":\"css\",\"right_units\":\"screen\",\"top_units\":\"screen\"},\"id\":\"4e0d3594-79d7-4ad5-ae4c-9aec67647cdd\",\"type\":\"BoxAnnotation\"},{\"attributes\":{\"items\":[{\"id\":\"b8fe3879-d2c6-45f2-906c-29ae6752f309\",\"type\":\"LegendItem\"}],\"plot\":{\"id\":\"c00f057a-9702-4bdb-a7c2-c245c799bc6c\",\"subtype\":\"Figure\",\"type\":\"Plot\"}},\"id\":\"90fad82b-c544-4f5a-a1bb-82bcc9c4a5f2\",\"type\":\"Legend\"},{\"attributes\":{\"active_drag\":\"auto\",\"active_inspect\":\"auto\",\"active_scroll\":\"auto\",\"active_tap\":\"auto\",\"tools\":[{\"id\":\"3137c39e-be22-4a9a-9bef-2348ee28c1dd\",\"type\":\"PanTool\"},{\"id\":\"43c742dc-e248-4120-bf13-a49c3c67c13d\",\"type\":\"WheelZoomTool\"},{\"id\":\"7122ebb9-d399-41d5-aca5-431f1a5036b3\",\"type\":\"BoxZoomTool\"},{\"id\":\"a8870cef-75fb-46c7-98aa-0a46f3973a79\",\"type\":\"SaveTool\"},{\"id\":\"6351bd04-9aca-4bcd-89fe-edee27b0a2e4\",\"type\":\"ResetTool\"},{\"id\":\"5cfd78bb-c997-47cb-830c-eb46d793d487\",\"type\":\"HelpTool\"}]},\"id\":\"a9a6138b-c9e1-46da-8a48-af48613f6d5f\",\"type\":\"Toolbar\"},{\"attributes\":{},\"id\":\"bfff5083-bdd9-4f00-82f8-e9b30ad32b11\",\"type\":\"BasicTickFormatter\"},{\"attributes\":{},\"id\":\"3137c39e-be22-4a9a-9bef-2348ee28c1dd\",\"type\":\"PanTool\"},{\"attributes\":{\"overlay\":{\"id\":\"4e0d3594-79d7-4ad5-ae4c-9aec67647cdd\",\"type\":\"BoxAnnotation\"}},\"id\":\"7122ebb9-d399-41d5-aca5-431f1a5036b3\",\"type\":\"BoxZoomTool\"},{\"attributes\":{\"line_color\":{\"value\":\"#1f77b4\"},\"line_width\":{\"value\":4},\"x\":{\"field\":\"x\"},\"y\":{\"field\":\"y\"}},\"id\":\"9c523de7-2d28-4226-93e4-5347b9144c4a\",\"type\":\"Line\"},{\"attributes\":{\"line_alpha\":{\"value\":0.1},\"line_color\":{\"value\":\"#1f77b4\"},\"line_width\":{\"value\":4},\"x\":{\"field\":\"x\"},\"y\":{\"field\":\"y\"}},\"id\":\"fbfac9af-32f0-4652-b9a5-4667da3d1474\",\"type\":\"Line\"},{\"attributes\":{},\"id\":\"5a7284ab-9fa3-4245-9fb7-9d0a6a6395ff\",\"type\":\"LinearScale\"},{\"attributes\":{},\"id\":\"a8870cef-75fb-46c7-98aa-0a46f3973a79\",\"type\":\"SaveTool\"},{\"attributes\":{},\"id\":\"5cfd78bb-c997-47cb-830c-eb46d793d487\",\"type\":\"HelpTool\"}],\"root_ids\":[\"c00f057a-9702-4bdb-a7c2-c245c799bc6c\"]},\"title\":\"Bokeh Application\",\"version\":\"0.12.10\"}};\n",
       "    var render_items = [{\"docid\":\"c6b8d820-4f99-4274-b676-288015516b6f\",\"elementid\":\"be5a59c7-1056-4799-8e87-8ef1a4faf0b0\",\"modelid\":\"c00f057a-9702-4bdb-a7c2-c245c799bc6c\"}];\n",
       "\n",
       "    root.Bokeh.embed.embed_items(docs_json, render_items);\n",
       "  }\n",
       "\n",
       "  if (root.Bokeh !== undefined) {\n",
       "    embed_document(root);\n",
       "  } else {\n",
       "    var attempts = 0;\n",
       "    var timer = setInterval(function(root) {\n",
       "      if (root.Bokeh !== undefined) {\n",
       "        embed_document(root);\n",
       "        clearInterval(timer);\n",
       "      }\n",
       "      attempts++;\n",
       "      if (attempts > 100) {\n",
       "        console.log(\"Bokeh: ERROR: Unable to embed document because BokehJS library is missing\")\n",
       "        clearInterval(timer);\n",
       "      }\n",
       "    }, 10, root)\n",
       "  }\n",
       "})(window);"
      ],
      "application/vnd.bokehjs_exec.v0+json": ""
     },
     "metadata": {
      "application/vnd.bokehjs_exec.v0+json": {
       "id": "c00f057a-9702-4bdb-a7c2-c245c799bc6c"
      }
     },
     "output_type": "display_data"
    }
   ],
   "source": [
    "from bokeh.plotting import figure, output_notebook, show\n",
    "\n",
    "output_notebook()\n",
    "\n",
    "x = range(1, 6)\n",
    "y = [10, 5, 7, 1, 6]\n",
    "plot = figure(title='Line example', x_axis_label='x', y_axis_label='y')\n",
    "plot.line(x, y, legend='Test', line_width=4)\n",
    "show(plot)"
   ]
  },
  {
   "cell_type": "markdown",
   "metadata": {},
   "source": [
    "Bokeh 的[快速入门指南](http://bokeh.pydata.org/en/latest/docs/user_guide/quickstart.html#userguide-quickstart)已经提供了一个在网格线上绘制一系列正弦波的简明例子。我稍微削减了代码，只留下一个正弦波。注意了，要让下面的例子能正常执行，你需要先安装好 `NumPy`。"
   ]
  },
  {
   "cell_type": "code",
   "execution_count": 8,
   "metadata": {
    "ExecuteTime": {
     "end_time": "2018-02-28T02:27:58.255911Z",
     "start_time": "2018-02-28T02:27:57.924029Z"
    }
   },
   "outputs": [
    {
     "data": {
      "text/html": [
       "\n",
       "<div class=\"bk-root\">\n",
       "    <div class=\"bk-plotdiv\" id=\"61956f09-5060-430a-9d13-b544ff661729\"></div>\n",
       "</div>"
      ]
     },
     "metadata": {},
     "output_type": "display_data"
    },
    {
     "data": {
      "application/javascript": [
       "(function(root) {\n",
       "  function embed_document(root) {\n",
       "    var docs_json = {\"cfb0a941-676d-48b5-89a1-233f19c7c590\":{\"roots\":{\"references\":[{\"attributes\":{},\"id\":\"e2080b8a-8318-48be-a90e-4595f33e1b0d\",\"type\":\"BasicTickFormatter\"},{\"attributes\":{\"active_drag\":\"auto\",\"active_inspect\":\"auto\",\"active_scroll\":\"auto\",\"active_tap\":\"auto\",\"tools\":[{\"id\":\"f6cd602e-43b4-4186-8ab1-51694772d1b0\",\"type\":\"PanTool\"},{\"id\":\"a93f737b-40ba-4659-a554-39b841fa7318\",\"type\":\"WheelZoomTool\"},{\"id\":\"f3a0c120-da0d-456e-9433-6d37a50730b9\",\"type\":\"BoxZoomTool\"},{\"id\":\"cbce55c4-90f6-4ab7-892e-5d3a842c0f67\",\"type\":\"SaveTool\"},{\"id\":\"9796cdc6-c62f-431c-970f-167d74e926e7\",\"type\":\"ResetTool\"},{\"id\":\"ddbeb377-6d8c-48cb-a7ed-08f8cff5ba2b\",\"type\":\"HelpTool\"}]},\"id\":\"10cdd9dc-ff43-4804-bbbf-690aa5e97fc9\",\"type\":\"Toolbar\"},{\"attributes\":{},\"id\":\"a93f737b-40ba-4659-a554-39b841fa7318\",\"type\":\"WheelZoomTool\"},{\"attributes\":{},\"id\":\"1be04d86-4675-4886-b3e6-65b3ce14a1e8\",\"type\":\"LinearScale\"},{\"attributes\":{\"formatter\":{\"id\":\"e2080b8a-8318-48be-a90e-4595f33e1b0d\",\"type\":\"BasicTickFormatter\"},\"plot\":{\"id\":\"c3bd251d-9d1a-42ac-a22f-5ae3f411811b\",\"subtype\":\"Figure\",\"type\":\"Plot\"},\"ticker\":{\"id\":\"801952e7-c6b5-4f70-8516-a9c42e0e146b\",\"type\":\"BasicTicker\"}},\"id\":\"4c131ceb-0756-4375-8811-da8043564444\",\"type\":\"LinearAxis\"},{\"attributes\":{\"fill_alpha\":{\"value\":0.5},\"fill_color\":{\"value\":\"navy\"},\"line_alpha\":{\"value\":0.5},\"line_color\":{\"value\":\"navy\"},\"size\":{\"units\":\"screen\",\"value\":10},\"x\":{\"field\":\"x\"},\"y\":{\"field\":\"y\"}},\"id\":\"3df8f0e5-dce0-426f-b1df-b84b3be579ea\",\"type\":\"Circle\"},{\"attributes\":{\"plot\":null,\"text\":\"Sine\"},\"id\":\"44182815-fb3c-4bac-b524-954da8ce97c8\",\"type\":\"Title\"},{\"attributes\":{},\"id\":\"cbce55c4-90f6-4ab7-892e-5d3a842c0f67\",\"type\":\"SaveTool\"},{\"attributes\":{},\"id\":\"f6cd602e-43b4-4186-8ab1-51694772d1b0\",\"type\":\"PanTool\"},{\"attributes\":{},\"id\":\"9796cdc6-c62f-431c-970f-167d74e926e7\",\"type\":\"ResetTool\"},{\"attributes\":{},\"id\":\"e9735b2d-b71c-4dba-85ae-9925fb0ca372\",\"type\":\"LinearScale\"},{\"attributes\":{\"callback\":null,\"column_names\":[\"x\",\"y\"],\"data\":{\"x\":{\"__ndarray__\":\"AAAAAAAAAACRGkt8Vz/AP5EaS3xXP9A/2qdwOgNf2D+RGkt8Vz/gPzXhXVstT+Q/2qdwOgNf6D9+boMZ2W7sP5EaS3xXP/A/433Ua0JH8j814V1bLU/0P4dE50oYV/Y/2qdwOgNf+D8sC/op7mb6P35ugxnZbvw/0NEMCcR2/j+RGkt8Vz8AQDrMD/RMQwFA433Ua0JHAkCML5njN0sDQDXhXVstTwRA3pIi0yJTBUCHROdKGFcGQDD2q8INWwdA2qdwOgNfCECDWTWy+GIJQCwL+inuZgpA1by+oeNqC0B+boMZ2W4MQCcgSJHOcg1A0NEMCcR2DkB5g9GAuXoPQJEaS3xXPxBAZnMtOFLBEEA6zA/0TEMRQA8l8q9HxRFA433Ua0JHEkC41rYnPckSQIwvmeM3SxNAYYh7nzLNE0A14V1bLU8UQAo6QBco0RRA3pIi0yJTFUCz6wSPHdUVQIdE50oYVxZAXJ3JBhPZFkAw9qvCDVsXQAVPjn4I3RdA2qdwOgNfGECuAFP2/eAYQINZNbL4YhlAV7IXbvPkGUAsC/op7mYaQABk3OXo6BpA1by+oeNqG0CpFaFd3uwbQH5ugxnZbhxAUsdl1dPwHEAnIEiRznIdQPt4Kk3J9B1A0NEMCcR2HkCkKu/EvvgeQHmD0YC5eh9ATdyzPLT8H0CRGkt8Vz8gQPtGPNpUgCBAZnMtOFLBIEDQnx6WTwIhQDrMD/RMQyFApPgAUkqEIUAPJfKvR8UhQHlR4w1FBiJA433Ua0JHIkBNqsXJP4giQLjWtic9ySJAIgOohToKI0CML5njN0sjQPZbikE1jCNAYYh7nzLNI0DLtGz9Lw4kQDXhXVstTyRAoA1PuSqQJEAKOkAXKNEkQHRmMXUlEiVA3pIi0yJTJUBJvxMxIJQlQLPrBI8d1SVAHRj27BoWJkCHROdKGFcmQPJw2KgVmCZAXJ3JBhPZJkDGybpkEBonQDD2q8INWydAmyKdIAucJ0AFT45+CN0nQG97f9wFHihA2qdwOgNfKEBE1GGYAKAoQK4AU/b94ChAGC1EVPshKUA=\",\"dtype\":\"float64\",\"shape\":[100]},\"y\":{\"__ndarray__\":\"AAAAAAAAAADwgwJ4LjTAP5qI2QHPEtA/+5MNU1HJ1z8ZTT7q2B3fP0aFmgwa+eI/ABg/lCAV5j+IQCEcMdboP3fOhmLzMOs/EyzujrQb7T/9Izwlj47uPxccgYyLg+8/g6xao7j27z9mZrL8O+bvP7+X94FZUu8/xVNiW3I97j9RB8Ai+6vsP5FWKYlppOo/oSg6uxkv6D/Sh2bxK1blPyZGRbpaJeI/8qg+VZVT3T/4C4p0qOPVP+UppLIiM8w/3FNHxZdVuD/J23zJpD6gv+3ENsZjOcS/wo12/ecH0r/dgWKM2KjZv2MTsJELcOC/83ixWvXH47+358MBZM7mv5eCD4nhdum/rExY6Hq267+TIxAn7YPtvwSssILL1+6/70I4BJ6s77/vOc8G+P7vvzTGy1KGze+/3176khQZ77/C8a4NiuTtvzGcHq/dNOy/l0FFlgER6r+EGZN4xoHnvx8WPFK3keS/Cli7+O1M4b+HQNqEwoHbv9kfIiFb+NO/gKyggGI5yL8EhrXMjDywvyGGtcyMPLA/jqyggGI5yD/gHyIhW/jTP4BA2oTCgds/DVi7+O1M4T8cFjxSt5HkP4cZk3jGgec/lUFFlgER6j8ynB6v3TTsP8Hxrg2K5O0/4F76khQZ7z80xstShs3vP+85zwb4/u8/8EI4BJ6s7z8DrLCCy9fuP5UjECftg+0/p0xY6Hq26z+Vgg+J4XbpP7fnwwFkzuY/9nixWvXH4z9dE7CRC3DgP9eBYozYqNk/w412/ecH0j/+xDbGYznEP0/bfMmkPqA/+FNHxZdVuL/UKaSyIjPMv+gLinSo49W/+Kg+VZVT3b8lRkW6WiXiv8+HZvErVuW/pig6uxkv6L+TVimJaaTqv1EHwCL7q+y/xFNiW3I97r/Al/eBWVLvv2Zmsvw75u+/g6xao7j2778YHIGMi4Pvv/sjPCWPju6/EyzujrQb7b94zoZi8zDrv4xAIRwx1ui//Bc/lCAV5r9GhZoMGvnivx5NPurYHd+/65MNU1HJ17+SiNkBzxLQv/GDAnguNMC/B1wUMyamwbw=\",\"dtype\":\"float64\",\"shape\":[100]}}},\"id\":\"4e6e583b-2dbd-433a-a8f2-f4a4b89ef4f5\",\"type\":\"ColumnDataSource\"},{\"attributes\":{\"dimension\":1,\"plot\":{\"id\":\"c3bd251d-9d1a-42ac-a22f-5ae3f411811b\",\"subtype\":\"Figure\",\"type\":\"Plot\"},\"ticker\":{\"id\":\"801952e7-c6b5-4f70-8516-a9c42e0e146b\",\"type\":\"BasicTicker\"}},\"id\":\"8fa817cd-ec50-438f-8648-496305c5435c\",\"type\":\"Grid\"},{\"attributes\":{},\"id\":\"ddbeb377-6d8c-48cb-a7ed-08f8cff5ba2b\",\"type\":\"HelpTool\"},{\"attributes\":{\"children\":[{\"id\":\"c3bd251d-9d1a-42ac-a22f-5ae3f411811b\",\"subtype\":\"Figure\",\"type\":\"Plot\"}]},\"id\":\"4fce5654-e4f0-43c8-a0f6-410ddce0c47d\",\"type\":\"Row\"},{\"attributes\":{\"plot\":{\"id\":\"c3bd251d-9d1a-42ac-a22f-5ae3f411811b\",\"subtype\":\"Figure\",\"type\":\"Plot\"},\"ticker\":{\"id\":\"ffe0d7ea-552d-4daa-8b27-1f2765d11e4f\",\"type\":\"BasicTicker\"}},\"id\":\"45b8ebb0-b192-49aa-83b8-bd81615add29\",\"type\":\"Grid\"},{\"attributes\":{\"formatter\":{\"id\":\"b4f2e997-d133-4c36-9925-b53b12405b52\",\"type\":\"BasicTickFormatter\"},\"plot\":{\"id\":\"c3bd251d-9d1a-42ac-a22f-5ae3f411811b\",\"subtype\":\"Figure\",\"type\":\"Plot\"},\"ticker\":{\"id\":\"ffe0d7ea-552d-4daa-8b27-1f2765d11e4f\",\"type\":\"BasicTicker\"}},\"id\":\"47e10236-c0e3-4e12-bc5c-2e5ec6de2be0\",\"type\":\"LinearAxis\"},{\"attributes\":{\"bottom_units\":\"screen\",\"fill_alpha\":{\"value\":0.5},\"fill_color\":{\"value\":\"lightgrey\"},\"left_units\":\"screen\",\"level\":\"overlay\",\"line_alpha\":{\"value\":1.0},\"line_color\":{\"value\":\"black\"},\"line_dash\":[4,4],\"line_width\":{\"value\":2},\"plot\":null,\"render_mode\":\"css\",\"right_units\":\"screen\",\"top_units\":\"screen\"},\"id\":\"cdd01aea-46ef-44bc-b901-f71b39ac4a41\",\"type\":\"BoxAnnotation\"},{\"attributes\":{},\"id\":\"801952e7-c6b5-4f70-8516-a9c42e0e146b\",\"type\":\"BasicTicker\"},{\"attributes\":{\"children\":[{\"id\":\"4fce5654-e4f0-43c8-a0f6-410ddce0c47d\",\"type\":\"Row\"}]},\"id\":\"11441203-0df9-4f14-bfef-eaf28f426719\",\"type\":\"Column\"},{\"attributes\":{\"callback\":null},\"id\":\"55a96539-007b-45a2-ba51-f5995d833703\",\"type\":\"DataRange1d\"},{\"attributes\":{\"data_source\":{\"id\":\"4e6e583b-2dbd-433a-a8f2-f4a4b89ef4f5\",\"type\":\"ColumnDataSource\"},\"glyph\":{\"id\":\"3df8f0e5-dce0-426f-b1df-b84b3be579ea\",\"type\":\"Circle\"},\"hover_glyph\":null,\"muted_glyph\":null,\"nonselection_glyph\":{\"id\":\"4d563c1c-df88-4178-a5ca-02791d887c40\",\"type\":\"Circle\"},\"selection_glyph\":null,\"view\":{\"id\":\"4d1b82b6-957e-449f-8ca8-35bb30dcf678\",\"type\":\"CDSView\"}},\"id\":\"f905a869-3cac-4ec0-a425-5b25f904c683\",\"type\":\"GlyphRenderer\"},{\"attributes\":{},\"id\":\"b4f2e997-d133-4c36-9925-b53b12405b52\",\"type\":\"BasicTickFormatter\"},{\"attributes\":{\"source\":{\"id\":\"4e6e583b-2dbd-433a-a8f2-f4a4b89ef4f5\",\"type\":\"ColumnDataSource\"}},\"id\":\"4d1b82b6-957e-449f-8ca8-35bb30dcf678\",\"type\":\"CDSView\"},{\"attributes\":{},\"id\":\"ffe0d7ea-552d-4daa-8b27-1f2765d11e4f\",\"type\":\"BasicTicker\"},{\"attributes\":{\"fill_alpha\":{\"value\":0.1},\"fill_color\":{\"value\":\"#1f77b4\"},\"line_alpha\":{\"value\":0.1},\"line_color\":{\"value\":\"#1f77b4\"},\"size\":{\"units\":\"screen\",\"value\":10},\"x\":{\"field\":\"x\"},\"y\":{\"field\":\"y\"}},\"id\":\"4d563c1c-df88-4178-a5ca-02791d887c40\",\"type\":\"Circle\"},{\"attributes\":{\"callback\":null},\"id\":\"b18a07cf-6884-4696-93b6-5538828b772c\",\"type\":\"DataRange1d\"},{\"attributes\":{\"overlay\":{\"id\":\"cdd01aea-46ef-44bc-b901-f71b39ac4a41\",\"type\":\"BoxAnnotation\"}},\"id\":\"f3a0c120-da0d-456e-9433-6d37a50730b9\",\"type\":\"BoxZoomTool\"},{\"attributes\":{\"below\":[{\"id\":\"47e10236-c0e3-4e12-bc5c-2e5ec6de2be0\",\"type\":\"LinearAxis\"}],\"left\":[{\"id\":\"4c131ceb-0756-4375-8811-da8043564444\",\"type\":\"LinearAxis\"}],\"plot_height\":500,\"plot_width\":500,\"renderers\":[{\"id\":\"47e10236-c0e3-4e12-bc5c-2e5ec6de2be0\",\"type\":\"LinearAxis\"},{\"id\":\"45b8ebb0-b192-49aa-83b8-bd81615add29\",\"type\":\"Grid\"},{\"id\":\"4c131ceb-0756-4375-8811-da8043564444\",\"type\":\"LinearAxis\"},{\"id\":\"8fa817cd-ec50-438f-8648-496305c5435c\",\"type\":\"Grid\"},{\"id\":\"cdd01aea-46ef-44bc-b901-f71b39ac4a41\",\"type\":\"BoxAnnotation\"},{\"id\":\"f905a869-3cac-4ec0-a425-5b25f904c683\",\"type\":\"GlyphRenderer\"}],\"title\":{\"id\":\"44182815-fb3c-4bac-b524-954da8ce97c8\",\"type\":\"Title\"},\"toolbar\":{\"id\":\"10cdd9dc-ff43-4804-bbbf-690aa5e97fc9\",\"type\":\"Toolbar\"},\"toolbar_location\":null,\"x_range\":{\"id\":\"b18a07cf-6884-4696-93b6-5538828b772c\",\"type\":\"DataRange1d\"},\"x_scale\":{\"id\":\"1be04d86-4675-4886-b3e6-65b3ce14a1e8\",\"type\":\"LinearScale\"},\"y_range\":{\"id\":\"55a96539-007b-45a2-ba51-f5995d833703\",\"type\":\"DataRange1d\"},\"y_scale\":{\"id\":\"e9735b2d-b71c-4dba-85ae-9925fb0ca372\",\"type\":\"LinearScale\"}},\"id\":\"c3bd251d-9d1a-42ac-a22f-5ae3f411811b\",\"subtype\":\"Figure\",\"type\":\"Plot\"}],\"root_ids\":[\"11441203-0df9-4f14-bfef-eaf28f426719\"]},\"title\":\"Bokeh Application\",\"version\":\"0.12.10\"}};\n",
       "    var render_items = [{\"docid\":\"cfb0a941-676d-48b5-89a1-233f19c7c590\",\"elementid\":\"61956f09-5060-430a-9d13-b544ff661729\",\"modelid\":\"11441203-0df9-4f14-bfef-eaf28f426719\"}];\n",
       "\n",
       "    root.Bokeh.embed.embed_items(docs_json, render_items);\n",
       "  }\n",
       "\n",
       "  if (root.Bokeh !== undefined) {\n",
       "    embed_document(root);\n",
       "  } else {\n",
       "    var attempts = 0;\n",
       "    var timer = setInterval(function(root) {\n",
       "      if (root.Bokeh !== undefined) {\n",
       "        embed_document(root);\n",
       "        clearInterval(timer);\n",
       "      }\n",
       "      attempts++;\n",
       "      if (attempts > 100) {\n",
       "        console.log(\"Bokeh: ERROR: Unable to embed document because BokehJS library is missing\")\n",
       "        clearInterval(timer);\n",
       "      }\n",
       "    }, 10, root)\n",
       "  }\n",
       "})(window);"
      ],
      "application/vnd.bokehjs_exec.v0+json": ""
     },
     "metadata": {
      "application/vnd.bokehjs_exec.v0+json": {
       "id": "11441203-0df9-4f14-bfef-eaf28f426719"
      }
     },
     "output_type": "display_data"
    }
   ],
   "source": [
    "import numpy as np\n",
    "\n",
    "from bokeh.layouts import gridplot\n",
    "from bokeh.plotting import figure, output_file, show\n",
    "\n",
    "N = 100\n",
    "x = np.linspace(0, 4*np.pi, N)\n",
    "y0 = np.sin(x)\n",
    "\n",
    "output_file('sinewave.html')\n",
    "\n",
    "sine = figure(width=500, plot_height=500, title='Sine')\n",
    "sine.circle(x, y0, size=10, color=\"navy\", alpha=0.5)\n",
    "\n",
    "p = gridplot([[sine]], toolbar_location=None)\n",
    "\n",
    "show(p)"
   ]
  },
  {
   "cell_type": "code",
   "execution_count": null,
   "metadata": {},
   "outputs": [],
   "source": []
  }
 ],
 "metadata": {
  "kernelspec": {
   "display_name": "Python 3",
   "language": "python",
   "name": "python3"
  },
  "language_info": {
   "codemirror_mode": {
    "name": "ipython",
    "version": 3
   },
   "file_extension": ".py",
   "mimetype": "text/x-python",
   "name": "python",
   "nbconvert_exporter": "python",
   "pygments_lexer": "ipython3",
   "version": "3.6.3"
  },
  "toc": {
   "nav_menu": {},
   "number_sections": true,
   "sideBar": true,
   "skip_h1_title": false,
   "title_cell": "Table of Contents",
   "title_sidebar": "Contents",
   "toc_cell": false,
   "toc_position": {},
   "toc_section_display": true,
   "toc_window_display": false
  },
  "varInspector": {
   "cols": {
    "lenName": 16,
    "lenType": 16,
    "lenVar": 40
   },
   "kernels_config": {
    "python": {
     "delete_cmd_postfix": "",
     "delete_cmd_prefix": "del ",
     "library": "var_list.py",
     "varRefreshCmd": "print(var_dic_list())"
    },
    "r": {
     "delete_cmd_postfix": ") ",
     "delete_cmd_prefix": "rm(",
     "library": "var_list.r",
     "varRefreshCmd": "cat(var_dic_list()) "
    }
   },
   "types_to_exclude": [
    "module",
    "function",
    "builtin_function_or_method",
    "instance",
    "_Feature"
   ],
   "window_display": false
  }
 },
 "nbformat": 4,
 "nbformat_minor": 2
}
