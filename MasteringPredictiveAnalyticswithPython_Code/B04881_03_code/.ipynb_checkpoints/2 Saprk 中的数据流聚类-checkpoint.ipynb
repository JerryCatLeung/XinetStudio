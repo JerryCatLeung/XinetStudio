{
 "cells": [
  {
   "cell_type": "code",
   "execution_count": 1,
   "metadata": {
    "ExecuteTime": {
     "end_time": "2018-03-04T04:03:35.221777Z",
     "start_time": "2018-03-04T04:03:34.887773Z"
    }
   },
   "outputs": [],
   "source": [
    "## import dependencies\n",
    "from pyspark import SparkContext\n",
    "from pyspark.streaming import StreamingContext\n",
    "from pyspark.mllib.clustering import StreamingKMeans\n",
    "from pyspark.mllib.linalg import Vectors\n",
    "from pyspark.mllib.regression import LabeledPoint\n",
    "import uuid\n",
    "import os\n",
    "os.environ[\"PYSPARK_PYTHON\"] = \"python3\""
   ]
  },
  {
   "cell_type": "code",
   "execution_count": 2,
   "metadata": {
    "ExecuteTime": {
     "end_time": "2018-03-04T04:03:41.227406Z",
     "start_time": "2018-03-04T04:03:35.819409Z"
    }
   },
   "outputs": [],
   "source": [
    "## spark Context and Streaming Spark Context\n",
    "job_uuid = 'job_'+ str(uuid.uuid4())\n",
    "\n",
    "sc = SparkContext( 'local', job_uuid)"
   ]
  },
  {
   "cell_type": "code",
   "execution_count": 3,
   "metadata": {
    "ExecuteTime": {
     "end_time": "2018-03-04T04:03:59.717855Z",
     "start_time": "2018-03-04T04:03:59.612503Z"
    }
   },
   "outputs": [],
   "source": [
    "sc.stop()"
   ]
  },
  {
   "cell_type": "code",
   "execution_count": 5,
   "metadata": {
    "ExecuteTime": {
     "end_time": "2018-03-04T04:05:09.865161Z",
     "start_time": "2018-03-04T04:05:09.590176Z"
    },
    "scrolled": false
   },
   "outputs": [],
   "source": [
    "# streaming\n",
    "sc = SparkContext('local', ' streaming-kmeans')\n",
    "ssc = StreamingContext(sc,10)"
   ]
  },
  {
   "cell_type": "code",
   "execution_count": 6,
   "metadata": {
    "ExecuteTime": {
     "end_time": "2018-03-04T04:05:29.291761Z",
     "start_time": "2018-03-04T04:05:28.844549Z"
    }
   },
   "outputs": [],
   "source": [
    "ssc.stop()"
   ]
  },
  {
   "cell_type": "code",
   "execution_count": 7,
   "metadata": {
    "ExecuteTime": {
     "end_time": "2018-03-04T04:05:33.749462Z",
     "start_time": "2018-03-04T04:05:33.714434Z"
    }
   },
   "outputs": [],
   "source": [
    "# helper function to parse the data\n",
    "class Parser():\n",
    "    def __init__(self,type='train',delimiter=',',num_elements=5, job_uuid=''):\n",
    "        self.type=type\n",
    "        self.delimiter=delimiter\n",
    "        self.num_elements=num_elements\n",
    "        self.job_uuid=job_uuid\n",
    "        \n",
    "    def parse(self,l):\n",
    "        try:\n",
    "            line = l.split(self.delimiter)    \n",
    "            if self.type=='test':\n",
    "                category = float(line[0])\n",
    "                feature_vector = Vectors.dense(line[1:])\n",
    "                return LabeledPoint(category, feature_vector)\n",
    "            elif self.type=='train':\n",
    "                category = -1\n",
    "                feature_vector = Vectors.dense(line)\n",
    "                return LabeledPoint(category, feature_vector)\n",
    "            else:\n",
    "                # log exceptions\n",
    "                f = open('/errors_events/{0}.txt'.format(self.job_uuid),'a')\n",
    "                f.write('Unknown type: {0}'.format(self.type))\n",
    "                f.close()\n",
    "        except:\n",
    "            # log errors\n",
    "            f = open('/error_events/{0}.txt'.format(self.job_uuid),'a')\n",
    "            f.write('Error parsing line: {0}'.format)\n",
    "            f.close()   \n"
   ]
  },
  {
   "cell_type": "code",
   "execution_count": 9,
   "metadata": {
    "ExecuteTime": {
     "end_time": "2018-03-04T04:06:04.109185Z",
     "start_time": "2018-03-04T04:06:03.643184Z"
    },
    "scrolled": true
   },
   "outputs": [],
   "source": [
    "# streaming\n",
    "sc = SparkContext('local', ' streaming-kmeans')\n",
    "ssc = StreamingContext(sc,10)\n",
    "\n",
    "num_features = 2\n",
    "training_parser = Parser('train',',',num_features,job_uuid)\n",
    "\n",
    "\n",
    "trainingData = ssc.textFileStream(\"/training_data\").\\\n",
    "    map(lambda x: training_parser.parse(x)).pprint()\n",
    "ssc.start()"
   ]
  },
  {
   "cell_type": "code",
   "execution_count": 11,
   "metadata": {
    "ExecuteTime": {
     "end_time": "2018-03-04T04:06:39.377703Z",
     "start_time": "2018-03-04T04:06:39.070971Z"
    }
   },
   "outputs": [],
   "source": [
    "ssc.stop()"
   ]
  },
  {
   "cell_type": "code",
   "execution_count": 12,
   "metadata": {
    "ExecuteTime": {
     "end_time": "2018-03-04T04:07:05.890844Z",
     "start_time": "2018-03-04T04:07:05.614813Z"
    }
   },
   "outputs": [],
   "source": [
    "num_features = 2\n",
    "num_clusters = 3\n",
    "\n",
    "# streaming\n",
    "sc = SparkContext('local', ' streaming-kmeans')\n",
    "ssc = StreamingContext(sc,10)\n",
    "\n",
    "training_parser = Parser('train',',',num_features,job_uuid)\n",
    "test_parser = Parser('test',',',num_features+1,job_uuid)\n",
    "\n",
    "trainingData = ssc.textFileStream(\"/training_data\").\\\n",
    "    map(lambda x: training_parser.parse(x)).map(lambda x: x.features).filter(lambda x: x is not None)\n",
    "testData = ssc.textFileStream(\"/test_data\").\\\n",
    "    map(lambda x: test_parser.parse(x)).filter(lambda x: x is not None)\n",
    "streaming_clustering = StreamingKMeans(k=num_clusters, decayFactor=1.0).\\\n",
    "    setRandomCenters(num_features,0,0)\n",
    "streaming_clustering.trainOn(trainingData)\n",
    "streaming_clustering.predictOnValues(testData.map(lambda x: (x.label, x.features))).\\\n",
    "    pprint()\n",
    "ssc.start()  "
   ]
  },
  {
   "cell_type": "code",
   "execution_count": null,
   "metadata": {},
   "outputs": [],
   "source": [
    "ssc.stop()"
   ]
  },
  {
   "cell_type": "code",
   "execution_count": null,
   "metadata": {},
   "outputs": [],
   "source": [
    "streaming_clustering.latestModel().clusterCenters"
   ]
  },
  {
   "cell_type": "code",
   "execution_count": null,
   "metadata": {
    "collapsed": true
   },
   "outputs": [],
   "source": [
    "import random\n",
    "labels = []\n",
    "for i in range(1, 100):\n",
    "    class_num = random.randint(1, 3)\n",
    "    labels.append(class_num)"
   ]
  },
  {
   "cell_type": "code",
   "execution_count": null,
   "metadata": {
    "collapsed": true
   },
   "outputs": [],
   "source": [
    "import numpy as np\n",
    "\n",
    "dists = {}\n",
    "dists[1] = lambda : [np.random.normal(1,1),np.random.normal(1,2)]\n",
    "dists[2] = lambda : [np.random.normal(3,1),np.random.normal(7,2)]\n",
    "dists[3] = lambda : [np.random.normal(7,1),np.random.normal(-10,1)]\n",
    "\n",
    "f=open('sample_train.txt','w')\n",
    "for i in labels:\n",
    "    f.write(\",\".join([str(n) for n in dists[i]()])+'\\n')\n",
    "f.close()\n",
    "\n",
    "f=open('sample_test.txt','w')\n",
    "for i in labels:\n",
    "    f.write(\",\".join([str(i)]+[str(n) for n in dists[i]()])+'\\n')\n",
    "f.close()"
   ]
  },
  {
   "cell_type": "code",
   "execution_count": null,
   "metadata": {},
   "outputs": [],
   "source": [
    "streaming_clustering.latestModel().centers"
   ]
  },
  {
   "cell_type": "code",
   "execution_count": null,
   "metadata": {},
   "outputs": [],
   "source": []
  }
 ],
 "metadata": {
  "kernelspec": {
   "display_name": "Python 3",
   "language": "python",
   "name": "python3"
  },
  "language_info": {
   "codemirror_mode": {
    "name": "ipython",
    "version": 3
   },
   "file_extension": ".py",
   "mimetype": "text/x-python",
   "name": "python",
   "nbconvert_exporter": "python",
   "pygments_lexer": "ipython3",
   "version": "3.6.3"
  },
  "toc": {
   "nav_menu": {},
   "number_sections": true,
   "sideBar": true,
   "skip_h1_title": false,
   "title_cell": "Table of Contents",
   "title_sidebar": "Contents",
   "toc_cell": false,
   "toc_position": {},
   "toc_section_display": true,
   "toc_window_display": false
  },
  "varInspector": {
   "cols": {
    "lenName": 16,
    "lenType": 16,
    "lenVar": 40
   },
   "kernels_config": {
    "python": {
     "delete_cmd_postfix": "",
     "delete_cmd_prefix": "del ",
     "library": "var_list.py",
     "varRefreshCmd": "print(var_dic_list())"
    },
    "r": {
     "delete_cmd_postfix": ") ",
     "delete_cmd_prefix": "rm(",
     "library": "var_list.r",
     "varRefreshCmd": "cat(var_dic_list()) "
    }
   },
   "types_to_exclude": [
    "module",
    "function",
    "builtin_function_or_method",
    "instance",
    "_Feature"
   ],
   "window_display": false
  }
 },
 "nbformat": 4,
 "nbformat_minor": 1
}
