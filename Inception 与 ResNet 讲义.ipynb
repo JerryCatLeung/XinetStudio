{
 "cells": [
  {
   "cell_type": "markdown",
   "metadata": {},
   "source": [
    "## 引子"
   ]
  },
  {
   "cell_type": "markdown",
   "metadata": {},
   "source": [
    "机器学习，也被称为统计机器学习，其基本思想是基于数据构建统计模型，并利用模型对数据进行分析和预测的一门学科。\n",
    "\n",
    "机器学习最基本的做法是使用算法来解析数据，从数据中学习到规律，然后对真实世界中的事件做出决策或预测。\n",
    "\n",
    "机器学习按其实现的目标可划分为：监督学习、无监督学习和强化学习。\n",
    "\n",
    "- **监督学习**（Supervised Learning）：使用带有标签的训练数据集进行训练。目标是可以对新数据进行预测。\n",
    "- **无监督学习**（Unsupervised Learning）：使用无标签的训练数据集进行训练。目标是对原始数据结构进行深入的分析，找出数据间的规律和关系。\n",
    "- **强化学习**（reinforcement Learning）：也叫增强学习，强调如何基于环境而行动，以取得最大化的预期利益。其灵感来源于心理学的行为主义理论，即有机体如何在环境给予的奖励或惩罚的刺激下，逐步形成对刺激的预期，产生能获得最大化利益的习惯性行为。\n",
    "\n",
    "强化学习更加专注于在线规划，需要在探索未知的领域和遵从现有知识之间找到平衡，它的学习过程是一个从实际环境中不断学习积累，不断进化的过程。因此，强化学习更接近生物学习的本质。\n",
    "\n",
    "# 关于机器学习[^1]\n",
    "给定任意集合 $\\cal{H}$（相当于假设类或模型）和定义域 $\\mit{Z}$，令 $\\scr{l}$ 为 $\\cal{H} \\times \\mit{Z}$ 到非负实数的一个映射函数，$\\color {#a1f} {\\scr{l}:\\cal{H} \\times \\mit{Z} \\to \\Bbb{R_+}}$。我们称其为**广义损失函数**。这里我们允许 $\\mit{Z}$ 可以是任意形式的定义域。\n",
    "\n",
    "\n",
    "\n",
    "我们可以定义损失函数为其期望损失，$\\mit{h} \\in \\cal{H}$，$\\mit{Z}$ 上的概率分布为 $\\cal{D}$：\n",
    "\\begin{align}\n",
    "\\mit{L}_{\\cal{D}} (\\mit{h}) \\stackrel{def}{=} \\Bbb{E}_{\\mit{z} \\sim \\cal{D}} \\sf[ \\scr{l}\\mit{(h,z)} \\sf]\n",
    "\\end{align}\n",
    "\n",
    "对于给定数据集 $\\mit{S=(z_1, \\cdots, z_m) \\in Z^m}$ （$\\mit{S}$ 是按独立同分布 $\\cal{D}$ 采样得到的，即 $\\mit{z}$ 是从分布 $\\cal{D}$ 上随机采集到的）可以定义其经验风险为：\n",
    "\\begin{align}\n",
    "\tL_{S} (h) \\stackrel{def}{=} \\frac{1}{m} \\sum_{i=1}^{m} \\scr{l}\\mit(h,z_i)\n",
    "\\end{align}\n",
    "\n",
    "[^1]: https://item.jd.com/11992568.html\n",
    "\n",
    "我们的目标是找到使得 $\\mit{L}_{\\cal{D}}(h)$ 最小的 $\\mit {h}$，即：\n",
    "\\begin{align}\n",
    "h^{*} = argmin_{\\mit{z} \\sim \\cal{D}} \\mit{L}_{\\cal{D}}(h)\n",
    "\\end{align}\n",
    "\n",
    "由于学习器并不知道数据生成分布 $\\cal{D}$，只晓得训练数据 ${\\mit S}$，因而，对于任意的函数 $\\mit h \\in \\cal{H}$，学习器都可以计算：\n",
    "$${\\mit L_{S}(h) = L_{\\cal D{(\\text{在 $\\mit{S}$ 上均匀分布})}} { \\;\\;\\;\\;\\;  (h) }}$$\n",
    "\n",
    "比如，对于预测问题，我们可以令 $\\mit{Z}=\\cal{X \\times Y}$，此时有\n",
    "\n",
    "\\begin{aligned}\n",
    "\\begin{cases}\n",
    "\t{\\mit L_{\\cal D}(h) \\stackrel{def}{ = } {\\Bbb P_{(x,y) \\sim \\cal{D}}} \\rm[h(x)\\neq y\\rm] \\stackrel{def}{ = } \\cal{D}\\rm(\\{(x,y):h(x)\\neq y\\}\\rm)}&\\\\\n",
    "\t{\\mit L_{S}(h) \\stackrel{def}{ = } \\frac{|\\{i \\in \\rm[m\\rm]:\\mit h(x_i)\\neq y_i\\}|}{m}}  &{\\mit \\rm[m\\rm]=\\{1, \\cdots, m\\}}\n",
    "\\end{cases}\n",
    "\\end{aligned}\n",
    "\n",
    "## 线性预测\n",
    "我们定义**仿射函数类**：\n",
    "\n",
    "\\begin{align}\n",
    "\\mit L_d = \\{h_{{\\mit \\bf w}, b} \\rm: {\\mit \\bf w} \\in \\Bbb{R}^d, b \\in \\Bbb{R}\\}\n",
    "\\end{align}\n",
    "\n",
    "其中，$\\mit h_{{\\mit \\bf w}, b} ({\\mit \\bf x}) = \\; <{\\mit \\bf w, x}> + b$"
   ]
  },
  {
   "cell_type": "code",
   "execution_count": 2,
   "metadata": {
    "ExecuteTime": {
     "end_time": "2018-03-23T11:51:35.666652Z",
     "start_time": "2018-03-23T11:51:35.658643Z"
    }
   },
   "outputs": [],
   "source": [
    "from sklearn.cluster import KMeans"
   ]
  },
  {
   "cell_type": "code",
   "execution_count": 3,
   "metadata": {
    "ExecuteTime": {
     "end_time": "2018-03-23T11:53:01.936828Z",
     "start_time": "2018-03-23T11:53:01.930836Z"
    }
   },
   "outputs": [],
   "source": [
    "from sklearn import metrics\n",
    "from sklearn.metrics import pairwise_distances"
   ]
  },
  {
   "cell_type": "code",
   "execution_count": 4,
   "metadata": {
    "ExecuteTime": {
     "end_time": "2018-03-23T13:53:12.261710Z",
     "start_time": "2018-03-23T13:53:08.997106Z"
    }
   },
   "outputs": [
    {
     "name": "stderr",
     "output_type": "stream",
     "text": [
      "C:\\Anaconda3\\lib\\site-packages\\h5py\\__init__.py:34: FutureWarning: Conversion of the second argument of issubdtype from `float` to `np.floating` is deprecated. In future, it will be treated as `np.float64 == np.dtype(float).type`.\n",
      "  from ._conv import register_converters as _register_converters\n",
      "Using CNTK backend\n",
      "C:\\Anaconda3\\lib\\site-packages\\keras\\backend\\cntk_backend.py:21: UserWarning: CNTK backend warning: GPU is not detected. CNTK's CPU version is not fully optimized,please run with GPU to get better performance.\n",
      "  'CNTK backend warning: GPU is not detected. '\n"
     ]
    }
   ],
   "source": [
    "import keras "
   ]
  },
  {
   "cell_type": "code",
   "execution_count": 5,
   "metadata": {
    "ExecuteTime": {
     "end_time": "2018-03-23T13:55:53.755214Z",
     "start_time": "2018-03-23T13:55:53.750211Z"
    }
   },
   "outputs": [],
   "source": [
    "from keras import Model"
   ]
  },
  {
   "cell_type": "code",
   "execution_count": 9,
   "metadata": {
    "ExecuteTime": {
     "end_time": "2018-03-23T13:57:01.860822Z",
     "start_time": "2018-03-23T13:57:01.849819Z"
    }
   },
   "outputs": [
    {
     "data": {
      "text/plain": [
       "<module 'keras.metrics' from 'C:\\\\Anaconda3\\\\lib\\\\site-packages\\\\keras\\\\metrics.py'>"
      ]
     },
     "execution_count": 9,
     "metadata": {},
     "output_type": "execute_result"
    }
   ],
   "source": [
    "Model."
   ]
  },
  {
   "cell_type": "code",
   "execution_count": null,
   "metadata": {},
   "outputs": [],
   "source": []
  }
 ],
 "metadata": {
  "kernelspec": {
   "display_name": "Python 3",
   "language": "python",
   "name": "python3"
  },
  "language_info": {
   "codemirror_mode": {
    "name": "ipython",
    "version": 3
   },
   "file_extension": ".py",
   "mimetype": "text/x-python",
   "name": "python",
   "nbconvert_exporter": "python",
   "pygments_lexer": "ipython3",
   "version": "3.6.3"
  },
  "latex_envs": {
   "LaTeX_envs_menu_present": true,
   "autoclose": false,
   "autocomplete": true,
   "bibliofile": "biblio.bib",
   "cite_by": "apalike",
   "current_citInitial": 1,
   "eqLabelWithNumbers": true,
   "eqNumInitial": 1,
   "hotkeys": {
    "equation": "Ctrl-E",
    "itemize": "Ctrl-I"
   },
   "labels_anchors": false,
   "latex_user_defs": false,
   "report_style_numbering": false,
   "user_envs_cfg": false
  },
  "toc": {
   "nav_menu": {},
   "number_sections": true,
   "sideBar": true,
   "skip_h1_title": false,
   "title_cell": "Table of Contents",
   "title_sidebar": "Contents",
   "toc_cell": false,
   "toc_position": {
    "height": "calc(100% - 180px)",
    "left": "10px",
    "top": "150px",
    "width": "319px"
   },
   "toc_section_display": true,
   "toc_window_display": true
  },
  "varInspector": {
   "cols": {
    "lenName": 16,
    "lenType": 16,
    "lenVar": 40
   },
   "kernels_config": {
    "python": {
     "delete_cmd_postfix": "",
     "delete_cmd_prefix": "del ",
     "library": "var_list.py",
     "varRefreshCmd": "print(var_dic_list())"
    },
    "r": {
     "delete_cmd_postfix": ") ",
     "delete_cmd_prefix": "rm(",
     "library": "var_list.r",
     "varRefreshCmd": "cat(var_dic_list()) "
    }
   },
   "types_to_exclude": [
    "module",
    "function",
    "builtin_function_or_method",
    "instance",
    "_Feature"
   ],
   "window_display": false
  },
  "widgets": {
   "application/vnd.jupyter.widget-state+json": {
    "state": {},
    "version_major": 2,
    "version_minor": 0
   }
  }
 },
 "nbformat": 4,
 "nbformat_minor": 2
}
