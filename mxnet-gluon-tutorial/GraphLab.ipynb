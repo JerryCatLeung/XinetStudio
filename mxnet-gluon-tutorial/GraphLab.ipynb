{
 "cells": [
  {
   "cell_type": "markdown",
   "metadata": {},
   "source": [
    "1. [GraphLab 官方教程](https://turi.com/products/create/docs/index.html#)\n",
    "2. [十分钟了解分布式计算: GraphLab](http://www.cnblogs.com/wei-li/p/GraphLab.html)      \n",
    "3. [Tutorial – Getting Started with GraphLab For Machine Learning in Python](https://www.analyticsv\n",
    "idhya.com/blog/2015/12/started-graphlab-python/)\n",
    "4. [GraphLab Home](https://turi.com/)"
   ]
  },
  {
   "cell_type": "code",
   "execution_count": null,
   "metadata": {},
   "outputs": [],
   "source": []
  }
 ],
 "metadata": {
  "kernelspec": {
   "display_name": "Python 3",
   "language": "python",
   "name": "python3"
  },
  "language_info": {
   "codemirror_mode": {
    "name": "ipython",
    "version": 3
   },
   "file_extension": ".py",
   "mimetype": "text/x-python",
   "name": "python",
   "nbconvert_exporter": "python",
   "pygments_lexer": "ipython3",
   "version": "3.6.3"
  }
 },
 "nbformat": 4,
 "nbformat_minor": 2
}
