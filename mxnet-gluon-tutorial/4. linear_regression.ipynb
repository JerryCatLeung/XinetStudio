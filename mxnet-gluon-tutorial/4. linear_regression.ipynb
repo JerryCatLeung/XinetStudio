{
 "cells": [
  {
   "cell_type": "code",
   "execution_count": 1,
   "metadata": {},
   "outputs": [
    {
     "name": "stderr",
     "output_type": "stream",
     "text": [
      "C:\\Anaconda3\\lib\\site-packages\\h5py\\__init__.py:34: FutureWarning: Conversion of the second argument of issubdtype from `float` to `np.floating` is deprecated. In future, it will be treated as `np.float64 == np.dtype(float).type`.\n",
      "  from ._conv import register_converters as _register_converters\n",
      "C:\\Anaconda3\\lib\\site-packages\\urllib3\\contrib\\pyopenssl.py:46: DeprecationWarning: OpenSSL.rand is deprecated - you should use os.urandom instead\n",
      "  import OpenSSL.SSL\n"
     ]
    }
   ],
   "source": [
    "import mxnet as mx\n",
    "from mxnet import gluon as g\n",
    "import numpy as np\n",
    "import matplotlib.pyplot as plt\n",
    "\n",
    "ctx = mx.gpu()\n",
    "batch_size = 4\n",
    "x_train = np.array(\n",
    "    [[3.3], [4.4], [5.5], [6.71], [6.93], [4.168], [9.779], [6.182], [7.59],\n",
    "     [2.167], [7.042], [10.791], [5.313], [7.997], [3.1]],\n",
    "    dtype=np.float32)\n",
    "\n",
    "y_train = np.array(\n",
    "    [[1.7], [2.76], [2.09], [3.19], [1.694], [1.573], [3.366], [2.596], [2.53],\n",
    "     [1.221], [2.827], [3.465], [1.65], [2.904], [1.3]],\n",
    "    dtype=np.float32)\n",
    "\n",
    "x_train = mx.nd.array(x_train)\n",
    "y_train = mx.nd.array(y_train)\n",
    "\n",
    "# define network structure\n",
    "linear_model = g.nn.Sequential()\n",
    "with linear_model.name_scope():\n",
    "    linear_model.add(g.nn.Dense(1))\n",
    "\n",
    "linear_model.collect_params().initialize(mx.init.Normal(sigma=0.01), ctx=ctx)\n",
    "criterion = g.loss.L2Loss()\n",
    "optimizer = g.Trainer(linear_model.collect_params(), 'sgd',\n",
    "                      {'learning_rate': 1e-4})\n",
    "\n",
    "epochs = 1000\n",
    "for e in range(epochs):\n",
    "    x = x_train.as_in_context(ctx)\n",
    "    y = y_train.as_in_context(ctx)\n",
    "    with mx.autograd.record():\n",
    "        output = linear_model(x)\n",
    "        loss = criterion(output, y)\n",
    "    loss.backward()\n",
    "    optimizer.step(x.shape[0])\n",
    "    running_loss = mx.nd.mean(loss).asscalar()\n",
    "    print('{}'.format(running_loss))\n",
    "\n",
    "with mx.autograd.record(train_mode=False):\n",
    "    predict = linear_model(x_train.as_in_context(ctx))\n",
    "\n",
    "plt.plot(x_train.asnumpy(), y_train.asnumpy(), 'ro', label='actual')\n",
    "plt.plot(x_train.asnumpy(), predict.asnumpy(), label='predicted line')\n",
    "plt.show()\n",
    "\n",
    "linear_model.save_params('linear.params')"
   ]
  },
  {
   "cell_type": "code",
   "execution_count": null,
   "metadata": {},
   "outputs": [],
   "source": []
  }
 ],
 "metadata": {
  "kernelspec": {
   "display_name": "Python 3",
   "language": "python",
   "name": "python3"
  },
  "language_info": {
   "codemirror_mode": {
    "name": "ipython",
    "version": 3
   },
   "file_extension": ".py",
   "mimetype": "text/x-python",
   "name": "python",
   "nbconvert_exporter": "python",
   "pygments_lexer": "ipython3",
   "version": "3.6.3"
  }
 },
 "nbformat": 4,
 "nbformat_minor": 2
}
