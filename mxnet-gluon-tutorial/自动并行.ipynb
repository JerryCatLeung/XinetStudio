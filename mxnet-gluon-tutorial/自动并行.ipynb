{
 "cells": [
  {
   "cell_type": "markdown",
   "metadata": {},
   "source": [
    "# 自动并行\n",
    "\n",
    "在[延后执行](http://zh.gluon.ai/chapter_gluon-advances/lazy-evaluation.html)里我们提到后端系统会自动构建计算图。通过计算图系统可以知道所有计算的依赖关系，有了它系统可以选择将没有依赖关系任务同时执行来获得性能的提升。\n",
    "\n",
    "仍然考虑下面这个例子，这里`a = ...`和`b = ...`之间没有数据依赖关系，从而系统可以选择并行执行他们。\n",
    "\n",
    "![](https://nbviewer.jupyter.org/github/q735613050/XinetStudio/tree/master/gluon-tutorials-zh/img/frontend-backend.svg)\n",
    "\n",
    "通常一个运算符，例如`+`或者`dot`，会用掉一个计算设备上所有计算资源。`dot`同样用到所有CPU的核（即使是有多个CPU）和单GPU上所有线程。因此在单设备上并行运行多个运算符可能效果并不明显。自动并行主要的用途是多设备的计算并行，和计算与通讯的并行。\n",
    "\n",
    "【注意】本章需要至少一个GPU才能运行。\n",
    "\n",
    "## 多设备的并行计算\n",
    "\n",
    "我们首先定义一个函数，它做 10 次矩阵乘法。"
   ]
  },
  {
   "cell_type": "code",
   "execution_count": 1,
   "metadata": {
    "ExecuteTime": {
     "end_time": "2018-03-07T06:09:03.105211Z",
     "start_time": "2018-03-07T06:09:01.289212Z"
    }
   },
   "outputs": [
    {
     "name": "stderr",
     "output_type": "stream",
     "text": [
      "C:\\Anaconda3\\lib\\site-packages\\h5py\\__init__.py:34: FutureWarning: Conversion of the second argument of issubdtype from `float` to `np.floating` is deprecated. In future, it will be treated as `np.float64 == np.dtype(float).type`.\n",
      "  from ._conv import register_converters as _register_converters\n",
      "C:\\Anaconda3\\lib\\site-packages\\urllib3\\contrib\\pyopenssl.py:46: DeprecationWarning: OpenSSL.rand is deprecated - you should use os.urandom instead\n",
      "  import OpenSSL.SSL\n"
     ]
    }
   ],
   "source": [
    "from mxnet import nd\n",
    "\n",
    "def run(x):\n",
    "    \"\"\"push 10 matrix-matrix multiplications\"\"\"\n",
    "    return [nd.dot(x,x) for i in range(10)]"
   ]
  },
  {
   "cell_type": "markdown",
   "metadata": {},
   "source": [
    "我们分别计算在CPU和GPU上运行时间"
   ]
  },
  {
   "cell_type": "code",
   "execution_count": 2,
   "metadata": {
    "ExecuteTime": {
     "end_time": "2018-03-07T06:09:36.880145Z",
     "start_time": "2018-03-07T06:09:26.098794Z"
    }
   },
   "outputs": [
    {
     "name": "stdout",
     "output_type": "stream",
     "text": [
      "Run on CPU: 0.756967 sec\n",
      "Run on GPU: 3.557034 sec\n"
     ]
    }
   ],
   "source": [
    "from mxnet import gpu\n",
    "from time import time\n",
    "\n",
    "x_cpu = nd.random.uniform(shape=(2000,2000))\n",
    "x_gpu = nd.random.uniform(shape=(6000,6000), ctx=gpu(0))\n",
    "nd.waitall()\n",
    "\n",
    "# warm up\n",
    "run(x_cpu)\n",
    "run(x_gpu)\n",
    "nd.waitall()\n",
    "\n",
    "start = time()\n",
    "run(x_cpu)\n",
    "nd.waitall()\n",
    "print('Run on CPU: %f sec'%(time()-start))\n",
    "\n",
    "start = time()\n",
    "run(x_gpu)\n",
    "nd.waitall()\n",
    "print('Run on GPU: %f sec'%(time()-start))"
   ]
  },
  {
   "cell_type": "markdown",
   "metadata": {},
   "source": [
    "我们去掉两次`run`之间的`waitall`，希望系统能自动并行这两个任务："
   ]
  },
  {
   "cell_type": "code",
   "execution_count": 3,
   "metadata": {
    "ExecuteTime": {
     "end_time": "2018-03-07T06:09:53.336613Z",
     "start_time": "2018-03-07T06:09:49.786579Z"
    }
   },
   "outputs": [
    {
     "name": "stdout",
     "output_type": "stream",
     "text": [
      "Run on both CPU and GPU: 3.545995 sec\n"
     ]
    }
   ],
   "source": [
    "start = time()\n",
    "run(x_cpu)\n",
    "run(x_gpu)\n",
    "nd.waitall()\n",
    "print('Run on both CPU and GPU: %f sec'%(time()-start))"
   ]
  },
  {
   "cell_type": "markdown",
   "metadata": {},
   "source": [
    "可以看到两个一起执行时，总时间不是分开执行的总和。这个表示后端系统能有效并行执行它们。\n",
    "\n",
    "## 计算和通讯的并行\n",
    "\n",
    "在多设备计算中，我们经常需要在设备之间复制数据。例如下面我们在GPU上计算，然后将结果复制回CPU。"
   ]
  },
  {
   "cell_type": "code",
   "execution_count": 4,
   "metadata": {
    "ExecuteTime": {
     "end_time": "2018-03-07T06:10:34.030152Z",
     "start_time": "2018-03-07T06:10:28.894873Z"
    }
   },
   "outputs": [
    {
     "name": "stdout",
     "output_type": "stream",
     "text": [
      "Run on GPU: 3.997275 sec\n",
      "Copy to CPU: 1.125035 sec\n"
     ]
    }
   ],
   "source": [
    "from mxnet import cpu\n",
    "\n",
    "def copy_to_cpu(x):\n",
    "    \"\"\"copy data to a device\"\"\"\n",
    "    return [y.copyto(cpu()) for y in x]\n",
    "\n",
    "start = time()\n",
    "y = run(x_gpu)\n",
    "nd.waitall()\n",
    "print('Run on GPU: %f sec'%(time()-start))\n",
    "\n",
    "start = time()\n",
    "copy_to_cpu(y)\n",
    "nd.waitall()\n",
    "print('Copy to CPU: %f sec'%(time() - start))"
   ]
  },
  {
   "cell_type": "markdown",
   "metadata": {
    "ExecuteTime": {
     "end_time": "2018-03-07T06:11:05.461640Z",
     "start_time": "2018-03-07T06:11:05.456628Z"
    }
   },
   "source": [
    "同样我们去掉运行和复制之间的`waitall`:"
   ]
  },
  {
   "cell_type": "code",
   "execution_count": 5,
   "metadata": {
    "ExecuteTime": {
     "end_time": "2018-03-07T06:10:55.008289Z",
     "start_time": "2018-03-07T06:10:51.323367Z"
    }
   },
   "outputs": [
    {
     "name": "stdout",
     "output_type": "stream",
     "text": [
      "Run on GPU then Copy to CPU: 3.680922 sec\n"
     ]
    }
   ],
   "source": [
    "start = time()\n",
    "y = run(x_gpu)\n",
    "copy_to_cpu(y)\n",
    "nd.waitall()\n",
    "t = time() - start\n",
    "print('Run on GPU then Copy to CPU: %f sec'%(time() - start))"
   ]
  },
  {
   "cell_type": "markdown",
   "metadata": {},
   "source": [
    "可以看到总时间小于前面两者之和。这个任务稍微不同于上面，因为运行和复制之间有依赖关系。就是`y[i]`必须先计算好才能复制到CPU。但在计算`y[i]`的时候系统可以复制`y[i-1]`，从而获得总运行时间的减少。\n",
    "\n",
    "## 总结\n",
    "\n",
    "MXNet能够自动并行执行没有数据依赖关系的任务从而提升系统性能。\n",
    "\n",
    "## 练习\n",
    "\n",
    "- `run`里面计算了10次运算，他们也没有依赖关系。看看系统有没有自动并行执行他们\n",
    "- 试试有更加复杂数据依赖的任务，看看系统能不能得到正确的结果，而且性能有提升吗？\n",
    "\n",
    "**吐槽和讨论欢迎点**[这里](https://discuss.gluon.ai/t/topic/1883)\n"
   ]
  },
  {
   "cell_type": "code",
   "execution_count": null,
   "metadata": {},
   "outputs": [],
   "source": []
  }
 ],
 "metadata": {
  "kernelspec": {
   "display_name": "Python 3",
   "language": "python",
   "name": "python3"
  },
  "language_info": {
   "codemirror_mode": {
    "name": "ipython",
    "version": 3
   },
   "file_extension": ".py",
   "mimetype": "text/x-python",
   "name": "python",
   "nbconvert_exporter": "python",
   "pygments_lexer": "ipython3",
   "version": "3.6.3"
  },
  "toc": {
   "nav_menu": {},
   "number_sections": true,
   "sideBar": true,
   "skip_h1_title": false,
   "title_cell": "Table of Contents",
   "title_sidebar": "Contents",
   "toc_cell": false,
   "toc_position": {},
   "toc_section_display": true,
   "toc_window_display": false
  },
  "varInspector": {
   "cols": {
    "lenName": 16,
    "lenType": 16,
    "lenVar": 40
   },
   "kernels_config": {
    "python": {
     "delete_cmd_postfix": "",
     "delete_cmd_prefix": "del ",
     "library": "var_list.py",
     "varRefreshCmd": "print(var_dic_list())"
    },
    "r": {
     "delete_cmd_postfix": ") ",
     "delete_cmd_prefix": "rm(",
     "library": "var_list.r",
     "varRefreshCmd": "cat(var_dic_list()) "
    }
   },
   "types_to_exclude": [
    "module",
    "function",
    "builtin_function_or_method",
    "instance",
    "_Feature"
   ],
   "window_display": false
  }
 },
 "nbformat": 4,
 "nbformat_minor": 2
}
