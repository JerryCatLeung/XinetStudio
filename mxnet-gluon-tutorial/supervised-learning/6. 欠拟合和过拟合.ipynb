{
 "cells": [
  {
   "cell_type": "markdown",
   "metadata": {},
   "source": [
    "# 欠拟合和过拟合\n",
    "\n",
    "你有没有类似这样的体验？考试前突击背了模拟题的答案，模拟题随意秒杀。但考试时出的题即便和模拟题相关，只要不是原题依然容易考挂。换种情况来说，如果考试前通过自己的学习能力从模拟题的答案里总结出一个比较通用的解题套路，考试时碰到这些模拟题的变种更容易答对。\n",
    "\n",
    "有人曾依据这种现象对学生群体简单粗暴地做了如下划分：\n",
    "\n",
    "![](https://nbviewer.jupyter.org/github/XinetDeepLearning/gluon-tutorials-zh/blob/master/img/student_categories.png)\n",
    "\n",
    "这里简要总结上图中学生的特点：\n",
    "\n",
    "* 学渣：能力不行，也不认真做作业，容易考挂\n",
    "* 学痞：能力不错，但喜欢裸奔，但还是可能考得比学渣好\n",
    "* 学痴：能力不行，但贵在认真，考不赢学霸但秒掉学渣毫无压力\n",
    "* 学霸：有能力，而且卖力，考完后喜大普奔\n",
    "\n",
    "（现在问题来了，学酥应该在上图的哪里？）\n",
    "\n",
    "学生的考试成绩和看起来与自身的训练量以及自身的学习能力有关。但即使是在科技进步的今天，我们依然没有完全知悉人类大脑学习的所有奥秘。的确，依赖数据训练的机器学习和人脑学习不一定完全相同。但有趣的是，机器学习模型也可能由于自身不同的训练量和不同的学习能力而产生不同的测试效果。为了科学地阐明这个现象，我们需要从若干机器学习的重要概念开始讲解。\n",
    "\n",
    "## 训练误差（模考成绩）和泛化误差（考试成绩）\n",
    "\n",
    "在实践中，机器学习模型通常在训练数据集上训练并不断调整模型里的参数。之后，我们通常把训练得到的模型在一个区别于训练数据集的测试数据集上测试，并根据测试结果评价模型的好坏。机器学习模型在训练数据集上表现出的误差叫做**训练误差**，在任意一个测试数据样本上表现出的误差的期望值叫做**泛化误差**。\n",
    "\n",
    "训练误差和泛化误差的计算可以利用我们之前提到的损失函数，例如[线性回归](https://nbviewer.jupyter.org/github/q735613050/XinetStudio/blob/master/mxnet-gluon-tutorial/supervised-learning/4.%20linear_regression—%20从0开始.ipynb)里用到的平方误差和[多类逻辑回归](https://nbviewer.jupyter.org/github/q735613050/XinetStudio/blob/master/mxnet-gluon-tutorial/supervised-learning/4.2%20多类逻辑回归%20---%20从0开始.ipynb)里用到的交叉熵损失函数。\n",
    "\n",
    "之所以要了解训练误差和泛化误差，是因为统计学习理论基于这两个概念可以科学解释本节教程一开始提到的模型不同的测试效果。我们知道，理论的研究往往需要基于一些假设。而统计学习理论的一个假设是：\n",
    "\n",
    "> 训练数据集和测试数据集里的每一个数据样本都是从同一个概率分布中相互独立地生成出的（独立同分布假设）。\n",
    "\n",
    "基于以上独立同分布假设，给定任意一个机器学习模型及其参数，它的训练误差的期望值和泛化误差都是一样的。然而从之前的章节中我们了解到，在机器学习的过程中，模型的参数并不是事先给定的，而是通过训练数据学习得出的：模型的参数在训练中使训练误差不断降低。所以，如果模型参数是通过训练数据学习得出的，那么训练误差的期望值无法高于泛化误差。换句话说，通常情况下，由训练数据学到的模型参数会使模型在训练数据上的表现不差于在测试数据上的表现。\n",
    "\n",
    "因此，一个重要结论是：\n",
    "\n",
    "> 训练误差的降低不一定意味着泛化误差的降低。机器学习既需要降低训练误差，又需要降低泛化误差。\n",
    "\n",
    "## 欠拟合和过拟合\n",
    "\n",
    "实践中，如果测试数据集是给定的，我们通常用机器学习模型在该测试数据集的误差来反映泛化误差。基于上述重要结论，以下两种拟合问题值得注意：\n",
    "\n",
    "* **欠拟合**：机器学习模型无法得到较低训练误差。\n",
    "* **过拟合**：机器学习模型的训练误差远小于其在测试数据集上的误差。\n",
    "\n",
    "我们要尽可能同时避免欠拟合和过拟合的出现。虽然有很多因素可能导致这两种拟合问题，在这里我们重点讨论两个因素：模型的选择和训练数据集的大小。\n",
    "\n",
    "### 模型的选择\n",
    "\n",
    "在本节的开头，我们提到一个学生可以有特定的学习能力。类似地，一个机器学习模型也有特定的拟合能力。拿多项式函数举例，一般来说，高阶多项式函数（拟合能力较强）比低阶多项式函数（拟合能力较弱）更容易在相同的训练数据集上得到较低的训练误差。需要指出的是，给定数据集，过低拟合能力的模型更容易欠拟合，而过高拟合能力的模型更容易过拟合。模型拟合能力和误差之间的关系如下图。\n",
    "\n",
    "![](https://nbviewer.jupyter.org/github/q735613050/XinetStudio/blob/master/gluon-tutorials-zh/img/error_model_complexity.png)\n",
    "\n",
    "\n",
    "### 训练数据集的大小\n",
    "\n",
    "在本节的开头，我们同样提到一个学生可以有特定的训练量。类似地，一个机器学习模型的训练数据集的样本数也可大可小。一般来说，如果训练数据集过小，特别是比模型参数数量更小时，过拟合更容易发生。除此之外，泛化误差不会随训练数据集里样本数量增加而增大。\n",
    "\n",
    "![](https://nbviewer.jupyter.org/github/q735613050/XinetStudio/blob/master/gluon-tutorials-zh/img/model_vs_data.png)\n",
    "\n",
    "为了理解这两个因素对拟合和过拟合的影响，下面让我们来动手学习。\n",
    "\n",
    "## 多项式拟合\n",
    "\n",
    "我们以多项式拟合为例。给定一个**标量**数据点集合`x`和对应的标量目标值`y`，多项式拟合的目标是找一个K阶多项式，其由向量`w`和位移`b`组成，来最好地近似每个样本`x`和`y`。用数学符号来表示就是我们将学`w`和`b`来预测\n",
    "\n",
    "$$\\hat{y} = b + \\sum_{k=1}^K x^k w_k$$\n",
    "\n",
    "并以平方误差为损失函数。特别地，一阶多项式拟合又叫线性拟合。\n",
    "\n",
    "### 创建数据集\n",
    "\n",
    "这里我们使用一个人工数据集来把事情弄简单些，因为这样我们将知道真实的模型是什么样的。具体来说我们使用如下的二阶多项式来生成每一个数据样本\n",
    "\n",
    "$$y = 1.2x - 3.4x^2 + 5.6x^3 + 5.0 + \\text{noise}$$\n",
    "\n",
    "这里噪音服从均值0和标准差为0.1的正态分布。\n",
    "\n",
    "需要注意的是，我们用以上相同的数据生成函数来生成训练数据集和测试数据集。两个数据集的样本数都是100。"
   ]
  },
  {
   "cell_type": "code",
   "execution_count": 1,
   "metadata": {},
   "outputs": [
    {
     "name": "stderr",
     "output_type": "stream",
     "text": [
      "C:\\Anaconda3\\lib\\site-packages\\h5py\\__init__.py:34: FutureWarning: Conversion of the second argument of issubdtype from `float` to `np.floating` is deprecated. In future, it will be treated as `np.float64 == np.dtype(float).type`.\n",
      "  from ._conv import register_converters as _register_converters\n",
      "C:\\Anaconda3\\lib\\site-packages\\urllib3\\contrib\\pyopenssl.py:46: DeprecationWarning: OpenSSL.rand is deprecated - you should use os.urandom instead\n",
      "  import OpenSSL.SSL\n"
     ]
    }
   ],
   "source": [
    "from mxnet import ndarray as nd\n",
    "from mxnet import autograd\n",
    "from mxnet import gluon\n",
    "\n",
    "num_train = 100\n",
    "num_test = 100\n",
    "true_w = [1.2, -3.4, 5.6]\n",
    "true_b = 5.0"
   ]
  },
  {
   "cell_type": "markdown",
   "metadata": {},
   "source": [
    "下面生成数据集。"
   ]
  },
  {
   "cell_type": "code",
   "execution_count": 3,
   "metadata": {},
   "outputs": [
    {
     "data": {
      "text/plain": [
       "('x:', \n",
       " [[0.852405  ]\n",
       "  [0.7968711 ]\n",
       "  [0.47654876]\n",
       "  [0.61860603]\n",
       "  [0.5503293 ]]\n",
       " <NDArray 5x1 @cpu(0)>, 'X:', \n",
       " [[0.852405   0.7265943  0.61935264]\n",
       "  [0.7968711  0.63500357 0.506016  ]\n",
       "  [0.47654876 0.22709872 0.10822362]\n",
       "  [0.61860603 0.3826734  0.2367241 ]\n",
       "  [0.5503293  0.30286238 0.16667405]]\n",
       " <NDArray 5x3 @cpu(0)>, 'y:', \n",
       " [7.068651  6.7272086 5.578661  5.809346  5.7363243]\n",
       " <NDArray 5 @cpu(0)>)"
      ]
     },
     "execution_count": 3,
     "metadata": {},
     "output_type": "execute_result"
    }
   ],
   "source": [
    "x = nd.random.normal(shape=(num_train + num_test, 1))\n",
    "X = nd.concat(x, nd.power(x, 2), nd.power(x, 3))\n",
    "y = true_w[0] * X[:, 0] + true_w[1] * X[:, 1] + true_w[2] * X[:, 2] + true_b\n",
    "y += .1 * nd.random.normal(shape=y.shape)\n",
    "\n",
    "('x:', x[:5], 'X:', X[:5], 'y:', y[:5])"
   ]
  },
  {
   "cell_type": "markdown",
   "metadata": {},
   "source": [
    "### 定义训练和测试步骤\n",
    "\n",
    "我们定义一个训练和测试的函数，这样在跑不同的实验时不需要重复实现相同的步骤。"
   ]
  },
  {
   "cell_type": "code",
   "execution_count": 4,
   "metadata": {},
   "outputs": [],
   "source": [
    "%matplotlib inline\n",
    "import matplotlib as mpl\n",
    "mpl.rcParams['figure.dpi']= 120\n",
    "import matplotlib.pyplot as plt\n",
    "\n",
    "def train(X_train, X_test, y_train, y_test):\n",
    "    # 线性回归模型\n",
    "    net = gluon.nn.Sequential()\n",
    "    with net.name_scope():\n",
    "        net.add(gluon.nn.Dense(1))\n",
    "    net.initialize()\n",
    "    # 设一些默认参数\n",
    "    learning_rate = 0.01\n",
    "    epochs = 100\n",
    "    batch_size = min(10, y_train.shape[0])\n",
    "    dataset_train = gluon.data.ArrayDataset(X_train, y_train)\n",
    "    data_iter_train = gluon.data.DataLoader(\n",
    "        dataset_train, batch_size, shuffle=True)\n",
    "    # 默认SGD和均方误差\n",
    "    trainer = gluon.Trainer(net.collect_params(), 'sgd', {\n",
    "        'learning_rate': learning_rate})\n",
    "    square_loss = gluon.loss.L2Loss()\n",
    "    # 保存训练和测试损失\n",
    "    train_loss = []\n",
    "    test_loss = []\n",
    "    for e in range(epochs):\n",
    "        for data, label in data_iter_train:\n",
    "            with autograd.record():\n",
    "                output = net(data)\n",
    "                loss = square_loss(output, label)\n",
    "            loss.backward()\n",
    "            trainer.step(batch_size)\n",
    "        train_loss.append(square_loss(\n",
    "            net(X_train), y_train).mean().asscalar())\n",
    "        test_loss.append(square_loss(\n",
    "            net(X_test), y_test).mean().asscalar())\n",
    "    # 打印结果    \n",
    "    plt.plot(train_loss)\n",
    "    plt.plot(test_loss)\n",
    "    plt.legend(['train','test'])\n",
    "    plt.show()\n",
    "    return ('learned weight', net[0].weight.data(), \n",
    "            'learned bias', net[0].bias.data())"
   ]
  },
  {
   "cell_type": "markdown",
   "metadata": {},
   "source": [
    "### 三阶多项式拟合（正常）\n",
    "\n",
    "我们先使用与数据生成函数同阶的三阶多项式拟合。实验表明这个模型的训练误差和在测试数据集的误差都较低。训练出的模型参数也接近真实值。"
   ]
  },
  {
   "cell_type": "code",
   "execution_count": 5,
   "metadata": {},
   "outputs": [
    {
     "data": {
      "image/png": "[encoded data removed]",
      "text/plain": [
       "<matplotlib.figure.Figure at 0x1f3ff4d2f60>"
      ]
     },
     "metadata": {},
     "output_type": "display_data"
    },
    {
     "data": {
      "text/plain": [
       "('learned weight', \n",
       " [[ 1.101406  -3.338947   5.6347976]]\n",
       " <NDArray 1x3 @cpu(0)>, 'learned bias', \n",
       " [4.951926]\n",
       " <NDArray 1 @cpu(0)>)"
      ]
     },
     "execution_count": 5,
     "metadata": {},
     "output_type": "execute_result"
    }
   ],
   "source": [
    "train(X[:num_train, :], X[num_train:, :], y[:num_train], y[num_train:])"
   ]
  },
  {
   "cell_type": "markdown",
   "metadata": {},
   "source": [
    "### 线性拟合（欠拟合）\n",
    "\n",
    "我们再试试线性拟合。很明显，该模型的训练误差很高。线性模型在非线性模型（例如三阶多项式）生成的数据集上容易欠拟合。"
   ]
  },
  {
   "cell_type": "code",
   "execution_count": 6,
   "metadata": {},
   "outputs": [
    {
     "data": {
      "image/png": "[encoded data removed]",
      "text/plain": [
       "<matplotlib.figure.Figure at 0x1f3913995c0>"
      ]
     },
     "metadata": {},
     "output_type": "display_data"
    },
    {
     "data": {
      "text/plain": [
       "('learned weight', \n",
       " [[17.791407]]\n",
       " <NDArray 1x1 @cpu(0)>, 'learned bias', \n",
       " [-0.04868743]\n",
       " <NDArray 1 @cpu(0)>)"
      ]
     },
     "execution_count": 6,
     "metadata": {},
     "output_type": "execute_result"
    }
   ],
   "source": [
    "train(x[:num_train, :], x[num_train:, :], y[:num_train], y[num_train:])"
   ]
  },
  {
   "cell_type": "markdown",
   "metadata": {},
   "source": [
    "### 训练量不足（过拟合）\n",
    "\n",
    "事实上，即便是使用与数据生成模型同阶的三阶多项式模型，如果训练量不足，该模型依然容易过拟合。让我们仅仅使用两个训练样本来训练。很显然，训练样本过少了，甚至少于模型参数的数量。这使模型显得过于复杂，以至于容易被训练数据集中的噪音影响。在机器学习过程中，即便训练误差很低，但是测试数据集上的误差很高。这是典型的过拟合现象。"
   ]
  },
  {
   "cell_type": "code",
   "execution_count": 7,
   "metadata": {},
   "outputs": [
    {
     "data": {
      "image/png": "[encoded data removed]",
      "text/plain": [
       "<matplotlib.figure.Figure at 0x1f391459e10>"
      ]
     },
     "metadata": {},
     "output_type": "display_data"
    },
    {
     "data": {
      "text/plain": [
       "('learned weight', \n",
       " [[2.1259096 1.7949178 1.4188142]]\n",
       " <NDArray 1x3 @cpu(0)>, 'learned bias', \n",
       " [2.5558918]\n",
       " <NDArray 1 @cpu(0)>)"
      ]
     },
     "execution_count": 7,
     "metadata": {},
     "output_type": "execute_result"
    }
   ],
   "source": [
    "train(X[0:2, :], X[num_train:, :], y[0:2], y[num_train:])"
   ]
  },
  {
   "cell_type": "markdown",
   "metadata": {},
   "source": [
    "我们还将在后面的章节继续讨论过拟合问题以及应对过拟合的方法，例如正则化。\n",
    "\n",
    "## 结论\n",
    "\n",
    "* 训练误差的降低并不一定意味着泛化误差的降低。\n",
    "* 欠拟合和过拟合都是需要尽量避免的。我们要注意模型的选择和训练量的大小。\n",
    "\n",
    "\n",
    "## 练习\n",
    "\n",
    "1. 学渣、学痞、学痴和学霸对应的模型复杂度、训练量、训练误差和泛化误差分别是怎样的？\n",
    "1. 如果用一个三阶多项式模型来拟合一个线性模型生成的数据，可能会有什么问题？为什么？\n",
    "1. 在我们本节提到的三阶多项式拟合问题里，有没有可能把1000个样本的训练误差的期望降到0，为什么？\n",
    "\n",
    "**吐槽和讨论欢迎点**[这里](https://discuss.gluon.ai/t/topic/983)"
   ]
  }
 ],
 "metadata": {
  "kernelspec": {
   "display_name": "Python 3",
   "language": "python",
   "name": "python3"
  },
  "language_info": {
   "codemirror_mode": {
    "name": "ipython",
    "version": 3
   },
   "file_extension": ".py",
   "mimetype": "text/x-python",
   "name": "python",
   "nbconvert_exporter": "python",
   "pygments_lexer": "ipython3",
   "version": "3.6.3"
  }
 },
 "nbformat": 4,
 "nbformat_minor": 2
}
