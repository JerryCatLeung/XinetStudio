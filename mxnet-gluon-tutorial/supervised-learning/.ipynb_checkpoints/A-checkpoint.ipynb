{
 "cells": [
  {
   "cell_type": "code",
   "execution_count": 18,
   "metadata": {},
   "outputs": [
    {
     "name": "stderr",
     "output_type": "stream",
     "text": [
      "c:\\anaconda3\\lib\\site-packages\\mxnet\\gluon\\data\\vision.py:118: DeprecationWarning: The binary mode of fromstring is deprecated, as it behaves surprisingly on unicode inputs. Use frombuffer instead\n",
      "  label = np.fromstring(fin.read(), dtype=np.uint8).astype(np.int32)\n",
      "c:\\anaconda3\\lib\\site-packages\\mxnet\\gluon\\data\\vision.py:122: DeprecationWarning: The binary mode of fromstring is deprecated, as it behaves surprisingly on unicode inputs. Use frombuffer instead\n",
      "  data = np.fromstring(fin.read(), dtype=np.uint8)\n"
     ]
    }
   ],
   "source": [
    "from mxnet import gluon, autograd\n",
    "from mxnet import ndarray as nd\n",
    "import mxnet as mx\n",
    "\n",
    "root = 'E:/Data/MXNet/mnist'\n",
    "\n",
    "def transform(data, label):\n",
    "    return data.astype('float32')/255, label.astype('float32')\n",
    "mnist_train = gluon.data.vision.MNIST(train=True, transform= transform, root= root)\n",
    "mnist_test = gluon.data.vision.MNIST(train=False, transform= transform, root= root)\n",
    "\n",
    "batch_size = 256\n",
    "train_data = gluon.data.DataLoader(mnist_train, batch_size, shuffle= True)\n",
    "test_data = gluon.data.DataLoader(mnist_train, batch_size, shuffle= False)\n",
    "\n",
    "from mxnet.gluon.nn import Sequential, Dense, Flatten, Activation\n",
    "\n",
    "net = Sequential()\n",
    "net.add(Dense(10))\n",
    "net.initialize()\n",
    "\n",
    "def softmax(X):\n",
    "    exp = nd.exp(X)\n",
    "    return exp / exp.sum(axis= 1, keepdims= True)\n",
    "\n",
    "def cross_entropy(Y, y):\n",
    "    # 硬标签\n",
    "    y = y.max(axis= 1)\n",
    "    return - nd.mean(Y * nd.log(y))\n",
    "# 或者写作下面的函数\n",
    "def cross_entropy(Y, y):\n",
    "    # 软标签\n",
    "    return - nd.pick(nd.log(y), Y)\n",
    "\n",
    "def SGD(params, lr):\n",
    "    for param in params:\n",
    "        param -= lr * param.grad\n",
    "        \n",
    "def accuracy(y, Y):\n",
    "    return nd.mean(y.argmax(axis= 1) == Y).asscalar()\n",
    "\n",
    "w = nd.random_normal(shape= (784, 10))\n",
    "b = nd.zeros(10)"
   ]
  },
  {
   "cell_type": "code",
   "execution_count": 10,
   "metadata": {},
   "outputs": [],
   "source": []
  },
  {
   "cell_type": "code",
   "execution_count": null,
   "metadata": {},
   "outputs": [],
   "source": []
  }
 ],
 "metadata": {
  "kernelspec": {
   "display_name": "Python 3",
   "language": "python",
   "name": "python3"
  },
  "language_info": {
   "codemirror_mode": {
    "name": "ipython",
    "version": 3
   },
   "file_extension": ".py",
   "mimetype": "text/x-python",
   "name": "python",
   "nbconvert_exporter": "python",
   "pygments_lexer": "ipython3",
   "version": "3.6.3"
  }
 },
 "nbformat": 4,
 "nbformat_minor": 2
}
