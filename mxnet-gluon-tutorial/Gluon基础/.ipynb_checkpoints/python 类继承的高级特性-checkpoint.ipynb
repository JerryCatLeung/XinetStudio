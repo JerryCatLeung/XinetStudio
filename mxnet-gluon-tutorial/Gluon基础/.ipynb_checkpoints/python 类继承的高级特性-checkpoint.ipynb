{
 "cells": [
  {
   "cell_type": "markdown",
   "metadata": {
    "ExecuteTime": {
     "end_time": "2018-01-31T11:48:38.368735Z",
     "start_time": "2018-01-31T11:48:38.334647Z"
    }
   },
   "source": [
    "## 参考资料：[Python类继承的高级特性 ](https://segmentfault.com/a/1190000000749061)\n",
    "\n",
    "Python 的类分为 *经典类* 和 *新式类*：\n",
    "经典类是 python2.2 之前的东西,但是在 2.7 还在兼容,但是在 3 之后的版本就只承认新式类了。新式类在 python2.2 之后的版本中都可以使用\n",
    "\n",
    "## 经典类和新式类的区别\n",
    "\n",
    "- 经典类是默认没有派生自某个基类的,而新式类是默认派生自`object` 这个基类的:\n",
    "\n",
    "```py\n",
    "# old style\n",
    "class A():pass\n",
    "\n",
    "# new style\n",
    "class A(obejct):pass\n",
    "```\n",
    "- 经典类在类多重继承的时候是采用从左到右深度优先原则匹配方法的，而新式类是采用 `C3算法`(不同于广度优先)进行匹配的\n",
    "- 经典类是没有 `__MRO__` 和 `instance.mro()` 调用的,而新式类是有的.\n",
    "\n",
    "## 为什么不用经典类，要更换到新式类\n",
    "\n",
    "因为在经典类中的多重继承会有些问题...可能导致在继承树中的方法查询绕过后面的父类:"
   ]
  },
  {
   "cell_type": "code",
   "execution_count": 9,
   "metadata": {
    "ExecuteTime": {
     "end_time": "2018-01-31T13:00:07.185804Z",
     "start_time": "2018-01-31T13:00:07.170764Z"
    }
   },
   "outputs": [
    {
     "name": "stdout",
     "output_type": "stream",
     "text": [
      "C\n"
     ]
    }
   ],
   "source": [
    "class A():\n",
    "    def foo1(self):\n",
    "        print(\"A\")\n",
    "\n",
    "\n",
    "class B(A):\n",
    "    def foo2(self):\n",
    "        pass\n",
    "\n",
    "\n",
    "class C(A):\n",
    "    def foo1(self):\n",
    "        print(\"C\")\n",
    "\n",
    "\n",
    "class D(B, C):\n",
    "    pass\n",
    "\n",
    "\n",
    "d = D()\n",
    "d.foo1()"
   ]
  },
  {
   "cell_type": "markdown",
   "metadata": {},
   "source": [
    "按照经典类的查找顺序从左到右深度优先的规则，在访问 `d.foo1()` 的时候,`D` 这个类是没有的..那么往上查找，先找到`B`，里面没有,深度优先,访问 `A`,找到了 `foo1()`，所以这时候调用的是 `A` 的 `foo1()`，从而导致 `C` 重写的 `foo1()`被绕过。\n",
    "所以 python 引入了新式类的概念,每个基类都继承自 `object` 并且,他的匹配规则也从深度优先换到了 `C3`。"
   ]
  },
  {
   "cell_type": "markdown",
   "metadata": {},
   "source": [
    "## C3 算法\n",
    "\n",
    "C3 算法的一个核心是 `merge`：\n",
    "    在 `merge` 列表中，如果第一个序列 `mro` 的第一个类是出现在其它序列，并且也是第一个，或者不出现其它序列，那么这个类就会从这些序列中删除，并合到访问顺序列表中："
   ]
  },
  {
   "cell_type": "code",
   "execution_count": 20,
   "metadata": {
    "ExecuteTime": {
     "end_time": "2018-01-31T13:20:23.495866Z",
     "start_time": "2018-01-31T13:20:23.490889Z"
    }
   },
   "outputs": [],
   "source": [
    "class A(object):pass\n",
    "class B(object):pass\n",
    "class C(object):pass\n",
    "class D(B, A):pass\n",
    "class E(C, D):pass"
   ]
  },
  {
   "cell_type": "markdown",
   "metadata": {},
   "source": [
    "### `mro`：method resolution order"
   ]
  },
  {
   "cell_type": "code",
   "execution_count": 21,
   "metadata": {
    "ExecuteTime": {
     "end_time": "2018-01-31T13:20:24.528617Z",
     "start_time": "2018-01-31T13:20:24.523600Z"
    }
   },
   "outputs": [
    {
     "data": {
      "text/plain": [
       "[__main__.A, object]"
      ]
     },
     "execution_count": 21,
     "metadata": {},
     "output_type": "execute_result"
    }
   ],
   "source": [
    "A.mro()"
   ]
  },
  {
   "cell_type": "code",
   "execution_count": 22,
   "metadata": {
    "ExecuteTime": {
     "end_time": "2018-01-31T13:20:25.029947Z",
     "start_time": "2018-01-31T13:20:25.024967Z"
    }
   },
   "outputs": [
    {
     "data": {
      "text/plain": [
       "[__main__.B, object]"
      ]
     },
     "execution_count": 22,
     "metadata": {},
     "output_type": "execute_result"
    }
   ],
   "source": [
    "B.mro()"
   ]
  },
  {
   "cell_type": "code",
   "execution_count": 23,
   "metadata": {
    "ExecuteTime": {
     "end_time": "2018-01-31T13:20:26.062696Z",
     "start_time": "2018-01-31T13:20:26.057683Z"
    }
   },
   "outputs": [
    {
     "data": {
      "text/plain": [
       "[__main__.C, object]"
      ]
     },
     "execution_count": 23,
     "metadata": {},
     "output_type": "execute_result"
    }
   ],
   "source": [
    "C.mro()"
   ]
  },
  {
   "cell_type": "code",
   "execution_count": 24,
   "metadata": {
    "ExecuteTime": {
     "end_time": "2018-01-31T13:20:27.019274Z",
     "start_time": "2018-01-31T13:20:27.015235Z"
    }
   },
   "outputs": [
    {
     "data": {
      "text/plain": [
       "[__main__.D, __main__.B, __main__.A, object]"
      ]
     },
     "execution_count": 24,
     "metadata": {},
     "output_type": "execute_result"
    }
   ],
   "source": [
    "D.mro()"
   ]
  },
  {
   "cell_type": "code",
   "execution_count": 25,
   "metadata": {
    "ExecuteTime": {
     "end_time": "2018-01-31T13:20:30.751335Z",
     "start_time": "2018-01-31T13:20:30.745320Z"
    },
    "scrolled": true
   },
   "outputs": [
    {
     "data": {
      "text/plain": [
       "[__main__.E, __main__.C, __main__.D, __main__.B, __main__.A, object]"
      ]
     },
     "execution_count": 25,
     "metadata": {},
     "output_type": "execute_result"
    }
   ],
   "source": [
    "E.mro()"
   ]
  },
  {
   "cell_type": "markdown",
   "metadata": {
    "ExecuteTime": {
     "end_time": "2018-01-31T13:24:40.356388Z",
     "start_time": "2018-01-31T13:24:40.349379Z"
    }
   },
   "source": [
    "新式类生成的访问序列被存储在一个叫 `MRO` 的只读列表中..\n",
    "\n",
    "你可以使用 `instance.__MRO__` 或者 `instance.mro()` 来访问："
   ]
  },
  {
   "cell_type": "code",
   "execution_count": 33,
   "metadata": {
    "ExecuteTime": {
     "end_time": "2018-01-31T13:25:40.283783Z",
     "start_time": "2018-01-31T13:25:40.278764Z"
    }
   },
   "outputs": [
    {
     "data": {
      "text/plain": [
       "(__main__.A, object)"
      ]
     },
     "execution_count": 33,
     "metadata": {},
     "output_type": "execute_result"
    }
   ],
   "source": [
    "A.__mro__"
   ]
  },
  {
   "cell_type": "markdown",
   "metadata": {},
   "source": [
    "## 新式类和经典类的 `super` 和按类名访问问题\n",
    "\n",
    "在经典类中,你如果要访问父类的话,是用类名来访问的..\n",
    "\n",
    "```py\n",
    "class A():\n",
    "    def __init__(self):\n",
    "        print(\"A\")\n",
    "\n",
    "\n",
    "class B(A):\n",
    "    def __init__(self):\n",
    "        print(\"B\")\n",
    "        A.__init__(self)  # python 不会默认调用父类的初始化函数的\n",
    "```\n",
    "\n",
    "这样子看起来没什么问题,但是如果类的继承结构比较复杂，会导致代码的可维护性很差..\n",
    "\n",
    "所以新式类推出了 `super` 这个东西...\n",
    "\n",
    "```py\n",
    "class A():\n",
    "    def __init__(self):\n",
    "        print(\"A\")\n",
    "\n",
    "\n",
    "class B(A):\n",
    "    def __init__(self):\n",
    "        print(\"B\")\n",
    "        super(B, self).__init__()\n",
    "```\n",
    "\n",
    "这时候，又有一个问题：当类是多重继承的时候，`super` 访问的是哪一个类呢？\n",
    "\n",
    "`super` 实际上是通过 `__MRO__` 序列来确定访问哪一个类的...\n",
    "\n",
    "实际上就是调用 `__MRO__` 中此类后面的一个类的方法.\n",
    "比如序列为 `[F, E , D, C, B, A]` 那么 `F` 中的 `super` 就是 `E`，`E`的 `super` 就是 `D`\n",
    "\n",
    "## `super` 和 `按照类名访问` 混合使用带来的坑\n",
    "\n"
   ]
  },
  {
   "cell_type": "code",
   "execution_count": 46,
   "metadata": {
    "ExecuteTime": {
     "end_time": "2018-01-31T13:54:55.874598Z",
     "start_time": "2018-01-31T13:54:55.829433Z"
    }
   },
   "outputs": [],
   "source": [
    "class A(object):\n",
    "    def __init__(self):\n",
    "        print(\"enter A\")\n",
    "        print(\"leave A\")\n",
    "\n",
    "\n",
    "class B(object):\n",
    "    def __init__(self):\n",
    "        print(\"enter B\")\n",
    "        print(\"leave B\")\n",
    "\n",
    "\n",
    "class C(A):\n",
    "    def __init__(self):\n",
    "        print(\"enter C\")\n",
    "        super(C, self).__init__()\n",
    "        print(\"leave C\")\n",
    "\n",
    "\n",
    "class D(A):\n",
    "    def __init__(self):\n",
    "        print(\"enter D\")\n",
    "        super(D, self).__init__()\n",
    "        print(\"leave D\")\n",
    "\n",
    "\n",
    "class E(B, C):\n",
    "    def __init__(self):\n",
    "        print(\"enter E\")\n",
    "        B.__init__(self)\n",
    "        C.__init__(self)\n",
    "        print(\"leave E\")\n",
    "\n",
    "\n",
    "class F(E, D):\n",
    "    def __init__(self):\n",
    "        print(\"enter F\")\n",
    "        E.__init__(self)\n",
    "        D.__init__(self)\n",
    "        print(\"leave F\")"
   ]
  },
  {
   "cell_type": "code",
   "execution_count": 47,
   "metadata": {
    "ExecuteTime": {
     "end_time": "2018-01-31T13:54:56.570444Z",
     "start_time": "2018-01-31T13:54:56.565432Z"
    }
   },
   "outputs": [
    {
     "name": "stdout",
     "output_type": "stream",
     "text": [
      "enter F\n",
      "enter E\n",
      "enter B\n",
      "leave B\n",
      "enter C\n",
      "enter D\n",
      "enter A\n",
      "leave A\n",
      "leave D\n",
      "leave C\n",
      "leave E\n",
      "enter D\n",
      "enter A\n",
      "leave A\n",
      "leave D\n",
      "leave F\n"
     ]
    }
   ],
   "source": [
    "f = F()"
   ]
  },
  {
   "cell_type": "markdown",
   "metadata": {},
   "source": [
    "可以看出来 `D` 和 `A` 的初始化函数被乱入了两次！\n",
    "\n",
    "按类名访问就相当于 C 语言之前的 GOTO 语句...乱跳,然后再用 `super` 按顺序访问..就有问题了"
   ]
  },
  {
   "cell_type": "markdown",
   "metadata": {},
   "source": [
    "所以建议就是要么一直用 `super` ,要么一直用按照类名访问\n",
    "\n",
    "最佳实现:\n",
    "- 避免多重继承\n",
    "- `super` 使用一致\n",
    "- 不要混用经典类和新式类\n",
    "- 调用父类的时候注意检查类层次"
   ]
  },
  {
   "cell_type": "code",
   "execution_count": null,
   "metadata": {},
   "outputs": [],
   "source": []
  }
 ],
 "metadata": {
  "kernelspec": {
   "display_name": "Python 3",
   "language": "python",
   "name": "python3"
  },
  "language_info": {
   "codemirror_mode": {
    "name": "ipython",
    "version": 3
   },
   "file_extension": ".py",
   "mimetype": "text/x-python",
   "name": "python",
   "nbconvert_exporter": "python",
   "pygments_lexer": "ipython3",
   "version": "3.6.3"
  },
  "latex_envs": {
   "LaTeX_envs_menu_present": true,
   "autoclose": false,
   "autocomplete": true,
   "bibliofile": "biblio.bib",
   "cite_by": "apalike",
   "current_citInitial": 1,
   "eqLabelWithNumbers": true,
   "eqNumInitial": 1,
   "hotkeys": {
    "equation": "Ctrl-E",
    "itemize": "Ctrl-I"
   },
   "labels_anchors": false,
   "latex_user_defs": false,
   "report_style_numbering": false,
   "user_envs_cfg": false
  },
  "nbTranslate": {
   "displayLangs": [
    "*"
   ],
   "hotkey": "alt-t",
   "langInMainMenu": true,
   "sourceLang": "en",
   "targetLang": "fr",
   "useGoogleTranslate": true
  },
  "toc": {
   "nav_menu": {},
   "number_sections": true,
   "sideBar": true,
   "skip_h1_title": false,
   "title_cell": "Table of Contents",
   "title_sidebar": "Contents",
   "toc_cell": false,
   "toc_position": {
    "height": "calc(100% - 180px)",
    "left": "10px",
    "top": "150px",
    "width": "428px"
   },
   "toc_section_display": true,
   "toc_window_display": true
  },
  "varInspector": {
   "cols": {
    "lenName": 16,
    "lenType": 16,
    "lenVar": 40
   },
   "kernels_config": {
    "python": {
     "delete_cmd_postfix": "",
     "delete_cmd_prefix": "del ",
     "library": "var_list.py",
     "varRefreshCmd": "print(var_dic_list())"
    },
    "r": {
     "delete_cmd_postfix": ") ",
     "delete_cmd_prefix": "rm(",
     "library": "var_list.r",
     "varRefreshCmd": "cat(var_dic_list()) "
    }
   },
   "types_to_exclude": [
    "module",
    "function",
    "builtin_function_or_method",
    "instance",
    "_Feature"
   ],
   "window_display": false
  }
 },
 "nbformat": 4,
 "nbformat_minor": 2
}
