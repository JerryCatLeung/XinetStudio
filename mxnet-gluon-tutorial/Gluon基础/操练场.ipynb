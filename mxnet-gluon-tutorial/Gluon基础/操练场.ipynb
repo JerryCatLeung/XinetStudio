{
 "cells": [
  {
   "cell_type": "code",
   "execution_count": 10,
   "metadata": {
    "ExecuteTime": {
     "end_time": "2018-01-31T14:14:37.019937Z",
     "start_time": "2018-01-31T14:14:37.015927Z"
    }
   },
   "outputs": [],
   "source": [
    "from mxnet import gluon, nd\n",
    "from mxnet.gluon.nn import Sequential, Block, Dense, Flatten, Activation"
   ]
  },
  {
   "cell_type": "code",
   "execution_count": 2,
   "metadata": {
    "ExecuteTime": {
     "end_time": "2018-01-31T14:08:30.160631Z",
     "start_time": "2018-01-31T14:08:30.152612Z"
    }
   },
   "outputs": [],
   "source": [
    "class MLP(Block):\n",
    "    def __init__(self, **kwargs):\n",
    "        super(MLP, self).__init__(**kwargs)\n",
    "        with self.name_scope():\n",
    "            self.dense0 = Dense(256)\n",
    "            self.dense1 = Dense(10)\n",
    "\n",
    "    def forward(self, x):\n",
    "        return self.dense1(nd.relu(self.dense0(x)))"
   ]
  },
  {
   "cell_type": "code",
   "execution_count": 3,
   "metadata": {
    "ExecuteTime": {
     "end_time": "2018-01-31T14:10:07.449802Z",
     "start_time": "2018-01-31T14:10:07.446782Z"
    }
   },
   "outputs": [],
   "source": [
    "net = MLP()"
   ]
  },
  {
   "cell_type": "code",
   "execution_count": 4,
   "metadata": {
    "ExecuteTime": {
     "end_time": "2018-01-31T14:10:11.634926Z",
     "start_time": "2018-01-31T14:10:11.623900Z"
    }
   },
   "outputs": [
    {
     "data": {
      "text/plain": [
       "MLP(\n",
       "  (dense0): Dense(None -> 256, linear)\n",
       "  (dense1): Dense(None -> 10, linear)\n",
       ")"
      ]
     },
     "execution_count": 4,
     "metadata": {},
     "output_type": "execute_result"
    }
   ],
   "source": [
    "net"
   ]
  },
  {
   "cell_type": "code",
   "execution_count": 13,
   "metadata": {
    "ExecuteTime": {
     "end_time": "2018-01-31T14:16:51.049458Z",
     "start_time": "2018-01-31T14:16:51.035419Z"
    }
   },
   "outputs": [
    {
     "name": "stderr",
     "output_type": "stream",
     "text": [
      "c:\\anaconda3\\lib\\site-packages\\mxnet\\gluon\\parameter.py:320: UserWarning: Parameter mlp0_dense0_bias is already initialized, ignoring. Set force_reinit=True to re-initialize.\n",
      "  \"Set force_reinit=True to re-initialize.\"%self.name)\n",
      "c:\\anaconda3\\lib\\site-packages\\mxnet\\gluon\\parameter.py:320: UserWarning: Parameter mlp0_dense1_bias is already initialized, ignoring. Set force_reinit=True to re-initialize.\n",
      "  \"Set force_reinit=True to re-initialize.\"%self.name)\n"
     ]
    },
    {
     "data": {
      "text/plain": [
       "\n",
       "[[ 0.07147409  0.03578287  0.01979623  0.02308606  0.00675474 -0.02029111\n",
       "  -0.02276575  0.00650837 -0.05951992  0.04719968]\n",
       " [ 0.08767416  0.0272476   0.0315582   0.00726082 -0.00724703 -0.02173568\n",
       "  -0.00551484 -0.00764168 -0.09765024  0.04624802]\n",
       " [ 0.01760861  0.02948772  0.00024894 -0.05545292 -0.02520321 -0.03069665\n",
       "   0.03222071  0.00663479 -0.02722371  0.0812771 ]\n",
       " [ 0.08077151  0.0535277   0.0348575  -0.0323705   0.01698084 -0.056004\n",
       "  -0.02513954  0.04255568 -0.1042625   0.0763813 ]]\n",
       "<NDArray 4x10 @cpu(0)>"
      ]
     },
     "execution_count": 13,
     "metadata": {},
     "output_type": "execute_result"
    }
   ],
   "source": [
    "net.initialize()\n",
    "x = nd.random.uniform(shape=(4, 20))\n",
    "y = net(x)\n",
    "y"
   ]
  },
  {
   "cell_type": "code",
   "execution_count": 22,
   "metadata": {
    "ExecuteTime": {
     "end_time": "2018-01-31T14:35:56.510012Z",
     "start_time": "2018-01-31T14:35:56.506002Z"
    }
   },
   "outputs": [
    {
     "data": {
      "text/plain": [
       "'mlp0'"
      ]
     },
     "execution_count": 22,
     "metadata": {},
     "output_type": "execute_result"
    }
   ],
   "source": [
    "net.name"
   ]
  },
  {
   "cell_type": "code",
   "execution_count": 24,
   "metadata": {
    "ExecuteTime": {
     "end_time": "2018-01-31T14:36:12.145602Z",
     "start_time": "2018-01-31T14:36:12.141593Z"
    },
    "scrolled": true
   },
   "outputs": [
    {
     "data": {
      "text/plain": [
       "'mlp0_dense0'"
      ]
     },
     "execution_count": 24,
     "metadata": {},
     "output_type": "execute_result"
    }
   ],
   "source": [
    "net.dense0.name"
   ]
  },
  {
   "cell_type": "code",
   "execution_count": 29,
   "metadata": {
    "ExecuteTime": {
     "end_time": "2018-01-31T14:39:05.746649Z",
     "start_time": "2018-01-31T14:39:05.742630Z"
    }
   },
   "outputs": [
    {
     "data": {
      "text/plain": [
       "'DS'"
      ]
     },
     "execution_count": 29,
     "metadata": {},
     "output_type": "execute_result"
    }
   ],
   "source": [
    "net1 = MLP(prefix= 'DS')\n",
    "net1.name"
   ]
  },
  {
   "cell_type": "code",
   "execution_count": 30,
   "metadata": {
    "ExecuteTime": {
     "end_time": "2018-01-31T14:46:21.741040Z",
     "start_time": "2018-01-31T14:46:21.732032Z"
    }
   },
   "outputs": [],
   "source": [
    "class Seq(Block):\n",
    "    def __init_(self, **kwargs):\n",
    "        super(Seq, self).__init__(**kwargs)\n",
    "\n",
    "    def add(self, block):\n",
    "        self._children.append(block)\n",
    "\n",
    "    def forward(self, x):\n",
    "        for block in self._children:\n",
    "            x = block(x)\n",
    "        return x"
   ]
  },
  {
   "cell_type": "code",
   "execution_count": 31,
   "metadata": {
    "ExecuteTime": {
     "end_time": "2018-01-31T14:46:37.171654Z",
     "start_time": "2018-01-31T14:46:37.168650Z"
    }
   },
   "outputs": [],
   "source": []
  },
  {
   "cell_type": "code",
   "execution_count": 34,
   "metadata": {
    "ExecuteTime": {
     "end_time": "2018-01-31T14:48:22.917737Z",
     "start_time": "2018-01-31T14:48:22.901695Z"
    }
   },
   "outputs": [
    {
     "data": {
      "text/plain": [
       "\n",
       "[[ 0.00125143  0.04250534 -0.07276478  0.06192751 -0.12929577  0.01719256\n",
       "  -0.18600181 -0.05487109  0.04065901 -0.1052457 ]\n",
       " [-0.00350935  0.03277287 -0.06707863  0.06634712 -0.11668625  0.02932369\n",
       "  -0.16401376 -0.0475485   0.04240021 -0.09848359]\n",
       " [-0.03700915 -0.00499265 -0.02682955  0.04019777 -0.08240686 -0.00267177\n",
       "  -0.08649755 -0.01912347  0.0198795  -0.0789648 ]\n",
       " [ 0.015561    0.02819154 -0.08843101  0.07203753 -0.12555374  0.01921275\n",
       "  -0.1757026  -0.04237428 -0.00021741 -0.07010867]]\n",
       "<NDArray 4x10 @cpu(0)>"
      ]
     },
     "execution_count": 34,
     "metadata": {},
     "output_type": "execute_result"
    }
   ],
   "source": [
    "net4 = Seq()\n",
    "\n",
    "with net4.name_scope():\n",
    "    net4.add(Dense(256, activation=\"relu\"))\n",
    "    net4.add(Dense(10))\n",
    "\n",
    "net4.initialize()\n",
    "y = net4(x)\n",
    "y"
   ]
  },
  {
   "cell_type": "code",
   "execution_count": 35,
   "metadata": {
    "ExecuteTime": {
     "end_time": "2018-01-31T14:48:42.590322Z",
     "start_time": "2018-01-31T14:48:42.586307Z"
    }
   },
   "outputs": [
    {
     "data": {
      "text/plain": [
       "[Dense(20 -> 256, Activation(relu)), Dense(256 -> 10, linear)]"
      ]
     },
     "execution_count": 35,
     "metadata": {},
     "output_type": "execute_result"
    }
   ],
   "source": [
    "net4._children"
   ]
  },
  {
   "cell_type": "code",
   "execution_count": null,
   "metadata": {},
   "outputs": [],
   "source": []
  }
 ],
 "metadata": {
  "kernelspec": {
   "display_name": "Python 3",
   "language": "python",
   "name": "python3"
  },
  "language_info": {
   "codemirror_mode": {
    "name": "ipython",
    "version": 3
   },
   "file_extension": ".py",
   "mimetype": "text/x-python",
   "name": "python",
   "nbconvert_exporter": "python",
   "pygments_lexer": "ipython3",
   "version": "3.6.4"
  },
  "latex_envs": {
   "LaTeX_envs_menu_present": true,
   "autoclose": false,
   "autocomplete": true,
   "bibliofile": "biblio.bib",
   "cite_by": "apalike",
   "current_citInitial": 1,
   "eqLabelWithNumbers": true,
   "eqNumInitial": 1,
   "hotkeys": {
    "equation": "Ctrl-E",
    "itemize": "Ctrl-I"
   },
   "labels_anchors": false,
   "latex_user_defs": false,
   "report_style_numbering": false,
   "user_envs_cfg": false
  },
  "nbTranslate": {
   "displayLangs": [
    "*"
   ],
   "hotkey": "alt-t",
   "langInMainMenu": true,
   "sourceLang": "en",
   "targetLang": "fr",
   "useGoogleTranslate": true
  },
  "toc": {
   "nav_menu": {},
   "number_sections": true,
   "sideBar": true,
   "skip_h1_title": false,
   "title_cell": "Table of Contents",
   "title_sidebar": "Contents",
   "toc_cell": false,
   "toc_position": {},
   "toc_section_display": true,
   "toc_window_display": false
  },
  "varInspector": {
   "cols": {
    "lenName": 16,
    "lenType": 16,
    "lenVar": 40
   },
   "kernels_config": {
    "python": {
     "delete_cmd_postfix": "",
     "delete_cmd_prefix": "del ",
     "library": "var_list.py",
     "varRefreshCmd": "print(var_dic_list())"
    },
    "r": {
     "delete_cmd_postfix": ") ",
     "delete_cmd_prefix": "rm(",
     "library": "var_list.r",
     "varRefreshCmd": "cat(var_dic_list()) "
    }
   },
   "types_to_exclude": [
    "module",
    "function",
    "builtin_function_or_method",
    "instance",
    "_Feature"
   ],
   "window_display": false
  }
 },
 "nbformat": 4,
 "nbformat_minor": 2
}
