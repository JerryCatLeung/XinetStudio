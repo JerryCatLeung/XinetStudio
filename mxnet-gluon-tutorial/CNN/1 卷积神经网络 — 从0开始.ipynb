{
 "cells": [
  {
   "cell_type": "markdown",
   "metadata": {},
   "source": [
    "# 卷积神经网络 --- 从0开始\n",
    "\n",
    "之前的教程里，在输入神经网络前我们将输入图片直接转成了向量。这样做有两个不好的地方：\n",
    "\n",
    "- 在图片里相近的像素在向量表示里可能很远，从而模型很难捕获他们的空间关系。\n",
    "- 对于大图片输入，模型可能会很大。例如输入是 $256\\times 256\\times3$ 的照片（仍然远比手机拍的小），输出层是 $1000$，那么这一层的模型大小是将近 $1$ GB.\n",
    "\n",
    "这一节我们介绍卷积神经网络，其有效了解决了上述两个问题。\n",
    "\n",
    "## 卷积神经网络\n",
    "\n",
    "卷积神经网络是指主要由卷积层构成的神经网络。\n",
    "\n",
    "### 卷积层\n",
    "\n",
    "卷积层跟前面的全连接层类似，但输入和权重不是做简单的矩阵乘法，而是使用每次作用在一个窗口上的卷积。下图演示了输入是一个 $4\\times 4$ 矩阵，使用一个 $3\\times 3$ 的权重，计算得到 $2\\times 2$ 结果的过程。每次我们采样一个跟权重一样大小的窗口，让它跟权重做按元素的乘法然后相加。通常我们也是用卷积的术语把这个权重叫 **kernel** 或者 **filter**。\n",
    "\n",
    "![](https://nbviewer.jupyter.org/github/q735613050/XinetStudio/blob/master/gluon-tutorials-zh/img/no_padding_no_strides.gif)\n",
    "（图片版权属于vdumoulin@github）\n",
    "\n",
    "我们使用 `nd.Convolution` 来演示这个。"
   ]
  },
  {
   "cell_type": "code",
   "execution_count": 1,
   "metadata": {
    "ExecuteTime": {
     "end_time": "2018-03-06T15:15:58.986127Z",
     "start_time": "2018-03-06T15:15:57.301127Z"
    }
   },
   "outputs": [
    {
     "name": "stderr",
     "output_type": "stream",
     "text": [
      "C:\\Anaconda3\\lib\\site-packages\\h5py\\__init__.py:34: FutureWarning: Conversion of the second argument of issubdtype from `float` to `np.floating` is deprecated. In future, it will be treated as `np.float64 == np.dtype(float).type`.\n",
      "  from ._conv import register_converters as _register_converters\n",
      "C:\\Anaconda3\\lib\\site-packages\\urllib3\\contrib\\pyopenssl.py:46: DeprecationWarning: OpenSSL.rand is deprecated - you should use os.urandom instead\n",
      "  import OpenSSL.SSL\n"
     ]
    },
    {
     "name": "stdout",
     "output_type": "stream",
     "text": [
      "input: \n",
      "[[[[0. 1. 2.]\n",
      "   [3. 4. 5.]\n",
      "   [6. 7. 8.]]]]\n",
      "<NDArray 1x1x3x3 @cpu(0)> \n",
      "\n",
      "weight: \n",
      "[[[[0. 1.]\n",
      "   [2. 3.]]]]\n",
      "<NDArray 1x1x2x2 @cpu(0)> \n",
      "\n",
      "bias: \n",
      "[1.]\n",
      "<NDArray 1 @cpu(0)> \n",
      "\n",
      "output: \n",
      "[[[[20. 26.]\n",
      "   [38. 44.]]]]\n",
      "<NDArray 1x1x2x2 @cpu(0)>\n"
     ]
    }
   ],
   "source": [
    "from mxnet import nd\n",
    "\n",
    "# 输入输出数据格式是 batch x channel x height x width，这里 batch 和 channel 都是 1\n",
    "# 权重格式是 output_channels x in_channels x height x width，这里 input_filter 和 output_filter 都是 1\n",
    "w = nd.arange(4).reshape((1, 1, 2, 2))\n",
    "b = nd.array([1])\n",
    "data = nd.arange(9).reshape((1, 1, 3, 3))\n",
    "out = nd.Convolution(data, w, b, kernel=w.shape[2:], num_filter=w.shape[1])\n",
    "\n",
    "print('input:', data, '\\n\\nweight:', w, '\\n\\nbias:', b, '\\n\\noutput:', out)"
   ]
  },
  {
   "cell_type": "markdown",
   "metadata": {},
   "source": [
    "我们可以控制如何移动窗口，和在边缘的时候如何填充窗口。下图演示了 `stride=2` 和 `pad=1`。\n",
    "\n",
    "![](https://nbviewer.jupyter.org/github/q735613050/XinetStudio/blob/master/gluon-tutorials-zh/img/padding_strides.gif)"
   ]
  },
  {
   "cell_type": "code",
   "execution_count": 3,
   "metadata": {
    "ExecuteTime": {
     "end_time": "2018-02-02T06:03:27.333310Z",
     "start_time": "2018-02-02T06:03:27.317260Z"
    }
   },
   "outputs": [
    {
     "name": "stdout",
     "output_type": "stream",
     "text": [
      "input: \n",
      "[[[[0. 1. 2.]\n",
      "   [3. 4. 5.]\n",
      "   [6. 7. 8.]]]]\n",
      "<NDArray 1x1x3x3 @cpu(0)> \n",
      "\n",
      "weight: \n",
      "[[[[0. 1.]\n",
      "   [2. 3.]]]]\n",
      "<NDArray 1x1x2x2 @cpu(0)> \n",
      "\n",
      "bias: \n",
      "[1.]\n",
      "<NDArray 1 @cpu(0)> \n",
      "\n",
      "output: \n",
      "[[[[ 1.  9.]\n",
      "   [22. 44.]]]]\n",
      "<NDArray 1x1x2x2 @cpu(0)>\n"
     ]
    }
   ],
   "source": [
    "out = nd.Convolution(data, w, b, kernel=w.shape[2:], num_filter=w.shape[1],\n",
    "                     stride=(2,2), pad=(1,1))\n",
    "\n",
    "print('input:', data, '\\n\\nweight:', w, '\\n\\nbias:', b, '\\n\\noutput:', out)"
   ]
  },
  {
   "cell_type": "markdown",
   "metadata": {},
   "source": [
    "当输入数据有多个通道的时候，每个通道会有对应的权重，然后会对每个通道做卷积之后在通道之间求和：\n",
    "$$conv(data, w, b) = \\sum_i conv(data[:,i,:,:], w[:,i,:,:], b)$$"
   ]
  },
  {
   "cell_type": "code",
   "execution_count": 43,
   "metadata": {
    "ExecuteTime": {
     "end_time": "2018-02-01T08:37:41.815499Z",
     "start_time": "2018-02-01T08:37:41.799486Z"
    }
   },
   "outputs": [
    {
     "name": "stdout",
     "output_type": "stream",
     "text": [
      "input: \n",
      "[[[[ 0.  1.  2.]\n",
      "   [ 3.  4.  5.]\n",
      "   [ 6.  7.  8.]]\n",
      "\n",
      "  [[ 9. 10. 11.]\n",
      "   [12. 13. 14.]\n",
      "   [15. 16. 17.]]]]\n",
      "<NDArray 1x2x3x3 @cpu(0)> \n",
      "\n",
      "weight: \n",
      "[[[[ 0.  1.]\n",
      "   [ 2.  3.]]\n",
      "\n",
      "  [[ 4.  5.]\n",
      "   [ 6.  7.]]]\n",
      "\n",
      "\n",
      " [[[ 8.  9.]\n",
      "   [10. 11.]]\n",
      "\n",
      "  [[12. 13.]\n",
      "   [14. 15.]]]]\n",
      "<NDArray 2x2x2x2 @cpu(0)> \n",
      "\n",
      "bias: \n",
      "[1. 2.]\n",
      "<NDArray 2 @cpu(0)> \n",
      "\n",
      "output: \n",
      "[[[[ 269.  297.]\n",
      "   [ 353.  381.]]\n",
      "\n",
      "  [[ 686.  778.]\n",
      "   [ 962. 1054.]]]]\n",
      "<NDArray 1x2x2x2 @cpu(0)>\n"
     ]
    }
   ],
   "source": [
    "w = nd.arange(16).reshape((2,2,2,2))\n",
    "data = nd.arange(18).reshape((1,2,3,3))\n",
    "b = nd.array([1,2])\n",
    "\n",
    "out = nd.Convolution(data, w, b, kernel=w.shape[2:], num_filter=w.shape[0])\n",
    "\n",
    "print('input:', data, '\\n\\nweight:', w, '\\n\\nbias:', b, '\\n\\noutput:', out)"
   ]
  },
  {
   "cell_type": "markdown",
   "metadata": {},
   "source": [
    "### 池化层（pooling）\n",
    "\n",
    "因为卷积层每次作用在一个窗口，它对位置很敏感。池化层能够很好的缓解这个问题。它跟卷积类似每次看一个小窗口，然后选出窗口里面最大的元素，或者平均元素作为输出。"
   ]
  },
  {
   "cell_type": "code",
   "execution_count": 6,
   "metadata": {
    "ExecuteTime": {
     "end_time": "2018-02-01T07:03:54.489132Z",
     "start_time": "2018-02-01T07:03:54.478138Z"
    },
    "scrolled": false
   },
   "outputs": [
    {
     "name": "stdout",
     "output_type": "stream",
     "text": [
      "data: \n",
      "[[[[ 0.  1.  2.]\n",
      "   [ 3.  4.  5.]\n",
      "   [ 6.  7.  8.]]\n",
      "\n",
      "  [[ 9. 10. 11.]\n",
      "   [12. 13. 14.]\n",
      "   [15. 16. 17.]]]]\n",
      "<NDArray 1x2x3x3 @cpu(0)> \n",
      "\n",
      "max pooling: \n",
      "[[[[ 4.  5.]\n",
      "   [ 7.  8.]]\n",
      "\n",
      "  [[13. 14.]\n",
      "   [16. 17.]]]]\n",
      "<NDArray 1x2x2x2 @cpu(0)> \n",
      "\n",
      "avg pooling: \n",
      "[[[[ 2.  3.]\n",
      "   [ 5.  6.]]\n",
      "\n",
      "  [[11. 12.]\n",
      "   [14. 15.]]]]\n",
      "<NDArray 1x2x2x2 @cpu(0)>\n"
     ]
    }
   ],
   "source": [
    "data = nd.arange(18).reshape((1,2,3,3))\n",
    "\n",
    "max_pool = nd.Pooling(data=data, pool_type=\"max\", kernel=(2,2))\n",
    "avg_pool = nd.Pooling(data=data, pool_type=\"avg\", kernel=(2,2))\n",
    "\n",
    "print('data:', data, '\\n\\nmax pooling:', max_pool, '\\n\\navg pooling:', avg_pool)"
   ]
  },
  {
   "cell_type": "markdown",
   "metadata": {},
   "source": [
    "下面我们可以开始使用这些层构建模型了。\n",
    "\n",
    "\n",
    "## 获取数据\n",
    "\n",
    "我们继续使用 FashionMNIST（希望你还没有彻底厌烦这个数据）"
   ]
  },
  {
   "cell_type": "code",
   "execution_count": 1,
   "metadata": {
    "ExecuteTime": {
     "end_time": "2018-02-03T05:52:56.287791Z",
     "start_time": "2018-02-03T05:52:53.617685Z"
    }
   },
   "outputs": [
    {
     "name": "stderr",
     "output_type": "stream",
     "text": [
      "c:\\anaconda3\\lib\\site-packages\\h5py\\__init__.py:34: FutureWarning: Conversion of the second argument of issubdtype from `float` to `np.floating` is deprecated. In future, it will be treated as `np.float64 == np.dtype(float).type`.\n",
      "  from ._conv import register_converters as _register_converters\n",
      "c:\\anaconda3\\lib\\site-packages\\urllib3\\contrib\\pyopenssl.py:46: DeprecationWarning: OpenSSL.rand is deprecated - you should use os.urandom instead\n",
      "  import OpenSSL.SSL\n",
      "c:\\anaconda3\\lib\\site-packages\\mxnet\\gluon\\data\\vision\\datasets.py:82: DeprecationWarning: The binary mode of fromstring is deprecated, as it behaves surprisingly on unicode inputs. Use frombuffer instead\n",
      "  label = np.fromstring(fin.read(), dtype=np.uint8).astype(np.int32)\n",
      "c:\\anaconda3\\lib\\site-packages\\mxnet\\gluon\\data\\vision\\datasets.py:86: DeprecationWarning: The binary mode of fromstring is deprecated, as it behaves surprisingly on unicode inputs. Use frombuffer instead\n",
      "  data = np.fromstring(fin.read(), dtype=np.uint8)\n"
     ]
    }
   ],
   "source": [
    "from mxnet import gluon, nd\n",
    "root= 'E:/Data/MXNet/fashion-mnist'\n",
    "\n",
    "def transform(data, label):\n",
    "        '''转换为 `float32` 数据类型'''\n",
    "        return nd.transpose(data.astype('float32'), (2, 0, 1)) / 255, label.astype('float32')\n",
    "    \n",
    "mnist_train = gluon.data.vision.FashionMNIST(root, train= True, transform= transform)\n",
    "mnist_test = gluon.data.vision.FashionMNIST(root, train= False, transform= transform)\n",
    "\n",
    "batch_size = 256\n",
    "\n",
    "train_data = gluon.data.DataLoader(mnist_train, batch_size, shuffle= True)\n",
    "test_data = gluon.data.DataLoader(mnist_test, batch_size, shuffle= False)"
   ]
  },
  {
   "cell_type": "code",
   "execution_count": 2,
   "metadata": {
    "ExecuteTime": {
     "end_time": "2018-02-03T05:53:00.013511Z",
     "start_time": "2018-02-03T05:52:59.890179Z"
    }
   },
   "outputs": [
    {
     "name": "stdout",
     "output_type": "stream",
     "text": [
      "data.shape: (256, 1, 28, 28) \n",
      "label.shape: (256,)\n"
     ]
    }
   ],
   "source": [
    "for data, label in train_data:\n",
    "    # change data from batch x height x weight x channel to batch x channel x height x weight\n",
    "    print('data.shape: {} \\nlabel.shape: {}'.format(data.shape, label.shape))\n",
    "    break"
   ]
  },
  {
   "cell_type": "markdown",
   "metadata": {
    "ExecuteTime": {
     "end_time": "2018-02-01T07:18:32.228105Z",
     "start_time": "2018-02-01T07:18:32.224102Z"
    }
   },
   "source": [
    "## 定义模型\n",
    "\n",
    "因为卷积网络计算比全连接要复杂，这里我们默认使用 GPU 来计算。如果 GPU 不能用，默认使用CPU。（下面这段代码会保存在 `utils.py` 里可以下次重复使用）。"
   ]
  },
  {
   "cell_type": "code",
   "execution_count": 3,
   "metadata": {
    "ExecuteTime": {
     "end_time": "2018-02-03T05:53:04.205578Z",
     "start_time": "2018-02-03T05:53:01.453187Z"
    }
   },
   "outputs": [
    {
     "data": {
      "text/plain": [
       "gpu(0)"
      ]
     },
     "execution_count": 3,
     "metadata": {},
     "output_type": "execute_result"
    }
   ],
   "source": [
    "import mxnet as mx\n",
    "\n",
    "try:\n",
    "    ctx = mx.gpu()\n",
    "    _ = nd.zeros((1,), ctx= ctx)\n",
    "except:\n",
    "    ctx = mx.cpu()\n",
    "ctx"
   ]
  },
  {
   "cell_type": "markdown",
   "metadata": {},
   "source": [
    "我们使用 MNIST 常用的 LeNet，它有两个卷积层，之后是两个全连接层。注意到我们将权重全部创建在 `ctx` 上："
   ]
  },
  {
   "cell_type": "code",
   "execution_count": 4,
   "metadata": {
    "ExecuteTime": {
     "end_time": "2018-02-03T05:53:07.920566Z",
     "start_time": "2018-02-03T05:53:07.895520Z"
    }
   },
   "outputs": [],
   "source": [
    "weight_scale = .01\n",
    "\n",
    "# output channels = 20, kernel = (5,5)\n",
    "W1 = nd.random_normal(shape=(20, 1, 5, 5), scale= weight_scale, ctx= ctx)\n",
    "b1 = nd.zeros(W1.shape[0], ctx= ctx)\n",
    "\n",
    "# output channels = 50, kernel = (3,3)\n",
    "W2 = nd.random_normal(shape=(50, 20, 3, 3), scale=weight_scale, ctx= ctx)\n",
    "b2 = nd.zeros(W2.shape[0], ctx= ctx)\n",
    "\n",
    "# output dim = 128\n",
    "W3 = nd.random_normal(shape=(1250, 128), scale=weight_scale, ctx= ctx)\n",
    "b3 = nd.zeros(W3.shape[1], ctx= ctx)\n",
    "\n",
    "# output dim = 10\n",
    "W4 = nd.random_normal(shape=(W3.shape[1], 10), scale=weight_scale, ctx= ctx)\n",
    "b4 = nd.zeros(W4.shape[1], ctx= ctx)\n",
    "\n",
    "params = [W1, b1, W2, b2, W3, b3, W4, b4]\n",
    "for param in params:\n",
    "    param.attach_grad()"
   ]
  },
  {
   "cell_type": "markdown",
   "metadata": {},
   "source": [
    "卷积模块通常是“卷积层-激活层-池化层”。然后转成2D矩阵输出给后面的全连接层。"
   ]
  },
  {
   "cell_type": "code",
   "execution_count": 10,
   "metadata": {
    "ExecuteTime": {
     "end_time": "2018-02-03T05:55:35.362336Z",
     "start_time": "2018-02-03T05:55:35.326212Z"
    }
   },
   "outputs": [],
   "source": [
    "def net(X, verbose=False):\n",
    "    # 第一层卷积\n",
    "    h1_conv = nd.Convolution(\n",
    "        data=X, weight=W1, bias=b1, kernel=W1.shape[2:], num_filter=W1.shape[0])\n",
    "    h1_activation = nd.relu(h1_conv)\n",
    "    h1 = nd.Pooling(\n",
    "        data=h1_activation, pool_type=\"max\", kernel=(2,2), stride=(2,2))\n",
    "    # 第二层卷积\n",
    "    h2_conv = nd.Convolution(\n",
    "        data=h1, weight=W2, bias=b2, kernel=W2.shape[2:], num_filter=W2.shape[0])\n",
    "    h2_activation = nd.relu(h2_conv)\n",
    "    h2 = nd.Pooling(data=h2_activation, pool_type=\"max\", kernel=(2,2), stride=(2,2))\n",
    "    h2 = nd.flatten(h2)\n",
    "    # 第一层全连接\n",
    "    h3_linear = nd.dot(h2, W3) + b3\n",
    "    h3 = nd.relu(h3_linear)\n",
    "    # 第二层全连接\n",
    "    h4_linear = nd.dot(h3, W4) + b4\n",
    "    if verbose:\n",
    "        print('1st conv block:', h1.shape)\n",
    "        print('2nd conv block:', h2.shape)\n",
    "        print('1st dense:', h3.shape)\n",
    "        print('2nd dense:', h4_linear.shape)\n",
    "        print('output:', h4_linear)\n",
    "    return h4_linear"
   ]
  },
  {
   "cell_type": "markdown",
   "metadata": {},
   "source": [
    "测试一下，输出中间结果形状（当然可以直接打印结果)和最终结果。"
   ]
  },
  {
   "cell_type": "code",
   "execution_count": 11,
   "metadata": {
    "ExecuteTime": {
     "end_time": "2018-02-03T05:55:38.338796Z",
     "start_time": "2018-02-03T05:55:38.228534Z"
    }
   },
   "outputs": [
    {
     "name": "stdout",
     "output_type": "stream",
     "text": [
      "1st conv block: (256, 20, 12, 12)\n",
      "2nd conv block: (256, 1250)\n",
      "1st dense: (256, 128)\n",
      "2nd dense: (256, 10)\n",
      "output: \n",
      "[[-2.41494490e-05  5.85666567e-06  3.74903684e-05 ...  9.94228176e-05\n",
      "   2.08216970e-05 -1.49895250e-05]\n",
      " [-2.17679662e-05  2.98850500e-05  5.94628546e-06 ...  1.17238465e-04\n",
      "   2.35506086e-05 -1.70327730e-05]\n",
      " [-2.74579652e-05 -1.27153398e-05  8.77077691e-05 ...  1.47502622e-04\n",
      "   2.43504473e-06 -1.89518687e-05]\n",
      " ...\n",
      " [-4.48707142e-05  6.67722124e-05  1.09697794e-05 ...  1.92602733e-04\n",
      "   8.93810284e-06  4.70555897e-05]\n",
      " [ 1.76600915e-05  1.65782512e-05 -4.63700235e-06 ...  7.45802536e-05\n",
      "   8.94914956e-06 -2.91212727e-05]\n",
      " [ 1.86370744e-06  3.80111196e-05  5.67368988e-05 ...  8.69753421e-05\n",
      "   1.21027733e-05  1.91106938e-05]]\n",
      "<NDArray 256x10 @gpu(0)>\n"
     ]
    }
   ],
   "source": [
    "for data, _ in train_data:\n",
    "    net(data.as_in_context(ctx), verbose=True)\n",
    "    break"
   ]
  },
  {
   "cell_type": "markdown",
   "metadata": {},
   "source": [
    "## 训练\n",
    "\n",
    "跟前面没有什么不同的，除了这里我们使用`as_in_context`将`data`和`label`都放置在需要的设备上。（下面这段代码也将保存在`utils.py`里方便之后使用）。"
   ]
  },
  {
   "cell_type": "code",
   "execution_count": 15,
   "metadata": {
    "ExecuteTime": {
     "end_time": "2018-02-03T07:22:24.423934Z",
     "start_time": "2018-02-03T07:20:04.149063Z"
    }
   },
   "outputs": [
    {
     "name": "stdout",
     "output_type": "stream",
     "text": [
      "Epoch 0. Loss: 0.002178, Train acc 0.999751, Test acc 0.911400\n",
      "Epoch 1. Loss: 0.001704, Train acc 0.999950, Test acc 0.911000\n",
      "Epoch 2. Loss: 0.001475, Train acc 0.999950, Test acc 0.912700\n",
      "Epoch 3. Loss: 0.001447, Train acc 0.999934, Test acc 0.911600\n",
      "Epoch 4. Loss: 0.001240, Train acc 0.999967, Test acc 0.911000\n",
      "Epoch 5. Loss: 0.001126, Train acc 0.999967, Test acc 0.911200\n",
      "Epoch 6. Loss: 0.001086, Train acc 0.999983, Test acc 0.910900\n",
      "Epoch 7. Loss: 0.000942, Train acc 1.000000, Test acc 0.911600\n",
      "Epoch 8. Loss: 0.000911, Train acc 1.000000, Test acc 0.911300\n",
      "Epoch 9. Loss: 0.000851, Train acc 1.000000, Test acc 0.910200\n"
     ]
    }
   ],
   "source": [
    "from mxnet import autograd as autograd\n",
    "from utils import SGD, accuracy, evaluate_accuracy\n",
    "from mxnet import gluon\n",
    "\n",
    "softmax_cross_entropy = gluon.loss.SoftmaxCrossEntropyLoss()\n",
    "\n",
    "learning_rate = .2\n",
    "\n",
    "for epoch in range(10):\n",
    "    train_loss = 0.\n",
    "    train_acc = 0.\n",
    "    for data, label in train_data:\n",
    "        label = label.as_in_context(ctx)\n",
    "        data = data.as_in_context(ctx)\n",
    "        with autograd.record():\n",
    "            output = net(data)\n",
    "            loss = softmax_cross_entropy(output, label)\n",
    "        loss.backward()\n",
    "        SGD(params, learning_rate/batch_size)\n",
    "\n",
    "        train_loss += nd.mean(loss).asscalar()\n",
    "        train_acc += accuracy(output, label)\n",
    "\n",
    "    test_acc = evaluate_accuracy(test_data, net, ctx)\n",
    "    print(\"Epoch %d. Loss: %f, Train acc %f, Test acc %f\" % (\n",
    "        epoch, train_loss/len(train_data),\n",
    "        train_acc/len(train_data), test_acc))"
   ]
  },
  {
   "cell_type": "markdown",
   "metadata": {},
   "source": [
    "## 结论\n",
    "\n",
    "可以看到卷积神经网络比前面的多层感知的分类精度更好。事实上，如果你看懂了这一章，那你基本知道了计算视觉里最重要的几个想法。LeNet早在90年代就提出来了。不管你相信不相信，如果你5年前懂了这个而且开了家公司，那么你很可能现在已经把公司作价几千万卖个某大公司了。幸运的是，或者不幸的是，现在的算法已经更加高级些了，接下来我们会看到一些更加新的想法。\n",
    "\n",
    "## 练习\n",
    "\n",
    "- 试试改改卷积层设定，例如filter数量，kernel大小\n",
    "- 试试把池化层从`max`改到`avg`\n",
    "- 如果你有GPU，那么尝试用CPU来跑一下看看\n",
    "- 你可能注意到比前面的多层感知机慢了很多，那么尝试计算下这两个模型分别需要多少浮点计算。例如$n\\times m$和$m \\times k$的矩阵乘法需要浮点运算 $2nmk$。\n",
    "\n",
    "**吐槽和讨论欢迎点**[这里](https://discuss.gluon.ai/t/topic/736)"
   ]
  }
 ],
 "metadata": {
  "kernelspec": {
   "display_name": "Python 3",
   "language": "python",
   "name": "python3"
  },
  "language_info": {
   "codemirror_mode": {
    "name": "ipython",
    "version": 3
   },
   "file_extension": ".py",
   "mimetype": "text/x-python",
   "name": "python",
   "nbconvert_exporter": "python",
   "pygments_lexer": "ipython3",
   "version": "3.6.3"
  },
  "latex_envs": {
   "LaTeX_envs_menu_present": true,
   "autoclose": false,
   "autocomplete": true,
   "bibliofile": "biblio.bib",
   "cite_by": "apalike",
   "current_citInitial": 1,
   "eqLabelWithNumbers": true,
   "eqNumInitial": 1,
   "hotkeys": {
    "equation": "Ctrl-E",
    "itemize": "Ctrl-I"
   },
   "labels_anchors": false,
   "latex_user_defs": false,
   "report_style_numbering": false,
   "user_envs_cfg": false
  },
  "nbTranslate": {
   "displayLangs": [
    "*"
   ],
   "hotkey": "alt-t",
   "langInMainMenu": true,
   "sourceLang": "en",
   "targetLang": "fr",
   "useGoogleTranslate": true
  },
  "toc": {
   "nav_menu": {},
   "number_sections": true,
   "sideBar": true,
   "skip_h1_title": false,
   "title_cell": "Table of Contents",
   "title_sidebar": "Contents",
   "toc_cell": false,
   "toc_position": {
    "height": "calc(100% - 180px)",
    "left": "10px",
    "top": "150px",
    "width": "320px"
   },
   "toc_section_display": true,
   "toc_window_display": false
  },
  "varInspector": {
   "cols": {
    "lenName": 16,
    "lenType": 16,
    "lenVar": 40
   },
   "kernels_config": {
    "python": {
     "delete_cmd_postfix": "",
     "delete_cmd_prefix": "del ",
     "library": "var_list.py",
     "varRefreshCmd": "print(var_dic_list())"
    },
    "r": {
     "delete_cmd_postfix": ") ",
     "delete_cmd_prefix": "rm(",
     "library": "var_list.r",
     "varRefreshCmd": "cat(var_dic_list()) "
    }
   },
   "types_to_exclude": [
    "module",
    "function",
    "builtin_function_or_method",
    "instance",
    "_Feature"
   ],
   "window_display": false
  }
 },
 "nbformat": 4,
 "nbformat_minor": 2
}
