{
 "cells": [
  {
   "cell_type": "markdown",
   "metadata": {},
   "source": [
    "# ResNet：深度残差网络\n",
    "\n",
    "当大家还在惊叹GoogLeNet用结构化的连接纳入了大量卷积层的时候，微软亚洲研究院的研究员已经在设计更深但结构更简单的网络[ResNet](https://arxiv.org/abs/1512.03385)。他们凭借这个网络在2015年的Imagenet竞赛中大获全胜。\n",
    "\n",
    "ResNet有效的解决了深度卷积神经网络难训练的问题。这是因为在误差反传的过程中，梯度通常变得越来越小，从而权重的更新量也变小。这个导致远离损失函数的层训练缓慢，随着层数的增加这个现象更加明显。之前有两种常用方案来尝试解决这个问题：\n",
    "\n",
    "1. 按层训练。先训练靠近数据的层，然后慢慢的增加后面的层。但效果不是特别好，而且比较麻烦。\n",
    "2. 使用更宽的层（增加输出通道）而不是更深来增加模型复杂度。但更宽的模型经常不如更深的效果好。\n",
    "\n",
    "ResNet通过增加跨层的连接来解决梯度逐层回传时变小的问题。虽然这个想法之前就提出过了，但ResNet真正的把效果做好了。\n",
    "\n",
    "\n",
    "在训练过程中，左边的网络因为更简单所以更容易训练。这个小网络没有拟合到的部分，或者说残差，则被右边的网络抓取住。所以直观上来说，即使加深网络，跨层连接仍然可以使得底层网络可以充分的训练，从而不会让训练更难。\n",
    "\n",
    "## Residual块\n",
    "\n",
    "ResNet沿用了VGG的那种全用$3\\times 3$卷积，但在卷积和池化层之间加入了批量归一层来加速训练。每次跨层连接跨过两层卷积。这里我们定义一个这样的残差块。注意到如果输入的通道数和输出不一样时（`same_shape=False`），我们使用一个额外的$1\\times 1$卷积来做通道变化，同时使用`strides=2`来把长宽减半。"
   ]
  },
  {
   "cell_type": "code",
   "execution_count": 1,
   "metadata": {
    "ExecuteTime": {
     "end_time": "2018-04-24T06:11:22.224251Z",
     "start_time": "2018-04-24T06:11:20.064723Z"
    }
   },
   "outputs": [],
   "source": [
    "from mxnet.gluon import nn\n",
    "from mxnet import nd\n",
    "\n",
    "class Residual(nn.Block):\n",
    "    def __init__(self, channels, same_shape=True, **kwargs):\n",
    "        super().__init__(**kwargs)\n",
    "        self.same_shape = same_shape\n",
    "        strides = 1 if same_shape else 2\n",
    "        self.conv1 = nn.Conv2D(channels, kernel_size=3, padding=1,\n",
    "                              strides=strides)\n",
    "        self.bn1 = nn.BatchNorm()\n",
    "        self.conv2 = nn.Conv2D(channels, kernel_size=3, padding=1)\n",
    "        self.bn2 = nn.BatchNorm()\n",
    "        if not same_shape:\n",
    "            self.conv3 = nn.Conv2D(channels, kernel_size=1,\n",
    "                                  strides=strides)\n",
    "\n",
    "    def forward(self, x):\n",
    "        out = nd.relu(self.bn1(self.conv1(x)))\n",
    "        out = self.bn2(self.conv2(out))\n",
    "        if not self.same_shape:\n",
    "            x = self.conv3(x)\n",
    "        return nd.relu(out + x)"
   ]
  },
  {
   "cell_type": "markdown",
   "metadata": {},
   "source": [
    "输入输出通道相同："
   ]
  },
  {
   "cell_type": "code",
   "execution_count": 2,
   "metadata": {
    "ExecuteTime": {
     "end_time": "2018-04-24T06:13:25.134882Z",
     "start_time": "2018-04-24T06:13:25.108864Z"
    }
   },
   "outputs": [
    {
     "data": {
      "text/plain": [
       "(4, 3, 6, 6)"
      ]
     },
     "execution_count": 2,
     "metadata": {},
     "output_type": "execute_result"
    }
   ],
   "source": [
    "blk = Residual(3)\n",
    "blk.initialize()\n",
    "\n",
    "x = nd.random.uniform(shape=(4, 3, 6, 6))\n",
    "blk(x).shape"
   ]
  },
  {
   "cell_type": "markdown",
   "metadata": {},
   "source": [
    "输入输出通道不同："
   ]
  },
  {
   "cell_type": "code",
   "execution_count": 3,
   "metadata": {
    "ExecuteTime": {
     "end_time": "2018-04-24T06:13:47.189327Z",
     "start_time": "2018-04-24T06:13:47.169172Z"
    }
   },
   "outputs": [
    {
     "data": {
      "text/plain": [
       "(4, 8, 3, 3)"
      ]
     },
     "execution_count": 3,
     "metadata": {},
     "output_type": "execute_result"
    }
   ],
   "source": [
    "blk2 = Residual(8, same_shape=False)\n",
    "blk2.initialize()\n",
    "blk2(x).shape"
   ]
  },
  {
   "cell_type": "markdown",
   "metadata": {},
   "source": [
    "## 构建ResNet\n",
    "\n",
    "类似GoogLeNet主体是由Inception块串联而成，ResNet的主体部分串联多个Residual块。下面我们定义18层的ResNet。同样为了阅读更加容易，我们这里使用了多个`nn.Sequential`。另外注意到一点是，这里我们没用池化层来减小数据长宽，而是通过有通道变化的Residual块里面的使用`strides=2`的卷积层。"
   ]
  },
  {
   "cell_type": "code",
   "execution_count": 10,
   "metadata": {
    "ExecuteTime": {
     "end_time": "2018-04-24T10:44:46.757650Z",
     "start_time": "2018-04-24T10:44:46.682067Z"
    }
   },
   "outputs": [],
   "source": [
    "class ResNet(nn.Block):\n",
    "    def __init__(self, num_classes, verbose=False, **kwargs):\n",
    "        super().__init__(**kwargs)\n",
    "        self.verbose = verbose\n",
    "        # add name_scope on the outermost Sequential\n",
    "        with self.name_scope():\n",
    "            # block 1\n",
    "            b1 = nn.Conv2D(64, kernel_size=7, strides=2)\n",
    "            # block 2\n",
    "            b2 = nn.Sequential()\n",
    "            b2.add(\n",
    "                nn.MaxPool2D(pool_size=3, strides=2),\n",
    "                Residual(64),\n",
    "                Residual(64)\n",
    "            )\n",
    "            # block 3\n",
    "            b3 = nn.Sequential()\n",
    "            b3.add(\n",
    "                Residual(128, same_shape=False),\n",
    "                Residual(128)\n",
    "            )\n",
    "            # block 4\n",
    "            b4 = nn.Sequential()\n",
    "            b4.add(\n",
    "                Residual(256, same_shape=False),\n",
    "                Residual(256)\n",
    "            )\n",
    "            # block 5\n",
    "            b5 = nn.Sequential()\n",
    "            b5.add(\n",
    "                Residual(512, same_shape=False),\n",
    "                Residual(512)\n",
    "            )\n",
    "            # block 6\n",
    "            b6 = nn.Sequential()\n",
    "            b6.add(\n",
    "                nn.AvgPool2D(pool_size=3),\n",
    "                nn.Dense(num_classes)\n",
    "            )\n",
    "            # chain all blocks together\n",
    "            self.net = nn.Sequential()\n",
    "            self.net.add(b1, b2, b3, b4, b5, b6)\n",
    "\n",
    "    def forward(self, x):\n",
    "        out = x\n",
    "        for i, b in enumerate(self.net):\n",
    "            out = b(out)\n",
    "            if self.verbose:\n",
    "                print('Block %d output: %s'%(i+1, out.shape))\n",
    "        return out"
   ]
  },
  {
   "cell_type": "markdown",
   "metadata": {},
   "source": [
    "这里演示数据在块之间的形状变化："
   ]
  },
  {
   "cell_type": "code",
   "execution_count": 11,
   "metadata": {
    "ExecuteTime": {
     "end_time": "2018-04-24T10:44:53.617515Z",
     "start_time": "2018-04-24T10:44:53.420979Z"
    }
   },
   "outputs": [
    {
     "name": "stdout",
     "output_type": "stream",
     "text": [
      "Block 1 output: (4, 64, 45, 45)\n",
      "Block 2 output: (4, 64, 22, 22)\n",
      "Block 3 output: (4, 128, 11, 11)\n",
      "Block 4 output: (4, 256, 6, 6)\n",
      "Block 5 output: (4, 512, 3, 3)\n",
      "Block 6 output: (4, 10)\n"
     ]
    }
   ],
   "source": [
    "net = ResNet(10, verbose=True)\n",
    "net.initialize()\n",
    "\n",
    "x = nd.random.uniform(shape=(4, 3, 96, 96))\n",
    "y = net(x)"
   ]
  },
  {
   "cell_type": "markdown",
   "metadata": {},
   "source": [
    "## 获取数据并训练\n",
    "\n",
    "跟前面类似，但因为有批量归一化，所以使用了较大的学习率。"
   ]
  },
  {
   "cell_type": "code",
   "execution_count": 6,
   "metadata": {
    "ExecuteTime": {
     "end_time": "2018-04-24T06:16:37.282561Z",
     "start_time": "2018-04-24T06:16:34.502565Z"
    }
   },
   "outputs": [
    {
     "name": "stderr",
     "output_type": "stream",
     "text": [
      "Using CNTK backend\n",
      "C:\\ProgramData\\Anaconda3\\lib\\site-packages\\keras\\backend\\cntk_backend.py:21: UserWarning: CNTK backend warning: GPU is not detected. CNTK's CPU version is not fully optimized,please run with GPU to get better performance.\n",
      "  'CNTK backend warning: GPU is not detected. '\n",
      "C:\\ProgramData\\Anaconda3\\lib\\site-packages\\cntk\\default_options.py:89: DeprecationWarning: inspect.getargspec() is deprecated, use inspect.signature() or inspect.getfullargspec()\n",
      "  args, _, _, _ = getargspec(function_or_class) if isfunction(function_or_class) else getargspec(function_or_class.__init__)\n"
     ]
    }
   ],
   "source": [
    "import sys\n",
    "sys.path.append('E:/xinlib')\n",
    "import numpy as np\n",
    "import xint\n",
    "import imagex\n",
    "\n",
    "import mxnet as mx\n",
    "from mxnet import gluon, autograd, nd, image\n",
    "from mxnet.gluon import nn\n",
    "\n",
    "\n",
    "net = ResNet(10)\n",
    "\n",
    "\n",
    "ctx = xint.try_gpu()\n",
    "#net.initialize(ctx=ctx, init=mx.init.Xavier())\n",
    "# net.initialize(ctx=ctx)\n",
    "#net.collect_params().initialize(mx.init.Normal(sigma=1), force_reinit=True, ctx=ctx)\n",
    "# net.hybridize()\n",
    "net.initialize(ctx=ctx, init=mx.init.MSRAPrelu())\n",
    "\n",
    "loss = gluon.loss.SoftmaxCrossEntropyLoss()\n",
    "trainer = gluon.Trainer(net.collect_params(), 'adadelta', {'rho': 0.9999})\n",
    "#trainer = gluon.Trainer(net.collect_params(), 'rmsprop', {'learning_rate': 0.03, 'gamma1': 0.9})"
   ]
  },
  {
   "cell_type": "code",
   "execution_count": 7,
   "metadata": {
    "ExecuteTime": {
     "end_time": "2018-04-24T06:17:31.248114Z",
     "start_time": "2018-04-24T06:17:21.561353Z"
    }
   },
   "outputs": [],
   "source": [
    "T = xint.Trainer('cifar10', 'ker2')"
   ]
  },
  {
   "cell_type": "code",
   "execution_count": 9,
   "metadata": {
    "ExecuteTime": {
     "end_time": "2018-04-24T06:40:56.019104Z",
     "start_time": "2018-04-24T06:36:18.433154Z"
    },
    "scrolled": true
   },
   "outputs": [
    {
     "name": "stdout",
     "output_type": "stream",
     "text": [
      "Using image augmentation on the gpu(0)\n",
      "Epoch 0. Loss: 2.0737, Train acc 0.23285, valid acc 0.2981, Time 252.976 sec\n",
      "_____________________________________________________________________________________\n",
      "Test acc 0.312\n",
      "=====================================================================================\n"
     ]
    }
   ],
   "source": [
    "num_epochs = 1\n",
    "batch_size = 64\n",
    "T.train(net, loss, trainer, num_epochs, batch_size, True, *[96, 96])"
   ]
  },
  {
   "cell_type": "markdown",
   "metadata": {},
   "source": [
    "## 结论\n",
    "\n",
    "ResNet使用跨层通道使得训练非常深的卷积神经网络成为可能。同样它使用很简单的卷积层配置，使得其拓展更加简单。\n",
    "\n",
    "## 练习\n",
    "\n",
    "- 这里我们实现了ResNet 18，原论文中还讨论了更深的配置。尝试实现它们。（提示：参考论文中的表1）\n",
    "- 原论文中还介绍了一个“bottleneck”架构，尝试实现它\n",
    "- ResNet作者在[接下来的一篇论文](https://arxiv.org/abs/1603.05027)讨论了将Residual块里面的`Conv->BN->Relu`结构改成了`BN->Relu->Conv`（参考论文图1），尝试实现它\n",
    "\n",
    "\n",
    "**吐槽和讨论欢迎点**[这里](https://discuss.gluon.ai/t/topic/1663)"
   ]
  },
  {
   "cell_type": "code",
   "execution_count": null,
   "metadata": {},
   "outputs": [],
   "source": []
  }
 ],
 "metadata": {
  "kernelspec": {
   "display_name": "Python 3",
   "language": "python",
   "name": "python3"
  },
  "language_info": {
   "codemirror_mode": {
    "name": "ipython",
    "version": 3
   },
   "file_extension": ".py",
   "mimetype": "text/x-python",
   "name": "python",
   "nbconvert_exporter": "python",
   "pygments_lexer": "ipython3",
   "version": "3.6.4"
  },
  "latex_envs": {
   "LaTeX_envs_menu_present": true,
   "autoclose": false,
   "autocomplete": true,
   "bibliofile": "biblio.bib",
   "cite_by": "apalike",
   "current_citInitial": 1,
   "eqLabelWithNumbers": true,
   "eqNumInitial": 1,
   "hotkeys": {
    "equation": "Ctrl-E",
    "itemize": "Ctrl-I"
   },
   "labels_anchors": false,
   "latex_user_defs": false,
   "report_style_numbering": false,
   "user_envs_cfg": false
  },
  "nbTranslate": {
   "displayLangs": [
    "*"
   ],
   "hotkey": "alt-t",
   "langInMainMenu": true,
   "sourceLang": "en",
   "targetLang": "fr",
   "useGoogleTranslate": true
  },
  "toc": {
   "nav_menu": {},
   "number_sections": true,
   "sideBar": true,
   "skip_h1_title": false,
   "title_cell": "Table of Contents",
   "title_sidebar": "Contents",
   "toc_cell": false,
   "toc_position": {},
   "toc_section_display": true,
   "toc_window_display": false
  },
  "varInspector": {
   "cols": {
    "lenName": 16,
    "lenType": 16,
    "lenVar": 40
   },
   "kernels_config": {
    "python": {
     "delete_cmd_postfix": "",
     "delete_cmd_prefix": "del ",
     "library": "var_list.py",
     "varRefreshCmd": "print(var_dic_list())"
    },
    "r": {
     "delete_cmd_postfix": ") ",
     "delete_cmd_prefix": "rm(",
     "library": "var_list.r",
     "varRefreshCmd": "cat(var_dic_list()) "
    }
   },
   "types_to_exclude": [
    "module",
    "function",
    "builtin_function_or_method",
    "instance",
    "_Feature"
   ],
   "window_display": false
  }
 },
 "nbformat": 4,
 "nbformat_minor": 2
}
