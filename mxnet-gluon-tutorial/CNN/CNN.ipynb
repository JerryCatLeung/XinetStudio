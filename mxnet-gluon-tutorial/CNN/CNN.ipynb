{
 "cells": [
  {
   "cell_type": "markdown",
   "metadata": {},
   "source": [
    "# 数据处理"
   ]
  },
  {
   "cell_type": "code",
   "execution_count": 3,
   "metadata": {
    "ExecuteTime": {
     "end_time": "2018-02-02T10:07:53.109142Z",
     "start_time": "2018-02-02T10:07:52.607781Z"
    }
   },
   "outputs": [
    {
     "name": "stderr",
     "output_type": "stream",
     "text": [
      "c:\\anaconda3\\lib\\site-packages\\mxnet\\gluon\\data\\vision\\datasets.py:82: DeprecationWarning: The binary mode of fromstring is deprecated, as it behaves surprisingly on unicode inputs. Use frombuffer instead\n",
      "  label = np.fromstring(fin.read(), dtype=np.uint8).astype(np.int32)\n",
      "c:\\anaconda3\\lib\\site-packages\\mxnet\\gluon\\data\\vision\\datasets.py:86: DeprecationWarning: The binary mode of fromstring is deprecated, as it behaves surprisingly on unicode inputs. Use frombuffer instead\n",
      "  data = np.fromstring(fin.read(), dtype=np.uint8)\n"
     ]
    }
   ],
   "source": [
    "import mxnet as mx\n",
    "from mxnet import gluon, nd\n",
    "from mxnet.gluon.nn import Sequential, Dense, Flatten\n",
    "\n",
    "root= 'E:/Data/MXNet/mnist'\n",
    "\n",
    "def transform(data, label):\n",
    "    '''\n",
    "    将数据转换为 类型为：`float32`\n",
    "    '''\n",
    "    return data.astype('float32')/255, label.astype('float32')\n",
    "\n",
    "mnist_train = gluon.data.vision.MNIST(root= root, train=True, transform= transform)\n",
    "mnist_test = gluon.data.vision.MNIST(root= root, train=False, transform= transform)\n",
    "batch_size = 256"
   ]
  },
  {
   "cell_type": "markdown",
   "metadata": {},
   "source": [
    "## 普通方法"
   ]
  },
  {
   "cell_type": "code",
   "execution_count": 4,
   "metadata": {
    "ExecuteTime": {
     "end_time": "2018-02-02T10:07:55.439463Z",
     "start_time": "2018-02-02T10:07:55.119623Z"
    },
    "scrolled": true
   },
   "outputs": [
    {
     "name": "stdout",
     "output_type": "stream",
     "text": [
      "(256, 1, 28, 28) (256,) \n",
      "[8.]\n",
      "<NDArray 1 @cpu(0)>\n"
     ]
    }
   ],
   "source": [
    "import numpy as np\n",
    "def data_iter(dataset, batch_size, shuffle):\n",
    "        data = dataset[:]\n",
    "        x, y = data\n",
    "        n =len(x)\n",
    "        x = nd.array(x)\n",
    "        y = nd.array(y)\n",
    "        idx = np.arange(n)\n",
    "        if shuffle:\n",
    "            np.random.shuffle(idx)\n",
    "\n",
    "        for i in range(0, n, batch_size):\n",
    "            j = nd.array(idx[i: min(i + batch_size, n)])\n",
    "            yield nd.take(x, j), nd.take(y, j)\n",
    "train_data = data_iter(mnist_train, batch_size, True)\n",
    "test_data = data_iter(mnist_test, batch_size, False)\n",
    "\n",
    "for data, label in train_data:\n",
    "    # 存储格式为：`channel_first`\n",
    "    data = nd.transpose(data, (0, 3, 1, 2))\n",
    "    print(data.shape, label.shape, label[0])\n",
    "    break"
   ]
  },
  {
   "cell_type": "markdown",
   "metadata": {},
   "source": [
    "## Gluon 方法"
   ]
  },
  {
   "cell_type": "code",
   "execution_count": 5,
   "metadata": {
    "ExecuteTime": {
     "end_time": "2018-02-02T10:07:59.582075Z",
     "start_time": "2018-02-02T10:07:59.530955Z"
    }
   },
   "outputs": [],
   "source": [
    "batch_size = 256\n",
    "train_data = gluon.data.DataLoader(mnist_train, batch_size, shuffle= True)\n",
    "test_data = gluon.data.DataLoader(mnist_test, batch_size, shuffle= False)"
   ]
  },
  {
   "cell_type": "code",
   "execution_count": 6,
   "metadata": {
    "ExecuteTime": {
     "end_time": "2018-02-02T10:08:05.126969Z",
     "start_time": "2018-02-02T10:08:05.040714Z"
    }
   },
   "outputs": [
    {
     "name": "stdout",
     "output_type": "stream",
     "text": [
      "(256, 1, 28, 28) (256,)\n"
     ]
    }
   ],
   "source": [
    "for x, y in train_data:\n",
    "    x = nd.transpose(x, (0, 3, 1, 2))\n",
    "    print(x.shape, y.shape)\n",
    "    break"
   ]
  },
  {
   "cell_type": "code",
   "execution_count": 7,
   "metadata": {
    "ExecuteTime": {
     "end_time": "2018-02-02T10:08:09.285859Z",
     "start_time": "2018-02-02T10:08:09.178576Z"
    },
    "scrolled": true
   },
   "outputs": [
    {
     "name": "stdout",
     "output_type": "stream",
     "text": [
      "(256, 10, 16, 16)\n",
      "(256, 10, 15, 15)\n"
     ]
    }
   ],
   "source": [
    "for x, y in train_data:\n",
    "    x = nd.transpose(x, (0, 3, 1, 2))\n",
    "    in_nuts = x.shape[1]\n",
    "    out_nuts = 10\n",
    "    w = nd.random_normal(shape= (out_nuts, in_nuts, 2, 2))\n",
    "    b = nd.zeros(out_nuts)\n",
    "    out = nd.Convolution(x, w, b, kernel= w.shape[2:], num_filter= out_nuts, pad= (2, 2), stride= (2, 2))\n",
    "    max_pool = nd.Pooling(out, kernel= (2, 2), pool_type= 'max')\n",
    "    print(out.shape)\n",
    "    print(max_pool.shape)\n",
    "    break"
   ]
  },
  {
   "cell_type": "markdown",
   "metadata": {},
   "source": [
    "# 模型构造"
   ]
  },
  {
   "cell_type": "code",
   "execution_count": 118,
   "metadata": {
    "ExecuteTime": {
     "end_time": "2018-02-02T07:35:42.991409Z",
     "start_time": "2018-02-02T07:35:42.928241Z"
    }
   },
   "outputs": [],
   "source": [
    "weight_scale = .01\n",
    "ctx = mx.gpu(0)\n",
    "\n",
    "# output channels = 20, kernel = (5,5)\n",
    "W1 = nd.random_normal(shape=(20, 1, 5, 5), scale= weight_scale, ctx= ctx)\n",
    "b1 = nd.zeros(W1.shape[0], ctx= ctx)\n",
    "\n",
    "# output channels = 50, kernel = (3,3)\n",
    "W2 = nd.random_normal(shape=(50, 20, 3, 3), scale=weight_scale, ctx= ctx)\n",
    "b2 = nd.zeros(W2.shape[0], ctx= ctx)\n",
    "\n",
    "# output dim = 128\n",
    "W3 = nd.random_normal(shape=(1250, 128), scale=weight_scale, ctx= ctx)\n",
    "b3 = nd.zeros(W3.shape[1], ctx= ctx)\n",
    "\n",
    "# output dim = 10\n",
    "W4 = nd.random_normal(shape=(W3.shape[1], 10), scale=weight_scale, ctx= ctx)\n",
    "b4 = nd.zeros(W4.shape[1], ctx= ctx)\n",
    "\n",
    "params = [W1, b1, W2, b2, W3, b3, W4, b4]\n",
    "for param in params:\n",
    "    param.attach_grad()"
   ]
  },
  {
   "cell_type": "code",
   "execution_count": 122,
   "metadata": {
    "ExecuteTime": {
     "end_time": "2018-02-02T07:37:50.614554Z",
     "start_time": "2018-02-02T07:37:50.458136Z"
    }
   },
   "outputs": [],
   "source": [
    "def net(X, verbose= False): \n",
    "    X = nd.transpose(X.as_in_context(W1.context), (0, 3, 1, 2))\n",
    "    # 第一层卷积\n",
    "    h1_conv = nd.Convolution(\n",
    "        data=X, weight=W1, bias=b1, kernel=W1.shape[2:], num_filter=W1.shape[0])\n",
    "    h1_activation = nd.relu(h1_conv)\n",
    "    h1 = nd.Pooling(\n",
    "        data=h1_activation, pool_type=\"max\", kernel=(2,2), stride=(2,2))\n",
    "    \n",
    "    # 第二层卷积\n",
    "    h2_conv = nd.Convolution(\n",
    "        data=h1, weight=W2, bias=b2, kernel=W2.shape[2:], num_filter=W2.shape[0])\n",
    "    h2_activation = nd.relu(h2_conv)\n",
    "    h2 = nd.Pooling(data=h2_activation, pool_type=\"max\", kernel=(2,2), stride=(2,2))\n",
    "    h2 = nd.flatten(h2)\n",
    "    \n",
    "    # 第一层全连接\n",
    "    h3_linear = nd.dot(h2, W3) + b3\n",
    "    h3 = nd.relu(h3_linear)\n",
    "    \n",
    "    # 第二层全连接\n",
    "    h4_linear = nd.dot(h3, W4) + b4\n",
    "    if verbose:\n",
    "        print('1st conv block:', h1.shape)\n",
    "        print('2nd conv block:', h2.shape)\n",
    "        print('1st dense:', h3.shape)\n",
    "        print('2nd dense:', h4_linear.shape)\n",
    "        print('output:', h4_linear)\n",
    "    return h4_linear"
   ]
  },
  {
   "cell_type": "code",
   "execution_count": 123,
   "metadata": {
    "ExecuteTime": {
     "end_time": "2018-02-02T07:37:51.518632Z",
     "start_time": "2018-02-02T07:37:51.407351Z"
    },
    "scrolled": false
   },
   "outputs": [
    {
     "name": "stdout",
     "output_type": "stream",
     "text": [
      "1st conv block: (256, 20, 12, 12)\n",
      "2nd conv block: (256, 1250)\n",
      "1st dense: (256, 128)\n",
      "2nd dense: (256, 10)\n",
      "output: \n",
      "[[ 6.3262181e-05  2.6563872e-05 -4.8889837e-05 ... -3.9635808e-05\n",
      "  -5.5221422e-05  3.9352904e-05]\n",
      " [ 7.0209302e-05  4.5664907e-05 -6.5646003e-05 ... -1.1263900e-04\n",
      "  -1.0046176e-04 -7.3953888e-06]\n",
      " [-9.4907518e-06  2.7982145e-05 -3.5382713e-05 ... -2.9499155e-05\n",
      "  -3.6428239e-05  3.7235630e-05]\n",
      " ...\n",
      " [ 2.6450361e-06  7.4155934e-05 -4.5578709e-05 ... -7.9264239e-05\n",
      "  -5.8000955e-05  1.4313950e-05]\n",
      " [ 4.7803624e-05  7.2226292e-05 -6.0026072e-05 ... -8.4549807e-05\n",
      "  -7.6076132e-05  1.4584111e-06]\n",
      " [ 7.0422859e-05  7.3348070e-05 -1.2362945e-04 ... -7.3199932e-05\n",
      "  -9.8516175e-05 -9.7410411e-06]]\n",
      "<NDArray 256x10 @gpu(0)>\n",
      "(256, 10)\n",
      "0.12109375\n"
     ]
    }
   ],
   "source": [
    "for data, label in train_data:\n",
    "    label = label.as_in_context(ctx)\n",
    "    with mx.autograd.record():\n",
    "        y = net(data, True)\n",
    "    y.backward()\n",
    "    print(y.shape)\n",
    "    acc = accuracy(y, label)\n",
    "    print(acc)\n",
    "    break"
   ]
  },
  {
   "cell_type": "markdown",
   "metadata": {
    "ExecuteTime": {
     "end_time": "2018-02-02T07:37:52.468145Z",
     "start_time": "2018-02-02T07:37:52.370911Z"
    }
   },
   "source": [
    "## Gluon 方法"
   ]
  },
  {
   "cell_type": "code",
   "execution_count": 10,
   "metadata": {
    "ExecuteTime": {
     "end_time": "2018-02-02T10:11:54.097281Z",
     "start_time": "2018-02-02T10:11:54.094305Z"
    }
   },
   "outputs": [],
   "source": [
    "from mxnet.gluon.nn import Sequential, Dense, Flatten, Dropout, Conv2D, MaxPool2D, AvgPool2D"
   ]
  },
  {
   "cell_type": "code",
   "execution_count": 9,
   "metadata": {
    "ExecuteTime": {
     "end_time": "2018-02-02T10:10:48.015281Z",
     "start_time": "2018-02-02T10:10:48.012294Z"
    }
   },
   "outputs": [],
   "source": [
    "net = Sequential()"
   ]
  },
  {
   "cell_type": "code",
   "execution_count": 14,
   "metadata": {
    "ExecuteTime": {
     "end_time": "2018-02-02T10:20:45.392006Z",
     "start_time": "2018-02-02T10:20:45.381002Z"
    }
   },
   "outputs": [],
   "source": [
    "with net.name_scope():\n",
    "    net.add(\n",
    "        Conv2D(channels= 20, kernel_size= 5, activation= 'relu'),\n",
    "        MaxPool2D(pool_size= 2, strides= 2),\n",
    "        Conv2D(channels= 50, kernel_size= 3, activation='relu'),\n",
    "        MaxPool2D(pool_size= 2, strides= 2),\n",
    "        Flatten(),\n",
    "        Dense(128, activation=\"relu\"),\n",
    "        Dense(10)\n",
    "    )"
   ]
  },
  {
   "cell_type": "code",
   "execution_count": 15,
   "metadata": {
    "ExecuteTime": {
     "end_time": "2018-02-02T10:20:48.211479Z",
     "start_time": "2018-02-02T10:20:48.198426Z"
    }
   },
   "outputs": [
    {
     "name": "stdout",
     "output_type": "stream",
     "text": [
      "initialize weight on None\n"
     ]
    }
   ],
   "source": [
    "def try_gpu():\n",
    "    try:\n",
    "        ctx = mx.gpu()\n",
    "        _ = nd.zeros((1,), ctx=ctx)\n",
    "    except:\n",
    "        ctx = mx.cpu()\n",
    "\n",
    "# 初始化\n",
    "ctx = try_gpu()\n",
    "net.initialize(ctx= ctx)\n",
    "print('initialize weight on', ctx)"
   ]
  },
  {
   "cell_type": "code",
   "execution_count": 18,
   "metadata": {
    "ExecuteTime": {
     "end_time": "2018-02-02T10:21:14.904236Z",
     "start_time": "2018-02-02T10:21:14.899230Z"
    }
   },
   "outputs": [
    {
     "data": {
      "text/plain": [
       "Sequential(\n",
       "  (0): Conv2D(None -> 20, kernel_size=(5, 5), stride=(1, 1))\n",
       "  (1): MaxPool2D(size=(2, 2), stride=(2, 2), padding=(0, 0), ceil_mode=False)\n",
       "  (2): Conv2D(None -> 50, kernel_size=(3, 3), stride=(1, 1))\n",
       "  (3): MaxPool2D(size=(2, 2), stride=(2, 2), padding=(0, 0), ceil_mode=False)\n",
       "  (4): Flatten\n",
       "  (5): Dense(None -> 128, Activation(relu))\n",
       "  (6): Dense(None -> 10, linear)\n",
       ")"
      ]
     },
     "execution_count": 18,
     "metadata": {},
     "output_type": "execute_result"
    }
   ],
   "source": [
    "net"
   ]
  },
  {
   "cell_type": "markdown",
   "metadata": {},
   "source": [
    "# 优化"
   ]
  },
  {
   "cell_type": "code",
   "execution_count": 20,
   "metadata": {
    "ExecuteTime": {
     "end_time": "2018-02-02T10:23:55.800730Z",
     "start_time": "2018-02-02T10:23:55.767161Z"
    }
   },
   "outputs": [],
   "source": [
    "weight_scale = .01\n",
    "ctx = mx.gpu(0)\n",
    "\n",
    "# output channels = 20, kernel = (5,5)\n",
    "W1 = nd.random_normal(shape=(20, 1, 5, 5), scale= weight_scale, ctx= ctx)\n",
    "b1 = nd.zeros(W1.shape[0], ctx= ctx)\n",
    "\n",
    "# output channels = 50, kernel = (3,3)\n",
    "W2 = nd.random_normal(shape=(50, 20, 3, 3), scale=weight_scale, ctx= ctx)\n",
    "b2 = nd.zeros(W2.shape[0], ctx= ctx)\n",
    "\n",
    "# output dim = 128\n",
    "W3 = nd.random_normal(shape=(1250, 128), scale=weight_scale, ctx= ctx)\n",
    "b3 = nd.zeros(W3.shape[1], ctx= ctx)\n",
    "\n",
    "# output dim = 10\n",
    "W4 = nd.random_normal(shape=(W3.shape[1], 10), scale=weight_scale, ctx= ctx)\n",
    "b4 = nd.zeros(W4.shape[1], ctx= ctx)\n",
    "\n",
    "params = [W1, b1, W2, b2, W3, b3, W4, b4]\n",
    "for param in params:\n",
    "    param.attach_grad()"
   ]
  },
  {
   "cell_type": "code",
   "execution_count": 21,
   "metadata": {
    "ExecuteTime": {
     "end_time": "2018-02-02T10:28:40.546739Z",
     "start_time": "2018-02-02T10:28:40.497595Z"
    }
   },
   "outputs": [],
   "source": [
    "def SGD(params, lr):\n",
    "    for param in params:\n",
    "        param -= lr * param.grad\n",
    "        \n",
    "def accuracy(output, label):\n",
    "    return nd.mean(output.argmax(axis= 1)==label).asscalar()\n",
    "\n",
    "def _get_batch(batch, ctx):\n",
    "    \"\"\"return data and label on ctx\"\"\"\n",
    "    if isinstance(batch, mx.io.DataBatch):\n",
    "        data = batch.data[0]\n",
    "        label = batch.label[0]\n",
    "    else:\n",
    "        data, label = batch\n",
    "    return (gluon.utils.split_and_load(data, ctx),\n",
    "            gluon.utils.split_and_load(label, ctx),\n",
    "            data.shape[0])\n",
    "\n",
    "def evaluate_accuracy(data_iterator, net, ctx=[mx.cpu()]):\n",
    "    if isinstance(ctx, mx.Context):\n",
    "        ctx = [ctx]\n",
    "    acc = nd.array([0])\n",
    "    n = 0.\n",
    "    if isinstance(data_iterator, mx.io.MXDataIter):\n",
    "        data_iterator.reset()\n",
    "    for batch in data_iterator:\n",
    "        data, label, batch_size = _get_batch(batch, ctx)\n",
    "        for X, y in zip(data, label):\n",
    "            acc += nd.sum(net(X).argmax(axis=1)==y).copyto(mx.cpu())\n",
    "            n += y.size\n",
    "        acc.wait_to_read() # don't push too many operators into backend\n",
    "    return acc.asscalar() / n"
   ]
  },
  {
   "cell_type": "code",
   "execution_count": null,
   "metadata": {},
   "outputs": [],
   "source": []
  },
  {
   "cell_type": "code",
   "execution_count": null,
   "metadata": {},
   "outputs": [],
   "source": []
  },
  {
   "cell_type": "code",
   "execution_count": null,
   "metadata": {},
   "outputs": [],
   "source": []
  }
 ],
 "metadata": {
  "kernelspec": {
   "display_name": "Python 3",
   "language": "python",
   "name": "python3"
  },
  "language_info": {
   "codemirror_mode": {
    "name": "ipython",
    "version": 3
   },
   "file_extension": ".py",
   "mimetype": "text/x-python",
   "name": "python",
   "nbconvert_exporter": "python",
   "pygments_lexer": "ipython3",
   "version": "3.6.3"
  },
  "latex_envs": {
   "LaTeX_envs_menu_present": true,
   "autoclose": false,
   "autocomplete": true,
   "bibliofile": "biblio.bib",
   "cite_by": "apalike",
   "current_citInitial": 1,
   "eqLabelWithNumbers": true,
   "eqNumInitial": 1,
   "hotkeys": {
    "equation": "Ctrl-E",
    "itemize": "Ctrl-I"
   },
   "labels_anchors": false,
   "latex_user_defs": false,
   "report_style_numbering": false,
   "user_envs_cfg": false
  },
  "nbTranslate": {
   "displayLangs": [
    "*"
   ],
   "hotkey": "alt-t",
   "langInMainMenu": true,
   "sourceLang": "en",
   "targetLang": "fr",
   "useGoogleTranslate": true
  },
  "toc": {
   "nav_menu": {},
   "number_sections": true,
   "sideBar": true,
   "skip_h1_title": false,
   "title_cell": "Table of Contents",
   "title_sidebar": "Contents",
   "toc_cell": false,
   "toc_position": {
    "height": "calc(100% - 180px)",
    "left": "10px",
    "top": "150px",
    "width": "294px"
   },
   "toc_section_display": true,
   "toc_window_display": true
  },
  "varInspector": {
   "cols": {
    "lenName": 16,
    "lenType": 16,
    "lenVar": 40
   },
   "kernels_config": {
    "python": {
     "delete_cmd_postfix": "",
     "delete_cmd_prefix": "del ",
     "library": "var_list.py",
     "varRefreshCmd": "print(var_dic_list())"
    },
    "r": {
     "delete_cmd_postfix": ") ",
     "delete_cmd_prefix": "rm(",
     "library": "var_list.r",
     "varRefreshCmd": "cat(var_dic_list()) "
    }
   },
   "types_to_exclude": [
    "module",
    "function",
    "builtin_function_or_method",
    "instance",
    "_Feature"
   ],
   "window_display": false
  }
 },
 "nbformat": 4,
 "nbformat_minor": 2
}
