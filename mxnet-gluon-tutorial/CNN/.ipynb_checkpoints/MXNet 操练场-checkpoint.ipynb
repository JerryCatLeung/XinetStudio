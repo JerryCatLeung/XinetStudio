{
 "cells": [
  {
   "cell_type": "code",
   "execution_count": 10,
   "metadata": {
    "ExecuteTime": {
     "end_time": "2018-02-02T05:19:55.228984Z",
     "start_time": "2018-02-02T05:19:55.224974Z"
    }
   },
   "outputs": [],
   "source": [
    "from mxnet import gluon, nd\n",
    "import mxnet as mx\n",
    "import numpy as np"
   ]
  },
  {
   "cell_type": "code",
   "execution_count": 4,
   "metadata": {
    "ExecuteTime": {
     "end_time": "2018-02-02T05:16:18.280355Z",
     "start_time": "2018-02-02T05:16:18.275339Z"
    }
   },
   "outputs": [
    {
     "data": {
      "text/plain": [
       "\n",
       "[[0. 0. 0.]\n",
       " [0. 0. 0.]]\n",
       "<NDArray 2x3 @cpu(0)>"
      ]
     },
     "execution_count": 4,
     "metadata": {},
     "output_type": "execute_result"
    }
   ],
   "source": [
    "nd.zeros((2, 3))"
   ]
  },
  {
   "cell_type": "code",
   "execution_count": 7,
   "metadata": {
    "ExecuteTime": {
     "end_time": "2018-02-02T05:17:09.840365Z",
     "start_time": "2018-02-02T05:17:09.834351Z"
    }
   },
   "outputs": [
    {
     "data": {
      "text/plain": [
       "\n",
       "[[1. 1. 1.]\n",
       " [1. 1. 1.]]\n",
       "<NDArray 2x3 @cpu(0)>"
      ]
     },
     "execution_count": 7,
     "metadata": {},
     "output_type": "execute_result"
    }
   ],
   "source": [
    "nd.ones((2, 3))"
   ]
  },
  {
   "cell_type": "code",
   "execution_count": 8,
   "metadata": {
    "ExecuteTime": {
     "end_time": "2018-02-02T05:17:35.369249Z",
     "start_time": "2018-02-02T05:17:35.363261Z"
    }
   },
   "outputs": [
    {
     "data": {
      "text/plain": [
       "\n",
       "[1. 2. 3.]\n",
       "<NDArray 3 @cpu(0)>"
      ]
     },
     "execution_count": 8,
     "metadata": {},
     "output_type": "execute_result"
    }
   ],
   "source": [
    "nd.array([1, 2, 3])"
   ]
  },
  {
   "cell_type": "code",
   "execution_count": 9,
   "metadata": {
    "ExecuteTime": {
     "end_time": "2018-02-02T05:18:49.577649Z",
     "start_time": "2018-02-02T05:18:49.571630Z"
    }
   },
   "outputs": [
    {
     "data": {
      "text/plain": [
       "\n",
       "[[2. 3.]\n",
       " [4. 5.]]\n",
       "<NDArray 2x2 @cpu(0)>"
      ]
     },
     "execution_count": 9,
     "metadata": {},
     "output_type": "execute_result"
    }
   ],
   "source": [
    "nd.array([[2, 3], [4, 5]])"
   ]
  },
  {
   "cell_type": "code",
   "execution_count": 15,
   "metadata": {
    "ExecuteTime": {
     "end_time": "2018-02-02T05:22:48.695301Z",
     "start_time": "2018-02-02T05:22:48.691260Z"
    }
   },
   "outputs": [],
   "source": [
    "a = np.array([2, 4, 5])\n",
    "b = nd.array(a)"
   ]
  },
  {
   "cell_type": "code",
   "execution_count": 16,
   "metadata": {
    "ExecuteTime": {
     "end_time": "2018-02-02T05:22:49.291468Z",
     "start_time": "2018-02-02T05:22:49.286455Z"
    }
   },
   "outputs": [
    {
     "data": {
      "text/plain": [
       "array([2, 4, 5])"
      ]
     },
     "execution_count": 16,
     "metadata": {},
     "output_type": "execute_result"
    }
   ],
   "source": [
    "a"
   ]
  },
  {
   "cell_type": "code",
   "execution_count": 17,
   "metadata": {
    "ExecuteTime": {
     "end_time": "2018-02-02T05:22:50.697337Z",
     "start_time": "2018-02-02T05:22:50.693326Z"
    }
   },
   "outputs": [
    {
     "data": {
      "text/plain": [
       "\n",
       "[2. 4. 5.]\n",
       "<NDArray 3 @cpu(0)>"
      ]
     },
     "execution_count": 17,
     "metadata": {},
     "output_type": "execute_result"
    }
   ],
   "source": [
    "b"
   ]
  },
  {
   "cell_type": "code",
   "execution_count": 22,
   "metadata": {
    "ExecuteTime": {
     "end_time": "2018-02-02T05:31:41.563035Z",
     "start_time": "2018-02-02T05:31:41.556991Z"
    }
   },
   "outputs": [
    {
     "data": {
      "text/plain": [
       "\n",
       "[2. 4. 5.]\n",
       "<NDArray 3 @cpu(0)>"
      ]
     },
     "execution_count": 22,
     "metadata": {},
     "output_type": "execute_result"
    }
   ],
   "source": [
    "nd.array(b)"
   ]
  },
  {
   "cell_type": "code",
   "execution_count": 25,
   "metadata": {
    "ExecuteTime": {
     "end_time": "2018-02-02T05:32:55.772224Z",
     "start_time": "2018-02-02T05:32:55.766210Z"
    }
   },
   "outputs": [],
   "source": [
    "a = np.arange(20 * 32 * 32 * 3).reshape((20, 32, 32, 3))"
   ]
  },
  {
   "cell_type": "code",
   "execution_count": 30,
   "metadata": {
    "ExecuteTime": {
     "end_time": "2018-02-02T05:33:52.397651Z",
     "start_time": "2018-02-02T05:33:52.393641Z"
    }
   },
   "outputs": [],
   "source": [
    "a1 = nd.array(a)"
   ]
  },
  {
   "cell_type": "code",
   "execution_count": 31,
   "metadata": {
    "ExecuteTime": {
     "end_time": "2018-02-02T05:34:01.752873Z",
     "start_time": "2018-02-02T05:34:01.747833Z"
    }
   },
   "outputs": [
    {
     "data": {
      "text/plain": [
       "numpy.float32"
      ]
     },
     "execution_count": 31,
     "metadata": {},
     "output_type": "execute_result"
    }
   ],
   "source": [
    "a1.dtype"
   ]
  },
  {
   "cell_type": "code",
   "execution_count": 32,
   "metadata": {
    "ExecuteTime": {
     "end_time": "2018-02-02T05:34:31.024163Z",
     "start_time": "2018-02-02T05:34:31.020164Z"
    }
   },
   "outputs": [
    {
     "data": {
      "text/plain": [
       "61440"
      ]
     },
     "execution_count": 32,
     "metadata": {},
     "output_type": "execute_result"
    }
   ],
   "source": [
    "a1.size"
   ]
  },
  {
   "cell_type": "code",
   "execution_count": 33,
   "metadata": {
    "ExecuteTime": {
     "end_time": "2018-02-02T05:34:53.218724Z",
     "start_time": "2018-02-02T05:34:53.213710Z"
    }
   },
   "outputs": [
    {
     "data": {
      "text/plain": [
       "61440"
      ]
     },
     "execution_count": 33,
     "metadata": {},
     "output_type": "execute_result"
    }
   ],
   "source": [
    "a.size"
   ]
  },
  {
   "cell_type": "code",
   "execution_count": 37,
   "metadata": {
    "ExecuteTime": {
     "end_time": "2018-02-02T05:37:37.082769Z",
     "start_time": "2018-02-02T05:37:37.078762Z"
    }
   },
   "outputs": [],
   "source": [
    "a = nd.arange(3).reshape((3, 1))\n",
    "b = nd.arange(2).reshape((1, 2))"
   ]
  },
  {
   "cell_type": "code",
   "execution_count": 38,
   "metadata": {
    "ExecuteTime": {
     "end_time": "2018-02-02T05:37:41.287315Z",
     "start_time": "2018-02-02T05:37:41.282304Z"
    }
   },
   "outputs": [
    {
     "data": {
      "text/plain": [
       "\n",
       "[[0.]\n",
       " [1.]\n",
       " [2.]]\n",
       "<NDArray 3x1 @cpu(0)>"
      ]
     },
     "execution_count": 38,
     "metadata": {},
     "output_type": "execute_result"
    }
   ],
   "source": [
    "a"
   ]
  },
  {
   "cell_type": "code",
   "execution_count": 39,
   "metadata": {
    "ExecuteTime": {
     "end_time": "2018-02-02T05:37:43.956449Z",
     "start_time": "2018-02-02T05:37:43.950401Z"
    }
   },
   "outputs": [
    {
     "data": {
      "text/plain": [
       "\n",
       "[[0. 1.]]\n",
       "<NDArray 1x2 @cpu(0)>"
      ]
     },
     "execution_count": 39,
     "metadata": {},
     "output_type": "execute_result"
    }
   ],
   "source": [
    "b"
   ]
  },
  {
   "cell_type": "code",
   "execution_count": 40,
   "metadata": {
    "ExecuteTime": {
     "end_time": "2018-02-02T05:37:50.766305Z",
     "start_time": "2018-02-02T05:37:50.749260Z"
    }
   },
   "outputs": [
    {
     "data": {
      "text/plain": [
       "\n",
       "[[0. 1.]\n",
       " [1. 2.]\n",
       " [2. 3.]]\n",
       "<NDArray 3x2 @cpu(0)>"
      ]
     },
     "execution_count": 40,
     "metadata": {},
     "output_type": "execute_result"
    }
   ],
   "source": [
    "a + b"
   ]
  },
  {
   "cell_type": "code",
   "execution_count": 44,
   "metadata": {
    "ExecuteTime": {
     "end_time": "2018-02-02T05:42:02.377823Z",
     "start_time": "2018-02-02T05:42:02.369805Z"
    }
   },
   "outputs": [
    {
     "data": {
      "text/plain": [
       "True"
      ]
     },
     "execution_count": 44,
     "metadata": {},
     "output_type": "execute_result"
    }
   ],
   "source": [
    "a = nd.arange(3).reshape((3, 1))\n",
    "before = id(a)\n",
    "a[:] = a * 3\n",
    "id(a) == before"
   ]
  },
  {
   "cell_type": "code",
   "execution_count": 49,
   "metadata": {
    "ExecuteTime": {
     "end_time": "2018-02-02T05:46:01.123510Z",
     "start_time": "2018-02-02T05:46:01.119532Z"
    }
   },
   "outputs": [],
   "source": [
    "a = np.arange(4 * 2 * 3 * 5).reshape((2, 4, 3, 5))"
   ]
  },
  {
   "cell_type": "code",
   "execution_count": 50,
   "metadata": {
    "ExecuteTime": {
     "end_time": "2018-02-02T05:46:06.511010Z",
     "start_time": "2018-02-02T05:46:06.506003Z"
    }
   },
   "outputs": [
    {
     "data": {
      "text/plain": [
       "array([[[[  0,   1,   2,   3,   4],\n",
       "         [  5,   6,   7,   8,   9],\n",
       "         [ 10,  11,  12,  13,  14]],\n",
       "\n",
       "        [[ 15,  16,  17,  18,  19],\n",
       "         [ 20,  21,  22,  23,  24],\n",
       "         [ 25,  26,  27,  28,  29]],\n",
       "\n",
       "        [[ 30,  31,  32,  33,  34],\n",
       "         [ 35,  36,  37,  38,  39],\n",
       "         [ 40,  41,  42,  43,  44]],\n",
       "\n",
       "        [[ 45,  46,  47,  48,  49],\n",
       "         [ 50,  51,  52,  53,  54],\n",
       "         [ 55,  56,  57,  58,  59]]],\n",
       "\n",
       "\n",
       "       [[[ 60,  61,  62,  63,  64],\n",
       "         [ 65,  66,  67,  68,  69],\n",
       "         [ 70,  71,  72,  73,  74]],\n",
       "\n",
       "        [[ 75,  76,  77,  78,  79],\n",
       "         [ 80,  81,  82,  83,  84],\n",
       "         [ 85,  86,  87,  88,  89]],\n",
       "\n",
       "        [[ 90,  91,  92,  93,  94],\n",
       "         [ 95,  96,  97,  98,  99],\n",
       "         [100, 101, 102, 103, 104]],\n",
       "\n",
       "        [[105, 106, 107, 108, 109],\n",
       "         [110, 111, 112, 113, 114],\n",
       "         [115, 116, 117, 118, 119]]]])"
      ]
     },
     "execution_count": 50,
     "metadata": {},
     "output_type": "execute_result"
    }
   ],
   "source": [
    "a"
   ]
  },
  {
   "cell_type": "code",
   "execution_count": 51,
   "metadata": {
    "ExecuteTime": {
     "end_time": "2018-02-02T05:46:15.701628Z",
     "start_time": "2018-02-02T05:46:15.697648Z"
    }
   },
   "outputs": [
    {
     "data": {
      "text/plain": [
       "array([[[ 0,  1,  2,  3,  4],\n",
       "        [ 5,  6,  7,  8,  9],\n",
       "        [10, 11, 12, 13, 14]],\n",
       "\n",
       "       [[15, 16, 17, 18, 19],\n",
       "        [20, 21, 22, 23, 24],\n",
       "        [25, 26, 27, 28, 29]],\n",
       "\n",
       "       [[30, 31, 32, 33, 34],\n",
       "        [35, 36, 37, 38, 39],\n",
       "        [40, 41, 42, 43, 44]],\n",
       "\n",
       "       [[45, 46, 47, 48, 49],\n",
       "        [50, 51, 52, 53, 54],\n",
       "        [55, 56, 57, 58, 59]]])"
      ]
     },
     "execution_count": 51,
     "metadata": {},
     "output_type": "execute_result"
    }
   ],
   "source": [
    "a[0]"
   ]
  },
  {
   "cell_type": "code",
   "execution_count": 54,
   "metadata": {
    "ExecuteTime": {
     "end_time": "2018-02-02T05:46:49.169620Z",
     "start_time": "2018-02-02T05:46:49.165609Z"
    }
   },
   "outputs": [
    {
     "data": {
      "text/plain": [
       "21"
      ]
     },
     "execution_count": 54,
     "metadata": {},
     "output_type": "execute_result"
    }
   ],
   "source": [
    "a[0, 1, 1, 1]"
   ]
  },
  {
   "cell_type": "markdown",
   "metadata": {},
   "source": [
    "# 自动求导"
   ]
  },
  {
   "cell_type": "code",
   "execution_count": 55,
   "metadata": {
    "ExecuteTime": {
     "end_time": "2018-02-02T05:48:53.111952Z",
     "start_time": "2018-02-02T05:48:53.108970Z"
    }
   },
   "outputs": [],
   "source": [
    "from mxnet import autograd as ag"
   ]
  },
  {
   "cell_type": "code",
   "execution_count": 56,
   "metadata": {
    "ExecuteTime": {
     "end_time": "2018-02-02T05:49:39.123879Z",
     "start_time": "2018-02-02T05:49:39.104789Z"
    }
   },
   "outputs": [],
   "source": [
    "w = nd.array([1, 2])\n",
    "w.attach_grad()"
   ]
  },
  {
   "cell_type": "code",
   "execution_count": 67,
   "metadata": {
    "ExecuteTime": {
     "end_time": "2018-02-02T05:53:11.492667Z",
     "start_time": "2018-02-02T05:53:11.486652Z"
    }
   },
   "outputs": [],
   "source": [
    "x = nd.array([3, 4])\n",
    "with ag.record():\n",
    "    y = nd.exp(nd.dot(x, w)) + 7\n",
    "y.backward()"
   ]
  },
  {
   "cell_type": "code",
   "execution_count": 68,
   "metadata": {
    "ExecuteTime": {
     "end_time": "2018-02-02T05:53:12.008036Z",
     "start_time": "2018-02-02T05:53:12.002032Z"
    }
   },
   "outputs": [
    {
     "data": {
      "text/plain": [
       "\n",
       "[59881.14]\n",
       "<NDArray 1 @cpu(0)>"
      ]
     },
     "execution_count": 68,
     "metadata": {},
     "output_type": "execute_result"
    }
   ],
   "source": [
    "y"
   ]
  },
  {
   "cell_type": "code",
   "execution_count": 71,
   "metadata": {
    "ExecuteTime": {
     "end_time": "2018-02-02T06:42:06.220730Z",
     "start_time": "2018-02-02T06:42:06.214699Z"
    }
   },
   "outputs": [
    {
     "data": {
      "text/plain": [
       "\n",
       "[179622.42 239496.56]\n",
       "<NDArray 2 @cpu(0)>"
      ]
     },
     "execution_count": 71,
     "metadata": {},
     "output_type": "execute_result"
    }
   ],
   "source": [
    "w.grad"
   ]
  },
  {
   "cell_type": "markdown",
   "metadata": {},
   "source": [
    "# 读取数据"
   ]
  },
  {
   "cell_type": "code",
   "execution_count": 84,
   "metadata": {
    "ExecuteTime": {
     "end_time": "2018-02-02T09:02:41.661057Z",
     "start_time": "2018-02-02T09:02:41.650054Z"
    }
   },
   "outputs": [
    {
     "data": {
      "text/plain": [
       "(array([2, 3, 4]), array([5, 6, 7]), array([ 6,  9, 12]))"
      ]
     },
     "execution_count": 84,
     "metadata": {},
     "output_type": "execute_result"
    }
   ],
   "source": [
    "a = np.array([[2, 3, 4], [5, 6, 7]])\n",
    "b = gluon.data.ArrayDataset(a, a + 3, a * 3)\n",
    "b[0]"
   ]
  },
  {
   "cell_type": "code",
   "execution_count": 85,
   "metadata": {
    "ExecuteTime": {
     "end_time": "2018-02-02T09:03:18.795063Z",
     "start_time": "2018-02-02T09:03:18.785037Z"
    }
   },
   "outputs": [
    {
     "data": {
      "text/plain": [
       "(\n",
       " [2. 3. 4.]\n",
       " <NDArray 3 @cpu(0)>, \n",
       " [5. 6. 7.]\n",
       " <NDArray 3 @cpu(0)>, \n",
       " [ 6.  9. 12.]\n",
       " <NDArray 3 @cpu(0)>)"
      ]
     },
     "execution_count": 85,
     "metadata": {},
     "output_type": "execute_result"
    }
   ],
   "source": [
    "a = nd.array([[2, 3, 4], [5, 6, 7]])\n",
    "b = gluon.data.ArrayDataset(a, a + 3, a * 3)\n",
    "b[0]"
   ]
  },
  {
   "cell_type": "code",
   "execution_count": 77,
   "metadata": {
    "ExecuteTime": {
     "end_time": "2018-02-02T08:24:49.985605Z",
     "start_time": "2018-02-02T08:24:49.972570Z"
    }
   },
   "outputs": [],
   "source": [
    "import numpy as np\n",
    "def data_iter(dataset, batch_size, shuffle):\n",
    "        data = dataset[:]\n",
    "        x, y = data\n",
    "        n =len(x)\n",
    "        x = nd.array(x)\n",
    "        y = nd.array(y)\n",
    "        idx = np.arange(n)\n",
    "        if shuffle:\n",
    "            np.random.shuffle(idx)\n",
    "\n",
    "        for i in range(0, n, batch_size):\n",
    "            j = nd.array(idx[i: min(i + batch_size, n)])\n",
    "            yield nd.take(x, j), nd.take(y, j)"
   ]
  },
  {
   "cell_type": "code",
   "execution_count": 78,
   "metadata": {
    "ExecuteTime": {
     "end_time": "2018-02-02T08:24:55.848665Z",
     "start_time": "2018-02-02T08:24:55.325234Z"
    }
   },
   "outputs": [
    {
     "name": "stderr",
     "output_type": "stream",
     "text": [
      "c:\\anaconda3\\lib\\site-packages\\mxnet\\gluon\\data\\vision\\datasets.py:82: DeprecationWarning: The binary mode of fromstring is deprecated, as it behaves surprisingly on unicode inputs. Use frombuffer instead\n",
      "  label = np.fromstring(fin.read(), dtype=np.uint8).astype(np.int32)\n",
      "c:\\anaconda3\\lib\\site-packages\\mxnet\\gluon\\data\\vision\\datasets.py:86: DeprecationWarning: The binary mode of fromstring is deprecated, as it behaves surprisingly on unicode inputs. Use frombuffer instead\n",
      "  data = np.fromstring(fin.read(), dtype=np.uint8)\n"
     ]
    }
   ],
   "source": [
    "import mxnet as mx\n",
    "from mxnet import gluon, nd\n",
    "from mxnet.gluon.nn import Sequential, Dense, Flatten\n",
    "\n",
    "root= 'E:/Data/MXNet/mnist'\n",
    "\n",
    "def transform(data, label):\n",
    "    '''\n",
    "    将数据转换为 类型为：`float32`\n",
    "    '''\n",
    "    return data.astype('float32')/255, label.astype('float32')\n",
    "\n",
    "mnist_train = gluon.data.vision.MNIST(root= root, train=True, transform= transform)\n",
    "mnist_test = gluon.data.vision.MNIST(root= root, train=False, transform= transform)"
   ]
  },
  {
   "cell_type": "code",
   "execution_count": 80,
   "metadata": {
    "ExecuteTime": {
     "end_time": "2018-02-02T08:25:43.552432Z",
     "start_time": "2018-02-02T08:25:43.225563Z"
    }
   },
   "outputs": [
    {
     "name": "stdout",
     "output_type": "stream",
     "text": [
      "(256, 1, 28, 28) (256,) \n",
      "[8.]\n",
      "<NDArray 1 @cpu(0)>\n"
     ]
    }
   ],
   "source": [
    "batch_size = 256\n",
    "train_data = data_iter(mnist_train, batch_size, True)\n",
    "test_data = data_iter(mnist_test, batch_size, False)\n",
    "\n",
    "for data, label in train_data:\n",
    "    # 存储格式为：`channel_first`\n",
    "    data = nd.transpose(data, (0, 3, 1, 2))\n",
    "    print(data.shape, label.shape, label[0])\n",
    "    break"
   ]
  },
  {
   "cell_type": "markdown",
   "metadata": {},
   "source": [
    "## Gluon 方法"
   ]
  },
  {
   "cell_type": "code",
   "execution_count": 88,
   "metadata": {
    "ExecuteTime": {
     "end_time": "2018-02-02T09:10:56.917642Z",
     "start_time": "2018-02-02T09:10:56.913662Z"
    }
   },
   "outputs": [],
   "source": [
    "train_data = gluon.data.DataLoader(mnist_train, batch_size, shuffle= True)\n",
    "test_data = gluon.data.DataLoader(mnist_test, batch_size, shuffle= False)"
   ]
  },
  {
   "cell_type": "markdown",
   "metadata": {},
   "source": [
    "# 计算精度"
   ]
  },
  {
   "cell_type": "code",
   "execution_count": 72,
   "metadata": {
    "ExecuteTime": {
     "end_time": "2018-02-02T07:29:09.330983Z",
     "start_time": "2018-02-02T07:29:09.305916Z"
    }
   },
   "outputs": [],
   "source": [
    " def _get_batch(batch, ctx):\n",
    "    \"\"\"return data and label on ctx\"\"\"\n",
    "    if isinstance(batch, mx.io.DataBatch):\n",
    "        data = batch.data[0]\n",
    "        label = batch.label[0]\n",
    "    else:\n",
    "        data, label = batch\n",
    "    return (gluon.utils.split_and_load(data, ctx),\n",
    "            gluon.utils.split_and_load(label, ctx),\n",
    "            data.shape[0])"
   ]
  },
  {
   "cell_type": "code",
   "execution_count": 74,
   "metadata": {
    "ExecuteTime": {
     "end_time": "2018-02-02T07:30:12.731849Z",
     "start_time": "2018-02-02T07:30:12.707783Z"
    }
   },
   "outputs": [],
   "source": [
    "def evaluate_accuracy(data_iterator, net, ctx=[mx.cpu()]):\n",
    "    if isinstance(ctx, mx.Context):\n",
    "        ctx = [ctx]\n",
    "    acc = nd.array([0])\n",
    "    n = 0.\n",
    "    if isinstance(data_iterator, mx.io.MXDataIter):\n",
    "        data_iterator.reset()\n",
    "    for batch in data_iterator:\n",
    "        data, label, batch_size = _get_batch(batch, ctx)\n",
    "        for X, y in zip(data, label):\n",
    "            acc += nd.sum(net(X).argmax(axis=1)==y).copyto(mx.cpu())\n",
    "            n += y.size\n",
    "        acc.wait_to_read() # don't push too many operators into backend\n",
    "    return acc.asscalar() / n"
   ]
  },
  {
   "cell_type": "markdown",
   "metadata": {},
   "source": [
    "# 定义模型"
   ]
  },
  {
   "cell_type": "code",
   "execution_count": null,
   "metadata": {},
   "outputs": [],
   "source": [
    "def net(X, ctx):\n",
    "    X = nd.transpose(X.as_in_context(ctx), (0, 3, 1, 2))"
   ]
  }
 ],
 "metadata": {
  "kernelspec": {
   "display_name": "Python 3",
   "language": "python",
   "name": "python3"
  },
  "language_info": {
   "codemirror_mode": {
    "name": "ipython",
    "version": 3
   },
   "file_extension": ".py",
   "mimetype": "text/x-python",
   "name": "python",
   "nbconvert_exporter": "python",
   "pygments_lexer": "ipython3",
   "version": "3.6.3"
  },
  "latex_envs": {
   "LaTeX_envs_menu_present": true,
   "autoclose": false,
   "autocomplete": true,
   "bibliofile": "biblio.bib",
   "cite_by": "apalike",
   "current_citInitial": 1,
   "eqLabelWithNumbers": true,
   "eqNumInitial": 1,
   "hotkeys": {
    "equation": "Ctrl-E",
    "itemize": "Ctrl-I"
   },
   "labels_anchors": false,
   "latex_user_defs": false,
   "report_style_numbering": false,
   "user_envs_cfg": false
  },
  "nbTranslate": {
   "displayLangs": [
    "*"
   ],
   "hotkey": "alt-t",
   "langInMainMenu": true,
   "sourceLang": "en",
   "targetLang": "fr",
   "useGoogleTranslate": true
  },
  "toc": {
   "nav_menu": {},
   "number_sections": true,
   "sideBar": true,
   "skip_h1_title": false,
   "title_cell": "Table of Contents",
   "title_sidebar": "Contents",
   "toc_cell": false,
   "toc_position": {
    "height": "calc(100% - 180px)",
    "left": "10px",
    "top": "150px",
    "width": "494px"
   },
   "toc_section_display": true,
   "toc_window_display": true
  },
  "varInspector": {
   "cols": {
    "lenName": 16,
    "lenType": 16,
    "lenVar": 40
   },
   "kernels_config": {
    "python": {
     "delete_cmd_postfix": "",
     "delete_cmd_prefix": "del ",
     "library": "var_list.py",
     "varRefreshCmd": "print(var_dic_list())"
    },
    "r": {
     "delete_cmd_postfix": ") ",
     "delete_cmd_prefix": "rm(",
     "library": "var_list.r",
     "varRefreshCmd": "cat(var_dic_list()) "
    }
   },
   "types_to_exclude": [
    "module",
    "function",
    "builtin_function_or_method",
    "instance",
    "_Feature"
   ],
   "window_display": false
  }
 },
 "nbformat": 4,
 "nbformat_minor": 2
}
