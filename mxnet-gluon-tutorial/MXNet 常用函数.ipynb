{
 "cells": [
  {
   "cell_type": "code",
   "execution_count": 1,
   "metadata": {},
   "outputs": [
    {
     "name": "stderr",
     "output_type": "stream",
     "text": [
      "c:\\anaconda3\\lib\\site-packages\\h5py\\__init__.py:34: FutureWarning: Conversion of the second argument of issubdtype from `float` to `np.floating` is deprecated. In future, it will be treated as `np.float64 == np.dtype(float).type`.\n",
      "  from ._conv import register_converters as _register_converters\n",
      "c:\\anaconda3\\lib\\site-packages\\urllib3\\contrib\\pyopenssl.py:46: DeprecationWarning: OpenSSL.rand is deprecated - you should use os.urandom instead\n",
      "  import OpenSSL.SSL\n"
     ]
    }
   ],
   "source": [
    "import mxnet as mx"
   ]
  },
  {
   "cell_type": "code",
   "execution_count": 5,
   "metadata": {},
   "outputs": [],
   "source": [
    "from mxnet import nd, autograd, gluon\n",
    "import numpy as np"
   ]
  },
  {
   "cell_type": "markdown",
   "metadata": {},
   "source": [
    "# 1. `AutoGrad` 自动求导"
   ]
  },
  {
   "cell_type": "code",
   "execution_count": 6,
   "metadata": {},
   "outputs": [
    {
     "data": {
      "text/plain": [
       "array([[ 0,  1,  2,  3],\n",
       "       [ 4,  5,  6,  7],\n",
       "       [ 8,  9, 10, 11]])"
      ]
     },
     "execution_count": 6,
     "metadata": {},
     "output_type": "execute_result"
    }
   ],
   "source": [
    "x = np.arange(12).reshape((3, 4))\n",
    "x"
   ]
  },
  {
   "cell_type": "code",
   "execution_count": 41,
   "metadata": {},
   "outputs": [],
   "source": [
    "w = nd.array(x)\n",
    "w.attach_grad()\n",
    "with autograd.record():\n",
    "    y1 = w * 3 + 2 * w ** 2\n",
    "    y = y1 + nd.exp(w)\n",
    "\n",
    "y.backward()"
   ]
  },
  {
   "cell_type": "code",
   "execution_count": 43,
   "metadata": {},
   "outputs": [
    {
     "data": {
      "text/plain": [
       "\n",
       "[[4.0000000e+00 9.7182817e+00 1.8389057e+01 3.5085537e+01]\n",
       " [7.3598145e+01 1.7141316e+02 4.3042880e+02 1.1276332e+03]\n",
       " [3.0159580e+03 8.1420840e+03 2.2069465e+04 5.9921141e+04]]\n",
       "<NDArray 3x4 @cpu(0)>"
      ]
     },
     "execution_count": 43,
     "metadata": {},
     "output_type": "execute_result"
    }
   ],
   "source": [
    "w.grad"
   ]
  },
  {
   "cell_type": "markdown",
   "metadata": {},
   "source": [
    "# 2. `nd.norm`  将数组拉直为向量，再求取 $L_2$ 范数"
   ]
  },
  {
   "cell_type": "code",
   "execution_count": 37,
   "metadata": {},
   "outputs": [
    {
     "data": {
      "text/plain": [
       "\n",
       "[10.]\n",
       "<NDArray 1 @cpu(0)>"
      ]
     },
     "execution_count": 37,
     "metadata": {},
     "output_type": "execute_result"
    }
   ],
   "source": [
    "a = nd.array([[3, 4], [3, 4], [3, 4], [3, 4]])\n",
    "nd.norm(a)"
   ]
  },
  {
   "cell_type": "markdown",
   "metadata": {},
   "source": [
    "# 3. 数据的分块读取"
   ]
  },
  {
   "cell_type": "code",
   "execution_count": 140,
   "metadata": {},
   "outputs": [],
   "source": [
    "x = np.arange(100 * 32 * 32 * 3).reshape((100, 32, 32, 3))\n",
    "y = np.mean((np.sin(x) + np.random.normal(size= x.shape)).reshape((100, -1)), axis= 1)"
   ]
  },
  {
   "cell_type": "code",
   "execution_count": 141,
   "metadata": {},
   "outputs": [
    {
     "data": {
      "text/plain": [
       "(100, 32, 32, 3)"
      ]
     },
     "execution_count": 141,
     "metadata": {},
     "output_type": "execute_result"
    }
   ],
   "source": [
    "x.shape"
   ]
  },
  {
   "cell_type": "code",
   "execution_count": 142,
   "metadata": {},
   "outputs": [
    {
     "data": {
      "text/plain": [
       "(100,)"
      ]
     },
     "execution_count": 142,
     "metadata": {},
     "output_type": "execute_result"
    }
   ],
   "source": [
    "y.shape"
   ]
  },
  {
   "cell_type": "code",
   "execution_count": 147,
   "metadata": {},
   "outputs": [],
   "source": [
    "import random\n",
    "\n",
    "def data_iter(x, y, batch_size):\n",
    "    x = nd.array(x)\n",
    "    y = nd.array(y)\n",
    "    num_samples = len(x)\n",
    "    idx = list(range(num_samples))\n",
    "    random.shuffle(idx)\n",
    "    for i in range(0, num_samples, batch_size):\n",
    "        j = nd.array(idx[i: min(i + batch_size, num_samples)])\n",
    "        yield nd.take(x, j), nd.take(y, j)"
   ]
  },
  {
   "cell_type": "code",
   "execution_count": 152,
   "metadata": {},
   "outputs": [
    {
     "data": {
      "text/plain": [
       "(10, 32, 32, 3)"
      ]
     },
     "execution_count": 152,
     "metadata": {},
     "output_type": "execute_result"
    }
   ],
   "source": [
    "z = data_iter(x, y, 10)\n",
    "a, b = next(z)\n",
    "a.shape"
   ]
  },
  {
   "cell_type": "code",
   "execution_count": 153,
   "metadata": {},
   "outputs": [],
   "source": [
    "def data_iter(x, y, batch_size):\n",
    "    num_samples = len(x)\n",
    "    idx = list(range(num_samples))\n",
    "    random.shuffle(idx)\n",
    "    for i in range(0, num_samples, batch_size):\n",
    "        j = nd.array(idx[i: min(i + batch_size, num_samples)])\n",
    "        yield x[j], y[j]"
   ]
  },
  {
   "cell_type": "code",
   "execution_count": 154,
   "metadata": {},
   "outputs": [
    {
     "data": {
      "text/plain": [
       "(10, 32, 32, 3)"
      ]
     },
     "execution_count": 154,
     "metadata": {},
     "output_type": "execute_result"
    }
   ],
   "source": [
    "z = data_iter(x, y, 10)\n",
    "a, b = next(z)\n",
    "a.shape"
   ]
  },
  {
   "cell_type": "markdown",
   "metadata": {},
   "source": [
    "### 示例"
   ]
  },
  {
   "cell_type": "code",
   "execution_count": 201,
   "metadata": {},
   "outputs": [],
   "source": [
    "with autograd.record():\n",
    "    y_ = nd.dot(x, w) + b\n",
    "    loss = (y - y_) ** 2\n",
    "    loss.backward()"
   ]
  },
  {
   "cell_type": "code",
   "execution_count": 202,
   "metadata": {},
   "outputs": [],
   "source": [
    "def SGD(lr, params):\n",
    "    for param in params:\n",
    "        param[:] -= lr * param.grad"
   ]
  },
  {
   "cell_type": "code",
   "execution_count": 203,
   "metadata": {},
   "outputs": [
    {
     "data": {
      "text/plain": [
       "\n",
       "[ 0.5403023  -0.41614684 -0.6536436   0.2836622 ]\n",
       "<NDArray 4 @cpu(0)>"
      ]
     },
     "execution_count": 203,
     "metadata": {},
     "output_type": "execute_result"
    }
   ],
   "source": [
    "a = nd.array([1, 2, 4, 5])\n",
    "a.attach_grad()\n",
    "with autograd.record():\n",
    "    b = nd.sin(a)\n",
    "b.backward()\n",
    "a.grad"
   ]
  },
  {
   "cell_type": "code",
   "execution_count": 204,
   "metadata": {},
   "outputs": [
    {
     "name": "stdout",
     "output_type": "stream",
     "text": [
      "\n",
      "[0.94596976 2.0416148  4.0653644  4.971634  ]\n",
      "<NDArray 4 @cpu(0)>\n",
      "True\n",
      "\n",
      "[0.8919395 2.0832295 4.1307287 4.943268 ]\n",
      "<NDArray 4 @cpu(0)>\n",
      "True\n",
      "\n",
      "[0.8379093 2.1248443 4.196093  4.9149017]\n",
      "<NDArray 4 @cpu(0)>\n",
      "True\n"
     ]
    }
   ],
   "source": [
    "for i in range(3):\n",
    "    before = id(a)\n",
    "    a[:] -= 0.1 * a.grad\n",
    "    print(a)\n",
    "    print(id(a) == before)"
   ]
  },
  {
   "cell_type": "markdown",
   "metadata": {},
   "source": [
    "由此可知，上述方法对内存的损耗很小。"
   ]
  },
  {
   "cell_type": "code",
   "execution_count": 216,
   "metadata": {},
   "outputs": [
    {
     "name": "stdout",
     "output_type": "stream",
     "text": [
      "\n",
      "[1. 2. 4. 5.]\n",
      "<NDArray 4 @cpu(0)>\n",
      "\n",
      "[0.45969772 2.4161468  4.6536436  4.7163377 ]\n",
      "<NDArray 4 @cpu(0)>\n",
      "\n",
      "[-0.08060455  2.8322935   5.307287    4.4326754 ]\n",
      "<NDArray 4 @cpu(0)>\n"
     ]
    }
   ],
   "source": [
    "a = nd.array([1, 2, 4, 5])\n",
    "a.attach_grad()\n",
    "with autograd.record():\n",
    "    b = nd.sin(a)\n",
    "b.backward()\n",
    "\n",
    "for i in range(3):\n",
    "    print(a)\n",
    "    SGD(1, [a])"
   ]
  },
  {
   "cell_type": "code",
   "execution_count": null,
   "metadata": {},
   "outputs": [],
   "source": []
  }
 ],
 "metadata": {
  "kernelspec": {
   "display_name": "Python 3",
   "language": "python",
   "name": "python3"
  },
  "language_info": {
   "codemirror_mode": {
    "name": "ipython",
    "version": 3
   },
   "file_extension": ".py",
   "mimetype": "text/x-python",
   "name": "python",
   "nbconvert_exporter": "python",
   "pygments_lexer": "ipython3",
   "version": "3.6.3"
  }
 },
 "nbformat": 4,
 "nbformat_minor": 2
}
