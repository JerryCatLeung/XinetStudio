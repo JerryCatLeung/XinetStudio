{
 "cells": [
  {
   "cell_type": "markdown",
   "metadata": {},
   "source": [
    "# Data Structures\n",
    "\n",
    "## `DataArray`\n",
    "\n",
    "`xarray.DataArray` is xarray’s implementation of a labeled, multi-dimensional array. It has several key properties（`xarray.DataArray`是`xarray`实现了的一个带标签的多维数组。它有几个关键属性：）:\n",
    "- `values`：保存数组的值为 `numpy.ndarray`\n",
    "- `dims`：每个轴的 dimension 名称 $(e.g., ('x', 'y', 'z'))$\n",
    "- `coords`：一个类似字典的容器，用于标记每个点的数组（坐标）（例如，一维数字数组，日期时间对象或字符串）\n",
    "- `attrs`：一个`OrderedDict`持有任意 metadata(元数据)（**属性**）\n",
    "\n",
    "xarray uses `dims` and `coords` to enable its core metadata aware operations. Dimensions provide names that xarray uses instead of the `axis` argument found in many numpy functions. Coordinates enable fast label based indexing and alignment, building on the functionality of the index found on a pandas `DataFrame` or `Series`.\n",
    "\n",
    "### Creating a DataArray\n",
    "The `DataArray` constructor takes:\n",
    "- `data`: a multi-dimensional array of values（多维数组的值） (e.g., a numpy ndarray, `Series`, `DataFrame` or `Panel`)\n",
    "- `coords`: 坐标的列表或字典。 如果是一个列表，它应该是一个元组列表，其中第一个元素是维度名称，第二个元素是对应的坐标 `array_like` 对象\n",
    "- `dims`: 维度名称列表。如果省略并且`coords`是元组列表，则从`coord`中获取维度名称。\n",
    "- `attrs`: 要添加到实例的属性字典\n",
    "- `name`: 一个用于命名实例的字符串"
   ]
  },
  {
   "cell_type": "code",
   "execution_count": 3,
   "metadata": {
    "ExecuteTime": {
     "end_time": "2018-04-03T12:10:51.348780Z",
     "start_time": "2018-04-03T12:10:50.543780Z"
    }
   },
   "outputs": [],
   "source": [
    "import numpy as np\n",
    "import pandas as pd\n",
    "import xarray as xr"
   ]
  },
  {
   "cell_type": "code",
   "execution_count": 5,
   "metadata": {
    "ExecuteTime": {
     "end_time": "2018-04-03T12:11:02.219624Z",
     "start_time": "2018-04-03T12:11:02.207623Z"
    }
   },
   "outputs": [
    {
     "data": {
      "text/plain": [
       "array([[ 0.06929393,  0.16093694,  0.54154779],\n",
       "       [ 0.42662263,  0.27575633,  0.09391077],\n",
       "       [ 0.11476357,  0.59384975,  0.61779765],\n",
       "       [ 0.32228113,  0.03091292,  0.57646345]])"
      ]
     },
     "execution_count": 5,
     "metadata": {},
     "output_type": "execute_result"
    }
   ],
   "source": [
    "data = np.random.rand(4, 3)\n",
    "data"
   ]
  },
  {
   "cell_type": "code",
   "execution_count": 6,
   "metadata": {
    "ExecuteTime": {
     "end_time": "2018-04-03T12:11:16.216196Z",
     "start_time": "2018-04-03T12:11:16.210189Z"
    }
   },
   "outputs": [],
   "source": [
    "locs = ['IA', 'IL', 'IN']"
   ]
  },
  {
   "cell_type": "code",
   "execution_count": 12,
   "metadata": {
    "ExecuteTime": {
     "end_time": "2018-04-03T12:14:40.392651Z",
     "start_time": "2018-04-03T12:14:40.384654Z"
    }
   },
   "outputs": [
    {
     "data": {
      "text/plain": [
       "DatetimeIndex(['2000-01-01', '2000-01-02', '2000-01-03', '2000-01-04'], dtype='datetime64[ns]', freq='D')"
      ]
     },
     "execution_count": 12,
     "metadata": {},
     "output_type": "execute_result"
    }
   ],
   "source": [
    "times = pd.date_range('2000-01-01', periods=4)\n",
    "times"
   ]
  },
  {
   "cell_type": "code",
   "execution_count": 8,
   "metadata": {
    "ExecuteTime": {
     "end_time": "2018-04-03T12:11:37.472687Z",
     "start_time": "2018-04-03T12:11:37.459691Z"
    },
    "scrolled": true
   },
   "outputs": [
    {
     "data": {
      "text/plain": [
       "<xarray.DataArray (time: 4, space: 3)>\n",
       "array([[ 0.069294,  0.160937,  0.541548],\n",
       "       [ 0.426623,  0.275756,  0.093911],\n",
       "       [ 0.114764,  0.59385 ,  0.617798],\n",
       "       [ 0.322281,  0.030913,  0.576463]])\n",
       "Coordinates:\n",
       "  * time     (time) datetime64[ns] 2000-01-01 2000-01-02 2000-01-03 2000-01-04\n",
       "  * space    (space) <U2 'IA' 'IL' 'IN'"
      ]
     },
     "execution_count": 8,
     "metadata": {},
     "output_type": "execute_result"
    }
   ],
   "source": [
    "foo = xr.DataArray(data, coords=[times, locs], dims=['time', 'space'])\n",
    "\n",
    "foo"
   ]
  },
  {
   "cell_type": "code",
   "execution_count": 11,
   "metadata": {
    "ExecuteTime": {
     "end_time": "2018-04-03T12:13:35.027114Z",
     "start_time": "2018-04-03T12:13:34.983111Z"
    }
   },
   "outputs": [
    {
     "data": {
      "text/html": [
       "<div>\n",
       "<style scoped>\n",
       "    .dataframe tbody tr th:only-of-type {\n",
       "        vertical-align: middle;\n",
       "    }\n",
       "\n",
       "    .dataframe tbody tr th {\n",
       "        vertical-align: top;\n",
       "    }\n",
       "\n",
       "    .dataframe thead th {\n",
       "        text-align: right;\n",
       "    }\n",
       "</style>\n",
       "<table border=\"1\" class=\"dataframe\">\n",
       "  <thead>\n",
       "    <tr style=\"text-align: right;\">\n",
       "      <th>space</th>\n",
       "      <th>IA</th>\n",
       "      <th>IL</th>\n",
       "      <th>IN</th>\n",
       "    </tr>\n",
       "    <tr>\n",
       "      <th>time</th>\n",
       "      <th></th>\n",
       "      <th></th>\n",
       "      <th></th>\n",
       "    </tr>\n",
       "  </thead>\n",
       "  <tbody>\n",
       "    <tr>\n",
       "      <th>2000-01-01</th>\n",
       "      <td>0.069294</td>\n",
       "      <td>0.160937</td>\n",
       "      <td>0.541548</td>\n",
       "    </tr>\n",
       "    <tr>\n",
       "      <th>2000-01-02</th>\n",
       "      <td>0.426623</td>\n",
       "      <td>0.275756</td>\n",
       "      <td>0.093911</td>\n",
       "    </tr>\n",
       "    <tr>\n",
       "      <th>2000-01-03</th>\n",
       "      <td>0.114764</td>\n",
       "      <td>0.593850</td>\n",
       "      <td>0.617798</td>\n",
       "    </tr>\n",
       "    <tr>\n",
       "      <th>2000-01-04</th>\n",
       "      <td>0.322281</td>\n",
       "      <td>0.030913</td>\n",
       "      <td>0.576463</td>\n",
       "    </tr>\n",
       "  </tbody>\n",
       "</table>\n",
       "</div>"
      ],
      "text/plain": [
       "space             IA        IL        IN\n",
       "time                                    \n",
       "2000-01-01  0.069294  0.160937  0.541548\n",
       "2000-01-02  0.426623  0.275756  0.093911\n",
       "2000-01-03  0.114764  0.593850  0.617798\n",
       "2000-01-04  0.322281  0.030913  0.576463"
      ]
     },
     "execution_count": 11,
     "metadata": {},
     "output_type": "execute_result"
    }
   ],
   "source": [
    "foo.to_pandas()"
   ]
  },
  {
   "cell_type": "code",
   "execution_count": 9,
   "metadata": {
    "ExecuteTime": {
     "end_time": "2018-04-03T12:12:15.220431Z",
     "start_time": "2018-04-03T12:12:15.212426Z"
    }
   },
   "outputs": [
    {
     "data": {
      "text/plain": [
       "<xarray.DataArray (dim_0: 4, dim_1: 3)>\n",
       "array([[ 0.069294,  0.160937,  0.541548],\n",
       "       [ 0.426623,  0.275756,  0.093911],\n",
       "       [ 0.114764,  0.59385 ,  0.617798],\n",
       "       [ 0.322281,  0.030913,  0.576463]])\n",
       "Dimensions without coordinates: dim_0, dim_1"
      ]
     },
     "execution_count": 9,
     "metadata": {},
     "output_type": "execute_result"
    }
   ],
   "source": [
    "xr.DataArray(data)"
   ]
  },
  {
   "cell_type": "markdown",
   "metadata": {},
   "source": [
    "如您所见，维数名称总是存在于`xarray`数据模型中：如果您不提供它们，`dim_N`将创建表单的默认值。但是，坐标总是可选的，并且尺寸没有自动坐标标签。"
   ]
  },
  {
   "cell_type": "markdown",
   "metadata": {},
   "source": [
    "坐标可以通过以下方式指定：\n",
    "- 长度等于维度数量的值列表，为每个维度提供坐标标签。每个值必须具有以下形式之一：\n",
    "    - A `DataArray` 或 `Variable`\n",
    "    - 被转换为`Variable`的参数的由`(dims, data[, attrs])`组成的元组。\n",
    "    - pandas 对象或标量值，它被转换成一个 `DataArray`\n",
    "    - 一维数组或列表，它被解释为沿着与其名称相同的维度的坐标变量的值\n",
    "- 一个字典`{coord_name: coord}`，其值与列表的形式相同。将坐标提供为字典允许其他坐标不同于对应于维度的坐标。如果您 以`coords`作为字典形式提供，则必须明确提供`dims`。"
   ]
  },
  {
   "cell_type": "markdown",
   "metadata": {},
   "source": [
    "#### As a list of tuples:"
   ]
  },
  {
   "cell_type": "code",
   "execution_count": 13,
   "metadata": {
    "ExecuteTime": {
     "end_time": "2018-04-03T12:25:10.912168Z",
     "start_time": "2018-04-03T12:25:10.901206Z"
    }
   },
   "outputs": [
    {
     "data": {
      "text/plain": [
       "<xarray.DataArray (time: 4, space: 3)>\n",
       "array([[ 0.069294,  0.160937,  0.541548],\n",
       "       [ 0.426623,  0.275756,  0.093911],\n",
       "       [ 0.114764,  0.59385 ,  0.617798],\n",
       "       [ 0.322281,  0.030913,  0.576463]])\n",
       "Coordinates:\n",
       "  * time     (time) datetime64[ns] 2000-01-01 2000-01-02 2000-01-03 2000-01-04\n",
       "  * space    (space) <U2 'IA' 'IL' 'IN'"
      ]
     },
     "execution_count": 13,
     "metadata": {},
     "output_type": "execute_result"
    }
   ],
   "source": [
    "xr.DataArray(data, coords=[('time', times), ('space', locs)])"
   ]
  },
  {
   "cell_type": "markdown",
   "metadata": {},
   "source": [
    "#### As a dictionary:"
   ]
  },
  {
   "cell_type": "code",
   "execution_count": 14,
   "metadata": {
    "ExecuteTime": {
     "end_time": "2018-04-03T12:26:09.773041Z",
     "start_time": "2018-04-03T12:26:09.760046Z"
    }
   },
   "outputs": [
    {
     "data": {
      "text/plain": [
       "<xarray.DataArray (time: 4, space: 3)>\n",
       "array([[ 0.069294,  0.160937,  0.541548],\n",
       "       [ 0.426623,  0.275756,  0.093911],\n",
       "       [ 0.114764,  0.59385 ,  0.617798],\n",
       "       [ 0.322281,  0.030913,  0.576463]])\n",
       "Coordinates:\n",
       "  * time     (time) datetime64[ns] 2000-01-01 2000-01-02 2000-01-03 2000-01-04\n",
       "  * space    (space) <U2 'IA' 'IL' 'IN'\n",
       "    const    int32 42\n",
       "    ranking  (space) int32 1 2 3"
      ]
     },
     "execution_count": 14,
     "metadata": {},
     "output_type": "execute_result"
    }
   ],
   "source": [
    "xr.DataArray(\n",
    "    data,\n",
    "    coords={\n",
    "        'time': times,\n",
    "        'space': locs,\n",
    "        'const': 42,\n",
    "        'ranking': ('space', [1, 2, 3])\n",
    "    },\n",
    "    dims=['time', 'space'])"
   ]
  },
  {
   "cell_type": "markdown",
   "metadata": {},
   "source": [
    "#### As a dictionary with coords across multiple dimensions:"
   ]
  },
  {
   "cell_type": "code",
   "execution_count": 15,
   "metadata": {
    "ExecuteTime": {
     "end_time": "2018-04-03T12:26:42.376808Z",
     "start_time": "2018-04-03T12:26:42.364806Z"
    }
   },
   "outputs": [
    {
     "data": {
      "text/plain": [
       "<xarray.DataArray (time: 4, space: 3)>\n",
       "array([[ 0.069294,  0.160937,  0.541548],\n",
       "       [ 0.426623,  0.275756,  0.093911],\n",
       "       [ 0.114764,  0.59385 ,  0.617798],\n",
       "       [ 0.322281,  0.030913,  0.576463]])\n",
       "Coordinates:\n",
       "  * time     (time) datetime64[ns] 2000-01-01 2000-01-02 2000-01-03 2000-01-04\n",
       "  * space    (space) <U2 'IA' 'IL' 'IN'\n",
       "    const    int32 42\n",
       "    ranking  (time, space) int32 0 1 2 3 4 5 6 7 8 9 10 11"
      ]
     },
     "execution_count": 15,
     "metadata": {},
     "output_type": "execute_result"
    }
   ],
   "source": [
    "xr.DataArray(\n",
    "    data,\n",
    "    coords={\n",
    "        'time': times,\n",
    "        'space': locs,\n",
    "        'const': 42,\n",
    "        'ranking': (('time', 'space'), np.arange(12).reshape(4, 3))\n",
    "    },\n",
    "    dims=['time', 'space'])"
   ]
  },
  {
   "cell_type": "markdown",
   "metadata": {},
   "source": [
    "#### If you create a DataArray by supplying a pandas Series, DataFrame or Panel, any non-specified arguments in the DataArray constructor will be filled in from the pandas object:"
   ]
  },
  {
   "cell_type": "code",
   "execution_count": 16,
   "metadata": {
    "ExecuteTime": {
     "end_time": "2018-04-03T12:27:24.240707Z",
     "start_time": "2018-04-03T12:27:24.235711Z"
    }
   },
   "outputs": [],
   "source": [
    "df = pd.DataFrame({'x': [0, 1], 'y': [2, 3]}, index=['a', 'b'])"
   ]
  },
  {
   "cell_type": "code",
   "execution_count": 17,
   "metadata": {
    "ExecuteTime": {
     "end_time": "2018-04-03T12:27:30.368353Z",
     "start_time": "2018-04-03T12:27:30.364399Z"
    }
   },
   "outputs": [],
   "source": [
    "df.index.name = 'abc'"
   ]
  },
  {
   "cell_type": "code",
   "execution_count": 18,
   "metadata": {
    "ExecuteTime": {
     "end_time": "2018-04-03T12:27:36.415654Z",
     "start_time": "2018-04-03T12:27:36.409650Z"
    }
   },
   "outputs": [],
   "source": [
    "df.columns.name = 'xyz'"
   ]
  },
  {
   "cell_type": "code",
   "execution_count": 19,
   "metadata": {
    "ExecuteTime": {
     "end_time": "2018-04-03T12:27:40.434540Z",
     "start_time": "2018-04-03T12:27:40.425545Z"
    }
   },
   "outputs": [
    {
     "data": {
      "text/html": [
       "<div>\n",
       "<style scoped>\n",
       "    .dataframe tbody tr th:only-of-type {\n",
       "        vertical-align: middle;\n",
       "    }\n",
       "\n",
       "    .dataframe tbody tr th {\n",
       "        vertical-align: top;\n",
       "    }\n",
       "\n",
       "    .dataframe thead th {\n",
       "        text-align: right;\n",
       "    }\n",
       "</style>\n",
       "<table border=\"1\" class=\"dataframe\">\n",
       "  <thead>\n",
       "    <tr style=\"text-align: right;\">\n",
       "      <th>xyz</th>\n",
       "      <th>x</th>\n",
       "      <th>y</th>\n",
       "    </tr>\n",
       "    <tr>\n",
       "      <th>abc</th>\n",
       "      <th></th>\n",
       "      <th></th>\n",
       "    </tr>\n",
       "  </thead>\n",
       "  <tbody>\n",
       "    <tr>\n",
       "      <th>a</th>\n",
       "      <td>0</td>\n",
       "      <td>2</td>\n",
       "    </tr>\n",
       "    <tr>\n",
       "      <th>b</th>\n",
       "      <td>1</td>\n",
       "      <td>3</td>\n",
       "    </tr>\n",
       "  </tbody>\n",
       "</table>\n",
       "</div>"
      ],
      "text/plain": [
       "xyz  x  y\n",
       "abc      \n",
       "a    0  2\n",
       "b    1  3"
      ]
     },
     "execution_count": 19,
     "metadata": {},
     "output_type": "execute_result"
    }
   ],
   "source": [
    "df"
   ]
  },
  {
   "cell_type": "code",
   "execution_count": 20,
   "metadata": {
    "ExecuteTime": {
     "end_time": "2018-04-03T12:27:52.713717Z",
     "start_time": "2018-04-03T12:27:52.701719Z"
    }
   },
   "outputs": [
    {
     "data": {
      "text/plain": [
       "<xarray.DataArray (abc: 2, xyz: 2)>\n",
       "array([[0, 2],\n",
       "       [1, 3]], dtype=int64)\n",
       "Coordinates:\n",
       "  * abc      (abc) object 'a' 'b'\n",
       "  * xyz      (xyz) object 'x' 'y'"
      ]
     },
     "execution_count": 20,
     "metadata": {},
     "output_type": "execute_result"
    }
   ],
   "source": [
    "xr.DataArray(df)"
   ]
  },
  {
   "cell_type": "markdown",
   "metadata": {},
   "source": [
    "### properties（属性）"
   ]
  },
  {
   "cell_type": "code",
   "execution_count": 21,
   "metadata": {
    "ExecuteTime": {
     "end_time": "2018-04-03T12:28:53.268760Z",
     "start_time": "2018-04-03T12:28:53.260761Z"
    }
   },
   "outputs": [
    {
     "data": {
      "text/plain": [
       "array([[ 0.06929393,  0.16093694,  0.54154779],\n",
       "       [ 0.42662263,  0.27575633,  0.09391077],\n",
       "       [ 0.11476357,  0.59384975,  0.61779765],\n",
       "       [ 0.32228113,  0.03091292,  0.57646345]])"
      ]
     },
     "execution_count": 21,
     "metadata": {},
     "output_type": "execute_result"
    }
   ],
   "source": [
    "foo.values"
   ]
  },
  {
   "cell_type": "code",
   "execution_count": 22,
   "metadata": {
    "ExecuteTime": {
     "end_time": "2018-04-03T12:28:59.973108Z",
     "start_time": "2018-04-03T12:28:59.967117Z"
    }
   },
   "outputs": [
    {
     "data": {
      "text/plain": [
       "('time', 'space')"
      ]
     },
     "execution_count": 22,
     "metadata": {},
     "output_type": "execute_result"
    }
   ],
   "source": [
    "foo.dims"
   ]
  },
  {
   "cell_type": "code",
   "execution_count": 23,
   "metadata": {
    "ExecuteTime": {
     "end_time": "2018-04-03T12:29:16.287333Z",
     "start_time": "2018-04-03T12:29:16.278334Z"
    }
   },
   "outputs": [
    {
     "data": {
      "text/plain": [
       "Coordinates:\n",
       "  * time     (time) datetime64[ns] 2000-01-01 2000-01-02 2000-01-03 2000-01-04\n",
       "  * space    (space) <U2 'IA' 'IL' 'IN'"
      ]
     },
     "execution_count": 23,
     "metadata": {},
     "output_type": "execute_result"
    }
   ],
   "source": [
    "foo.coords"
   ]
  },
  {
   "cell_type": "code",
   "execution_count": 24,
   "metadata": {
    "ExecuteTime": {
     "end_time": "2018-04-03T12:29:24.657429Z",
     "start_time": "2018-04-03T12:29:24.651425Z"
    }
   },
   "outputs": [
    {
     "data": {
      "text/plain": [
       "OrderedDict()"
      ]
     },
     "execution_count": 24,
     "metadata": {},
     "output_type": "execute_result"
    }
   ],
   "source": [
    "foo.attrs"
   ]
  },
  {
   "cell_type": "code",
   "execution_count": 25,
   "metadata": {
    "ExecuteTime": {
     "end_time": "2018-04-03T12:29:37.330662Z",
     "start_time": "2018-04-03T12:29:37.325661Z"
    }
   },
   "outputs": [
    {
     "name": "stdout",
     "output_type": "stream",
     "text": [
      "None\n"
     ]
    }
   ],
   "source": [
    "print(foo.name)"
   ]
  },
  {
   "cell_type": "markdown",
   "metadata": {},
   "source": [
    "You can modify `values` inplace:"
   ]
  },
  {
   "cell_type": "code",
   "execution_count": 26,
   "metadata": {
    "ExecuteTime": {
     "end_time": "2018-04-03T12:30:09.909138Z",
     "start_time": "2018-04-03T12:30:09.904134Z"
    }
   },
   "outputs": [],
   "source": [
    "foo.values = 2.0 * foo.values"
   ]
  },
  {
   "cell_type": "code",
   "execution_count": 27,
   "metadata": {
    "ExecuteTime": {
     "end_time": "2018-04-03T12:30:19.081825Z",
     "start_time": "2018-04-03T12:30:19.074813Z"
    }
   },
   "outputs": [
    {
     "data": {
      "text/plain": [
       "array([[ 0.13858786,  0.32187388,  1.08309558],\n",
       "       [ 0.85324526,  0.55151266,  0.18782154],\n",
       "       [ 0.22952714,  1.18769949,  1.23559531],\n",
       "       [ 0.64456227,  0.06182583,  1.1529269 ]])"
      ]
     },
     "execution_count": 27,
     "metadata": {},
     "output_type": "execute_result"
    }
   ],
   "source": [
    "foo.values"
   ]
  },
  {
   "cell_type": "code",
   "execution_count": 28,
   "metadata": {
    "ExecuteTime": {
     "end_time": "2018-04-03T12:31:01.217881Z",
     "start_time": "2018-04-03T12:31:01.213885Z"
    }
   },
   "outputs": [],
   "source": [
    "foo.name = 'foo'"
   ]
  },
  {
   "cell_type": "code",
   "execution_count": 29,
   "metadata": {
    "ExecuteTime": {
     "end_time": "2018-04-03T12:31:10.233491Z",
     "start_time": "2018-04-03T12:31:10.227489Z"
    }
   },
   "outputs": [],
   "source": [
    "foo.attrs['units'] = 'meters'"
   ]
  },
  {
   "cell_type": "code",
   "execution_count": 30,
   "metadata": {
    "ExecuteTime": {
     "end_time": "2018-04-03T12:31:14.409602Z",
     "start_time": "2018-04-03T12:31:14.399576Z"
    }
   },
   "outputs": [
    {
     "data": {
      "text/plain": [
       "<xarray.DataArray 'foo' (time: 4, space: 3)>\n",
       "array([[ 0.138588,  0.321874,  1.083096],\n",
       "       [ 0.853245,  0.551513,  0.187822],\n",
       "       [ 0.229527,  1.187699,  1.235595],\n",
       "       [ 0.644562,  0.061826,  1.152927]])\n",
       "Coordinates:\n",
       "  * time     (time) datetime64[ns] 2000-01-01 2000-01-02 2000-01-03 2000-01-04\n",
       "  * space    (space) <U2 'IA' 'IL' 'IN'\n",
       "Attributes:\n",
       "    units:    meters"
      ]
     },
     "execution_count": 30,
     "metadata": {},
     "output_type": "execute_result"
    }
   ],
   "source": [
    "foo"
   ]
  },
  {
   "cell_type": "markdown",
   "metadata": {},
   "source": [
    "The `rename()` method is another option, returning a new data array:"
   ]
  },
  {
   "cell_type": "code",
   "execution_count": 31,
   "metadata": {
    "ExecuteTime": {
     "end_time": "2018-04-03T12:32:00.562915Z",
     "start_time": "2018-04-03T12:32:00.553912Z"
    }
   },
   "outputs": [
    {
     "data": {
      "text/plain": [
       "<xarray.DataArray 'bar' (time: 4, space: 3)>\n",
       "array([[ 0.138588,  0.321874,  1.083096],\n",
       "       [ 0.853245,  0.551513,  0.187822],\n",
       "       [ 0.229527,  1.187699,  1.235595],\n",
       "       [ 0.644562,  0.061826,  1.152927]])\n",
       "Coordinates:\n",
       "  * time     (time) datetime64[ns] 2000-01-01 2000-01-02 2000-01-03 2000-01-04\n",
       "  * space    (space) <U2 'IA' 'IL' 'IN'\n",
       "Attributes:\n",
       "    units:    meters"
      ]
     },
     "execution_count": 31,
     "metadata": {},
     "output_type": "execute_result"
    }
   ],
   "source": [
    "foo.rename('bar')"
   ]
  },
  {
   "cell_type": "markdown",
   "metadata": {},
   "source": [
    "### Coordinates\n",
    "\n",
    "The `coords` property is `dict` like. Individual coordinates can be accessed from the coordinates by name, or even by indexing the data array itself:"
   ]
  },
  {
   "cell_type": "code",
   "execution_count": 32,
   "metadata": {
    "ExecuteTime": {
     "end_time": "2018-04-03T12:32:34.427355Z",
     "start_time": "2018-04-03T12:32:34.419344Z"
    }
   },
   "outputs": [
    {
     "data": {
      "text/plain": [
       "<xarray.DataArray 'time' (time: 4)>\n",
       "array(['2000-01-01T00:00:00.000000000', '2000-01-02T00:00:00.000000000',\n",
       "       '2000-01-03T00:00:00.000000000', '2000-01-04T00:00:00.000000000'], dtype='datetime64[ns]')\n",
       "Coordinates:\n",
       "  * time     (time) datetime64[ns] 2000-01-01 2000-01-02 2000-01-03 2000-01-04"
      ]
     },
     "execution_count": 32,
     "metadata": {},
     "output_type": "execute_result"
    }
   ],
   "source": [
    "foo.coords['time']"
   ]
  },
  {
   "cell_type": "code",
   "execution_count": 33,
   "metadata": {
    "ExecuteTime": {
     "end_time": "2018-04-03T12:32:50.544045Z",
     "start_time": "2018-04-03T12:32:50.533042Z"
    }
   },
   "outputs": [
    {
     "data": {
      "text/plain": [
       "<xarray.DataArray 'time' (time: 4)>\n",
       "array(['2000-01-01T00:00:00.000000000', '2000-01-02T00:00:00.000000000',\n",
       "       '2000-01-03T00:00:00.000000000', '2000-01-04T00:00:00.000000000'], dtype='datetime64[ns]')\n",
       "Coordinates:\n",
       "  * time     (time) datetime64[ns] 2000-01-01 2000-01-02 2000-01-03 2000-01-04"
      ]
     },
     "execution_count": 33,
     "metadata": {},
     "output_type": "execute_result"
    }
   ],
   "source": [
    "foo['time']"
   ]
  },
  {
   "cell_type": "markdown",
   "metadata": {},
   "source": [
    "Coordinates can also be set or removed by using the dictionary like syntax:"
   ]
  },
  {
   "cell_type": "code",
   "execution_count": 34,
   "metadata": {
    "ExecuteTime": {
     "end_time": "2018-04-03T12:34:14.504700Z",
     "start_time": "2018-04-03T12:34:14.499662Z"
    }
   },
   "outputs": [],
   "source": [
    "foo['ranking'] = ('space', [1, 2, 3])"
   ]
  },
  {
   "cell_type": "code",
   "execution_count": 35,
   "metadata": {
    "ExecuteTime": {
     "end_time": "2018-04-03T12:34:21.438469Z",
     "start_time": "2018-04-03T12:34:21.430471Z"
    }
   },
   "outputs": [
    {
     "data": {
      "text/plain": [
       "Coordinates:\n",
       "  * time     (time) datetime64[ns] 2000-01-01 2000-01-02 2000-01-03 2000-01-04\n",
       "  * space    (space) <U2 'IA' 'IL' 'IN'\n",
       "    ranking  (space) int32 1 2 3"
      ]
     },
     "execution_count": 35,
     "metadata": {},
     "output_type": "execute_result"
    }
   ],
   "source": [
    "foo.coords"
   ]
  },
  {
   "cell_type": "code",
   "execution_count": 36,
   "metadata": {
    "ExecuteTime": {
     "end_time": "2018-04-03T12:34:33.030599Z",
     "start_time": "2018-04-03T12:34:33.025596Z"
    }
   },
   "outputs": [],
   "source": [
    "del foo['ranking']"
   ]
  },
  {
   "cell_type": "code",
   "execution_count": 37,
   "metadata": {
    "ExecuteTime": {
     "end_time": "2018-04-03T12:34:40.876237Z",
     "start_time": "2018-04-03T12:34:40.868271Z"
    }
   },
   "outputs": [
    {
     "data": {
      "text/plain": [
       "Coordinates:\n",
       "  * time     (time) datetime64[ns] 2000-01-01 2000-01-02 2000-01-03 2000-01-04\n",
       "  * space    (space) <U2 'IA' 'IL' 'IN'"
      ]
     },
     "execution_count": 37,
     "metadata": {},
     "output_type": "execute_result"
    }
   ],
   "source": [
    "foo.coords"
   ]
  },
  {
   "cell_type": "markdown",
   "metadata": {},
   "source": [
    "## Dataset\n",
    "`xarray.Dataset` is xarray’s multi-dimensional equivalent of a DataFrame.\n",
    "\n",
    "它是`DataArray`具有对齐维度的带标签数组（对象）的类似字典的容器。它被设计为文件格式是`NetCDF`的数据模型在内存中表示。\n",
    "\n",
    "除了可用于访问数据集中任何变量的数据集本身的字典式界面之外，数据集还有四个关键属性：\n",
    "- `dims`：从维名称到每个维的固定长度的字典映射（例`{'x': 6, 'y': 6, 'time': 8}`）\n",
    "- `data_vars`：与变量相对应的DataArrays类似于字典的容器\n",
    "- `coords`：`DataArrays`的另一个类似于字典的容器，用于标记`data_vars`（例如，数字数组，日期时间对象或字符串数组）中使用的点\n",
    "- `attrs`：一个持有任意元数据的`OrderedDict`\n",
    "\n",
    "变量是否落入数据或坐标（从[CF惯例](http://cfconventions.org)中借用）之间的区别主要是语义上的，如果您愿意，您可以忽略忽略它：词典（如数据集上的访问）将提供在任一类别中找到的变量。但是，`xarray`确实利用了索引和计算的区别。坐标表示恒定/固定/独立量，不同于属于数据的变化/测量/依赖量。\n",
    "\n",
    "### 创建一个数据集\n",
    "为了`Dataset`从头开始，提供任何变量（`data_vars`），坐标（`coords`）和属性（`attrs`）的字典。\n",
    "- `data_vars` 应该是一个字典，每个键作为变量的名称和每个值作为以下之一：\n",
    "    - A `DataArray`或`Variable`\n",
    "    - 被转换为`Variable`的参数的由`(dims, data[, attrs])`组成的元组。\n",
    "    - pandas 对象或标量值，它被转换成一个 `DataArray`\n",
    "    - 一维数组或列表，它被解释为沿着与其名称相同的维度的坐标变量的值\n",
    "- `coords`应该是与之相同形式的字典`data_vars`。\n",
    "- `attrs` 应该是字典。"
   ]
  },
  {
   "cell_type": "code",
   "execution_count": 81,
   "metadata": {
    "ExecuteTime": {
     "end_time": "2018-04-03T14:18:03.436602Z",
     "start_time": "2018-04-03T14:18:03.378643Z"
    }
   },
   "outputs": [],
   "source": [
    "temp = 15 + 8 * np.random.randn(2, 2, 3)"
   ]
  },
  {
   "cell_type": "code",
   "execution_count": 82,
   "metadata": {
    "ExecuteTime": {
     "end_time": "2018-04-03T14:18:04.349615Z",
     "start_time": "2018-04-03T14:18:04.346636Z"
    }
   },
   "outputs": [],
   "source": [
    "precip = 10 * np.random.rand(2, 2, 3)"
   ]
  },
  {
   "cell_type": "code",
   "execution_count": 83,
   "metadata": {
    "ExecuteTime": {
     "end_time": "2018-04-03T14:18:04.781634Z",
     "start_time": "2018-04-03T14:18:04.775638Z"
    }
   },
   "outputs": [],
   "source": [
    "lon = [[-99.83, -99.32], [-99.79, -99.23]]"
   ]
  },
  {
   "cell_type": "code",
   "execution_count": 84,
   "metadata": {
    "ExecuteTime": {
     "end_time": "2018-04-03T14:18:05.222166Z",
     "start_time": "2018-04-03T14:18:05.219151Z"
    }
   },
   "outputs": [],
   "source": [
    "lat = [[42.25, 42.21], [42.63, 42.59]]"
   ]
  },
  {
   "cell_type": "code",
   "execution_count": 85,
   "metadata": {
    "ExecuteTime": {
     "end_time": "2018-04-03T14:18:06.651923Z",
     "start_time": "2018-04-03T14:18:06.632921Z"
    }
   },
   "outputs": [],
   "source": [
    "# for real use cases, its good practice to supply array attributes such as\n",
    "# units, but we won't bother here for the sake of brevity\n",
    "\n",
    "ds = xr.Dataset(\n",
    "    {\n",
    "        'temperature': (['x', 'y', 'time'], temp),\n",
    "        'precipitation': (['x', 'y', 'time'], precip)\n",
    "    },\n",
    "    coords={\n",
    "        'lon': (['x', 'y'], lon),\n",
    "        'lat': (['x', 'y'], lat),\n",
    "        'time': pd.date_range('2014-09-06', periods=3),\n",
    "        'reference_time': pd.Timestamp('2014-09-05')\n",
    "    })"
   ]
  },
  {
   "cell_type": "code",
   "execution_count": 86,
   "metadata": {
    "ExecuteTime": {
     "end_time": "2018-04-03T14:18:07.735740Z",
     "start_time": "2018-04-03T14:18:07.707742Z"
    },
    "scrolled": true
   },
   "outputs": [
    {
     "data": {
      "text/plain": [
       "<xarray.Dataset>\n",
       "Dimensions:         (time: 3, x: 2, y: 2)\n",
       "Coordinates:\n",
       "    lon             (x, y) float64 -99.83 -99.32 -99.79 -99.23\n",
       "    lat             (x, y) float64 42.25 42.21 42.63 42.59\n",
       "  * time            (time) datetime64[ns] 2014-09-06 2014-09-07 2014-09-08\n",
       "    reference_time  datetime64[ns] 2014-09-05\n",
       "Dimensions without coordinates: x, y\n",
       "Data variables:\n",
       "    temperature     (x, y, time) float64 15.74 22.15 10.12 23.36 13.6 21.33 ...\n",
       "    precipitation   (x, y, time) float64 5.669 4.776 4.736 6.252 0.2908 ..."
      ]
     },
     "execution_count": 86,
     "metadata": {},
     "output_type": "execute_result"
    }
   ],
   "source": [
    "ds"
   ]
  },
  {
   "cell_type": "markdown",
   "metadata": {},
   "source": [
    "将`xarray.DataArray`对象或 pandas 对象作为字典中的值传递："
   ]
  },
  {
   "cell_type": "code",
   "execution_count": 87,
   "metadata": {
    "ExecuteTime": {
     "end_time": "2018-04-03T14:18:12.743387Z",
     "start_time": "2018-04-03T14:18:12.729384Z"
    }
   },
   "outputs": [
    {
     "data": {
      "text/plain": [
       "<xarray.Dataset>\n",
       "Dimensions:  (space: 3, time: 4)\n",
       "Coordinates:\n",
       "  * time     (time) datetime64[ns] 2000-01-01 2000-01-02 2000-01-03 2000-01-04\n",
       "  * space    (space) <U2 'IA' 'IL' 'IN'\n",
       "Data variables:\n",
       "    bar      (time, space) float64 0.1386 0.3219 1.083 0.8532 0.5515 0.1878 ..."
      ]
     },
     "execution_count": 87,
     "metadata": {},
     "output_type": "execute_result"
    }
   ],
   "source": [
    " xr.Dataset({'bar': foo})"
   ]
  },
  {
   "cell_type": "code",
   "execution_count": 45,
   "metadata": {
    "ExecuteTime": {
     "end_time": "2018-04-03T12:53:27.530906Z",
     "start_time": "2018-04-03T12:53:27.516910Z"
    }
   },
   "outputs": [
    {
     "data": {
      "text/plain": [
       "<xarray.Dataset>\n",
       "Dimensions:  (space: 3, time: 4)\n",
       "Coordinates:\n",
       "  * time     (time) datetime64[ns] 2000-01-01 2000-01-02 2000-01-03 2000-01-04\n",
       "  * space    (space) object 'IA' 'IL' 'IN'\n",
       "Data variables:\n",
       "    bar      (time, space) float64 0.1386 0.3219 1.083 0.8532 0.5515 0.1878 ..."
      ]
     },
     "execution_count": 45,
     "metadata": {},
     "output_type": "execute_result"
    }
   ],
   "source": [
    "xr.Dataset({'bar': foo.to_pandas()})"
   ]
  },
  {
   "cell_type": "markdown",
   "metadata": {},
   "source": [
    "当 pandas 对象作为值提供时，其索引的名称将用作维名称，其数据与任何现有维度对齐。"
   ]
  },
  {
   "cell_type": "markdown",
   "metadata": {},
   "source": [
    "您还可以从以下方法创建数据集：\n",
    "\n",
    "- A `pandas.DataFrame` 或者分别 `pandas.Panel` 沿着它的列和项目，`Dataset`直接传递给它\n",
    "- 一个`pandas.DataFrame`用`Dataset.from_dataframe`，这将额外处理`MultiIndexes`看[Working with pandas](http://xarray.pydata.org/en/stable/pandas.html#pandas)\n",
    "- 在磁盘上通过`open_dataset()`打开`NetCDF` 文件。请参阅[序列化和IO](http://xarray.pydata.org/en/stable/io.html#io)。"
   ]
  },
  {
   "cell_type": "markdown",
   "metadata": {},
   "source": [
    "### 数据集内容\n",
    "`Dataset`通过`xarray.DataArray`对象给出的值实现 Python 映射接口："
   ]
  },
  {
   "cell_type": "code",
   "execution_count": 46,
   "metadata": {
    "ExecuteTime": {
     "end_time": "2018-04-03T12:58:42.137364Z",
     "start_time": "2018-04-03T12:58:42.129367Z"
    }
   },
   "outputs": [
    {
     "data": {
      "text/plain": [
       "True"
      ]
     },
     "execution_count": 46,
     "metadata": {},
     "output_type": "execute_result"
    }
   ],
   "source": [
    "'temperature' in ds"
   ]
  },
  {
   "cell_type": "code",
   "execution_count": 47,
   "metadata": {
    "ExecuteTime": {
     "end_time": "2018-04-03T12:58:49.533074Z",
     "start_time": "2018-04-03T12:58:49.519038Z"
    }
   },
   "outputs": [
    {
     "data": {
      "text/plain": [
       "<xarray.DataArray 'temperature' (x: 2, y: 2, time: 3)>\n",
       "array([[[ 16.927629,   8.900522,  15.097617],\n",
       "        [ 16.559953,  14.359952,  12.102166]],\n",
       "\n",
       "       [[ 12.401412,  -2.778328,  11.162389],\n",
       "        [ 23.257175,   5.250884,  11.991798]]])\n",
       "Coordinates:\n",
       "    lon             (x, y) float64 -99.83 -99.32 -99.79 -99.23\n",
       "    lat             (x, y) float64 42.25 42.21 42.63 42.59\n",
       "  * time            (time) datetime64[ns] 2014-09-06 2014-09-07 2014-09-08\n",
       "    reference_time  datetime64[ns] 2014-09-05\n",
       "Dimensions without coordinates: x, y"
      ]
     },
     "execution_count": 47,
     "metadata": {},
     "output_type": "execute_result"
    }
   ],
   "source": [
    "ds['temperature']"
   ]
  },
  {
   "cell_type": "markdown",
   "metadata": {},
   "source": [
    "有效的键包括每个列出的坐标和数据变量\n",
    "\n",
    "数据和坐标变量也分别在含有 data_vars和coords 字典的属性："
   ]
  },
  {
   "cell_type": "code",
   "execution_count": 48,
   "metadata": {
    "ExecuteTime": {
     "end_time": "2018-04-03T12:59:25.128192Z",
     "start_time": "2018-04-03T12:59:25.123170Z"
    }
   },
   "outputs": [
    {
     "data": {
      "text/plain": [
       "Data variables:\n",
       "    temperature    (x, y, time) float64 16.93 8.901 15.1 16.56 14.36 12.1 ...\n",
       "    precipitation  (x, y, time) float64 3.376 9.389 9.728 5.69 3.36 8.61 ..."
      ]
     },
     "execution_count": 48,
     "metadata": {},
     "output_type": "execute_result"
    }
   ],
   "source": [
    " ds.data_vars"
   ]
  },
  {
   "cell_type": "code",
   "execution_count": 49,
   "metadata": {
    "ExecuteTime": {
     "end_time": "2018-04-03T12:59:32.965444Z",
     "start_time": "2018-04-03T12:59:32.954448Z"
    }
   },
   "outputs": [
    {
     "data": {
      "text/plain": [
       "Coordinates:\n",
       "    lon             (x, y) float64 -99.83 -99.32 -99.79 -99.23\n",
       "    lat             (x, y) float64 42.25 42.21 42.63 42.59\n",
       "  * time            (time) datetime64[ns] 2014-09-06 2014-09-07 2014-09-08\n",
       "    reference_time  datetime64[ns] 2014-09-05"
      ]
     },
     "execution_count": 49,
     "metadata": {},
     "output_type": "execute_result"
    }
   ],
   "source": [
    "ds.coords"
   ]
  },
  {
   "cell_type": "markdown",
   "metadata": {},
   "source": [
    "最后，与数据数组一样，数据集也以属性的形式存储任意元数据："
   ]
  },
  {
   "cell_type": "code",
   "execution_count": 50,
   "metadata": {
    "ExecuteTime": {
     "end_time": "2018-04-03T12:59:53.764586Z",
     "start_time": "2018-04-03T12:59:53.757548Z"
    }
   },
   "outputs": [
    {
     "data": {
      "text/plain": [
       "OrderedDict()"
      ]
     },
     "execution_count": 50,
     "metadata": {},
     "output_type": "execute_result"
    }
   ],
   "source": [
    "ds.attrs"
   ]
  },
  {
   "cell_type": "code",
   "execution_count": 51,
   "metadata": {
    "ExecuteTime": {
     "end_time": "2018-04-03T13:00:00.374484Z",
     "start_time": "2018-04-03T13:00:00.369450Z"
    }
   },
   "outputs": [],
   "source": [
    "ds.attrs['title'] = 'example attribute'"
   ]
  },
  {
   "cell_type": "code",
   "execution_count": 52,
   "metadata": {
    "ExecuteTime": {
     "end_time": "2018-04-03T13:00:04.349281Z",
     "start_time": "2018-04-03T13:00:04.332249Z"
    }
   },
   "outputs": [
    {
     "data": {
      "text/plain": [
       "<xarray.Dataset>\n",
       "Dimensions:         (time: 3, x: 2, y: 2)\n",
       "Coordinates:\n",
       "    lon             (x, y) float64 -99.83 -99.32 -99.79 -99.23\n",
       "    lat             (x, y) float64 42.25 42.21 42.63 42.59\n",
       "  * time            (time) datetime64[ns] 2014-09-06 2014-09-07 2014-09-08\n",
       "    reference_time  datetime64[ns] 2014-09-05\n",
       "Dimensions without coordinates: x, y\n",
       "Data variables:\n",
       "    temperature     (x, y, time) float64 16.93 8.901 15.1 16.56 14.36 12.1 ...\n",
       "    precipitation   (x, y, time) float64 3.376 9.389 9.728 5.69 3.36 8.61 ...\n",
       "Attributes:\n",
       "    title:    example attribute"
      ]
     },
     "execution_count": 52,
     "metadata": {},
     "output_type": "execute_result"
    }
   ],
   "source": [
    "ds"
   ]
  },
  {
   "cell_type": "code",
   "execution_count": 53,
   "metadata": {
    "ExecuteTime": {
     "end_time": "2018-04-03T13:01:14.876392Z",
     "start_time": "2018-04-03T13:01:14.862391Z"
    }
   },
   "outputs": [
    {
     "data": {
      "text/plain": [
       "<xarray.DataArray 'temperature' (x: 2, y: 2, time: 3)>\n",
       "array([[[ 16.927629,   8.900522,  15.097617],\n",
       "        [ 16.559953,  14.359952,  12.102166]],\n",
       "\n",
       "       [[ 12.401412,  -2.778328,  11.162389],\n",
       "        [ 23.257175,   5.250884,  11.991798]]])\n",
       "Coordinates:\n",
       "    lon             (x, y) float64 -99.83 -99.32 -99.79 -99.23\n",
       "    lat             (x, y) float64 42.25 42.21 42.63 42.59\n",
       "  * time            (time) datetime64[ns] 2014-09-06 2014-09-07 2014-09-08\n",
       "    reference_time  datetime64[ns] 2014-09-05\n",
       "Dimensions without coordinates: x, y"
      ]
     },
     "execution_count": 53,
     "metadata": {},
     "output_type": "execute_result"
    }
   ],
   "source": [
    "ds.temperature"
   ]
  },
  {
   "cell_type": "markdown",
   "metadata": {},
   "source": [
    "### Dictionary like methods\n",
    "We can update a dataset in-place using Python’s standard dictionary syntax. For example, to create this example dataset from scratch, we could have written:"
   ]
  },
  {
   "cell_type": "code",
   "execution_count": 54,
   "metadata": {
    "ExecuteTime": {
     "end_time": "2018-04-03T13:07:38.697811Z",
     "start_time": "2018-04-03T13:07:38.690816Z"
    }
   },
   "outputs": [],
   "source": [
    "ds = xr.Dataset()"
   ]
  },
  {
   "cell_type": "code",
   "execution_count": 55,
   "metadata": {
    "ExecuteTime": {
     "end_time": "2018-04-03T13:07:45.909029Z",
     "start_time": "2018-04-03T13:07:45.900029Z"
    }
   },
   "outputs": [],
   "source": [
    "ds['temperature'] = (('x', 'y', 'time'), temp)"
   ]
  },
  {
   "cell_type": "code",
   "execution_count": 56,
   "metadata": {
    "ExecuteTime": {
     "end_time": "2018-04-03T13:07:51.923480Z",
     "start_time": "2018-04-03T13:07:51.914479Z"
    }
   },
   "outputs": [],
   "source": [
    " ds['precipitation'] = (('x', 'y', 'time'), precip)"
   ]
  },
  {
   "cell_type": "code",
   "execution_count": 57,
   "metadata": {
    "ExecuteTime": {
     "end_time": "2018-04-03T13:08:57.145396Z",
     "start_time": "2018-04-03T13:08:57.139427Z"
    }
   },
   "outputs": [],
   "source": [
    "ds.coords['lat'] = (('x', 'y'), lat)\n",
    "\n",
    "ds.coords['lon'] = (('x', 'y'), lon)\n",
    "\n",
    "ds.coords['time'] = pd.date_range('2014-09-06', periods=3)\n",
    "\n",
    "ds.coords['reference_time'] = pd.Timestamp('2014-09-05')"
   ]
  },
  {
   "cell_type": "markdown",
   "metadata": {},
   "source": [
    "要改变变量的`Dataset`，你可以使用所有标准的字典的方法，其中包括`values`，`items`，`__delitem__`，`get`和 `update()`。请注意，将`DataArrayor`或`pandas`对象指定给`Dataset`使用`__setitem__`或 `update`将会 自动将数组与原始数据集的索引对齐。"
   ]
  },
  {
   "cell_type": "code",
   "execution_count": 58,
   "metadata": {
    "ExecuteTime": {
     "end_time": "2018-04-03T13:10:56.610693Z",
     "start_time": "2018-04-03T13:10:56.598697Z"
    }
   },
   "outputs": [
    {
     "name": "stderr",
     "output_type": "stream",
     "text": [
      "C:\\ProgramData\\Anaconda3\\lib\\site-packages\\ipykernel_launcher.py:1: FutureWarning: iteration over an xarray.Dataset will change in xarray v0.11 to only include data variables, not coordinates. Iterate over the Dataset.variables property instead to preserve existing behavior in a forwards compatible manner.\n",
      "  \"\"\"Entry point for launching an IPython kernel.\n",
      "C:\\ProgramData\\Anaconda3\\lib\\site-packages\\ipykernel_launcher.py:1: FutureWarning: calling len() on an xarray.Dataset will change in xarray v0.11 to only include data variables, not coordinates. Call len() on the Dataset.variables property instead, like ``len(ds.variables)``, to preserve existing behavior in a forwards compatible manner.\n",
      "  \"\"\"Entry point for launching an IPython kernel.\n"
     ]
    },
    {
     "data": {
      "text/plain": [
       "['temperature', 'lon', 'reference_time', 'time', 'lat']"
      ]
     },
     "execution_count": 58,
     "metadata": {},
     "output_type": "execute_result"
    }
   ],
   "source": [
    "list(ds[['temperature']])"
   ]
  },
  {
   "cell_type": "code",
   "execution_count": 59,
   "metadata": {
    "ExecuteTime": {
     "end_time": "2018-04-03T13:11:29.231404Z",
     "start_time": "2018-04-03T13:11:29.221418Z"
    }
   },
   "outputs": [
    {
     "name": "stderr",
     "output_type": "stream",
     "text": [
      "C:\\ProgramData\\Anaconda3\\lib\\site-packages\\ipykernel_launcher.py:1: FutureWarning: iteration over an xarray.Dataset will change in xarray v0.11 to only include data variables, not coordinates. Iterate over the Dataset.variables property instead to preserve existing behavior in a forwards compatible manner.\n",
      "  \"\"\"Entry point for launching an IPython kernel.\n",
      "C:\\ProgramData\\Anaconda3\\lib\\site-packages\\ipykernel_launcher.py:1: FutureWarning: calling len() on an xarray.Dataset will change in xarray v0.11 to only include data variables, not coordinates. Call len() on the Dataset.variables property instead, like ``len(ds.variables)``, to preserve existing behavior in a forwards compatible manner.\n",
      "  \"\"\"Entry point for launching an IPython kernel.\n"
     ]
    },
    {
     "data": {
      "text/plain": [
       "['x', 'reference_time']"
      ]
     },
     "execution_count": 59,
     "metadata": {},
     "output_type": "execute_result"
    }
   ],
   "source": [
    "list(ds[['x']])"
   ]
  },
  {
   "cell_type": "code",
   "execution_count": 60,
   "metadata": {
    "ExecuteTime": {
     "end_time": "2018-04-03T13:11:45.923887Z",
     "start_time": "2018-04-03T13:11:45.913893Z"
    }
   },
   "outputs": [
    {
     "name": "stderr",
     "output_type": "stream",
     "text": [
      "C:\\ProgramData\\Anaconda3\\lib\\site-packages\\ipykernel_launcher.py:1: FutureWarning: iteration over an xarray.Dataset will change in xarray v0.11 to only include data variables, not coordinates. Iterate over the Dataset.variables property instead to preserve existing behavior in a forwards compatible manner.\n",
      "  \"\"\"Entry point for launching an IPython kernel.\n",
      "C:\\ProgramData\\Anaconda3\\lib\\site-packages\\ipykernel_launcher.py:1: FutureWarning: calling len() on an xarray.Dataset will change in xarray v0.11 to only include data variables, not coordinates. Call len() on the Dataset.variables property instead, like ``len(ds.variables)``, to preserve existing behavior in a forwards compatible manner.\n",
      "  \"\"\"Entry point for launching an IPython kernel.\n"
     ]
    },
    {
     "data": {
      "text/plain": [
       "['precipitation', 'lat', 'lon', 'time', 'reference_time']"
      ]
     },
     "execution_count": 60,
     "metadata": {},
     "output_type": "execute_result"
    }
   ],
   "source": [
    "list(ds.drop('temperature'))"
   ]
  },
  {
   "cell_type": "markdown",
   "metadata": {},
   "source": [
    "如果维名称作为参数给定`drop`，它也会删除所有使用该维的变量："
   ]
  },
  {
   "cell_type": "code",
   "execution_count": 61,
   "metadata": {
    "ExecuteTime": {
     "end_time": "2018-04-03T13:12:10.157327Z",
     "start_time": "2018-04-03T13:12:10.147324Z"
    }
   },
   "outputs": [
    {
     "name": "stderr",
     "output_type": "stream",
     "text": [
      "C:\\ProgramData\\Anaconda3\\lib\\site-packages\\ipykernel_launcher.py:1: FutureWarning: iteration over an xarray.Dataset will change in xarray v0.11 to only include data variables, not coordinates. Iterate over the Dataset.variables property instead to preserve existing behavior in a forwards compatible manner.\n",
      "  \"\"\"Entry point for launching an IPython kernel.\n",
      "C:\\ProgramData\\Anaconda3\\lib\\site-packages\\ipykernel_launcher.py:1: FutureWarning: calling len() on an xarray.Dataset will change in xarray v0.11 to only include data variables, not coordinates. Call len() on the Dataset.variables property instead, like ``len(ds.variables)``, to preserve existing behavior in a forwards compatible manner.\n",
      "  \"\"\"Entry point for launching an IPython kernel.\n"
     ]
    },
    {
     "data": {
      "text/plain": [
       "['temperature', 'precipitation', 'lat', 'lon', 'reference_time']"
      ]
     },
     "execution_count": 61,
     "metadata": {},
     "output_type": "execute_result"
    }
   ],
   "source": [
    "list(ds.drop('time'))"
   ]
  },
  {
   "cell_type": "markdown",
   "metadata": {},
   "source": [
    "作为字典式修改的替代方法，您可以使用 `assign()`和`assign_coords()`。这些方法返回一个带有附加（或替换）或值的新数据集："
   ]
  },
  {
   "cell_type": "code",
   "execution_count": 62,
   "metadata": {
    "ExecuteTime": {
     "end_time": "2018-04-03T13:12:38.780166Z",
     "start_time": "2018-04-03T13:12:38.763221Z"
    }
   },
   "outputs": [
    {
     "data": {
      "text/plain": [
       "<xarray.Dataset>\n",
       "Dimensions:         (time: 3, x: 2, y: 2)\n",
       "Coordinates:\n",
       "    lat             (x, y) float64 42.25 42.21 42.63 42.59\n",
       "    lon             (x, y) float64 -99.83 -99.32 -99.79 -99.23\n",
       "  * time            (time) datetime64[ns] 2014-09-06 2014-09-07 2014-09-08\n",
       "    reference_time  datetime64[ns] 2014-09-05\n",
       "Dimensions without coordinates: x, y\n",
       "Data variables:\n",
       "    temperature     (x, y, time) float64 16.93 8.901 15.1 16.56 14.36 12.1 ...\n",
       "    precipitation   (x, y, time) float64 3.376 9.389 9.728 5.69 3.36 8.61 ...\n",
       "    temperature2    (x, y, time) float64 33.86 17.8 30.2 33.12 28.72 24.2 ..."
      ]
     },
     "execution_count": 62,
     "metadata": {},
     "output_type": "execute_result"
    }
   ],
   "source": [
    "ds.assign(temperature2 = 2 * ds.temperature)"
   ]
  },
  {
   "cell_type": "markdown",
   "metadata": {},
   "source": [
    "还有`pipe()`一种方法允许你使用一个外部函数（例如，`ds.pipe(func)`）的方法调用，而不是简单地调用它（例如`func(ds)`）。这使您可以编写管道来转换数据（使用“方法链接”），而不是难以遵循嵌套的函数调用："
   ]
  },
  {
   "cell_type": "code",
   "execution_count": 64,
   "metadata": {
    "ExecuteTime": {
     "end_time": "2018-04-03T13:13:37.160492Z",
     "start_time": "2018-04-03T13:13:36.810492Z"
    }
   },
   "outputs": [
    {
     "name": "stdout",
     "output_type": "stream",
     "text": [
      "Populating the interactive namespace from numpy and matplotlib\n"
     ]
    }
   ],
   "source": [
    "%pylab inline"
   ]
  },
  {
   "cell_type": "code",
   "execution_count": 65,
   "metadata": {
    "ExecuteTime": {
     "end_time": "2018-04-03T13:13:38.068200Z",
     "start_time": "2018-04-03T13:13:37.858192Z"
    }
   },
   "outputs": [
    {
     "data": {
      "text/plain": [
       "[<matplotlib.lines.Line2D at 0x1b951b0b240>]"
      ]
     },
     "execution_count": 65,
     "metadata": {},
     "output_type": "execute_result"
    },
    {
     "data": {
      "image/png": "[encoded data removed]",
      "text/plain": [
       "<Figure size 432x288 with 1 Axes>"
      ]
     },
     "metadata": {},
     "output_type": "display_data"
    }
   ],
   "source": [
    "# these lines are equivalent, but with pipe we can make the logic flow\n",
    "# entirely from left to right\n",
    "plt.plot((2 * ds.temperature.sel(x=0)).mean('y'))"
   ]
  },
  {
   "cell_type": "code",
   "execution_count": 66,
   "metadata": {
    "ExecuteTime": {
     "end_time": "2018-04-03T13:14:15.088878Z",
     "start_time": "2018-04-03T13:14:14.953878Z"
    }
   },
   "outputs": [
    {
     "data": {
      "text/plain": [
       "[<matplotlib.lines.Line2D at 0x1b951baa6d8>]"
      ]
     },
     "execution_count": 66,
     "metadata": {},
     "output_type": "execute_result"
    },
    {
     "data": {
      "image/png": "[encoded data removed]",
      "text/plain": [
       "<Figure size 432x288 with 1 Axes>"
      ]
     },
     "metadata": {},
     "output_type": "display_data"
    }
   ],
   "source": [
    "(ds.temperature.sel(x=0).pipe(lambda x: 2 * x).mean('y').pipe(plt.plot))"
   ]
  },
  {
   "cell_type": "markdown",
   "metadata": {},
   "source": [
    "使用`xarray`，即使从磁盘上的文件中延迟加载变量，创建新数据集也不会有性能损失。创建新对象而不是改变现有对象通常会使代码更容易理解，所以我们鼓励使用这种方法。"
   ]
  },
  {
   "cell_type": "markdown",
   "metadata": {},
   "source": [
    "### 重命名变量\n",
    "另一个有用的选项是`rename()`重命名数据集变量的方法："
   ]
  },
  {
   "cell_type": "code",
   "execution_count": 67,
   "metadata": {
    "ExecuteTime": {
     "end_time": "2018-04-03T13:15:32.076973Z",
     "start_time": "2018-04-03T13:15:32.056982Z"
    }
   },
   "outputs": [
    {
     "data": {
      "text/plain": [
       "<xarray.Dataset>\n",
       "Dimensions:         (time: 3, x: 2, y: 2)\n",
       "Coordinates:\n",
       "    lat             (x, y) float64 42.25 42.21 42.63 42.59\n",
       "    lon             (x, y) float64 -99.83 -99.32 -99.79 -99.23\n",
       "  * time            (time) datetime64[ns] 2014-09-06 2014-09-07 2014-09-08\n",
       "    reference_time  datetime64[ns] 2014-09-05\n",
       "Dimensions without coordinates: x, y\n",
       "Data variables:\n",
       "    temp            (x, y, time) float64 16.93 8.901 15.1 16.56 14.36 12.1 ...\n",
       "    precip          (x, y, time) float64 3.376 9.389 9.728 5.69 3.36 8.61 ..."
      ]
     },
     "execution_count": 67,
     "metadata": {},
     "output_type": "execute_result"
    }
   ],
   "source": [
    "ds.rename({'temperature': 'temp', 'precipitation': 'precip'})"
   ]
  },
  {
   "cell_type": "markdown",
   "metadata": {},
   "source": [
    "相关`swap_dims()`方法允许您交换维度和非维度变量："
   ]
  },
  {
   "cell_type": "code",
   "execution_count": 68,
   "metadata": {
    "ExecuteTime": {
     "end_time": "2018-04-03T13:15:58.950841Z",
     "start_time": "2018-04-03T13:15:58.927840Z"
    }
   },
   "outputs": [
    {
     "data": {
      "text/plain": [
       "<xarray.Dataset>\n",
       "Dimensions:         (day: 3, x: 2, y: 2)\n",
       "Coordinates:\n",
       "    lat             (x, y) float64 42.25 42.21 42.63 42.59\n",
       "    lon             (x, y) float64 -99.83 -99.32 -99.79 -99.23\n",
       "    time            (day) datetime64[ns] 2014-09-06 2014-09-07 2014-09-08\n",
       "    reference_time  datetime64[ns] 2014-09-05\n",
       "  * day             (day) int32 6 7 8\n",
       "Dimensions without coordinates: x, y\n",
       "Data variables:\n",
       "    temperature     (x, y, day) float64 16.93 8.901 15.1 16.56 14.36 12.1 ...\n",
       "    precipitation   (x, y, day) float64 3.376 9.389 9.728 5.69 3.36 8.61 ..."
      ]
     },
     "execution_count": 68,
     "metadata": {},
     "output_type": "execute_result"
    }
   ],
   "source": [
    "ds.coords['day'] = ('time', [6, 7, 8])\n",
    "\n",
    "ds.swap_dims({'time': 'day'})"
   ]
  },
  {
   "cell_type": "markdown",
   "metadata": {},
   "source": [
    "### 修改坐标\n",
    "要在数据和坐标之间来回转换，可以使用 `set_coords()`和 `reset_coords()`方法："
   ]
  },
  {
   "cell_type": "code",
   "execution_count": 69,
   "metadata": {
    "ExecuteTime": {
     "end_time": "2018-04-03T13:17:10.166605Z",
     "start_time": "2018-04-03T13:17:10.151613Z"
    }
   },
   "outputs": [
    {
     "data": {
      "text/plain": [
       "<xarray.Dataset>\n",
       "Dimensions:         (time: 3, x: 2, y: 2)\n",
       "Coordinates:\n",
       "  * time            (time) datetime64[ns] 2014-09-06 2014-09-07 2014-09-08\n",
       "Dimensions without coordinates: x, y\n",
       "Data variables:\n",
       "    temperature     (x, y, time) float64 16.93 8.901 15.1 16.56 14.36 12.1 ...\n",
       "    precipitation   (x, y, time) float64 3.376 9.389 9.728 5.69 3.36 8.61 ...\n",
       "    lat             (x, y) float64 42.25 42.21 42.63 42.59\n",
       "    lon             (x, y) float64 -99.83 -99.32 -99.79 -99.23\n",
       "    reference_time  datetime64[ns] 2014-09-05\n",
       "    day             (time) int32 6 7 8"
      ]
     },
     "execution_count": 69,
     "metadata": {},
     "output_type": "execute_result"
    }
   ],
   "source": [
    "ds.reset_coords()"
   ]
  },
  {
   "cell_type": "code",
   "execution_count": 70,
   "metadata": {
    "ExecuteTime": {
     "end_time": "2018-04-03T13:17:18.181423Z",
     "start_time": "2018-04-03T13:17:18.164420Z"
    }
   },
   "outputs": [
    {
     "data": {
      "text/plain": [
       "<xarray.Dataset>\n",
       "Dimensions:         (time: 3, x: 2, y: 2)\n",
       "Coordinates:\n",
       "    temperature     (x, y, time) float64 16.93 8.901 15.1 16.56 14.36 12.1 ...\n",
       "    precipitation   (x, y, time) float64 3.376 9.389 9.728 5.69 3.36 8.61 ...\n",
       "    lat             (x, y) float64 42.25 42.21 42.63 42.59\n",
       "    lon             (x, y) float64 -99.83 -99.32 -99.79 -99.23\n",
       "  * time            (time) datetime64[ns] 2014-09-06 2014-09-07 2014-09-08\n",
       "    reference_time  datetime64[ns] 2014-09-05\n",
       "    day             (time) int32 6 7 8\n",
       "Dimensions without coordinates: x, y\n",
       "Data variables:\n",
       "    *empty*"
      ]
     },
     "execution_count": 70,
     "metadata": {},
     "output_type": "execute_result"
    }
   ],
   "source": [
    "ds.set_coords(['temperature', 'precipitation'])"
   ]
  },
  {
   "cell_type": "code",
   "execution_count": 71,
   "metadata": {
    "ExecuteTime": {
     "end_time": "2018-04-03T13:17:27.494549Z",
     "start_time": "2018-04-03T13:17:27.476532Z"
    }
   },
   "outputs": [
    {
     "data": {
      "text/plain": [
       "<xarray.DataArray 'temperature' (x: 2, y: 2, time: 3)>\n",
       "array([[[ 16.927629,   8.900522,  15.097617],\n",
       "        [ 16.559953,  14.359952,  12.102166]],\n",
       "\n",
       "       [[ 12.401412,  -2.778328,  11.162389],\n",
       "        [ 23.257175,   5.250884,  11.991798]]])\n",
       "Coordinates:\n",
       "  * time     (time) datetime64[ns] 2014-09-06 2014-09-07 2014-09-08\n",
       "Dimensions without coordinates: x, y"
      ]
     },
     "execution_count": 71,
     "metadata": {},
     "output_type": "execute_result"
    }
   ],
   "source": [
    "ds['temperature'].reset_coords(drop=True)"
   ]
  },
  {
   "cell_type": "markdown",
   "metadata": {},
   "source": [
    "### 坐标方法\n",
    "`Coordinates` 对象也有一些有用的方法，主要用于将它们转换为数据集对象："
   ]
  },
  {
   "cell_type": "code",
   "execution_count": 72,
   "metadata": {
    "ExecuteTime": {
     "end_time": "2018-04-03T13:19:03.815150Z",
     "start_time": "2018-04-03T13:19:03.797194Z"
    }
   },
   "outputs": [
    {
     "data": {
      "text/plain": [
       "<xarray.Dataset>\n",
       "Dimensions:         (time: 3, x: 2, y: 2)\n",
       "Coordinates:\n",
       "    lon             (x, y) float64 -99.83 -99.32 -99.79 -99.23\n",
       "    reference_time  datetime64[ns] 2014-09-05\n",
       "  * time            (time) datetime64[ns] 2014-09-06 2014-09-07 2014-09-08\n",
       "    day             (time) int32 6 7 8\n",
       "    lat             (x, y) float64 42.25 42.21 42.63 42.59\n",
       "Dimensions without coordinates: x, y\n",
       "Data variables:\n",
       "    *empty*"
      ]
     },
     "execution_count": 72,
     "metadata": {},
     "output_type": "execute_result"
    }
   ],
   "source": [
    "ds.coords.to_dataset()"
   ]
  },
  {
   "cell_type": "markdown",
   "metadata": {},
   "source": [
    "合并方法特别有趣，因为它实现了用于在算术运算中合并坐标的相同逻辑（请参阅计算）："
   ]
  },
  {
   "cell_type": "code",
   "execution_count": 73,
   "metadata": {
    "ExecuteTime": {
     "end_time": "2018-04-03T13:19:23.408631Z",
     "start_time": "2018-04-03T13:19:23.400632Z"
    }
   },
   "outputs": [],
   "source": [
    "alt = xr.Dataset(coords={'z': [10], 'lat': 0, 'lon': 0})"
   ]
  },
  {
   "cell_type": "code",
   "execution_count": 74,
   "metadata": {
    "ExecuteTime": {
     "end_time": "2018-04-03T13:19:30.412802Z",
     "start_time": "2018-04-03T13:19:30.393799Z"
    }
   },
   "outputs": [
    {
     "data": {
      "text/plain": [
       "<xarray.Dataset>\n",
       "Dimensions:         (time: 3, z: 1)\n",
       "Coordinates:\n",
       "  * time            (time) datetime64[ns] 2014-09-06 2014-09-07 2014-09-08\n",
       "    reference_time  datetime64[ns] 2014-09-05\n",
       "    day             (time) int32 6 7 8\n",
       "  * z               (z) int32 10\n",
       "Data variables:\n",
       "    *empty*"
      ]
     },
     "execution_count": 74,
     "metadata": {},
     "output_type": "execute_result"
    }
   ],
   "source": [
    "ds.coords.merge(alt.coords)"
   ]
  },
  {
   "cell_type": "markdown",
   "metadata": {},
   "source": [
    "要将坐标（或任何DataArray）转换为实际 坐标`pandas.Index`，请使用以下`to_index()`方法："
   ]
  },
  {
   "cell_type": "code",
   "execution_count": 88,
   "metadata": {
    "ExecuteTime": {
     "end_time": "2018-04-03T14:31:42.140006Z",
     "start_time": "2018-04-03T14:31:42.126027Z"
    },
    "scrolled": true
   },
   "outputs": [
    {
     "data": {
      "text/plain": [
       "DatetimeIndex(['2014-09-06', '2014-09-07', '2014-09-08'], dtype='datetime64[ns]', name='time', freq='D')"
      ]
     },
     "execution_count": 88,
     "metadata": {},
     "output_type": "execute_result"
    }
   ],
   "source": [
    "ds['time'].to_index()"
   ]
  },
  {
   "cell_type": "markdown",
   "metadata": {},
   "source": [
    "有用的快捷方式是`indexes`属性（在两个DataArray和 Dataset），该懒惰地构造一个词典，其关键字由每个维度中给出，并且其值是`Index`对象："
   ]
  },
  {
   "cell_type": "code",
   "execution_count": 89,
   "metadata": {
    "ExecuteTime": {
     "end_time": "2018-04-03T14:31:49.800385Z",
     "start_time": "2018-04-03T14:31:49.791422Z"
    }
   },
   "outputs": [
    {
     "data": {
      "text/plain": [
       "time: DatetimeIndex(['2014-09-06', '2014-09-07', '2014-09-08'], dtype='datetime64[ns]', name='time', freq='D')"
      ]
     },
     "execution_count": 89,
     "metadata": {},
     "output_type": "execute_result"
    }
   ],
   "source": [
    "ds.indexes"
   ]
  },
  {
   "cell_type": "code",
   "execution_count": null,
   "metadata": {},
   "outputs": [],
   "source": []
  },
  {
   "cell_type": "markdown",
   "metadata": {},
   "source": [
    "Xarray支持使用以下标记标记坐标值`pandas.MultiIndex`："
   ]
  },
  {
   "cell_type": "code",
   "execution_count": 77,
   "metadata": {
    "ExecuteTime": {
     "end_time": "2018-04-03T13:21:32.549590Z",
     "start_time": "2018-04-03T13:21:32.538588Z"
    }
   },
   "outputs": [],
   "source": [
    "midx = pd.MultiIndex.from_arrays(\n",
    "    [['R', 'R', 'V', 'V'], [.1, .2, .7, .9]], names=('band', 'wn'))"
   ]
  },
  {
   "cell_type": "code",
   "execution_count": 78,
   "metadata": {
    "ExecuteTime": {
     "end_time": "2018-04-03T13:21:43.753215Z",
     "start_time": "2018-04-03T13:21:43.739214Z"
    }
   },
   "outputs": [
    {
     "data": {
      "text/plain": [
       "<xarray.DataArray (spec: 4)>\n",
       "array([ 0.487095,  0.044041,  0.437193,  0.088307])\n",
       "Coordinates:\n",
       "  * spec     (spec) MultiIndex\n",
       "  - band     (spec) object 'R' 'R' 'V' 'V'\n",
       "  - wn       (spec) float64 0.1 0.2 0.7 0.9"
      ]
     },
     "execution_count": 78,
     "metadata": {},
     "output_type": "execute_result"
    }
   ],
   "source": [
    "mda = xr.DataArray(np.random.rand(4), coords={'spec': midx}, dims='spec')\n",
    "mda"
   ]
  },
  {
   "cell_type": "markdown",
   "metadata": {},
   "source": [
    "为方便起见，多索引级别可直接作为“虚拟”或“派生”坐标进行访问（-打印数据集或数据阵列时标记）"
   ]
  },
  {
   "cell_type": "code",
   "execution_count": 79,
   "metadata": {
    "ExecuteTime": {
     "end_time": "2018-04-03T13:22:10.055282Z",
     "start_time": "2018-04-03T13:22:10.039285Z"
    }
   },
   "outputs": [
    {
     "data": {
      "text/plain": [
       "<xarray.DataArray 'band' (spec: 4)>\n",
       "array(['R', 'R', 'V', 'V'], dtype=object)\n",
       "Coordinates:\n",
       "  * spec     (spec) MultiIndex\n",
       "  - band     (spec) object 'R' 'R' 'V' 'V'\n",
       "  - wn       (spec) float64 0.1 0.2 0.7 0.9"
      ]
     },
     "execution_count": 79,
     "metadata": {},
     "output_type": "execute_result"
    }
   ],
   "source": [
    "mda['band']"
   ]
  },
  {
   "cell_type": "code",
   "execution_count": 80,
   "metadata": {
    "ExecuteTime": {
     "end_time": "2018-04-03T13:22:16.817997Z",
     "start_time": "2018-04-03T13:22:16.807992Z"
    }
   },
   "outputs": [
    {
     "data": {
      "text/plain": [
       "<xarray.DataArray 'wn' (spec: 4)>\n",
       "array([ 0.1,  0.2,  0.7,  0.9])\n",
       "Coordinates:\n",
       "  * spec     (spec) MultiIndex\n",
       "  - band     (spec) object 'R' 'R' 'V' 'V'\n",
       "  - wn       (spec) float64 0.1 0.2 0.7 0.9"
      ]
     },
     "execution_count": 80,
     "metadata": {},
     "output_type": "execute_result"
    }
   ],
   "source": [
    "mda.wn"
   ]
  },
  {
   "cell_type": "markdown",
   "metadata": {},
   "source": [
    "使用该`sel`方法也可以使用[多索引级索引](http://xarray.pydata.org/en/stable/indexing.html#multi-level-indexing)（请参阅多级索引）。"
   ]
  },
  {
   "cell_type": "code",
   "execution_count": null,
   "metadata": {},
   "outputs": [],
   "source": []
  }
 ],
 "metadata": {
  "kernelspec": {
   "display_name": "Python 3",
   "language": "python",
   "name": "python3"
  },
  "language_info": {
   "codemirror_mode": {
    "name": "ipython",
    "version": 3
   },
   "file_extension": ".py",
   "mimetype": "text/x-python",
   "name": "python",
   "nbconvert_exporter": "python",
   "pygments_lexer": "ipython3",
   "version": "3.6.4"
  },
  "toc": {
   "nav_menu": {},
   "number_sections": true,
   "sideBar": true,
   "skip_h1_title": false,
   "title_cell": "Table of Contents",
   "title_sidebar": "Contents",
   "toc_cell": false,
   "toc_position": {
    "height": "calc(100% - 180px)",
    "left": "10px",
    "top": "150px",
    "width": "171px"
   },
   "toc_section_display": true,
   "toc_window_display": true
  },
  "varInspector": {
   "cols": {
    "lenName": 16,
    "lenType": 16,
    "lenVar": 40
   },
   "kernels_config": {
    "python": {
     "delete_cmd_postfix": "",
     "delete_cmd_prefix": "del ",
     "library": "var_list.py",
     "varRefreshCmd": "print(var_dic_list())"
    },
    "r": {
     "delete_cmd_postfix": ") ",
     "delete_cmd_prefix": "rm(",
     "library": "var_list.r",
     "varRefreshCmd": "cat(var_dic_list()) "
    }
   },
   "types_to_exclude": [
    "module",
    "function",
    "builtin_function_or_method",
    "instance",
    "_Feature"
   ],
   "window_display": false
  }
 },
 "nbformat": 4,
 "nbformat_minor": 2
}
