{
 "cells": [
  {
   "cell_type": "markdown",
   "metadata": {},
   "source": [
    "## [官方文档](http://xarray.pydata.org/en/stable/index.html)"
   ]
  },
  {
   "cell_type": "code",
   "execution_count": 1,
   "metadata": {
    "ExecuteTime": {
     "end_time": "2018-04-03T11:15:59.707531Z",
     "start_time": "2018-04-03T11:15:58.746499Z"
    }
   },
   "outputs": [],
   "source": [
    "import numpy as np\n",
    "import pandas as pd\n",
    "import xarray as xr"
   ]
  },
  {
   "cell_type": "markdown",
   "metadata": {},
   "source": [
    "# 创建 DataArray\n",
    "可以通过以 `numpy` 数组或列表的形式提供数据 (具有可选的维度和坐标) 来从头开始创建 DataArray:"
   ]
  },
  {
   "cell_type": "code",
   "execution_count": 2,
   "metadata": {
    "ExecuteTime": {
     "end_time": "2018-04-03T11:18:29.593555Z",
     "start_time": "2018-04-03T11:18:29.575546Z"
    }
   },
   "outputs": [
    {
     "data": {
      "text/plain": [
       "<xarray.DataArray (dim_0: 2, dim_1: 3)>\n",
       "array([[-1.638625,  1.579078,  1.363426],\n",
       "       [-0.206467, -0.023546, -0.48682 ]])\n",
       "Dimensions without coordinates: dim_0, dim_1"
      ]
     },
     "execution_count": 2,
     "metadata": {},
     "output_type": "execute_result"
    }
   ],
   "source": [
    "xr.DataArray(np.random.randn(2, 3))"
   ]
  },
  {
   "cell_type": "code",
   "execution_count": 3,
   "metadata": {
    "ExecuteTime": {
     "end_time": "2018-04-03T11:19:32.112422Z",
     "start_time": "2018-04-03T11:19:32.088414Z"
    },
    "scrolled": true
   },
   "outputs": [
    {
     "data": {
      "text/plain": [
       "<xarray.DataArray (x: 2, y: 3)>\n",
       "array([[ 0.499477,  1.428605,  1.395588],\n",
       "       [-0.409997, -0.446366,  0.151565]])\n",
       "Coordinates:\n",
       "  * x        (x) <U1 'a' 'b'\n",
       "Dimensions without coordinates: y"
      ]
     },
     "execution_count": 3,
     "metadata": {},
     "output_type": "execute_result"
    }
   ],
   "source": [
    "data = xr.DataArray(\n",
    "    np.random.randn(2, 3), coords={'x': ['a', 'b']}, dims=('x', 'y'))\n",
    "\n",
    "data"
   ]
  },
  {
   "cell_type": "markdown",
   "metadata": {},
   "source": [
    "`pd.Series`或 `pd.DataFrame`（If you supply a pandas or , metadata is copied directly:）"
   ]
  },
  {
   "cell_type": "code",
   "execution_count": 4,
   "metadata": {
    "ExecuteTime": {
     "end_time": "2018-04-03T11:22:22.544625Z",
     "start_time": "2018-04-03T11:22:22.526648Z"
    },
    "scrolled": true
   },
   "outputs": [
    {
     "data": {
      "text/plain": [
       "<xarray.DataArray 'foo' (dim_0: 3)>\n",
       "array([0, 1, 2], dtype=int64)\n",
       "Coordinates:\n",
       "  * dim_0    (dim_0) object 'a' 'b' 'c'"
      ]
     },
     "execution_count": 4,
     "metadata": {},
     "output_type": "execute_result"
    }
   ],
   "source": [
    "xr.DataArray(pd.Series(range(3), index=list('abc'), name='foo'))"
   ]
  },
  {
   "cell_type": "markdown",
   "metadata": {},
   "source": [
    "# `DataArray` 的属性"
   ]
  },
  {
   "cell_type": "code",
   "execution_count": 5,
   "metadata": {
    "ExecuteTime": {
     "end_time": "2018-04-03T11:23:56.362374Z",
     "start_time": "2018-04-03T11:23:56.354374Z"
    }
   },
   "outputs": [
    {
     "data": {
      "text/plain": [
       "array([[ 0.49947696,  1.42860511,  1.39558837],\n",
       "       [-0.4099968 , -0.44636605,  0.15156504]])"
      ]
     },
     "execution_count": 5,
     "metadata": {},
     "output_type": "execute_result"
    }
   ],
   "source": [
    "data.values"
   ]
  },
  {
   "cell_type": "code",
   "execution_count": 6,
   "metadata": {
    "ExecuteTime": {
     "end_time": "2018-04-03T11:25:22.292396Z",
     "start_time": "2018-04-03T11:25:22.286394Z"
    }
   },
   "outputs": [
    {
     "data": {
      "text/plain": [
       "('x', 'y')"
      ]
     },
     "execution_count": 6,
     "metadata": {},
     "output_type": "execute_result"
    }
   ],
   "source": [
    "data.dims"
   ]
  },
  {
   "cell_type": "code",
   "execution_count": 7,
   "metadata": {
    "ExecuteTime": {
     "end_time": "2018-04-03T11:25:35.064756Z",
     "start_time": "2018-04-03T11:25:35.057795Z"
    }
   },
   "outputs": [
    {
     "data": {
      "text/plain": [
       "Coordinates:\n",
       "  * x        (x) <U1 'a' 'b'"
      ]
     },
     "execution_count": 7,
     "metadata": {},
     "output_type": "execute_result"
    }
   ],
   "source": [
    "data.coords"
   ]
  },
  {
   "cell_type": "code",
   "execution_count": 9,
   "metadata": {
    "ExecuteTime": {
     "end_time": "2018-04-03T11:25:49.680420Z",
     "start_time": "2018-04-03T11:25:49.674384Z"
    }
   },
   "outputs": [
    {
     "data": {
      "text/plain": [
       "OrderedDict()"
      ]
     },
     "execution_count": 9,
     "metadata": {},
     "output_type": "execute_result"
    }
   ],
   "source": [
    "data.attrs"
   ]
  },
  {
   "cell_type": "markdown",
   "metadata": {},
   "source": [
    "# 索引\n",
    "\n",
    "`xarray`支持四种索引。这些操作与 Pandas 一样快，因为我们借用了熊猫的索引机制。"
   ]
  },
  {
   "cell_type": "code",
   "execution_count": 10,
   "metadata": {
    "ExecuteTime": {
     "end_time": "2018-04-03T11:26:51.558905Z",
     "start_time": "2018-04-03T11:26:51.543936Z"
    }
   },
   "outputs": [
    {
     "data": {
      "text/plain": [
       "<xarray.DataArray (x: 2, y: 3)>\n",
       "array([[ 0.499477,  1.428605,  1.395588],\n",
       "       [-0.409997, -0.446366,  0.151565]])\n",
       "Coordinates:\n",
       "  * x        (x) <U1 'a' 'b'\n",
       "Dimensions without coordinates: y"
      ]
     },
     "execution_count": 10,
     "metadata": {},
     "output_type": "execute_result"
    }
   ],
   "source": [
    "# positional and by integer label, like numpy\n",
    "data[[0, 1]]"
   ]
  },
  {
   "cell_type": "code",
   "execution_count": 11,
   "metadata": {
    "ExecuteTime": {
     "end_time": "2018-04-03T11:27:14.469805Z",
     "start_time": "2018-04-03T11:27:14.458759Z"
    }
   },
   "outputs": [
    {
     "data": {
      "text/plain": [
       "<xarray.DataArray (x: 2, y: 3)>\n",
       "array([[ 0.499477,  1.428605,  1.395588],\n",
       "       [-0.409997, -0.446366,  0.151565]])\n",
       "Coordinates:\n",
       "  * x        (x) <U1 'a' 'b'\n",
       "Dimensions without coordinates: y"
      ]
     },
     "execution_count": 11,
     "metadata": {},
     "output_type": "execute_result"
    }
   ],
   "source": [
    "# positional and by coordinate label, like pandas\n",
    "data.loc['a':'b']"
   ]
  },
  {
   "cell_type": "code",
   "execution_count": 12,
   "metadata": {
    "ExecuteTime": {
     "end_time": "2018-04-03T11:27:29.903418Z",
     "start_time": "2018-04-03T11:27:29.892447Z"
    }
   },
   "outputs": [
    {
     "data": {
      "text/plain": [
       "<xarray.DataArray (x: 2, y: 3)>\n",
       "array([[ 0.499477,  1.428605,  1.395588],\n",
       "       [-0.409997, -0.446366,  0.151565]])\n",
       "Coordinates:\n",
       "  * x        (x) <U1 'a' 'b'\n",
       "Dimensions without coordinates: y"
      ]
     },
     "execution_count": 12,
     "metadata": {},
     "output_type": "execute_result"
    }
   ],
   "source": [
    "# by dimension name and integer label\n",
    "data.isel(x=slice(2))"
   ]
  },
  {
   "cell_type": "code",
   "execution_count": 13,
   "metadata": {
    "ExecuteTime": {
     "end_time": "2018-04-03T11:27:41.058940Z",
     "start_time": "2018-04-03T11:27:41.043979Z"
    }
   },
   "outputs": [
    {
     "data": {
      "text/plain": [
       "<xarray.DataArray (x: 2, y: 3)>\n",
       "array([[ 0.499477,  1.428605,  1.395588],\n",
       "       [-0.409997, -0.446366,  0.151565]])\n",
       "Coordinates:\n",
       "  * x        (x) <U1 'a' 'b'\n",
       "Dimensions without coordinates: y"
      ]
     },
     "execution_count": 13,
     "metadata": {},
     "output_type": "execute_result"
    }
   ],
   "source": [
    "# by dimension name and coordinate label\n",
    "data.sel(x=['a', 'b'])"
   ]
  },
  {
   "cell_type": "markdown",
   "metadata": {},
   "source": [
    "# 计算\n",
    "Data arrays work very similarly to numpy ndarrays:"
   ]
  },
  {
   "cell_type": "code",
   "execution_count": 14,
   "metadata": {
    "ExecuteTime": {
     "end_time": "2018-04-03T11:28:32.513297Z",
     "start_time": "2018-04-03T11:28:32.503305Z"
    }
   },
   "outputs": [
    {
     "data": {
      "text/plain": [
       "<xarray.DataArray (x: 2, y: 3)>\n",
       "array([[ 10.499477,  11.428605,  11.395588],\n",
       "       [  9.590003,   9.553634,  10.151565]])\n",
       "Coordinates:\n",
       "  * x        (x) <U1 'a' 'b'\n",
       "Dimensions without coordinates: y"
      ]
     },
     "execution_count": 14,
     "metadata": {},
     "output_type": "execute_result"
    }
   ],
   "source": [
    "data + 10"
   ]
  },
  {
   "cell_type": "code",
   "execution_count": 15,
   "metadata": {
    "ExecuteTime": {
     "end_time": "2018-04-03T11:28:42.386402Z",
     "start_time": "2018-04-03T11:28:42.372399Z"
    }
   },
   "outputs": [
    {
     "data": {
      "text/plain": [
       "<xarray.DataArray (x: 2, y: 3)>\n",
       "array([[ 0.478966,  0.989908,  0.98469 ],\n",
       "       [-0.398606, -0.43169 ,  0.150985]])\n",
       "Coordinates:\n",
       "  * x        (x) <U1 'a' 'b'\n",
       "Dimensions without coordinates: y"
      ]
     },
     "execution_count": 15,
     "metadata": {},
     "output_type": "execute_result"
    }
   ],
   "source": [
    "np.sin(data)"
   ]
  },
  {
   "cell_type": "code",
   "execution_count": 16,
   "metadata": {
    "ExecuteTime": {
     "end_time": "2018-04-03T11:28:55.497025Z",
     "start_time": "2018-04-03T11:28:55.485011Z"
    }
   },
   "outputs": [
    {
     "data": {
      "text/plain": [
       "<xarray.DataArray (y: 3, x: 2)>\n",
       "array([[ 0.499477, -0.409997],\n",
       "       [ 1.428605, -0.446366],\n",
       "       [ 1.395588,  0.151565]])\n",
       "Coordinates:\n",
       "  * x        (x) <U1 'a' 'b'\n",
       "Dimensions without coordinates: y"
      ]
     },
     "execution_count": 16,
     "metadata": {},
     "output_type": "execute_result"
    }
   ],
   "source": [
    "data.T"
   ]
  },
  {
   "cell_type": "code",
   "execution_count": 17,
   "metadata": {
    "ExecuteTime": {
     "end_time": "2018-04-03T11:29:04.268755Z",
     "start_time": "2018-04-03T11:29:04.258755Z"
    }
   },
   "outputs": [
    {
     "data": {
      "text/plain": [
       "<xarray.DataArray ()>\n",
       "array(2.6188726204965733)"
      ]
     },
     "execution_count": 17,
     "metadata": {},
     "output_type": "execute_result"
    }
   ],
   "source": [
    "data.sum()"
   ]
  },
  {
   "cell_type": "markdown",
   "metadata": {},
   "source": [
    "但是，聚合操作（aggregation operations）可以使用维度名称而不是轴号码："
   ]
  },
  {
   "cell_type": "code",
   "execution_count": 18,
   "metadata": {
    "ExecuteTime": {
     "end_time": "2018-04-03T11:30:12.652398Z",
     "start_time": "2018-04-03T11:30:12.641398Z"
    }
   },
   "outputs": [
    {
     "data": {
      "text/plain": [
       "<xarray.DataArray (y: 3)>\n",
       "array([ 0.04474 ,  0.49112 ,  0.773577])\n",
       "Dimensions without coordinates: y"
      ]
     },
     "execution_count": 18,
     "metadata": {},
     "output_type": "execute_result"
    }
   ],
   "source": [
    "data.mean(dim='x')"
   ]
  },
  {
   "cell_type": "markdown",
   "metadata": {},
   "source": [
    "算术运算基于维度名称进行广播。这意味着您不需要插入虚拟尺寸进行对齐："
   ]
  },
  {
   "cell_type": "code",
   "execution_count": 19,
   "metadata": {
    "ExecuteTime": {
     "end_time": "2018-04-03T11:32:44.678078Z",
     "start_time": "2018-04-03T11:32:44.672079Z"
    }
   },
   "outputs": [],
   "source": [
    "a = xr.DataArray(np.random.randn(3), [data.coords['y']])"
   ]
  },
  {
   "cell_type": "code",
   "execution_count": 20,
   "metadata": {
    "ExecuteTime": {
     "end_time": "2018-04-03T11:32:53.333417Z",
     "start_time": "2018-04-03T11:32:53.328455Z"
    }
   },
   "outputs": [],
   "source": [
    "b = xr.DataArray(np.random.randn(4), dims='z')"
   ]
  },
  {
   "cell_type": "code",
   "execution_count": 21,
   "metadata": {
    "ExecuteTime": {
     "end_time": "2018-04-03T11:32:54.732478Z",
     "start_time": "2018-04-03T11:32:54.724528Z"
    }
   },
   "outputs": [
    {
     "data": {
      "text/plain": [
       "<xarray.DataArray (y: 3)>\n",
       "array([-0.280933,  0.257208,  0.082594])\n",
       "Coordinates:\n",
       "  * y        (y) int64 0 1 2"
      ]
     },
     "execution_count": 21,
     "metadata": {},
     "output_type": "execute_result"
    }
   ],
   "source": [
    "a"
   ]
  },
  {
   "cell_type": "code",
   "execution_count": 22,
   "metadata": {
    "ExecuteTime": {
     "end_time": "2018-04-03T11:32:56.618106Z",
     "start_time": "2018-04-03T11:32:56.610135Z"
    }
   },
   "outputs": [
    {
     "data": {
      "text/plain": [
       "<xarray.DataArray (z: 4)>\n",
       "array([ 1.636682,  1.759435, -2.114956, -0.062329])\n",
       "Dimensions without coordinates: z"
      ]
     },
     "execution_count": 22,
     "metadata": {},
     "output_type": "execute_result"
    }
   ],
   "source": [
    "b"
   ]
  },
  {
   "cell_type": "code",
   "execution_count": 23,
   "metadata": {
    "ExecuteTime": {
     "end_time": "2018-04-03T11:33:32.258683Z",
     "start_time": "2018-04-03T11:33:32.247682Z"
    }
   },
   "outputs": [
    {
     "data": {
      "text/plain": [
       "<xarray.DataArray (y: 3, z: 4)>\n",
       "array([[ 1.355748,  1.478502, -2.395889, -0.343263],\n",
       "       [ 1.893889,  2.016643, -1.857748,  0.194879],\n",
       "       [ 1.719276,  1.842029, -2.032361,  0.020265]])\n",
       "Coordinates:\n",
       "  * y        (y) int64 0 1 2\n",
       "Dimensions without coordinates: z"
      ]
     },
     "execution_count": 23,
     "metadata": {},
     "output_type": "execute_result"
    }
   ],
   "source": [
    "a + b"
   ]
  },
  {
   "cell_type": "markdown",
   "metadata": {},
   "source": [
    "这也意味着在大多数情况下，您无需担心维度的顺序"
   ]
  },
  {
   "cell_type": "code",
   "execution_count": 24,
   "metadata": {
    "ExecuteTime": {
     "end_time": "2018-04-03T11:34:15.081568Z",
     "start_time": "2018-04-03T11:34:15.067557Z"
    }
   },
   "outputs": [
    {
     "data": {
      "text/plain": [
       "<xarray.DataArray (x: 2, y: 3)>\n",
       "array([[ 0.,  0.,  0.],\n",
       "       [ 0.,  0.,  0.]])\n",
       "Coordinates:\n",
       "  * x        (x) <U1 'a' 'b'\n",
       "Dimensions without coordinates: y"
      ]
     },
     "execution_count": 24,
     "metadata": {},
     "output_type": "execute_result"
    }
   ],
   "source": [
    "data - data.T"
   ]
  },
  {
   "cell_type": "markdown",
   "metadata": {},
   "source": [
    "操作也基于索引标签（index labels ）对齐："
   ]
  },
  {
   "cell_type": "code",
   "execution_count": 25,
   "metadata": {
    "ExecuteTime": {
     "end_time": "2018-04-03T11:34:57.254344Z",
     "start_time": "2018-04-03T11:34:57.242306Z"
    }
   },
   "outputs": [
    {
     "data": {
      "text/plain": [
       "<xarray.DataArray (x: 1, y: 3)>\n",
       "array([[ 0.,  0.,  0.]])\n",
       "Coordinates:\n",
       "  * x        (x) <U1 'a'\n",
       "Dimensions without coordinates: y"
      ]
     },
     "execution_count": 25,
     "metadata": {},
     "output_type": "execute_result"
    }
   ],
   "source": [
    "data[:-1] - data[:1]"
   ]
  },
  {
   "cell_type": "markdown",
   "metadata": {},
   "source": [
    "# `GroupBy`\n",
    "xarray supports grouped operations using a very similar API to pandas"
   ]
  },
  {
   "cell_type": "code",
   "execution_count": 26,
   "metadata": {
    "ExecuteTime": {
     "end_time": "2018-04-03T11:36:32.291594Z",
     "start_time": "2018-04-03T11:36:32.284623Z"
    }
   },
   "outputs": [],
   "source": [
    "labels = xr.DataArray(['E', 'F', 'E'], [data.coords['y']], name='labels')"
   ]
  },
  {
   "cell_type": "code",
   "execution_count": 27,
   "metadata": {
    "ExecuteTime": {
     "end_time": "2018-04-03T11:36:37.915132Z",
     "start_time": "2018-04-03T11:36:37.904133Z"
    }
   },
   "outputs": [
    {
     "data": {
      "text/plain": [
       "<xarray.DataArray 'labels' (y: 3)>\n",
       "array(['E', 'F', 'E'],\n",
       "      dtype='<U1')\n",
       "Coordinates:\n",
       "  * y        (y) int64 0 1 2"
      ]
     },
     "execution_count": 27,
     "metadata": {},
     "output_type": "execute_result"
    }
   ],
   "source": [
    "labels"
   ]
  },
  {
   "cell_type": "code",
   "execution_count": 28,
   "metadata": {
    "ExecuteTime": {
     "end_time": "2018-04-03T11:36:48.705255Z",
     "start_time": "2018-04-03T11:36:48.690221Z"
    }
   },
   "outputs": [
    {
     "data": {
      "text/plain": [
       "<xarray.DataArray (x: 2, labels: 2)>\n",
       "array([[ 0.947533,  1.428605],\n",
       "       [-0.129216, -0.446366]])\n",
       "Coordinates:\n",
       "  * x        (x) <U1 'a' 'b'\n",
       "  * labels   (labels) object 'E' 'F'"
      ]
     },
     "execution_count": 28,
     "metadata": {},
     "output_type": "execute_result"
    }
   ],
   "source": [
    "data.groupby(labels).mean('y')"
   ]
  },
  {
   "cell_type": "code",
   "execution_count": 29,
   "metadata": {
    "ExecuteTime": {
     "end_time": "2018-04-03T11:36:58.829131Z",
     "start_time": "2018-04-03T11:36:58.814122Z"
    }
   },
   "outputs": [
    {
     "data": {
      "text/plain": [
       "<xarray.DataArray (x: 2, y: 3)>\n",
       "array([[ 0.909474,  1.874971,  1.805585],\n",
       "       [ 0.      ,  0.      ,  0.561562]])\n",
       "Coordinates:\n",
       "  * x        (x) <U1 'a' 'b'\n",
       "  * y        (y) int64 0 1 2\n",
       "    labels   (y) <U1 'E' 'F' 'E'"
      ]
     },
     "execution_count": 29,
     "metadata": {},
     "output_type": "execute_result"
    }
   ],
   "source": [
    "data.groupby(labels).apply(lambda x: x - x.min())"
   ]
  },
  {
   "cell_type": "markdown",
   "metadata": {},
   "source": [
    "# 与  `pandas` 之间的转换"
   ]
  },
  {
   "cell_type": "code",
   "execution_count": 30,
   "metadata": {
    "ExecuteTime": {
     "end_time": "2018-04-03T11:37:55.455689Z",
     "start_time": "2018-04-03T11:37:55.438699Z"
    }
   },
   "outputs": [
    {
     "data": {
      "text/plain": [
       "x  y\n",
       "a  0    0.499477\n",
       "   1    1.428605\n",
       "   2    1.395588\n",
       "b  0   -0.409997\n",
       "   1   -0.446366\n",
       "   2    0.151565\n",
       "dtype: float64"
      ]
     },
     "execution_count": 30,
     "metadata": {},
     "output_type": "execute_result"
    }
   ],
   "source": [
    "series = data.to_series()\n",
    "series"
   ]
  },
  {
   "cell_type": "markdown",
   "metadata": {},
   "source": [
    "## convert back"
   ]
  },
  {
   "cell_type": "code",
   "execution_count": 31,
   "metadata": {
    "ExecuteTime": {
     "end_time": "2018-04-03T11:39:03.506634Z",
     "start_time": "2018-04-03T11:39:03.488638Z"
    }
   },
   "outputs": [
    {
     "data": {
      "text/plain": [
       "<xarray.DataArray (x: 2, y: 3)>\n",
       "array([[ 0.499477,  1.428605,  1.395588],\n",
       "       [-0.409997, -0.446366,  0.151565]])\n",
       "Coordinates:\n",
       "  * x        (x) object 'a' 'b'\n",
       "  * y        (y) int64 0 1 2"
      ]
     },
     "execution_count": 31,
     "metadata": {},
     "output_type": "execute_result"
    }
   ],
   "source": [
    "series.to_xarray()"
   ]
  },
  {
   "cell_type": "markdown",
   "metadata": {},
   "source": [
    "# `Datasets`\n",
    "`xarray.Dataset` is a dict-like container of aligned DataArray objects. You can think of it as a multi-dimensional generalization of the pandas.DataFrame:\n",
    "\n",
    "数据集 `xarray.Dataset` 是一个对齐的 DataArray 对象的字典型容器。您可以将其视为`pandas.DataFrame`的多维泛化："
   ]
  },
  {
   "cell_type": "code",
   "execution_count": 32,
   "metadata": {
    "ExecuteTime": {
     "end_time": "2018-04-03T11:40:36.961869Z",
     "start_time": "2018-04-03T11:40:36.941868Z"
    }
   },
   "outputs": [
    {
     "data": {
      "text/plain": [
       "<xarray.Dataset>\n",
       "Dimensions:  (x: 2, y: 3)\n",
       "Coordinates:\n",
       "  * x        (x) <U1 'a' 'b'\n",
       "Dimensions without coordinates: y\n",
       "Data variables:\n",
       "    foo      (x, y) float64 0.4995 1.429 1.396 -0.41 -0.4464 0.1516\n",
       "    bar      (x) int32 1 2\n",
       "    baz      float64 3.142"
      ]
     },
     "execution_count": 32,
     "metadata": {},
     "output_type": "execute_result"
    }
   ],
   "source": [
    "ds = xr.Dataset({'foo': data, 'bar': ('x', [1, 2]), 'baz': np.pi})\n",
    "ds"
   ]
  },
  {
   "cell_type": "code",
   "execution_count": 34,
   "metadata": {
    "ExecuteTime": {
     "end_time": "2018-04-03T11:41:17.210850Z",
     "start_time": "2018-04-03T11:41:17.203843Z"
    }
   },
   "outputs": [
    {
     "data": {
      "text/plain": [
       "{'coords': {'x': {'data': ['a', 'b'], 'dims': ('x',), 'attrs': {}}},\n",
       " 'attrs': {},\n",
       " 'dims': {'x': 2, 'y': 3},\n",
       " 'data_vars': {'foo': {'data': [[0.49947696171981487,\n",
       "     1.4286051113848126,\n",
       "     1.3955883684242683],\n",
       "    [-0.4099968026900433, -0.4463660535228815, 0.151565035180602]],\n",
       "   'dims': ('x', 'y'),\n",
       "   'attrs': {}},\n",
       "  'bar': {'data': [1, 2], 'dims': ('x',), 'attrs': {}},\n",
       "  'baz': {'data': 3.141592653589793, 'dims': (), 'attrs': {}}}}"
      ]
     },
     "execution_count": 34,
     "metadata": {},
     "output_type": "execute_result"
    }
   ],
   "source": [
    "ds.to_dict()"
   ]
  },
  {
   "cell_type": "markdown",
   "metadata": {},
   "source": [
    "## 使用字典索引将数据集变量提取为 DataArray 对象"
   ]
  },
  {
   "cell_type": "code",
   "execution_count": 35,
   "metadata": {
    "ExecuteTime": {
     "end_time": "2018-04-03T11:41:59.382197Z",
     "start_time": "2018-04-03T11:41:59.369194Z"
    }
   },
   "outputs": [
    {
     "data": {
      "text/plain": [
       "<xarray.DataArray 'foo' (x: 2, y: 3)>\n",
       "array([[ 0.499477,  1.428605,  1.395588],\n",
       "       [-0.409997, -0.446366,  0.151565]])\n",
       "Coordinates:\n",
       "  * x        (x) <U1 'a' 'b'\n",
       "Dimensions without coordinates: y"
      ]
     },
     "execution_count": 35,
     "metadata": {},
     "output_type": "execute_result"
    }
   ],
   "source": [
    "ds['foo']"
   ]
  },
  {
   "cell_type": "markdown",
   "metadata": {},
   "source": [
    "数据集中的变量可以具有不同的`dtype`甚至不同的维度，但是所有维度都假定是指同一共享坐标系中的点。"
   ]
  },
  {
   "cell_type": "markdown",
   "metadata": {},
   "source": [
    "# `NetCDF`\n",
    "\n",
    "NetCDF is the recommended binary serialization（序列化） format for xarray objects. Users from the geosciences will recognize that the `Dataset` data model looks very similar to a netCDF file (which, in fact, inspired it).\n",
    "\n",
    "您可以使用和直接读取和写入`xarray`对象到磁盘`to_netcdf()`，`open_dataset()`和`open_dataarray()`："
   ]
  },
  {
   "cell_type": "code",
   "execution_count": 36,
   "metadata": {
    "ExecuteTime": {
     "end_time": "2018-04-03T11:46:55.244209Z",
     "start_time": "2018-04-03T11:46:52.711183Z"
    }
   },
   "outputs": [],
   "source": [
    "ds.to_netcdf('example.nc')"
   ]
  },
  {
   "cell_type": "code",
   "execution_count": 37,
   "metadata": {
    "ExecuteTime": {
     "end_time": "2018-04-03T11:47:05.857843Z",
     "start_time": "2018-04-03T11:47:05.841845Z"
    }
   },
   "outputs": [
    {
     "data": {
      "text/plain": [
       "<xarray.Dataset>\n",
       "Dimensions:  (x: 2, y: 3)\n",
       "Coordinates:\n",
       "  * x        (x) object 'a' 'b'\n",
       "Dimensions without coordinates: y\n",
       "Data variables:\n",
       "    foo      (x, y) float64 ...\n",
       "    bar      (x) int32 ...\n",
       "    baz      float64 ..."
      ]
     },
     "execution_count": 37,
     "metadata": {},
     "output_type": "execute_result"
    }
   ],
   "source": [
    "xr.open_dataset('example.nc')"
   ]
  },
  {
   "cell_type": "code",
   "execution_count": null,
   "metadata": {},
   "outputs": [],
   "source": []
  }
 ],
 "metadata": {
  "kernelspec": {
   "display_name": "Python 3",
   "language": "python",
   "name": "python3"
  },
  "language_info": {
   "codemirror_mode": {
    "name": "ipython",
    "version": 3
   },
   "file_extension": ".py",
   "mimetype": "text/x-python",
   "name": "python",
   "nbconvert_exporter": "python",
   "pygments_lexer": "ipython3",
   "version": "3.6.4"
  },
  "toc": {
   "nav_menu": {},
   "number_sections": true,
   "sideBar": true,
   "skip_h1_title": false,
   "title_cell": "Table of Contents",
   "title_sidebar": "Contents",
   "toc_cell": false,
   "toc_position": {
    "height": "calc(100% - 180px)",
    "left": "10px",
    "top": "150px",
    "width": "165px"
   },
   "toc_section_display": true,
   "toc_window_display": true
  },
  "varInspector": {
   "cols": {
    "lenName": 16,
    "lenType": 16,
    "lenVar": 40
   },
   "kernels_config": {
    "python": {
     "delete_cmd_postfix": "",
     "delete_cmd_prefix": "del ",
     "library": "var_list.py",
     "varRefreshCmd": "print(var_dic_list())"
    },
    "r": {
     "delete_cmd_postfix": ") ",
     "delete_cmd_prefix": "rm(",
     "library": "var_list.r",
     "varRefreshCmd": "cat(var_dic_list()) "
    }
   },
   "types_to_exclude": [
    "module",
    "function",
    "builtin_function_or_method",
    "instance",
    "_Feature"
   ],
   "window_display": false
  }
 },
 "nbformat": 4,
 "nbformat_minor": 2
}
