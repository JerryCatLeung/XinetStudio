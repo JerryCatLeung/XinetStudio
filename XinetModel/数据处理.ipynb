{
 "cells": [
  {
   "cell_type": "markdown",
   "metadata": {},
   "source": [
    "# `strip()`方法\n",
    "\n",
    "用于移除字符串头尾指定的字符（默认为空格）"
   ]
  },
  {
   "cell_type": "code",
   "execution_count": 1,
   "metadata": {
    "ExecuteTime": {
     "end_time": "2018-04-25T12:00:52.074918Z",
     "start_time": "2018-04-25T12:00:52.069905Z"
    }
   },
   "outputs": [
    {
     "name": "stdout",
     "output_type": "stream",
     "text": [
      "     Runoob  \n"
     ]
    }
   ],
   "source": [
    "str1 = \"0000000     Runoob  0000000\"\n",
    "print(str1.strip('0'))  # 去除首尾字符 0"
   ]
  },
  {
   "cell_type": "code",
   "execution_count": 3,
   "metadata": {
    "ExecuteTime": {
     "end_time": "2018-04-25T12:01:38.678801Z",
     "start_time": "2018-04-25T12:01:38.673762Z"
    }
   },
   "outputs": [
    {
     "name": "stdout",
     "output_type": "stream",
     "text": [
      "Runoob\n"
     ]
    }
   ],
   "source": [
    "str2 = \"   Runoob      \";   # 去除首尾空格\n",
    "print(str2.strip())"
   ]
  },
  {
   "cell_type": "markdown",
   "metadata": {},
   "source": [
    "# 集合"
   ]
  },
  {
   "cell_type": "code",
   "execution_count": 7,
   "metadata": {
    "ExecuteTime": {
     "end_time": "2018-04-25T12:04:15.108806Z",
     "start_time": "2018-04-25T12:04:15.102799Z"
    }
   },
   "outputs": [
    {
     "data": {
      "text/plain": [
       "{1, 2, 4, 'a', 'g hh'}"
      ]
     },
     "execution_count": 7,
     "metadata": {},
     "output_type": "execute_result"
    }
   ],
   "source": [
    "s = set([1, 4, 'g hh', 2, 'a'])\n",
    "s"
   ]
  },
  {
   "cell_type": "code",
   "execution_count": 8,
   "metadata": {
    "ExecuteTime": {
     "end_time": "2018-04-25T12:04:31.421103Z",
     "start_time": "2018-04-25T12:04:31.416135Z"
    }
   },
   "outputs": [],
   "source": [
    "s.add('df')"
   ]
  },
  {
   "cell_type": "code",
   "execution_count": 9,
   "metadata": {
    "ExecuteTime": {
     "end_time": "2018-04-25T12:04:34.043352Z",
     "start_time": "2018-04-25T12:04:34.038336Z"
    }
   },
   "outputs": [
    {
     "data": {
      "text/plain": [
       "{1, 2, 4, 'a', 'df', 'g hh'}"
      ]
     },
     "execution_count": 9,
     "metadata": {},
     "output_type": "execute_result"
    }
   ],
   "source": [
    "s"
   ]
  },
  {
   "cell_type": "code",
   "execution_count": 10,
   "metadata": {
    "ExecuteTime": {
     "end_time": "2018-04-25T12:05:14.115998Z",
     "start_time": "2018-04-25T12:05:14.111995Z"
    }
   },
   "outputs": [],
   "source": [
    "s.discard(2)"
   ]
  },
  {
   "cell_type": "code",
   "execution_count": 11,
   "metadata": {
    "ExecuteTime": {
     "end_time": "2018-04-25T12:05:16.128163Z",
     "start_time": "2018-04-25T12:05:16.123124Z"
    }
   },
   "outputs": [
    {
     "data": {
      "text/plain": [
       "{1, 4, 'a', 'df', 'g hh'}"
      ]
     },
     "execution_count": 11,
     "metadata": {},
     "output_type": "execute_result"
    }
   ],
   "source": [
    "s"
   ]
  },
  {
   "cell_type": "markdown",
   "metadata": {},
   "source": [
    "## 集合论方法"
   ]
  },
  {
   "cell_type": "code",
   "execution_count": 12,
   "metadata": {
    "ExecuteTime": {
     "end_time": "2018-04-25T12:07:51.306327Z",
     "start_time": "2018-04-25T12:07:51.300359Z"
    },
    "scrolled": true
   },
   "outputs": [
    {
     "data": {
      "text/plain": [
       "{1, 2, 3, 4, 5, 7, 'f', 'fg', 'gh'}"
      ]
     },
     "execution_count": 12,
     "metadata": {},
     "output_type": "execute_result"
    }
   ],
   "source": [
    "t = {'fg', 1, 4 ,3, 2, 3, 3, 5 ,7, 'f', 'gh'}\n",
    "t"
   ]
  },
  {
   "cell_type": "markdown",
   "metadata": {
    "ExecuteTime": {
     "end_time": "2018-04-25T12:08:59.560771Z",
     "start_time": "2018-04-25T12:08:59.556793Z"
    }
   },
   "source": [
    "### 并集"
   ]
  },
  {
   "cell_type": "code",
   "execution_count": 13,
   "metadata": {
    "ExecuteTime": {
     "end_time": "2018-04-25T12:08:31.346669Z",
     "start_time": "2018-04-25T12:08:31.338630Z"
    }
   },
   "outputs": [
    {
     "data": {
      "text/plain": [
       "{1, 2, 3, 4, 5, 7, 'a', 'df', 'f', 'fg', 'g hh', 'gh'}"
      ]
     },
     "execution_count": 13,
     "metadata": {},
     "output_type": "execute_result"
    }
   ],
   "source": [
    "s.union(t)   "
   ]
  },
  {
   "cell_type": "code",
   "execution_count": 21,
   "metadata": {
    "ExecuteTime": {
     "end_time": "2018-04-25T12:10:00.389834Z",
     "start_time": "2018-04-25T12:10:00.384826Z"
    }
   },
   "outputs": [
    {
     "data": {
      "text/plain": [
       "{1, 2, 3, 4, 5, 7, 'a', 'df', 'f', 'fg', 'g hh', 'gh'}"
      ]
     },
     "execution_count": 21,
     "metadata": {},
     "output_type": "execute_result"
    }
   ],
   "source": [
    "s | t"
   ]
  },
  {
   "cell_type": "markdown",
   "metadata": {
    "ExecuteTime": {
     "end_time": "2018-04-25T12:09:51.743086Z",
     "start_time": "2018-04-25T12:09:51.739109Z"
    }
   },
   "source": [
    "### 交集"
   ]
  },
  {
   "cell_type": "code",
   "execution_count": 22,
   "metadata": {
    "ExecuteTime": {
     "end_time": "2018-04-25T12:10:48.480779Z",
     "start_time": "2018-04-25T12:10:48.475778Z"
    }
   },
   "outputs": [
    {
     "data": {
      "text/plain": [
       "{1, 4}"
      ]
     },
     "execution_count": 22,
     "metadata": {},
     "output_type": "execute_result"
    }
   ],
   "source": [
    "s.intersection(t)"
   ]
  },
  {
   "cell_type": "code",
   "execution_count": 23,
   "metadata": {
    "ExecuteTime": {
     "end_time": "2018-04-25T12:11:02.585339Z",
     "start_time": "2018-04-25T12:11:02.579271Z"
    }
   },
   "outputs": [
    {
     "data": {
      "text/plain": [
       "{1, 4}"
      ]
     },
     "execution_count": 23,
     "metadata": {},
     "output_type": "execute_result"
    }
   ],
   "source": [
    "s & t"
   ]
  },
  {
   "cell_type": "markdown",
   "metadata": {},
   "source": [
    "### 差"
   ]
  },
  {
   "cell_type": "code",
   "execution_count": 24,
   "metadata": {
    "ExecuteTime": {
     "end_time": "2018-04-25T12:11:31.996332Z",
     "start_time": "2018-04-25T12:11:31.989321Z"
    }
   },
   "outputs": [
    {
     "data": {
      "text/plain": [
       "{'a', 'df', 'g hh'}"
      ]
     },
     "execution_count": 24,
     "metadata": {},
     "output_type": "execute_result"
    }
   ],
   "source": [
    "s.difference(t)"
   ]
  },
  {
   "cell_type": "code",
   "execution_count": 26,
   "metadata": {
    "ExecuteTime": {
     "end_time": "2018-04-25T12:11:44.326775Z",
     "start_time": "2018-04-25T12:11:44.320770Z"
    }
   },
   "outputs": [
    {
     "data": {
      "text/plain": [
       "{'a', 'df', 'g hh'}"
      ]
     },
     "execution_count": 26,
     "metadata": {},
     "output_type": "execute_result"
    }
   ],
   "source": [
    "s - t"
   ]
  },
  {
   "cell_type": "markdown",
   "metadata": {},
   "source": [
    "### 对称差"
   ]
  },
  {
   "cell_type": "code",
   "execution_count": 27,
   "metadata": {
    "ExecuteTime": {
     "end_time": "2018-04-25T12:12:18.775880Z",
     "start_time": "2018-04-25T12:12:18.770857Z"
    }
   },
   "outputs": [
    {
     "data": {
      "text/plain": [
       "{2, 3, 5, 7, 'a', 'df', 'f', 'fg', 'g hh', 'gh'}"
      ]
     },
     "execution_count": 27,
     "metadata": {},
     "output_type": "execute_result"
    }
   ],
   "source": [
    "s ^ t"
   ]
  },
  {
   "cell_type": "code",
   "execution_count": 28,
   "metadata": {
    "ExecuteTime": {
     "end_time": "2018-04-25T12:12:59.818801Z",
     "start_time": "2018-04-25T12:12:59.811800Z"
    }
   },
   "outputs": [
    {
     "data": {
      "text/plain": [
       "{2, 3, 5, 7, 'a', 'df', 'f', 'fg', 'g hh', 'gh'}"
      ]
     },
     "execution_count": 28,
     "metadata": {},
     "output_type": "execute_result"
    }
   ],
   "source": [
    "s.symmetric_difference(t)"
   ]
  },
  {
   "cell_type": "markdown",
   "metadata": {},
   "source": [
    "# 生成随机数\n",
    "\n",
    "- `random.choice(L)`：从列表 `L` 中随机选择一个元素\n",
    "- `random.sample(L, n)`：从列表 `L` 中随机选择 $n$ 个元素\n",
    "- `random.shuffle(L)`：随机重排元素\n",
    "- `random.randint(m, n`：将会从 $m - n$ 中随机选择一个整数"
   ]
  },
  {
   "cell_type": "code",
   "execution_count": 29,
   "metadata": {
    "ExecuteTime": {
     "end_time": "2018-04-25T12:26:13.187549Z",
     "start_time": "2018-04-25T12:26:13.183000Z"
    }
   },
   "outputs": [],
   "source": [
    "import random"
   ]
  },
  {
   "cell_type": "markdown",
   "metadata": {},
   "source": [
    "# 海龟图"
   ]
  },
  {
   "cell_type": "code",
   "execution_count": 1,
   "metadata": {
    "ExecuteTime": {
     "end_time": "2018-04-25T12:52:04.252941Z",
     "start_time": "2018-04-25T12:52:04.134171Z"
    }
   },
   "outputs": [],
   "source": [
    "import turtle"
   ]
  },
  {
   "cell_type": "code",
   "execution_count": 2,
   "metadata": {
    "ExecuteTime": {
     "end_time": "2018-04-25T12:52:06.420747Z",
     "start_time": "2018-04-25T12:52:06.227464Z"
    }
   },
   "outputs": [],
   "source": [
    "t = turtle.Turtle()"
   ]
  },
  {
   "cell_type": "markdown",
   "metadata": {},
   "source": [
    "`t.up()` 和 `t.down()` 将笔抬起和放下"
   ]
  },
  {
   "cell_type": "code",
   "execution_count": 3,
   "metadata": {
    "ExecuteTime": {
     "end_time": "2018-04-25T12:40:49.906586Z",
     "start_time": "2018-04-25T12:40:49.858112Z"
    }
   },
   "outputs": [],
   "source": [
    "t.hideturtle() # 隐藏海龟"
   ]
  },
  {
   "cell_type": "code",
   "execution_count": 5,
   "metadata": {
    "ExecuteTime": {
     "end_time": "2018-04-25T12:52:17.726353Z",
     "start_time": "2018-04-25T12:52:17.619247Z"
    }
   },
   "outputs": [],
   "source": [
    "t.forward(100)  # 向前移动 100 个像素点"
   ]
  },
  {
   "cell_type": "code",
   "execution_count": 6,
   "metadata": {
    "ExecuteTime": {
     "end_time": "2018-04-25T12:52:19.103996Z",
     "start_time": "2018-04-25T12:52:18.993941Z"
    }
   },
   "outputs": [],
   "source": [
    "t.goto(25, 57)  # 将海龟移动到坐标 (25, 57)"
   ]
  },
  {
   "cell_type": "code",
   "execution_count": 8,
   "metadata": {
    "ExecuteTime": {
     "end_time": "2018-04-25T12:44:51.049936Z",
     "start_time": "2018-04-25T12:44:51.032928Z"
    }
   },
   "outputs": [],
   "source": [
    "t.pencolor('red') # 更换笔的颜色"
   ]
  },
  {
   "cell_type": "code",
   "execution_count": 10,
   "metadata": {
    "ExecuteTime": {
     "end_time": "2018-04-25T12:54:40.299199Z",
     "start_time": "2018-04-25T12:54:40.267142Z"
    }
   },
   "outputs": [],
   "source": [
    "t.setheading(27)  # 设置海龟朝向 27 度的方向"
   ]
  },
  {
   "cell_type": "code",
   "execution_count": 7,
   "metadata": {
    "ExecuteTime": {
     "end_time": "2018-04-25T12:52:27.802246Z",
     "start_time": "2018-04-25T12:52:27.711855Z"
    }
   },
   "outputs": [],
   "source": [
    "t.left(27)  # 逆时针旋转 27 度"
   ]
  },
  {
   "cell_type": "code",
   "execution_count": 13,
   "metadata": {
    "ExecuteTime": {
     "end_time": "2018-04-25T12:47:39.636429Z",
     "start_time": "2018-04-25T12:47:39.573399Z"
    }
   },
   "outputs": [],
   "source": [
    "t.right(27)  # 顺时针旋转 27 度"
   ]
  },
  {
   "cell_type": "code",
   "execution_count": 8,
   "metadata": {
    "ExecuteTime": {
     "end_time": "2018-04-25T12:52:30.420957Z",
     "start_time": "2018-04-25T12:52:30.370939Z"
    }
   },
   "outputs": [],
   "source": [
    "t.dot(45, 'blue')   # 在给定的直径和颜色上画圆点"
   ]
  },
  {
   "cell_type": "code",
   "execution_count": 11,
   "metadata": {
    "ExecuteTime": {
     "end_time": "2018-04-25T12:55:44.089741Z",
     "start_time": "2018-04-25T12:55:44.077739Z"
    }
   },
   "outputs": [],
   "source": [
    "t.write('df', align='right')    # 在当前位置作为字符串的右下角来显示出字符串"
   ]
  },
  {
   "cell_type": "code",
   "execution_count": 12,
   "metadata": {
    "ExecuteTime": {
     "end_time": "2018-04-25T12:58:18.842147Z",
     "start_time": "2018-04-25T12:58:18.796122Z"
    }
   },
   "outputs": [],
   "source": [
    "t.reset()"
   ]
  },
  {
   "cell_type": "code",
   "execution_count": 15,
   "metadata": {
    "ExecuteTime": {
     "end_time": "2018-04-25T12:59:27.532948Z",
     "start_time": "2018-04-25T12:59:27.526921Z"
    }
   },
   "outputs": [
    {
     "data": {
      "text/plain": [
       "0.0"
      ]
     },
     "execution_count": 15,
     "metadata": {},
     "output_type": "execute_result"
    }
   ],
   "source": [
    "t.shearfactor()"
   ]
  },
  {
   "cell_type": "code",
   "execution_count": null,
   "metadata": {},
   "outputs": [],
   "source": []
  }
 ],
 "metadata": {
  "kernelspec": {
   "display_name": "Python 3",
   "language": "python",
   "name": "python3"
  },
  "language_info": {
   "codemirror_mode": {
    "name": "ipython",
    "version": 3
   },
   "file_extension": ".py",
   "mimetype": "text/x-python",
   "name": "python",
   "nbconvert_exporter": "python",
   "pygments_lexer": "ipython3",
   "version": "3.6.4"
  },
  "latex_envs": {
   "LaTeX_envs_menu_present": true,
   "autoclose": false,
   "autocomplete": true,
   "bibliofile": "biblio.bib",
   "cite_by": "apalike",
   "current_citInitial": 1,
   "eqLabelWithNumbers": true,
   "eqNumInitial": 1,
   "hotkeys": {
    "equation": "Ctrl-E",
    "itemize": "Ctrl-I"
   },
   "labels_anchors": false,
   "latex_user_defs": false,
   "report_style_numbering": false,
   "user_envs_cfg": false
  },
  "nbTranslate": {
   "displayLangs": [
    "*"
   ],
   "hotkey": "alt-t",
   "langInMainMenu": true,
   "sourceLang": "en",
   "targetLang": "fr",
   "useGoogleTranslate": true
  },
  "toc": {
   "nav_menu": {},
   "number_sections": true,
   "sideBar": true,
   "skip_h1_title": false,
   "title_cell": "Table of Contents",
   "title_sidebar": "Contents",
   "toc_cell": false,
   "toc_position": {},
   "toc_section_display": true,
   "toc_window_display": false
  },
  "varInspector": {
   "cols": {
    "lenName": 16,
    "lenType": 16,
    "lenVar": 40
   },
   "kernels_config": {
    "python": {
     "delete_cmd_postfix": "",
     "delete_cmd_prefix": "del ",
     "library": "var_list.py",
     "varRefreshCmd": "print(var_dic_list())"
    },
    "r": {
     "delete_cmd_postfix": ") ",
     "delete_cmd_prefix": "rm(",
     "library": "var_list.r",
     "varRefreshCmd": "cat(var_dic_list()) "
    }
   },
   "types_to_exclude": [
    "module",
    "function",
    "builtin_function_or_method",
    "instance",
    "_Feature"
   ],
   "window_display": false
  }
 },
 "nbformat": 4,
 "nbformat_minor": 2
}
