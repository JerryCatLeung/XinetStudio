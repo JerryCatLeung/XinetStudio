{
 "cells": [
  {
   "cell_type": "markdown",
   "metadata": {},
   "source": [
    "# [函数与模块](https://introcs.cs.princeton.edu/python/20functions/)"
   ]
  },
  {
   "cell_type": "code",
   "execution_count": 1,
   "metadata": {
    "ExecuteTime": {
     "end_time": "2018-03-20T14:45:29.284388Z",
     "start_time": "2018-03-20T14:45:29.273373Z"
    }
   },
   "outputs": [],
   "source": [
    "def isPrime(n):\n",
    "    if n < 2:\n",
    "        return False\n",
    "    i = 2\n",
    "    while i * i <= n:\n",
    "        if n % i == 0:\n",
    "            return False\n",
    "        i += 1\n",
    "        return True\n",
    "    else:\n",
    "        return n"
   ]
  },
  {
   "cell_type": "code",
   "execution_count": 2,
   "metadata": {
    "ExecuteTime": {
     "end_time": "2018-03-20T14:45:30.415722Z",
     "start_time": "2018-03-20T14:45:30.402726Z"
    }
   },
   "outputs": [
    {
     "data": {
      "text/plain": [
       "False"
      ]
     },
     "execution_count": 2,
     "metadata": {},
     "output_type": "execute_result"
    }
   ],
   "source": [
    "isPrime(0.1)"
   ]
  },
  {
   "cell_type": "code",
   "execution_count": 3,
   "metadata": {
    "ExecuteTime": {
     "end_time": "2018-03-20T14:45:31.189743Z",
     "start_time": "2018-03-20T14:45:31.185729Z"
    }
   },
   "outputs": [
    {
     "data": {
      "text/plain": [
       "2"
      ]
     },
     "execution_count": 3,
     "metadata": {},
     "output_type": "execute_result"
    }
   ],
   "source": [
    "isPrime(2)"
   ]
  },
  {
   "cell_type": "code",
   "execution_count": 4,
   "metadata": {
    "ExecuteTime": {
     "end_time": "2018-03-20T14:45:32.452726Z",
     "start_time": "2018-03-20T14:45:32.447705Z"
    }
   },
   "outputs": [
    {
     "data": {
      "text/plain": [
       "False"
      ]
     },
     "execution_count": 4,
     "metadata": {},
     "output_type": "execute_result"
    }
   ],
   "source": [
    "isPrime(4)"
   ]
  },
  {
   "cell_type": "code",
   "execution_count": 5,
   "metadata": {
    "ExecuteTime": {
     "end_time": "2018-03-20T14:45:33.634728Z",
     "start_time": "2018-03-20T14:45:33.629720Z"
    }
   },
   "outputs": [
    {
     "data": {
      "text/plain": [
       "True"
      ]
     },
     "execution_count": 5,
     "metadata": {},
     "output_type": "execute_result"
    }
   ],
   "source": [
    "isPrime(7)"
   ]
  },
  {
   "cell_type": "markdown",
   "metadata": {},
   "source": [
    "设计软件的一个指导原则为：定义变量的作用范围越小越好。使用函数的一个重要原因在于，修改函数的内容不会影响程序其他不相关的部分。所以，尽管在函数中的代码可以引用全局变量，但强烈建议不要在函数中引用全局变量：调用者应该使用函数形式参数变量实现与其函数的所有通信；而函数则应该使用函数的 `return` 语句实现与其调用者的所有通信。"
   ]
  },
  {
   "cell_type": "code",
   "execution_count": 7,
   "metadata": {
    "ExecuteTime": {
     "end_time": "2018-03-20T14:46:25.282332Z",
     "start_time": "2018-03-20T14:46:25.276295Z"
    }
   },
   "outputs": [],
   "source": [
    "def harmonic(n, r = 1):\n",
    "    total = 0.0\n",
    "    for i in range(1, 1 + n):\n",
    "        total += 1./(i ** r)\n",
    "    return total"
   ]
  },
  {
   "cell_type": "code",
   "execution_count": 8,
   "metadata": {
    "ExecuteTime": {
     "end_time": "2018-03-20T14:46:25.833300Z",
     "start_time": "2018-03-20T14:46:25.776265Z"
    }
   },
   "outputs": [
    {
     "data": {
      "text/plain": [
       "1.2020569031097323"
      ]
     },
     "execution_count": 8,
     "metadata": {},
     "output_type": "execute_result"
    }
   ],
   "source": [
    "harmonic(100000, 3)"
   ]
  },
  {
   "cell_type": "code",
   "execution_count": 9,
   "metadata": {
    "ExecuteTime": {
     "end_time": "2018-03-20T14:46:28.634557Z",
     "start_time": "2018-03-20T14:46:28.099551Z"
    }
   },
   "outputs": [
    {
     "name": "stdout",
     "output_type": "stream",
     "text": [
      "0.17050966869132106\n"
     ]
    }
   ],
   "source": [
    "!python gaussian.py 820 1019 209"
   ]
  },
  {
   "cell_type": "markdown",
   "metadata": {
    "ExecuteTime": {
     "end_time": "2018-02-21T05:23:46.181034Z",
     "start_time": "2018-02-21T05:23:46.165968Z"
    }
   },
   "source": [
    "##### 在计算任务中，任何时候只要可以清晰地分离任务，则建议使用函数分离任务。"
   ]
  },
  {
   "cell_type": "code",
   "execution_count": 10,
   "metadata": {
    "ExecuteTime": {
     "end_time": "2018-03-20T14:46:37.800725Z",
     "start_time": "2018-03-20T14:46:37.797720Z"
    }
   },
   "outputs": [],
   "source": [
    "a = 9"
   ]
  },
  {
   "cell_type": "code",
   "execution_count": 11,
   "metadata": {
    "ExecuteTime": {
     "end_time": "2018-03-20T14:46:38.111721Z",
     "start_time": "2018-03-20T14:46:38.107713Z"
    },
    "scrolled": true
   },
   "outputs": [
    {
     "data": {
      "text/plain": [
       "1387487648"
      ]
     },
     "execution_count": 11,
     "metadata": {},
     "output_type": "execute_result"
    }
   ],
   "source": [
    "id(a)"
   ]
  },
  {
   "cell_type": "code",
   "execution_count": 12,
   "metadata": {
    "ExecuteTime": {
     "end_time": "2018-03-20T14:46:38.426724Z",
     "start_time": "2018-03-20T14:46:38.420685Z"
    }
   },
   "outputs": [
    {
     "data": {
      "text/plain": [
       "int"
      ]
     },
     "execution_count": 12,
     "metadata": {},
     "output_type": "execute_result"
    }
   ],
   "source": [
    "type(a)"
   ]
  },
  {
   "cell_type": "code",
   "execution_count": 13,
   "metadata": {
    "ExecuteTime": {
     "end_time": "2018-03-20T14:46:38.749692Z",
     "start_time": "2018-03-20T14:46:38.745685Z"
    }
   },
   "outputs": [
    {
     "data": {
      "text/plain": [
       "'9'"
      ]
     },
     "execution_count": 13,
     "metadata": {},
     "output_type": "execute_result"
    }
   ],
   "source": [
    "repr(a)"
   ]
  },
  {
   "cell_type": "markdown",
   "metadata": {
    "ExecuteTime": {
     "end_time": "2018-02-22T00:59:07.714349Z",
     "start_time": "2018-02-22T00:59:07.710364Z"
    }
   },
   "source": [
    "## 传递参数和返回值\n",
    "\n",
    "理解参数传递和返回值的原理机制是学习任何一门新的程序设计语言的关键。在 python 中，**不可变性**（immutability）和**别名**（aliasing）的概念扮演着重要的角色。\n",
    "\n",
    "### 通过对象引用实现调用\n",
    "\n",
    "在函数体的任何位置都可以使用形式参数变量，这和使用局部变量一样。形式参数变量和局部变量的唯一区别在于，python 使用调用代码传递对应的实际参数来初始化形式参数变量。我们称这种方法为“通过对象引用实现调用（call by object reference）”（更常见的说法称之为“值调用”，这里的值通常为对象引用，而不是对象的值）。\n",
    "\n",
    "如果一个参数变量指向一个可变对象（对象的值可以改变），在函数中又想改变该对象的值，则在调用代码中，该对象的值也被改变（因为二者指向同一对象）。\n",
    "\n",
    "一个数据类型是不可变的（immutable），是指该数据类型对象的值不可以被更改。对于不可变数据类型，有些操作表面上看起来修改了对象的值，但实际上是创建了一个新的对象。"
   ]
  },
  {
   "cell_type": "code",
   "execution_count": 14,
   "metadata": {
    "ExecuteTime": {
     "end_time": "2018-03-20T14:46:41.963718Z",
     "start_time": "2018-03-20T14:46:41.960685Z"
    }
   },
   "outputs": [],
   "source": [
    "a = 99"
   ]
  },
  {
   "cell_type": "code",
   "execution_count": 15,
   "metadata": {
    "ExecuteTime": {
     "end_time": "2018-03-20T14:46:42.528685Z",
     "start_time": "2018-03-20T14:46:42.524685Z"
    }
   },
   "outputs": [],
   "source": [
    "before = id(a)"
   ]
  },
  {
   "cell_type": "code",
   "execution_count": 16,
   "metadata": {
    "ExecuteTime": {
     "end_time": "2018-03-20T14:46:43.961694Z",
     "start_time": "2018-03-20T14:46:43.958688Z"
    }
   },
   "outputs": [],
   "source": [
    "a += 1"
   ]
  },
  {
   "cell_type": "code",
   "execution_count": 17,
   "metadata": {
    "ExecuteTime": {
     "end_time": "2018-03-20T14:46:46.114453Z",
     "start_time": "2018-03-20T14:46:46.108485Z"
    }
   },
   "outputs": [
    {
     "data": {
      "text/plain": [
       "False"
      ]
     },
     "execution_count": 17,
     "metadata": {},
     "output_type": "execute_result"
    }
   ],
   "source": [
    "id(a) == before"
   ]
  },
  {
   "cell_type": "markdown",
   "metadata": {},
   "source": [
    "#### 别名\n",
    "\n",
    "如果两个变量指向同一对象，则两个变量互为别名。"
   ]
  },
  {
   "cell_type": "code",
   "execution_count": 18,
   "metadata": {
    "ExecuteTime": {
     "end_time": "2018-03-20T14:46:48.173667Z",
     "start_time": "2018-03-20T14:46:48.169619Z"
    }
   },
   "outputs": [],
   "source": [
    "a1 = a"
   ]
  },
  {
   "cell_type": "code",
   "execution_count": 19,
   "metadata": {
    "ExecuteTime": {
     "end_time": "2018-03-20T14:46:49.553647Z",
     "start_time": "2018-03-20T14:46:49.548638Z"
    }
   },
   "outputs": [
    {
     "data": {
      "text/plain": [
       "True"
      ]
     },
     "execution_count": 19,
     "metadata": {},
     "output_type": "execute_result"
    }
   ],
   "source": [
    "id(a1) == id(a) "
   ]
  },
  {
   "cell_type": "markdown",
   "metadata": {},
   "source": [
    "在 python 语言中，关于函数参数传递必须铭记的关键点是，**无论用户在什么时候传递实际参数给一个函数，实际参数和函数的形式参数互为别名**。"
   ]
  },
  {
   "cell_type": "code",
   "execution_count": 20,
   "metadata": {
    "ExecuteTime": {
     "end_time": "2018-03-20T14:47:02.558795Z",
     "start_time": "2018-03-20T14:47:02.555797Z"
    }
   },
   "outputs": [],
   "source": [
    "def inc(x):\n",
    "    x += 1"
   ]
  },
  {
   "cell_type": "code",
   "execution_count": 21,
   "metadata": {
    "ExecuteTime": {
     "end_time": "2018-03-20T14:47:02.911796Z",
     "start_time": "2018-03-20T14:47:02.908826Z"
    }
   },
   "outputs": [],
   "source": [
    "x = 2\n",
    "inc(x)"
   ]
  },
  {
   "cell_type": "code",
   "execution_count": 22,
   "metadata": {
    "ExecuteTime": {
     "end_time": "2018-03-20T14:47:03.509377Z",
     "start_time": "2018-03-20T14:47:03.503378Z"
    }
   },
   "outputs": [
    {
     "data": {
      "text/plain": [
       "2"
      ]
     },
     "execution_count": 22,
     "metadata": {},
     "output_type": "execute_result"
    }
   ],
   "source": [
    "x"
   ]
  },
  {
   "cell_type": "markdown",
   "metadata": {},
   "source": [
    "上述例子表明：\n",
    "\n",
    "**在 python 语言中，一个函数无法改变一个不可变对象是值（即函数无法产生副作用）。若要改变需要借用 `return` 和赋值语句。**"
   ]
  },
  {
   "cell_type": "code",
   "execution_count": 23,
   "metadata": {
    "ExecuteTime": {
     "end_time": "2018-03-20T14:47:10.206104Z",
     "start_time": "2018-03-20T14:47:10.202048Z"
    }
   },
   "outputs": [],
   "source": [
    "def inc(x):\n",
    "    x += 1\n",
    "    return x"
   ]
  },
  {
   "cell_type": "code",
   "execution_count": 24,
   "metadata": {
    "ExecuteTime": {
     "end_time": "2018-03-20T14:47:13.219671Z",
     "start_time": "2018-03-20T14:47:13.216721Z"
    }
   },
   "outputs": [],
   "source": [
    "x = 2\n",
    "x = inc(x)"
   ]
  },
  {
   "cell_type": "code",
   "execution_count": 25,
   "metadata": {
    "ExecuteTime": {
     "end_time": "2018-03-20T14:47:13.839709Z",
     "start_time": "2018-03-20T14:47:13.834675Z"
    }
   },
   "outputs": [
    {
     "data": {
      "text/plain": [
       "3"
      ]
     },
     "execution_count": 25,
     "metadata": {},
     "output_type": "execute_result"
    }
   ],
   "source": [
    "x"
   ]
  },
  {
   "cell_type": "code",
   "execution_count": 26,
   "metadata": {
    "ExecuteTime": {
     "end_time": "2018-03-20T14:47:30.647940Z",
     "start_time": "2018-03-20T14:47:14.462676Z"
    }
   },
   "outputs": [],
   "source": [
    "!python playthattunedeluxe.py < introcs-data/freebird.txt"
   ]
  },
  {
   "cell_type": "markdown",
   "metadata": {
    "ExecuteTime": {
     "end_time": "2018-02-25T01:37:41.381676Z",
     "start_time": "2018-02-25T01:37:41.374658Z"
    }
   },
   "source": [
    "python 程序一般可以分为以下两类：\n",
    "- 模块（module）：模块包含可被其他程序调用的函数。\n",
    "- 客户端（client）：客户端是调用其他模块中的函数的程序。\n",
    "\n",
    "一个程序可以同时是模块和客户端。\n",
    "\n",
    "创建和使用一个模块一般需要五个步骤：\n",
    "- 在客户端中导入模块；`import module` / `from a import b`\n",
    "- 在客户端限定函数调用；\n",
    "- 编写模块的测试客户端；\n",
    "- 删除模块的全局代码；\n",
    "- 使得模块可被客户端使用。\n",
    "\n",
    "##### 示例\n",
    "\n",
    "`gaussian.py` 模块是程序 `gauss.py` 的模块化版本，用于计算高斯分布函数；\n",
    "客户端：`gaussiantable.py` 则使用模块计算和输出值的列表。\n",
    "\n",
    "- 客户端：`gaussiantable.py` 包含语句 `import gaussian`，所以该客户端可以调用定义在 `gauss.py` 中的任何函数。\n",
    "- 在客户端限定函数调用：`gaussian.cdf` 等等。\n",
    "- 编写模块的测试客户端：\n",
    "    **优秀的程序员已经坚持了几十年的最佳编程实践，那就是编写代码以测试模块中各函数的功能并且将测试代码包括在模块内。python 语言长久以来的传统是把测试代码放置在名为 `main()` 的函数中**。`gaussian.py` 模块包含一个 `main()` 函数，该函数接收三个命令行参数，然后调用模块中的函数，最后在标准输出中写入结果。\n",
    "\n",
    "```py\n",
    "def main():\n",
    "    z = float(sys.argv[1])\n",
    "    mu = float(sys.argv[2])\n",
    "    sigma = float(sys.argv[3])\n",
    "\n",
    "    stdio.writeln(cdf(z, mu, sigma))\n",
    "\n",
    "if __name__ == '__main__':\n",
    "    main()\n",
    "```"
   ]
  },
  {
   "cell_type": "code",
   "execution_count": 2,
   "metadata": {
    "ExecuteTime": {
     "end_time": "2018-02-25T02:02:00.813476Z",
     "start_time": "2018-02-25T02:02:00.614949Z"
    }
   },
   "outputs": [
    {
     "name": "stdout",
     "output_type": "stream",
     "text": [
      " 400  0.0015\n",
      " 500  0.0065\n",
      " 600  0.0225\n",
      " 700  0.0635\n",
      " 800  0.1474\n",
      " 900  0.2845\n",
      "1000  0.4638\n",
      "1100  0.6508\n",
      "1200  0.8068\n",
      "1300  0.9106\n",
      "1400  0.9658\n",
      "1500  0.9893\n",
      "1600  0.9973\n"
     ]
    }
   ],
   "source": [
    "!python gaussiantable.py 1019 209"
   ]
  },
  {
   "cell_type": "markdown",
   "metadata": {},
   "source": [
    "- 删除模块的全局代码：\n",
    "    python 的 `import` 语句会执行导入模块中的所有全局代码（包括函数定义和任意全局代码）。因为 python 每次导入模块时都会执行这些全局代码，所以在模块中不能遗留全局代码（这些测试代码常常向标准输出中写入内容）。替代的方法是，将测试代码放置在 `main()` 函数中，并指定当且仅当从命令行执行程序时 python 才会调用测试函数 `main()`，使用的方法如下：\n",
    "    ```py\n",
    "    if __main__ == '__main__': main()\n",
    "    ```\n",
    "    \n",
    "    通常上述代码指示 python 当 `.py` 文件从命令行直接执行时（而不是通过 `import` 语句）调用 `main()`。其效果是当通过命令行命令 `!python module.py` 调试程序时，才会执行 `main()` 函数。而在客户端使用模块时，`import` 导入模块过程则不会执行  `main()` 函数。\n",
    "    \n",
    "- 使得模块可被客户端调用：\n",
    "    把客户端程序文件和模块文件放置在相同目录下。\n",
    "\n",
    "## 模块化程序设计\n",
    "\n",
    "通过定义多个文件，每个文件为一个包含多个函数的独立模块的方法称为：模块化程序设计（modular programming）\n",
    "\n",
    "假设自己编写的每个程序都会在将来某个时候被使用，你很快就会发现自己拥有各种有用的工具。模块化程序设计的视角就是，**将每个计算问题的解决方案作为我们计算环境的附加值**。\n",
    "\n",
    "模块化的好处：\n",
    "    模块化程序鼓励我们把计算任务分解为较小的部分，以便独立排错和测试。一般而言，编写然后程序时，都应该采用合适的方法把计算任务分解为可管理的部分，然后分别实现各部分，以便其他程序使用。这样做可以大大节省重新编写和调试代码的精力。\n",
    "\n",
    "### 模块化程序设计的抽象概念\n",
    "\n",
    "#### 实现（Implementation）\n",
    "\n",
    "我们采用通用术语“实现”来描述实现重用的若干函数的代码。一个 Python 模块就是一种实现：若干函数的集合使用名称 module 表示，并保存在一个 `module.py`  文件中。\n",
    "\n",
    "模块设计的指导原则是：**为客户端提供需要的函数，不要包含其他多余内容**。实现包含大量函数的模块会成为一个负担，而缺少重要函数的模块对客户端而言没有必要。比如，Python 的 math 模块就不包含正割函数、余割函数和余切函数，因为这些函数可以通过其他函数计算得到。\n",
    "\n",
    "#### 客户端（Client）：表示使用一个实现的程序。\n",
    "\n",
    "一个调用定义在文件名为 `module.py` 中函数的 python 程序（脚本或模块）就是模块 module 的一个客户端。\n",
    "\n",
    "实现一个新的模块时，必须明确清楚模块将为客户端做什么。例如，所有用户编写的调用 `math.sqrt()` 的程序都是 Python 的 math 模块的客户端。\n",
    "\n",
    "#### 应用程序编程接口（API）\n",
    "\n",
    "程序员通常认为在客户端和实现之间的*契约*（contract）是一个明确的规范，规定“实现”的具体功能是什么。这种方法可保证代码的重用性。用户可编写 python 模块以及其客户端程序，因为存在一个非正式的契约（描述函数作用的非正式自然语言），以及可用函数签名的精确规范。将两者结合起来，就统称为“应用程序编程接口（API）”\n",
    "\n",
    "#### 私有函数（Private function）\n",
    "用于辅助模块的定义，但不能被客户端直接调用，称为**私有函数**（使用下划线开头的函数）。\n",
    "\n",
    "API 一般不包括私有函数，因为私有函数不属于客户端和模块实现之间的契约。"
   ]
  },
  {
   "cell_type": "code",
   "execution_count": 3,
   "metadata": {
    "ExecuteTime": {
     "end_time": "2018-02-25T03:04:59.958781Z",
     "start_time": "2018-02-25T03:04:59.946747Z"
    }
   },
   "outputs": [],
   "source": [
    "def _phi(x):\n",
    "    return math.exp(- x * x / 2.0) / math.sqrt(2 * math.pi)\n",
    "\n",
    "def pdf(x, mu= 0.0, sigma= 1.0):\n",
    "    return _phi(float((x - mu) / sigma))/ sigma"
   ]
  },
  {
   "cell_type": "markdown",
   "metadata": {},
   "source": [
    "#### 库（Library）\n",
    "\n",
    "库是若干相关模块的集合。\n",
    "\n",
    "#### 文档（Documentation）\n",
    "通过 python 交互式的内置函数 `help()`，可查看标准库、扩展库和模块的 API。\n",
    "\n",
    "每个 Python 模块和每个用户自己编写的模块都是 API 的一种实现，未被实现的 API 没有任何使用价值，如果没有客户端，实现的模块也没有意义。开发一种实现的目标是遵循某种契约。\n",
    "\n",
    "通过 API 将客户端代码和实现代码分离的思想，给我们替换新的实现或改进实现的自由。\n",
    "\n",
    "### 随机数\n",
    "\n",
    "`stdrandom` 模块包含基于不同概率分布产生随机数的函数，以及一个生成数组混排的函数。\n",
    "\n",
    "#### API 设计\n",
    "我们对于传递给 stdrandom 模块中函数的参数对象做出一定的假设，以此达到我们的设计目标：**清晰地表述客户端对 API 的需求，并将其与代码分离。**这种实践方法可避免修改代码，也可修改实现以获取更有效、更准确的结果。\n",
    "\n",
    "#### 单元测试（Unit testing）\n",
    "程序设计的最佳实践是至少包含一个基本**测试客户端**函数 `main()`，并且至少完成如下功能：\n",
    "- 运行所有的代码；\n",
    "- 保证代码运行正常；\n",
    "- 从命令行接收参数，以运行测试的灵活性。\n",
    "\n",
    "我们使用 `main()` 函数进行调试、测试、改进模块中的函数的实践方法称为“单元测试”。\n",
    "\n",
    "通常而言，如果库使用得越广泛，单元测试做得越详尽，就越能完善 `main()` 函数的功能。"
   ]
  },
  {
   "cell_type": "code",
   "execution_count": 11,
   "metadata": {
    "ExecuteTime": {
     "end_time": "2018-02-25T03:41:28.068023Z",
     "start_time": "2018-02-25T03:41:27.891553Z"
    },
    "scrolled": true
   },
   "outputs": [
    {
     "name": "stdout",
     "output_type": "stream",
     "text": [
      " 27 60.65914 False    41 9.01682  0 \n",
      " 55 46.88378  True    48 8.90171  0 \n",
      " 58 92.96468  True    52 9.12770  0 \n",
      " 79 64.41387 False    47 9.49241  0 \n",
      " 29 32.30299  True    45 8.77630  1 \n",
      " 56 56.83097 False    54 9.40042  1 \n",
      " 88 49.36358 False    58 9.17674  0 \n",
      " 24 86.17152  True    41 8.87098  1 \n",
      " 58 55.77126  True    46 9.07062  1 \n",
      " 96 67.34019 False    48 8.83406  1 \n"
     ]
    }
   ],
   "source": [
    "!python booksite/stdrandom.py 10"
   ]
  },
  {
   "cell_type": "markdown",
   "metadata": {},
   "source": [
    "编写测试客户端的一个有效方法是使用 数据可视化的客户端。"
   ]
  },
  {
   "cell_type": "code",
   "execution_count": 1,
   "metadata": {
    "ExecuteTime": {
     "end_time": "2018-02-25T03:49:02.170959Z",
     "start_time": "2018-02-25T03:48:20.628522Z"
    }
   },
   "outputs": [
    {
     "ename": "SystemExit",
     "evalue": "",
     "output_type": "error",
     "traceback": [
      "An exception has occurred, use %tb to see the full traceback.\n",
      "\u001b[1;31mSystemExit\u001b[0m\n"
     ]
    },
    {
     "name": "stderr",
     "output_type": "stream",
     "text": [
      "C:\\Anaconda3\\lib\\site-packages\\IPython\\core\\interactiveshell.py:2918: UserWarning: To exit: use 'exit', 'quit', or Ctrl-D.\n",
      "  warn(\"To exit: use 'exit', 'quit', or Ctrl-D.\", stacklevel=1)\n"
     ]
    }
   ],
   "source": [
    "import sys \n",
    "from booksite import stddraw, stdrandom\n",
    "\n",
    "trials = 1000000\n",
    "stddraw.setPenRadius(0.)\n",
    "for i in range(trials):\n",
    "    x = stdrandom.gaussian(0.5, 0.2)\n",
    "    y = stdrandom.gaussian(0.5, 0.2)\n",
    "    stddraw.point(x, y)\n",
    "stddraw.show()"
   ]
  },
  {
   "cell_type": "markdown",
   "metadata": {},
   "source": [
    "#### 压力测试（Stress testing）\n",
    "一种广泛使用的模块还应该接受**压力测试**。通过压力测试，可确保它不会意外失败，即使在客户不遵照契约，或做出一些不存在假设的情况下。通过逐行检查代码，推断在某些条件下是否会导致故障。任何想到的问题都必须考虑到，这些条件有时也称为**边界条件**（corner case）。\n",
    "\n",
    "### 迭代函数系统设计\n",
    "\n",
    "#### [Sierpinski triangle](http://mathworld.wolfram.com/SierpinskiSieve.html)"
   ]
  },
  {
   "cell_type": "code",
   "execution_count": 2,
   "metadata": {
    "ExecuteTime": {
     "end_time": "2018-02-25T04:06:04.566089Z",
     "start_time": "2018-02-25T04:04:48.020332Z"
    }
   },
   "outputs": [],
   "source": [
    "!python ifs.py 10000 < introcs-data/barnsley.txt"
   ]
  },
  {
   "cell_type": "code",
   "execution_count": 7,
   "metadata": {
    "ExecuteTime": {
     "end_time": "2018-02-25T04:08:43.044646Z",
     "start_time": "2018-02-25T04:08:38.436396Z"
    }
   },
   "outputs": [],
   "source": [
    "!python ifs.py 10000 < introcs-data/spiral.txt"
   ]
  },
  {
   "cell_type": "markdown",
   "metadata": {
    "ExecuteTime": {
     "end_time": "2018-02-25T04:15:14.321461Z",
     "start_time": "2018-02-25T04:15:14.310433Z"
    }
   },
   "source": [
    "#### 绘制图形"
   ]
  },
  {
   "cell_type": "code",
   "execution_count": 8,
   "metadata": {
    "ExecuteTime": {
     "end_time": "2018-02-25T04:14:07.695620Z",
     "start_time": "2018-02-25T04:14:07.436936Z"
    }
   },
   "outputs": [],
   "source": [
    "from booksite import stdstats"
   ]
  },
  {
   "cell_type": "code",
   "execution_count": 1,
   "metadata": {
    "ExecuteTime": {
     "end_time": "2018-02-25T04:55:39.042491Z",
     "start_time": "2018-02-25T04:55:35.227348Z"
    }
   },
   "outputs": [],
   "source": [
    "!python bernoulli.py 20 10000"
   ]
  },
  {
   "cell_type": "markdown",
   "metadata": {},
   "source": [
    "### 模块化程序设计\n",
    "\n",
    "当编写一个新程序以解决一个新的问题时，代码不是包含在一个文件中，而是把每个大任务分解为更小的易于管理的子任务，然后独立实现并调试解决各子任务的代码。在计算任务中，任何时候只要可以清晰地分离任务，则建议使用函数分离任务。然后在封装为模块以供客户端使用。\n",
    "\n",
    "为了描述一个模块程序中各模块之间的关系，我们可以绘制一个模块**依赖关系图**（dependency graph）。\n",
    "\n",
    "模块化程序设计的**优越性**：\n",
    "- 可编写合理规模或超大系统的程序；\n",
    "    - 不存在复杂到无法分解为小的子任务的大型任务。\n",
    "- 调试可限制在少量的代码范围；\n",
    "    - **尽可能使变量的作用范围局部化**，可以大大限制调试时需要考虑的可能性。\n",
    "- 可重用代码，而无须重复实现；\n",
    "- 维护（以及改进）代码会更容易。\n",
    "\n",
    "如何一个 `.py` 文件中没有使用任意全局代码，则才可以称其为**模块**。\n",
    "\n",
    "## [递归](https://introcs.cs.princeton.edu/python/23recursion/)\n",
    "\n",
    "函数自身调用自己的机制称为：递归（recursion）\n",
    "\n",
    "使用一个优雅的递归程序解决问题对每个程序员而言是一个令人满意的经验。递归远不只是一种编程技术，在许多环境中，它是描述自然界的有用方法。\n",
    "推崇递归的一个重要原因是：递归提供了一个直接的证明技术称为**数学归纳法**（mathematical induction）。\n",
    "\n",
    "### factorial function（阶乘函数）\n",
    "\n",
    "$n! = n \\times (n-1) \\times (n-2) \\times \\cdots \\times 2  \\times 1$"
   ]
  },
  {
   "cell_type": "code",
   "execution_count": 10,
   "metadata": {
    "ExecuteTime": {
     "end_time": "2018-02-25T08:37:50.457079Z",
     "start_time": "2018-02-25T08:37:50.454070Z"
    }
   },
   "outputs": [],
   "source": [
    "def factorial(n):\n",
    "    '''n 必须是整数'''\n",
    "    if n == 1: return 1\n",
    "    return n * factorial(n - 1)"
   ]
  },
  {
   "cell_type": "code",
   "execution_count": 11,
   "metadata": {
    "ExecuteTime": {
     "end_time": "2018-02-25T08:37:51.216096Z",
     "start_time": "2018-02-25T08:37:51.213088Z"
    }
   },
   "outputs": [
    {
     "data": {
      "text/plain": [
       "1"
      ]
     },
     "execution_count": 11,
     "metadata": {},
     "output_type": "execute_result"
    }
   ],
   "source": [
    "factorial(1)"
   ]
  },
  {
   "cell_type": "code",
   "execution_count": 12,
   "metadata": {
    "ExecuteTime": {
     "end_time": "2018-02-25T08:37:51.666292Z",
     "start_time": "2018-02-25T08:37:51.660275Z"
    }
   },
   "outputs": [
    {
     "data": {
      "text/plain": [
       "24"
      ]
     },
     "execution_count": 12,
     "metadata": {},
     "output_type": "execute_result"
    }
   ],
   "source": [
    "factorial(4)"
   ]
  },
  {
   "cell_type": "markdown",
   "metadata": {
    "ExecuteTime": {
     "end_time": "2018-02-25T09:17:28.237799Z",
     "start_time": "2018-02-25T09:17:28.231783Z"
    }
   },
   "source": [
    "### 欧几里得算法\n",
    "\n",
    "If $p > q$, the gcd of $p$ and $q$ is the same as the gcd of $q$ and $p % q$. "
   ]
  },
  {
   "cell_type": "code",
   "execution_count": 14,
   "metadata": {
    "ExecuteTime": {
     "end_time": "2018-02-25T09:18:53.703000Z",
     "start_time": "2018-02-25T09:18:53.697986Z"
    }
   },
   "outputs": [],
   "source": [
    "def gcd(p, q):\n",
    "    if q == 0: return p\n",
    "    return gcd(q, p % q)"
   ]
  },
  {
   "cell_type": "code",
   "execution_count": 18,
   "metadata": {
    "ExecuteTime": {
     "end_time": "2018-02-25T09:19:38.937252Z",
     "start_time": "2018-02-25T09:19:38.933240Z"
    }
   },
   "outputs": [
    {
     "data": {
      "text/plain": [
       "12"
      ]
     },
     "execution_count": 18,
     "metadata": {},
     "output_type": "execute_result"
    }
   ],
   "source": [
    "gcd(24, 300)"
   ]
  },
  {
   "cell_type": "code",
   "execution_count": 23,
   "metadata": {
    "ExecuteTime": {
     "end_time": "2018-02-25T09:21:54.712887Z",
     "start_time": "2018-02-25T09:21:54.503330Z"
    }
   },
   "outputs": [
    {
     "name": "stdout",
     "output_type": "stream",
     "text": [
      "24\n"
     ]
    }
   ],
   "source": [
    "!python euclid.py 1440 408"
   ]
  },
  {
   "cell_type": "markdown",
   "metadata": {},
   "source": [
    "### Towers of Hanoi （汉诺塔或河内塔）\n",
    "\n",
    "所谓**汉诺塔**问题，就是假设有 $3$ 个柱子和 $n$ 个圆盘，圆盘可套在圆柱上。圆盘大小各不相同，最初按从大到小的顺序依次排列在一个圆柱上，最大的圆盘（圆盘 $n$ ）在最底部，最小的圆盘在最顶部。要求按照下列规则把所有 $n$ 个圆盘移动到另一个圆柱上：\n",
    "- 一次只能移动一个圆盘；\n",
    "- 不能把大的圆盘放在小的圆盘之上。"
   ]
  },
  {
   "cell_type": "code",
   "execution_count": 30,
   "metadata": {
    "ExecuteTime": {
     "end_time": "2018-02-25T09:44:33.411054Z",
     "start_time": "2018-02-25T09:44:33.232580Z"
    }
   },
   "outputs": [
    {
     "name": "stdout",
     "output_type": "stream",
     "text": [
      "1 left\n",
      "2 right\n",
      "1 left\n",
      "3 left\n",
      "1 left\n",
      "2 right\n",
      "1 left\n"
     ]
    }
   ],
   "source": [
    "!python towersofhanoi.py 3"
   ]
  },
  {
   "cell_type": "markdown",
   "metadata": {},
   "source": [
    "为了更好地理解包括多个递归调用的模块化程序的运行过程，我们可以采用一种称为**函数调用树**的可视化方法。"
   ]
  },
  {
   "cell_type": "code",
   "execution_count": 32,
   "metadata": {
    "ExecuteTime": {
     "end_time": "2018-02-25T10:11:29.222430Z",
     "start_time": "2018-02-25T10:11:29.061002Z"
    }
   },
   "outputs": [
    {
     "name": "stdout",
     "output_type": "stream",
     "text": [
      "enter 1\n",
      "enter 2\n",
      "exit  1\n",
      "enter 3\n",
      "enter 1\n",
      "exit  2\n",
      "exit  1\n",
      "enter 4\n",
      "enter 1\n",
      "enter 2\n",
      "exit  1\n",
      "exit  3\n",
      "enter 1\n",
      "exit  2\n",
      "exit  1\n"
     ]
    }
   ],
   "source": [
    "!python beckett.py 4  # 格雷码"
   ]
  },
  {
   "cell_type": "code",
   "execution_count": 33,
   "metadata": {
    "ExecuteTime": {
     "end_time": "2018-02-25T10:12:53.705156Z",
     "start_time": "2018-02-25T10:12:40.963947Z"
    }
   },
   "outputs": [],
   "source": [
    "!python htree.py 3   # 递归图形"
   ]
  },
  {
   "cell_type": "code",
   "execution_count": 38,
   "metadata": {
    "ExecuteTime": {
     "end_time": "2018-02-25T10:15:25.808633Z",
     "start_time": "2018-02-25T10:15:20.330407Z"
    }
   },
   "outputs": [],
   "source": [
    "!python brownian.py .01  # 布朗桥"
   ]
  },
  {
   "cell_type": "code",
   "execution_count": 39,
   "metadata": {
    "ExecuteTime": {
     "end_time": "2018-02-26T00:07:11.680302Z",
     "start_time": "2018-02-26T00:07:11.674286Z"
    }
   },
   "outputs": [],
   "source": [
    "def harmonic(n):\n",
    "    if n == 1:return 1\n",
    "    return harmonic(n - 1) + 1 / n"
   ]
  },
  {
   "cell_type": "code",
   "execution_count": 40,
   "metadata": {
    "ExecuteTime": {
     "end_time": "2018-02-26T00:07:20.269134Z",
     "start_time": "2018-02-26T00:07:20.263119Z"
    }
   },
   "outputs": [
    {
     "data": {
      "text/plain": [
       "2.283333333333333"
      ]
     },
     "execution_count": 40,
     "metadata": {},
     "output_type": "execute_result"
    }
   ],
   "source": [
    "harmonic(5)"
   ]
  },
  {
   "cell_type": "markdown",
   "metadata": {},
   "source": [
    "### Pitfalls of Recursion（递归的陷阱）\n",
    "#### Missing base case（缺少基本情况）\n",
    "This recursive function is supposed to compute Harmonic numbers, but is missing a base case:\n",
    "```py\n",
    "def H(n):\n",
    "   return H(n-1) + 1.0/n;\n",
    "```\n",
    "\n",
    "If you call this function, it will repeatedly call itself and never return.\n",
    "\n",
    "#### No guarantee of convergence（不能保证收敛）\n",
    "Another common problem is to include within a recursive function a recursive call to solve a subproblem that is not smaller. For example, this recursive function will go into an infinite recursive loop if it is invoked with an argument n having any value other than $1$:\n",
    "```py\n",
    "def H(n):\n",
    "    if n == 1:\n",
    "        return 1.0\n",
    "    return H(n) + 1.0/n\n",
    "```\n",
    "\n",
    "#### Excessive space requirements（过量的内存需求）\n",
    "Python needs to keep track of each recursive call to implement the function abstraction as expected. If a function calls itself recursively an excessive number of times before returning, the space required by Python for this task may be prohibitive. For example, this recursive function correctly computes the nth harmonic number. However, we cannot use it for large $n$ because the recursive depth is proportional to $n$, and this creates a `StackOverflowError`.\n",
    "```py\n",
    "def H(n):\n",
    "    if n == 0:\n",
    "        return 0.0\n",
    "    return H(n-1) + 1.0/n\n",
    "```\n",
    "\n",
    "#### Excessive recomputation（过量重计算）\n",
    "The temptation to write a simple recursive program to solve a problem must always be tempered by the understanding that a simple program might require exponential time (unnecessarily), due to excessive recomputation. For example, the Fibonacci sequence：\n",
    "```py\n",
    "0 1 1 2 3 5 8 13 21 34 55 89 144 233 377 ...\n",
    "```\n",
    "is defined by the formula $Fn = Fn-1 + Fn-2$ for $n ≥ 2$ with $F0 = 0$ and $F1 = 1$.\n",
    "A novice programmer might implement this recursive function to compute numbers in the Fibonacci sequence:\n",
    "```py\n",
    "def fib(n):\n",
    "    if n == 0:\n",
    "        return 0\n",
    "    if n == 1:\n",
    "        return 1\n",
    "    return fib(n-1) + fib(n-2)\n",
    "```\n",
    "\n",
    "However, this program is spectacularly inefficient! For example, consider what the function does to compute $fib(7) = 13$. It first computes $fib(6) = 8$ and $fib(5) = 5$. To compute $fib(6)$, it recursively computes $fib(5) = 5$ again and $fib(4) = 3$. Things rapidly get worse because both times it computes $fib(5)$, it ignores the fact that it already computed $fib(4)$, and so forth. The number of times this program computes $fib(1)$ when computing $fib(n)$ is precisely $Fn$. The mistake of recomputation is compounded, exponentially. No imaginable computer will ever be able to do that many calculations.\n",
    "\n",
    "Incidentally, a systematic technique known as **memoization**（记忆） allows us to avoid this pitfall while still taking advantage of the compact recursive description of a computation. In memoization, **we maintain an array that keeps track of the values we have computed so that we can return those values and make recursive calls only for new values**. This technique is a form of **dynamic programming**（动态编程）, a well-studied technique for organizing computations that you will learn if you take courses in algorithms or operations research.\n",
    "\n",
    "## [ Case Study: Percolation（渗透原理）](https://introcs.cs.princeton.edu/python/24percolation/)\n",
    "\n",
    "We conclude our study of functions and modules by considering a case study of developing a program to solve an interesting scientific problem: a **Monte Carlo** simulation to study a natural model known as percolation.\n",
    "\n"
   ]
  },
  {
   "cell_type": "code",
   "execution_count": null,
   "metadata": {},
   "outputs": [],
   "source": []
  }
 ],
 "metadata": {
  "kernelspec": {
   "display_name": "Python 3",
   "language": "python",
   "name": "python3"
  },
  "language_info": {
   "codemirror_mode": {
    "name": "ipython",
    "version": 3
   },
   "file_extension": ".py",
   "mimetype": "text/x-python",
   "name": "python",
   "nbconvert_exporter": "python",
   "pygments_lexer": "ipython3",
   "version": "3.6.3"
  },
  "toc": {
   "nav_menu": {},
   "number_sections": true,
   "sideBar": true,
   "skip_h1_title": false,
   "title_cell": "Table of Contents",
   "title_sidebar": "Contents",
   "toc_cell": false,
   "toc_position": {
    "height": "calc(100% - 180px)",
    "left": "10px",
    "top": "150px",
    "width": "314px"
   },
   "toc_section_display": true,
   "toc_window_display": true
  },
  "varInspector": {
   "cols": {
    "lenName": 16,
    "lenType": 16,
    "lenVar": 40
   },
   "kernels_config": {
    "python": {
     "delete_cmd_postfix": "",
     "delete_cmd_prefix": "del ",
     "library": "var_list.py",
     "varRefreshCmd": "print(var_dic_list())"
    },
    "r": {
     "delete_cmd_postfix": ") ",
     "delete_cmd_prefix": "rm(",
     "library": "var_list.r",
     "varRefreshCmd": "cat(var_dic_list()) "
    }
   },
   "types_to_exclude": [
    "module",
    "function",
    "builtin_function_or_method",
    "instance",
    "_Feature"
   ],
   "window_display": false
  }
 },
 "nbformat": 4,
 "nbformat_minor": 2
}
