{
 "cells": [
  {
   "cell_type": "markdown",
   "metadata": {},
   "source": [
    "# 面向对象的程序设计\n",
    "\n",
    "**抽象**是某种事物的简化描述，抓住事物本质的同时忽略其他细节。\n",
    "\n",
    "程序设计理念：**在一个计算中，当数据和相关的计算任务可以清楚的分开时，则必须分开。**\n",
    "\n",
    "**方法**是与特定对象（即与对象的数据类型）关联的函数。也就是说，方法对应于数据类型的运算操作。\n",
    "\n",
    "<button class='btn btn-default btn-xs'><i class=\"fa fa-play icon-play\"></i></button>经验之谈：\n",
    "<br>\n",
    "<div class=\"alert alert-success\">\n",
    "使用一个数据类型时无须理解其具体实现\n",
    "</div>\n",
    "\n",
    "如果一个运算符（或函数）可用于多个数据类型，则称为具有**多态性**（polymorphic）。\n",
    "## [使用数据类型](https://introcs.cs.princeton.edu/python/31datatype/)\n",
    "\n",
    "颜色是由电磁波辐射引起的眼睛的感觉。\n",
    "- Luminance（亮度）. The quality of the images on modern displays such as LCD monitors, LED TVs, and cellphone screens depends on an understanding of a color property known as monochrome luminance, or effective brightness. A standard formula for luminance is derived from the eye's sensitivity to red, green, and blue. It is a linear combination of the three intensities: if a color's red, green, and blue values are r, g, and b, respectively, then its luminance is defined by this formula:$Y = 0.299r + 0.587g + 0.114b$ \n",
    "\n",
    "- Grayscale（灰度）. The RGB color model has the property that when all three color intensities are the same, the resulting color is on a grayscale that ranges from black (all 0s) to white (all 255s). To print a color photograph in a black-and-white newspaper (or a book), we need a function to convert from color to grayscale. A simple way to convert a color to grayscale is to replace the color with a new one whose red, green, and blue values equal its monochrome luminance.\n",
    "\n",
    "\n",
    "- Color compatibility（颜色兼容性）. The luminance value is also crucial in determining whether two colors are compatible, in the sense that printing text in one of the colors on a background in the other color will be readable. A widely used rule of thumb is that the difference between the luminance of the foreground and background colors should be at least 128. For example, black text on a white background has a luminance difference of 255, but black text on a (book) blue background has a luminance difference of only 74.\n",
    "\n",
    "### Digital Image Processing \n",
    "We have been using `stddraw` to plot geometric objects (points, lines, circles, squares) in a window on the computer screen. The basic abstraction for computer displays is the same one that is used for digital photographs and is very simple: A digital image is a rectangular grid of pixels (picture elements), where the color of each pixel is individually defined. Digital images are sometimes referred to as raster or bitmapped images.\n",
    "\n",
    "Our Picture data type, defined in the module `picture.py`, implements the digital image abstraction. \n",
    "\n",
    "数字图像是一个像素（图片元素）的矩形网格，其中每个像素单独定义一种颜色。"
   ]
  },
  {
   "cell_type": "code",
   "execution_count": 16,
   "metadata": {
    "ExecuteTime": {
     "end_time": "2018-03-21T06:05:40.868000Z",
     "start_time": "2018-03-21T06:05:40.864000Z"
    }
   },
   "outputs": [],
   "source": [
    "import sys\n",
    "sys.path.append(r'D:\\XinetStudio\\XinetModel\\Python学习\\booksite')"
   ]
  },
  {
   "cell_type": "code",
   "execution_count": 12,
   "metadata": {
    "ExecuteTime": {
     "end_time": "2018-03-21T06:02:36.155586Z",
     "start_time": "2018-03-21T06:02:10.706232Z"
    }
   },
   "outputs": [
    {
     "name": "stderr",
     "output_type": "stream",
     "text": [
      "Traceback (most recent call last):\n",
      "  File \"D:\\XinetStudio\\XinetModel\\Python学习\\booksite\\stddraw.py\", line 16, in <module>\n",
      "    import booksite.color as color\n",
      "ModuleNotFoundError: No module named 'booksite'\n"
     ]
    }
   ],
   "source": [
    "!python fade.py introcs-data/mandrill.jpg introcs-data/darwin.jpg 2"
   ]
  },
  {
   "cell_type": "code",
   "execution_count": 17,
   "metadata": {
    "ExecuteTime": {
     "end_time": "2018-03-21T06:05:42.989999Z",
     "start_time": "2018-03-21T06:05:42.504995Z"
    }
   },
   "outputs": [
    {
     "name": "stderr",
     "output_type": "stream",
     "text": [
      "Traceback (most recent call last):\n",
      "  File \"potential.py\", line 22, in <module>\n",
      "    n = stdio.readInt()\n",
      "  File \"D:\\XinetStudio\\XinetModel\\Python学习\\booksite\\stdio.py\", line 134, in readInt\n",
      "    s = _readRegExp(r'[-+]?(0[xX][\\dA-Fa-f]+|0[0-7]*|\\d+)')\n",
      "  File \"D:\\XinetStudio\\XinetModel\\Python学习\\booksite\\stdio.py\", line 95, in _readRegExp\n",
      "    if isEmpty():\n",
      "  File \"D:\\XinetStudio\\XinetModel\\Python学习\\booksite\\stdio.py\", line 114, in isEmpty\n",
      "    line = sys.stdin.readline()\n",
      "OSError: [Errno 9] Bad file descriptor\n"
     ]
    }
   ],
   "source": [
    "!python potential.py < introcs-data/charges.txt"
   ]
  },
  {
   "cell_type": "code",
   "execution_count": 19,
   "metadata": {
    "ExecuteTime": {
     "end_time": "2018-03-21T06:16:03.710324Z",
     "start_time": "2018-03-21T06:16:03.706324Z"
    }
   },
   "outputs": [],
   "source": [
    "z = 1 + 5j"
   ]
  },
  {
   "cell_type": "code",
   "execution_count": 21,
   "metadata": {
    "ExecuteTime": {
     "end_time": "2018-03-21T06:16:16.667377Z",
     "start_time": "2018-03-21T06:16:16.653390Z"
    }
   },
   "outputs": [
    {
     "data": {
      "text/plain": [
       "5.0"
      ]
     },
     "execution_count": 21,
     "metadata": {},
     "output_type": "execute_result"
    }
   ],
   "source": [
    "z.imag"
   ]
  },
  {
   "cell_type": "code",
   "execution_count": 22,
   "metadata": {
    "ExecuteTime": {
     "end_time": "2018-03-21T06:16:31.786644Z",
     "start_time": "2018-03-21T06:16:31.780642Z"
    }
   },
   "outputs": [
    {
     "data": {
      "text/plain": [
       "1.0"
      ]
     },
     "execution_count": 22,
     "metadata": {},
     "output_type": "execute_result"
    }
   ],
   "source": [
    "z.real"
   ]
  },
  {
   "cell_type": "code",
   "execution_count": 23,
   "metadata": {
    "ExecuteTime": {
     "end_time": "2018-03-21T06:16:37.286641Z",
     "start_time": "2018-03-21T06:16:37.281641Z"
    }
   },
   "outputs": [
    {
     "data": {
      "text/plain": [
       "5.0990195135927845"
      ]
     },
     "execution_count": 23,
     "metadata": {},
     "output_type": "execute_result"
    }
   ],
   "source": [
    "abs(z)"
   ]
  },
  {
   "cell_type": "code",
   "execution_count": 24,
   "metadata": {
    "ExecuteTime": {
     "end_time": "2018-03-21T06:16:45.923766Z",
     "start_time": "2018-03-21T06:16:45.918770Z"
    }
   },
   "outputs": [
    {
     "data": {
      "text/plain": [
       "'(1+5j)'"
      ]
     },
     "execution_count": 24,
     "metadata": {},
     "output_type": "execute_result"
    }
   ],
   "source": [
    "str(z)"
   ]
  },
  {
   "cell_type": "code",
   "execution_count": 25,
   "metadata": {
    "ExecuteTime": {
     "end_time": "2018-03-21T06:17:09.406105Z",
     "start_time": "2018-03-21T06:17:09.401105Z"
    }
   },
   "outputs": [
    {
     "data": {
      "text/plain": [
       "(3+4j)"
      ]
     },
     "execution_count": 25,
     "metadata": {},
     "output_type": "execute_result"
    }
   ],
   "source": [
    "complex(3, 4)"
   ]
  },
  {
   "cell_type": "code",
   "execution_count": 31,
   "metadata": {
    "ExecuteTime": {
     "end_time": "2018-03-21T06:22:34.934119Z",
     "start_time": "2018-03-21T06:21:34.496147Z"
    }
   },
   "outputs": [
    {
     "name": "stderr",
     "output_type": "stream",
     "text": [
      "Traceback (most recent call last):\n",
      "  File \"D:\\XinetStudio\\XinetModel\\Python学习\\booksite\\stddraw.py\", line 16, in <module>\n",
      "    import booksite.color as color\n",
      "ModuleNotFoundError: No module named 'booksite'\n"
     ]
    }
   ],
   "source": [
    "!python mandelbrot.py 512 .1015 -.633 .001"
   ]
  },
  {
   "cell_type": "markdown",
   "metadata": {},
   "source": [
    "# 栈与队列\n",
    "\n",
    "- 队列——先进先出（first-in first-out, FIFO）\n",
    "- 栈——后进先出（LIFO）"
   ]
  },
  {
   "cell_type": "code",
   "execution_count": 5,
   "metadata": {
    "ExecuteTime": {
     "end_time": "2018-03-21T09:10:29.588419Z",
     "start_time": "2018-03-21T09:10:29.216415Z"
    }
   },
   "outputs": [],
   "source": [
    "import sys\n",
    "sys.path.append(r'D:\\XinetStudio\\XinetModel\\Python学习\\booksite')\n",
    "\n",
    "import stdio"
   ]
  },
  {
   "cell_type": "code",
   "execution_count": 7,
   "metadata": {
    "ExecuteTime": {
     "end_time": "2018-03-21T09:13:25.146246Z",
     "start_time": "2018-03-21T09:13:25.133243Z"
    }
   },
   "outputs": [],
   "source": [
    "class Stack(object):\n",
    "    def _init__(self):\n",
    "        self._a = []\n",
    "\n",
    "    def isEmpty(self):\n",
    "        return len(self._a) == 0\n",
    "\n",
    "    def __len__(self):\n",
    "        return len(self._a)\n",
    "\n",
    "    def push(self, item):\n",
    "        self._a += [item]\n",
    "\n",
    "    def pop(self):\n",
    "        return self_.a.pop()"
   ]
  },
  {
   "cell_type": "code",
   "execution_count": 8,
   "metadata": {
    "ExecuteTime": {
     "end_time": "2018-03-21T09:13:38.060247Z",
     "start_time": "2018-03-21T09:13:38.058243Z"
    }
   },
   "outputs": [],
   "source": [
    "stack = Stack()"
   ]
  },
  {
   "cell_type": "markdown",
   "metadata": {},
   "source": [
    "## [链表：一种递归数据类型](https://introcs.cs.princeton.edu/python/43stack/)\n",
    "\n",
    "<div class=\"alert alert-success\">\n",
    "链表要么为空（null）,要么是一个指向节点（node）的引用，而节点包含指向链表的引用。\n",
    "</div>\n",
    "\n",
    "类型 Node 的一个对象包含两个实例变量：`item`（指向一个项目的引用）和 `next`（指向另外一个 Node 对象的引用）"
   ]
  },
  {
   "cell_type": "code",
   "execution_count": 9,
   "metadata": {
    "ExecuteTime": {
     "end_time": "2018-03-21T09:56:12.330426Z",
     "start_time": "2018-03-21T09:56:12.325449Z"
    }
   },
   "outputs": [],
   "source": [
    "class Node(object):\n",
    "    def __init__(self, item, next):\n",
    "        self.item = item\n",
    "        self.next = next"
   ]
  },
  {
   "cell_type": "markdown",
   "metadata": {},
   "source": [
    "下面实现 $3$ 个链表："
   ]
  },
  {
   "cell_type": "code",
   "execution_count": 10,
   "metadata": {
    "ExecuteTime": {
     "end_time": "2018-03-21T10:02:31.702040Z",
     "start_time": "2018-03-21T10:02:31.693039Z"
    }
   },
   "outputs": [],
   "source": [
    "third  = Node('or', None)\n",
    "second = Node('be', third)\n",
    "first  = Node('to', second)"
   ]
  },
  {
   "cell_type": "code",
   "execution_count": null,
   "metadata": {},
   "outputs": [],
   "source": []
  }
 ],
 "metadata": {
  "kernelspec": {
   "display_name": "Python 3",
   "language": "python",
   "name": "python3"
  },
  "language_info": {
   "codemirror_mode": {
    "name": "ipython",
    "version": 3
   },
   "file_extension": ".py",
   "mimetype": "text/x-python",
   "name": "python",
   "nbconvert_exporter": "python",
   "pygments_lexer": "ipython3",
   "version": "3.6.3"
  },
  "toc": {
   "nav_menu": {},
   "number_sections": true,
   "sideBar": true,
   "skip_h1_title": false,
   "title_cell": "Table of Contents",
   "title_sidebar": "Contents",
   "toc_cell": false,
   "toc_position": {
    "height": "calc(100% - 180px)",
    "left": "10px",
    "top": "150px",
    "width": "297px"
   },
   "toc_section_display": true,
   "toc_window_display": true
  },
  "varInspector": {
   "cols": {
    "lenName": 16,
    "lenType": 16,
    "lenVar": 40
   },
   "kernels_config": {
    "python": {
     "delete_cmd_postfix": "",
     "delete_cmd_prefix": "del ",
     "library": "var_list.py",
     "varRefreshCmd": "print(var_dic_list())"
    },
    "r": {
     "delete_cmd_postfix": ") ",
     "delete_cmd_prefix": "rm(",
     "library": "var_list.r",
     "varRefreshCmd": "cat(var_dic_list()) "
    }
   },
   "types_to_exclude": [
    "module",
    "function",
    "builtin_function_or_method",
    "instance",
    "_Feature"
   ],
   "window_display": false
  }
 },
 "nbformat": 4,
 "nbformat_minor": 2
}
