{
 "cells": [
  {
   "cell_type": "markdown",
   "metadata": {},
   "source": [
    "参考资料：[【笔记】《程序设计导论Python语言实践》](https://www.jianshu.com/p/77d8b0888b12)\n",
    "\n",
    "教学官网：http://introcs.cs.princeton.edu/python\n",
    "\n",
    "《程序设计导论Python语言实践》 的主要目标是通过提供经验和必要的基本工具使得学生更加有效的进行计算。其方法是像学生灌输这样的理念：编写\n",
    "程序是一种自然而然、富有成就感和充满创造性的体验。这本书是围绕四阶段的学习编程:\n",
    "- 第 1 章: [编程元素](https://introcs.cs.princeton.edu/python/10elements/)引入变量;赋值语句;内置的数据类型;条件和循环;数组和输入/输出, 包括图形和声音。\n",
    "- 第 2 章: [函数和模块](https://introcs.cs.princeton.edu/python/20functions/)引入模块化编程。我们强调将程序划分为可以独立调试、维护和重用的组件的基本思想。\n",
    "- 第 3 章: [面向对象的编程](https://introcs.cs.princeton.edu/python/30oop/)引入数据抽象。我们强调数据类型的概念及其使用 Python 的类机制实现。\n",
    "- 第 4 章: [算法和数据结构](https://introcs.cs.princeton.edu/python/40algorithms/)引入了用于排序和搜索的经典算法, 以及基本数据结构, 包括堆栈、队列和符号表。\n",
    "- [附录](https://introcs.cs.princeton.edu/python/appendix/)提供补充材料和 Python 摘要。\n",
    "\n",
    "\n",
    "## Booksite 模块 \n",
    "下面是一个 booksite 模块的表"
   ]
  },
  {
   "cell_type": "code",
   "execution_count": 1,
   "metadata": {
    "ExecuteTime": {
     "end_time": "2018-03-20T12:24:14.202564Z",
     "start_time": "2018-03-20T12:24:14.197574Z"
    }
   },
   "outputs": [],
   "source": [
    "import sys \n",
    "sys.path.append('/XinetStudio/XinetModel/Python学习')"
   ]
  },
  {
   "cell_type": "code",
   "execution_count": 3,
   "metadata": {
    "ExecuteTime": {
     "end_time": "2018-03-20T12:25:01.602107Z",
     "start_time": "2018-03-20T12:24:59.320568Z"
    },
    "scrolled": true
   },
   "outputs": [],
   "source": [
    "from booksite import stdio, stddraw, stdaudio, stdrandom, stdarray, stdstats, color, picture, instream, outstream"
   ]
  },
  {
   "cell_type": "markdown",
   "metadata": {},
   "source": [
    "模块|描述\n",
    ":-|:-\n",
    "`stdio`|读取/写入数字和文本的函数, 从`/`到 `stdin` 和标准输出\n",
    "`stddraw`|绘制几何形状的函数\n",
    "`stdaudio`|创建、播放和操作声音的函数\n",
    "`stdrandom`|与随机数相关的函数\n",
    "`stdarray`|创建、读取和写入1D 和2D 数组的函数\n",
    "`stdstats`|计算和绘制统计信息的函数\n",
    "`color`|颜色的数据类型\n",
    "`picture`|处理数字图像的数据类型\n",
    "`instream`|从文件和 url 读取数字和文本的数据类型\n",
    "`outstream`|将数字和文本写入文件的数据类型"
   ]
  },
  {
   "cell_type": "markdown",
   "metadata": {
    "ExecuteTime": {
     "end_time": "2018-02-16T09:02:31.826889Z",
     "start_time": "2018-02-16T09:02:31.823880Z"
    }
   },
   "source": [
    "# 程序设计的基本元素"
   ]
  },
  {
   "cell_type": "code",
   "execution_count": 5,
   "metadata": {
    "ExecuteTime": {
     "end_time": "2018-03-20T12:33:46.988691Z",
     "start_time": "2018-03-20T12:33:46.756200Z"
    }
   },
   "outputs": [
    {
     "name": "stdout",
     "output_type": "stream",
     "text": [
      "Hello, World\n",
      "Hello, World\n",
      "Hello, World\n",
      "Hello, World\n",
      "Hello, World\n",
      "Hello, World\n",
      "Hello, World\n",
      "Hello, World\n",
      "Hello, World\n",
      "Hello, World\n"
     ]
    }
   ],
   "source": [
    "!python helloworld.py"
   ]
  },
  {
   "cell_type": "code",
   "execution_count": 6,
   "metadata": {
    "ExecuteTime": {
     "end_time": "2018-03-20T12:33:48.465368Z",
     "start_time": "2018-03-20T12:33:48.294369Z"
    }
   },
   "outputs": [
    {
     "name": "stdout",
     "output_type": "stream",
     "text": [
      "Hi, Alice. How are you?\n"
     ]
    }
   ],
   "source": [
    "!python useargument.py  Alice"
   ]
  },
  {
   "cell_type": "markdown",
   "metadata": {},
   "source": [
    "在 python 编译程序时产生的错误，显示为：`SyntaxError`"
   ]
  },
  {
   "cell_type": "code",
   "execution_count": 7,
   "metadata": {
    "ExecuteTime": {
     "end_time": "2018-03-20T12:33:50.152178Z",
     "start_time": "2018-03-20T12:33:50.077673Z"
    }
   },
   "outputs": [
    {
     "name": "stdout",
     "output_type": "stream",
     "text": [
      "Hi, -f. How are you?\n"
     ]
    }
   ],
   "source": [
    "import useargument"
   ]
  },
  {
   "cell_type": "code",
   "execution_count": 8,
   "metadata": {
    "ExecuteTime": {
     "end_time": "2018-03-20T12:33:58.424474Z",
     "start_time": "2018-03-20T12:33:58.420988Z"
    }
   },
   "outputs": [],
   "source": [
    "from booksite import stdio"
   ]
  },
  {
   "cell_type": "code",
   "execution_count": 9,
   "metadata": {
    "ExecuteTime": {
     "end_time": "2018-03-20T12:33:59.187130Z",
     "start_time": "2018-03-20T12:33:59.183627Z"
    }
   },
   "outputs": [],
   "source": [
    "import sys"
   ]
  },
  {
   "cell_type": "code",
   "execution_count": 10,
   "metadata": {
    "ExecuteTime": {
     "end_time": "2018-03-20T12:34:00.774688Z",
     "start_time": "2018-03-20T12:34:00.762687Z"
    }
   },
   "outputs": [
    {
     "data": {
      "text/plain": [
       "'-f'"
      ]
     },
     "execution_count": 10,
     "metadata": {},
     "output_type": "execute_result"
    }
   ],
   "source": [
    "sys.argv[1]"
   ]
  },
  {
   "cell_type": "code",
   "execution_count": 9,
   "metadata": {
    "ExecuteTime": {
     "end_time": "2018-02-20T03:24:34.663624Z",
     "start_time": "2018-02-20T03:24:34.611988Z"
    }
   },
   "outputs": [],
   "source": [
    "useargument??"
   ]
  },
  {
   "cell_type": "code",
   "execution_count": 11,
   "metadata": {
    "ExecuteTime": {
     "end_time": "2018-03-20T12:34:09.584158Z",
     "start_time": "2018-03-20T12:34:09.574658Z"
    },
    "scrolled": true
   },
   "outputs": [
    {
     "name": "stdout",
     "output_type": "stream",
     "text": [
      "Hi,-f. How are you?\n"
     ]
    }
   ],
   "source": [
    "stdio.write('Hi,')\n",
    "stdio.write(sys.argv[1])\n",
    "stdio.writeln('. How are you?') # 换行"
   ]
  },
  {
   "cell_type": "markdown",
   "metadata": {},
   "source": [
    "使用 `;` 可在一行书写并分隔多条语句，但是不建议使用此方法。\n",
    "\n",
    "## 内置数据类型\n",
    "- `int`(整数)\n",
    "- `float`(浮点数)\n",
    "- `bool`(逻辑真和假：布尔值)\n",
    "- `str`(字符系列)"
   ]
  },
  {
   "cell_type": "code",
   "execution_count": 11,
   "metadata": {
    "ExecuteTime": {
     "end_time": "2018-02-20T03:24:34.868220Z",
     "start_time": "2018-02-20T03:24:34.674652Z"
    }
   },
   "outputs": [
    {
     "name": "stdout",
     "output_type": "stream",
     "text": [
      "1\n",
      "1 2 1\n",
      "1 2 1 3 1 2 1\n",
      "1 2 1 3 1 2 1 4 1 2 1 3 1 2 1\n"
     ]
    }
   ],
   "source": [
    "!python ruler.py"
   ]
  },
  {
   "cell_type": "code",
   "execution_count": 12,
   "metadata": {
    "ExecuteTime": {
     "end_time": "2018-02-20T03:24:35.039204Z",
     "start_time": "2018-02-20T03:24:34.870756Z"
    },
    "scrolled": true
   },
   "outputs": [
    {
     "name": "stdout",
     "output_type": "stream",
     "text": [
      "12 +  5 = 17\n",
      "12 -  5 = 7\n",
      "12 *  5 = 60\n",
      "12 // 5 = 2\n",
      "12 %  5 = 2\n",
      "12 ** 5 = 248832\n"
     ]
    }
   ],
   "source": [
    "!python intops.py 12 5"
   ]
  },
  {
   "cell_type": "code",
   "execution_count": 13,
   "metadata": {
    "ExecuteTime": {
     "end_time": "2018-02-20T03:24:35.206146Z",
     "start_time": "2018-02-20T03:24:35.040706Z"
    }
   },
   "outputs": [
    {
     "name": "stdout",
     "output_type": "stream",
     "text": [
      "12.0 +  5.0 = 17.0\n",
      "12.0 -  5.0 = 7.0\n",
      "12.0 *  5.0 = 60.0\n",
      "12.0 /  5.0 = 2.4\n",
      "12.0 ** 5.0 = 248832.0\n"
     ]
    }
   ],
   "source": [
    "!python floatops.py 12 5"
   ]
  },
  {
   "cell_type": "code",
   "execution_count": 14,
   "metadata": {
    "ExecuteTime": {
     "end_time": "2018-02-20T03:24:35.411693Z",
     "start_time": "2018-02-20T03:24:35.207650Z"
    }
   },
   "outputs": [
    {
     "name": "stdout",
     "output_type": "stream",
     "text": [
      "2.0\n",
      "1.0\n"
     ]
    }
   ],
   "source": [
    "!python quadratic.py -3.0 2.0  # x^2 + bx + c = 0"
   ]
  },
  {
   "cell_type": "code",
   "execution_count": 15,
   "metadata": {
    "ExecuteTime": {
     "end_time": "2018-02-20T03:24:35.573122Z",
     "start_time": "2018-02-20T03:24:35.413698Z"
    }
   },
   "outputs": [
    {
     "name": "stdout",
     "output_type": "stream",
     "text": [
      "False\n"
     ]
    }
   ],
   "source": [
    "!python leapyear.py 2018  # 是闰年？"
   ]
  },
  {
   "cell_type": "markdown",
   "metadata": {},
   "source": [
    "### 相关术语\n",
    "\n",
    "#### **Literals** (字面量)：指示 Python 基于指定值创建一个对象的指令\n",
    "A literal is a Python-code representation of a data-type value. It creates an object with the specified value.\n",
    "- **字面量**用于在 Python 代码中直接表示数据类型的值。例如，数字序列 `1234`、`99` 表示 `int` 数据类型的值。\n",
    "    \n",
    "#### **Operators** (运算符)\n",
    "An operator is a Python-code representation of a data-type operation. For example, Python uses `+` and `*` to represent addition and multiplication for integers and floating-point numbers; Python uses `and`, `or`, and `not` to represent boolean operations; and so forth.\n",
    "- 运算符（或称操作符）用于在 Python 代码中直接表示数据类型的运算操作。\n",
    "    \n",
    "#### **Identifiers**（标识符）\n",
    "An identifier is a Python-code representation of a name. Each identifier is a sequence of letters, digits, and underscores, the first of which is not a digit. The following **keywords** are reserved and you cannot use them as identifiers:\n",
    "```python\n",
    "False      class      finally    is         return\n",
    "None       continue   for        lambda     try\n",
    "True       def        from       nonlocal   while\n",
    "and        del        global     not        with\n",
    "as         elif       if         or         yield\n",
    "assert     else       import     pass\n",
    "break      except     in         raise\n",
    "```\n",
    "- **标识符**用于在 python 代码中表示名称。每个标识符是由**字母**、**数字**和**下划线**组成的字符系列，且不能以数字开始。\n",
    "\n",
    "#### Variables （变量）：对象引用的名称\n",
    "A variable is a name for an object reference（引用）. We use variables to keep track of changing values as a computation unfolds. We use diagrams like the one at right to show the binding of a variable to an object.\n",
    "\n",
    "**变量**是对象引用的名称，与数据类型值相关。我们使用变量来跟踪计算导致的值的变化。\n",
    "\n",
    "常见的命名规范：小写字母开头，后跟若干小写字母、大写字母和数字；多个单词构成的变量名后续单词首字母大写。\n",
    "\n",
    "#### Constant variable（常量）\n",
    "\n",
    "常量用于表示程序运行过程（或程序的多次运行）中数据类型的值保持不变。\n",
    "\n",
    "常见的命名规范：大写字母开头，后跟大写字母、数字与下划线。\n",
    "\n",
    "#### Expressions（表达式）：指示 Python 执行指定操作并基于表达式的结果值创建一个对象的指令\n",
    "An expression is a combination of literals, variables, and operators that Python evaluates to produce an object. Each operand can be any expression, perhaps within parentheses. For example, we can compose expressions like `4 * (x - 3)` or `5 * x - 6` and Python will understand what we mean.\n",
    "\n",
    "#### Operator precedence（运算符优先级）\n",
    "\n",
    "An expression is shorthand for a sequence of operations. Python's precedence rules specify the order in which the operations should be applied. For arithmetic operations, multiplication and division are performed before addition and subtraction, so that `a - b * c` and `a - (b * c)` represent the same sequence of operations. When arithmetic operators have the same precedence, they are left associative, which means that `a - b - c` and `(a - b) - c` represent the same sequence of operations. You can use parentheses to override the rules, so you can write `a - (b - c)` if that is what you want. For full details see Appendix A: [Operator Precedence in Python](https://introcs.cs.princeton.edu/python/appendix_precedence/).\n",
    "\n",
    "算术运算符 `>` 比较运算符 `>` 布尔运算符\n",
    "\n",
    "#### Assignment statements（赋值语句）：指示 python 把 `=` 运算符左边的变量绑定到其右侧表达式的求值结果对象的指令\n",
    "An assignment statement is a directive to Python to bind the variable on the left side of the `=` operator to the object produced by evaluating the expression on the right side. For example, when we write `c = a + b`, we are expressing this action: \"associate the variable `c` with the sum of the values associated with the variables `a` and `b`.\"\n",
    "\n",
    "**赋值语句**定义了一个标识符为一个变量且将此变量与一个数据类型的值关联起来。\n",
    "\n",
    "#### Informal trace（非正式跟踪）\n",
    "An effective way to keep track of the values associated with variables is to use a table like the one at right, with one line giving the values after each statement has been executed. Such a table is called a trace.\n",
    "\n",
    "|`a`|`b`|`c`\n",
    ":-|:-|:-|:-\n",
    "`a = 1234`|`1234`\n",
    "`b = 99`|`1234`|`99`|\n",
    "`c = a + b`|`1234`|`99`|`1333`\n",
    "\n",
    "\n",
    "#### Object（对象）\n",
    "\n",
    "Objects. All data values in a Python program are represented by objects and relationships among objects. An object is an in-computer-memory representation of a value from a particular data type. Each object is characterized by its identity, type, and value.\n",
    "\n",
    "在 Python 中，所有的数据都表示为对象及对象之间的关系。python 对象是特定数据类型的值在内存中的表现方式。每个对象由其**标志**（identity）、**类型**（type）和**值**（value）标识。\n",
    "\n",
    "- The identity uniquely identifies an object. You should think of it as the location in the computer's memory (or memory address) where the object is stored. 标志用于唯一标识一个对象，可以看作对象在计算机内存（或地址内存）中的位置。\n",
    "- The type of an object completely specifies its behavior — the set of values it might represent and the set of operations that can be performed on it. 类型用于限制对象的行为——对象所表示的取值范围以及允许执行的操作集合。\n",
    "- The value of an object is the data-type value that it represents.值用于表示对象数据类型的值。\n",
    "\n",
    "*Each object stores one value*; for example, an object of type `int` can store the value `1234` or the value `99` or the value `1333`. \n",
    "\n",
    "*Different objects may store the same value*. For example, one object of type str might store the value `'hello'`, and another object of type str also might store the same value `'hello'`.\n",
    "\n",
    "*We can apply to an object any of the operations defined by its type (and only those operations)*. For example, we can multiply two int objects but not two str objects.\n",
    "\n",
    "#### Object references（对象引用）\n",
    "An object reference is nothing more than a concrete representation of the object's identity (the memory address where the object is stored). Python programs use object references either to access the object's value or to manipulate the object references themselves.\n",
    "\n",
    "**对象引用**是指对象标志的具体表示，即存储对象的内存地址。Python 程序使用对象引用访问对象的值，也可以直接操作对象引用本身。\n",
    "\n",
    "#### Object-level trace（对象级别的跟踪）\n",
    "For a more complete understanding, we sometimes keep track of objects and references in traces. The object-level trace at right illustrates the full effect of our three assignment statements: \n",
    "- The statement `a = 1234` creates an int object whose value is `1234`; it then binds the variable a to this new int object.\n",
    "- The statement `b = 99` creates an int object whose value is `99`; it then binds the variable b to this new int object.\n",
    "- The statement `c = a + b` creates the int object whose value is `1333` as the sum of the value of the int object bound to `a` and the value of the int object bound to `b`; it then binds the variable `c` to the new int object.\n",
    "\n",
    "Python 负责管理内存资源：当一个程序不再需要访问一个对象时，系统会自动回收存储该对象的内存空间。"
   ]
  },
  {
   "cell_type": "code",
   "execution_count": 12,
   "metadata": {
    "ExecuteTime": {
     "end_time": "2018-03-20T12:44:48.540706Z",
     "start_time": "2018-03-20T12:44:48.534205Z"
    }
   },
   "outputs": [
    {
     "data": {
      "text/plain": [
       "False"
      ]
     },
     "execution_count": 12,
     "metadata": {},
     "output_type": "execute_result"
    }
   ],
   "source": [
    "a = 100\n",
    "before = id(a)\n",
    "a = a + 1\n",
    "id(a) == before"
   ]
  },
  {
   "cell_type": "code",
   "execution_count": 13,
   "metadata": {
    "ExecuteTime": {
     "end_time": "2018-03-20T12:45:15.728980Z",
     "start_time": "2018-03-20T12:45:15.723486Z"
    },
    "scrolled": true
   },
   "outputs": [
    {
     "data": {
      "text/plain": [
       "False"
      ]
     },
     "execution_count": 13,
     "metadata": {},
     "output_type": "execute_result"
    }
   ],
   "source": [
    "a = 100\n",
    "before = id(a)\n",
    "a += 1\n",
    "id(a) == before"
   ]
  },
  {
   "cell_type": "markdown",
   "metadata": {
    "ExecuteTime": {
     "end_time": "2018-02-19T06:26:03.752699Z",
     "start_time": "2018-02-19T06:26:03.749722Z"
    }
   },
   "source": [
    "### 相关知识点"
   ]
  },
  {
   "cell_type": "markdown",
   "metadata": {},
   "source": [
    "Python 语言中，`int` 的取值范围可以为任意大，仅受限于计算机系统的可以内存量。"
   ]
  },
  {
   "cell_type": "code",
   "execution_count": 14,
   "metadata": {
    "ExecuteTime": {
     "end_time": "2018-03-20T12:45:16.909633Z",
     "start_time": "2018-03-20T12:45:16.904627Z"
    }
   },
   "outputs": [
    {
     "data": {
      "text/plain": [
       "256"
      ]
     },
     "execution_count": 14,
     "metadata": {},
     "output_type": "execute_result"
    }
   ],
   "source": [
    "2**2**3  # 右结合"
   ]
  },
  {
   "cell_type": "code",
   "execution_count": 15,
   "metadata": {
    "ExecuteTime": {
     "end_time": "2018-03-20T12:45:18.017922Z",
     "start_time": "2018-03-20T12:45:18.013437Z"
    }
   },
   "outputs": [
    {
     "data": {
      "text/plain": [
       "256"
      ]
     },
     "execution_count": 15,
     "metadata": {},
     "output_type": "execute_result"
    }
   ],
   "source": [
    "2**8"
   ]
  },
  {
   "cell_type": "code",
   "execution_count": 16,
   "metadata": {
    "ExecuteTime": {
     "end_time": "2018-03-20T12:45:20.258839Z",
     "start_time": "2018-03-20T12:45:20.253365Z"
    }
   },
   "outputs": [
    {
     "data": {
      "text/plain": [
       "5000.0"
      ]
     },
     "execution_count": 16,
     "metadata": {},
     "output_type": "execute_result"
    }
   ],
   "source": [
    "5e3"
   ]
  },
  {
   "cell_type": "markdown",
   "metadata": {},
   "source": [
    "`float` 数据类型用于表示浮点数值（仅仅是**实数**的近似值）"
   ]
  },
  {
   "cell_type": "code",
   "execution_count": 17,
   "metadata": {
    "ExecuteTime": {
     "end_time": "2018-03-20T12:45:22.430466Z",
     "start_time": "2018-03-20T12:45:22.425933Z"
    }
   },
   "outputs": [
    {
     "data": {
      "text/plain": [
       "0.6666666666666666"
      ]
     },
     "execution_count": 17,
     "metadata": {},
     "output_type": "execute_result"
    }
   ],
   "source": [
    "2 / 3"
   ]
  },
  {
   "cell_type": "code",
   "execution_count": 18,
   "metadata": {
    "ExecuteTime": {
     "end_time": "2018-03-20T12:45:23.185706Z",
     "start_time": "2018-03-20T12:45:23.180732Z"
    }
   },
   "outputs": [
    {
     "data": {
      "text/plain": [
       "1.0"
      ]
     },
     "execution_count": 18,
     "metadata": {},
     "output_type": "execute_result"
    }
   ],
   "source": [
    "3 * (1 / 3)"
   ]
  },
  {
   "cell_type": "code",
   "execution_count": 19,
   "metadata": {
    "ExecuteTime": {
     "end_time": "2018-03-20T12:45:23.599703Z",
     "start_time": "2018-03-20T12:45:23.594204Z"
    }
   },
   "outputs": [
    {
     "data": {
      "text/plain": [
       "1.0"
      ]
     },
     "execution_count": 19,
     "metadata": {},
     "output_type": "execute_result"
    }
   ],
   "source": [
    "a = 1 / 11\n",
    "b = 11 * a\n",
    "b"
   ]
  },
  {
   "cell_type": "code",
   "execution_count": 20,
   "metadata": {
    "ExecuteTime": {
     "end_time": "2018-03-20T12:45:24.536827Z",
     "start_time": "2018-03-20T12:45:24.532315Z"
    }
   },
   "outputs": [
    {
     "data": {
      "text/plain": [
       "6.04e+23"
      ]
     },
     "execution_count": 20,
     "metadata": {},
     "output_type": "execute_result"
    }
   ],
   "source": [
    "6.04e23"
   ]
  },
  {
   "cell_type": "code",
   "execution_count": 21,
   "metadata": {
    "ExecuteTime": {
     "end_time": "2018-03-20T12:45:25.919473Z",
     "start_time": "2018-03-20T12:45:25.913489Z"
    }
   },
   "outputs": [
    {
     "data": {
      "text/plain": [
       "607.0"
      ]
     },
     "execution_count": 21,
     "metadata": {},
     "output_type": "execute_result"
    }
   ],
   "source": [
    "6.07e2"
   ]
  },
  {
   "cell_type": "code",
   "execution_count": 22,
   "metadata": {
    "ExecuteTime": {
     "end_time": "2018-03-20T12:45:26.981289Z",
     "start_time": "2018-03-20T12:45:26.976808Z"
    }
   },
   "outputs": [
    {
     "data": {
      "text/plain": [
       "2"
      ]
     },
     "execution_count": 22,
     "metadata": {},
     "output_type": "execute_result"
    }
   ],
   "source": [
    "5 % 3"
   ]
  },
  {
   "cell_type": "code",
   "execution_count": 23,
   "metadata": {
    "ExecuteTime": {
     "end_time": "2018-03-20T12:45:27.714665Z",
     "start_time": "2018-03-20T12:45:27.709657Z"
    }
   },
   "outputs": [
    {
     "data": {
      "text/plain": [
       "2.5"
      ]
     },
     "execution_count": 23,
     "metadata": {},
     "output_type": "execute_result"
    }
   ],
   "source": [
    "5 / 2"
   ]
  },
  {
   "cell_type": "code",
   "execution_count": 24,
   "metadata": {
    "ExecuteTime": {
     "end_time": "2018-03-20T12:45:28.094640Z",
     "start_time": "2018-03-20T12:45:28.090136Z"
    }
   },
   "outputs": [
    {
     "data": {
      "text/plain": [
       "2"
      ]
     },
     "execution_count": 24,
     "metadata": {},
     "output_type": "execute_result"
    }
   ],
   "source": [
    "5 // 2"
   ]
  },
  {
   "cell_type": "code",
   "execution_count": 25,
   "metadata": {
    "ExecuteTime": {
     "end_time": "2018-03-20T12:45:28.520644Z",
     "start_time": "2018-03-20T12:45:28.515636Z"
    }
   },
   "outputs": [
    {
     "data": {
      "text/plain": [
       "2.2618595071429146"
      ]
     },
     "execution_count": 25,
     "metadata": {},
     "output_type": "execute_result"
    }
   ],
   "source": [
    "import math \n",
    "math.log(12, 3)"
   ]
  },
  {
   "cell_type": "code",
   "execution_count": 26,
   "metadata": {
    "ExecuteTime": {
     "end_time": "2018-03-20T12:45:29.456913Z",
     "start_time": "2018-03-20T12:45:29.451937Z"
    }
   },
   "outputs": [
    {
     "data": {
      "text/plain": [
       "2.0794415416798357"
      ]
     },
     "execution_count": 26,
     "metadata": {},
     "output_type": "execute_result"
    }
   ],
   "source": [
    "math.log(8)  # 自然对数"
   ]
  },
  {
   "cell_type": "code",
   "execution_count": 27,
   "metadata": {
    "ExecuteTime": {
     "end_time": "2018-03-20T12:45:29.872310Z",
     "start_time": "2018-03-20T12:45:29.867805Z"
    }
   },
   "outputs": [
    {
     "data": {
      "text/plain": [
       "0.7853981633974483"
      ]
     },
     "execution_count": 27,
     "metadata": {},
     "output_type": "execute_result"
    }
   ],
   "source": [
    "math.atan2(2,2)  # 极角"
   ]
  },
  {
   "cell_type": "code",
   "execution_count": 28,
   "metadata": {
    "ExecuteTime": {
     "end_time": "2018-03-20T12:45:30.700594Z",
     "start_time": "2018-03-20T12:45:30.694593Z"
    }
   },
   "outputs": [
    {
     "data": {
      "text/plain": [
       "5.0"
      ]
     },
     "execution_count": 28,
     "metadata": {},
     "output_type": "execute_result"
    }
   ],
   "source": [
    "math.hypot(3, 4) # 欧式距离"
   ]
  },
  {
   "cell_type": "code",
   "execution_count": 29,
   "metadata": {
    "ExecuteTime": {
     "end_time": "2018-03-20T12:45:31.087595Z",
     "start_time": "2018-03-20T12:45:31.082592Z"
    }
   },
   "outputs": [
    {
     "data": {
      "text/plain": [
       "1.5707963267948966"
      ]
     },
     "execution_count": 29,
     "metadata": {},
     "output_type": "execute_result"
    }
   ],
   "source": [
    "math.radians(90)  # 将角度转换为弧度"
   ]
  },
  {
   "cell_type": "code",
   "execution_count": 30,
   "metadata": {
    "ExecuteTime": {
     "end_time": "2018-03-20T12:45:32.402602Z",
     "start_time": "2018-03-20T12:45:32.397576Z"
    }
   },
   "outputs": [
    {
     "data": {
      "text/plain": [
       "180.0"
      ]
     },
     "execution_count": 30,
     "metadata": {},
     "output_type": "execute_result"
    }
   ],
   "source": [
    "math.degrees(math.pi)   # 将弧度转换为角度"
   ]
  },
  {
   "cell_type": "code",
   "execution_count": 31,
   "metadata": {
    "ExecuteTime": {
     "end_time": "2018-03-20T12:45:32.984905Z",
     "start_time": "2018-03-20T12:45:32.979902Z"
    }
   },
   "outputs": [
    {
     "data": {
      "text/plain": [
       "2.0"
      ]
     },
     "execution_count": 31,
     "metadata": {},
     "output_type": "execute_result"
    }
   ],
   "source": [
    "math.sqrt(4)  # 开方"
   ]
  },
  {
   "cell_type": "code",
   "execution_count": 36,
   "metadata": {
    "ExecuteTime": {
     "end_time": "2018-02-20T03:24:36.037858Z",
     "start_time": "2018-02-20T03:24:36.018340Z"
    }
   },
   "outputs": [
    {
     "data": {
      "text/plain": [
       "0.9999999999999999"
      ]
     },
     "execution_count": 36,
     "metadata": {},
     "output_type": "execute_result"
    }
   ],
   "source": [
    "math.erf(5.87)   # 误差函数"
   ]
  },
  {
   "cell_type": "markdown",
   "metadata": {},
   "source": [
    "**返回值**描述函数返回的对象引用。"
   ]
  },
  {
   "cell_type": "code",
   "execution_count": 37,
   "metadata": {
    "ExecuteTime": {
     "end_time": "2018-02-20T03:24:36.067938Z",
     "start_time": "2018-02-20T03:24:36.039864Z"
    }
   },
   "outputs": [
    {
     "data": {
      "text/plain": [
       "5"
      ]
     },
     "execution_count": 37,
     "metadata": {},
     "output_type": "execute_result"
    }
   ],
   "source": [
    "round(4.6)   # 四舍五入"
   ]
  },
  {
   "cell_type": "code",
   "execution_count": 38,
   "metadata": {
    "ExecuteTime": {
     "end_time": "2018-02-20T03:24:36.092002Z",
     "start_time": "2018-02-20T03:24:36.070447Z"
    }
   },
   "outputs": [
    {
     "data": {
      "text/plain": [
       "4"
      ]
     },
     "execution_count": 38,
     "metadata": {},
     "output_type": "execute_result"
    }
   ],
   "source": [
    "round(4.5)"
   ]
  },
  {
   "cell_type": "code",
   "execution_count": 39,
   "metadata": {
    "ExecuteTime": {
     "end_time": "2018-02-20T03:24:36.118074Z",
     "start_time": "2018-02-20T03:24:36.094008Z"
    }
   },
   "outputs": [
    {
     "data": {
      "text/plain": [
       "4"
      ]
     },
     "execution_count": 39,
     "metadata": {},
     "output_type": "execute_result"
    }
   ],
   "source": [
    "round(4.4)"
   ]
  },
  {
   "cell_type": "markdown",
   "metadata": {
    "ExecuteTime": {
     "end_time": "2018-02-19T09:22:39.649653Z",
     "start_time": "2018-02-19T09:22:39.642601Z"
    }
   },
   "source": [
    "#### Python 如何存储**字符串**？\n",
    "Python3 内部存储的字符串是 Unicode 编码的字符系列，而\n",
    "python2 使用的是 ASCII 码。\n",
    "\n",
    "#### python 如何存储整数？\n",
    "\n",
    "基于固定的计算机内存使用二进制系统来表示小正整数。\n",
    "\n",
    "**二进制**是“逢二进一、逢一作二”的进制，`0` 和 `1` 是基本算符。一个 bit（binary digit，位） 就是一个二进制位（`0` 或 `1`）。**位**是计算机信息表示的基础。即二进制数据序列 $b_nb_{n-1} \\cdots b_2b_1b_0$ 对应的十进制数是 $b_n2^n + b_{n}2^{n-1} + \\cdots + b_22^2 + b_12^1 + b_02^0$。\n",
    "\n",
    "#### python 如何表示负数？\n",
    "小的负整数使用 $2$ 的补数表示。\n",
    "\n",
    "例如，$16$ 位可以编码的数字范围是 $-2^{16} \\sim 2^{16}-1$，将第一位作为**符号位**（正（`0`）、负（`1`））。"
   ]
  },
  {
   "cell_type": "code",
   "execution_count": 40,
   "metadata": {
    "ExecuteTime": {
     "end_time": "2018-02-20T03:24:36.143641Z",
     "start_time": "2018-02-20T03:24:36.120583Z"
    }
   },
   "outputs": [
    {
     "ename": "ZeroDivisionError",
     "evalue": "division by zero",
     "output_type": "error",
     "traceback": [
      "\u001b[1;31m---------------------------------------------------------------------------\u001b[0m",
      "\u001b[1;31mZeroDivisionError\u001b[0m                         Traceback (most recent call last)",
      "\u001b[1;32m<ipython-input-40-b971f1464605>\u001b[0m in \u001b[0;36m<module>\u001b[1;34m()\u001b[0m\n\u001b[1;32m----> 1\u001b[1;33m \u001b[1;36m1\u001b[0m \u001b[1;33m/\u001b[0m \u001b[1;36m0\u001b[0m\u001b[1;33m\u001b[0m\u001b[0m\n\u001b[0m",
      "\u001b[1;31mZeroDivisionError\u001b[0m: division by zero"
     ]
    }
   ],
   "source": [
    "1 / 0 "
   ]
  },
  {
   "cell_type": "markdown",
   "metadata": {},
   "source": [
    "- 一般而言，`//` 返回向下取整结果，即除法的商向负无穷大取整；\n",
    "- `%` 若 `a` 和 `b` 为整数，则表达式 `a % b` 的计算结果为整数，且余数的符号与除数 `b` 一致。所以，对于任何整数 `a` 和 `b`，`b*(a//b) + a % b == a` 成立。"
   ]
  },
  {
   "cell_type": "code",
   "execution_count": 41,
   "metadata": {
    "ExecuteTime": {
     "end_time": "2018-02-20T03:25:16.403790Z",
     "start_time": "2018-02-20T03:25:16.397272Z"
    }
   },
   "outputs": [
    {
     "data": {
      "text/plain": [
       "5"
      ]
     },
     "execution_count": 41,
     "metadata": {},
     "output_type": "execute_result"
    }
   ],
   "source": [
    "23 // 4"
   ]
  },
  {
   "cell_type": "code",
   "execution_count": 42,
   "metadata": {
    "ExecuteTime": {
     "end_time": "2018-02-20T03:25:16.430865Z",
     "start_time": "2018-02-20T03:25:16.424844Z"
    }
   },
   "outputs": [
    {
     "data": {
      "text/plain": [
       "5.0"
      ]
     },
     "execution_count": 42,
     "metadata": {},
     "output_type": "execute_result"
    }
   ],
   "source": [
    "23.4 // 4"
   ]
  },
  {
   "cell_type": "code",
   "execution_count": 43,
   "metadata": {
    "ExecuteTime": {
     "end_time": "2018-02-20T03:25:16.453923Z",
     "start_time": "2018-02-20T03:25:16.447908Z"
    }
   },
   "outputs": [
    {
     "data": {
      "text/plain": [
       "True"
      ]
     },
     "execution_count": 43,
     "metadata": {},
     "output_type": "execute_result"
    }
   ],
   "source": [
    "3 * (34//3) + 34 % 3 == 34"
   ]
  },
  {
   "cell_type": "code",
   "execution_count": 44,
   "metadata": {
    "ExecuteTime": {
     "end_time": "2018-02-20T03:25:16.477984Z",
     "start_time": "2018-02-20T03:25:16.467456Z"
    }
   },
   "outputs": [
    {
     "data": {
      "text/plain": [
       "False"
      ]
     },
     "execution_count": 44,
     "metadata": {},
     "output_type": "execute_result"
    }
   ],
   "source": [
    "0.1 + 0.1 + 0.1 == 0.3"
   ]
  },
  {
   "cell_type": "markdown",
   "metadata": {},
   "source": [
    "Python 变量是没有类型的，变量绑定的对象才具有数据类型。\n",
    "#### 如何确定一个变量的标识（identity）、类型（type）、值（value）？\n",
    "\n",
    "- `type()` 返回对象类型\n",
    "- `id()` 返回对象标识\n",
    "- `repr()` 返回一个对象明确的字符串表示形式"
   ]
  },
  {
   "cell_type": "code",
   "execution_count": 45,
   "metadata": {
    "ExecuteTime": {
     "end_time": "2018-02-20T03:25:16.501079Z",
     "start_time": "2018-02-20T03:25:16.487545Z"
    }
   },
   "outputs": [
    {
     "data": {
      "text/plain": [
       "2386083452200"
      ]
     },
     "execution_count": 45,
     "metadata": {},
     "output_type": "execute_result"
    }
   ],
   "source": [
    "import math\n",
    "a = math.pi\n",
    "id(a)"
   ]
  },
  {
   "cell_type": "code",
   "execution_count": 46,
   "metadata": {
    "ExecuteTime": {
     "end_time": "2018-02-20T03:25:16.526616Z",
     "start_time": "2018-02-20T03:25:16.506594Z"
    }
   },
   "outputs": [
    {
     "data": {
      "text/plain": [
       "float"
      ]
     },
     "execution_count": 46,
     "metadata": {},
     "output_type": "execute_result"
    }
   ],
   "source": [
    "type(a)"
   ]
  },
  {
   "cell_type": "code",
   "execution_count": 47,
   "metadata": {
    "ExecuteTime": {
     "end_time": "2018-02-20T03:25:16.553186Z",
     "start_time": "2018-02-20T03:25:16.528619Z"
    }
   },
   "outputs": [
    {
     "data": {
      "text/plain": [
       "'3.141592653589793'"
      ]
     },
     "execution_count": 47,
     "metadata": {},
     "output_type": "execute_result"
    }
   ],
   "source": [
    "repr(a)"
   ]
  },
  {
   "cell_type": "markdown",
   "metadata": {},
   "source": [
    "#### 表达式 `a < b < c` 是合法的。\n",
    "- `a = b = c = 17` 也是合法的；（不推荐使用）\n",
    "- 在逻辑表达式中 Python 将 `0`、`0.0`、`''`、均视为`False`，其他整数、浮点数、字符串则视为 `True`。\n",
    "\n",
    "## [选择结构与循环结构](https://introcs.cs.princeton.edu/python/13flow/)"
   ]
  },
  {
   "cell_type": "code",
   "execution_count": 50,
   "metadata": {
    "ExecuteTime": {
     "end_time": "2018-02-20T03:25:58.147960Z",
     "start_time": "2018-02-20T03:25:58.144456Z"
    }
   },
   "outputs": [],
   "source": [
    "# 续行符\n",
    "a = 1 + 3 + 5 + 5 + \\\n",
    "34"
   ]
  },
  {
   "cell_type": "code",
   "execution_count": 51,
   "metadata": {
    "ExecuteTime": {
     "end_time": "2018-02-20T03:26:02.009007Z",
     "start_time": "2018-02-20T03:26:02.004476Z"
    }
   },
   "outputs": [
    {
     "data": {
      "text/plain": [
       "48"
      ]
     },
     "execution_count": 51,
     "metadata": {},
     "output_type": "execute_result"
    }
   ],
   "source": [
    "a"
   ]
  },
  {
   "cell_type": "markdown",
   "metadata": {},
   "source": [
    "## [数组](https://introcs.cs.princeton.edu/python/15inout/)（Array）\n",
    "\n",
    "A data structure is a way to organize data that we wish to process with a computer program.（**数据结构**是一种用于计算机程序处理的数据组织方式。） A one-dimensional array (or array) is a data structure that stores a sequence of (references to) objects. We refer to the objects within an array as its **elements**. The method that we use to refer to elements in an array is numbering and then indexing them. If we have $n$ elements in the sequence, we think of them as being numbered from $0$ to $n - 1$. Then, we can unambiguously specify one of them by referring to the ith element for any integer `i` in this range.\n",
    "\n",
    "A two-dimensional array is an array of (references to) one-dimensional arrays. Whereas the elements of a one-dimensional array are indexed by a single integer, the elements of a two-dimensional array are indexed by a pair of integers: the first specifying a row, and the second specifying a column."
   ]
  },
  {
   "cell_type": "code",
   "execution_count": 52,
   "metadata": {
    "ExecuteTime": {
     "end_time": "2018-02-20T03:26:08.454621Z",
     "start_time": "2018-02-20T03:26:08.450108Z"
    }
   },
   "outputs": [],
   "source": [
    "suits = ['Clubs', 'Diamonds', 'Hearts', 'Spades']\n",
    "x = [0.30, 0.60, 0.10]\n",
    "y = [0.50, 0.10, 0.40]"
   ]
  },
  {
   "cell_type": "code",
   "execution_count": 53,
   "metadata": {
    "ExecuteTime": {
     "end_time": "2018-02-20T03:26:08.480188Z",
     "start_time": "2018-02-20T03:26:08.474173Z"
    }
   },
   "outputs": [],
   "source": [
    "total = 0.0\n",
    "for i in range(3):\n",
    "    total += x[i]*y[i]"
   ]
  },
  {
   "cell_type": "code",
   "execution_count": 54,
   "metadata": {
    "ExecuteTime": {
     "end_time": "2018-02-20T03:26:08.503755Z",
     "start_time": "2018-02-20T03:26:08.490249Z"
    }
   },
   "outputs": [
    {
     "data": {
      "text/plain": [
       "0.25"
      ]
     },
     "execution_count": 54,
     "metadata": {},
     "output_type": "execute_result"
    }
   ],
   "source": [
    "total"
   ]
  },
  {
   "cell_type": "code",
   "execution_count": 55,
   "metadata": {
    "ExecuteTime": {
     "end_time": "2018-02-20T03:26:08.529820Z",
     "start_time": "2018-02-20T03:26:08.509266Z"
    }
   },
   "outputs": [
    {
     "data": {
      "text/plain": [
       "3"
      ]
     },
     "execution_count": 55,
     "metadata": {},
     "output_type": "execute_result"
    }
   ],
   "source": [
    "len(x)  # 数组长度"
   ]
  },
  {
   "cell_type": "code",
   "execution_count": 56,
   "metadata": {
    "ExecuteTime": {
     "end_time": "2018-02-20T03:26:08.550878Z",
     "start_time": "2018-02-20T03:26:08.536338Z"
    }
   },
   "outputs": [],
   "source": [
    "from booksite import stdarray"
   ]
  },
  {
   "cell_type": "code",
   "execution_count": 57,
   "metadata": {
    "ExecuteTime": {
     "end_time": "2018-02-20T03:26:08.595076Z",
     "start_time": "2018-02-20T03:26:08.553884Z"
    }
   },
   "outputs": [],
   "source": [
    "stdarray??"
   ]
  },
  {
   "cell_type": "markdown",
   "metadata": {},
   "source": [
    "在 python 语言中我们可以使用运算符 `+=` 在一个数组后面附加一个元素。"
   ]
  },
  {
   "cell_type": "code",
   "execution_count": 58,
   "metadata": {
    "ExecuteTime": {
     "end_time": "2018-02-20T03:26:08.602055Z",
     "start_time": "2018-02-20T03:26:08.597074Z"
    }
   },
   "outputs": [
    {
     "data": {
      "text/plain": [
       "[1, 2, 3]"
      ]
     },
     "execution_count": 58,
     "metadata": {},
     "output_type": "execute_result"
    }
   ],
   "source": [
    "a = [1, 2, 3]\n",
    "a"
   ]
  },
  {
   "cell_type": "code",
   "execution_count": 59,
   "metadata": {
    "ExecuteTime": {
     "end_time": "2018-02-20T03:26:08.622642Z",
     "start_time": "2018-02-20T03:26:08.612115Z"
    }
   },
   "outputs": [
    {
     "data": {
      "text/plain": [
       "[1, 2, 3, 5]"
      ]
     },
     "execution_count": 59,
     "metadata": {},
     "output_type": "execute_result"
    }
   ],
   "source": [
    "a += [5]\n",
    "a"
   ]
  },
  {
   "cell_type": "code",
   "execution_count": 60,
   "metadata": {
    "ExecuteTime": {
     "end_time": "2018-02-20T03:26:08.644668Z",
     "start_time": "2018-02-20T03:26:08.629124Z"
    }
   },
   "outputs": [
    {
     "data": {
      "text/plain": [
       "[0, 1, 8, 27, 64]"
      ]
     },
     "execution_count": 60,
     "metadata": {},
     "output_type": "execute_result"
    }
   ],
   "source": [
    "a = []\n",
    "for i in range(5):\n",
    "    a += [i ** 3]\n",
    "    \n",
    "a"
   ]
  },
  {
   "cell_type": "markdown",
   "metadata": {},
   "source": [
    "### 内存表示\n",
    "\n",
    "数组是基本的数据结构，所以几乎在所有的计算机中都与内存系统直接对应。指向数组元素的引用在内存中连续存储，所以可以简单高效地访问然后数组元素。事实上，**我们也可以将内存视为一个巨大的数组**。在现代计算机系统中，内存在硬件中对应于一系列索引内存地址，通过这些索引可以快速有效的访问内存。当引用计算机内存时，通常使用内存位置索引作为内存地址。也可以想象将数组的名称作为存储连续内存块的内存地址，包括数组长度和指向其元素的引用。\n",
    "\n",
    "### 数组元素是可变的\n",
    "\n",
    "### 数组别名与拷贝\n",
    "#### 别名\n",
    "\n",
    "每个变量指向同一个对象，称之为**别名**。"
   ]
  },
  {
   "cell_type": "code",
   "execution_count": 32,
   "metadata": {
    "ExecuteTime": {
     "end_time": "2018-03-20T13:04:14.633839Z",
     "start_time": "2018-03-20T13:04:14.629835Z"
    }
   },
   "outputs": [],
   "source": [
    "x = [.4, .6, .5]\n",
    "y = x     "
   ]
  },
  {
   "cell_type": "code",
   "execution_count": 33,
   "metadata": {
    "ExecuteTime": {
     "end_time": "2018-03-20T13:04:15.706620Z",
     "start_time": "2018-03-20T13:04:15.700619Z"
    }
   },
   "outputs": [
    {
     "data": {
      "text/plain": [
       "True"
      ]
     },
     "execution_count": 33,
     "metadata": {},
     "output_type": "execute_result"
    }
   ],
   "source": [
    "id(x) == id(y)"
   ]
  },
  {
   "cell_type": "code",
   "execution_count": 34,
   "metadata": {
    "ExecuteTime": {
     "end_time": "2018-03-20T13:04:16.717708Z",
     "start_time": "2018-03-20T13:04:16.711708Z"
    }
   },
   "outputs": [
    {
     "data": {
      "text/plain": [
       "[0.9, 0.6, 0.5]"
      ]
     },
     "execution_count": 34,
     "metadata": {},
     "output_type": "execute_result"
    }
   ],
   "source": [
    "x[0] = 0.9\n",
    "x"
   ]
  },
  {
   "cell_type": "code",
   "execution_count": 35,
   "metadata": {
    "ExecuteTime": {
     "end_time": "2018-03-20T13:04:18.333680Z",
     "start_time": "2018-03-20T13:04:18.329197Z"
    }
   },
   "outputs": [
    {
     "data": {
      "text/plain": [
       "[0.9, 0.6, 0.5]"
      ]
     },
     "execution_count": 35,
     "metadata": {},
     "output_type": "execute_result"
    }
   ],
   "source": [
    "y"
   ]
  },
  {
   "cell_type": "markdown",
   "metadata": {},
   "source": [
    "####  复制"
   ]
  },
  {
   "cell_type": "code",
   "execution_count": 36,
   "metadata": {
    "ExecuteTime": {
     "end_time": "2018-03-20T13:04:24.752374Z",
     "start_time": "2018-03-20T13:04:24.745864Z"
    }
   },
   "outputs": [
    {
     "data": {
      "text/plain": [
       "False"
      ]
     },
     "execution_count": 36,
     "metadata": {},
     "output_type": "execute_result"
    }
   ],
   "source": [
    "y = []\n",
    "for v in x:\n",
    "    y += [v]\n",
    "    \n",
    "id(x) == id(y)"
   ]
  },
  {
   "cell_type": "code",
   "execution_count": 38,
   "metadata": {
    "ExecuteTime": {
     "end_time": "2018-03-20T13:04:45.887148Z",
     "start_time": "2018-03-20T13:04:45.882145Z"
    }
   },
   "outputs": [
    {
     "data": {
      "text/plain": [
       "[3, 0.6, 0.5]"
      ]
     },
     "execution_count": 38,
     "metadata": {},
     "output_type": "execute_result"
    }
   ],
   "source": [
    "y[0] = 3\n",
    "y"
   ]
  },
  {
   "cell_type": "code",
   "execution_count": 39,
   "metadata": {
    "ExecuteTime": {
     "end_time": "2018-03-20T13:04:53.587315Z",
     "start_time": "2018-03-20T13:04:53.582312Z"
    }
   },
   "outputs": [
    {
     "data": {
      "text/plain": [
       "[0.9, 0.6, 0.5]"
      ]
     },
     "execution_count": 39,
     "metadata": {},
     "output_type": "execute_result"
    }
   ],
   "source": [
    "x"
   ]
  },
  {
   "cell_type": "markdown",
   "metadata": {},
   "source": [
    "#### 切片\n",
    "数组**切片**操作可以复制一个数组中任意连续系列的元素到另一个新的数组。即表达式 `x[i:j]` 的运算结果为创建一个新的数组。\n",
    "所以，`y = x[:]` 即为复制。"
   ]
  },
  {
   "cell_type": "code",
   "execution_count": 40,
   "metadata": {
    "ExecuteTime": {
     "end_time": "2018-03-20T13:05:01.706775Z",
     "start_time": "2018-03-20T13:05:01.701771Z"
    }
   },
   "outputs": [
    {
     "data": {
      "text/plain": [
       "[0.9, 0.6, 0.5]"
      ]
     },
     "execution_count": 40,
     "metadata": {},
     "output_type": "execute_result"
    }
   ],
   "source": [
    "z = x[:]\n",
    "z"
   ]
  },
  {
   "cell_type": "code",
   "execution_count": 41,
   "metadata": {
    "ExecuteTime": {
     "end_time": "2018-03-20T13:05:02.661000Z",
     "start_time": "2018-03-20T13:05:02.656499Z"
    }
   },
   "outputs": [
    {
     "data": {
      "text/plain": [
       "False"
      ]
     },
     "execution_count": 41,
     "metadata": {},
     "output_type": "execute_result"
    }
   ],
   "source": [
    "id(x) == id(z)"
   ]
  },
  {
   "cell_type": "markdown",
   "metadata": {},
   "source": [
    "### 例子\n",
    "#### 扑克牌的表示"
   ]
  },
  {
   "cell_type": "code",
   "execution_count": 42,
   "metadata": {
    "ExecuteTime": {
     "end_time": "2018-03-20T13:05:05.284235Z",
     "start_time": "2018-03-20T13:05:05.279755Z"
    }
   },
   "outputs": [],
   "source": [
    "SUITS = ['Clubs', 'Diamonds', 'Hearts', 'Spades']\n",
    "RANKS = ['2', '3', '4', '5', '6', '7', '8', '9', '10', 'Jack', 'Queen', 'King', 'Ace']"
   ]
  },
  {
   "cell_type": "markdown",
   "metadata": {},
   "source": [
    "随机输出一张牌"
   ]
  },
  {
   "cell_type": "code",
   "execution_count": 62,
   "metadata": {
    "ExecuteTime": {
     "end_time": "2018-03-20T13:28:29.476051Z",
     "start_time": "2018-03-20T13:28:29.469092Z"
    }
   },
   "outputs": [
    {
     "name": "stdout",
     "output_type": "stream",
     "text": [
      "6 of Spades\n"
     ]
    }
   ],
   "source": [
    "import random\n",
    "rank = random.randrange(0, len(RANKS))\n",
    "suit = random.randrange(0, len(SUITS))\n",
    "print(RANKS[rank] + ' of ' + SUITS[suit])"
   ]
  },
  {
   "cell_type": "code",
   "execution_count": 63,
   "metadata": {
    "ExecuteTime": {
     "end_time": "2018-03-20T13:29:00.100118Z",
     "start_time": "2018-03-20T13:29:00.095603Z"
    }
   },
   "outputs": [],
   "source": [
    "# 洗牌\n",
    "deck = []\n",
    "for rank in RANKS:\n",
    "    for suit in SUITS:\n",
    "        card = str(rank) + ' of ' + str(suit)\n",
    "        deck += [card]"
   ]
  },
  {
   "cell_type": "code",
   "execution_count": 64,
   "metadata": {
    "ExecuteTime": {
     "end_time": "2018-03-20T13:29:00.618424Z",
     "start_time": "2018-03-20T13:29:00.612927Z"
    },
    "scrolled": true
   },
   "outputs": [
    {
     "data": {
      "text/plain": [
       "52"
      ]
     },
     "execution_count": 64,
     "metadata": {},
     "output_type": "execute_result"
    }
   ],
   "source": [
    "len(deck)"
   ]
  },
  {
   "cell_type": "code",
   "execution_count": 65,
   "metadata": {
    "ExecuteTime": {
     "end_time": "2018-03-20T13:29:01.243494Z",
     "start_time": "2018-03-20T13:29:01.238996Z"
    }
   },
   "outputs": [
    {
     "data": {
      "text/plain": [
       "'4 of Diamonds'"
      ]
     },
     "execution_count": 65,
     "metadata": {},
     "output_type": "execute_result"
    }
   ],
   "source": [
    "deck[9]"
   ]
  },
  {
   "cell_type": "code",
   "execution_count": 66,
   "metadata": {
    "ExecuteTime": {
     "end_time": "2018-03-20T13:29:01.686658Z",
     "start_time": "2018-03-20T13:29:01.681682Z"
    }
   },
   "outputs": [
    {
     "data": {
      "text/plain": [
       "'2 of Clubs'"
      ]
     },
     "execution_count": 66,
     "metadata": {},
     "output_type": "execute_result"
    }
   ],
   "source": [
    "deck[0]"
   ]
  },
  {
   "cell_type": "markdown",
   "metadata": {},
   "source": [
    "#### 交换"
   ]
  },
  {
   "cell_type": "code",
   "execution_count": 67,
   "metadata": {
    "ExecuteTime": {
     "end_time": "2018-03-20T13:29:04.747592Z",
     "start_time": "2018-03-20T13:29:04.743600Z"
    }
   },
   "outputs": [],
   "source": [
    "temp = deck[0]\n",
    "deck[0] = deck[9]\n",
    "deck[9] = temp"
   ]
  },
  {
   "cell_type": "code",
   "execution_count": 68,
   "metadata": {
    "ExecuteTime": {
     "end_time": "2018-03-20T13:29:06.693878Z",
     "start_time": "2018-03-20T13:29:06.688378Z"
    }
   },
   "outputs": [
    {
     "data": {
      "text/plain": [
       "'4 of Diamonds'"
      ]
     },
     "execution_count": 68,
     "metadata": {},
     "output_type": "execute_result"
    }
   ],
   "source": [
    "deck[0]"
   ]
  },
  {
   "cell_type": "code",
   "execution_count": 69,
   "metadata": {
    "ExecuteTime": {
     "end_time": "2018-03-20T13:29:07.378069Z",
     "start_time": "2018-03-20T13:29:07.373106Z"
    }
   },
   "outputs": [
    {
     "data": {
      "text/plain": [
       "'2 of Clubs'"
      ]
     },
     "execution_count": 69,
     "metadata": {},
     "output_type": "execute_result"
    }
   ],
   "source": [
    "deck[9]"
   ]
  },
  {
   "cell_type": "markdown",
   "metadata": {},
   "source": [
    "#### 混排（洗牌，shuffle）"
   ]
  },
  {
   "cell_type": "code",
   "execution_count": 70,
   "metadata": {
    "ExecuteTime": {
     "end_time": "2018-03-20T13:29:15.044595Z",
     "start_time": "2018-03-20T13:29:15.038586Z"
    }
   },
   "outputs": [],
   "source": [
    "n = len(deck)\n",
    "for i in range(n):\n",
    "    r = random.randrange(i, n)\n",
    "    temp = deck[r]\n",
    "    deck[r] = deck[i]\n",
    "    deck[i] = temp"
   ]
  },
  {
   "cell_type": "code",
   "execution_count": 71,
   "metadata": {
    "ExecuteTime": {
     "end_time": "2018-03-20T13:29:16.963110Z",
     "start_time": "2018-03-20T13:29:16.957109Z"
    }
   },
   "outputs": [
    {
     "data": {
      "text/plain": [
       "'4 of Hearts'"
      ]
     },
     "execution_count": 71,
     "metadata": {},
     "output_type": "execute_result"
    }
   ],
   "source": [
    "deck[0]"
   ]
  },
  {
   "cell_type": "markdown",
   "metadata": {},
   "source": [
    "等价于函数 `random.shuffle()`"
   ]
  },
  {
   "cell_type": "code",
   "execution_count": 72,
   "metadata": {
    "ExecuteTime": {
     "end_time": "2018-03-20T13:29:18.206358Z",
     "start_time": "2018-03-20T13:29:18.202359Z"
    }
   },
   "outputs": [],
   "source": [
    "random.shuffle(deck)"
   ]
  },
  {
   "cell_type": "markdown",
   "metadata": {},
   "source": [
    "#### Sampling without replacement（无放回抽样）\n",
    "In many situations, we want to draw a random sample from a set such that each element in set appears at most once in the sample. "
   ]
  },
  {
   "cell_type": "code",
   "execution_count": 78,
   "metadata": {
    "ExecuteTime": {
     "end_time": "2018-03-20T13:44:07.176889Z",
     "start_time": "2018-03-20T13:44:06.943896Z"
    }
   },
   "outputs": [
    {
     "name": "stdout",
     "output_type": "stream",
     "text": [
      "16 24 14 0 6 1 5 17 12 3 \n"
     ]
    }
   ],
   "source": [
    "!python sample.py 10 25"
   ]
  },
  {
   "cell_type": "markdown",
   "metadata": {},
   "source": [
    "python 标准模块 `random.sample(a, k)`\n",
    "\n",
    "给定数组 `a[]` 和 整数 `k`，`random.sample(a, k)` 将返回一个新的无放回抽样数组。"
   ]
  },
  {
   "cell_type": "code",
   "execution_count": 77,
   "metadata": {
    "ExecuteTime": {
     "end_time": "2018-03-20T13:32:30.553585Z",
     "start_time": "2018-03-20T13:32:30.546583Z"
    }
   },
   "outputs": [
    {
     "data": {
      "text/plain": [
       "['10 of Clubs',\n",
       " 'Jack of Spades',\n",
       " '4 of Hearts',\n",
       " 'Ace of Diamonds',\n",
       " 'Queen of Clubs']"
      ]
     },
     "execution_count": 77,
     "metadata": {},
     "output_type": "execute_result"
    }
   ],
   "source": [
    "random.sample(deck, 5)"
   ]
  },
  {
   "cell_type": "markdown",
   "metadata": {},
   "source": [
    "#### Precomputed values（预计算的值）\n",
    "Another application of arrays is to save values that you have computed for later use. As an example, suppose that you are composing a program that performs calculations using small values of the harmonic numbers. An efficient approach is to save the values in an array, as follows:"
   ]
  },
  {
   "cell_type": "code",
   "execution_count": 82,
   "metadata": {
    "ExecuteTime": {
     "end_time": "2018-02-20T03:26:09.303455Z",
     "start_time": "2018-02-20T03:26:09.286409Z"
    }
   },
   "outputs": [],
   "source": [
    "harmonic = stdarray.create1D(n+1, 0.0)\n",
    "for i in range(1, n+1):\n",
    "    harmonic[i] = harmonic[i-1] + 1.0/i"
   ]
  },
  {
   "cell_type": "markdown",
   "metadata": {},
   "source": [
    "#### Simplifying repetitive code（简化重复代码）\n",
    "\n",
    "#### Coupon collector（优惠券收集）\n",
    "Suppose that you have a deck of cards and you pick cards at random (with replacement) one by one. How many cards do you need to turn up before you have seen one of each suit? That is an example of the famous coupon collector problem. In general, suppose that a trading card company issues trading cards with n different possible cards: how many do you have to collect before you have all n possibilities, assuming that each possibility is equally likely for each card that you collect? The program `couponcollector.py` is an example program that simulates this process. See the textbook for details.\n",
    "\n",
    "#### Sieve of Eratosthenes（厄拉多塞素数筛选法）\n",
    "The prime counting function `π(n)` is the number of primes less than or equal to `n`. For example `π(17) = 7` since the first seven primes are `2`, `3`, `5`, `7`, `11`, `13`, and `17`. Program `primesieve.py` takes a command line integer `n` and computes `π(n)` using the Sieve of Eratosthenes. See the textbook for details.\n",
    "\n",
    "- Q. Why do Python string and list indices start at 0 instead of 1?\n",
    "- A. That convention originated with machine-language programming, where the address of an array element would be computed by adding the index to the address of the beginning of an array. Starting indices at `1` would entail either a waste of space at the beginning of the array or a waste of time to subtract the `1`. Here's Edsger Dijkstra's explanation.\n",
    "- Q. What happens if I use a negative integer to index an array?\n",
    "- A. The answer may surprise you. Given an array `a[]`, you can use the index `-i` as shorthand for `len(a)-i`. For example, you can refer to the last element in the array with `a[-1]` or `a[len(a)-1]` and the first element with `a[-len(a)]` or `a[0]`. Python raises an IndexError at run time if you use an index outside of the range `-len(a)` through `len(a)-1`.\n",
    "- Q. Why does the slice `a[i:j]` include `a[i]` but exclude `a[j]`?\n",
    "- A. The notation is consistent with ranges defined with `range()`, which includes the left endpoint but excludes the right endpoint. It leads to some appealing properties: `j-i` is the length of the subarray (assuming no truncation); `a[0:len(a)]` is the entire array; `a[i:i]` is the empty array; and `a[i:j] + a[j:k]` is the subarray `a[i:k]`.\n",
    "- Q. What happens when I compare two arrays `a[]` and `b[]` with (`a == b`)?\n",
    "- A. It depends. For arrays (or multidimensional arrays) of numbers, it works as you might expect: the arrays are equal if each has the same length and the corresponding elements are equal.\n",
    "- Q. What happens when a random walk does not avoid itself?\n",
    "- A. This case is well understood. It is a two-dimensional version of the gambler's ruin problem, as described in Section 1.3.\n",
    "- Q. Which pitfalls should I watch out for when using arrays?\n",
    "- A. Remember that creating an array takes time proportional to the length of the array. You need to be particularly careful about creating arrays within loops.\n",
    "\n",
    "\n",
    "## [Input and Output](https://introcs.cs.princeton.edu/python/15inout/)\n",
    "\n",
    "python 程序与外部世界交互的简单抽象模型（命令行参数和标准输出），具体包括：标准输入、标准绘图、标准音频。\n",
    "\n",
    "- 标准输入可便于我们编写程序以处理任意数量的输入数据，并实现与程序的交互；\n",
    "- 标准绘图可实现图像数据的图形化表示；\n",
    "- 标准音频提供了声音功能。\n",
    "\n",
    "**I/O** 通常理解为输入/输出（input/output），泛指程序与外界通信的所有机制。计算机操作系统控制着与电脑连接的所有物理设备。\n",
    "\n",
    "标准输入输出机制的一种用途是将程序与计算机外部存储设备上的文件关联起来。\n",
    "### Bird's-Eye View \n",
    "#### Command-line input（命令行参数）\n",
    "\n",
    "命令行参数是 python 语言的标准组成，用于程序的输入功能。用户在命令行键入的 python 程序参数，操作系统将其表示为一个数组 `sys.argv[]`。\n",
    "按惯例，命令行输入参数在 python 和操作系统中均被视为字符串，所以如果希望传入的参数为数值，则需要使用转换函数 `int()` 和 `float()`，将字符串转换为适合的类型。\n",
    "\n",
    "#### Standard output（标准输出）\n",
    "To write output values, we have been using the functions `stdio.write()` and `stdio.writeln()`. When a program calls those functions, Python puts the results in the form of an abstract stream of characters known as standard output. By default, the operating system connects standard output to the terminal window. All of the output in our programs so far has appeared in the terminal window.\n",
    "\n",
    "#### Standard input（标准输入）\n",
    "The booksite `stdio.py` module defines several functions in addition to `write()` and `writeln()`. Those additional functions implement a standard input abstraction to complement the standard output abstraction. That is, the stdio module contains functions that allow your programs to read from standard input. Just as a program can write to standard output at any time, a program can read from standard input at any time.\n",
    "#### Standard draw\n",
    "The booksite `stddraw` module allows your programs to create and write drawings. It implements a simple graphics model that allows your programs to create and write points, lines, and geometric shapes in a window on your computer. stddraw also implements features for animation.\n",
    "#### Standard audio\n",
    "The booksite `stdaudio` module allows your programs to create and play sound. It uses a standard format to convert arrays of floats into sound."
   ]
  },
  {
   "cell_type": "code",
   "execution_count": 83,
   "metadata": {
    "ExecuteTime": {
     "end_time": "2018-02-20T03:26:09.327019Z",
     "start_time": "2018-02-20T03:26:09.305961Z"
    }
   },
   "outputs": [],
   "source": [
    "from booksite import stddraw, stdaudio"
   ]
  },
  {
   "cell_type": "markdown",
   "metadata": {
    "ExecuteTime": {
     "end_time": "2018-02-20T02:39:12.762017Z",
     "start_time": "2018-02-20T02:39:12.756503Z"
    }
   },
   "source": [
    "### Standard I/O\n",
    "This is the API（应用程序接口） of the part of the `stdio.py` module that is relevant to standard output."
   ]
  },
  {
   "cell_type": "code",
   "execution_count": 84,
   "metadata": {
    "ExecuteTime": {
     "end_time": "2018-02-20T03:26:09.352086Z",
     "start_time": "2018-02-20T03:26:09.331532Z"
    }
   },
   "outputs": [],
   "source": [
    "from booksite import stdio"
   ]
  },
  {
   "cell_type": "markdown",
   "metadata": {
    "ExecuteTime": {
     "end_time": "2018-02-20T02:43:53.949810Z",
     "start_time": "2018-02-20T02:43:53.919203Z"
    }
   },
   "source": [
    "`%w.pc` 格式化字符串的转换规范：\n",
    "- `w`：字段宽度，即总共输出的字符数量。如果需要输入的字符数量超过（或等于）字段宽度，则忽略字段宽度的限定；否则，输出内容左填充空格以达到字段宽度。如果字段宽度为负整数，则表示输出内容采用右填充空格的方式。\n",
    "- `p`：表示输出精度。对于浮点数，精度表示小数点后的数字位数；对于字符串，精度表示输出字符串的字符数。精度不适用于整数。\n",
    "- `c`：表示转换代码。"
   ]
  },
  {
   "cell_type": "code",
   "execution_count": 85,
   "metadata": {
    "ExecuteTime": {
     "end_time": "2018-02-20T03:26:09.377151Z",
     "start_time": "2018-02-20T03:26:09.355093Z"
    }
   },
   "outputs": [
    {
     "data": {
      "text/plain": [
       "' 3.14159'"
      ]
     },
     "execution_count": 85,
     "metadata": {},
     "output_type": "execute_result"
    }
   ],
   "source": [
    "import math\n",
    "'%8.5f'%math.pi"
   ]
  },
  {
   "cell_type": "code",
   "execution_count": 86,
   "metadata": {
    "ExecuteTime": {
     "end_time": "2018-02-20T03:26:09.399210Z",
     "start_time": "2018-02-20T03:26:09.379657Z"
    }
   },
   "outputs": [
    {
     "data": {
      "text/plain": [
       "'3.14159 '"
      ]
     },
     "execution_count": 86,
     "metadata": {},
     "output_type": "execute_result"
    }
   ],
   "source": [
    "'%-8.5f'%math.pi"
   ]
  },
  {
   "cell_type": "code",
   "execution_count": null,
   "metadata": {
    "ExecuteTime": {
     "start_time": "2018-02-20T03:26:09.066Z"
    }
   },
   "outputs": [],
   "source": [
    "stdio.readAllInts??"
   ]
  },
  {
   "cell_type": "markdown",
   "metadata": {},
   "source": [
    "##### 二分法"
   ]
  },
  {
   "cell_type": "code",
   "execution_count": null,
   "metadata": {
    "ExecuteTime": {
     "start_time": "2018-02-20T03:26:09.082Z"
    }
   },
   "outputs": [],
   "source": [
    "!python twentyquestions.py 500"
   ]
  },
  {
   "cell_type": "markdown",
   "metadata": {},
   "source": [
    "### Redirection and Piping（重定向和管道）\n",
    "\n",
    "For many applications, typing input data as a standard input stream from the terminal window is untenable because doing so limits our program's processing power by the amount of data that we can type. Similarly, we often want to save the information printed on the standard output stream for later use. We can use operating system mechanisms to address both issues.\n",
    "\n",
    "#### Redirecting standard output to a file（重定向标准输出到文件）\n",
    "By adding a simple directive to the command that invokes a program, we can redirect its standard output to a file, for permanent storage or for input to some other program at a later time.\n",
    "\n",
    "通过在执行程序的命令后面添加重定向指令，我们可以将标准输出重定向到一个文件。程序将标准输出的结果写入指定文件，以用于永久存储或以后为其他程序提供输入。"
   ]
  },
  {
   "cell_type": "code",
   "execution_count": 2,
   "metadata": {
    "ExecuteTime": {
     "end_time": "2018-02-20T03:42:49.785705Z",
     "start_time": "2018-02-20T03:42:49.565090Z"
    }
   },
   "outputs": [],
   "source": [
    "!python randomseq.py 1000 > data.txt"
   ]
  },
  {
   "cell_type": "markdown",
   "metadata": {
    "ExecuteTime": {
     "end_time": "2018-02-20T03:53:48.927329Z",
     "start_time": "2018-02-20T03:53:48.922300Z"
    }
   },
   "source": [
    "将 1000 个随机值写入到 `>` 后指定的文件中。重定向机制不要求修改程序 `randomseq.py`"
   ]
  },
  {
   "cell_type": "code",
   "execution_count": 4,
   "metadata": {
    "ExecuteTime": {
     "end_time": "2018-02-20T03:54:03.725710Z",
     "start_time": "2018-02-20T03:54:03.551247Z"
    }
   },
   "outputs": [
    {
     "name": "stdout",
     "output_type": "stream",
     "text": [
      "0.7292392937584716\n",
      "0.16393694972944994\n",
      "0.10336619115936596\n",
      "0.28864675735172507\n",
      "0.7896346008757245\n",
      "0.01398088786627072\n",
      "0.44518267584081994\n",
      "0.041614060007233444\n",
      "0.7433953516202225\n",
      "0.695647335800092\n"
     ]
    }
   ],
   "source": [
    "!python randomseq.py 10    # 命令行参数，未重定向"
   ]
  },
  {
   "cell_type": "code",
   "execution_count": 8,
   "metadata": {
    "ExecuteTime": {
     "end_time": "2018-02-20T03:57:02.153902Z",
     "start_time": "2018-02-20T03:57:01.982454Z"
    }
   },
   "outputs": [],
   "source": [
    "!python randomseq.py 1000 > data.csv"
   ]
  },
  {
   "cell_type": "markdown",
   "metadata": {},
   "source": [
    "#### Redirecting standard input from a file（重定向文件到标准输出）\n",
    "Similarly, we can redirect standard input so that a program reads data from a file instead of the terminal application. For example, the command:"
   ]
  },
  {
   "cell_type": "code",
   "execution_count": 10,
   "metadata": {
    "ExecuteTime": {
     "end_time": "2018-02-20T04:00:46.831720Z",
     "start_time": "2018-02-20T04:00:46.692383Z"
    }
   },
   "outputs": [
    {
     "name": "stdout",
     "output_type": "stream",
     "text": [
      "Average is 0.5100893837055442\n"
     ]
    }
   ],
   "source": [
    "!python average.py < data.csv"
   ]
  },
  {
   "cell_type": "markdown",
   "metadata": {},
   "source": [
    "#### Connecting two programs（连接两个程序）\n",
    "The most flexible way to implement the standard input and standard output abstractions is to specify that they are implemented by our own programs! This mechanism is called **piping**（管道）. \n",
    "实现标准输入和标准输出抽象的最灵活的方式是指定一个程序的输出为另一个程序的输入，这种机制称之为**管道**。\n",
    "\n",
    "For example, the following command:"
   ]
  },
  {
   "cell_type": "code",
   "execution_count": 1,
   "metadata": {
    "ExecuteTime": {
     "end_time": "2018-02-20T04:14:33.949751Z",
     "start_time": "2018-02-20T04:14:33.118538Z"
    }
   },
   "outputs": [
    {
     "name": "stdout",
     "output_type": "stream",
     "text": [
      "Average is 0.49987768728911863\n"
     ]
    }
   ],
   "source": [
    "!python randomseq.py 100000| python average.py"
   ]
  },
  {
   "cell_type": "markdown",
   "metadata": {},
   "source": [
    "#### Filters（过滤器）\n",
    "For many common tasks, it is convenient to think of each program as a filter that converts a standard input stream to a standard output stream in some way, with piping as the command mechanism to connect programs together. For example, rangefilter.py takes two command-line arguments and writes to standard output those numbers from standard input that fall within the specified range.\n",
    "\n",
    "Several standard filters that were designed for Unix still survive (sometimes with different names) as commands in modern operating systems. For example, the `sort` filter reads the lines from standard input and writes them to standard output in sorted order:"
   ]
  },
  {
   "cell_type": "code",
   "execution_count": 3,
   "metadata": {
    "ExecuteTime": {
     "end_time": "2018-02-20T04:21:22.126701Z",
     "start_time": "2018-02-20T04:21:21.956247Z"
    },
    "scrolled": true
   },
   "outputs": [
    {
     "name": "stdout",
     "output_type": "stream",
     "text": [
      "0.012952058119068854\n",
      "0.059056125240413926\n",
      "0.11424161836105962\n",
      "0.17628600871983635\n",
      "0.2641516105242976\n",
      "0.399889036467033\n",
      "0.7245173772369539\n",
      "0.8022750895588399\n",
      "0.9077324974861712\n"
     ]
    }
   ],
   "source": [
    "!python randomseq.py 9 | sort"
   ]
  },
  {
   "cell_type": "markdown",
   "metadata": {},
   "source": [
    "Another useful filter is `more`, which reads data from standard input and displays it in your terminal window one screenful at a time. For example, if you type"
   ]
  },
  {
   "cell_type": "code",
   "execution_count": 4,
   "metadata": {
    "ExecuteTime": {
     "end_time": "2018-02-20T04:22:02.245430Z",
     "start_time": "2018-02-20T04:22:01.979722Z"
    }
   },
   "outputs": [
    {
     "name": "stdout",
     "output_type": "stream",
     "text": [
      "0.7706545604284174\n",
      "0.7407091291780479\n",
      "0.6302147660273723\n",
      "0.3042514422690338\n",
      "0.1350101150919425\n",
      "0.3999871740381029\n",
      "0.2571810938503911\n",
      "0.633950331710782\n",
      "0.3945776872208635\n",
      "0.46699073233721233\n",
      "0.7466868559024233\n",
      "0.09734889128594826\n",
      "0.05757108694748703\n",
      "0.8834819506065954\n",
      "0.7813726540963952\n",
      "0.8338260348557786\n",
      "0.7085736958512955\n",
      "0.6383681184623329\n",
      "0.4252561125279364\n",
      "0.22094379114525964\n",
      "0.5873929792447034\n",
      "0.12403153692063196\n",
      "0.24226938361592765\n",
      "0.1705318532649922\n",
      "0.864200021643388\n",
      "0.38078243545682644\n",
      "0.41800204169621213\n",
      "0.14252596629981673\n",
      "0.2712082460161115\n",
      "0.21744177451242952\n",
      "0.6979149043088767\n",
      "0.7644115219068526\n",
      "0.7344646341867496\n",
      "0.5146021233245041\n",
      "0.6334337596457846\n",
      "0.046393467530052024\n",
      "0.9442552900978803\n",
      "0.6413497531002623\n",
      "0.7996274838414063\n",
      "0.40670516229708653\n",
      "0.27421913797366304\n",
      "0.6180992872448625\n",
      "0.30519910787511007\n",
      "0.8109267336324131\n",
      "0.6730132113583472\n",
      "0.9965931983386915\n",
      "0.19075745696362545\n",
      "0.7640546491854301\n",
      "0.45704317772730807\n",
      "0.9927303646362383\n",
      "0.1716814885365111\n",
      "0.9478441388600524\n",
      "0.8154912512909278\n",
      "0.033619709543783016\n",
      "0.8420325586795031\n",
      "0.5345181090461377\n",
      "0.5591616837543164\n",
      "0.5041845068659307\n",
      "0.11067990896630131\n",
      "0.5240416875307866\n",
      "0.7355688381170271\n",
      "0.3991302425756189\n",
      "0.28129488862700947\n",
      "0.02765719390720911\n",
      "0.45169642924237585\n",
      "0.3068093115749222\n",
      "0.9625499284332\n",
      "0.4507040488779005\n",
      "0.4801180318659215\n",
      "0.651241910568855\n",
      "0.6949007475299367\n",
      "0.560726072965998\n",
      "0.7444735742261621\n",
      "0.6593475846717157\n",
      "0.52047023824834\n",
      "0.6158870625889397\n",
      "0.3576761982082416\n",
      "0.1447523815803019\n",
      "0.01297140630271576\n",
      "0.08963878577690476\n",
      "0.7016052694879812\n",
      "0.028298830573215805\n",
      "0.6641646994947356\n",
      "0.9505779206309525\n",
      "0.1945502047162141\n",
      "0.09059635915522157\n",
      "0.7859605603589217\n",
      "0.6221958981005888\n",
      "0.6253350338979291\n",
      "0.97746661729589\n",
      "0.31625363830570175\n",
      "0.7329189713754956\n",
      "0.819209647079905\n",
      "0.8568820909030355\n",
      "0.7702457440763315\n",
      "0.16111949304087114\n",
      "0.7262207487602887\n",
      "0.40667372784275013\n",
      "0.3763791760581743\n",
      "0.0117616310369002\n",
      "0.8126015536361969\n",
      "0.8006953194675425\n",
      "0.9489190100513005\n",
      "0.45539178887327625\n",
      "0.27695534710571934\n",
      "0.69289375366639\n",
      "0.8082218616043116\n",
      "0.6020703521414777\n",
      "0.48005857002090446\n",
      "0.8538994263311771\n",
      "0.2583169333371872\n",
      "0.5787684589002701\n",
      "0.5662304310803874\n",
      "0.8493154277069204\n",
      "0.3542258649378378\n",
      "0.48602459728224856\n",
      "0.6693531435840548\n",
      "0.2504605750107072\n",
      "0.019978602233049925\n",
      "0.6345123957880445\n",
      "0.009285813151201472\n",
      "0.5443259548773922\n",
      "0.33645767781694524\n",
      "0.6875826978679945\n",
      "0.041242002855061854\n",
      "0.09986403142136291\n",
      "0.6045756757719096\n",
      "0.43126567014868\n",
      "0.07897009376705122\n",
      "0.22072562825940956\n",
      "0.6096402862958196\n",
      "0.1949233906020057\n",
      "0.3609002207323897\n",
      "0.9050008322097544\n",
      "0.6882379723891395\n",
      "0.8590761835993491\n",
      "0.41097979467042656\n",
      "0.1431768088065366\n",
      "0.6163093481116458\n",
      "0.7166128446971989\n",
      "0.5917358835970281\n",
      "0.9743577334720478\n",
      "0.4677811508680303\n",
      "0.7805108011686994\n",
      "0.5420198243167089\n",
      "0.021503841786210343\n",
      "0.035008813965907826\n",
      "0.6580547658732758\n",
      "0.6745586244628592\n",
      "0.9002075930322189\n",
      "0.2231468160495571\n",
      "0.9127624740473096\n",
      "0.17506446633658845\n",
      "0.38250353940811666\n",
      "0.7433469952318229\n",
      "0.7820227624320146\n",
      "0.2644518218541576\n",
      "0.4298394489602744\n",
      "0.056353965721938515\n",
      "0.2586328288062457\n",
      "0.7779758318592188\n",
      "0.7867486346491944\n",
      "0.5143086181363892\n",
      "0.5634690535979169\n",
      "0.390404282154043\n",
      "0.7029194683001018\n",
      "0.78989529323286\n",
      "0.5569698583795046\n",
      "0.37836144453049203\n",
      "0.1508544451145415\n",
      "0.3042735528644065\n",
      "0.47851693895267433\n",
      "0.8471554851583222\n",
      "0.6223547959583771\n",
      "0.613357586404614\n",
      "0.35689670629435355\n",
      "0.06733206293340221\n",
      "0.8023375742536115\n",
      "0.18120253042082268\n",
      "0.9221070001263246\n",
      "0.22328711738933849\n",
      "0.8132864136261784\n",
      "0.41783717954281596\n",
      "0.8258716433876645\n",
      "0.31766655234425467\n",
      "0.012864083574139484\n",
      "0.02237853931047662\n",
      "0.9345361006825991\n",
      "0.08865077153841117\n",
      "0.2998734578157163\n",
      "0.23087545328440762\n",
      "0.7524731194936787\n",
      "0.5566504948709635\n",
      "0.48599599822089945\n",
      "0.7570652902112361\n",
      "0.5052933331123773\n",
      "0.7840110271806486\n",
      "0.15863883731572748\n",
      "0.5433801672612935\n",
      "0.41044291613876005\n",
      "0.8339980462344391\n",
      "0.6580498269755033\n",
      "0.9591727279640972\n",
      "0.7739998770742083\n",
      "0.17182731839914311\n",
      "0.8229330166833849\n",
      "0.8115498152244555\n",
      "0.6927667349727942\n",
      "0.6866866038211624\n",
      "0.2663759359470229\n",
      "0.3228977850849436\n",
      "0.21304906256273426\n",
      "0.4109197429197665\n",
      "0.12617043648560633\n",
      "0.5567877433273435\n",
      "0.6104244008632259\n",
      "0.016817338144072824\n",
      "0.8378868578102858\n",
      "0.3890099176114715\n",
      "0.3698112137610128\n",
      "0.3262383043007032\n",
      "0.41501307893284667\n",
      "0.4204568410610142\n",
      "0.9920854091303111\n",
      "0.22959002108027726\n",
      "0.49515513153121604\n",
      "0.9297897840489162\n",
      "0.9333561719270076\n",
      "0.6387790909758808\n",
      "0.14597284241695152\n",
      "0.40201445751339493\n",
      "0.0860446364146642\n",
      "0.5055068505626371\n",
      "0.23484879017560045\n",
      "0.824054539499443\n",
      "0.083456899433201\n",
      "0.5864463654924081\n",
      "0.1660808567724824\n",
      "0.4830236232245123\n",
      "0.8720897544039962\n",
      "0.7630511280930361\n",
      "0.8630485460326575\n",
      "0.34129124339469796\n",
      "0.0023423365688144404\n",
      "0.11499205398871037\n",
      "0.9252439315655215\n",
      "0.08384654880557574\n",
      "0.24486819399789628\n",
      "0.6485827238763218\n",
      "0.19585813320325818\n",
      "0.7222421928308466\n",
      "0.9216722854885443\n",
      "0.939122082741727\n",
      "0.6501200477797088\n",
      "0.8174264172630092\n",
      "0.16674612003242195\n",
      "0.6094933942795254\n",
      "0.9215847547330966\n",
      "0.8397623197755811\n",
      "0.6924863184601061\n",
      "0.5940842530140827\n",
      "0.7738508621406445\n",
      "0.8791107746261575\n",
      "0.4961403851971683\n",
      "0.30222385261353246\n",
      "0.525161999708925\n",
      "0.7035761215681915\n",
      "0.08226230479171281\n",
      "0.9904204077895654\n",
      "0.42479337019858154\n",
      "0.6007683000943626\n",
      "0.19067440145299142\n",
      "0.5423784516861914\n",
      "0.07245857478437978\n",
      "0.8660346137079258\n",
      "0.9908207359549207\n",
      "0.14097518901071715\n",
      "0.3987855955420898\n",
      "0.1432697974504833\n",
      "0.12744736449866967\n",
      "0.5773270501631177\n",
      "0.5919200032523031\n",
      "0.0811595447829172\n",
      "0.6747978219241795\n",
      "0.4710257836884225\n",
      "0.3641660649492574\n",
      "0.14647625399423514\n",
      "0.04625302041876611\n",
      "0.9506708860390337\n",
      "0.8186666298306255\n",
      "0.19114835838481548\n",
      "0.5301575377785976\n",
      "0.5720573012382469\n",
      "0.7985212072472836\n",
      "0.15224563760763343\n",
      "0.4183196697224303\n",
      "0.6374710941822052\n",
      "0.5943094736710476\n",
      "0.026121733429698812\n",
      "0.6175079392820825\n",
      "0.7759254585848397\n",
      "0.9493327240632137\n",
      "0.37999661750060953\n",
      "0.7291217041004088\n",
      "0.7709457600630636\n",
      "0.9613571762582509\n",
      "0.49870306164195377\n",
      "0.2992529359276467\n",
      "0.5927401204586482\n",
      "0.6659300759129765\n",
      "0.6109122876844806\n",
      "0.3055769845615759\n",
      "0.05688581765029521\n",
      "0.6382874280708959\n",
      "0.6729285164570787\n",
      "0.09855587553792922\n",
      "0.28075603369622826\n",
      "0.03145868001780794\n",
      "0.8029860293656302\n",
      "0.4718902896947582\n",
      "0.2621164169918361\n",
      "0.6772614829798843\n",
      "0.9753555572232956\n",
      "0.9634399605006068\n",
      "0.11885941768240449\n",
      "0.8195028434867401\n",
      "0.009678625889887882\n",
      "0.06165552441495936\n",
      "0.5163817949709665\n",
      "0.2157778109149362\n",
      "0.5966867437660429\n",
      "0.3534031230285679\n",
      "0.86968663317217\n",
      "0.5254424600312917\n",
      "0.702617360041831\n",
      "0.30973164271514886\n",
      "0.24093849093249253\n",
      "0.7635194831394168\n",
      "0.10663577521900358\n",
      "0.06214713120623372\n",
      "0.10485903489999593\n",
      "0.9161125272611572\n",
      "0.36342729696250764\n",
      "0.09694158457393531\n",
      "0.9390963017688871\n",
      "0.8735844708688575\n",
      "0.05190542122745401\n",
      "0.7240934839715618\n",
      "0.20555753152665424\n",
      "0.9615000608436546\n",
      "0.8307446854432075\n",
      "0.3695320518720717\n",
      "0.4200014646208422\n",
      "0.524870807495558\n",
      "0.34113765356603143\n",
      "0.7467563131508391\n",
      "0.3524338330247646\n",
      "0.6522721978289872\n",
      "0.6423620368911058\n",
      "0.04757878422422701\n",
      "0.8872304297915066\n",
      "0.4058833831598325\n",
      "0.22602975709075934\n",
      "0.6848295435827506\n",
      "0.5361314573451975\n",
      "0.3464920988948774\n",
      "0.884103003639308\n",
      "0.6014119692305187\n",
      "0.6817346704614391\n",
      "0.049644451165058556\n",
      "0.013289818657586827\n",
      "0.09308628687840836\n",
      "0.9085863113708913\n",
      "0.22718844548708517\n",
      "0.40988707853500783\n",
      "0.20972657170541253\n",
      "0.9529888934115467\n",
      "0.9029900699235986\n",
      "0.9347764848553298\n",
      "0.029618032564094787\n",
      "0.9648753958404703\n",
      "0.006535973075893486\n",
      "0.4494589575522193\n",
      "0.8947220252426814\n",
      "0.4908366213233557\n",
      "0.520159342299458\n",
      "0.7439107288777641\n",
      "0.23896043024544356\n",
      "0.4223780696151668\n",
      "0.0072618157744257505\n",
      "0.7976753998793212\n",
      "0.6517751956057235\n",
      "0.41543055745044943\n",
      "0.3903389889734429\n",
      "0.8023512192817384\n",
      "0.16395487034185985\n",
      "0.6780844957089283\n",
      "0.10963144472458586\n",
      "0.8721174458864459\n",
      "0.5983580853639423\n",
      "0.8837617947139812\n",
      "0.7003409257585617\n",
      "0.16001422063654258\n",
      "0.871702814235808\n",
      "0.5802850374439332\n",
      "0.3233180485072099\n",
      "0.6512426209753492\n",
      "0.1465541615825412\n",
      "0.5712943288549478\n",
      "0.9433632527407926\n",
      "0.3485669885600813\n",
      "0.8770155640276139\n",
      "0.7240341482674192\n",
      "0.2024325298041918\n",
      "0.8911809428073241\n",
      "0.3903222413888211\n",
      "0.6204994196256041\n",
      "0.37976454708700136\n",
      "0.5990098082306663\n",
      "0.7847063016214901\n",
      "0.16464338397711298\n",
      "0.8938785435669029\n",
      "0.2389835516863249\n",
      "0.6550525245549563\n",
      "0.27718222910799417\n",
      "0.8370186924283701\n",
      "0.15763303919563243\n",
      "0.36842246926909594\n",
      "0.8349011712966306\n",
      "0.11310648300512915\n",
      "0.7930841686803977\n",
      "0.4992484671361992\n",
      "0.40705648145086226\n",
      "0.17246544734152425\n",
      "0.09778695039810303\n",
      "0.1829690504683975\n",
      "0.8588286709361176\n",
      "0.725113038565282\n",
      "0.3915504773419046\n",
      "0.46680180902304125\n",
      "0.15205495261758828\n",
      "0.9905662434553506\n",
      "0.25420669159010567\n",
      "0.5943530592116018\n",
      "0.1659045061630957\n",
      "0.9047061558494162\n",
      "0.22455220598013337\n",
      "0.0907642167824958\n",
      "0.6518006905410623\n",
      "0.42313644485873814\n",
      "0.08730086931148406\n",
      "0.7195310861900175\n",
      "0.6092146699446473\n",
      "0.5990234436903207\n",
      "0.7151487145073184\n",
      "0.26125348759806866\n",
      "0.6294041104886189\n",
      "0.02737687548782286\n",
      "0.36131438698466145\n",
      "0.8103252040026947\n",
      "0.9251260160383197\n",
      "0.703394488609021\n",
      "0.06184375984752699\n",
      "0.3508859442824026\n",
      "0.5458626146644825\n",
      "0.7160706680484634\n",
      "0.022417610693346357\n",
      "0.280045926642992\n",
      "0.0896799288867196\n",
      "0.17514467875619444\n",
      "0.8570480949885677\n",
      "0.9479319247164064\n",
      "0.7304257799532612\n",
      "0.4162226887211239\n",
      "0.3281022913746221\n",
      "0.916752514315911\n",
      "0.33609457715737434\n",
      "0.5272631381316352\n",
      "0.8651513947280975\n",
      "0.9398390083547363\n",
      "0.7660206078565175\n",
      "0.971775206010355\n",
      "0.15288686834635834\n",
      "0.7818486760269594\n",
      "0.5473509622104805\n",
      "0.7445049913291102\n",
      "0.23959948326459213\n",
      "0.9524193104056305\n",
      "0.6883647524405204\n",
      "0.9469505611200991\n",
      "0.5609347710043551\n",
      "0.4335383749144217\n",
      "0.09403726357681819\n",
      "0.40557986534697776\n",
      "0.48481004582135256\n",
      "0.49188022909331985\n",
      "0.6604512027380057\n",
      "0.3536211186856101\n",
      "0.41054128804515866\n",
      "0.38410358174449455\n",
      "0.003011411560214894\n",
      "0.1386214454747946\n",
      "0.7669295085946682\n",
      "0.6731125007240941\n",
      "0.6509195817451001\n",
      "0.3818594000923362\n",
      "0.8122596183645173\n",
      "0.54136322032101\n",
      "0.7254062965545542\n",
      "0.6434071404233253\n",
      "0.7508724023693814\n",
      "0.2148269350202875\n",
      "0.7978639176627815\n",
      "0.6841759544595825\n",
      "0.6519622422222521\n",
      "0.08180532162302834\n",
      "0.06600407507404171\n",
      "0.7243856828138255\n",
      "0.4142952509778247\n",
      "0.9348853189023526\n",
      "0.4691076764568852\n",
      "0.48635745763311544\n",
      "0.4683055655740612\n",
      "0.6719066037747752\n",
      "0.7658471035502393\n",
      "0.04153372758068652\n",
      "0.5003409062737053\n",
      "0.6793580529586274\n",
      "0.12520960096284273\n",
      "0.06495730089730756\n",
      "0.5118255369258911\n",
      "0.057201335628571104\n",
      "0.05248470984341891\n",
      "0.21385154608559642\n",
      "0.4619020846854033\n",
      "0.23907979073923769\n",
      "0.42474460260861546\n",
      "0.0737984610942033\n",
      "0.7525937582067538\n",
      "0.5312434692753004\n",
      "0.9071268351426467\n",
      "0.43734462043116695\n",
      "0.5946983748527597\n",
      "0.8203772899794938\n",
      "0.7533161390728813\n",
      "0.43676297450701806\n",
      "0.776591940166721\n",
      "0.32547140360725646\n",
      "0.7199166942502754\n",
      "0.673884630809756\n",
      "0.056911277370893076\n",
      "0.30357217866839514\n",
      "0.06430479268520628\n",
      "0.8047039309311504\n",
      "0.3696927296217536\n",
      "0.7194159765001867\n",
      "0.5586071337718305\n",
      "0.2434730041135118\n",
      "0.2998240242346131\n",
      "0.21381186980943678\n",
      "0.2029003664325042\n",
      "0.8879128219494311\n",
      "0.3895207554636986\n",
      "0.8844992008495527\n",
      "0.6114191829969201\n",
      "0.5515761282018303\n",
      "0.36621418421303054\n",
      "0.3755125959341521\n",
      "0.19208352373503346\n",
      "0.7297267851964904\n",
      "0.20984500310218068\n",
      "0.16432634018966563\n",
      "0.21045822318763374\n",
      "0.24989016787301122\n",
      "0.9587502644932683\n",
      "0.33375199093862185\n",
      "0.47394312536553984\n",
      "0.9938902140321634\n",
      "0.8080622281217472\n",
      "0.47189203233984445\n",
      "0.3373594768469177\n",
      "0.4951736282403314\n",
      "0.47267707010289284\n",
      "0.5080077663785437\n",
      "0.7412214689721439\n",
      "0.5212210747365312\n",
      "0.5580539993657623\n",
      "0.7153700152662432\n",
      "0.9163272958744194\n",
      "0.20260555319299212\n",
      "0.9621973135303044\n",
      "0.8944394492916197\n",
      "0.08599520103912917\n",
      "0.45271954836815653\n",
      "0.09769980157103708\n",
      "0.6079846305288685\n",
      "0.6437333563150844\n",
      "0.9048718197185067\n",
      "0.8105253829765279\n",
      "0.3488997866128448\n",
      "0.6093093730437638\n",
      "0.03824010918007603\n",
      "0.17721253569282036\n",
      "0.6635285952715196\n",
      "0.5972423438875887\n",
      "0.22594442643596457\n",
      "0.5564971959184758\n",
      "0.628779390149273\n",
      "0.11546854295177722\n",
      "0.11432140338471364\n",
      "0.9870721945520469\n",
      "0.2916465954764903\n",
      "0.6250925014362754\n",
      "0.9818397733383154\n",
      "0.8001720075382834\n",
      "0.7896697607905261\n",
      "0.7936743065336708\n",
      "0.028467591972768824\n",
      "0.45333583593989424\n",
      "0.44600430482307984\n",
      "0.9673222387995335\n",
      "0.5941674517718374\n",
      "0.8008241597502275\n",
      "0.9434059150153181\n",
      "0.6183388341961177\n",
      "0.27834122457607846\n",
      "0.594252393182521\n",
      "0.7111614032328009\n",
      "0.10698737582507933\n",
      "0.27149008069361436\n",
      "0.7502034145787976\n",
      "0.6749514480724124\n",
      "0.9267717249430519\n",
      "0.3418809922515247\n",
      "0.895175991336228\n",
      "0.3862305796369181\n",
      "0.32168617143979783\n",
      "0.21210053845554855\n",
      "0.06186479763132191\n",
      "0.942635208625136\n",
      "0.014698344264916896\n",
      "0.5998389133864471\n",
      "0.20594527660199724\n",
      "0.6072207591599337\n",
      "0.4313548140699045\n",
      "0.4633637853496899\n",
      "0.699763949339265\n",
      "0.41560900632439657\n",
      "0.9678171393094251\n",
      "0.9018935755422341\n",
      "0.9663539114009143\n",
      "0.4603623792586299\n",
      "0.17161891630188053\n",
      "0.9036130485786973\n",
      "0.8804059119857996\n",
      "0.36165805589530864\n",
      "0.7283524307185584\n",
      "0.7958216482898222\n",
      "0.3462477154543605\n",
      "0.12366479820398035\n",
      "0.7483533714063385\n",
      "0.6395338265103043\n",
      "0.9026272471982509\n",
      "0.21695409714158653\n",
      "0.47949779305561746\n",
      "0.21088564750989247\n",
      "0.9271979259211276\n",
      "0.6232760098250352\n",
      "0.11868285839202342\n",
      "0.9000286262795029\n",
      "0.3106572045354692\n",
      "0.46628318518807055\n",
      "0.4261093637119623\n",
      "0.6865410788984844\n",
      "0.7676661734769843\n",
      "0.7591117670600515\n",
      "0.03510858208613521\n",
      "0.6807821114177653\n",
      "0.40430514553668595\n",
      "0.771548608377904\n",
      "0.2294261833179566\n",
      "0.674862816117534\n",
      "0.09763226071876607\n",
      "0.6526488239430768\n",
      "0.8842132377130341\n",
      "0.18532408791583976\n",
      "0.33810282686969584\n",
      "0.49426232378878887\n",
      "0.4142114756707429\n",
      "0.19869352841088728\n",
      "0.21089508178801053\n",
      "0.7242501294251348\n",
      "0.3756239634396161\n",
      "0.32572531307539276\n",
      "0.8643506020545704\n",
      "0.9925211571466568\n",
      "0.9662508603184591\n",
      "0.35278124777296727\n",
      "0.27165835960130214\n",
      "0.8178761804445482\n",
      "0.41881300763610774\n",
      "0.04642906010338743\n",
      "0.17380557283961406\n",
      "0.4175202321459417\n",
      "0.45630194444218386\n",
      "0.9018362028638867\n",
      "0.14222678482181283\n",
      "0.2736588471493513\n",
      "0.20874272236766\n",
      "0.9885979912716674\n",
      "0.4622664344714772\n",
      "0.12172511971465017\n",
      "0.15136108839300055\n",
      "0.35724300377892526\n",
      "0.9251277336688567\n",
      "0.3009742714680348\n",
      "0.20922231524462276\n",
      "0.8311549286078617\n",
      "0.31531657924715406\n",
      "0.10513152123648462\n",
      "0.636372680447396\n",
      "0.599180854799011\n",
      "0.7945947102269355\n",
      "0.18597206880310269\n",
      "0.48447301113141084\n",
      "0.0701736064293077\n",
      "0.5861789741893235\n",
      "0.7386443153506184\n",
      "0.40381509643686964\n",
      "0.4398570282606492\n",
      "0.6126482404663839\n",
      "0.5744843892909465\n",
      "0.7745883229680207\n",
      "0.8519287030004398\n",
      "0.578648399852425\n",
      "0.3996215617519303\n",
      "0.0696805029942229\n",
      "0.35951045612996146\n",
      "0.5364773235990287\n",
      "0.7066066600373002\n",
      "0.1750457171727694\n",
      "0.7525926258720952\n",
      "0.9804160907723631\n",
      "0.8975162820136174\n",
      "0.5888847900025296\n",
      "0.5711996979304903\n",
      "0.4524928999259009\n",
      "0.8355427978806956\n",
      "0.7369299887118869\n",
      "0.34037520305331215\n",
      "0.9079633820875436\n",
      "0.7119908973736954\n",
      "0.9119612993625157\n",
      "0.7218291196486019\n",
      "0.27306450656278924\n",
      "0.8277340111061278\n",
      "0.23149938410107407\n",
      "0.5105164602769481\n",
      "0.6263506137208185\n",
      "0.1979843784587486\n",
      "0.8739256443031791\n",
      "0.30131466298750353\n",
      "0.7131629731486332\n",
      "0.8268538481683302\n",
      "0.5634024041276047\n",
      "0.7582825408535038\n",
      "0.09767223913422407\n",
      "0.2125493765830785\n",
      "0.7190571031321046\n",
      "0.7274775044248645\n",
      "0.8673462268948119\n",
      "0.5148390731905651\n",
      "0.693909740534379\n",
      "0.03534701316359279\n",
      "0.47004587055528435\n",
      "0.3630378588903481\n",
      "0.9533284407314186\n",
      "0.9157394784639208\n",
      "0.01677353348454369\n",
      "0.04318629277776875\n",
      "0.3375106628134925\n",
      "0.13224629635234786\n",
      "0.8692708060430705\n",
      "0.9298772006446583\n",
      "0.38968637723609756\n",
      "0.4136038615175124\n",
      "0.39440507487019427\n",
      "0.625625941121025\n",
      "0.16719530944343763\n",
      "0.6980537841390633\n",
      "0.013227432669840389\n",
      "0.7200889134297339\n",
      "0.03148990202620949\n",
      "0.5963268508401403\n",
      "0.9761808008335889\n",
      "0.9334605032039711\n",
      "0.787245709517468\n",
      "0.9447604200443627\n",
      "0.8932812433122727\n",
      "0.9585814684379018\n",
      "0.7981735589520075\n",
      "0.4071285239349769\n",
      "0.35780523666868935\n",
      "0.9079352414482936\n",
      "0.10306292605360357\n",
      "0.4189967744668147\n",
      "0.7674563983266742\n",
      "0.4728752407184347\n",
      "0.3620522700787344\n",
      "0.21607131697121706\n",
      "0.07515042994379306\n",
      "0.5867055982734609\n",
      "0.5355806034408134\n",
      "0.807834789762224\n",
      "0.7178033263184362\n",
      "0.0923142081573537\n",
      "0.6575715488753366\n",
      "0.40370764128748027\n",
      "0.5449802845956316\n",
      "0.8670328648290591\n",
      "0.631808617988075\n",
      "0.36873155355573317\n",
      "0.7405209773381141\n",
      "0.5604342320962636\n",
      "0.7988781291537262\n",
      "0.7974449819667966\n",
      "0.9380602359738953\n",
      "0.7026064029332808\n",
      "0.6331331752054148\n",
      "0.7790121536893481\n",
      "0.3726944034064711\n",
      "0.035568797359365356\n",
      "0.9140594090021839\n",
      "0.608174884175223\n",
      "0.6452096208509652\n",
      "0.3055477045806252\n",
      "0.10688496889839871\n",
      "0.2793548959921247\n",
      "0.6269494261979939\n",
      "0.34853320083644146\n",
      "0.6243312310534345\n",
      "0.8720833965344841\n",
      "0.5754541394887928\n",
      "0.11184814961057488\n",
      "0.7846688658811234\n",
      "0.8857298986809179\n",
      "0.6569391754605807\n",
      "0.5963811336150338\n",
      "0.18507327428898435\n",
      "0.9843160889981459\n",
      "0.9642952212359868\n",
      "0.39843753513298963\n",
      "0.696657893131696\n",
      "0.816920932283144\n",
      "0.3694427934091218\n",
      "0.5169910612367247\n",
      "0.43703236744558094\n",
      "0.8272939844326616\n",
      "0.16129594081487864\n",
      "0.7340615831864389\n",
      "0.26792612191165166\n",
      "0.2316347444090069\n",
      "0.017808847161492336\n",
      "0.5311186893529924\n",
      "0.28040111922101363\n",
      "0.7963763930516609\n",
      "0.5687521977637839\n",
      "0.7003167847314561\n",
      "0.42912014765766515\n",
      "0.7399616208833267\n",
      "0.6283564211687265\n",
      "0.796331355628162\n",
      "0.844159588580681\n",
      "0.9987335502263333\n",
      "0.3994695286462804\n",
      "0.600708860934649\n",
      "0.6420118160706958\n",
      "0.2420767339063481\n",
      "0.934921570481976\n",
      "0.6612770859410495\n",
      "0.97633128458339\n",
      "0.2469865341301688\n",
      "0.10652356030589782\n",
      "0.8273238493080826\n",
      "0.19003058745872836\n",
      "0.5414103438055178\n",
      "0.5132528668493688\n",
      "0.4532936870139078\n",
      "0.5611863198974659\n",
      "0.0021326420445928473\n",
      "0.7775379937025692\n",
      "0.6815986510034339\n",
      "0.19736635487960297\n",
      "0.8976695676900427\n",
      "0.6815228263827033\n",
      "0.6927531964584358\n",
      "0.25455191001586763\n",
      "0.02473641336105825\n",
      "0.5654735599688197\n",
      "0.9089061920501084\n",
      "0.48658713918412\n",
      "0.05388222657776032\n",
      "0.38534236242512043\n",
      "0.8917602630949978\n",
      "0.1192287437852072\n",
      "0.4311394062608306\n",
      "0.5842754650557239\n",
      "0.5310224791552587\n",
      "0.439708758874257\n",
      "0.661148737014316\n",
      "0.01593866005454725\n",
      "0.6809362379463016\n",
      "0.5191891191115632\n",
      "0.15980378027566766\n",
      "0.46857447922865947\n",
      "0.021889061651092057\n",
      "0.7689762004240519\n",
      "0.285027762771375\n",
      "0.44602500358152686\n",
      "0.8663638206300879\n",
      "0.14133113920274398\n",
      "0.26544993034258335\n",
      "0.7759782069195543\n",
      "0.35893682532677085\n",
      "0.6648246793252098\n",
      "0.11887966281351736\n",
      "0.9063787523355582\n",
      "0.7978037082691893\n",
      "0.1804802485344662\n",
      "0.5377411040154251\n",
      "0.8526590432754647\n",
      "0.853057456025302\n",
      "0.2604083174771957\n",
      "0.24307417643280926\n",
      "0.27020811684797064\n",
      "0.2576930428801888\n",
      "0.5168899860817068\n",
      "0.20477756628269927\n",
      "0.22864664224115416\n",
      "0.04942545836925716\n",
      "0.2784561209550652\n",
      "0.9006183404318877\n",
      "0.9434233339700063\n",
      "0.6566920845697695\n",
      "0.1380638736543247\n",
      "0.37441193832791475\n",
      "0.7095160385666713\n",
      "0.5002236328567178\n",
      "0.12132921496253202\n",
      "0.5372212807859851\n",
      "0.09759344183069762\n",
      "0.4255109173303717\n",
      "0.6918958013166727\n",
      "0.46117323468625193\n",
      "0.5807184690663847\n",
      "0.16390004976633454\n",
      "0.750431505173451\n",
      "0.34542623408400686\n",
      "0.6764338165778045\n",
      "0.11625379886396037\n",
      "0.13402186296848617\n",
      "0.7754596929609041\n",
      "0.8010842970862904\n",
      "0.5877895610796127\n",
      "0.7387404001015849\n",
      "0.8563650772026692\n",
      "0.8345282559189874\n",
      "0.7400019645072747\n",
      "0.7077161734484476\n",
      "0.919356328216701\n",
      "0.04903598401093223\n",
      "0.589736064669527\n",
      "0.524636888688389\n",
      "0.7349020722615481\n",
      "0.658147012985701\n",
      "0.8170994582548952\n",
      "0.49048942026896014\n",
      "0.24586212578242816\n",
      "0.15230050352629942\n",
      "0.11569152098939917\n",
      "0.9218272393388252\n",
      "0.0596614785512628\n",
      "0.6353177686561228\n",
      "0.9091342416218787\n",
      "0.7474419123959688\n",
      "0.5409013357619841\n",
      "0.33194934487134575\n",
      "0.37897530834995996\n",
      "0.1831904666345907\n",
      "0.1570675592447457\n",
      "0.13398455437314793\n",
      "0.6809682769493085\n",
      "0.3571193978361301\n",
      "0.30093228412345785\n",
      "0.4482553634339649\n",
      "0.09682851306377693\n",
      "0.6413871831988046\n",
      "0.47457292823415587\n",
      "0.8762906689420615\n",
      "0.8018880624484894\n",
      "\n"
     ]
    }
   ],
   "source": [
    "!python randomseq.py 1000 | more"
   ]
  },
  {
   "cell_type": "code",
   "execution_count": null,
   "metadata": {
    "ExecuteTime": {
     "start_time": "2018-03-20T14:33:50.181Z"
    }
   },
   "outputs": [],
   "source": [
    "!grep lo | rangefilter.py  "
   ]
  },
  {
   "cell_type": "markdown",
   "metadata": {},
   "source": [
    "大多数情况下，过滤器泛指所有从标准输入读取数据并写入标准输出的程序。\n",
    "\n",
    "### Standard Drawing \n",
    "Now we introduce an abstraction for producing drawings as output. We imagine an abstract drawing device capable of drawing lines and points on a two-dimensional \"canvas\" and then displaying that canvas on your screen in the standard drawing window. The device is capable of responding to the commands that our programs issue in the form of calls to functions in the stddraw module. The module's API consists of two kinds of functions: drawing functions that cause the device to take an action (such as drawing a line or drawing a point) and control functions that control how the drawing is shown and set parameters such as the pen size or the coordinate scales. \n",
    "Creating drawings.\n",
    "\n",
    "The drawing functions are nearly self-documenting: `stddraw.line()` draws a straight line segment connecting two points whose coordinates are given as arguments and `stddraw.point()` draws a dot centered at the given coordinates. The default coordinate scale is the unit square (all coordinates between `0` and `1`). The point `(0.0, 0.0)` is at the lower left, and the point `(1.0, 1.0)` is at the upper right — thus corresponding to the first quadrant of the familiar Cartesian coordinate system. The default settings draw black lines and black points on a white background.\n",
    "\n",
    "The control function `stddraw.show()` needs a bit more explanation. When your program calls any drawing function such as `stddraw.line()` or `stddraw.point()`, stddraw uses an abstraction known as the background canvas. The background canvas is not displayed; it exists only in computer memory. All points, lines, and so forth are drawn on the background canvas, not directly in the standard drawing window. Only when you call `stddraw.show()` does your drawing get copied from the background canvas to the standard drawing window, where it is displayed until the user closes the standard drawing window — typically by clicking on the Close button in the window's title bar."
   ]
  },
  {
   "cell_type": "code",
   "execution_count": 7,
   "metadata": {
    "ExecuteTime": {
     "end_time": "2018-02-20T04:53:16.900025Z",
     "start_time": "2018-02-20T04:53:13.517026Z"
    }
   },
   "outputs": [],
   "source": [
    "!python triangle.py"
   ]
  },
  {
   "cell_type": "code",
   "execution_count": 7,
   "metadata": {
    "ExecuteTime": {
     "end_time": "2018-02-20T05:34:25.767104Z",
     "start_time": "2018-02-20T05:34:25.547521Z"
    }
   },
   "outputs": [],
   "source": [
    "from booksite import stddraw"
   ]
  },
  {
   "cell_type": "code",
   "execution_count": 3,
   "metadata": {
    "ExecuteTime": {
     "end_time": "2018-02-20T05:05:43.386629Z",
     "start_time": "2018-02-20T05:05:38.188798Z"
    },
    "scrolled": true
   },
   "outputs": [
    {
     "ename": "SystemExit",
     "evalue": "",
     "output_type": "error",
     "traceback": [
      "An exception has occurred, use %tb to see the full traceback.\n",
      "\u001b[1;31mSystemExit\u001b[0m\n"
     ]
    },
    {
     "name": "stderr",
     "output_type": "stream",
     "text": [
      "C:\\Anaconda3\\lib\\site-packages\\IPython\\core\\interactiveshell.py:2918: UserWarning: To exit: use 'exit', 'quit', or Ctrl-D.\n",
      "  warn(\"To exit: use 'exit', 'quit', or Ctrl-D.\", stacklevel=1)\n"
     ]
    }
   ],
   "source": [
    "n = 50\n",
    "stddraw.setPenRadius(0.025)  # 设置线条粗细\n",
    "stddraw.setXscale(0, n)\n",
    "stddraw.setYscale(0, n)\n",
    "for i in range(n + 1):\n",
    "    stddraw.line(0, n-i, i, 0)\n",
    "stddraw.show()"
   ]
  },
  {
   "cell_type": "code",
   "execution_count": 2,
   "metadata": {
    "ExecuteTime": {
     "end_time": "2018-02-20T05:15:44.260311Z",
     "start_time": "2018-02-20T05:15:34.924474Z"
    }
   },
   "outputs": [],
   "source": [
    "!python plotfilter.py < introcs-data/usa.txt  # 人口分布图"
   ]
  },
  {
   "cell_type": "markdown",
   "metadata": {},
   "source": [
    "#### Plotting a function graph\n",
    "The program functiongraph.py plots the function `y = sin(4x) + sin(20x)` in the interval `(0, π)`. There are an infinite number of points in the interval, so we have to make do with evaluating the function at a finite number of points within the interval. We sample the function by choosing a set of `x` values, then computing `y` values by evaluating the function at each `x` value. Plotting the function by connecting successive points with lines produces what is known as a piece-wise linear approximation."
   ]
  },
  {
   "cell_type": "code",
   "execution_count": 7,
   "metadata": {
    "ExecuteTime": {
     "end_time": "2018-02-20T05:26:56.451741Z",
     "start_time": "2018-02-20T05:26:50.377583Z"
    }
   },
   "outputs": [
    {
     "ename": "SystemExit",
     "evalue": "",
     "output_type": "error",
     "traceback": [
      "An exception has occurred, use %tb to see the full traceback.\n",
      "\u001b[1;31mSystemExit\u001b[0m\n"
     ]
    },
    {
     "name": "stderr",
     "output_type": "stream",
     "text": [
      "C:\\Anaconda3\\lib\\site-packages\\IPython\\core\\interactiveshell.py:2918: UserWarning: To exit: use 'exit', 'quit', or Ctrl-D.\n",
      "  warn(\"To exit: use 'exit', 'quit', or Ctrl-D.\", stacklevel=1)\n"
     ]
    }
   ],
   "source": [
    "import math \n",
    "from booksite import stddraw, stdarray\n",
    "\n",
    "n = 1000\n",
    "\n",
    "x = stdarray.create1D(n + 1, 0.0)\n",
    "y = stdarray.create1D(n + 1, 0.0)\n",
    "for i in range(n+1):\n",
    "    x[i] = math.pi * i/n\n",
    "    y[i] = math.sin(4.0 * x[i]) + math.sin(20.0 * x[i])\n",
    "stddraw.setXscale(0, math.pi)\n",
    "stddraw.setYscale(-2., 2.)\n",
    "for i in range(n):\n",
    "    stddraw.line(x[i], y[i], x[i+1], y[i+1])\n",
    "    \n",
    "stddraw.show()"
   ]
  },
  {
   "cell_type": "code",
   "execution_count": 6,
   "metadata": {
    "ExecuteTime": {
     "end_time": "2018-02-20T05:29:36.167855Z",
     "start_time": "2018-02-20T05:29:30.449603Z"
    }
   },
   "outputs": [],
   "source": [
    "!python functiongraph.py 200"
   ]
  },
  {
   "cell_type": "markdown",
   "metadata": {},
   "source": [
    "#### Outline and filled shapes（轮廓和填充）\n",
    "The `stddraw` module also includes functions to draw circles, rectangles, and arbitrary polygons. Each shape defines an outline. When the function name is just the shape name, that outline is traced by the drawing pen. When the name begins with `filled`, the named shape is instead filled solid, not traced. \n",
    "\n",
    "The arguments for `stddraw.circle()` define a circle of radius `r` centered at `(x, y)`; the arguments for `stddraw.square()` define a square of side length `2r` centered at `(x, y)`; and the arguments for `stddraw.polygon()` define a sequence of points that we connect by lines, including one from the last point to the first point."
   ]
  },
  {
   "cell_type": "code",
   "execution_count": 2,
   "metadata": {
    "ExecuteTime": {
     "end_time": "2018-02-20T05:43:31.942594Z",
     "start_time": "2018-02-20T05:43:31.715991Z"
    }
   },
   "outputs": [],
   "source": [
    "from booksite import stddraw"
   ]
  },
  {
   "cell_type": "code",
   "execution_count": 3,
   "metadata": {
    "ExecuteTime": {
     "end_time": "2018-02-20T05:41:07.704415Z",
     "start_time": "2018-02-20T05:40:57.846188Z"
    }
   },
   "outputs": [
    {
     "ename": "SystemExit",
     "evalue": "",
     "output_type": "error",
     "traceback": [
      "An exception has occurred, use %tb to see the full traceback.\n",
      "\u001b[1;31mSystemExit\u001b[0m\n"
     ]
    },
    {
     "name": "stderr",
     "output_type": "stream",
     "text": [
      "C:\\Anaconda3\\lib\\site-packages\\IPython\\core\\interactiveshell.py:2918: UserWarning: To exit: use 'exit', 'quit', or Ctrl-D.\n",
      "  warn(\"To exit: use 'exit', 'quit', or Ctrl-D.\", stacklevel=1)\n"
     ]
    }
   ],
   "source": [
    "x, y = 0.5, 0.5\n",
    "r = 0.5\n",
    "stddraw.circle(x, y, r)\n",
    "stddraw.point(x, y)\n",
    "stddraw.show()"
   ]
  },
  {
   "cell_type": "code",
   "execution_count": 2,
   "metadata": {
    "ExecuteTime": {
     "end_time": "2018-02-20T05:42:20.010229Z",
     "start_time": "2018-02-20T05:42:10.372588Z"
    }
   },
   "outputs": [
    {
     "ename": "SystemExit",
     "evalue": "",
     "output_type": "error",
     "traceback": [
      "An exception has occurred, use %tb to see the full traceback.\n",
      "\u001b[1;31mSystemExit\u001b[0m\n"
     ]
    },
    {
     "name": "stderr",
     "output_type": "stream",
     "text": [
      "C:\\Anaconda3\\lib\\site-packages\\IPython\\core\\interactiveshell.py:2918: UserWarning: To exit: use 'exit', 'quit', or Ctrl-D.\n",
      "  warn(\"To exit: use 'exit', 'quit', or Ctrl-D.\", stacklevel=1)\n"
     ]
    }
   ],
   "source": [
    "x, y = 0.5, 0.5\n",
    "r = 0.5\n",
    "stddraw.square(x, y, r)\n",
    "stddraw.point(x, y)\n",
    "stddraw.show()"
   ]
  },
  {
   "cell_type": "code",
   "execution_count": 4,
   "metadata": {
    "ExecuteTime": {
     "end_time": "2018-02-20T05:43:55.054078Z",
     "start_time": "2018-02-20T05:43:50.509991Z"
    }
   },
   "outputs": [
    {
     "ename": "SystemExit",
     "evalue": "",
     "output_type": "error",
     "traceback": [
      "An exception has occurred, use %tb to see the full traceback.\n",
      "\u001b[1;31mSystemExit\u001b[0m\n"
     ]
    },
    {
     "name": "stderr",
     "output_type": "stream",
     "text": [
      "C:\\Anaconda3\\lib\\site-packages\\IPython\\core\\interactiveshell.py:2918: UserWarning: To exit: use 'exit', 'quit', or Ctrl-D.\n",
      "  warn(\"To exit: use 'exit', 'quit', or Ctrl-D.\", stacklevel=1)\n"
     ]
    }
   ],
   "source": [
    "x, y = 0.1, 0.1\n",
    "w = 0.5\n",
    "h = 0.6\n",
    "stddraw.rectangle(x, y, w, h)\n",
    "stddraw.point(x, y)\n",
    "stddraw.show()"
   ]
  },
  {
   "cell_type": "code",
   "execution_count": 1,
   "metadata": {
    "ExecuteTime": {
     "end_time": "2018-02-20T05:47:32.100502Z",
     "start_time": "2018-02-20T05:47:17.748317Z"
    }
   },
   "outputs": [
    {
     "ename": "SystemExit",
     "evalue": "",
     "output_type": "error",
     "traceback": [
      "An exception has occurred, use %tb to see the full traceback.\n",
      "\u001b[1;31mSystemExit\u001b[0m\n"
     ]
    },
    {
     "name": "stderr",
     "output_type": "stream",
     "text": [
      "C:\\Anaconda3\\lib\\site-packages\\IPython\\core\\interactiveshell.py:2918: UserWarning: To exit: use 'exit', 'quit', or Ctrl-D.\n",
      "  warn(\"To exit: use 'exit', 'quit', or Ctrl-D.\", stacklevel=1)\n"
     ]
    }
   ],
   "source": [
    "from booksite import stddraw\n",
    "x = [0.1, 0.3, 0.4, 0.7]\n",
    "y = [0.3, 0.4, 0.6, 0.9]\n",
    "stddraw.polygon(x, y)\n",
    "stddraw.show()"
   ]
  },
  {
   "cell_type": "markdown",
   "metadata": {},
   "source": [
    "#### Text and color\n",
    "To annotate or highlight various elements in your drawings, `stddraw` includes methods for drawing text, setting the font, and setting the the ink in the pen."
   ]
  },
  {
   "cell_type": "code",
   "execution_count": 2,
   "metadata": {
    "ExecuteTime": {
     "end_time": "2018-02-20T05:59:23.218765Z",
     "start_time": "2018-02-20T05:59:09.739908Z"
    }
   },
   "outputs": [
    {
     "ename": "SystemExit",
     "evalue": "",
     "output_type": "error",
     "traceback": [
      "An exception has occurred, use %tb to see the full traceback.\n",
      "\u001b[1;31mSystemExit\u001b[0m\n"
     ]
    },
    {
     "name": "stderr",
     "output_type": "stream",
     "text": [
      "C:\\Anaconda3\\lib\\site-packages\\IPython\\core\\interactiveshell.py:2918: UserWarning: To exit: use 'exit', 'quit', or Ctrl-D.\n",
      "  warn(\"To exit: use 'exit', 'quit', or Ctrl-D.\", stacklevel=1)\n"
     ]
    }
   ],
   "source": [
    "from booksite import stddraw\n",
    "stddraw.square(0.2, .8, .1)\n",
    "stddraw.filledSquare(.8, .8, .2)\n",
    "stddraw.circle(.8, .2, .2)\n",
    "xd = [.1, .2, .3, .2]\n",
    "yd = [.2, .3, .2, .1]\n",
    "stddraw.filledPolygon(xd, yd)\n",
    "stddraw.text(.2, .5, 'black text')\n",
    "stddraw.setPenColor(stddraw.YELLOW)\n",
    "stddraw.text(.8, .8, 'white text')\n",
    "stddraw.show()"
   ]
  },
  {
   "cell_type": "markdown",
   "metadata": {},
   "source": [
    "### Animation（动画）\n",
    "If we provide an argument to `stddraw.show()`, then that call need not be the last action of a program: it will copy the background canvas to the standard drawing window and then wait for the specified number of milliseconds. As you will soon see, we can use this capability (coupled with the ability to erase, or clear the background canvas) to produce the effect of motion in the stddraw window."
   ]
  },
  {
   "cell_type": "code",
   "execution_count": 13,
   "metadata": {
    "ExecuteTime": {
     "end_time": "2018-02-20T07:25:33.803932Z",
     "start_time": "2018-02-20T07:24:57.173875Z"
    }
   },
   "outputs": [],
   "source": [
    "!python bouncingball.py"
   ]
  },
  {
   "cell_type": "markdown",
   "metadata": {},
   "source": [
    "### Standard Audio \n",
    "The `stdaudio` module can play, manipulate, and synthesize sound. It allows you to play .wav files, to compose programs to create and manipulate arrays of floats, and to read and write them as `.wav` files.\n",
    "\n",
    "#### Concert A（标准 A 音）\n",
    "Sound is the perception of the vibration（震动） of molecules（分子） — in particular, the vibration of our eardrums（耳膜）. Therefore, oscillation（振荡） is the key to understanding sound. Perhaps the simplest place to start is to consider the musical note A above middle C, which is known as concert A. This note（音符） is nothing more than a sine wave（正弦波）, scaled to oscillate at a frequency of $440$ times per second. The function $sin(t)$ repeats itself once every $2π$ units, so if we measure t in seconds and plot the function $sin(2πt × 440)$, we get a curve that oscillates $440$ times per second. We measure frequency in **hertz**（赫兹） (cycles per second). When you double or halve the frequency, you move up or down one octave on the scale. For example, $880$ hertz is one octave above concert A and $110$ hertz is two octaves below concert A. For reference, the frequency range of human hearing is about $20$ to $20,000$ hertz. The amplitude (y-value) of a sound corresponds to the volume. We assume it is scaled to be betwen $-1$ and $+1$.\n",
    "\n",
    "#### Other notes\n",
    "A simple mathematical formula characterizes the other notes on the chromatic scale. There are $12$ notes on the chromatic scale, divided equally on a logarithmic (base $2$) scale. We get the ith note above a given note by multiplying its frequency by the ($i/12$)th power of $2$. In other words, the frequency of each note in the chromatic scale is precisely the frequency of the previous note in the scale multiplied by the twelfth root of $2$ (about $1.06$). This information suffices to create music! For example, to play the tune Frere Jacques, we just need to play each of the notes `A B C# A` by producing sine waves of the appropriate frequency for about half a second and then repeat the pattern.\n",
    "\n",
    "#### Sampling（采样）\n",
    "For digital sound, we represent a curve by sampling it at regular intervals, in precisely the same manner as when we plot function graphs. We sample sufficiently often that we have an accurate representation of the curve &mdot; a widely used sampling rate for digital sound is $44,100$ samples per second. For concert `A`, that rate corresponds to plotting each cycle of the sine wave by sampling it at about $100$ points. Since we sample at regular intervals, we need to compute only the `y` coordinates of the sample points. It is that simple: we represent sound as an array of numbers (float values that are between `-1` and `+1`). Our `booksite` sound module function `stdaudio.playSamples()` takes an array of floats as its argument and plays the sound represented by that array on your computer."
   ]
  },
  {
   "cell_type": "code",
   "execution_count": 2,
   "metadata": {
    "ExecuteTime": {
     "end_time": "2018-02-20T09:04:09.913816Z",
     "start_time": "2018-02-20T09:03:49.062376Z"
    }
   },
   "outputs": [],
   "source": [
    "import math\n",
    "from booksite import stdarray, stdaudio\n",
    "\n",
    "SPS = 44100   # samples of second\n",
    "hz = 440.0  # concert A\n",
    "duration = 20.0   # 20 秒\n",
    "n = int(SPS * duration)\n",
    "\n",
    "a = stdarray.create1D(n+1)\n",
    "for i in range(n+1):\n",
    "    a[i] = math.sin(2.0 * math.pi * i * hz / SPS + 256) + math.exp(math.cos(2.0 * math.pi * i * hz / SPS)) + 7777 \n",
    "stdaudio.playSamples(a)\n",
    "stdaudio.wait()"
   ]
  },
  {
   "cell_type": "code",
   "execution_count": 3,
   "metadata": {
    "ExecuteTime": {
     "end_time": "2018-02-20T09:43:56.622677Z",
     "start_time": "2018-02-20T09:43:44.264836Z"
    }
   },
   "outputs": [],
   "source": [
    "!python playthattune.py < introcs-data/elise.txt"
   ]
  },
  {
   "cell_type": "code",
   "execution_count": 4,
   "metadata": {
    "ExecuteTime": {
     "end_time": "2018-02-20T09:44:05.281788Z",
     "start_time": "2018-02-20T09:43:56.630205Z"
    }
   },
   "outputs": [],
   "source": [
    "!python playthattune.py < introcs-data/ascale.txt"
   ]
  },
  {
   "cell_type": "code",
   "execution_count": 5,
   "metadata": {
    "ExecuteTime": {
     "end_time": "2018-02-20T09:44:21.903918Z",
     "start_time": "2018-02-20T09:44:05.288782Z"
    }
   },
   "outputs": [],
   "source": [
    "!python playthattune.py < introcs-data/entertainer.txt"
   ]
  },
  {
   "cell_type": "code",
   "execution_count": 6,
   "metadata": {
    "ExecuteTime": {
     "end_time": "2018-02-20T09:44:37.027823Z",
     "start_time": "2018-02-20T09:44:21.910903Z"
    }
   },
   "outputs": [],
   "source": [
    "!python playthattune.py < introcs-data/firstcut.txt"
   ]
  },
  {
   "cell_type": "code",
   "execution_count": 7,
   "metadata": {
    "ExecuteTime": {
     "end_time": "2018-02-20T09:44:52.981945Z",
     "start_time": "2018-02-20T09:44:37.034815Z"
    }
   },
   "outputs": [],
   "source": [
    "!python playthattune.py < introcs-data/freebird.txt"
   ]
  },
  {
   "cell_type": "code",
   "execution_count": 8,
   "metadata": {
    "ExecuteTime": {
     "end_time": "2018-02-20T09:45:10.037360Z",
     "start_time": "2018-02-20T09:44:52.988940Z"
    }
   },
   "outputs": [],
   "source": [
    "!python playthattune.py < introcs-data/looney.txt"
   ]
  },
  {
   "cell_type": "code",
   "execution_count": 9,
   "metadata": {
    "ExecuteTime": {
     "end_time": "2018-02-20T09:45:41.171897Z",
     "start_time": "2018-02-20T09:45:10.044382Z"
    }
   },
   "outputs": [],
   "source": [
    "!python playthattune.py < introcs-data/stairwaytoheaven.txt"
   ]
  },
  {
   "cell_type": "code",
   "execution_count": 5,
   "metadata": {
    "ExecuteTime": {
     "end_time": "2018-02-20T10:13:03.571953Z",
     "start_time": "2018-02-20T10:13:03.404510Z"
    }
   },
   "outputs": [
    {
     "name": "stdout",
     "output_type": "stream",
     "text": [
      "7L.270L7R.270L7L.270R7R.270 7L.270L7R.270R7L.270R7R.270\n"
     ]
    }
   ],
   "source": [
    "!python dragon3.py < introcs-data/looney.txt | python dragon3.py | python dragon3.py"
   ]
  }
 ],
 "metadata": {
  "kernelspec": {
   "display_name": "Python 3",
   "language": "python",
   "name": "python3"
  },
  "language_info": {
   "codemirror_mode": {
    "name": "ipython",
    "version": 3
   },
   "file_extension": ".py",
   "mimetype": "text/x-python",
   "name": "python",
   "nbconvert_exporter": "python",
   "pygments_lexer": "ipython3",
   "version": "3.6.3"
  },
  "latex_envs": {
   "LaTeX_envs_menu_present": true,
   "autoclose": false,
   "autocomplete": true,
   "bibliofile": "biblio.bib",
   "cite_by": "apalike",
   "current_citInitial": 1,
   "eqLabelWithNumbers": true,
   "eqNumInitial": 1,
   "hotkeys": {
    "equation": "Ctrl-E",
    "itemize": "Ctrl-I"
   },
   "labels_anchors": false,
   "latex_user_defs": false,
   "report_style_numbering": false,
   "user_envs_cfg": false
  },
  "nbTranslate": {
   "displayLangs": [
    "*"
   ],
   "hotkey": "alt-t",
   "langInMainMenu": true,
   "sourceLang": "en",
   "targetLang": "fr",
   "useGoogleTranslate": true
  },
  "toc": {
   "nav_menu": {},
   "number_sections": true,
   "sideBar": true,
   "skip_h1_title": false,
   "title_cell": "Table of Contents",
   "title_sidebar": "Contents",
   "toc_cell": false,
   "toc_position": {
    "height": "calc(100% - 180px)",
    "left": "10px",
    "top": "150px",
    "width": "337px"
   },
   "toc_section_display": true,
   "toc_window_display": true
  },
  "varInspector": {
   "cols": {
    "lenName": 16,
    "lenType": 16,
    "lenVar": 40
   },
   "kernels_config": {
    "python": {
     "delete_cmd_postfix": "",
     "delete_cmd_prefix": "del ",
     "library": "var_list.py",
     "varRefreshCmd": "print(var_dic_list())"
    },
    "r": {
     "delete_cmd_postfix": ") ",
     "delete_cmd_prefix": "rm(",
     "library": "var_list.r",
     "varRefreshCmd": "cat(var_dic_list()) "
    }
   },
   "types_to_exclude": [
    "module",
    "function",
    "builtin_function_or_method",
    "instance",
    "_Feature"
   ],
   "window_display": false
  }
 },
 "nbformat": 4,
 "nbformat_minor": 2
}
