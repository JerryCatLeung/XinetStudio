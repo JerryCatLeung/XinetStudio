{
 "cells": [
  {
   "cell_type": "markdown",
   "metadata": {},
   "source": [
    "## 常用资料下载网站：\n",
    "\n",
    "- https://books.google.com/\n",
    "- https://ebooks-it.org/\n",
    "- https://archive.org/details/googlebooks\n",
    "    - https://support.google.com/websearch/answer/43729?hl=zh-Hans 使用帮助\n",
    "    \n",
    "\n",
    "## `djvu`文件阅读器：http://www.stdutility.com/stduviewer.html\n",
    "\n",
    "我的 `archive` 账号：`xinet735613050@gmail.com`:https://archive.org/details/@xinet\n",
    "\n",
    "# 优秀资源：\n",
    "1. 《Exploring the Digital Domain》（探索数字领域）是一本极好的计算机科学入门书，其中有许多关于数字媒体的有用信息。具体见：http://cs.furman.edu/digitaldomain/\n",
    "\n",
    "2. 《Structure and Interpretation of Computer Programs》(计算机程序的构造和解释)(最好的、最深入的、最具体的、最优雅的计算机科学教程)，下载链接：https://mitpress.mit.edu/sites/default/files/6515.pdf\n",
    "\n",
    "3. 《How to Design Programs》（程序设计方法），见：http://www.ccs.neu.edu/home/matthias/HtDP2e/index.html 或者 https://ebooks-it.org/0262062186-ebook.htm\n",
    "\n",
    "4. 《Simply Scheme》，见：https://people.eecs.berkeley.edu/~bh/pdf/ssch00.pdf\n",
    "\n",
    "5. 《Computer Sciences Logo Style》，见：https://people.eecs.berkeley.edu/~bh/v1-toc2.html 或 http://freecomputerbooks.com/Computer-Science-Logo-Style.html\n",
    "\n",
    "6. 《Vision and Art: the Biology of Seeing》\n",
    "\n",
    "7. 《[计算机图形学(第三版)高清中文版 PDF](https://www.linuxidc.com/linux/2013-08/88723.htm)》\n",
    "\n",
    "8. 《[Computer Music: Synthesis，Components and Performance](http://urlibrary.co/download/computer-music-synthesis-composition-and-performance.pdf)》\n",
    "\n",
    "9. Computer Music: Musc 216 Tutorials：http://computermusicresource.com/tutorials.html\n",
    "\n",
    "10. [The Computer Music Tutorial by Curtis Roads](https://books.google.co.jp/books?id=nZ-TetwzVcIC&printsec=frontcover&dq=editions:DqEM4wg9d3gC&hl=zh-CN&sa=X&ved=0ahUKEwiihOWpwbTZAhUDU7wKHd49BvYQ6AEIJzAA#v=onepage&q&f=false)\n",
    "\n",
    "11. [CSound](http://csound.com/)\n",
    "\n",
    "12. [Music software written in Python](https://wiki.python.org/moin/PythonInMusic)\n",
    "\n",
    "13. [winsound — Sound-playing interface for Windows](https://docs.python.org/3/library/winsound.html#module-winsound)\n",
    "\n",
    "14. [The Mythical  Man-Month: Essays on Software Engineering](https://ia801903.us.archive.org/19/items/mythicalmanmonth00fred/mythicalmanmonth00fred.pdf)"
   ]
  },
  {
   "cell_type": "code",
   "execution_count": null,
   "metadata": {},
   "outputs": [],
   "source": []
  }
 ],
 "metadata": {
  "kernelspec": {
   "display_name": "Python 3",
   "language": "python",
   "name": "python3"
  },
  "language_info": {
   "codemirror_mode": {
    "name": "ipython",
    "version": 3
   },
   "file_extension": ".py",
   "mimetype": "text/x-python",
   "name": "python",
   "nbconvert_exporter": "python",
   "pygments_lexer": "ipython3",
   "version": "3.6.3"
  },
  "latex_envs": {
   "LaTeX_envs_menu_present": true,
   "autoclose": false,
   "autocomplete": true,
   "bibliofile": "biblio.bib",
   "cite_by": "apalike",
   "current_citInitial": 1.0,
   "eqLabelWithNumbers": true,
   "eqNumInitial": 1.0,
   "hotkeys": {
    "equation": "Ctrl-E",
    "itemize": "Ctrl-I"
   },
   "labels_anchors": false,
   "latex_user_defs": false,
   "report_style_numbering": false,
   "user_envs_cfg": false
  },
  "nbTranslate": {
   "displayLangs": [
    "*"
   ],
   "hotkey": "alt-t",
   "langInMainMenu": true,
   "sourceLang": "en",
   "targetLang": "fr",
   "useGoogleTranslate": true
  },
  "toc": {
   "nav_menu": {},
   "number_sections": true,
   "sideBar": true,
   "skip_h1_title": false,
   "title_cell": "Table of Contents",
   "title_sidebar": "Contents",
   "toc_cell": false,
   "toc_position": {},
   "toc_section_display": true,
   "toc_window_display": false
  },
  "varInspector": {
   "cols": {
    "lenName": 16.0,
    "lenType": 16.0,
    "lenVar": 40.0
   },
   "kernels_config": {
    "python": {
     "delete_cmd_postfix": "",
     "delete_cmd_prefix": "del ",
     "library": "var_list.py",
     "varRefreshCmd": "print(var_dic_list())"
    },
    "r": {
     "delete_cmd_postfix": ") ",
     "delete_cmd_prefix": "rm(",
     "library": "var_list.r",
     "varRefreshCmd": "cat(var_dic_list()) "
    }
   },
   "types_to_exclude": [
    "module",
    "function",
    "builtin_function_or_method",
    "instance",
    "_Feature"
   ],
   "window_display": false
  }
 },
 "nbformat": 4,
 "nbformat_minor": 2
}
