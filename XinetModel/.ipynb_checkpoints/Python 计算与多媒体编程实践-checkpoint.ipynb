{
 "cells": [
  {
   "cell_type": "markdown",
   "metadata": {},
   "source": [
    "学习资料：[Python计算与编程实践](https://baike.baidu.com/item/Python计算与编程实践/12101638)\n",
    "\n",
    "    许多麻省理工学院出版社的书籍都可以作为电子书购买，并存储在您的个人数字书架上。每个 MIT Press 电子书都有 PDF 或 ePub 版本，或 PDF 和 ePub 版本。Linux 操作系统不支持 MIT Press电子书。网址：https://mitpress.mit.edu/our-ebooks\n",
    "\n",
    "我们记忆新的东西靠的是把它跟旧的东西关联起来。（记忆是关联性的。）基于“将来某天可能有用”的假定，人们能够学会概念和技巧，但这些概念和技巧只跟那个假设相关联。结果就像所谓的“脆弱知识”（brittle knowledge）——这种知识能让你通过考试，但你很快会忘记它，因为除了在那堂课上听过它之外，没有其他事情与之关联了。\n",
    "\n",
    "如果概念和技巧能够跟许多不同的思想关联起来，或者跟日常生活中的想法关联起来，那么记忆会更牢固。\n",
    "\n",
    "\n",
    "\n",
    "# 常用术语\n",
    "\n",
    "- **程序**是使用编程语言描述的过程，这种过程能达到对某人有用的某种结果。\n",
    "- **算法**（与程序不同）是独立于编程语言的过程描述。同样的算法可以在多种不同的程序中以多种不同的方式使用多种不同的语言实现，但同一种算法具有相同的过程。\n",
    "- **软件**指的是完成一项任务的计算机程序的集合。\n",
    "\n",
    "## 计算机能理解什么？\n",
    "\n",
    "计算机使用数字的编码（encoding）。计算机是响应线路电压的电子设备。每条线路称为一个**位**（bit）。如果一个线路上有电压，那么我们就说它编码了一个 $“1”$；如果没有电压，我们就说它编码了 $“0”$。我们把这些线路（位）分组，一组 $8$ 位称为一个**字节**（Byte）。于是，通过一组 $8$ 条线路（一个**字节**），我们就有了一种 $8$ 个 $0$ 或 $1$ 的模式，比如，$01001010$。使用**二进制**（binary）数字系统，我们可以把这个字节解释为一个**数字**。这样我们便说计算机知道/理解数字。即：\n",
    "$$a = \\sum_{i=0}^{7} {a_{i} 2^{i}} \\qquad  \\\\ a_i = 0 \\mbox{ or } \\, 1$$\n",
    "\n",
    "计算机有一段塞满字节的**内存**（memory）。在任一时刻，计算机处理的东西都存储在它的内存中。这计算说计算机处理的任何东西都编码在字节之中。\n",
    "\n",
    "### 计算机可以把编码分层，分到几乎任意复杂的程度\n",
    "\n",
    "数字可以解释为字符，字符组合起来又可以解释为网页，而网页被解释之后，可以显示为多种字体和风格。但在最底层，计算机只“知道”被我们解释为数字的电压。\n",
    "\n",
    "#### 背景知识：\n",
    "  - **ASCII**（美国信息交换标准代码，American Standard Code for Information Interchange）是一种数字到字母的编码标准。\n",
    "  - [摩尔定律（Moore's law）](https://zh.wikipedia.org/zh-hans/摩尔定律)\n",
    "  \n",
    "## 把媒体数字化以便更加容易处理、精确复制，压缩和传输\n",
    "\n",
    "把图片想象为由一个个的小点组成，每个小点都有自己的颜色。（RGB, R + G + B = 白色； R, G, B 都关掉便是黑色）。我们把图片中的每个点编码为三个字节的集合，每个字节表示该点显示在屏幕上时 R，G，B 的数量。这样计算机便能够编码图片了。同时我们称这些点为一个**像素**或图片单元。\n",
    "\n",
    "我们将使用的声音编码每秒钟的声音包含 $44\\,100$ 个双字节集合（这两个字节称做一个样本）。\n",
    "\n",
    "由于我们的眼睛和耳朵是有局限的，所以将媒体编码为小片段是合理的。将媒体编码为小片段的过程称为**数字化**（digitization），有时，也称为$“going \\; digital”$。将事物数字化就是把一种连续的、不可数的东西转化为可数的东西。\n",
    "\n",
    "## 计算机科学：交流和过程\n",
    "\n",
    "# 编程导论\n",
    "\n",
    "## 编程与命名有关\n",
    "\n",
    "计算机可以将名字，或者符号，关联到几乎任何东西：\n",
    "- 特定的字节；\n",
    "- 一组字节组成的数值变量或者一串字符；\n",
    "- 像文件、声音或图片这样的媒体元素；\n",
    "- 抽象的概念，比如命名的程序和命名的编码方式（类型）等。\n",
    "\n",
    "命名是一种抽象形式，我们使用名字来指代被命名的东西。而计算机本身并不关心名字，**名字是为人服务的**。\n",
    "\n",
    "**编程语言**实际上就是一组名字的集合，计算机拥有这些名字的编码，于是它们能让计算机完成我们期望的工作，或者按我们期望的方式解释数据。在有些语言中，基于它所使用的名字可以定义新的名字，从而构造自己的编码层次。给变量赋值就是为计算机定义名字的一种方法。定义函数则是为程序命名。\n",
    "\n",
    "**程序**由一组名字和它的值构成，其中有些名字拥有计算机指令类型的值（“代码”）。\n",
    "\n",
    "### 程序以人为本，而不是以机器为本\n",
    "\n",
    "名字只对人有意义，而非对计算机有意义。计算机只接受指令。各种语言可以分别理解为一套名字和编码的集合。\n",
    "\n",
    "### 文件和文件名\n",
    "\n",
    "编程语言不是计算机关联名字和值的唯一场所。计算机的**操作系统**负责管理磁盘上的文件，并把它们与名字关联起来。\n",
    "\n",
    "**文件**是位于**硬盘**（计算机在关电后保存信息的部分）上的一组值（字节）的集合。如果你知道一个文件的名字并把它告诉操作系统，那么你就可以得到这个名字所关联的值。\n",
    "\n",
    "与磁盘不同，计算机的**内存**是不持久的（其内容会随着电源的中断而消失），而且空间相对较小。内存就好比是你的私人空间——它就在你旁边，伸手即得，用起来也方便，但你不会把自己拥有的一切东西都放在那个空间之中。\n",
    "\n",
    "你把信息带进内存时，就需要为数值命名，以便于之后取用它。从这个意义上，编程有点儿像*代数*（algebra）。为编写出通用（即对任意数字或数值都成立）的方程或函数，你会使用**变量**：就像 $PV = nRT$，这些 $P$、$V$、$n$、$R$、$T$ 就是值的名字。\n",
    "\n",
    "文件名：比如 `beach.jpg` 叫做**基本文件名**（base filename），`.jpg` 叫做**文件扩展名**（file extension，标明了文件使用的编码方式）\n",
    "\n",
    "- 形参：parameter\n",
    "- 实参：argument\n",
    "\n",
    "# 我们编写程序的目的是为了精确的描述一种过程并把它传递给其他人"
   ]
  },
  {
   "cell_type": "code",
   "execution_count": 1,
   "metadata": {
    "ExecuteTime": {
     "end_time": "2018-02-21T02:26:41.853898Z",
     "start_time": "2018-02-21T02:26:41.849865Z"
    }
   },
   "outputs": [
    {
     "name": "stdout",
     "output_type": "stream",
     "text": [
      "hello\tthere.\n",
      "Mark\n"
     ]
    }
   ],
   "source": [
    "print('hello\\tthere.\\nMark')"
   ]
  },
  {
   "cell_type": "code",
   "execution_count": 2,
   "metadata": {
    "ExecuteTime": {
     "end_time": "2018-02-21T02:27:26.299546Z",
     "start_time": "2018-02-21T02:27:26.294540Z"
    }
   },
   "outputs": [
    {
     "name": "stdout",
     "output_type": "stream",
     "text": [
      "hello\bthere.\n",
      "Mark\n"
     ]
    }
   ],
   "source": [
    "print('hello\\bthere.\\nMark')"
   ]
  },
  {
   "cell_type": "code",
   "execution_count": null,
   "metadata": {},
   "outputs": [],
   "source": []
  }
 ],
 "metadata": {
  "kernelspec": {
   "display_name": "Python 3",
   "language": "python",
   "name": "python3"
  },
  "language_info": {
   "codemirror_mode": {
    "name": "ipython",
    "version": 3
   },
   "file_extension": ".py",
   "mimetype": "text/x-python",
   "name": "python",
   "nbconvert_exporter": "python",
   "pygments_lexer": "ipython3",
   "version": "3.6.3"
  },
  "latex_envs": {
   "LaTeX_envs_menu_present": true,
   "autoclose": false,
   "autocomplete": true,
   "bibliofile": "biblio.bib",
   "cite_by": "apalike",
   "current_citInitial": 1,
   "eqLabelWithNumbers": true,
   "eqNumInitial": 1,
   "hotkeys": {
    "equation": "Ctrl-E",
    "itemize": "Ctrl-I"
   },
   "labels_anchors": false,
   "latex_user_defs": false,
   "report_style_numbering": false,
   "user_envs_cfg": false
  },
  "nbTranslate": {
   "displayLangs": [
    "*"
   ],
   "hotkey": "alt-t",
   "langInMainMenu": true,
   "sourceLang": "en",
   "targetLang": "fr",
   "useGoogleTranslate": true
  },
  "toc": {
   "nav_menu": {},
   "number_sections": true,
   "sideBar": true,
   "skip_h1_title": false,
   "title_cell": "Table of Contents",
   "title_sidebar": "Contents",
   "toc_cell": false,
   "toc_position": {
    "height": "calc(100% - 180px)",
    "left": "10px",
    "top": "150px",
    "width": "288px"
   },
   "toc_section_display": true,
   "toc_window_display": true
  },
  "varInspector": {
   "cols": {
    "lenName": 16,
    "lenType": 16,
    "lenVar": 40
   },
   "kernels_config": {
    "python": {
     "delete_cmd_postfix": "",
     "delete_cmd_prefix": "del ",
     "library": "var_list.py",
     "varRefreshCmd": "print(var_dic_list())"
    },
    "r": {
     "delete_cmd_postfix": ") ",
     "delete_cmd_prefix": "rm(",
     "library": "var_list.r",
     "varRefreshCmd": "cat(var_dic_list()) "
    }
   },
   "types_to_exclude": [
    "module",
    "function",
    "builtin_function_or_method",
    "instance",
    "_Feature"
   ],
   "window_display": false
  }
 },
 "nbformat": 4,
 "nbformat_minor": 2
}
