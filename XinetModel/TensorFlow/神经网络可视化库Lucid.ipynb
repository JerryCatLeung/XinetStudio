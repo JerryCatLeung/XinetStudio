{
 "cells": [
  {
   "cell_type": "markdown",
   "metadata": {},
   "source": [
    "谷歌在 distill 上发文《The Building Blocks of Interpretability》探讨了如何结合特征可视化和其他可解释性技术来理解神经网络如何做出决策，同时谷歌还发布了 Lucid（及其 GitHub），一套研究神经网络可解释性的基础架构和工具和 colab notebooks，使得借助 Lucid 再现文中的可视化变得极其简单。\n",
    "\n",
    "2015 年，谷歌可视化神经网络理解图像方式的早期尝试导致了迷幻图像（psychedelic images）的产生。不久之后，谷歌开源了 DeepDream 代码，从而衍生出一种小型艺术流派，产生的作品令人惊叹。但是谷歌并未放弃 DeepDream 背后的研究思路，并尝试解决深度学习中最令人激动的问题之一：神经网络的自身运行方式是什么？\n",
    "\n",
    "GitHub 地址：https://github.com/tensorflow/lucid"
   ]
  },
  {
   "cell_type": "code",
   "execution_count": null,
   "metadata": {},
   "outputs": [],
   "source": []
  }
 ],
 "metadata": {
  "kernelspec": {
   "display_name": "Python 3",
   "language": "python",
   "name": "python3"
  },
  "language_info": {
   "codemirror_mode": {
    "name": "ipython",
    "version": 3
   },
   "file_extension": ".py",
   "mimetype": "text/x-python",
   "name": "python",
   "nbconvert_exporter": "python",
   "pygments_lexer": "ipython3",
   "version": "3.6.4"
  },
  "toc": {
   "nav_menu": {},
   "number_sections": true,
   "sideBar": true,
   "skip_h1_title": false,
   "title_cell": "Table of Contents",
   "title_sidebar": "Contents",
   "toc_cell": false,
   "toc_position": {},
   "toc_section_display": true,
   "toc_window_display": false
  },
  "varInspector": {
   "cols": {
    "lenName": 16,
    "lenType": 16,
    "lenVar": 40
   },
   "kernels_config": {
    "python": {
     "delete_cmd_postfix": "",
     "delete_cmd_prefix": "del ",
     "library": "var_list.py",
     "varRefreshCmd": "print(var_dic_list())"
    },
    "r": {
     "delete_cmd_postfix": ") ",
     "delete_cmd_prefix": "rm(",
     "library": "var_list.r",
     "varRefreshCmd": "cat(var_dic_list()) "
    }
   },
   "types_to_exclude": [
    "module",
    "function",
    "builtin_function_or_method",
    "instance",
    "_Feature"
   ],
   "window_display": false
  }
 },
 "nbformat": 4,
 "nbformat_minor": 2
}
