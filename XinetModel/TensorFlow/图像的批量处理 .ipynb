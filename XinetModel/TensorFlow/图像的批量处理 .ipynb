{
 "cells": [
  {
   "cell_type": "markdown",
   "metadata": {},
   "source": [
    "# [python数字图像处理（6）：图像的批量处理 ](https://blog.csdn.net/haoji007/article/details/52063227)\n",
    "\n",
    "图片集合函数为：`skimage.io.ImageCollection(load_pattern,load_func=None)`\n",
    "\n",
    "这个函数是放在`io`模块内的，带两个参数，第一个参数`load_pattern`, 表示图片组的路径，可以是一个`str`字符串。第二个参数`load_func`是一个回调函数，我们对图片进行批量处理就可以通过这个回调函数实现。回调函数默认为`imread()`,即默认这个函数是批量读取图片。"
   ]
  },
  {
   "cell_type": "markdown",
   "metadata": {
    "ExecuteTime": {
     "end_time": "2018-03-30T08:45:40.163752Z",
     "start_time": "2018-03-30T08:45:40.153751Z"
    }
   },
   "source": [
    "`file_names = 'd:/pic/*.jpg:d:/pic/*.png'` 是两个字符串合在一起的，第一个是`'d:/pic/*.jpg'`, 第二个是`'d:/pic/*.png'` ，合在一起后，中间用冒号来隔开，这样就可以把`d:/pic/`文件夹下的`jpg`和`png`格式的图片都读取出来。如果还想读取存放在其它地方的图片，也可以一并加进去，只是中间同样用冒号来隔开。"
   ]
  },
  {
   "cell_type": "markdown",
   "metadata": {},
   "source": [
    "`io.ImageCollection()`这个函数省略第二个参数，就是批量读取。如果我们不是想批量读取，而是其它批量操作，如批量转换为灰度图，那又该怎么做呢？\n",
    "那就需要先定义一个函数，然后将这个函数作为第二个参数，如：\n",
    "```py\n",
    "from skimage import data_dir,io,color\n",
    "\n",
    "def convert_gray(f):\n",
    "    rgb=io.imread(f)\n",
    "    return color.rgb2gray(rgb)\n",
    "    \n",
    "str=data_dir+'/*.png'\n",
    "coll = io.ImageCollection(str,load_func=convert_gray)\n",
    "io.imshow(coll[10])\n",
    "```\n",
    "\n",
    "这种批量操作对视频处理是极其有用的，因为视频就是一系列的图片组合：\n",
    "```py\n",
    "from skimage import data_dir,io,color\n",
    "\n",
    "class AVILoader:\n",
    "    video_file = 'myvideo.avi'\n",
    "\n",
    "    def __call__(self, frame):\n",
    "        return video_read(self.video_file, frame)\n",
    "\n",
    "avi_load = AVILoader()\n",
    "\n",
    "frames = range(0, 1000, 10) # 0, 10, 20, ...\n",
    "ic =io.ImageCollection(frames, load_func=avi_load)\n",
    "```\n",
    "这段代码的意思，就是将`myvideo.avi`这个视频中每隔`10`帧的图片读取出来，放在图片集合中。\n",
    "\n",
    "得到图片集合以后，我们还可以将这些图片连接起来，构成一个维度更高的数组，连接图片的函数为：\n",
    "`skimage.io.concatenate_images(ic)`\n",
    "\n",
    "带一个参数，就是以上的图片集合，如：\n",
    "```py\n",
    "from skimage import data_dir,io,color\n",
    "\n",
    "coll = io.ImageCollection('d:/pic/*.jpg')\n",
    "mat=io.concatenate_images(coll)\n",
    "```\n",
    "使用`concatenate_images(ic)`函数的前提是读取的这些图片尺寸必须一致，否则会出错。我们看看图片连接前后的维度变化：\n",
    "```py\n",
    "from skimage import data_dir,io,color\n",
    "\n",
    "coll = io.ImageCollection('d:/pic/*.jpg')\n",
    "print(len(coll))      #连接的图片数量\n",
    "print(coll[0].shape)   #连接前的图片尺寸，所有的都一样\n",
    "mat=io.concatenate_images(coll)\n",
    "print(mat.shape)  #连接后的数组尺寸\n",
    "```\n",
    "\n",
    "保存并转换图片尺寸\n",
    "```py\n",
    "from skimage import data_dir, io, transform, color\n",
    "import numpy as np\n",
    "\n",
    "\n",
    "def convert_gray(f):\n",
    "    rgb = io.imread(f)  # 依次读取rgb图片\n",
    "    gray = color.rgb2gray(rgb)  # 将rgb图片转换成灰度图\n",
    "    dst = transform.resize(gray, (256, 256))  # 将灰度图片大小转换为256*256\n",
    "    return dst\n",
    "\n",
    "\n",
    "str = data_dir+'/*.png'\n",
    "coll = io.ImageCollection(str, load_func=convert_gray)\n",
    "for i in range(len(coll)):\n",
    "    io.imsave('d:/data/'+np.str(i)+'.jpg', coll[i])  # 循环保存图片\n",
    "```"
   ]
  },
  {
   "cell_type": "code",
   "execution_count": 1,
   "metadata": {
    "ExecuteTime": {
     "end_time": "2018-03-30T11:18:23.906613Z",
     "start_time": "2018-03-30T11:18:22.565579Z"
    }
   },
   "outputs": [],
   "source": [
    "import sys\n",
    "\n",
    "import numpy as np\n",
    "\n",
    "sys.path.append('E:/xinlib')\n",
    "import xin"
   ]
  },
  {
   "cell_type": "code",
   "execution_count": 3,
   "metadata": {
    "ExecuteTime": {
     "end_time": "2018-03-30T11:18:35.418260Z",
     "start_time": "2018-03-30T11:18:35.406229Z"
    }
   },
   "outputs": [],
   "source": [
    "root = 'E:/Data/datasets/flower_photos/'\n",
    "dataset = xin.Dataset(root)\n",
    "\n",
    "data, labels = dataset.dataset()"
   ]
  },
  {
   "cell_type": "code",
   "execution_count": 6,
   "metadata": {
    "ExecuteTime": {
     "end_time": "2018-03-30T11:18:50.065833Z",
     "start_time": "2018-03-30T11:18:50.060826Z"
    }
   },
   "outputs": [
    {
     "data": {
      "text/plain": [
       "CategoricalIndex(['daisy', 'daisy', 'daisy', 'daisy', 'daisy', 'daisy',\n",
       "                  'daisy', 'daisy', 'daisy', 'daisy',\n",
       "                  ...\n",
       "                  'tulips', 'tulips', 'tulips', 'tulips', 'tulips', 'tulips',\n",
       "                  'tulips', 'tulips', 'tulips', 'tulips'],\n",
       "                 categories=['daisy', 'dandelion', 'roses', 'sunflowers', 'tulips'], ordered=False, dtype='category', length=3670)"
      ]
     },
     "execution_count": 6,
     "metadata": {},
     "output_type": "execute_result"
    }
   ],
   "source": [
    "labels"
   ]
  },
  {
   "cell_type": "code",
   "execution_count": 58,
   "metadata": {
    "ExecuteTime": {
     "end_time": "2018-03-30T10:45:47.928985Z",
     "start_time": "2018-03-30T10:45:47.912983Z"
    }
   },
   "outputs": [
    {
     "ename": "TypeError",
     "evalue": "get_value() missing 2 required positional arguments: 'series' and 'key'",
     "output_type": "error",
     "traceback": [
      "\u001b[1;31m---------------------------------------------------------------------------\u001b[0m",
      "\u001b[1;31mTypeError\u001b[0m                                 Traceback (most recent call last)",
      "\u001b[1;32m<ipython-input-58-e680f058799e>\u001b[0m in \u001b[0;36m<module>\u001b[1;34m()\u001b[0m\n\u001b[1;32m----> 1\u001b[1;33m \u001b[0mlabels\u001b[0m\u001b[1;33m.\u001b[0m\u001b[0mget_value\u001b[0m\u001b[1;33m(\u001b[0m\u001b[1;33m)\u001b[0m\u001b[1;33m\u001b[0m\u001b[0m\n\u001b[0m",
      "\u001b[1;31mTypeError\u001b[0m: get_value() missing 2 required positional arguments: 'series' and 'key'"
     ]
    }
   ],
   "source": [
    "labels.get_value()"
   ]
  },
  {
   "cell_type": "code",
   "execution_count": 7,
   "metadata": {
    "ExecuteTime": {
     "end_time": "2018-03-30T11:24:28.286748Z",
     "start_time": "2018-03-30T11:24:28.082779Z"
    }
   },
   "outputs": [],
   "source": []
  },
  {
   "cell_type": "code",
   "execution_count": 8,
   "metadata": {
    "ExecuteTime": {
     "end_time": "2018-03-30T11:29:18.442491Z",
     "start_time": "2018-03-30T11:29:18.439486Z"
    }
   },
   "outputs": [],
   "source": [
    "import numpy as np"
   ]
  },
  {
   "cell_type": "code",
   "execution_count": null,
   "metadata": {},
   "outputs": [],
   "source": [
    "np.var"
   ]
  }
 ],
 "metadata": {
  "kernelspec": {
   "display_name": "Python 3",
   "language": "python",
   "name": "python3"
  },
  "language_info": {
   "codemirror_mode": {
    "name": "ipython",
    "version": 3
   },
   "file_extension": ".py",
   "mimetype": "text/x-python",
   "name": "python",
   "nbconvert_exporter": "python",
   "pygments_lexer": "ipython3",
   "version": "3.6.3"
  },
  "latex_envs": {
   "LaTeX_envs_menu_present": true,
   "autoclose": false,
   "autocomplete": true,
   "bibliofile": "biblio.bib",
   "cite_by": "apalike",
   "current_citInitial": 1,
   "eqLabelWithNumbers": true,
   "eqNumInitial": 1,
   "hotkeys": {
    "equation": "Ctrl-E",
    "itemize": "Ctrl-I"
   },
   "labels_anchors": false,
   "latex_user_defs": false,
   "report_style_numbering": false,
   "user_envs_cfg": false
  },
  "toc": {
   "nav_menu": {},
   "number_sections": true,
   "sideBar": true,
   "skip_h1_title": false,
   "title_cell": "Table of Contents",
   "title_sidebar": "Contents",
   "toc_cell": false,
   "toc_position": {},
   "toc_section_display": true,
   "toc_window_display": false
  },
  "varInspector": {
   "cols": {
    "lenName": 16,
    "lenType": 16,
    "lenVar": 40
   },
   "kernels_config": {
    "python": {
     "delete_cmd_postfix": "",
     "delete_cmd_prefix": "del ",
     "library": "var_list.py",
     "varRefreshCmd": "print(var_dic_list())"
    },
    "r": {
     "delete_cmd_postfix": ") ",
     "delete_cmd_prefix": "rm(",
     "library": "var_list.r",
     "varRefreshCmd": "cat(var_dic_list()) "
    }
   },
   "types_to_exclude": [
    "module",
    "function",
    "builtin_function_or_method",
    "instance",
    "_Feature"
   ],
   "window_display": false
  }
 },
 "nbformat": 4,
 "nbformat_minor": 2
}
