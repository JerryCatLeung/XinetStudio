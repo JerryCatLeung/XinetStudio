{
 "cells": [
  {
   "cell_type": "markdown",
   "metadata": {},
   "source": [
    "# 学习资料\n",
    "- [TensorFlow深度学习，一篇文章就够了](http://blog.jobbole.com/105602/)\n",
    "- [【干货合集】深度学习入门与实战](https://zhuanlan.zhihu.com/p/27196647)\n",
    "- [新手向的TensorFlow学习之路2（Learning paths 2）](http://hp.stuhome.net/index.php/2017/03/28/tensorflow-learning-paths-2/)\n",
    "\n",
    "1. Stanford 的 CS 20SI 课程，专门针对 TensorFlow 的课程，[Tensorflow for Deep Learning Research](https://web.stanford.edu/class/cs20si/)\n",
    "2. 两本书籍：[Tensorflow Machine Learning Cookbook](https://github.com/nfmcclure/tensorflow_cookbook) + [TensorFlow for Machine Intelligence](https://www.safaribooksonline.com/library/view/tensorflow-for-machine/9781939902351/)\n",
    "3. Udacity公开课:[深度学习](http://cn.udacity.com/course/deep-learning--ud730)\n",
    "\n",
    "## Python 优秀教程\n",
    "- [Learn Python](https://learnpython.org/)\n",
    "- [Learn Python the Hard Way](https://learnpythonthehardway.org/book/)\n",
    "- [Practical Machine Learning Tutorial with Python Introduction](https://pythonprogramming.net/machine-learning-tutorial-python-introduction/) 涵盖了与机器学习相关的概念、算法、理论、应用程序等.\n",
    "- [Introduction to Neural Networks](https://pythonprogramming.net/neural-networks-machine-learning-tutorial/)\n",
    "\n",
    "## 深度学习（Deep Learning，DL）\n",
    "虽然 Tensorflow 已经封装好了大部分 DL 的细节，但是如果不了解 DL 的相关核心概念，就会很难着手分析问题。首先强烈推荐教程[Neural Networks and Deep Learning](http://neuralnetworksanddeeplearning.com/)，通读一遍，然后还有深度学习圣经[Deep Learning](http://www.deeplearningbook.org/)，可以快速浏览或者只看自己不太明白的地方，还有[Welcome to the Deep Learning Tutorial! ](http://deeplearning.stanford.edu/tutorial/)分块介绍的，还有几篇blog，[Conv Nets: A Modular Perspective](https://colah.github.io/posts/2014-07-Conv-Nets-Modular/)讲的是卷积神经网络。图像识别用的比较多的就是卷积神经网络，这篇可以看看。\n",
    " [Deep Learning Tutorials](http://deeplearning.net/tutorial/)也是不错的。\n",
    " \n",
    "## TensorFlow 教程\n",
    "- [官方教程](https://www.tensorflow.org/tutorials/)\n",
    "- [官方文档中文版](http://www.tensorfly.cn/)\n",
    "- [TensorFlow 文档中文翻译版](http://wiki.jikexueyuan.com/project/tensorflow-zh/)\n",
    "- [斯坦福教程](https://web.stanford.edu/class/cs20si/syllabus.html)\n",
    "- [Tensorflow的教程](http://learningtensorflow.com/)\n",
    "- [莫烦 TensorFlow](https://morvanzhou.github.io/tutorials/machine-learning/tensorflow/)\n",
    "- [Introduction to Deep Learning with TensorFlow](https://pythonprogramming.net/tensorflow-introduction-machine-learning-tutorial/)\n",
    "- [Deep Learning with TensorFlow - Creating the Neural Network Model](https://pythonprogramming.net/tensorflow-deep-neural-network-machine-learning-tutorial/)\n",
    "\n",
    "- [在Android端使用 TensorFlow](http://hp.stuhome.net/index.php/2017/02/17/tensorflow-on-android/) \n",
    "\n",
    "## 优质 blog\n",
    "- [Hackery, Math](http://acko.net/)\n",
    "- [colah's blog](https://colah.github.io/)\n",
    "- [ Café, bonne nuit](https://ireneli.eu/)\n",
    "- [Mike Bostock](https://bost.ocks.org/mike/)\n",
    "\n",
    "## 优秀课程资源\n",
    "[使用TensorFlow |创建深度学习应用程序](https://www.kadenze.com/courses/creative-applications-of-deep-learning-with-tensorflow/info)以应用为导向的课程，通过鼓励探索创造性思维和深层神经网络的创造性应用，教你Tensorflow的基础知识以及最先进的算法，强烈鼓励尝试这门课程。这是唯一全面的在线课程，将教会你如何使用 Tensorflow 和开发您的创造潜力，了解如何应用这些技术创建神经网络。\n",
    "\n",
    "建议你看一下[Deep Learning with TensorFlow](https://cognitiveclass.ai/courses/deep-learning-tensorflow/)课程。同样查看目录中的其他数据科学和机器学习课程。课程是完全免费的，并且许多都有完成证书和IBM支持的开放徽章。\n",
    "\n",
    "## [如何开始学习使用TensorFlow？](https://yq.aliyun.com/articles/71257?utm_campaign=wenzhang&utm_medium=article&utm_source=QQ-qun&utm_content=m_12436)"
   ]
  },
  {
   "cell_type": "code",
   "execution_count": null,
   "metadata": {},
   "outputs": [],
   "source": []
  }
 ],
 "metadata": {
  "kernelspec": {
   "display_name": "Python 3",
   "language": "python",
   "name": "python3"
  },
  "language_info": {
   "codemirror_mode": {
    "name": "ipython",
    "version": 3
   },
   "file_extension": ".py",
   "mimetype": "text/x-python",
   "name": "python",
   "nbconvert_exporter": "python",
   "pygments_lexer": "ipython3",
   "version": "3.6.3"
  },
  "latex_envs": {
   "LaTeX_envs_menu_present": true,
   "autoclose": false,
   "autocomplete": true,
   "bibliofile": "biblio.bib",
   "cite_by": "apalike",
   "current_citInitial": 1,
   "eqLabelWithNumbers": true,
   "eqNumInitial": 1,
   "hotkeys": {
    "equation": "Ctrl-E",
    "itemize": "Ctrl-I"
   },
   "labels_anchors": false,
   "latex_user_defs": false,
   "report_style_numbering": false,
   "user_envs_cfg": false
  },
  "nbTranslate": {
   "displayLangs": [
    "*"
   ],
   "hotkey": "alt-t",
   "langInMainMenu": true,
   "sourceLang": "en",
   "targetLang": "fr",
   "useGoogleTranslate": true
  },
  "toc": {
   "nav_menu": {},
   "number_sections": true,
   "sideBar": true,
   "skip_h1_title": false,
   "title_cell": "Table of Contents",
   "title_sidebar": "Contents",
   "toc_cell": false,
   "toc_position": {},
   "toc_section_display": true,
   "toc_window_display": false
  },
  "varInspector": {
   "cols": {
    "lenName": 16,
    "lenType": 16,
    "lenVar": 40
   },
   "kernels_config": {
    "python": {
     "delete_cmd_postfix": "",
     "delete_cmd_prefix": "del ",
     "library": "var_list.py",
     "varRefreshCmd": "print(var_dic_list())"
    },
    "r": {
     "delete_cmd_postfix": ") ",
     "delete_cmd_prefix": "rm(",
     "library": "var_list.r",
     "varRefreshCmd": "cat(var_dic_list()) "
    }
   },
   "types_to_exclude": [
    "module",
    "function",
    "builtin_function_or_method",
    "instance",
    "_Feature"
   ],
   "window_display": false
  }
 },
 "nbformat": 4,
 "nbformat_minor": 2
}
