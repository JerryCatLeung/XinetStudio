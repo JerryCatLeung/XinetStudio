{
 "cells": [
  {
   "cell_type": "code",
   "execution_count": 1,
   "metadata": {
    "ExecuteTime": {
     "end_time": "2018-03-27T14:27:24.069117Z",
     "start_time": "2018-03-27T14:27:19.206094Z"
    }
   },
   "outputs": [
    {
     "name": "stderr",
     "output_type": "stream",
     "text": [
      "C:\\Anaconda3\\lib\\site-packages\\h5py\\__init__.py:34: FutureWarning: Conversion of the second argument of issubdtype from `float` to `np.floating` is deprecated. In future, it will be treated as `np.float64 == np.dtype(float).type`.\n",
      "  from ._conv import register_converters as _register_converters\n"
     ]
    }
   ],
   "source": [
    "import sys\n",
    "\n",
    "import tensorflow as tf\n",
    "from numpy.random import RandomState\n",
    "from tensorflow.python.framework import ops\n",
    "ops.reset_default_graph()\n",
    "\n",
    "sys.path.append(r'E:\\xinlib')\n",
    "import xin"
   ]
  },
  {
   "cell_type": "markdown",
   "metadata": {},
   "source": [
    "#### 1. 定义神经网络的相关参数和变量。"
   ]
  },
  {
   "cell_type": "code",
   "execution_count": 2,
   "metadata": {
    "ExecuteTime": {
     "end_time": "2018-03-27T14:27:24.111083Z",
     "start_time": "2018-03-27T14:27:24.079079Z"
    }
   },
   "outputs": [],
   "source": [
    "batch_size = 8\n",
    "x = tf.placeholder(tf.float32, shape=(None, 2), name=\"x-input\")\n",
    "y_ = tf.placeholder(tf.float32, shape=(None, 1), name='y-input')\n",
    "w1= tf.Variable(tf.random_normal([2, 1], stddev=1, seed=1))\n",
    "y = tf.matmul(x, w1)"
   ]
  },
  {
   "cell_type": "markdown",
   "metadata": {},
   "source": [
    "#### 2. 设置自定义的损失函数。"
   ]
  },
  {
   "cell_type": "code",
   "execution_count": 3,
   "metadata": {
    "ExecuteTime": {
     "end_time": "2018-03-27T14:27:28.180121Z",
     "start_time": "2018-03-27T14:27:28.096084Z"
    }
   },
   "outputs": [],
   "source": [
    "# 定义损失函数使得预测少了的损失大，于是模型应该偏向多的方向预测。\n",
    "loss_less = 10\n",
    "loss_more = 1\n",
    "loss = tf.reduce_sum(tf.where(tf.greater(y, y_), (y - y_) * loss_more, (y_ - y) * loss_less))\n",
    "train_step = tf.train.AdamOptimizer(0.001).minimize(loss)"
   ]
  },
  {
   "cell_type": "code",
   "execution_count": 9,
   "metadata": {
    "ExecuteTime": {
     "end_time": "2018-03-27T14:29:21.372924Z",
     "start_time": "2018-03-27T14:29:21.335900Z"
    }
   },
   "outputs": [],
   "source": [
    "dw = tf.gradients(loss, w1)"
   ]
  },
  {
   "cell_type": "markdown",
   "metadata": {},
   "source": [
    "#### 3. 生成模拟数据集。"
   ]
  },
  {
   "cell_type": "code",
   "execution_count": 4,
   "metadata": {
    "ExecuteTime": {
     "end_time": "2018-03-27T14:27:29.978091Z",
     "start_time": "2018-03-27T14:27:29.973123Z"
    }
   },
   "outputs": [],
   "source": [
    "rdm = RandomState(1)\n",
    "X = rdm.rand(128,2)\n",
    "Y = [[x1+x2+(rdm.rand()/10.0-0.05)] for (x1, x2) in X]"
   ]
  },
  {
   "cell_type": "code",
   "execution_count": 5,
   "metadata": {
    "ExecuteTime": {
     "end_time": "2018-03-27T14:27:31.595082Z",
     "start_time": "2018-03-27T14:27:31.581079Z"
    }
   },
   "outputs": [
    {
     "data": {
      "text/plain": [
       "(128, 2)"
      ]
     },
     "execution_count": 5,
     "metadata": {},
     "output_type": "execute_result"
    }
   ],
   "source": [
    "X = xin.norm(X)\n",
    "X.shape"
   ]
  },
  {
   "cell_type": "code",
   "execution_count": 6,
   "metadata": {
    "ExecuteTime": {
     "end_time": "2018-03-27T14:27:55.564881Z",
     "start_time": "2018-03-27T14:27:55.559885Z"
    }
   },
   "outputs": [],
   "source": [
    "data_iter = xin.data_iter(X, Y, batch_size)"
   ]
  },
  {
   "cell_type": "markdown",
   "metadata": {},
   "source": [
    "#### 4. 训练模型。"
   ]
  },
  {
   "cell_type": "code",
   "execution_count": 6,
   "metadata": {
    "ExecuteTime": {
     "end_time": "2018-03-27T09:53:01.877173Z",
     "start_time": "2018-03-27T09:52:59.415860Z"
    }
   },
   "outputs": [
    {
     "name": "stdout",
     "output_type": "stream",
     "text": [
      "After 0 training step(s), w1 is: \n",
      "[[-0.8004185]\n",
      " [ 1.4735751]] \n",
      "\n",
      "After 1000 training step(s), w1 is: \n",
      "[[-0.8004185]\n",
      " [ 1.4735751]] \n",
      "\n",
      "After 2000 training step(s), w1 is: \n",
      "[[-0.8004185]\n",
      " [ 1.4735751]] \n",
      "\n",
      "After 3000 training step(s), w1 is: \n",
      "[[-0.8004185]\n",
      " [ 1.4735751]] \n",
      "\n",
      "After 4000 training step(s), w1 is: \n",
      "[[-0.8004185]\n",
      " [ 1.4735751]] \n",
      "\n",
      "Final w1 is: \n",
      " [[-0.8004185]\n",
      " [ 1.4735751]]\n"
     ]
    }
   ],
   "source": [
    "with tf.Session() as sess:\n",
    "    init_op = tf.global_variables_initializer()\n",
    "    sess.run(init_op)\n",
    "    STEPS = 5000\n",
    "    for i in range(STEPS):\n",
    "        for data, label in data_iter:\n",
    "            sess.run([train_step, y, y_], feed_dict={x: data, y_: label})\n",
    "        if i % 1000 == 0:\n",
    "            print((\"After %d training step(s), w1 is: \" % (i)))\n",
    "            print(sess.run(w1), \"\\n\")\n",
    "    print(\"Final w1 is: \\n\", sess.run(w1))"
   ]
  },
  {
   "cell_type": "markdown",
   "metadata": {},
   "source": [
    "#### 5. 重新定义损失函数，使得预测多了的损失大，于是模型应该偏向少的方向预测。"
   ]
  },
  {
   "cell_type": "code",
   "execution_count": 7,
   "metadata": {
    "ExecuteTime": {
     "end_time": "2018-03-27T09:53:02.071175Z",
     "start_time": "2018-03-27T09:53:01.880192Z"
    }
   },
   "outputs": [
    {
     "name": "stdout",
     "output_type": "stream",
     "text": [
      "After 0 training step(s), w1 is: \n",
      "[[-0.8113182]\n",
      " [ 1.4845988]] \n",
      "\n",
      "After 1000 training step(s), w1 is: \n",
      "[[-0.8113182]\n",
      " [ 1.4845988]] \n",
      "\n",
      "After 2000 training step(s), w1 is: \n",
      "[[-0.8113182]\n",
      " [ 1.4845988]] \n",
      "\n",
      "After 3000 training step(s), w1 is: \n",
      "[[-0.8113182]\n",
      " [ 1.4845988]] \n",
      "\n",
      "After 4000 training step(s), w1 is: \n",
      "[[-0.8113182]\n",
      " [ 1.4845988]] \n",
      "\n",
      "Final w1 is: \n",
      " [[-0.8113182]\n",
      " [ 1.4845988]]\n"
     ]
    }
   ],
   "source": [
    "loss_less = 1\n",
    "loss_more = 10\n",
    "loss = tf.reduce_sum(tf.where(tf.greater(y, y_), (y - y_) * loss_more, (y_ - y) * loss_less))\n",
    "train_step = tf.train.AdamOptimizer(0.001).minimize(loss)\n",
    "\n",
    "with tf.Session() as sess:\n",
    "    init_op = tf.global_variables_initializer()\n",
    "    sess.run(init_op)\n",
    "    STEPS = 5000\n",
    "    for i in range(STEPS):\n",
    "        for data, label in data_iter:\n",
    "            sess.run(train_step, feed_dict={x: data, y_: label})\n",
    "        if i % 1000 == 0:\n",
    "            print((\"After %d training step(s), w1 is: \" % (i)))\n",
    "            print(sess.run(w1), \"\\n\")\n",
    "    print(\"Final w1 is: \\n\", sess.run(w1))"
   ]
  },
  {
   "cell_type": "markdown",
   "metadata": {},
   "source": [
    "#### 6. 定义损失函数为MSE。"
   ]
  },
  {
   "cell_type": "code",
   "execution_count": 8,
   "metadata": {
    "ExecuteTime": {
     "end_time": "2018-03-27T09:53:02.309176Z",
     "start_time": "2018-03-27T09:53:02.074189Z"
    },
    "scrolled": true
   },
   "outputs": [
    {
     "name": "stdout",
     "output_type": "stream",
     "text": [
      "After 0 training step(s), w1 is: \n",
      "[[-0.8113182]\n",
      " [ 1.4845988]] \n",
      "\n",
      "After 1000 training step(s), w1 is: \n",
      "[[-0.8113182]\n",
      " [ 1.4845988]] \n",
      "\n",
      "After 2000 training step(s), w1 is: \n",
      "[[-0.8113182]\n",
      " [ 1.4845988]] \n",
      "\n",
      "After 3000 training step(s), w1 is: \n",
      "[[-0.8113182]\n",
      " [ 1.4845988]] \n",
      "\n",
      "After 4000 training step(s), w1 is: \n",
      "[[-0.8113182]\n",
      " [ 1.4845988]] \n",
      "\n",
      "Final w1 is: \n",
      " [[-0.8113182]\n",
      " [ 1.4845988]]\n"
     ]
    }
   ],
   "source": [
    "loss = tf.losses.mean_squared_error(y, y_)\n",
    "train_step = tf.train.AdamOptimizer(0.001).minimize(loss)\n",
    "\n",
    "with tf.Session() as sess:\n",
    "    init_op = tf.global_variables_initializer()\n",
    "    sess.run(init_op)\n",
    "    STEPS = 5000\n",
    "    for i in range(STEPS):\n",
    "        for data, label in data_iter:\n",
    "            sess.run(train_step, feed_dict={x: data, y_: label})\n",
    "        if i % 1000 == 0:\n",
    "            print((\"After %d training step(s), w1 is: \" % (i)))\n",
    "            print(sess.run(w1), \"\\n\")\n",
    "    print(\"Final w1 is: \\n\", sess.run(w1))"
   ]
  },
  {
   "cell_type": "code",
   "execution_count": null,
   "metadata": {},
   "outputs": [],
   "source": []
  }
 ],
 "metadata": {
  "kernelspec": {
   "display_name": "Python 3",
   "language": "python",
   "name": "python3"
  },
  "language_info": {
   "codemirror_mode": {
    "name": "ipython",
    "version": 3
   },
   "file_extension": ".py",
   "mimetype": "text/x-python",
   "name": "python",
   "nbconvert_exporter": "python",
   "pygments_lexer": "ipython3",
   "version": "3.6.3"
  },
  "latex_envs": {
   "LaTeX_envs_menu_present": true,
   "autoclose": false,
   "autocomplete": true,
   "bibliofile": "biblio.bib",
   "cite_by": "apalike",
   "current_citInitial": 1,
   "eqLabelWithNumbers": true,
   "eqNumInitial": 1,
   "hotkeys": {
    "equation": "Ctrl-E",
    "itemize": "Ctrl-I"
   },
   "labels_anchors": false,
   "latex_user_defs": false,
   "report_style_numbering": false,
   "user_envs_cfg": false
  },
  "toc": {
   "nav_menu": {},
   "number_sections": true,
   "sideBar": true,
   "skip_h1_title": false,
   "title_cell": "Table of Contents",
   "title_sidebar": "Contents",
   "toc_cell": false,
   "toc_position": {},
   "toc_section_display": true,
   "toc_window_display": false
  },
  "varInspector": {
   "cols": {
    "lenName": 16,
    "lenType": 16,
    "lenVar": 40
   },
   "kernels_config": {
    "python": {
     "delete_cmd_postfix": "",
     "delete_cmd_prefix": "del ",
     "library": "var_list.py",
     "varRefreshCmd": "print(var_dic_list())"
    },
    "r": {
     "delete_cmd_postfix": ") ",
     "delete_cmd_prefix": "rm(",
     "library": "var_list.r",
     "varRefreshCmd": "cat(var_dic_list()) "
    }
   },
   "types_to_exclude": [
    "module",
    "function",
    "builtin_function_or_method",
    "instance",
    "_Feature"
   ],
   "window_display": false
  }
 },
 "nbformat": 4,
 "nbformat_minor": 1
}
