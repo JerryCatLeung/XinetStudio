{
 "cells": [
  {
   "cell_type": "markdown",
   "metadata": {},
   "source": [
    "# 使用 GPU 做运算"
   ]
  },
  {
   "cell_type": "markdown",
   "metadata": {},
   "source": [
    "TensorFlow 可以通过 `tf.device` 函数来指定运行每一个操作的设备。"
   ]
  },
  {
   "cell_type": "code",
   "execution_count": 2,
   "metadata": {
    "ExecuteTime": {
     "end_time": "2018-03-20T06:29:25.164930Z",
     "start_time": "2018-03-20T06:29:25.144921Z"
    }
   },
   "outputs": [],
   "source": [
    "import tensorflow as tf\n",
    "\n",
    "a = tf.constant([1.,2., 3.], shape= [3], name= 'a')\n",
    "b = tf.constant([1., 2., 3.],shape= [3], name= 'b')\n",
    "c = a + b"
   ]
  },
  {
   "cell_type": "markdown",
   "metadata": {},
   "source": [
    "通过 `log_device_placement` 参数来输出运行每个运算的设备。"
   ]
  },
  {
   "cell_type": "code",
   "execution_count": 5,
   "metadata": {
    "ExecuteTime": {
     "end_time": "2018-03-20T06:32:39.753901Z",
     "start_time": "2018-03-20T06:32:39.641908Z"
    },
    "scrolled": true
   },
   "outputs": [
    {
     "name": "stdout",
     "output_type": "stream",
     "text": [
      "[2. 4. 6.]\n"
     ]
    }
   ],
   "source": [
    "sess = tf.Session(config=tf.ConfigProto(log_device_placement= True))\n",
    "print(sess.run(c))\n",
    "sess.close()"
   ]
  },
  {
   "cell_type": "markdown",
   "metadata": {},
   "source": [
    "通过 `tf.device` 将运算指定到特定的设备上。"
   ]
  },
  {
   "cell_type": "code",
   "execution_count": 3,
   "metadata": {
    "ExecuteTime": {
     "end_time": "2018-03-20T06:42:26.205848Z",
     "start_time": "2018-03-20T06:42:26.196826Z"
    }
   },
   "outputs": [],
   "source": [
    "import tensorflow as tf\n",
    "\n",
    "with tf.device('/cpu:0'):\n",
    "    a = tf.constant([1.0, 2.0, 3.0], shape=[3], name='a')\n",
    "    b = tf.constant([1.0, 2.0, 3.0], shape=[3], name='b')\n",
    "with tf.device('/gpu:0'):\n",
    "    c = a + b"
   ]
  },
  {
   "cell_type": "code",
   "execution_count": 4,
   "metadata": {
    "ExecuteTime": {
     "end_time": "2018-03-20T06:42:27.917834Z",
     "start_time": "2018-03-20T06:42:27.785849Z"
    }
   },
   "outputs": [
    {
     "name": "stdout",
     "output_type": "stream",
     "text": [
      "[2. 4. 6.]\n"
     ]
    }
   ],
   "source": [
    "sess = tf.Session(config=tf.ConfigProto(log_device_placement=True))\n",
    "print(sess.run(c))"
   ]
  },
  {
   "cell_type": "code",
   "execution_count": 5,
   "metadata": {
    "ExecuteTime": {
     "end_time": "2018-03-20T06:42:59.864958Z",
     "start_time": "2018-03-20T06:42:59.610860Z"
    }
   },
   "outputs": [],
   "source": [
    "a_cpu = tf.Variable(0, name=\"a_cpu\")\n",
    "with tf.device('/gpu:0'):\n",
    "    a_gpu = tf.Variable(0, name=\"a_gpu\")\n",
    "    # 通过 allow_soft_placement 参数自动将无法放在 GPU 上的操作放回 CPU 上。\n",
    "sess = tf.Session(config=tf.ConfigProto(\n",
    "    allow_soft_placement=True, log_device_placement=True))\n",
    "sess.run(tf.global_variables_initializer())"
   ]
  },
  {
   "cell_type": "markdown",
   "metadata": {},
   "source": [
    "`allow_soft_placement=True` 在下面的任意一个条件成立，GPU 的运算可以放到 CPU 上进行：\n",
    "- 运算无法在GPU上执行；\n",
    "- 没有GPU资源(比如运算被指定在第二个GPU上运行，但是机器只有一个GPU)；\n",
    "- 运算输入包含对CPU计算结果的引用。\n",
    "\n",
    "`log_device_placement=True`日志中将会记录每个节点被安排在了哪个设备上以方便调试。"
   ]
  },
  {
   "cell_type": "markdown",
   "metadata": {},
   "source": [
    "虽然 GPU 可以加速 TensorFlow 的计算，但一般不会把所有的操作全部放在 GPU 上。一个比较好的实践是将计算密集型的运算放在 GPU 上，而其他操作放在 CPU 上。GPU 是相对独立的资源，将计算放入或转出 GPU 都需要额外的时间。而且 GPU 需要将计算时用到的数据从内存复制到 GPU　设备上，也需要额外的时间。因此，为了提高程序的运行速度，用户需要将相关的运算放在同一个设备上。"
   ]
  },
  {
   "cell_type": "markdown",
   "metadata": {},
   "source": [
    "# 分布式运算"
   ]
  },
  {
   "cell_type": "code",
   "execution_count": null,
   "metadata": {
    "ExecuteTime": {
     "start_time": "2018-03-20T07:23:13.993Z"
    }
   },
   "outputs": [],
   "source": [
    "import tensorflow as tf\n",
    "\n",
    "# 创建一个本地集群。\n",
    "s = tf.constant(\"Hello, distributed TensorFlow!\")\n",
    "server = tf.train.Server.create_local_server()\n",
    "sess = tf.Session(server.target)\n",
    "print(sess.run(s))"
   ]
  },
  {
   "cell_type": "code",
   "execution_count": null,
   "metadata": {
    "ExecuteTime": {
     "start_time": "2018-03-20T07:24:34.864Z"
    }
   },
   "outputs": [],
   "source": [
    "# 创建两个集群\n",
    "c = tf.constant(\"Hello from server1!\")\n",
    "cluster = tf.train.ClusterSpec({\"local\": [\"localhost:2222\", \"localhost:2223\"]})\n",
    "server = tf.train.Server(cluster, job_name=\"local\", task_index=0)\n",
    "sess = tf.Session(server.target, config=tf.ConfigProto(\n",
    "    log_device_placement=True))\n",
    "print(sess.run(c))\n",
    "server.join()\n",
    "\n",
    "\n",
    "import tensorflow as tf\n",
    "c = tf.constant(\"Hello from server2!\")\n",
    "cluster = tf.train.ClusterSpec({\"local\": [\"localhost:2222\", \"localhost:2223\"]})\n",
    "server = tf.train.Server(cluster, job_name=\"local\", task_index=1)\n",
    "sess = tf.Session(server.target, config=tf.ConfigProto(\n",
    "    log_device_placement=True))\n",
    "print(sess.run(c))\n",
    "server.join()"
   ]
  },
  {
   "cell_type": "code",
   "execution_count": null,
   "metadata": {},
   "outputs": [],
   "source": []
  }
 ],
 "metadata": {
  "kernelspec": {
   "display_name": "Python 3",
   "language": "python",
   "name": "python3"
  },
  "language_info": {
   "codemirror_mode": {
    "name": "ipython",
    "version": 3
   },
   "file_extension": ".py",
   "mimetype": "text/x-python",
   "name": "python",
   "nbconvert_exporter": "python",
   "pygments_lexer": "ipython3",
   "version": "3.6.3"
  },
  "toc": {
   "nav_menu": {},
   "number_sections": true,
   "sideBar": true,
   "skip_h1_title": false,
   "title_cell": "Table of Contents",
   "title_sidebar": "Contents",
   "toc_cell": false,
   "toc_position": {
    "height": "calc(100% - 180px)",
    "left": "10px",
    "top": "150px",
    "width": "307px"
   },
   "toc_section_display": true,
   "toc_window_display": true
  },
  "varInspector": {
   "cols": {
    "lenName": 16,
    "lenType": 16,
    "lenVar": 40
   },
   "kernels_config": {
    "python": {
     "delete_cmd_postfix": "",
     "delete_cmd_prefix": "del ",
     "library": "var_list.py",
     "varRefreshCmd": "print(var_dic_list())"
    },
    "r": {
     "delete_cmd_postfix": ") ",
     "delete_cmd_prefix": "rm(",
     "library": "var_list.r",
     "varRefreshCmd": "cat(var_dic_list()) "
    }
   },
   "types_to_exclude": [
    "module",
    "function",
    "builtin_function_or_method",
    "instance",
    "_Feature"
   ],
   "window_display": false
  }
 },
 "nbformat": 4,
 "nbformat_minor": 2
}
