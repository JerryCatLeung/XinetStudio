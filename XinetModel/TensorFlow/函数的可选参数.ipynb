{
 "cells": [
  {
   "cell_type": "code",
   "execution_count": 1,
   "metadata": {
    "ExecuteTime": {
     "end_time": "2018-03-30T10:25:28.788235Z",
     "start_time": "2018-03-30T10:25:28.779206Z"
    }
   },
   "outputs": [
    {
     "name": "stdout",
     "output_type": "stream",
     "text": [
      "{'name': 'Mike', 'age': 26, 'hoppy': 'swim', 'job': 'singer'}\n"
     ]
    }
   ],
   "source": [
    "def getuser(name, age, **kargs):\n",
    "    info = {}\n",
    "    info['name'] = name.title()\n",
    "    info['age'] = age\n",
    "    for key, value in kargs.items():\n",
    "        info[key] = value\n",
    "    print(info)\n",
    "    \n",
    "getuser('mike', 26, hoppy='swim', job='singer')"
   ]
  },
  {
   "cell_type": "code",
   "execution_count": 2,
   "metadata": {
    "ExecuteTime": {
     "end_time": "2018-03-30T10:25:36.298191Z",
     "start_time": "2018-03-30T10:25:36.287195Z"
    }
   },
   "outputs": [
    {
     "name": "stdout",
     "output_type": "stream",
     "text": [
      "['Mike', 26, ['swim', 'singer']]\n"
     ]
    }
   ],
   "source": [
    "def getuser(name, age, *args):\n",
    "    info = []\n",
    "    info.append(name.title())\n",
    "    info.append(age)\n",
    "    for i in args:\n",
    "        info.append(i)\n",
    "    print(info)\n",
    "    \n",
    "getuser('mike', 26, ['swim', 'singer'])"
   ]
  },
  {
   "cell_type": "markdown",
   "metadata": {},
   "source": [
    "- 传递混合参数，如位置参数和字典参数(`**kargs`)\n",
    "- 调用处传递键值对参数，函数将键值对参数当成一个数据字典来处理\n",
    "- 也支持列表参数(`*args`)，用法类似"
   ]
  },
  {
   "cell_type": "code",
   "execution_count": 3,
   "metadata": {
    "ExecuteTime": {
     "end_time": "2018-03-30T10:26:56.835676Z",
     "start_time": "2018-03-30T10:26:56.824671Z"
    }
   },
   "outputs": [
    {
     "name": "stdout",
     "output_type": "stream",
     "text": [
      "name: Mike age: 25\n",
      "name: Mike age: 25 hoppy: 游泳\n"
     ]
    }
   ],
   "source": [
    "# 函数可选参数举例，hoppy参数可传可不传\n",
    "def getinfo(name, age, hoppy=''):\n",
    "    if hoppy:\n",
    "        print(\"name:\", name.title(), \"age:\", age, \"hoppy:\", hoppy)\n",
    "    else:\n",
    "        print(\"name:\", name.title(), \"age:\", age)\n",
    "\n",
    "\n",
    "getinfo('mike', 25)\n",
    "getinfo('mike', 25, \"游泳\")"
   ]
  },
  {
   "cell_type": "code",
   "execution_count": null,
   "metadata": {},
   "outputs": [],
   "source": []
  }
 ],
 "metadata": {
  "kernelspec": {
   "display_name": "Python 3",
   "language": "python",
   "name": "python3"
  },
  "language_info": {
   "codemirror_mode": {
    "name": "ipython",
    "version": 3
   },
   "file_extension": ".py",
   "mimetype": "text/x-python",
   "name": "python",
   "nbconvert_exporter": "python",
   "pygments_lexer": "ipython3",
   "version": "3.6.3"
  },
  "latex_envs": {
   "LaTeX_envs_menu_present": true,
   "autoclose": false,
   "autocomplete": true,
   "bibliofile": "biblio.bib",
   "cite_by": "apalike",
   "current_citInitial": 1,
   "eqLabelWithNumbers": true,
   "eqNumInitial": 1,
   "hotkeys": {
    "equation": "Ctrl-E",
    "itemize": "Ctrl-I"
   },
   "labels_anchors": false,
   "latex_user_defs": false,
   "report_style_numbering": false,
   "user_envs_cfg": false
  },
  "toc": {
   "nav_menu": {},
   "number_sections": true,
   "sideBar": true,
   "skip_h1_title": false,
   "title_cell": "Table of Contents",
   "title_sidebar": "Contents",
   "toc_cell": false,
   "toc_position": {},
   "toc_section_display": true,
   "toc_window_display": false
  },
  "varInspector": {
   "cols": {
    "lenName": 16,
    "lenType": 16,
    "lenVar": 40
   },
   "kernels_config": {
    "python": {
     "delete_cmd_postfix": "",
     "delete_cmd_prefix": "del ",
     "library": "var_list.py",
     "varRefreshCmd": "print(var_dic_list())"
    },
    "r": {
     "delete_cmd_postfix": ") ",
     "delete_cmd_prefix": "rm(",
     "library": "var_list.r",
     "varRefreshCmd": "cat(var_dic_list()) "
    }
   },
   "types_to_exclude": [
    "module",
    "function",
    "builtin_function_or_method",
    "instance",
    "_Feature"
   ],
   "window_display": false
  }
 },
 "nbformat": 4,
 "nbformat_minor": 2
}
