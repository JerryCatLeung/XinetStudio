{
 "cells": [
  {
   "cell_type": "markdown",
   "metadata": {},
   "source": [
    "# Start a TensorFlow server as a single-process \"cluster\".\n",
    "```sh\n",
    "$ python\n",
    ">>> import tensorflow as tf\n",
    ">>> c = tf.constant(\"Hello, distributed TensorFlow!\")\n",
    ">>> server = tf.train.Server.create_local_server()\n",
    ">>> sess = tf.Session(server.target)  # Create a session on the server.\n",
    ">>> sess.run(c)\n",
    "'Hello, distributed TensorFlow!'\n",
    "```"
   ]
  },
  {
   "cell_type": "code",
   "execution_count": 1,
   "metadata": {
    "ExecuteTime": {
     "end_time": "2018-04-03T07:39:02.277036Z",
     "start_time": "2018-04-03T07:38:55.127720Z"
    }
   },
   "outputs": [
    {
     "data": {
      "text/plain": [
       "b'Hello, distributed TensorFlow!'"
      ]
     },
     "execution_count": 1,
     "metadata": {},
     "output_type": "execute_result"
    }
   ],
   "source": [
    "import tensorflow as tf\n",
    "c = tf.constant(\"Hello, distributed TensorFlow!\")\n",
    "server = tf.train.Server.create_local_server()\n",
    "sess = tf.Session(server.target)  # Create a session on the server.\n",
    "sess.run(c)"
   ]
  },
  {
   "cell_type": "markdown",
   "metadata": {},
   "source": [
    "`tf.train.Server.create_local_server` 方法使用进程内服务器创建单进程群集。"
   ]
  },
  {
   "cell_type": "markdown",
   "metadata": {},
   "source": [
    "# [创建群集](https://www.tensorflow.org/deploy/distributed)\n",
    "\n",
    "TensorFlow \"cluster\" 是一组参与 TensorFlow 图的分布式执行的 \"task\"。每个任务都与 TensorFlow \"server(服务器)\" 关联, 其中包含可用于创建会话的 \"master\", 以及在关系图中执行操作的 \"worker\"。群集还可以划分为一个或多个 \"job\", 其中每个作业都包含一个或多个任务。\n",
    "\n",
    "若要创建群集, 请在群集中的每个任务中启动一个 TensorFlow 服务器。每个任务通常在不同的计算机上运行, 但您可以在同一台计算机上运行多个任务 (例如, 控制不同的 GPU 设备)。在每个任务中, 执行以下操作:\n",
    "- 创建`tf.train.ClusterSpec` , 用于描述群集中的所有任务。对于每个任务, 这应该是相同的。\n",
    "- 创建`tf.train.Server`, 传递到构造函数, 并使用作业名称(job name)和任务索引task index）来标识本地任务。"
   ]
  },
  {
   "cell_type": "code",
   "execution_count": null,
   "metadata": {},
   "outputs": [],
   "source": []
  }
 ],
 "metadata": {
  "kernelspec": {
   "display_name": "Python 3",
   "language": "python",
   "name": "python3"
  },
  "language_info": {
   "codemirror_mode": {
    "name": "ipython",
    "version": 3
   },
   "file_extension": ".py",
   "mimetype": "text/x-python",
   "name": "python",
   "nbconvert_exporter": "python",
   "pygments_lexer": "ipython3",
   "version": "3.6.4"
  },
  "latex_envs": {
   "LaTeX_envs_menu_present": true,
   "autoclose": false,
   "autocomplete": true,
   "bibliofile": "biblio.bib",
   "cite_by": "apalike",
   "current_citInitial": 1,
   "eqLabelWithNumbers": true,
   "eqNumInitial": 1,
   "hotkeys": {
    "equation": "Ctrl-E",
    "itemize": "Ctrl-I"
   },
   "labels_anchors": false,
   "latex_user_defs": false,
   "report_style_numbering": false,
   "user_envs_cfg": false
  },
  "toc": {
   "nav_menu": {},
   "number_sections": true,
   "sideBar": true,
   "skip_h1_title": false,
   "title_cell": "Table of Contents",
   "title_sidebar": "Contents",
   "toc_cell": false,
   "toc_position": {},
   "toc_section_display": true,
   "toc_window_display": false
  },
  "varInspector": {
   "cols": {
    "lenName": 16,
    "lenType": 16,
    "lenVar": 40
   },
   "kernels_config": {
    "python": {
     "delete_cmd_postfix": "",
     "delete_cmd_prefix": "del ",
     "library": "var_list.py",
     "varRefreshCmd": "print(var_dic_list())"
    },
    "r": {
     "delete_cmd_postfix": ") ",
     "delete_cmd_prefix": "rm(",
     "library": "var_list.r",
     "varRefreshCmd": "cat(var_dic_list()) "
    }
   },
   "types_to_exclude": [
    "module",
    "function",
    "builtin_function_or_method",
    "instance",
    "_Feature"
   ],
   "window_display": false
  }
 },
 "nbformat": 4,
 "nbformat_minor": 2
}
