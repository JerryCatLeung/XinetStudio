{
 "cells": [
  {
   "cell_type": "markdown",
   "metadata": {},
   "source": [
    "# [Github 项目推荐 | TensorFlow 概率推理工具集 —— probability](https://www.yidianzixun.com/article/0IPECuGW?title_sn/0&s=9&appid=yidian&ver=4.6.1.3&utk=ag0j9ca9)\n",
    "\n",
    "`Probability`是 TensorFlow 的**概率推理工具集**，它是集建模工具、推理算法、一些有用的模型和一般统计计算于一身的开发工具集合。利用 TensorFlow，Probability 可以将概率方法和深度网络、通过自动差分的基于梯度的推论、大数据集、通过硬件（比如 GPU）加速的模型和分布式计算结合起来。\n",
    "\n",
    "该软件的主要内容包括以下几个部分：\n",
    "- **采样算法**，例如，`tfp.metropolis_hastings`，`tfp.hmc`，`tfp.monte_carlo`。\n",
    "- **示例模型**（`tfp.examples`）：使用此包和`tf.contrib.distributions`中的工具在 TensorFlow 中实现常见概率模型。\n",
    "该库中的接口可能随时会更改。\n",
    "\n",
    "GitHub 地址：https://github.com/tensorflow/probability\n",
    "\n",
    "# [AI大事件 | 机器学习增强人类记忆力，谷歌上线AI速成课，TensorFlow 1.6发布](https://www.yidianzixun.com/article/0ITm886Q?title_sn/0&s=9&appid=yidian&ver=4.6.1.3&utk=ag0j9ca9)\n",
    "\n",
    "## [免费机器学习速成课，原汁原味来自谷歌，大爱中文版！](https://www.yidianzixun.com/article/0ISRbTnc?title_sn/0&s=9&appid=yidian&ver=4.6.1.3&utk=ag0j9ca9)\n",
    "\n",
    "\n",
    "课程地址：https://developers.google.cn/machine-learning/crash-course/\n",
    "\n",
    "谷歌在以往介绍自己的 AI 产品、开源代码和研究成果的 ai.google 网站上新上线了教育板块[Learn with Google AI](https://ai.google/education/)，汇集了各类 AI 学习资源，旨在帮助广大学生、研究者、产品开发者掌握包括 AI 基础知识、模型开发技术、开源平台使用、Kaggle 竞赛、综合解决方案设计等各方面的 AI 技术应用能力。\n",
    "\n",
    "## [研究机会：NLP和转移学习](http://ruder.io/requests-for-research/)\n",
    "这篇文章为初级研究人员和那些试图进入研究领域的初学者提供了启发和思路。它收集了一系列有趣的研究课题，重点关注NLP和转移学习。\n",
    "\n",
    "## [增加深度可以加速优化吗？](http://www.offconvex.org/2018/03/02/acceleration-overparameterization/)\n",
    "\n",
    "## [Lore：如何在15分钟内建立深度学习模型](https://www.ctolib.com/instacart-lore.html)\n",
    "\n",
    "## [GANs的Keras实现](https://github.com/eriklindernoren/Keras-GAN)\n",
    "这个项目对来自各种研究论文的许多GANs进行了Keras实现。其中一些是论文中提出的简化版，但它们仍然是很好的学习资源。\n",
    "\n",
    "# [深度学习](http://www.atyun.com/c/行业/深度学习)"
   ]
  },
  {
   "cell_type": "code",
   "execution_count": null,
   "metadata": {},
   "outputs": [],
   "source": []
  }
 ],
 "metadata": {
  "kernelspec": {
   "display_name": "Python 3",
   "language": "python",
   "name": "python3"
  },
  "language_info": {
   "codemirror_mode": {
    "name": "ipython",
    "version": 3
   },
   "file_extension": ".py",
   "mimetype": "text/x-python",
   "name": "python",
   "nbconvert_exporter": "python",
   "pygments_lexer": "ipython3",
   "version": "3.6.3"
  },
  "toc": {
   "nav_menu": {},
   "number_sections": true,
   "sideBar": true,
   "skip_h1_title": false,
   "title_cell": "Table of Contents",
   "title_sidebar": "Contents",
   "toc_cell": false,
   "toc_position": {},
   "toc_section_display": true,
   "toc_window_display": false
  },
  "varInspector": {
   "cols": {
    "lenName": 16,
    "lenType": 16,
    "lenVar": 40
   },
   "kernels_config": {
    "python": {
     "delete_cmd_postfix": "",
     "delete_cmd_prefix": "del ",
     "library": "var_list.py",
     "varRefreshCmd": "print(var_dic_list())"
    },
    "r": {
     "delete_cmd_postfix": ") ",
     "delete_cmd_prefix": "rm(",
     "library": "var_list.r",
     "varRefreshCmd": "cat(var_dic_list()) "
    }
   },
   "types_to_exclude": [
    "module",
    "function",
    "builtin_function_or_method",
    "instance",
    "_Feature"
   ],
   "window_display": false
  }
 },
 "nbformat": 4,
 "nbformat_minor": 2
}
