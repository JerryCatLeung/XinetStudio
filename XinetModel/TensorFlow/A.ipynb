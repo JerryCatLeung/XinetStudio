{
 "cells": [
  {
   "cell_type": "code",
   "execution_count": 1,
   "metadata": {
    "ExecuteTime": {
     "end_time": "2018-04-01T10:21:51.617302Z",
     "start_time": "2018-04-01T10:21:45.526306Z"
    }
   },
   "outputs": [
    {
     "name": "stderr",
     "output_type": "stream",
     "text": [
      "C:\\Anaconda3\\lib\\site-packages\\h5py\\__init__.py:34: FutureWarning: Conversion of the second argument of issubdtype from `float` to `np.floating` is deprecated. In future, it will be treated as `np.float64 == np.dtype(float).type`.\n",
      "  from ._conv import register_converters as _register_converters\n"
     ]
    }
   ],
   "source": [
    "import sys\n",
    "\n",
    "import tensorflow as tf\n",
    "import numpy as np\n",
    "\n",
    "sys.path.append('E:/xinlib')\n",
    "import xin\n",
    "import chaos"
   ]
  },
  {
   "cell_type": "code",
   "execution_count": 2,
   "metadata": {
    "ExecuteTime": {
     "end_time": "2018-04-01T10:22:49.005988Z",
     "start_time": "2018-04-01T10:21:51.660314Z"
    },
    "scrolled": true
   },
   "outputs": [],
   "source": [
    "root = 'E:/Data/datasets/flower_photos/'\n",
    "X, Y = xin.Path2Dataset(root).path2data(True, 28)\n",
    "\n",
    "data_ = X.concatenate()\n",
    "data = xin.norm(data_)\n",
    "data_mat = chaos.TensorShape(data).tensor_to_matrix()\n",
    "labels = chaos.TensorShape(Y.codes).tensor_to_matrix()\n",
    "data_mat_shape = chaos.TensorShape(data_mat).get_shape()\n",
    "\n",
    "# 构造一个线性模型\n",
    "n_class = len(Y.categories)\n",
    "n_samples, n_features = data_mat_shape\n",
    "shape = [n_features, n_class]\n",
    "b = tf.Variable(tf.zeros([n_samples, 1]))\n",
    "W = tf.Variable(tf.random_normal(shape))\n",
    "output = tf.matmul(data_mat, W) + b\n",
    "y = chaos.TensorShape(output).softmax()"
   ]
  },
  {
   "cell_type": "code",
   "execution_count": 76,
   "metadata": {
    "ExecuteTime": {
     "end_time": "2018-04-01T11:02:01.951828Z",
     "start_time": "2018-04-01T11:02:01.939798Z"
    },
    "scrolled": true
   },
   "outputs": [
    {
     "data": {
      "text/plain": [
       "<tf.Tensor 'Reshape_4:0' shape=(3670, 5) dtype=float32>"
      ]
     },
     "execution_count": 76,
     "metadata": {},
     "output_type": "execute_result"
    }
   ],
   "source": [
    "y_ = chaos.TensorShape(xin.one_hot(Y.codes)[0]).tensor_to_matrix()\n",
    "y_ "
   ]
  },
  {
   "cell_type": "code",
   "execution_count": 77,
   "metadata": {
    "ExecuteTime": {
     "end_time": "2018-04-01T11:02:03.718375Z",
     "start_time": "2018-04-01T11:02:03.713363Z"
    }
   },
   "outputs": [
    {
     "data": {
      "text/plain": [
       "<tf.Tensor 'truediv:0' shape=(3670, 5) dtype=float32>"
      ]
     },
     "execution_count": 77,
     "metadata": {},
     "output_type": "execute_result"
    }
   ],
   "source": [
    "y"
   ]
  },
  {
   "cell_type": "code",
   "execution_count": 78,
   "metadata": {
    "ExecuteTime": {
     "end_time": "2018-04-01T11:02:10.858765Z",
     "start_time": "2018-04-01T11:02:09.058850Z"
    }
   },
   "outputs": [
    {
     "data": {
      "text/plain": [
       "array([[-0.       , -0.       , -1.559558 , -0.       , -0.       ],\n",
       "       [-2.1952057, -0.       , -0.       , -0.       , -0.       ],\n",
       "       [-0.       , -1.5968845, -0.       , -0.       , -0.       ],\n",
       "       ...,\n",
       "       [-1.8179803, -0.       , -0.       , -0.       , -0.       ],\n",
       "       [-0.       , -0.       , -0.       , -0.       , -1.2865427],\n",
       "       [-0.       , -0.       , -0.       , -2.7867048, -0.       ]],\n",
       "      dtype=float32)"
      ]
     },
     "execution_count": 78,
     "metadata": {},
     "output_type": "execute_result"
    }
   ],
   "source": [
    "chaos.tensor_to_array(tf.log(y)* y_)"
   ]
  },
  {
   "cell_type": "code",
   "execution_count": 62,
   "metadata": {
    "ExecuteTime": {
     "end_time": "2018-04-01T10:56:45.364145Z",
     "start_time": "2018-04-01T10:56:45.355087Z"
    }
   },
   "outputs": [],
   "source": []
  },
  {
   "cell_type": "code",
   "execution_count": 81,
   "metadata": {
    "ExecuteTime": {
     "end_time": "2018-04-01T11:03:02.938768Z",
     "start_time": "2018-04-01T11:03:02.874769Z"
    },
    "scrolled": true
   },
   "outputs": [],
   "source": [
    "# 最小化方差\n",
    "loss = tf.reduce_mean(tf.reduce_sum(tf.log(y) * y_, axis=1))\n",
    "optimizer = tf.train.GradientDescentOptimizer(0.5)\n",
    "train_op =  optimizer.minimize(loss)"
   ]
  },
  {
   "cell_type": "code",
   "execution_count": 82,
   "metadata": {
    "ExecuteTime": {
     "end_time": "2018-04-01T11:03:06.268120Z",
     "start_time": "2018-04-01T11:03:03.632769Z"
    },
    "scrolled": true
   },
   "outputs": [
    {
     "name": "stdout",
     "output_type": "stream",
     "text": [
      "0 [[-1.223632   -1.2613049  -0.24638188 -0.49709928 -1.1250569 ]\n",
      " [-0.10357273 -1.1396432   0.63435966  0.42433146 -0.57293725]\n",
      " [-1.6094025   0.19016889  0.4452387  -1.6781834  -0.64108187]\n",
      " ...\n",
      " [-1.3449205   2.0138128   0.43344054 -1.2696772   0.6501979 ]\n",
      " [ 1.5105501   0.09992945 -1.0699633   0.03044954 -0.8973119 ]\n",
      " [-2.1030834   1.7142879   0.24506794  0.07254819 -0.24519417]] [[-2.1827873e-11]\n",
      " [ 7.2759576e-12]\n",
      " [-7.2759576e-12]\n",
      " ...\n",
      " [ 2.1827873e-11]\n",
      " [ 0.0000000e+00]\n",
      " [-3.6379788e-12]]\n",
      "20 [[-1.2260745  -1.259217   -0.23329271 -0.5060982  -1.1287923 ]\n",
      " [-0.10721608 -1.139508    0.6519596   0.4119699  -0.57466745]\n",
      " [-1.6118249   0.1932179   0.45956388 -1.6903485  -0.6438688 ]\n",
      " ...\n",
      " [-1.347749    2.0125854   0.44436085 -1.2751355   0.6487914 ]\n",
      " [ 1.505622    0.09588666 -1.0527365   0.0230014  -0.8981197 ]\n",
      " [-2.1083698   1.7126043   0.25619966  0.06994473 -0.24675235]] [[-4.3655746e-11]\n",
      " [ 7.0940587e-11]\n",
      " [-7.2759576e-12]\n",
      " ...\n",
      " [-1.4551915e-11]\n",
      " [-5.8207661e-11]\n",
      " [ 6.5483619e-11]]\n",
      "40 [[-1.2288942  -1.2571607  -0.21841767 -0.5160233  -1.1329788 ]\n",
      " [-0.11137614 -1.1395123   0.6716951   0.39859322 -0.576862  ]\n",
      " [-1.614726    0.1961466   0.4757353  -1.7033173  -0.64709896]\n",
      " ...\n",
      " [-1.3510331   2.0112224   0.45712942 -1.2814134   0.64694756]\n",
      " [ 1.5000838   0.09158075 -1.0332724   0.01462359 -0.8993621 ]\n",
      " [-2.1142683   1.7106979   0.26937336  0.06663945 -0.24881643]] [[-1.10958354e-10]\n",
      " [ 8.00355338e-11]\n",
      " [ 5.09317033e-11]\n",
      " ...\n",
      " [-3.63797881e-11]\n",
      " [-5.82076609e-11]\n",
      " [ 9.82254278e-11]]\n",
      "60 [[-1.2320621  -1.2550888  -0.20192377 -0.5268173  -1.137583  ]\n",
      " [-0.11602149 -1.1396077   0.6933823   0.38426423 -0.5794792 ]\n",
      " [-1.6180761   0.19899456  0.49359378 -1.7170407  -0.6507319 ]\n",
      " ...\n",
      " [-1.3547336   2.0097814   0.47152188 -1.2884345   0.6447175 ]\n",
      " [ 1.4939797   0.08707526 -1.0118322   0.00540385 -0.90097284]\n",
      " [-2.1207244   1.7086301   0.28431427  0.06271638 -0.25131032]] [[-2.09183781e-10]\n",
      " [ 4.00177669e-11]\n",
      " [ 1.05501385e-10]\n",
      " ...\n",
      " [ 7.27595761e-12]\n",
      " [-2.91038305e-11]\n",
      " [ 1.01863407e-10]]\n",
      "80 [[-1.2355454  -1.2529453  -0.18402214 -0.53841287 -1.1425493 ]\n",
      " [-0.12111671 -1.1397332   0.71677977  0.36906    -0.5824518 ]\n",
      " [-1.6218424   0.20181356  0.51292795 -1.7314544  -0.65470505]\n",
      " ...\n",
      " [-1.3588121   2.0083284   0.48727775 -1.2961165   0.6421749 ]\n",
      " [ 1.4873536   0.0824448  -0.9887239  -0.00455991 -0.90286064]\n",
      " [-2.1276872   1.7064706   0.30070883  0.05826931 -0.2541355 ]] [[-2.5465852e-10]\n",
      " [ 4.5474735e-11]\n",
      " [ 4.7293724e-11]\n",
      " ...\n",
      " [ 1.4551915e-11]\n",
      " [-4.3655746e-11]\n",
      " [ 1.6370905e-10]]\n"
     ]
    }
   ],
   "source": [
    "with tf.Session() as sess:\n",
    "    tf.global_variables_initializer().run()\n",
    "    for step in range(100):\n",
    "        sess.run(train_op)\n",
    "        if step % 20 == 0:\n",
    "            print(step, sess.run(W), sess.run(b))"
   ]
  },
  {
   "cell_type": "code",
   "execution_count": 90,
   "metadata": {
    "ExecuteTime": {
     "end_time": "2018-04-01T11:08:32.744479Z",
     "start_time": "2018-04-01T11:08:30.773424Z"
    },
    "scrolled": true
   },
   "outputs": [
    {
     "data": {
      "text/plain": [
       "0.20329416"
      ]
     },
     "execution_count": 90,
     "metadata": {},
     "output_type": "execute_result"
    }
   ],
   "source": [
    "acc = tf.reduce_mean(tf.reduce_sum(y*y_, axis=1))\n",
    "chaos.tensor_to_array(acc)"
   ]
  },
  {
   "cell_type": "code",
   "execution_count": 85,
   "metadata": {
    "ExecuteTime": {
     "end_time": "2018-04-01T11:05:53.684186Z",
     "start_time": "2018-04-01T11:05:53.679195Z"
    }
   },
   "outputs": [
    {
     "data": {
      "text/plain": [
       "<tf.Tensor 'truediv:0' shape=(3670, 5) dtype=float32>"
      ]
     },
     "execution_count": 85,
     "metadata": {},
     "output_type": "execute_result"
    }
   ],
   "source": [
    "y"
   ]
  },
  {
   "cell_type": "code",
   "execution_count": 86,
   "metadata": {
    "ExecuteTime": {
     "end_time": "2018-04-01T11:05:57.851162Z",
     "start_time": "2018-04-01T11:05:57.846192Z"
    }
   },
   "outputs": [
    {
     "data": {
      "text/plain": [
       "<tf.Tensor 'Reshape_4:0' shape=(3670, 5) dtype=float32>"
      ]
     },
     "execution_count": 86,
     "metadata": {},
     "output_type": "execute_result"
    }
   ],
   "source": [
    "y_"
   ]
  },
  {
   "cell_type": "code",
   "execution_count": null,
   "metadata": {},
   "outputs": [],
   "source": []
  }
 ],
 "metadata": {
  "kernelspec": {
   "display_name": "Python 3",
   "language": "python",
   "name": "python3"
  },
  "language_info": {
   "codemirror_mode": {
    "name": "ipython",
    "version": 3
   },
   "file_extension": ".py",
   "mimetype": "text/x-python",
   "name": "python",
   "nbconvert_exporter": "python",
   "pygments_lexer": "ipython3",
   "version": "3.6.4"
  },
  "latex_envs": {
   "LaTeX_envs_menu_present": true,
   "autoclose": false,
   "autocomplete": true,
   "bibliofile": "biblio.bib",
   "cite_by": "apalike",
   "current_citInitial": 1,
   "eqLabelWithNumbers": true,
   "eqNumInitial": 1,
   "hotkeys": {
    "equation": "Ctrl-E",
    "itemize": "Ctrl-I"
   },
   "labels_anchors": false,
   "latex_user_defs": false,
   "report_style_numbering": false,
   "user_envs_cfg": false
  },
  "toc": {
   "nav_menu": {},
   "number_sections": true,
   "sideBar": true,
   "skip_h1_title": false,
   "title_cell": "Table of Contents",
   "title_sidebar": "Contents",
   "toc_cell": false,
   "toc_position": {},
   "toc_section_display": true,
   "toc_window_display": false
  },
  "varInspector": {
   "cols": {
    "lenName": 16,
    "lenType": 16,
    "lenVar": 40
   },
   "kernels_config": {
    "python": {
     "delete_cmd_postfix": "",
     "delete_cmd_prefix": "del ",
     "library": "var_list.py",
     "varRefreshCmd": "print(var_dic_list())"
    },
    "r": {
     "delete_cmd_postfix": ") ",
     "delete_cmd_prefix": "rm(",
     "library": "var_list.r",
     "varRefreshCmd": "cat(var_dic_list()) "
    }
   },
   "types_to_exclude": [
    "module",
    "function",
    "builtin_function_or_method",
    "instance",
    "_Feature"
   ],
   "window_display": false
  }
 },
 "nbformat": 4,
 "nbformat_minor": 2
}
