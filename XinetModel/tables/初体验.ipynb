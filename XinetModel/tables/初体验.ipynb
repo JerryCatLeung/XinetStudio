{
 "cells": [
  {
   "cell_type": "code",
   "execution_count": 1,
   "metadata": {
    "ExecuteTime": {
     "end_time": "2018-04-10T01:29:02.554037Z",
     "start_time": "2018-04-10T01:28:57.633817Z"
    }
   },
   "outputs": [
    {
     "name": "stderr",
     "output_type": "stream",
     "text": [
      "Using CNTK backend\n",
      "C:\\ProgramData\\Anaconda3\\lib\\site-packages\\keras\\backend\\cntk_backend.py:21: UserWarning: CNTK backend warning: GPU is not detected. CNTK's CPU version is not fully optimized,please run with GPU to get better performance.\n",
      "  'CNTK backend warning: GPU is not detected. '\n"
     ]
    },
    {
     "name": "stdout",
     "output_type": "stream",
     "text": [
      "Populating the interactive namespace from numpy and matplotlib\n"
     ]
    }
   ],
   "source": [
    "import keras\n",
    "import numpy as np\n",
    "import pandas as pd\n",
    "import tables as tb\n",
    "import datetime as dt\n",
    "%pylab inline"
   ]
  },
  {
   "cell_type": "code",
   "execution_count": 2,
   "metadata": {
    "ExecuteTime": {
     "end_time": "2018-04-10T01:29:10.718516Z",
     "start_time": "2018-04-10T01:29:10.709510Z"
    }
   },
   "outputs": [],
   "source": [
    "root = 'E:/Data/HDF5/'\n",
    "filename = root + 'tab.h5'"
   ]
  },
  {
   "cell_type": "code",
   "execution_count": 115,
   "metadata": {
    "ExecuteTime": {
     "end_time": "2018-04-09T14:44:50.320741Z",
     "start_time": "2018-04-09T14:44:50.243741Z"
    }
   },
   "outputs": [
    {
     "data": {
      "text/plain": [
       "File(filename=E:/Data/HDF5/tab.h5, title='', mode='w', root_uep='/', filters=Filters(complevel=0, shuffle=False, bitshuffle=False, fletcher32=False, least_significant_digit=None))\n",
       "/ (RootGroup) ''"
      ]
     },
     "execution_count": 115,
     "metadata": {},
     "output_type": "execute_result"
    }
   ],
   "source": [
    "h5 = tb.open_file(filename, 'w')\n",
    "h5"
   ]
  },
  {
   "cell_type": "code",
   "execution_count": 116,
   "metadata": {
    "ExecuteTime": {
     "end_time": "2018-04-09T14:44:50.348748Z",
     "start_time": "2018-04-09T14:44:50.344745Z"
    }
   },
   "outputs": [],
   "source": [
    "rows = 2000000"
   ]
  },
  {
   "cell_type": "code",
   "execution_count": 117,
   "metadata": {
    "ExecuteTime": {
     "end_time": "2018-04-09T14:44:50.441743Z",
     "start_time": "2018-04-09T14:44:50.433753Z"
    }
   },
   "outputs": [
    {
     "data": {
      "text/plain": [
       "{'Date': StringCol(itemsize=26, shape=(), dflt=b'', pos=1),\n",
       " 'No1': Int32Col(shape=(), dflt=0, pos=2),\n",
       " 'No2': Int32Col(shape=(), dflt=0, pos=3),\n",
       " 'No3': Float64Col(shape=(), dflt=0.0, pos=4),\n",
       " 'No4': Float64Col(shape=(), dflt=0.0, pos=5)}"
      ]
     },
     "execution_count": 117,
     "metadata": {},
     "output_type": "execute_result"
    }
   ],
   "source": [
    "rows_des = {\n",
    "    'Date': tb.StringCol(26, pos=1),\n",
    "    'No1': tb.IntCol(pos=2), \n",
    "    'No2': tb.IntCol(pos=3),\n",
    "    'No3': tb.Float64Col(pos=4),\n",
    "    'No4': tb.Float64Col(pos=5),\n",
    "}\n",
    "\n",
    "rows_des"
   ]
  },
  {
   "cell_type": "markdown",
   "metadata": {
    "ExecuteTime": {
     "end_time": "2018-04-09T13:09:34.593571Z",
     "start_time": "2018-04-09T13:09:34.586569Z"
    }
   },
   "source": [
    "# 创建无压缩的表格"
   ]
  },
  {
   "cell_type": "code",
   "execution_count": 118,
   "metadata": {
    "ExecuteTime": {
     "end_time": "2018-04-09T14:44:51.194750Z",
     "start_time": "2018-04-09T14:44:51.188776Z"
    }
   },
   "outputs": [
    {
     "data": {
      "text/plain": [
       "Filters(complevel=0, shuffle=False, bitshuffle=False, fletcher32=False, least_significant_digit=None)"
      ]
     },
     "execution_count": 118,
     "metadata": {},
     "output_type": "execute_result"
    }
   ],
   "source": [
    "filters = tb.Filters(complevel=0)  # no compression\n",
    "filters"
   ]
  },
  {
   "cell_type": "code",
   "execution_count": 119,
   "metadata": {
    "ExecuteTime": {
     "end_time": "2018-04-09T14:44:51.346744Z",
     "start_time": "2018-04-09T14:44:51.336747Z"
    }
   },
   "outputs": [
    {
     "data": {
      "text/plain": [
       "/int_floats (Table(0,)) 'Integers and Floats'\n",
       "  description := {\n",
       "  \"Date\": StringCol(itemsize=26, shape=(), dflt=b'', pos=0),\n",
       "  \"No1\": Int32Col(shape=(), dflt=0, pos=1),\n",
       "  \"No2\": Int32Col(shape=(), dflt=0, pos=2),\n",
       "  \"No3\": Float64Col(shape=(), dflt=0.0, pos=3),\n",
       "  \"No4\": Float64Col(shape=(), dflt=0.0, pos=4)}\n",
       "  byteorder := 'little'\n",
       "  chunkshape := (2621,)"
      ]
     },
     "execution_count": 119,
     "metadata": {},
     "output_type": "execute_result"
    }
   ],
   "source": [
    "tab = h5.create_table('/', 'int_floats', rows_des,\n",
    "                     title='Integers and Floats',\n",
    "                     expectedrows=rows, filters=filters)\n",
    "\n",
    "tab"
   ]
  },
  {
   "cell_type": "code",
   "execution_count": 120,
   "metadata": {
    "ExecuteTime": {
     "end_time": "2018-04-09T14:44:51.446757Z",
     "start_time": "2018-04-09T14:44:51.441744Z"
    }
   },
   "outputs": [
    {
     "data": {
      "text/plain": [
       "/int_floats.row (Row), pointing to row #0"
      ]
     },
     "execution_count": 120,
     "metadata": {},
     "output_type": "execute_result"
    }
   ],
   "source": [
    "pointer = tab.row\n",
    "\n",
    "pointer"
   ]
  },
  {
   "cell_type": "markdown",
   "metadata": {},
   "source": [
    "## 生成样本数据"
   ]
  },
  {
   "cell_type": "code",
   "execution_count": 121,
   "metadata": {
    "ExecuteTime": {
     "end_time": "2018-04-09T14:44:52.624783Z",
     "start_time": "2018-04-09T14:44:52.167779Z"
    }
   },
   "outputs": [],
   "source": [
    "ran_int = np.random.randint(0, 10000, size=(rows, 2))\n",
    "ran_flo = np.random.standard_normal((rows, 2)).round(5)"
   ]
  },
  {
   "cell_type": "markdown",
   "metadata": {},
   "source": [
    "## 样本数据逐行写入表"
   ]
  },
  {
   "cell_type": "code",
   "execution_count": 122,
   "metadata": {
    "ExecuteTime": {
     "end_time": "2018-04-09T14:44:59.751745Z",
     "start_time": "2018-04-09T14:44:52.778747Z"
    }
   },
   "outputs": [
    {
     "name": "stdout",
     "output_type": "stream",
     "text": [
      "Wall time: 6.97 s\n"
     ]
    }
   ],
   "source": [
    "%%time \n",
    "for i in range(rows):\n",
    "    pointer['Date'] = dt.datetime.now()\n",
    "    pointer['No1'] = ran_int[i, 0]\n",
    "    pointer['No2'] = ran_int[i, 1]\n",
    "    pointer['No3'] = ran_flo[i, 0]\n",
    "    pointer['No4'] = ran_flo[i, 1]\n",
    "    pointer.append() # this append the data and moves the pointer one row forward\n",
    "tab.flush()"
   ]
  },
  {
   "cell_type": "markdown",
   "metadata": {},
   "source": [
    "一定要记住提交更改。SQLite3 数据库中 **commit** 命令作用，在 PyTables 中由 **flush** 方法实现。"
   ]
  },
  {
   "cell_type": "code",
   "execution_count": 123,
   "metadata": {
    "ExecuteTime": {
     "end_time": "2018-04-09T14:44:59.764744Z",
     "start_time": "2018-04-09T14:44:59.755747Z"
    }
   },
   "outputs": [
    {
     "data": {
      "text/plain": [
       "/int_floats (Table(2000000,)) 'Integers and Floats'\n",
       "  description := {\n",
       "  \"Date\": StringCol(itemsize=26, shape=(), dflt=b'', pos=0),\n",
       "  \"No1\": Int32Col(shape=(), dflt=0, pos=1),\n",
       "  \"No2\": Int32Col(shape=(), dflt=0, pos=2),\n",
       "  \"No3\": Float64Col(shape=(), dflt=0.0, pos=3),\n",
       "  \"No4\": Float64Col(shape=(), dflt=0.0, pos=4)}\n",
       "  byteorder := 'little'\n",
       "  chunkshape := (2621,)"
      ]
     },
     "execution_count": 123,
     "metadata": {},
     "output_type": "execute_result"
    }
   ],
   "source": [
    "tab"
   ]
  },
  {
   "cell_type": "markdown",
   "metadata": {},
   "source": [
    "## 使用 Numpy 结构数组，可以更高性能、更 Python 风格实现相同功能："
   ]
  },
  {
   "cell_type": "code",
   "execution_count": 124,
   "metadata": {
    "ExecuteTime": {
     "end_time": "2018-04-09T14:44:59.796785Z",
     "start_time": "2018-04-09T14:44:59.767745Z"
    }
   },
   "outputs": [],
   "source": [
    "dty = np.dtype([('Date', 'S26'), ('No1', '<i4'), ('No2', '<i4'), ('No3', '<f8'), ('No4', '<f8')])\n",
    "\n",
    "sarray = np.zeros(len(ran_int), dtype=dty)"
   ]
  },
  {
   "cell_type": "code",
   "execution_count": 125,
   "metadata": {
    "ExecuteTime": {
     "end_time": "2018-04-09T14:44:59.976781Z",
     "start_time": "2018-04-09T14:44:59.800753Z"
    }
   },
   "outputs": [
    {
     "name": "stdout",
     "output_type": "stream",
     "text": [
      "Wall time: 159 ms\n"
     ]
    }
   ],
   "source": [
    "%%time \n",
    "sarray['Date'] = dt.datetime.now()\n",
    "sarray['No1'] = ran_int[:, 0]\n",
    "sarray['No2'] = ran_int[:, 1]\n",
    "sarray['No3'] = ran_flo[:, 0]\n",
    "sarray['No4'] = ran_flo[:, 1]"
   ]
  },
  {
   "cell_type": "markdown",
   "metadata": {},
   "source": [
    "此时，行描述不在需要："
   ]
  },
  {
   "cell_type": "code",
   "execution_count": 126,
   "metadata": {
    "ExecuteTime": {
     "end_time": "2018-04-09T14:45:00.087746Z",
     "start_time": "2018-04-09T14:44:59.980747Z"
    }
   },
   "outputs": [
    {
     "name": "stdout",
     "output_type": "stream",
     "text": [
      "Wall time: 100 ms\n"
     ]
    },
    {
     "data": {
      "text/plain": [
       "/ints_floats_from_array (Table(2000000,)) 'Integers and Floats'\n",
       "  description := {\n",
       "  \"Date\": StringCol(itemsize=26, shape=(), dflt=b'', pos=0),\n",
       "  \"No1\": Int32Col(shape=(), dflt=0, pos=1),\n",
       "  \"No2\": Int32Col(shape=(), dflt=0, pos=2),\n",
       "  \"No3\": Float64Col(shape=(), dflt=0.0, pos=3),\n",
       "  \"No4\": Float64Col(shape=(), dflt=0.0, pos=4)}\n",
       "  byteorder := 'little'\n",
       "  chunkshape := (2621,)"
      ]
     },
     "execution_count": 126,
     "metadata": {},
     "output_type": "execute_result"
    }
   ],
   "source": [
    "%%time\n",
    "h5.create_table('/', 'ints_floats_from_array', sarray,\n",
    "                title='Integers and Floats',\n",
    "                expectedrows=rows, filters=filters)"
   ]
  },
  {
   "cell_type": "code",
   "execution_count": 127,
   "metadata": {
    "ExecuteTime": {
     "end_time": "2018-04-09T14:45:00.108779Z",
     "start_time": "2018-04-09T14:45:00.090785Z"
    }
   },
   "outputs": [
    {
     "data": {
      "text/plain": [
       "File(filename=E:/Data/HDF5/tab.h5, title='', mode='w', root_uep='/', filters=Filters(complevel=0, shuffle=False, bitshuffle=False, fletcher32=False, least_significant_digit=None))\n",
       "/ (RootGroup) ''\n",
       "/int_floats (Table(2000000,)) 'Integers and Floats'\n",
       "  description := {\n",
       "  \"Date\": StringCol(itemsize=26, shape=(), dflt=b'', pos=0),\n",
       "  \"No1\": Int32Col(shape=(), dflt=0, pos=1),\n",
       "  \"No2\": Int32Col(shape=(), dflt=0, pos=2),\n",
       "  \"No3\": Float64Col(shape=(), dflt=0.0, pos=3),\n",
       "  \"No4\": Float64Col(shape=(), dflt=0.0, pos=4)}\n",
       "  byteorder := 'little'\n",
       "  chunkshape := (2621,)\n",
       "/ints_floats_from_array (Table(2000000,)) 'Integers and Floats'\n",
       "  description := {\n",
       "  \"Date\": StringCol(itemsize=26, shape=(), dflt=b'', pos=0),\n",
       "  \"No1\": Int32Col(shape=(), dflt=0, pos=1),\n",
       "  \"No2\": Int32Col(shape=(), dflt=0, pos=2),\n",
       "  \"No3\": Float64Col(shape=(), dflt=0.0, pos=3),\n",
       "  \"No4\": Float64Col(shape=(), dflt=0.0, pos=4)}\n",
       "  byteorder := 'little'\n",
       "  chunkshape := (2621,)"
      ]
     },
     "execution_count": 127,
     "metadata": {},
     "output_type": "execute_result"
    }
   ],
   "source": [
    "h5"
   ]
  },
  {
   "cell_type": "markdown",
   "metadata": {},
   "source": [
    "## 删除重复的表"
   ]
  },
  {
   "cell_type": "code",
   "execution_count": 128,
   "metadata": {
    "ExecuteTime": {
     "end_time": "2018-04-09T14:45:00.133743Z",
     "start_time": "2018-04-09T14:45:00.111804Z"
    }
   },
   "outputs": [],
   "source": [
    "h5.remove_node('/', 'ints_floats_from_array')"
   ]
  },
  {
   "cell_type": "markdown",
   "metadata": {},
   "source": [
    "## 切片"
   ]
  },
  {
   "cell_type": "markdown",
   "metadata": {
    "ExecuteTime": {
     "end_time": "2018-04-09T13:38:55.386847Z",
     "start_time": "2018-04-09T13:38:55.378845Z"
    }
   },
   "source": [
    "**表**对象的切片操作与典型的 Python 和 Numpy 对象类似："
   ]
  },
  {
   "cell_type": "code",
   "execution_count": 129,
   "metadata": {
    "ExecuteTime": {
     "end_time": "2018-04-09T14:45:00.164749Z",
     "start_time": "2018-04-09T14:45:00.136744Z"
    }
   },
   "outputs": [
    {
     "data": {
      "text/plain": [
       "array([(b'2018-04-09 22:44:52.780743', 9661, 2674,  0.01027,  0.65108),\n",
       "       (b'2018-04-09 22:44:52.780743', 8498, 4531,  0.528  ,  0.26   ),\n",
       "       (b'2018-04-09 22:44:52.780743', 9092, 2323, -0.3384 , -1.60523)],\n",
       "      dtype=[('Date', 'S26'), ('No1', '<i4'), ('No2', '<i4'), ('No3', '<f8'), ('No4', '<f8')])"
      ]
     },
     "execution_count": 129,
     "metadata": {},
     "output_type": "execute_result"
    }
   ],
   "source": [
    "tab[:3]"
   ]
  },
  {
   "cell_type": "code",
   "execution_count": 130,
   "metadata": {
    "ExecuteTime": {
     "end_time": "2018-04-09T14:45:00.188777Z",
     "start_time": "2018-04-09T14:45:00.167747Z"
    }
   },
   "outputs": [
    {
     "data": {
      "text/plain": [
       "array([ 0.01027,  0.528  , -0.3384 , -0.44915])"
      ]
     },
     "execution_count": 130,
     "metadata": {},
     "output_type": "execute_result"
    }
   ],
   "source": [
    "tab[:4]['No3']"
   ]
  },
  {
   "cell_type": "markdown",
   "metadata": {},
   "source": [
    "## 对表及表的子集应用 Numpy 通用函数"
   ]
  },
  {
   "cell_type": "code",
   "execution_count": 131,
   "metadata": {
    "ExecuteTime": {
     "end_time": "2018-04-09T14:45:00.365780Z",
     "start_time": "2018-04-09T14:45:00.192746Z"
    }
   },
   "outputs": [
    {
     "name": "stdout",
     "output_type": "stream",
     "text": [
      "Wall time: 154 ms\n"
     ]
    },
    {
     "data": {
      "text/plain": [
       "-1156.6613700000005"
      ]
     },
     "execution_count": 131,
     "metadata": {},
     "output_type": "execute_result"
    }
   ],
   "source": [
    "%time np.sum(tab[:]['No3'])"
   ]
  },
  {
   "cell_type": "code",
   "execution_count": 132,
   "metadata": {
    "ExecuteTime": {
     "end_time": "2018-04-09T14:45:00.530745Z",
     "start_time": "2018-04-09T14:45:00.369785Z"
    }
   },
   "outputs": [
    {
     "name": "stdout",
     "output_type": "stream",
     "text": [
      "Wall time: 152 ms\n"
     ]
    },
    {
     "data": {
      "text/plain": [
       "133307332.9032435"
      ]
     },
     "execution_count": 132,
     "metadata": {},
     "output_type": "execute_result"
    }
   ],
   "source": [
    "%time np.sum(np.sqrt(tab[:]['No1']))"
   ]
  },
  {
   "cell_type": "markdown",
   "metadata": {},
   "source": [
    "## 绘制图像\n",
    "\n",
    "与 ndarray 类似："
   ]
  },
  {
   "cell_type": "code",
   "execution_count": 133,
   "metadata": {
    "ExecuteTime": {
     "end_time": "2018-04-09T14:45:01.051748Z",
     "start_time": "2018-04-09T14:45:00.533748Z"
    }
   },
   "outputs": [
    {
     "name": "stdout",
     "output_type": "stream",
     "text": [
      "2000000\n",
      "Wall time: 379 ms\n"
     ]
    },
    {
     "data": {
      "image/png": "[encoded data removed]",
      "text/plain": [
       "<Figure size 432x288 with 1 Axes>"
      ]
     },
     "metadata": {},
     "output_type": "display_data"
    }
   ],
   "source": [
    "%%time\n",
    "plt.hist(tab[:]['No3'], bins=30)\n",
    "plt.grid(True)\n",
    "print(len(tab[:]['No3']))"
   ]
  },
  {
   "cell_type": "markdown",
   "metadata": {},
   "source": [
    "# 查询\n",
    "类似于 SQL 语句"
   ]
  },
  {
   "cell_type": "code",
   "execution_count": 134,
   "metadata": {
    "ExecuteTime": {
     "end_time": "2018-04-09T14:45:01.178752Z",
     "start_time": "2018-04-09T14:45:01.055754Z"
    }
   },
   "outputs": [
    {
     "data": {
      "text/plain": [
       "numpy.ndarray"
      ]
     },
     "execution_count": 134,
     "metadata": {},
     "output_type": "execute_result"
    }
   ],
   "source": [
    "type(tab[:]['No3'])"
   ]
  },
  {
   "cell_type": "code",
   "execution_count": 135,
   "metadata": {
    "ExecuteTime": {
     "end_time": "2018-04-09T14:45:01.330747Z",
     "start_time": "2018-04-09T14:45:01.181747Z"
    }
   },
   "outputs": [
    {
     "name": "stdout",
     "output_type": "stream",
     "text": [
      "(9848, 9160)\n",
      "(91, 7747)\n",
      "(9982, 6928)\n",
      "(9815, 8771)\n",
      "Wall time: 144 ms\n"
     ]
    }
   ],
   "source": [
    "%%time\n",
    "results = [(row['No1'], row['No2']) for row in tab.where(\n",
    "    '((No1 > 9800) | (No1 < 200)) & ((No2 > 4500) | (No1 < 5500))')]\n",
    "\n",
    "for res in results[:4]:\n",
    "    print(res)"
   ]
  },
  {
   "cell_type": "markdown",
   "metadata": {},
   "source": [
    "# 使用压缩表"
   ]
  },
  {
   "cell_type": "code",
   "execution_count": 136,
   "metadata": {
    "ExecuteTime": {
     "end_time": "2018-04-09T14:45:01.350782Z",
     "start_time": "2018-04-09T14:45:01.333746Z"
    }
   },
   "outputs": [],
   "source": [
    "filename = root + 'tab.h5c'\n",
    "\n",
    "h5c = tb.open_file(filename, 'w')"
   ]
  },
  {
   "cell_type": "code",
   "execution_count": 137,
   "metadata": {
    "ExecuteTime": {
     "end_time": "2018-04-09T14:45:01.373745Z",
     "start_time": "2018-04-09T14:45:01.353748Z"
    }
   },
   "outputs": [
    {
     "data": {
      "text/plain": [
       "Filters(complevel=4, complib='blosc', shuffle=True, bitshuffle=False, fletcher32=False, least_significant_digit=None)"
      ]
     },
     "execution_count": 137,
     "metadata": {},
     "output_type": "execute_result"
    }
   ],
   "source": [
    "filters = tb.Filters(complevel=4, complib='blosc')\n",
    "filters"
   ]
  },
  {
   "cell_type": "code",
   "execution_count": 138,
   "metadata": {
    "ExecuteTime": {
     "end_time": "2018-04-09T14:45:01.686787Z",
     "start_time": "2018-04-09T14:45:01.375744Z"
    }
   },
   "outputs": [
    {
     "data": {
      "text/plain": [
       "/ints_floats (Table(2000000,), shuffle, blosc(4)) 'Intergers and Floats'\n",
       "  description := {\n",
       "  \"Date\": StringCol(itemsize=26, shape=(), dflt=b'', pos=0),\n",
       "  \"No1\": Int32Col(shape=(), dflt=0, pos=1),\n",
       "  \"No2\": Int32Col(shape=(), dflt=0, pos=2),\n",
       "  \"No3\": Float64Col(shape=(), dflt=0.0, pos=3),\n",
       "  \"No4\": Float64Col(shape=(), dflt=0.0, pos=4)}\n",
       "  byteorder := 'little'\n",
       "  chunkshape := (2621,)"
      ]
     },
     "execution_count": 138,
     "metadata": {},
     "output_type": "execute_result"
    }
   ],
   "source": [
    "tabc = h5c.create_table('/', 'ints_floats', sarray,\n",
    "                       title='Intergers and Floats',\n",
    "                       expectedrows=rows, filters=filters)\n",
    "\n",
    "tabc"
   ]
  },
  {
   "cell_type": "code",
   "execution_count": 139,
   "metadata": {
    "ExecuteTime": {
     "end_time": "2018-04-09T14:45:02.412780Z",
     "start_time": "2018-04-09T14:45:01.689747Z"
    }
   },
   "outputs": [
    {
     "name": "stdout",
     "output_type": "stream",
     "text": [
      "Wall time: 708 ms\n"
     ]
    }
   ],
   "source": [
    "%%time\n",
    "res = np.array([(row['No3'], row['No4']) for row in tabc.where(\n",
    "    '((No3 < - 0.5) | (No3 > 0.5) & ((No4 < -1) | (No4 > 1)))')])[::100]"
   ]
  },
  {
   "cell_type": "code",
   "execution_count": 140,
   "metadata": {
    "ExecuteTime": {
     "end_time": "2018-04-09T14:45:02.533746Z",
     "start_time": "2018-04-09T14:45:02.414750Z"
    }
   },
   "outputs": [
    {
     "name": "stdout",
     "output_type": "stream",
     "text": [
      "Wall time: 114 ms\n"
     ]
    }
   ],
   "source": [
    "%time arr_non = tab.read()"
   ]
  },
  {
   "cell_type": "code",
   "execution_count": 141,
   "metadata": {
    "ExecuteTime": {
     "end_time": "2018-04-09T14:45:02.652747Z",
     "start_time": "2018-04-09T14:45:02.536747Z"
    }
   },
   "outputs": [
    {
     "name": "stdout",
     "output_type": "stream",
     "text": [
      "Wall time: 110 ms\n"
     ]
    }
   ],
   "source": [
    "%time arr_com = tabc.read()"
   ]
  },
  {
   "cell_type": "markdown",
   "metadata": {},
   "source": [
    "# 使用数组"
   ]
  },
  {
   "cell_type": "code",
   "execution_count": 142,
   "metadata": {
    "ExecuteTime": {
     "end_time": "2018-04-09T14:45:02.759747Z",
     "start_time": "2018-04-09T14:45:02.655748Z"
    }
   },
   "outputs": [
    {
     "data": {
      "text/plain": [
       "array([(b'2018-04-09 22:44:59.813795', 9661, 2674,  0.01027,  0.65108),\n",
       "       (b'2018-04-09 22:44:59.813795', 8498, 4531,  0.528  ,  0.26   ),\n",
       "       (b'2018-04-09 22:44:59.813795', 9092, 2323, -0.3384 , -1.60523),\n",
       "       ...,\n",
       "       (b'2018-04-09 22:44:59.813795', 7819, 1037,  0.0919 , -1.00119),\n",
       "       (b'2018-04-09 22:44:59.813795', 8502, 8667,  0.85112,  1.42203),\n",
       "       (b'2018-04-09 22:44:59.813795', 5509, 7565, -0.61953,  0.95208)],\n",
       "      dtype=[('Date', 'S26'), ('No1', '<i4'), ('No2', '<i4'), ('No3', '<f8'), ('No4', '<f8')])"
      ]
     },
     "execution_count": 142,
     "metadata": {},
     "output_type": "execute_result"
    }
   ],
   "source": [
    "tabc.read()"
   ]
  },
  {
   "cell_type": "code",
   "execution_count": 143,
   "metadata": {
    "ExecuteTime": {
     "end_time": "2018-04-09T14:45:02.769743Z",
     "start_time": "2018-04-09T14:45:02.762744Z"
    }
   },
   "outputs": [
    {
     "data": {
      "text/plain": [
       "(2000000,)"
      ]
     },
     "execution_count": 143,
     "metadata": {},
     "output_type": "execute_result"
    }
   ],
   "source": [
    "arr_com.shape"
   ]
  },
  {
   "cell_type": "code",
   "execution_count": 144,
   "metadata": {
    "ExecuteTime": {
     "end_time": "2018-04-09T14:45:04.133775Z",
     "start_time": "2018-04-09T14:45:02.772746Z"
    }
   },
   "outputs": [
    {
     "name": "stdout",
     "output_type": "stream",
     "text": [
      "Wall time: 1.34 s\n"
     ]
    }
   ],
   "source": [
    "%%time \n",
    "arr_int = h5.create_array('/', 'integers', ran_int)\n",
    "arr_flo = h5.create_array('/', 'floats', ran_flo)"
   ]
  },
  {
   "cell_type": "code",
   "execution_count": 145,
   "metadata": {
    "ExecuteTime": {
     "end_time": "2018-04-09T14:46:37.438637Z",
     "start_time": "2018-04-09T14:46:37.403606Z"
    }
   },
   "outputs": [
    {
     "data": {
      "text/plain": [
       "File(filename=E:/Data/HDF5/tab.h5, title='', mode='w', root_uep='/', filters=Filters(complevel=0, shuffle=False, bitshuffle=False, fletcher32=False, least_significant_digit=None))\n",
       "/ (RootGroup) ''\n",
       "/floats (Array(2000000, 2)) ''\n",
       "  atom := Float64Atom(shape=(), dflt=0.0)\n",
       "  maindim := 0\n",
       "  flavor := 'numpy'\n",
       "  byteorder := 'little'\n",
       "  chunkshape := None\n",
       "/int_floats (Table(2000000,)) 'Integers and Floats'\n",
       "  description := {\n",
       "  \"Date\": StringCol(itemsize=26, shape=(), dflt=b'', pos=0),\n",
       "  \"No1\": Int32Col(shape=(), dflt=0, pos=1),\n",
       "  \"No2\": Int32Col(shape=(), dflt=0, pos=2),\n",
       "  \"No3\": Float64Col(shape=(), dflt=0.0, pos=3),\n",
       "  \"No4\": Float64Col(shape=(), dflt=0.0, pos=4)}\n",
       "  byteorder := 'little'\n",
       "  chunkshape := (2621,)\n",
       "/integers (Array(2000000, 2)) ''\n",
       "  atom := Int32Atom(shape=(), dflt=0)\n",
       "  maindim := 0\n",
       "  flavor := 'numpy'\n",
       "  byteorder := 'little'\n",
       "  chunkshape := None"
      ]
     },
     "execution_count": 145,
     "metadata": {},
     "output_type": "execute_result"
    }
   ],
   "source": [
    "h5"
   ]
  },
  {
   "cell_type": "code",
   "execution_count": null,
   "metadata": {
    "ExecuteTime": {
     "start_time": "2018-04-10T01:23:30.363Z"
    }
   },
   "outputs": [],
   "source": [
    "h5c.close()"
   ]
  },
  {
   "cell_type": "markdown",
   "metadata": {},
   "source": [
    "# 内存外计算"
   ]
  },
  {
   "cell_type": "code",
   "execution_count": 31,
   "metadata": {
    "ExecuteTime": {
     "end_time": "2018-04-10T05:49:29.509149Z",
     "start_time": "2018-04-10T05:49:29.472115Z"
    }
   },
   "outputs": [],
   "source": [
    "filename = root + 'array.h5'\n",
    "h5 = tb.open_file(filename, 'w')"
   ]
  },
  {
   "cell_type": "markdown",
   "metadata": {},
   "source": [
    "创建一个 EArray 对象，它的第一维可以扩展，而第二维为固定宽度："
   ]
  },
  {
   "cell_type": "code",
   "execution_count": 32,
   "metadata": {
    "ExecuteTime": {
     "end_time": "2018-04-10T05:49:34.605089Z",
     "start_time": "2018-04-10T05:49:34.592123Z"
    }
   },
   "outputs": [],
   "source": [
    "n = 1000\n",
    "ear = h5.create_earray(h5.root, 'ear', atom=tb.Float64Atom(), shape=(0, n))"
   ]
  },
  {
   "cell_type": "code",
   "execution_count": 34,
   "metadata": {
    "ExecuteTime": {
     "end_time": "2018-04-10T05:54:37.075647Z",
     "start_time": "2018-04-10T05:54:37.065645Z"
    }
   },
   "outputs": [],
   "source": [
    "h5.close()"
   ]
  },
  {
   "cell_type": "markdown",
   "metadata": {
    "ExecuteTime": {
     "end_time": "2018-04-10T01:41:32.749182Z",
     "start_time": "2018-04-10T01:41:32.706188Z"
    }
   },
   "source": [
    "因为 EArray 对象可以扩展，所以可以以块的形式填充："
   ]
  },
  {
   "cell_type": "code",
   "execution_count": 29,
   "metadata": {
    "ExecuteTime": {
     "end_time": "2018-04-10T02:27:12.574750Z",
     "start_time": "2018-04-10T02:26:11.727827Z"
    }
   },
   "outputs": [
    {
     "name": "stdout",
     "output_type": "stream",
     "text": [
      "Wall time: 1min\n"
     ]
    }
   ],
   "source": [
    "%%time\n",
    "rand = np.random.standard_normal((n, n))\n",
    "\n",
    "for i in range(750):\n",
    "    ear.append(rand)\n",
    "ear.flush()"
   ]
  },
  {
   "cell_type": "code",
   "execution_count": 9,
   "metadata": {
    "ExecuteTime": {
     "end_time": "2018-04-10T01:47:09.993010Z",
     "start_time": "2018-04-10T01:47:09.963007Z"
    }
   },
   "outputs": [
    {
     "data": {
      "text/plain": [
       "/ear (EArray(750000, 1000)) ''\n",
       "  atom := Float64Atom(shape=(), dflt=0.0)\n",
       "  maindim := 0\n",
       "  flavor := 'numpy'\n",
       "  byteorder := 'little'\n",
       "  chunkshape := (8, 1000)"
      ]
     },
     "execution_count": 9,
     "metadata": {},
     "output_type": "execute_result"
    }
   ],
   "source": [
    "ear"
   ]
  },
  {
   "cell_type": "code",
   "execution_count": 13,
   "metadata": {
    "ExecuteTime": {
     "end_time": "2018-04-10T01:49:05.891264Z",
     "start_time": "2018-04-10T01:49:05.856243Z"
    }
   },
   "outputs": [
    {
     "data": {
      "text/plain": [
       "6.0"
      ]
     },
     "execution_count": 13,
     "metadata": {},
     "output_type": "execute_result"
    }
   ],
   "source": [
    "ear.size_on_disk / 10**9"
   ]
  },
  {
   "cell_type": "code",
   "execution_count": 14,
   "metadata": {
    "ExecuteTime": {
     "end_time": "2018-04-10T01:51:01.271107Z",
     "start_time": "2018-04-10T01:51:01.265141Z"
    }
   },
   "outputs": [
    {
     "data": {
      "text/plain": [
       "1024"
      ]
     },
     "execution_count": 14,
     "metadata": {},
     "output_type": "execute_result"
    }
   ],
   "source": [
    "2 ** 10"
   ]
  },
  {
   "cell_type": "markdown",
   "metadata": {},
   "source": [
    "ear 有 $6 G$，为了进行内存外计算，我们需要在数据库中有一个目标 EArray 对象："
   ]
  },
  {
   "cell_type": "code",
   "execution_count": 18,
   "metadata": {
    "ExecuteTime": {
     "end_time": "2018-04-10T02:03:00.006782Z",
     "start_time": "2018-04-10T02:02:59.996771Z"
    }
   },
   "outputs": [],
   "source": [
    "out = h5.create_earray(h5.root, 'out', atom=tb.Float64Atom(), shape=(0, n))"
   ]
  },
  {
   "cell_type": "markdown",
   "metadata": {},
   "source": [
    "## 使用 Expr 子模块进行内存外数值计算"
   ]
  },
  {
   "cell_type": "code",
   "execution_count": 22,
   "metadata": {
    "ExecuteTime": {
     "end_time": "2018-04-10T02:09:50.942605Z",
     "start_time": "2018-04-10T02:09:50.581376Z"
    }
   },
   "outputs": [],
   "source": [
    "expr = tb.Expr('3 * sin(ear) + sqrt(abs(ear))')"
   ]
  },
  {
   "cell_type": "code",
   "execution_count": 24,
   "metadata": {
    "ExecuteTime": {
     "end_time": "2018-04-10T02:10:50.216775Z",
     "start_time": "2018-04-10T02:10:50.212774Z"
    }
   },
   "outputs": [],
   "source": [
    "expr.set_output(out, append_mode=True)"
   ]
  },
  {
   "cell_type": "code",
   "execution_count": 25,
   "metadata": {
    "ExecuteTime": {
     "end_time": "2018-04-10T02:15:03.772009Z",
     "start_time": "2018-04-10T02:11:05.181730Z"
    }
   },
   "outputs": [
    {
     "name": "stdout",
     "output_type": "stream",
     "text": [
      "Wall time: 3min 58s\n"
     ]
    },
    {
     "data": {
      "text/plain": [
       "/out (EArray(750000, 1000)) ''\n",
       "  atom := Float64Atom(shape=(), dflt=0.0)\n",
       "  maindim := 0\n",
       "  flavor := 'numpy'\n",
       "  byteorder := 'little'\n",
       "  chunkshape := (8, 1000)"
      ]
     },
     "execution_count": 25,
     "metadata": {},
     "output_type": "execute_result"
    }
   ],
   "source": [
    "%time expr.eval()"
   ]
  },
  {
   "cell_type": "code",
   "execution_count": 30,
   "metadata": {
    "ExecuteTime": {
     "end_time": "2018-04-10T03:06:09.034530Z",
     "start_time": "2018-04-10T03:06:08.998531Z"
    }
   },
   "outputs": [],
   "source": [
    "h5.close()"
   ]
  },
  {
   "cell_type": "markdown",
   "metadata": {},
   "source": [
    "# 一个实例"
   ]
  },
  {
   "cell_type": "code",
   "execution_count": 1,
   "metadata": {
    "ExecuteTime": {
     "end_time": "2018-04-10T09:40:16.446956Z",
     "start_time": "2018-04-10T09:40:12.821843Z"
    }
   },
   "outputs": [
    {
     "name": "stderr",
     "output_type": "stream",
     "text": [
      "Using CNTK backend\n"
     ]
    }
   ],
   "source": [
    "import keras \n",
    "import tables as tb\n",
    "\n",
    "import sys\n",
    "sys.path.append('E:/xinlib')\n",
    "\n",
    "from xinTables import xin_datasets"
   ]
  },
  {
   "cell_type": "code",
   "execution_count": 7,
   "metadata": {
    "ExecuteTime": {
     "end_time": "2018-04-10T08:54:38.427111Z",
     "start_time": "2018-04-10T08:54:30.904994Z"
    }
   },
   "outputs": [],
   "source": [
    "xin_datasets('E:/Data/HDF5/')"
   ]
  },
  {
   "cell_type": "code",
   "execution_count": 7,
   "metadata": {
    "ExecuteTime": {
     "end_time": "2018-04-10T10:48:08.445631Z",
     "start_time": "2018-04-10T10:48:08.438636Z"
    }
   },
   "outputs": [],
   "source": [
    "h5 = tb.open_file('E:/Data/HDF5/xindatasets.h5')"
   ]
  },
  {
   "cell_type": "code",
   "execution_count": 8,
   "metadata": {
    "ExecuteTime": {
     "end_time": "2018-04-10T10:48:11.312149Z",
     "start_time": "2018-04-10T10:48:11.298153Z"
    }
   },
   "outputs": [
    {
     "data": {
      "text/plain": [
       "/ (RootGroup) 'xin datasets'\n",
       "  children := ['boston_housing' (Group), 'cifar10' (Group), 'cifar100' (Group), 'fashion_mnist' (Group), 'mnist' (Group)]"
      ]
     },
     "execution_count": 8,
     "metadata": {},
     "output_type": "execute_result"
    }
   ],
   "source": [
    "h5.root"
   ]
  },
  {
   "cell_type": "code",
   "execution_count": 9,
   "metadata": {
    "ExecuteTime": {
     "end_time": "2018-04-10T10:48:12.008611Z",
     "start_time": "2018-04-10T10:48:11.991608Z"
    }
   },
   "outputs": [
    {
     "ename": "OSError",
     "evalue": "file ``D:/temp/datasets.h5`` already exists; you may want to use the ``overwrite`` argument",
     "output_type": "error",
     "traceback": [
      "\u001b[1;31m---------------------------------------------------------------------------\u001b[0m",
      "\u001b[1;31mOSError\u001b[0m                                   Traceback (most recent call last)",
      "\u001b[1;32m<ipython-input-9-2a34c4cded53>\u001b[0m in \u001b[0;36m<module>\u001b[1;34m()\u001b[0m\n\u001b[1;32m----> 1\u001b[1;33m \u001b[0mtab\u001b[0m \u001b[1;33m=\u001b[0m \u001b[0mh5\u001b[0m\u001b[1;33m.\u001b[0m\u001b[0mcopy_file\u001b[0m\u001b[1;33m(\u001b[0m\u001b[1;34m'D:/temp/datasets.h5'\u001b[0m\u001b[1;33m)\u001b[0m\u001b[1;33m\u001b[0m\u001b[0m\n\u001b[0m",
      "\u001b[1;32mC:\\ProgramData\\Anaconda3\\lib\\site-packages\\tables\\file.py\u001b[0m in \u001b[0;36mcopy_file\u001b[1;34m(self, dstfilename, overwrite, **kwargs)\u001b[0m\n\u001b[0;32m   1934\u001b[0m             raise IOError((\"file ``%s`` already exists; \"\n\u001b[0;32m   1935\u001b[0m                            \u001b[1;34m\"you may want to use the ``overwrite`` \"\u001b[0m\u001b[1;33m\u001b[0m\u001b[0m\n\u001b[1;32m-> 1936\u001b[1;33m                            \"argument\") % dstfilename)\n\u001b[0m\u001b[0;32m   1937\u001b[0m \u001b[1;33m\u001b[0m\u001b[0m\n\u001b[0;32m   1938\u001b[0m         \u001b[1;31m# Create destination file, overwriting it.\u001b[0m\u001b[1;33m\u001b[0m\u001b[1;33m\u001b[0m\u001b[0m\n",
      "\u001b[1;31mOSError\u001b[0m: file ``D:/temp/datasets.h5`` already exists; you may want to use the ``overwrite`` argument"
     ]
    }
   ],
   "source": [
    "tab = h5.copy_file('D:/temp/datasets.h5')"
   ]
  },
  {
   "cell_type": "code",
   "execution_count": 15,
   "metadata": {
    "ExecuteTime": {
     "end_time": "2018-04-10T08:58:06.564356Z",
     "start_time": "2018-04-10T08:58:06.561355Z"
    }
   },
   "outputs": [],
   "source": [
    "h5.close()"
   ]
  },
  {
   "cell_type": "code",
   "execution_count": 11,
   "metadata": {
    "ExecuteTime": {
     "end_time": "2018-04-10T10:48:46.449515Z",
     "start_time": "2018-04-10T10:48:46.444514Z"
    }
   },
   "outputs": [],
   "source": [
    "myh5 = tb.open_file('D:/temp/datasets.h5')"
   ]
  },
  {
   "cell_type": "code",
   "execution_count": 12,
   "metadata": {
    "ExecuteTime": {
     "end_time": "2018-04-10T10:48:47.648480Z",
     "start_time": "2018-04-10T10:48:47.643480Z"
    },
    "scrolled": false
   },
   "outputs": [],
   "source": [
    "a = myh5.get_node('/cifar10')"
   ]
  },
  {
   "cell_type": "code",
   "execution_count": 13,
   "metadata": {
    "ExecuteTime": {
     "end_time": "2018-04-10T10:48:48.164510Z",
     "start_time": "2018-04-10T10:48:48.159516Z"
    }
   },
   "outputs": [],
   "source": [
    "train_data = myh5.get_node('/cifar10/train_dataset')\n",
    "test_data = myh5.get_node('/cifar10/test_dataset')"
   ]
  },
  {
   "cell_type": "code",
   "execution_count": 14,
   "metadata": {
    "ExecuteTime": {
     "end_time": "2018-04-10T10:48:48.801481Z",
     "start_time": "2018-04-10T10:48:48.797516Z"
    }
   },
   "outputs": [],
   "source": [
    "d = myh5.get_node('/cifar10/train_dataset/data')"
   ]
  },
  {
   "cell_type": "code",
   "execution_count": 15,
   "metadata": {
    "ExecuteTime": {
     "end_time": "2018-04-10T10:48:50.057796Z",
     "start_time": "2018-04-10T10:48:50.053796Z"
    },
    "scrolled": true
   },
   "outputs": [],
   "source": [
    "X = myh5.get_node('/cifar10/train_dataset/data')\n",
    "Y = myh5.get_node('/cifar10/train_dataset/label')"
   ]
  },
  {
   "cell_type": "code",
   "execution_count": 20,
   "metadata": {
    "ExecuteTime": {
     "end_time": "2018-04-10T11:00:22.869379Z",
     "start_time": "2018-04-10T11:00:22.862341Z"
    }
   },
   "outputs": [
    {
     "data": {
      "text/plain": [
       "array([[9],\n",
       "       [9],\n",
       "       [4],\n",
       "       [1],\n",
       "       [1],\n",
       "       [2],\n",
       "       [7],\n",
       "       [8]], dtype=uint8)"
      ]
     },
     "execution_count": 20,
     "metadata": {},
     "output_type": "execute_result"
    }
   ],
   "source": [
    "Y[1:9]"
   ]
  },
  {
   "cell_type": "code",
   "execution_count": 21,
   "metadata": {
    "ExecuteTime": {
     "end_time": "2018-04-10T11:01:40.997343Z",
     "start_time": "2018-04-10T11:01:40.989330Z"
    }
   },
   "outputs": [],
   "source": [
    "def data_iter(X, Y, batch_size, shuffle=True):\n",
    "    '''由一个类 array 数据集生成一个迭代器'''\n",
    "    n = len(X)\n",
    "    idx = np.arange(n)\n",
    "    if shuffle:\n",
    "        # 等价于 rand_index = np.random.choice(n, size= batch_size)\n",
    "        # 等价于 np.random.shuffle(idx)\n",
    "        idx = np.random.permutation(idx)\n",
    "    for i in np.arange(0, n, batch_size):\n",
    "        idx = idx[i:min(i + batch_size, n)]\n",
    "        yield X[idx], Y[idx]"
   ]
  },
  {
   "cell_type": "code",
   "execution_count": 42,
   "metadata": {
    "ExecuteTime": {
     "end_time": "2018-04-10T12:17:01.822774Z",
     "start_time": "2018-04-10T12:17:01.817768Z"
    }
   },
   "outputs": [],
   "source": [
    "import numpy as np"
   ]
  },
  {
   "cell_type": "code",
   "execution_count": 44,
   "metadata": {
    "ExecuteTime": {
     "end_time": "2018-04-10T12:17:22.009210Z",
     "start_time": "2018-04-10T12:17:21.998230Z"
    }
   },
   "outputs": [
    {
     "data": {
      "text/plain": [
       "(50000, 32, 32, 3)"
      ]
     },
     "execution_count": 44,
     "metadata": {},
     "output_type": "execute_result"
    }
   ],
   "source": [
    "X.shape"
   ]
  },
  {
   "cell_type": "code",
   "execution_count": 48,
   "metadata": {
    "ExecuteTime": {
     "end_time": "2018-04-10T12:19:06.055660Z",
     "start_time": "2018-04-10T12:19:06.042650Z"
    }
   },
   "outputs": [],
   "source": [
    "n = X.shape[0]\n",
    "num_train = 0.75 * n\n",
    "idx = "
   ]
  },
  {
   "cell_type": "code",
   "execution_count": 51,
   "metadata": {
    "ExecuteTime": {
     "end_time": "2018-04-10T12:20:23.904337Z",
     "start_time": "2018-04-10T12:20:22.969335Z"
    }
   },
   "outputs": [],
   "source": []
  },
  {
   "cell_type": "code",
   "execution_count": 54,
   "metadata": {
    "ExecuteTime": {
     "end_time": "2018-04-10T12:20:48.738936Z",
     "start_time": "2018-04-10T12:20:48.718940Z"
    }
   },
   "outputs": [],
   "source": [
    "np.random.permutation?"
   ]
  },
  {
   "cell_type": "code",
   "execution_count": 29,
   "metadata": {
    "ExecuteTime": {
     "end_time": "2018-04-10T11:24:10.368129Z",
     "start_time": "2018-04-10T11:24:10.365129Z"
    }
   },
   "outputs": [],
   "source": [
    "net = nn.Sequential()"
   ]
  },
  {
   "cell_type": "code",
   "execution_count": 31,
   "metadata": {
    "ExecuteTime": {
     "end_time": "2018-04-10T11:32:59.575019Z",
     "start_time": "2018-04-10T11:32:59.540015Z"
    },
    "collapsed": true
   },
   "outputs": [
    {
     "ename": "OSError",
     "evalue": "file ``D:/temp/datasets.h5`` already exists; you may want to use the ``overwrite`` argument",
     "output_type": "error",
     "traceback": [
      "\u001b[1;31m---------------------------------------------------------------------------\u001b[0m",
      "\u001b[1;31mOSError\u001b[0m                                   Traceback (most recent call last)",
      "\u001b[1;32m<ipython-input-31-e6ab033e71ab>\u001b[0m in \u001b[0;36m<module>\u001b[1;34m()\u001b[0m\n\u001b[1;32m----> 1\u001b[1;33m \u001b[0mL\u001b[0m \u001b[1;33m=\u001b[0m \u001b[0mLearning\u001b[0m\u001b[1;33m(\u001b[0m\u001b[1;34m'cifar10'\u001b[0m\u001b[1;33m,\u001b[0m \u001b[0mnet\u001b[0m\u001b[1;33m)\u001b[0m\u001b[1;33m\u001b[0m\u001b[0m\n\u001b[0m",
      "\u001b[1;32m<ipython-input-26-3c9dbe7926c7>\u001b[0m in \u001b[0;36m__init__\u001b[1;34m(self, name, net, source, temp_path)\u001b[0m\n\u001b[0;32m      5\u001b[0m                  \u001b[0msource\u001b[0m\u001b[1;33m=\u001b[0m\u001b[1;34m'E:/Data/HDF5/xindatasets.h5'\u001b[0m\u001b[1;33m,\u001b[0m\u001b[1;33m\u001b[0m\u001b[0m\n\u001b[0;32m      6\u001b[0m                  temp_path='D:/temp/datasets.h5'):\n\u001b[1;32m----> 7\u001b[1;33m         \u001b[0msuper\u001b[0m\u001b[1;33m(\u001b[0m\u001b[1;33m)\u001b[0m\u001b[1;33m.\u001b[0m\u001b[0m__init__\u001b[0m\u001b[1;33m(\u001b[0m\u001b[0mname\u001b[0m\u001b[1;33m,\u001b[0m \u001b[0msource\u001b[0m\u001b[1;33m,\u001b[0m \u001b[0mtemp_path\u001b[0m\u001b[1;33m)\u001b[0m\u001b[1;33m\u001b[0m\u001b[0m\n\u001b[0m\u001b[0;32m      8\u001b[0m         self.train_iter, self.validate_iter, self.test_iter = self.split(\n\u001b[0;32m      9\u001b[0m             prob, batch_size)\n",
      "\u001b[1;32m<ipython-input-23-72135905f4d5>\u001b[0m in \u001b[0;36m__init__\u001b[1;34m(self, name, source, temp_path)\u001b[0m\n\u001b[0;32m     10\u001b[0m                  temp_path='D:/temp/datasets.h5'):\n\u001b[0;32m     11\u001b[0m         \u001b[0mh5\u001b[0m \u001b[1;33m=\u001b[0m \u001b[0mtb\u001b[0m\u001b[1;33m.\u001b[0m\u001b[0mopen_file\u001b[0m\u001b[1;33m(\u001b[0m\u001b[0msource\u001b[0m\u001b[1;33m)\u001b[0m\u001b[1;33m\u001b[0m\u001b[0m\n\u001b[1;32m---> 12\u001b[1;33m         \u001b[0mh5\u001b[0m\u001b[1;33m.\u001b[0m\u001b[0mcopy_file\u001b[0m\u001b[1;33m(\u001b[0m\u001b[0mtemp_path\u001b[0m\u001b[1;33m)\u001b[0m\u001b[1;33m\u001b[0m\u001b[0m\n\u001b[0m\u001b[0;32m     13\u001b[0m         \u001b[0mh5\u001b[0m\u001b[1;33m.\u001b[0m\u001b[0mclose\u001b[0m\u001b[1;33m(\u001b[0m\u001b[1;33m)\u001b[0m\u001b[1;33m\u001b[0m\u001b[0m\n\u001b[0;32m     14\u001b[0m         \u001b[0mmyh5\u001b[0m \u001b[1;33m=\u001b[0m \u001b[0mtb\u001b[0m\u001b[1;33m.\u001b[0m\u001b[0mopen_file\u001b[0m\u001b[1;33m(\u001b[0m\u001b[0mtemp_path\u001b[0m\u001b[1;33m)\u001b[0m\u001b[1;33m\u001b[0m\u001b[0m\n",
      "\u001b[1;32mC:\\ProgramData\\Anaconda3\\lib\\site-packages\\tables\\file.py\u001b[0m in \u001b[0;36mcopy_file\u001b[1;34m(self, dstfilename, overwrite, **kwargs)\u001b[0m\n\u001b[0;32m   1934\u001b[0m             raise IOError((\"file ``%s`` already exists; \"\n\u001b[0;32m   1935\u001b[0m                            \u001b[1;34m\"you may want to use the ``overwrite`` \"\u001b[0m\u001b[1;33m\u001b[0m\u001b[0m\n\u001b[1;32m-> 1936\u001b[1;33m                            \"argument\") % dstfilename)\n\u001b[0m\u001b[0;32m   1937\u001b[0m \u001b[1;33m\u001b[0m\u001b[0m\n\u001b[0;32m   1938\u001b[0m         \u001b[1;31m# Create destination file, overwriting it.\u001b[0m\u001b[1;33m\u001b[0m\u001b[1;33m\u001b[0m\u001b[0m\n",
      "\u001b[1;31mOSError\u001b[0m: file ``D:/temp/datasets.h5`` already exists; you may want to use the ``overwrite`` argument"
     ]
    }
   ],
   "source": [
    "L = Learning('cifar10', net)"
   ]
  },
  {
   "cell_type": "code",
   "execution_count": null,
   "metadata": {},
   "outputs": [],
   "source": [
    "class Estimator(DataLoader):\n",
    "    def __init__(self, name,source='E:/Data/HDF5/xindatasets.h5',temp_path='D:/temp/datasets.h5', net):\n",
    "        super().__init__(name, source, temp_path)\n",
    "        \n",
    "    def get_iter(self):\n",
    "        self.train_iter, self.validate_iter, self.test_iter = self.split(prob, batch_size)\n",
    "    \n",
    "    def "
   ]
  }
 ],
 "metadata": {
  "kernelspec": {
   "display_name": "Python 3",
   "language": "python",
   "name": "python3"
  },
  "language_info": {
   "codemirror_mode": {
    "name": "ipython",
    "version": 3
   },
   "file_extension": ".py",
   "mimetype": "text/x-python",
   "name": "python",
   "nbconvert_exporter": "python",
   "pygments_lexer": "ipython3",
   "version": "3.6.4"
  },
  "latex_envs": {
   "LaTeX_envs_menu_present": true,
   "autoclose": false,
   "autocomplete": true,
   "bibliofile": "biblio.bib",
   "cite_by": "apalike",
   "current_citInitial": 1,
   "eqLabelWithNumbers": true,
   "eqNumInitial": 1,
   "hotkeys": {
    "equation": "Ctrl-E",
    "itemize": "Ctrl-I"
   },
   "labels_anchors": false,
   "latex_user_defs": false,
   "report_style_numbering": false,
   "user_envs_cfg": false
  },
  "nbTranslate": {
   "displayLangs": [
    "*"
   ],
   "hotkey": "alt-t",
   "langInMainMenu": true,
   "sourceLang": "en",
   "targetLang": "fr",
   "useGoogleTranslate": true
  },
  "toc": {
   "nav_menu": {},
   "number_sections": true,
   "sideBar": true,
   "skip_h1_title": false,
   "title_cell": "Table of Contents",
   "title_sidebar": "Contents",
   "toc_cell": false,
   "toc_position": {
    "height": "calc(100% - 180px)",
    "left": "10px",
    "top": "150px",
    "width": "241px"
   },
   "toc_section_display": true,
   "toc_window_display": true
  },
  "varInspector": {
   "cols": {
    "lenName": 16,
    "lenType": 16,
    "lenVar": 40
   },
   "kernels_config": {
    "python": {
     "delete_cmd_postfix": "",
     "delete_cmd_prefix": "del ",
     "library": "var_list.py",
     "varRefreshCmd": "print(var_dic_list())"
    },
    "r": {
     "delete_cmd_postfix": ") ",
     "delete_cmd_prefix": "rm(",
     "library": "var_list.r",
     "varRefreshCmd": "cat(var_dic_list()) "
    }
   },
   "types_to_exclude": [
    "module",
    "function",
    "builtin_function_or_method",
    "instance",
    "_Feature"
   ],
   "window_display": false
  }
 },
 "nbformat": 4,
 "nbformat_minor": 2
}
