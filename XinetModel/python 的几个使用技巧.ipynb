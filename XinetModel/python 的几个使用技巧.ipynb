{
 "cells": [
  {
   "cell_type": "markdown",
   "metadata": {},
   "source": [
    "# `print` 的可选参数\n",
    "\n",
    "## `sep`：改变分隔符"
   ]
  },
  {
   "cell_type": "code",
   "execution_count": 2,
   "metadata": {
    "ExecuteTime": {
     "end_time": "2018-04-25T08:46:42.822776Z",
     "start_time": "2018-04-25T08:46:42.818750Z"
    }
   },
   "outputs": [
    {
     "name": "stdout",
     "output_type": "stream",
     "text": [
      "Hello**World\n"
     ]
    }
   ],
   "source": [
    "print('Hello', 'World', sep = '**')"
   ]
  },
  {
   "cell_type": "code",
   "execution_count": 3,
   "metadata": {
    "ExecuteTime": {
     "end_time": "2018-04-25T08:47:02.983364Z",
     "start_time": "2018-04-25T08:47:02.978338Z"
    }
   },
   "outputs": [
    {
     "name": "stdout",
     "output_type": "stream",
     "text": [
      "HelloWorld\n"
     ]
    }
   ],
   "source": [
    "print('Hello', 'World', sep = '')"
   ]
  },
  {
   "cell_type": "code",
   "execution_count": 4,
   "metadata": {
    "ExecuteTime": {
     "end_time": "2018-04-25T08:47:11.384365Z",
     "start_time": "2018-04-25T08:47:11.378863Z"
    }
   },
   "outputs": [
    {
     "name": "stdout",
     "output_type": "stream",
     "text": [
      "Hello World\n"
     ]
    }
   ],
   "source": [
    "print('Hello', 'World', sep = ' ')"
   ]
  },
  {
   "cell_type": "markdown",
   "metadata": {},
   "source": [
    "## `end` 改变行的结束"
   ]
  },
  {
   "cell_type": "code",
   "execution_count": 5,
   "metadata": {
    "ExecuteTime": {
     "end_time": "2018-04-25T08:50:18.714594Z",
     "start_time": "2018-04-25T08:50:18.708552Z"
    }
   },
   "outputs": [
    {
     "name": "stdout",
     "output_type": "stream",
     "text": [
      "Hello World!\n"
     ]
    }
   ],
   "source": [
    "print('Hello', end = ' ')\n",
    "print('World!')"
   ]
  },
  {
   "cell_type": "code",
   "execution_count": 6,
   "metadata": {
    "ExecuteTime": {
     "end_time": "2018-04-25T08:50:45.294113Z",
     "start_time": "2018-04-25T08:50:45.289118Z"
    }
   },
   "outputs": [
    {
     "name": "stdout",
     "output_type": "stream",
     "text": [
      "HelloWorld!\n"
     ]
    }
   ],
   "source": [
    "print('Hello', end = '')\n",
    "print('World!')"
   ]
  },
  {
   "cell_type": "code",
   "execution_count": 7,
   "metadata": {
    "ExecuteTime": {
     "end_time": "2018-04-25T08:50:52.873380Z",
     "start_time": "2018-04-25T08:50:52.868408Z"
    }
   },
   "outputs": [
    {
     "name": "stdout",
     "output_type": "stream",
     "text": [
      "Hello\n",
      "World!\n"
     ]
    }
   ],
   "source": [
    "print('Hello', end = '\\n')\n",
    "print('World!')"
   ]
  },
  {
   "cell_type": "code",
   "execution_count": 8,
   "metadata": {
    "ExecuteTime": {
     "end_time": "2018-04-25T08:51:04.932905Z",
     "start_time": "2018-04-25T08:51:04.928870Z"
    }
   },
   "outputs": [
    {
     "name": "stdout",
     "output_type": "stream",
     "text": [
      "Hello\tWorld!\n"
     ]
    }
   ],
   "source": [
    "print('Hello', end = '\\t')\n",
    "print('World!')"
   ]
  },
  {
   "cell_type": "code",
   "execution_count": 9,
   "metadata": {
    "ExecuteTime": {
     "end_time": "2018-04-25T08:51:13.735260Z",
     "start_time": "2018-04-25T08:51:13.729259Z"
    }
   },
   "outputs": [
    {
     "name": "stdout",
     "output_type": "stream",
     "text": [
      "Hello\bWorld!\n"
     ]
    }
   ],
   "source": [
    "print('Hello', end = '\\b')\n",
    "print('World!')"
   ]
  },
  {
   "cell_type": "markdown",
   "metadata": {},
   "source": [
    "## 转义字符"
   ]
  },
  {
   "cell_type": "code",
   "execution_count": 11,
   "metadata": {
    "ExecuteTime": {
     "end_time": "2018-04-25T08:58:57.354579Z",
     "start_time": "2018-04-25T08:58:57.348593Z"
    }
   },
   "outputs": [
    {
     "name": "stdout",
     "output_type": "stream",
     "text": [
      "01234567890123456\n",
      "a\tb\tc\n",
      "a    b    c\n"
     ]
    }
   ],
   "source": [
    "print('01234567890123456')\n",
    "print('a\\tb\\tc')  # 制表符\n",
    "print('a\\tb\\tc'.expandtabs(5))"
   ]
  },
  {
   "cell_type": "markdown",
   "metadata": {},
   "source": [
    "## 域内输出对齐\n",
    "\n",
    "### `ljust(n)`、 `rjust(n)`、 `center(n)`"
   ]
  },
  {
   "cell_type": "code",
   "execution_count": 13,
   "metadata": {
    "ExecuteTime": {
     "end_time": "2018-04-25T09:04:08.209311Z",
     "start_time": "2018-04-25T09:04:08.203280Z"
    }
   },
   "outputs": [
    {
     "name": "stdout",
     "output_type": "stream",
     "text": [
      "0123456789012345678901234567\n",
      "Rank Player              HR \n",
      "1    Tom                 765\n"
     ]
    }
   ],
   "source": [
    "print('0123456789012345678901234567')\n",
    "print('Rank'.ljust(5), \"Player\".ljust(20), 'HR'.ljust(3), sep='')\n",
    "print('1'.ljust(5), \"Tom\".ljust(20), '765'.ljust(3), sep='')"
   ]
  },
  {
   "cell_type": "markdown",
   "metadata": {
    "ExecuteTime": {
     "end_time": "2018-04-25T09:08:24.964591Z",
     "start_time": "2018-04-25T09:08:24.959622Z"
    }
   },
   "source": [
    "### `format`\n",
    "- `w`：域宽\n",
    "- `<`：左对齐\n",
    "- `^`：居中\n",
    "- `>`：右对齐\n",
    "\n",
    "例如：`'>w'`"
   ]
  },
  {
   "cell_type": "code",
   "execution_count": 25,
   "metadata": {
    "ExecuteTime": {
     "end_time": "2018-04-25T09:15:17.435142Z",
     "start_time": "2018-04-25T09:15:17.430608Z"
    },
    "scrolled": true
   },
   "outputs": [
    {
     "name": "stdout",
     "output_type": "stream",
     "text": [
      "0123456789012345678901234567\n",
      "Hello      World!\n"
     ]
    }
   ],
   "source": [
    "print('0123456789012345678901234567')\n",
    "print('{0:<7s}{1:>10s}'.format('Hello', 'World!'))"
   ]
  },
  {
   "cell_type": "markdown",
   "metadata": {},
   "source": [
    "# `split` \\ `join`\n",
    "- `split`：将字符串变成其子串组成的列表；\n",
    "- `join`：将字符串列表变成一个字符串"
   ]
  },
  {
   "cell_type": "code",
   "execution_count": 29,
   "metadata": {
    "ExecuteTime": {
     "end_time": "2018-04-25T09:28:43.390610Z",
     "start_time": "2018-04-25T09:28:43.384607Z"
    }
   },
   "outputs": [
    {
     "name": "stdout",
     "output_type": "stream",
     "text": [
      "['a', 'b', 'c']\n",
      "['a', 'b', 'c']\n"
     ]
    }
   ],
   "source": [
    "print('a,b,c'.split(','))\n",
    "print('a**b**c'.split('**'))"
   ]
  },
  {
   "cell_type": "code",
   "execution_count": 31,
   "metadata": {
    "ExecuteTime": {
     "end_time": "2018-04-25T09:31:54.036376Z",
     "start_time": "2018-04-25T09:31:54.030852Z"
    }
   },
   "outputs": [
    {
     "data": {
      "text/plain": [
       "'a;b;c'"
      ]
     },
     "execution_count": 31,
     "metadata": {},
     "output_type": "execute_result"
    }
   ],
   "source": [
    "';'.join(['a', 'b', 'c'])"
   ]
  },
  {
   "cell_type": "markdown",
   "metadata": {},
   "source": [
    "# ASCII 值\n",
    "\n",
    "使用 ASCII 排列数据元素叫**字典序**。"
   ]
  },
  {
   "cell_type": "code",
   "execution_count": 33,
   "metadata": {
    "ExecuteTime": {
     "end_time": "2018-04-25T10:35:40.643438Z",
     "start_time": "2018-04-25T10:35:40.637434Z"
    }
   },
   "outputs": [
    {
     "data": {
      "text/plain": [
       "'\\x05'"
      ]
     },
     "execution_count": 33,
     "metadata": {},
     "output_type": "execute_result"
    }
   ],
   "source": [
    "chr(5)"
   ]
  },
  {
   "cell_type": "code",
   "execution_count": 35,
   "metadata": {
    "ExecuteTime": {
     "end_time": "2018-04-25T10:36:28.035116Z",
     "start_time": "2018-04-25T10:36:28.030107Z"
    }
   },
   "outputs": [
    {
     "data": {
      "text/plain": [
       "97"
      ]
     },
     "execution_count": 35,
     "metadata": {},
     "output_type": "execute_result"
    }
   ],
   "source": [
    "ord('a')"
   ]
  },
  {
   "cell_type": "code",
   "execution_count": 36,
   "metadata": {
    "ExecuteTime": {
     "end_time": "2018-04-25T10:37:57.988079Z",
     "start_time": "2018-04-25T10:37:57.983045Z"
    }
   },
   "outputs": [
    {
     "data": {
      "text/plain": [
       "'°'"
      ]
     },
     "execution_count": 36,
     "metadata": {},
     "output_type": "execute_result"
    }
   ],
   "source": [
    "chr(176)"
   ]
  },
  {
   "cell_type": "code",
   "execution_count": 39,
   "metadata": {
    "ExecuteTime": {
     "end_time": "2018-04-25T10:39:17.267603Z",
     "start_time": "2018-04-25T10:39:17.262596Z"
    }
   },
   "outputs": [
    {
     "name": "stdout",
     "output_type": "stream",
     "text": [
      "32° Fahrenheit\n"
     ]
    }
   ],
   "source": [
    "print('32' + chr(176) + \" Fahrenheit\")"
   ]
  },
  {
   "cell_type": "code",
   "execution_count": 40,
   "metadata": {
    "ExecuteTime": {
     "end_time": "2018-04-25T11:11:13.475657Z",
     "start_time": "2018-04-25T11:11:13.465653Z"
    }
   },
   "outputs": [
    {
     "data": {
      "text/plain": [
       "21"
      ]
     },
     "execution_count": 40,
     "metadata": {},
     "output_type": "execute_result"
    }
   ],
   "source": [
    "def f(x):\n",
    "    return x * 3\n",
    "\n",
    "f(7)"
   ]
  },
  {
   "cell_type": "markdown",
   "metadata": {},
   "source": [
    "# 程序设计\n",
    "\n",
    "## 自顶向下的设计\n",
    "\n",
    "程序员一般采样“分而治之”的策略将一个复杂而大的问题分解为更小更简单的子问题（即**逐步细化**）：\n",
    "其中**自顶而下**的方法是最为突出的。其中越一般的任务越接近设计的顶层，而对它们细化的任务放在下边。\n",
    "\n",
    "**自顶而下**设计的目标是将一个问题分解为多个单独的子任务，方便改写成**伪代码**、**流程图**或函数。\n",
    "\n",
    "设计标准：\n",
    "- 应该易于阅读且着重于小的函数。\n",
    "- 当你从上往下看层次结构图时，任务也从一般到具体。\n",
    "- 子任务尽可能的单一，即它们应该仅执行一个单一定义明确的任务。\n",
    "- 子任务间应该尽可能地相互独立，子任务的任何联系应当说明。\n",
    "\n",
    "## 结构化编程\n",
    "\n",
    "\n",
    "## 面向对象编程"
   ]
  },
  {
   "cell_type": "code",
   "execution_count": null,
   "metadata": {},
   "outputs": [],
   "source": []
  }
 ],
 "metadata": {
  "kernelspec": {
   "display_name": "Python 3",
   "language": "python",
   "name": "python3"
  },
  "language_info": {
   "codemirror_mode": {
    "name": "ipython",
    "version": 3
   },
   "file_extension": ".py",
   "mimetype": "text/x-python",
   "name": "python",
   "nbconvert_exporter": "python",
   "pygments_lexer": "ipython3",
   "version": "3.6.4"
  },
  "latex_envs": {
   "LaTeX_envs_menu_present": true,
   "autoclose": false,
   "autocomplete": true,
   "bibliofile": "biblio.bib",
   "cite_by": "apalike",
   "current_citInitial": 1,
   "eqLabelWithNumbers": true,
   "eqNumInitial": 1,
   "hotkeys": {
    "equation": "Ctrl-E",
    "itemize": "Ctrl-I"
   },
   "labels_anchors": false,
   "latex_user_defs": false,
   "report_style_numbering": false,
   "user_envs_cfg": false
  },
  "nbTranslate": {
   "displayLangs": [
    "*"
   ],
   "hotkey": "alt-t",
   "langInMainMenu": true,
   "sourceLang": "en",
   "targetLang": "fr",
   "useGoogleTranslate": true
  },
  "toc": {
   "nav_menu": {},
   "number_sections": true,
   "sideBar": true,
   "skip_h1_title": false,
   "title_cell": "Table of Contents",
   "title_sidebar": "Contents",
   "toc_cell": false,
   "toc_position": {
    "height": "calc(100% - 180px)",
    "left": "10px",
    "top": "150px",
    "width": "266px"
   },
   "toc_section_display": true,
   "toc_window_display": true
  },
  "varInspector": {
   "cols": {
    "lenName": 16,
    "lenType": 16,
    "lenVar": 40
   },
   "kernels_config": {
    "python": {
     "delete_cmd_postfix": "",
     "delete_cmd_prefix": "del ",
     "library": "var_list.py",
     "varRefreshCmd": "print(var_dic_list())"
    },
    "r": {
     "delete_cmd_postfix": ") ",
     "delete_cmd_prefix": "rm(",
     "library": "var_list.r",
     "varRefreshCmd": "cat(var_dic_list()) "
    }
   },
   "types_to_exclude": [
    "module",
    "function",
    "builtin_function_or_method",
    "instance",
    "_Feature"
   ],
   "window_display": false
  }
 },
 "nbformat": 4,
 "nbformat_minor": 2
}
