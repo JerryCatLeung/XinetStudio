{
 "cells": [
  {
   "cell_type": "markdown",
   "metadata": {},
   "source": [
    "学习文章：[《超智能体》文章阅读顺序](https://zhuanlan.zhihu.com/p/27857399?refer=YJango)\n",
    "\n",
    "# 线性代数、概率、熵\n",
    "\n",
    "## [如何生动有趣的入门线性代数](https://zhuanlan.zhihu.com/p/23054096)\n",
    "\n",
    "**线性代数**是有关任意维度空间下**事物状态**和**状态变化**的规则。\n",
    "\n",
    "### 向量是有顺序的一组数字，每个数字都是该向量的一个因素(element) 因素\n",
    "\n",
    "**向量点乘(dot product)是一种组合(combination)**：\n",
    "\n",
    "等式右边的第二个向量表示**你有什么**，右边的第一个向量表示**你各拿几个**，而等式的左边表示**你获得了什么**。\n",
    "\n",
    "### 向量空间是能够容纳所有线性组合的状态空间\n",
    "向量空间是描述状态(state)的线性空间。\n",
    "\n",
    "### 在机器学习中你会你会需要**构架一个虚拟的世界，并选择合适的、用于描述某个事物状态的各种因素**\n",
    "\n",
    "### 线性代数是有关如何构架“世界”的学问。矩阵又是存储着所架构的世界的信息的媒介。\n",
    "\n",
    "- 矩阵是由一系列的列向量按照一定的次序排列而成；\n",
    "- 矩阵描述了线性空间的变换；\n",
    "- 基就是线性空间的坐标系，不是坐标值，有区别；\n",
    "- 基和向量相乘能够描述一个对象。\n",
    "\n",
    "### [线性代数的本质--对线性空间、向量和矩阵的直觉描述](http://www.cnblogs.com/TenosDoIt/p/3214096.html)\n",
    "\n",
    "## [概率simple入门](https://zhuanlan.zhihu.com/p/26098301)\n",
    "\n",
    "**概率**是用来衡量我们对事物在变化到不同状态的**确信度**。\n",
    "\n",
    "概率是用来衡量我们对事物在跨时间后不同状态的确信度。\n",
    "\n",
    "概率是观察者畅想一个状态从某个时间点变化到另个时间点后的确信度。跨时间可以是过去到未来，也可以是未来到过去。\n",
    "\n",
    "## 熵\n",
    "熵和概率十分相近，但又不同。概率是真实反映变化到某状态的确信度。而熵反映的是从某时刻到另一时刻的状态有多难以确定。阻碍生命的不是概率，而是熵。\n",
    "\n",
    "**熵**是用来衡量我们对事物在跨时间后能产生不同状态的**混乱度**。\n",
    "\n",
    "# [深层学习为何要“Deep”（上）](https://zhuanlan.zhihu.com/p/22888385)\n",
    "\n",
    "\\begin{remark}\n",
    "每层神经网络的数学理解：用线性变换跟随着非线性变化，将输入空间投向另一个空间。\n",
    "\\end{remark}\n",
    "\n",
    "可视化空间变换demo：[ConvnetJS demo: toy 2d classification with 2-layer neural network](https://cs.stanford.edu/people/karpathy/convnetjs//demo/classify2d.html)\n",
    "\n",
    "# [深层学习为何要“Deep”（下）](https://zhuanlan.zhihu.com/p/24245040)\n",
    "生物要做的是降低环境的熵，将不确定状态变为确定状态。通常机器学习是优化损失函数，并用概率来衡量模型优劣。然而概率正是由于无法确定状态才不得不用的衡量手段。生物真正想要的是没有丝毫不确定性。"
   ]
  },
  {
   "cell_type": "markdown",
   "metadata": {},
   "source": [
    "# TensorFlow基本用法\n",
    "- [YJango的TensorFlow整体把握](https://zhuanlan.zhihu.com/p/23932714)\n",
    "- [Tensorflow实现神经网络（2）](https://zhuanlan.zhihu.com/p/23969767)\n",
    "- [YJango的前馈神经网络--代码LV3](https://zhuanlan.zhihu.com/p/27854076)\n",
    "\n",
    "\n",
    "# YJango的循环神经网络\n",
    "- [介绍](https://zhuanlan.zhihu.com/p/24720659)\n",
    "- [YJango的循环神经网络——实现LSTM](https://zhuanlan.zhihu.com/p/25518711)\n",
    "- [YJango的循环神经网络——scan实现LSTM](https://zhuanlan.zhihu.com/p/25821063)\n",
    "- [YJango的循环神经网络——双向LSTM&GRU](https://zhuanlan.zhihu.com/p/25858226)"
   ]
  },
  {
   "cell_type": "code",
   "execution_count": null,
   "metadata": {},
   "outputs": [],
   "source": []
  },
  {
   "cell_type": "code",
   "execution_count": null,
   "metadata": {},
   "outputs": [],
   "source": []
  },
  {
   "cell_type": "markdown",
   "metadata": {},
   "source": [
    "# [YJango的卷积神经网络——介绍](https://zhuanlan.zhihu.com/p/27642620)"
   ]
  },
  {
   "cell_type": "code",
   "execution_count": null,
   "metadata": {},
   "outputs": [],
   "source": []
  }
 ],
 "metadata": {
  "kernelspec": {
   "display_name": "Python 3",
   "language": "python",
   "name": "python3"
  },
  "language_info": {
   "codemirror_mode": {
    "name": "ipython",
    "version": 3
   },
   "file_extension": ".py",
   "mimetype": "text/x-python",
   "name": "python",
   "nbconvert_exporter": "python",
   "pygments_lexer": "ipython3",
   "version": "3.6.4"
  },
  "latex_envs": {
   "LaTeX_envs_menu_present": true,
   "autoclose": false,
   "autocomplete": true,
   "bibliofile": "biblio.bib",
   "cite_by": "apalike",
   "current_citInitial": 1,
   "eqLabelWithNumbers": true,
   "eqNumInitial": 1,
   "hotkeys": {
    "equation": "Ctrl-E",
    "itemize": "Ctrl-I"
   },
   "labels_anchors": false,
   "latex_user_defs": false,
   "report_style_numbering": false,
   "user_envs_cfg": false
  },
  "nbTranslate": {
   "displayLangs": [
    "*"
   ],
   "hotkey": "alt-t",
   "langInMainMenu": true,
   "sourceLang": "en",
   "targetLang": "fr",
   "useGoogleTranslate": true
  },
  "toc": {
   "nav_menu": {},
   "number_sections": true,
   "sideBar": true,
   "skip_h1_title": false,
   "title_cell": "Table of Contents",
   "title_sidebar": "Contents",
   "toc_cell": false,
   "toc_position": {},
   "toc_section_display": true,
   "toc_window_display": false
  },
  "varInspector": {
   "cols": {
    "lenName": 16,
    "lenType": 16,
    "lenVar": 40
   },
   "kernels_config": {
    "python": {
     "delete_cmd_postfix": "",
     "delete_cmd_prefix": "del ",
     "library": "var_list.py",
     "varRefreshCmd": "print(var_dic_list())"
    },
    "r": {
     "delete_cmd_postfix": ") ",
     "delete_cmd_prefix": "rm(",
     "library": "var_list.r",
     "varRefreshCmd": "cat(var_dic_list()) "
    }
   },
   "types_to_exclude": [
    "module",
    "function",
    "builtin_function_or_method",
    "instance",
    "_Feature"
   ],
   "window_display": false
  }
 },
 "nbformat": 4,
 "nbformat_minor": 2
}
