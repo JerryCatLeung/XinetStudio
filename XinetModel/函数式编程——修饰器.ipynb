{
 "cells": [
  {
   "cell_type": "markdown",
   "metadata": {},
   "source": [
    "# 简介\n",
    "- [函数式编程](https://coolshell.cn/articles/10822.html)\n",
    "- [Python修饰器的函数式编程](http://www.cnblogs.com/zhongguiyao/p/7208519.html)"
   ]
  },
  {
   "cell_type": "code",
   "execution_count": 6,
   "metadata": {
    "ExecuteTime": {
     "end_time": "2018-03-31T11:16:48.199315Z",
     "start_time": "2018-03-31T11:16:48.189312Z"
    }
   },
   "outputs": [
    {
     "name": "stdout",
     "output_type": "stream",
     "text": [
      "hello, foo\n",
      "I am foo\n",
      "goodby, foo\n"
     ]
    }
   ],
   "source": [
    "def hello(fn):\n",
    "    def wrapper():\n",
    "        print(\"hello, %s\" % fn.__name__)\n",
    "        fn()\n",
    "        print(\"goodby, %s\" % fn.__name__)\n",
    "    return wrapper\n",
    "\n",
    "\n",
    "@hello\n",
    "def foo():\n",
    "    print(\"I am foo\")\n",
    "\n",
    "\n",
    "foo()"
   ]
  },
  {
   "cell_type": "markdown",
   "metadata": {
    "ExecuteTime": {
     "end_time": "2018-03-31T11:14:07.255911Z",
     "start_time": "2018-03-31T11:14:07.232877Z"
    }
   },
   "source": [
    "## Decorator 的本质\n",
    "对于Python的这个`@`注解语法糖- Syntactic Sugar 来说，当你在用某个`@decorator`来修饰某个函数func时，如下所示:\n",
    "```py\n",
    "@decorator\n",
    "def func():\n",
    "    pass\n",
    "```\n",
    "其解释器会解释成下面这样的语句：\n",
    "```py\n",
    "func = decorator(func)\n",
    "```"
   ]
  },
  {
   "cell_type": "code",
   "execution_count": 12,
   "metadata": {
    "ExecuteTime": {
     "end_time": "2018-03-31T11:17:55.498099Z",
     "start_time": "2018-03-31T11:17:55.491103Z"
    },
    "scrolled": true
   },
   "outputs": [
    {
     "name": "stdout",
     "output_type": "stream",
     "text": [
      "hello, foo\n",
      "I am foo\n",
      "goodby, foo\n"
     ]
    },
    {
     "data": {
      "text/plain": [
       "<function __main__.hello.<locals>.wrapper>"
      ]
     },
     "execution_count": 12,
     "metadata": {},
     "output_type": "execute_result"
    }
   ],
   "source": [
    "hello(foo())"
   ]
  },
  {
   "cell_type": "code",
   "execution_count": 13,
   "metadata": {
    "ExecuteTime": {
     "end_time": "2018-03-31T11:20:25.922453Z",
     "start_time": "2018-03-31T11:20:25.916456Z"
    }
   },
   "outputs": [
    {
     "name": "stdout",
     "output_type": "stream",
     "text": [
      "fuck GFW!\n"
     ]
    }
   ],
   "source": [
    "def fuck(fn):\n",
    "    print(\"fuck %s!\" % fn.__name__[::-1].upper())\n",
    "\n",
    "\n",
    "@fuck\n",
    "def wfg():\n",
    "    pass"
   ]
  },
  {
   "cell_type": "markdown",
   "metadata": {},
   "source": [
    "### 多个 decorator\n",
    "```py\n",
    "@decorator_one\n",
    "@decorator_two\n",
    "def func():\n",
    "    pass\n",
    "```\n",
    "相当于：\n",
    "```py\n",
    "func = decorator_one(decorator_two(func))\n",
    "```\n",
    "### 比如：带参数的 decorator：\n",
    "```\n",
    "@decorator(arg1, arg2)\n",
    "def func():\n",
    "    pass\n",
    "```\n",
    "相当于：\n",
    "```\n",
    "func = decorator(arg1,arg2)(func)\n",
    "```"
   ]
  },
  {
   "cell_type": "markdown",
   "metadata": {},
   "source": [
    "## 带参数及多个 Decrorator"
   ]
  },
  {
   "cell_type": "code",
   "execution_count": 7,
   "metadata": {
    "ExecuteTime": {
     "end_time": "2018-03-31T08:04:46.268330Z",
     "start_time": "2018-03-31T08:04:46.249334Z"
    }
   },
   "outputs": [
    {
     "name": "stdout",
     "output_type": "stream",
     "text": [
      "<b class='bold_css'><i class='italic_css'>hello world</i></b>\n"
     ]
    }
   ],
   "source": [
    "def makeHtmlTag(tag, *args, **kwds):\n",
    "    def real_decorator(fn):\n",
    "        css_class = \" class='{0}'\".format(kwds[\"css_class\"]) \\\n",
    "            if \"css_class\" in kwds else \"\"\n",
    "\n",
    "        def wrapped(*args, **kwds):\n",
    "            return \"<\"+tag+css_class+\">\" + fn(*args, **kwds) + \"</\"+tag+\">\"\n",
    "        return wrapped\n",
    "    return real_decorator\n",
    "\n",
    "\n",
    "@makeHtmlTag(tag=\"b\", css_class=\"bold_css\")\n",
    "@makeHtmlTag(tag=\"i\", css_class=\"italic_css\")\n",
    "def hello():\n",
    "    return \"hello world\"\n",
    "\n",
    "\n",
    "print(hello())"
   ]
  },
  {
   "cell_type": "markdown",
   "metadata": {},
   "source": [
    "## `class`式的 Decorator"
   ]
  },
  {
   "cell_type": "code",
   "execution_count": 8,
   "metadata": {
    "ExecuteTime": {
     "end_time": "2018-03-31T08:06:45.247524Z",
     "start_time": "2018-03-31T08:06:45.234521Z"
    },
    "scrolled": true
   },
   "outputs": [
    {
     "name": "stdout",
     "output_type": "stream",
     "text": [
      "inside myDecorator.__init__()\n",
      "Finished decorating aFunction()\n",
      "inside aFunction()\n",
      "inside myDecorator.__call__()\n"
     ]
    }
   ],
   "source": [
    "class myDecorator(object):\n",
    "\n",
    "    def __init__(self, fn):\n",
    "        print(\"inside myDecorator.__init__()\")\n",
    "        self.fn = fn\n",
    "\n",
    "    def __call__(self):\n",
    "        self.fn()\n",
    "        print(\"inside myDecorator.__call__()\")\n",
    "\n",
    "\n",
    "@myDecorator\n",
    "def aFunction():\n",
    "    print(\"inside aFunction()\")\n",
    "\n",
    "\n",
    "print(\"Finished decorating aFunction()\")\n",
    "aFunction()"
   ]
  },
  {
   "cell_type": "markdown",
   "metadata": {},
   "source": [
    "## 用 Decorator 设置函数的调用参数\n",
    "\n",
    "你有三种方法可以干这个事：\n",
    "### 第一种: `**kwargs`\n",
    "这种方法 decorator 会在 `kwargs` 中注入参数。"
   ]
  },
  {
   "cell_type": "code",
   "execution_count": 16,
   "metadata": {
    "ExecuteTime": {
     "end_time": "2018-03-31T11:45:05.586902Z",
     "start_time": "2018-03-31T11:45:05.576925Z"
    }
   },
   "outputs": [
    {
     "name": "stdout",
     "output_type": "stream",
     "text": [
      "Hello!\n"
     ]
    }
   ],
   "source": [
    "def decorate_A(function):\n",
    "    def wrap_function(*args, **kwargs):\n",
    "        kwargs['str'] = 'Hello!'\n",
    "        return function(*args, **kwargs)\n",
    "    return wrap_function\n",
    "\n",
    "\n",
    "@decorate_A\n",
    "def print_message_A(*args, **kwargs):\n",
    "    print(kwargs['str'])\n",
    "\n",
    "\n",
    "print_message_A()"
   ]
  },
  {
   "cell_type": "markdown",
   "metadata": {},
   "source": [
    "### 第二种，约定好参数，直接修改参数"
   ]
  },
  {
   "cell_type": "code",
   "execution_count": 17,
   "metadata": {
    "ExecuteTime": {
     "end_time": "2018-03-31T11:46:58.844438Z",
     "start_time": "2018-03-31T11:46:58.830411Z"
    }
   },
   "outputs": [
    {
     "name": "stdout",
     "output_type": "stream",
     "text": [
      "Hello!\n"
     ]
    }
   ],
   "source": [
    "def decorate_B(function):\n",
    "    def wrap_function(*args, **kwargs):\n",
    "        str_ = 'Hello!'\n",
    "        return function(str_, *args, **kwargs)\n",
    "    return wrap_function\n",
    "\n",
    "\n",
    "@decorate_B\n",
    "def print_message_B(str_, *args, **kwargs):\n",
    "    print(str_)\n",
    "\n",
    "\n",
    "print_message_B()"
   ]
  },
  {
   "cell_type": "markdown",
   "metadata": {},
   "source": [
    "### 第三种，通过 `*args` 注入"
   ]
  },
  {
   "cell_type": "code",
   "execution_count": 15,
   "metadata": {
    "ExecuteTime": {
     "end_time": "2018-03-31T11:44:29.124222Z",
     "start_time": "2018-03-31T11:44:29.109218Z"
    }
   },
   "outputs": [
    {
     "name": "stdout",
     "output_type": "stream",
     "text": [
      "Hello!\n"
     ]
    }
   ],
   "source": [
    "def decorate_C(function):\n",
    "    def wrap_function(*args, **kwargs):\n",
    "        str_ = 'Hello!'\n",
    "        #args.insert(1, str)\n",
    "        args = args + (str,)\n",
    "        return function(*args, **kwargs)\n",
    "    return wrap_function\n",
    "\n",
    "\n",
    "class Printer:\n",
    "    @decorate_C\n",
    "    def print_message(self, str_, *args, **kwargs):\n",
    "        print(str_)\n",
    "\n",
    "\n",
    "p = Printer()\n",
    "p.print_message()"
   ]
  },
  {
   "cell_type": "markdown",
   "metadata": {},
   "source": [
    "## Decorator的副作用\n",
    "如果你查询一下`foo.__name__`的话，你会发现其输出的是 “wrapper”，而不是我们期望的 “foo”，这会给我们的程序埋一些坑。所以，Python 的`functool`包中提供了一个叫`wrap`的 decorator 来消除这样的副作用。下面是我们新版本的 `hello.py`。"
   ]
  },
  {
   "cell_type": "code",
   "execution_count": 25,
   "metadata": {
    "ExecuteTime": {
     "end_time": "2018-03-31T11:55:47.658571Z",
     "start_time": "2018-03-31T11:55:47.638623Z"
    },
    "scrolled": false
   },
   "outputs": [
    {
     "name": "stdout",
     "output_type": "stream",
     "text": [
      "hello, foo\n",
      "I am foo\n",
      "goodby, foo\n",
      "______________________________\n",
      "wrapper\n",
      "______________________________\n",
      "None\n"
     ]
    }
   ],
   "source": [
    "from functools import wraps\n",
    "\n",
    "\n",
    "def hello(fn):\n",
    "    def wrapper():\n",
    "        print(\"hello, %s\" % fn.__name__)\n",
    "        fn()\n",
    "        print(\"goodby, %s\" % fn.__name__)\n",
    "    return wrapper\n",
    "\n",
    "\n",
    "@hello\n",
    "def foo():\n",
    "    '''foo help doc'''\n",
    "    print(\"I am foo\")\n",
    "\n",
    "\n",
    "foo()\n",
    "print(30*'_')\n",
    "print(foo.__name__)  # 输出 wrapper\n",
    "\n",
    "print(30*'_')\n",
    "print(foo.__doc__)  # 输出 None"
   ]
  },
  {
   "cell_type": "markdown",
   "metadata": {
    "ExecuteTime": {
     "end_time": "2018-03-31T11:55:39.219591Z",
     "start_time": "2018-03-31T11:55:39.202584Z"
    }
   },
   "source": [
    "当然，即使是你用了`functools`的`wraps`，也不能完全消除这样的副作用。\n",
    "看下面这个示例：\n",
    "\n",
    "```py\n",
    "from inspect import getmembers, getargspec\n",
    "from functools import wraps\n",
    "\n",
    "\n",
    "def wraps_decorator(f):\n",
    "    @wraps(f)\n",
    "    def wraps_wrapper(*args, **kwargs):\n",
    "        return f(*args, **kwargs)\n",
    "    return wraps_wrapper\n",
    "\n",
    "\n",
    "class SomeClass(object):\n",
    "    @wraps_decorator\n",
    "    def method(self, x, y):\n",
    "        pass\n",
    "\n",
    "\n",
    "obj = SomeClass()\n",
    "for name, func in getmembers(obj, predicate=inspect.ismethod):\n",
    "    print(\"Member Name: %s\" % name)\n",
    "    print(\"Func Name: %s\" % func.__name__)\n",
    "    print(\"Args: %s\" % getargspec(func)[0])\n",
    "\n",
    "# 输出：\n",
    "# Member Name: method\n",
    "# Func Name: method\n",
    "# Args: []\n",
    "```\n",
    "你会发现，即使是你你用了`functools`的`wraps`，你在用`getargspec`时，参数也不见了。\n",
    "要修正这一问，我们还得用 Python 的反射来解决，下面是相关的代码：\n",
    "```py\n",
    "def get_true_argspec(method):\n",
    "    argspec = inspect.getargspec(method)\n",
    "    args = argspec[0]\n",
    "    if args and args[0] == 'self':\n",
    "        return argspec\n",
    "    if hasattr(method, '__func__'):\n",
    "        method = method.__func__\n",
    "    if not hasattr(method, 'func_closure') or method.__closure__ is None:\n",
    "        raise Exception(\"No closure for method.\")\n",
    "\n",
    "    method = method.__closure__[0].cell_contents\n",
    "    return get_true_argspec(method)\n",
    "```\n",
    "当然，我相信大多数人的程序都不会去`getargspec`。所以，用`functools`的`wraps`应该够用了。\n",
    "\n",
    "## 一些 decorator 的示例\n",
    "\n",
    "### 给函数调用做缓存\n",
    "这个例实在是太经典了，整个网上都用这个例子做 decorator 的经典范例。"
   ]
  },
  {
   "cell_type": "code",
   "execution_count": 27,
   "metadata": {
    "ExecuteTime": {
     "end_time": "2018-03-31T12:06:12.354883Z",
     "start_time": "2018-03-31T12:06:12.336886Z"
    }
   },
   "outputs": [],
   "source": [
    "from functools import wraps\n",
    "\n",
    "\n",
    "def memo(fn):\n",
    "    cache = {}\n",
    "    miss = object()\n",
    "\n",
    "    @wraps(fn)\n",
    "    def wrapper(*args):\n",
    "        result = cache.get(args, miss)\n",
    "        if result is miss:\n",
    "            result = fn(*args)\n",
    "            cache[args] = result\n",
    "        return result\n",
    "\n",
    "    return wrapper\n",
    "\n",
    "\n",
    "@memo\n",
    "def fib(n):\n",
    "    if n < 2:\n",
    "        return n\n",
    "    return fib(n - 1) + fib(n - 2)"
   ]
  },
  {
   "cell_type": "markdown",
   "metadata": {},
   "source": [
    "上面这个例子中，是一个斐波拉契数例的递归算法。我们知道，这个递归是相当没有效率的，因为会重复调用。比如：我们要计算`fib(5)`，于是其分解成`fib(4) + fib(3)`，而`fib(4)`分解成`fib(3)+fib(2)`，`fib(3)`又分解成`fib(2)+fib(1)`…… 你可看到，基本上来说，`fib(3), fib(2), fib(1)`在整个递归过程中被调用了两次。\n",
    "\n",
    "而我们用 decorator，在调用函数前查询一下缓存，如果没有才调用了，有了就从缓存中返回值。一下子，这个递归从二叉树式的递归成了线性的递归。\n",
    "\n",
    "### Profiler的例子\n",
    "这个例子没什么高深的，就是实用一些。"
   ]
  },
  {
   "cell_type": "code",
   "execution_count": 28,
   "metadata": {
    "ExecuteTime": {
     "end_time": "2018-03-31T12:09:43.282153Z",
     "start_time": "2018-03-31T12:09:43.266180Z"
    }
   },
   "outputs": [],
   "source": [
    "import cProfile, pstats, io\n",
    "\n",
    "\n",
    "def profiler(func):\n",
    "    def wrapper(*args, **kwargs):\n",
    "        datafn = func.__name__ + \".profile\"  # Name the data file\n",
    "        prof = cProfile.Profile()\n",
    "        retval = prof.runcall(func, *args, **kwargs)\n",
    "        #prof.dump_stats(datafn)\n",
    "        s = io.StringIO()\n",
    "        sortby = 'cumulative'\n",
    "        ps = pstats.Stats(prof, stream=s).sort_stats(sortby)\n",
    "        ps.print_stats()\n",
    "        print(s.getvalue())\n",
    "        return retval\n",
    "\n",
    "    return wrapper"
   ]
  },
  {
   "cell_type": "markdown",
   "metadata": {},
   "source": [
    "### 注册回调函数\n",
    "下面这个示例展示了通过 URL 的路由来调用相关注册的函数示例："
   ]
  },
  {
   "cell_type": "code",
   "execution_count": 29,
   "metadata": {
    "ExecuteTime": {
     "end_time": "2018-03-31T12:10:24.276910Z",
     "start_time": "2018-03-31T12:10:24.236903Z"
    },
    "scrolled": true
   },
   "outputs": [
    {
     "name": "stdout",
     "output_type": "stream",
     "text": [
      "This is the main page.\n",
      "This is the next page.\n"
     ]
    }
   ],
   "source": [
    "class MyApp():\n",
    "    def __init__(self):\n",
    "        self.func_map = {}\n",
    "\n",
    "    def register(self, name):\n",
    "        def func_wrapper(func):\n",
    "            self.func_map[name] = func\n",
    "            return func\n",
    "\n",
    "        return func_wrapper\n",
    "\n",
    "    def call_method(self, name=None):\n",
    "        func = self.func_map.get(name, None)\n",
    "        if func is None:\n",
    "            raise Exception(\"No function registered against - \" + str(name))\n",
    "        return func()\n",
    "\n",
    "\n",
    "app = MyApp()\n",
    "\n",
    "\n",
    "@app.register('/')\n",
    "def main_page_func():\n",
    "    return \"This is the main page.\"\n",
    "\n",
    "\n",
    "@app.register('/next_page')\n",
    "def next_page_func():\n",
    "    return \"This is the next page.\"\n",
    "\n",
    "\n",
    "print(app.call_method('/'))\n",
    "print(app.call_method('/next_page'))"
   ]
  },
  {
   "cell_type": "markdown",
   "metadata": {},
   "source": [
    "注意：\n",
    "1. 上面这个示例中，用类的实例来做decorator。\n",
    "2. decorator 类中没有 `__call__()`，但是 wrapper 返回了原函数。所以，原函数没有发生任何变化。\n",
    "\n",
    "### 给函数打日志\n",
    "下面这个示例演示了一个 `logger` 的 decorator，这个 decorator 输出了函数名，参数，返回值，和运行时间。"
   ]
  },
  {
   "cell_type": "code",
   "execution_count": 31,
   "metadata": {
    "ExecuteTime": {
     "end_time": "2018-03-31T12:12:45.616848Z",
     "start_time": "2018-03-31T12:12:44.989847Z"
    }
   },
   "outputs": [
    {
     "name": "stdout",
     "output_type": "stream",
     "text": [
      "function      = multipy\n",
      "    arguments = (2, 10) {}\n",
      "    return    = 20\n",
      "    time      = 0.000000 sec\n",
      "20\n",
      "function      = sum_num\n",
      "    arguments = (100,) {}\n",
      "    return    = 5050\n",
      "    time      = 0.000000 sec\n",
      "5050\n",
      "function      = sum_num\n",
      "    arguments = (10000000,) {}\n",
      "    return    = 50000005000000\n",
      "    time      = 0.588030 sec\n",
      "50000005000000\n"
     ]
    }
   ],
   "source": [
    "from functools import wraps\n",
    "from time import time\n",
    "\n",
    "def logger(fn):\n",
    "    @wraps(fn)\n",
    "    def wrapper(*args, **kwargs):\n",
    "        ts = time()\n",
    "        result = fn(*args, **kwargs)\n",
    "        te = time()\n",
    "        print(\"function      = {0}\".format(fn.__name__))\n",
    "        print(\"    arguments = {0} {1}\".format(args, kwargs))\n",
    "        print(\"    return    = {0}\".format(result))\n",
    "        print(\"    time      = %.6f sec\" % (te - ts))\n",
    "        return result\n",
    "\n",
    "    return wrapper\n",
    "\n",
    "\n",
    "@logger\n",
    "def multipy(x, y):\n",
    "    return x * y\n",
    "\n",
    "\n",
    "@logger\n",
    "def sum_num(n):\n",
    "    s = 0\n",
    "    for i in range(n + 1):\n",
    "        s += i\n",
    "    return s\n",
    "\n",
    "\n",
    "print(multipy(2, 10))\n",
    "print(sum_num(100))\n",
    "print(sum_num(10000000))"
   ]
  },
  {
   "cell_type": "markdown",
   "metadata": {},
   "source": [
    "上面那个打日志还是有点粗糙，让我们看一个更好一点的（带`log level`参数的）："
   ]
  },
  {
   "cell_type": "code",
   "execution_count": 34,
   "metadata": {
    "ExecuteTime": {
     "end_time": "2018-03-31T12:15:01.386748Z",
     "start_time": "2018-03-31T12:15:00.762751Z"
    }
   },
   "outputs": [
    {
     "name": "stdout",
     "output_type": "stream",
     "text": [
      "function      = multipy\n",
      "    arguments = (2, 10) {}\n",
      "    return    = 20\n",
      "    time      = 0.000000 sec\n",
      "20\n",
      "function      = sum_num\n",
      "    arguments = (100,) {}\n",
      "    return    = 5050\n",
      "    time      = 0.000000 sec\n",
      "5050\n",
      "function      = sum_num\n",
      "    arguments = (10000000,) {}\n",
      "    return    = 50000005000000\n",
      "    time      = 0.591047 sec\n",
      "50000005000000\n"
     ]
    }
   ],
   "source": [
    "import inspect\n",
    "from time import time\n",
    "\n",
    "\n",
    "def get_line_number():\n",
    "    return inspect.currentframe().f_back.f_back.f_lineno\n",
    "\n",
    "\n",
    "def logger(loglevel):\n",
    "    def log_decorator(fn):\n",
    "        @wraps(fn)\n",
    "        def wrapper(*args, **kwargs):\n",
    "            ts = time()\n",
    "            result = fn(*args, **kwargs)\n",
    "            te = time()\n",
    "            print(\"function   = \" + fn.__name__, end=' ')\n",
    "            print(\"    arguments = {0} {1}\".format(args, kwargs))\n",
    "            print(\"    return    = {0}\".format(result))\n",
    "            print(\"    time      = %.6f sec\" % (te - ts))\n",
    "            if (loglevel == 'debug'):\n",
    "                print(\"    called_from_line : \" + str(get_line_number()))\n",
    "            return result\n",
    "\n",
    "        return wrapper\n",
    "\n",
    "    return log_decorator\n",
    "\n",
    "\n",
    "print(multipy(2, 10))\n",
    "print(sum_num(100))\n",
    "print(sum_num(10000000))"
   ]
  },
  {
   "cell_type": "markdown",
   "metadata": {},
   "source": [
    "但是，上面这个带log level参数的有两具不好的地方，\n",
    "1. `log level`不是`debug`的时候，还是要计算函数调用的时间。\n",
    "2. 不同`level`的要写在一起，不易读。\n",
    "\n",
    "我们再接着改进："
   ]
  },
  {
   "cell_type": "code",
   "execution_count": 36,
   "metadata": {
    "ExecuteTime": {
     "end_time": "2018-03-31T12:18:58.676203Z",
     "start_time": "2018-03-31T12:18:58.030186Z"
    }
   },
   "outputs": [
    {
     "name": "stdout",
     "output_type": "stream",
     "text": [
      "function      = multipy\n",
      "    arguments = (2, 10) {}\n",
      "    return    = 20\n",
      "    time      = 0.000000 sec\n",
      "20\n",
      "function      = sum_num\n",
      "    arguments = (100,) {}\n",
      "    return    = 5050\n",
      "    time      = 0.000000 sec\n",
      "5050\n",
      "function      = sum_num\n",
      "    arguments = (10000000,) {}\n",
      "    return    = 50000005000000\n",
      "    time      = 0.582037 sec\n",
      "50000005000000\n"
     ]
    }
   ],
   "source": [
    "import inspect\n",
    "from time import time\n",
    "\n",
    "\n",
    "def advance_logger(loglevel):\n",
    "    def get_line_number():\n",
    "        return inspect.currentframe().f_back.f_back.f_lineno\n",
    "\n",
    "    def _basic_log(fn, result, *args, **kwargs):\n",
    "        print(\"function   = \" + fn.__name__, end=' ')\n",
    "        print(\"    arguments = {0} {1}\".format(args, kwargs))\n",
    "        print(\"    return    = {0}\".format(result))\n",
    "\n",
    "    def info_log_decorator(fn):\n",
    "        @wraps(fn)\n",
    "        def wrapper(*args, **kwargs):\n",
    "            result = fn(*args, **kwargs)\n",
    "            _basic_log(fn, result, args, kwargs)\n",
    "\n",
    "        return wrapper\n",
    "\n",
    "    def debug_log_decorator(fn):\n",
    "        @wraps(fn)\n",
    "        def wrapper(*args, **kwargs):\n",
    "            ts = time()\n",
    "            result = fn(*args, **kwargs)\n",
    "            te = time()\n",
    "            _basic_log(fn, result, args, kwargs)\n",
    "            print(\"    time      = %.6f sec\" % (te - ts))\n",
    "            print(\"    called_from_line : \" + str(get_line_number()))\n",
    "\n",
    "        return wrapper\n",
    "\n",
    "    if loglevel is \"debug\":\n",
    "        return debug_log_decorator\n",
    "    else:\n",
    "        return info_log_decorator\n",
    "\n",
    "\n",
    "print(multipy(2, 10))\n",
    "print(sum_num(100))\n",
    "print(sum_num(10000000))"
   ]
  },
  {
   "cell_type": "markdown",
   "metadata": {},
   "source": [
    "你可以看到两点，\n",
    "1. 我们分了两个`log level`，一个是`info`的，一个是 debug 的，然后我们在外尾根据不同的参数返回不同的 decorator。\n",
    "2. 我们把`info`和`debug`中的相同的代码抽到了一个叫`_basic_log`的函数里，DRY原则。\n",
    "\n",
    "### 线程异步\n",
    "下面量个非常简单的异步执行的 decorator："
   ]
  },
  {
   "cell_type": "code",
   "execution_count": 38,
   "metadata": {
    "ExecuteTime": {
     "end_time": "2018-03-31T12:22:41.762440Z",
     "start_time": "2018-03-31T12:22:41.684440Z"
    }
   },
   "outputs": [
    {
     "name": "stdout",
     "output_type": "stream",
     "text": [
      "starting print_somedataback in main\n",
      "\n",
      "starting print_somedataback in main\n",
      "\n"
     ]
    }
   ],
   "source": [
    "from threading import Thread\n",
    "from functools import wraps\n",
    "\n",
    "\n",
    "def async(func):\n",
    "    @wraps(func)\n",
    "    def async_func(*args, **kwargs):\n",
    "        func_hl = Thread(target=func, args=args, kwargs=kwargs)\n",
    "        func_hl.start()\n",
    "        return func_hl\n",
    "\n",
    "    return async_func\n",
    "\n",
    "\n",
    "if __name__ == '__main__':\n",
    "    from time import sleep\n",
    "\n",
    "    @async\n",
    "    def print_somedata():\n",
    "        print('starting print_somedata')\n",
    "        sleep(2)\n",
    "        print('print_somedata: 2 sec passed')\n",
    "        sleep(2)\n",
    "        print('print_somedata: 2 sec passed')\n",
    "        sleep(2)\n",
    "        print('finished print_somedata')\n",
    "\n",
    "    def main():\n",
    "        print_somedata()\n",
    "        print('back in main')\n",
    "        print_somedata()\n",
    "        print('back in main')\n",
    "\n",
    "    main()"
   ]
  },
  {
   "cell_type": "markdown",
   "metadata": {},
   "source": [
    "# 函数式编程的准则\n",
    "**不依赖于外部的数据，而且也不改变外部数据的值，而是返回一个新的值给你。**"
   ]
  },
  {
   "cell_type": "code",
   "execution_count": 2,
   "metadata": {
    "ExecuteTime": {
     "end_time": "2018-03-31T12:44:55.465073Z",
     "start_time": "2018-03-31T12:44:55.458100Z"
    }
   },
   "outputs": [
    {
     "name": "stdout",
     "output_type": "stream",
     "text": [
      "7\n",
      "10\n"
     ]
    }
   ],
   "source": [
    "def inc(x):\n",
    "    def incx(y):\n",
    "        return x + y\n",
    "    return incx\n",
    "\n",
    "\n",
    "inc2 = inc(2)\n",
    "inc5 = inc(5)\n",
    "\n",
    "print(inc2(5))  # 输出 7\n",
    "print(inc5(5))  # 输出 10"
   ]
  },
  {
   "cell_type": "markdown",
   "metadata": {},
   "source": [
    "函数式编程的理念：**把函数当成变量来用，关注于描述问题而不是怎么实现**，这样可以让代码更易读\n",
    "\n",
    "# Map & Reduce\n",
    "在函数式编程中，我们不应该用循环迭代的方式，我们应该用更为高级的方法，如下所示的 Python 代码"
   ]
  },
  {
   "cell_type": "code",
   "execution_count": 3,
   "metadata": {
    "ExecuteTime": {
     "end_time": "2018-03-31T12:50:13.259924Z",
     "start_time": "2018-03-31T12:50:13.254931Z"
    }
   },
   "outputs": [
    {
     "name": "stdout",
     "output_type": "stream",
     "text": [
      "[3, 4, 9]\n"
     ]
    }
   ],
   "source": [
    "name_len = list(map(len, [\"hao\", \"chen\", \"coolshell\"]))\n",
    "print(name_len)"
   ]
  },
  {
   "cell_type": "code",
   "execution_count": 4,
   "metadata": {
    "ExecuteTime": {
     "end_time": "2018-03-31T12:50:14.104884Z",
     "start_time": "2018-03-31T12:50:14.087882Z"
    }
   },
   "outputs": [
    {
     "data": {
      "text/plain": [
       "[list, str, int, dict]"
      ]
     },
     "execution_count": 4,
     "metadata": {},
     "output_type": "execute_result"
    }
   ],
   "source": [
    "list(map(type, [[2, 4], 'df', 90, {'e': 5}]))"
   ]
  },
  {
   "cell_type": "markdown",
   "metadata": {},
   "source": [
    "**这样的代码是在描述要干什么，而不是怎么干。**"
   ]
  },
  {
   "cell_type": "code",
   "execution_count": 14,
   "metadata": {
    "ExecuteTime": {
     "end_time": "2018-03-31T08:30:28.295321Z",
     "start_time": "2018-03-31T08:30:28.288289Z"
    }
   },
   "outputs": [
    {
     "name": "stdout",
     "output_type": "stream",
     "text": [
      "['HAO', 'CHEN', 'COOLSHELL']\n"
     ]
    }
   ],
   "source": [
    "def toUpper(item):\n",
    "    return item.upper()\n",
    "\n",
    "\n",
    "upper_name = list(map(toUpper, [\"hao\", \"chen\", \"coolshell\"]))\n",
    "print(upper_name)"
   ]
  },
  {
   "cell_type": "markdown",
   "metadata": {},
   "source": [
    "过程式编程，就显得不是那么清晰了："
   ]
  },
  {
   "cell_type": "code",
   "execution_count": 15,
   "metadata": {
    "ExecuteTime": {
     "end_time": "2018-03-31T08:32:46.100200Z",
     "start_time": "2018-03-31T08:32:46.095170Z"
    }
   },
   "outputs": [],
   "source": [
    "upname = ['HAO', 'CHEN', 'COOLSHELL']\n",
    "lowname = []\n",
    "for i in range(len(upname)):\n",
    "    lowname.append(upname[i].lower())"
   ]
  },
  {
   "cell_type": "markdown",
   "metadata": {},
   "source": [
    "## 列表推导式"
   ]
  },
  {
   "cell_type": "code",
   "execution_count": 16,
   "metadata": {
    "ExecuteTime": {
     "end_time": "2018-03-31T08:34:01.492383Z",
     "start_time": "2018-03-31T08:34:01.486362Z"
    }
   },
   "outputs": [
    {
     "name": "stdout",
     "output_type": "stream",
     "text": [
      "[0, 1, 4, 9, 16, 25, 36, 49, 64]\n"
     ]
    }
   ],
   "source": [
    "squares = [x * x for x in range(9)]\n",
    "print(squares)"
   ]
  },
  {
   "cell_type": "markdown",
   "metadata": {},
   "source": [
    "## `lambda` 表达式\n",
    "\n",
    "下面的`lambda`表达式中有两个参数，也就是说每次从列表中取两个值，计算结果后把这个值再放回去，下面的表达式相当于：`((((1+2)+3)+4)+5)` "
   ]
  },
  {
   "cell_type": "code",
   "execution_count": 9,
   "metadata": {
    "ExecuteTime": {
     "end_time": "2018-03-31T12:56:59.270822Z",
     "start_time": "2018-03-31T12:56:59.265845Z"
    }
   },
   "outputs": [
    {
     "name": "stdout",
     "output_type": "stream",
     "text": [
      "15\n"
     ]
    }
   ],
   "source": [
    "from functools import reduce\n",
    "print(reduce(lambda x, y: x+y, [1, 2, 3, 4, 5]))"
   ]
  },
  {
   "cell_type": "code",
   "execution_count": 28,
   "metadata": {
    "ExecuteTime": {
     "end_time": "2018-03-31T13:04:38.104424Z",
     "start_time": "2018-03-31T13:04:38.097422Z"
    }
   },
   "outputs": [
    {
     "data": {
      "text/plain": [
       "[1, 2, 3, '56g']"
      ]
     },
     "execution_count": 28,
     "metadata": {},
     "output_type": "execute_result"
    }
   ],
   "source": [
    "reduce(lambda x, y: x+y, ([1], [2, 3, '56g']))"
   ]
  },
  {
   "cell_type": "markdown",
   "metadata": {},
   "source": [
    "Python 中的除了`map`和`reduce`外，还有一些别的如`filter`, `find`, `all`, `any`的函数做辅助（其它函数式的语言也有），可以让你的代码更简洁，更易读。 "
   ]
  },
  {
   "cell_type": "code",
   "execution_count": 39,
   "metadata": {
    "ExecuteTime": {
     "end_time": "2018-03-31T13:13:21.670762Z",
     "start_time": "2018-03-31T13:13:21.663760Z"
    }
   },
   "outputs": [
    {
     "data": {
      "text/plain": [
       "[4.0, 3.5]"
      ]
     },
     "execution_count": 39,
     "metadata": {},
     "output_type": "execute_result"
    }
   ],
   "source": [
    "def is_float(x):\n",
    "    return isinstance(x, float)\n",
    "    \n",
    "list(filter(is_float, [1, 3, 4., '4', 3.5]))"
   ]
  },
  {
   "cell_type": "code",
   "execution_count": 40,
   "metadata": {
    "ExecuteTime": {
     "end_time": "2018-03-31T13:13:51.761915Z",
     "start_time": "2018-03-31T13:13:51.756897Z"
    }
   },
   "outputs": [
    {
     "name": "stdout",
     "output_type": "stream",
     "text": [
      "4.0\n",
      "3.5\n"
     ]
    }
   ],
   "source": [
    "for i in filter(is_float, [1, 3, 4., '4', 3.5]):\n",
    "    print(i)"
   ]
  },
  {
   "cell_type": "code",
   "execution_count": 52,
   "metadata": {
    "ExecuteTime": {
     "end_time": "2018-03-31T13:22:35.515338Z",
     "start_time": "2018-03-31T13:22:35.506350Z"
    }
   },
   "outputs": [
    {
     "name": "stdout",
     "output_type": "stream",
     "text": [
      "True\n",
      "True\n",
      "True\n",
      "False\n",
      "False\n",
      "False\n",
      "False\n"
     ]
    }
   ],
   "source": [
    "print(all([1, 2, 3]))\n",
    "print(all(''))\n",
    "print(all([]))\n",
    "print(all(['']))\n",
    "print(all([1, 0]))\n",
    "print(all([1, 3, []]))\n",
    "print(all(range(4)))"
   ]
  },
  {
   "cell_type": "code",
   "execution_count": 56,
   "metadata": {
    "ExecuteTime": {
     "end_time": "2018-03-31T13:23:27.228311Z",
     "start_time": "2018-03-31T13:23:27.223350Z"
    }
   },
   "outputs": [
    {
     "data": {
      "text/plain": [
       "True"
      ]
     },
     "execution_count": 56,
     "metadata": {},
     "output_type": "execute_result"
    }
   ],
   "source": [
    "any([1, 3, 0])"
   ]
  },
  {
   "cell_type": "markdown",
   "metadata": {},
   "source": [
    "## 更复杂的例子\n",
    "### 计算数组中正数的平均值\n",
    "\n",
    "先用过程式编程"
   ]
  },
  {
   "cell_type": "code",
   "execution_count": 18,
   "metadata": {
    "ExecuteTime": {
     "end_time": "2018-03-31T08:40:43.226828Z",
     "start_time": "2018-03-31T08:40:43.213827Z"
    }
   },
   "outputs": [
    {
     "name": "stdout",
     "output_type": "stream",
     "text": [
      "5.0\n"
     ]
    }
   ],
   "source": [
    "num = [2, -5, 9, 7, -2, 5, 3, 1, 0, -3, 8]\n",
    "positive_num_cnt = 0\n",
    "positive_num_sum = 0\n",
    "for i in range(len(num)):\n",
    "    if num[i] > 0:\n",
    "        positive_num_cnt += 1\n",
    "        positive_num_sum += num[i]\n",
    "\n",
    "if positive_num_cnt > 0:\n",
    "    average = positive_num_sum / positive_num_cnt\n",
    "\n",
    "print(average)"
   ]
  },
  {
   "cell_type": "markdown",
   "metadata": {},
   "source": [
    "如果用函数式编程，这个例子可以写成这样："
   ]
  },
  {
   "cell_type": "code",
   "execution_count": 58,
   "metadata": {
    "ExecuteTime": {
     "end_time": "2018-03-31T13:28:25.618222Z",
     "start_time": "2018-03-31T13:28:25.613230Z"
    }
   },
   "outputs": [],
   "source": [
    "from functools import reduce\n",
    "num = [2, -5, 9, 7, -2, 5, 3, 1, 0, -3, 8]\n",
    "positive_num = [x for x in num if x > 0]\n",
    "average = reduce(lambda x, y: x+y, positive_num) / len(positive_num)"
   ]
  },
  {
   "cell_type": "markdown",
   "metadata": {},
   "source": [
    "前面提到过多次的函数式编程关注的是：describe what to do, rather than how to do it. 于是，我们把以前的过程式的编程范式叫做 [Imperative Programming](https://en.wikipedia.org/wiki/Imperative_programming) – 指令式编程，而把函数式的这种范式叫做 [Declarative Programming](https://en.wikipedia.org/wiki/Declarative_programming) – 声明式编程。"
   ]
  },
  {
   "cell_type": "markdown",
   "metadata": {},
   "source": [
    "### 情境：给定$3$辆车有$70\\%$的概率可以往前走一步，一共有$5$次机会，我们打出每一次这$3$辆车的前行状态："
   ]
  },
  {
   "cell_type": "code",
   "execution_count": 60,
   "metadata": {
    "ExecuteTime": {
     "end_time": "2018-03-31T13:31:16.739279Z",
     "start_time": "2018-03-31T13:31:16.727271Z"
    }
   },
   "outputs": [
    {
     "name": "stdout",
     "output_type": "stream",
     "text": [
      "**********\n",
      "--\n",
      "--\n",
      "--\n",
      "**********\n",
      "---\n",
      "--\n",
      "--\n",
      "**********\n",
      "----\n",
      "---\n",
      "---\n",
      "**********\n",
      "-----\n",
      "----\n",
      "---\n",
      "**********\n",
      "------\n",
      "----\n",
      "----\n"
     ]
    }
   ],
   "source": [
    "from random import random\n",
    "\n",
    "time = 5\n",
    "car_positions = [1, 1, 1]\n",
    "\n",
    "while time:\n",
    "    # decrease time\n",
    "    time -= 1\n",
    "\n",
    "    print(10*'*')\n",
    "    for i in range(len(car_positions)):\n",
    "        # move car\n",
    "        if random() > 0.3:\n",
    "            car_positions[i] += 1\n",
    "\n",
    "        # draw car\n",
    "        print('-' * car_positions[i])"
   ]
  },
  {
   "cell_type": "markdown",
   "metadata": {},
   "source": [
    "我们可以把这个两重循环变成一些函数模块，这样有利于我们更容易地阅读代码："
   ]
  },
  {
   "cell_type": "code",
   "execution_count": 21,
   "metadata": {
    "ExecuteTime": {
     "end_time": "2018-03-31T08:46:43.741741Z",
     "start_time": "2018-03-31T08:46:43.714736Z"
    }
   },
   "outputs": [
    {
     "name": "stdout",
     "output_type": "stream",
     "text": [
      "\n",
      "-\n",
      "-\n",
      "-\n",
      "\n",
      "--\n",
      "--\n",
      "--\n",
      "\n",
      "---\n",
      "--\n",
      "---\n",
      "\n",
      "----\n",
      "--\n",
      "----\n",
      "\n",
      "-----\n",
      "--\n",
      "----\n"
     ]
    }
   ],
   "source": [
    "from random import random\n",
    "\n",
    "\n",
    "def move_cars():\n",
    "    for i, _ in enumerate(car_positions):\n",
    "        if random() > 0.3:\n",
    "            car_positions[i] += 1\n",
    "\n",
    "\n",
    "def draw_car(car_position):\n",
    "    print('-' * car_position)\n",
    "\n",
    "\n",
    "def run_step_of_race():\n",
    "    global time\n",
    "    time -= 1\n",
    "    move_cars()\n",
    "\n",
    "\n",
    "def draw():\n",
    "    print('')\n",
    "    for car_position in car_positions:\n",
    "        draw_car(car_position)\n",
    "\n",
    "\n",
    "time = 5\n",
    "car_positions = [1, 1, 1]\n",
    "\n",
    "while time:\n",
    "    run_step_of_race()\n",
    "    draw()"
   ]
  },
  {
   "cell_type": "markdown",
   "metadata": {},
   "source": [
    "上面的代码，我们可以从主循环开始，我们可以很清楚地看到程序的主干，因为我们把程序的逻辑分成了几个函数，这样一来，我们的代码逻辑也会变得几个小碎片，于是我们读代码时要考虑的上下文就少了很多，阅读代码也会更容易。不像第一个示例，如果没有注释和说明，你还是需要花些时间理解一下。而**把代码逻辑封装成了函数后，我们就相当于给每个相对独立的程序逻辑取了个名字，于是代码成了自解释的。**\n",
    "\n",
    "但是，你会发现，封装成函数后，这些函数都会依赖于共享的变量来同步其状态。于是，我们在读代码的过程时，每当我们进入到函数里，一量读到访问了一个外部的变量，我们马上要去查看这个变量的上下文，然后还要在大脑里推演这个变量的状态， 我们才知道程序的真正逻辑。也就是说，**这些函数间必需知道其它函数是怎么修改它们之间的共享变量的，所以，这些函数是有状态的。**\n",
    "\n",
    "我们知道，有状态并不是一件很好的事情，无论是对代码重用，还是对代码的并行来说，都是有副作用的。因此，我们要想个方法把这些状态搞掉，于是出现了我们的 `Functional Programming` 的编程范式。下面，我们来看看函数式的方式应该怎么写？"
   ]
  },
  {
   "cell_type": "code",
   "execution_count": 22,
   "metadata": {
    "ExecuteTime": {
     "end_time": "2018-03-31T08:49:25.184397Z",
     "start_time": "2018-03-31T08:49:25.154426Z"
    }
   },
   "outputs": [
    {
     "name": "stdout",
     "output_type": "stream",
     "text": [
      "\n",
      "-\n",
      "-\n",
      "-\n",
      "\n",
      "-\n",
      "--\n",
      "--\n",
      "\n",
      "--\n",
      "--\n",
      "--\n",
      "\n",
      "---\n",
      "---\n",
      "--\n",
      "\n",
      "---\n",
      "----\n",
      "--\n",
      "\n",
      "----\n",
      "-----\n",
      "---\n"
     ]
    }
   ],
   "source": [
    "from random import random\n",
    "\n",
    "\n",
    "def move_cars(car_positions):\n",
    "    return [x + 1 if random() > 0.3 else x for x in car_positions]\n",
    "\n",
    "\n",
    "def output_car(car_position):\n",
    "    return '-' * car_position\n",
    "\n",
    "\n",
    "def run_step_of_race(state):\n",
    "    return {'time': state['time'] - 1,\n",
    "            'car_positions': move_cars(state['car_positions'])}\n",
    "\n",
    "\n",
    "def draw(state):\n",
    "    print('')\n",
    "    print('\\n'.join(map(output_car, state['car_positions'])))\n",
    "\n",
    "\n",
    "def race(state):\n",
    "    draw(state)\n",
    "    if state['time']:\n",
    "        race(run_step_of_race(state))\n",
    "\n",
    "\n",
    "race({'time': 5,\n",
    "      'car_positions': [1, 1, 1]})"
   ]
  },
  {
   "cell_type": "markdown",
   "metadata": {},
   "source": [
    "上面的代码依然把程序的逻辑分成了函数，不过这些函数都是`functional`的。因为它们有三个症状：\n",
    "1. 它们之间没有共享的变量。\n",
    "2. 函数间通过参数和返回值来传递数据。\n",
    "3. 在函数里没有临时变量。\n",
    "\n",
    "我们还可以看到，`for`循环被递归取代了（见`race`函数）—— 递归是函数式编程中带用到的技术，正如前面所说的，**递归的本质就是描述问题是什么。**"
   ]
  },
  {
   "cell_type": "markdown",
   "metadata": {},
   "source": [
    "# `Pipeline`\n",
    "`pipeline` 管道借鉴于`Unix Shell`的管道操作——把若干个命令串起来，前面命令的输出成为后面命令的输入，如此完成一个流式计算。（注：管道绝对是一个伟大的发明，他的设哲学就是**KISS** – 让每个功能就做一件事，并把这件事做到极致，软件或程序的拼装会变得更为简单和直观。这个设计理念影响非常深远，包括今天的 Web Service，云计算，以及大数据的流式计算等等）\n",
    "\n",
    "比如，我们如下的`shell`命令：\n",
    "\n",
    "```sh\n",
    "ps auwwx | awk '{print $2}' | sort -n | xargs echo\n",
    "```\n",
    "\n",
    "如果我们抽象成函数式的语言，就像下面这样：\n",
    "\n",
    "```py\n",
    "xargs(echo, sort(n, awk('print $2', ps(auwwx))))\n",
    "```"
   ]
  },
  {
   "cell_type": "code",
   "execution_count": 62,
   "metadata": {
    "ExecuteTime": {
     "end_time": "2018-03-31T14:23:30.055672Z",
     "start_time": "2018-03-31T14:23:29.999660Z"
    }
   },
   "outputs": [
    {
     "name": "stdout",
     "output_type": "stream",
     "text": [
      "The Number: 6\n",
      "The Number: 12\n",
      "The Number: 18\n",
      "The Number: 24\n",
      "The Number: 30\n"
     ]
    }
   ],
   "source": [
    "class Pipe(object):\n",
    "    def __init__(self, func):\n",
    "        self.func = func\n",
    "\n",
    "    def __ror__(self, other):\n",
    "        def generator():\n",
    "            for obj in other:\n",
    "                if obj is not None:\n",
    "                    yield self.func(obj)\n",
    "        return generator()\n",
    "\n",
    "\n",
    "@Pipe\n",
    "def even_filter(num):\n",
    "    return num if num % 2 == 0 else None\n",
    "\n",
    "\n",
    "@Pipe\n",
    "def multiply_by_three(num):\n",
    "    return num*3\n",
    "\n",
    "\n",
    "@Pipe\n",
    "def convert_to_string(num):\n",
    "    return 'The Number: %s' % num\n",
    "\n",
    "\n",
    "@Pipe\n",
    "def echo(item):\n",
    "    print(item)\n",
    "    return item\n",
    "\n",
    "\n",
    "def force(sqs):\n",
    "    for item in sqs:\n",
    "        pass\n",
    "\n",
    "\n",
    "nums = [1, 2, 3, 4, 5, 6, 7, 8, 9, 10]\n",
    "\n",
    "force(nums | even_filter | multiply_by_three | convert_to_string | echo)"
   ]
  },
  {
   "cell_type": "code",
   "execution_count": 82,
   "metadata": {
    "ExecuteTime": {
     "end_time": "2018-03-31T14:31:00.788469Z",
     "start_time": "2018-03-31T14:31:00.782456Z"
    }
   },
   "outputs": [],
   "source": [
    "@Pipe\n",
    "def g(x):\n",
    "    y = x * 2\n",
    "    print(y)"
   ]
  },
  {
   "cell_type": "code",
   "execution_count": 83,
   "metadata": {
    "ExecuteTime": {
     "end_time": "2018-03-31T14:31:01.475488Z",
     "start_time": "2018-03-31T14:31:01.471470Z"
    }
   },
   "outputs": [
    {
     "name": "stdout",
     "output_type": "stream",
     "text": [
      "4\n",
      "10\n",
      "14\n",
      "16\n"
     ]
    }
   ],
   "source": [
    "force([2, 5, 7, 8]|g)"
   ]
  },
  {
   "cell_type": "code",
   "execution_count": null,
   "metadata": {},
   "outputs": [],
   "source": []
  }
 ],
 "metadata": {
  "kernelspec": {
   "display_name": "Python 3",
   "language": "python",
   "name": "python3"
  },
  "language_info": {
   "codemirror_mode": {
    "name": "ipython",
    "version": 3
   },
   "file_extension": ".py",
   "mimetype": "text/x-python",
   "name": "python",
   "nbconvert_exporter": "python",
   "pygments_lexer": "ipython3",
   "version": "3.6.3"
  },
  "latex_envs": {
   "LaTeX_envs_menu_present": true,
   "autoclose": false,
   "autocomplete": true,
   "bibliofile": "biblio.bib",
   "cite_by": "apalike",
   "current_citInitial": 1,
   "eqLabelWithNumbers": true,
   "eqNumInitial": 1,
   "hotkeys": {
    "equation": "Ctrl-E",
    "itemize": "Ctrl-I"
   },
   "labels_anchors": false,
   "latex_user_defs": false,
   "report_style_numbering": false,
   "user_envs_cfg": false
  },
  "toc": {
   "nav_menu": {},
   "number_sections": true,
   "sideBar": true,
   "skip_h1_title": false,
   "title_cell": "Table of Contents",
   "title_sidebar": "Contents",
   "toc_cell": false,
   "toc_position": {
    "height": "calc(100% - 180px)",
    "left": "10px",
    "top": "150px",
    "width": "182px"
   },
   "toc_section_display": true,
   "toc_window_display": true
  },
  "varInspector": {
   "cols": {
    "lenName": 16,
    "lenType": 16,
    "lenVar": 40
   },
   "kernels_config": {
    "python": {
     "delete_cmd_postfix": "",
     "delete_cmd_prefix": "del ",
     "library": "var_list.py",
     "varRefreshCmd": "print(var_dic_list())"
    },
    "r": {
     "delete_cmd_postfix": ") ",
     "delete_cmd_prefix": "rm(",
     "library": "var_list.r",
     "varRefreshCmd": "cat(var_dic_list()) "
    }
   },
   "types_to_exclude": [
    "module",
    "function",
    "builtin_function_or_method",
    "instance",
    "_Feature"
   ],
   "window_display": false
  }
 },
 "nbformat": 4,
 "nbformat_minor": 2
}
