{
 "cells": [
  {
   "cell_type": "markdown",
   "metadata": {},
   "source": [
    "多进程 Multiprocessing 和多线程 threading 类似, 他们都是在 python 中用来并行运算的. 不过既然有了 threading, 为什么 Python 还要出一个 multiprocessing 呢? 原因很简单, 就是用来弥补 threading 的一些劣势, 比如在 [threading 教程中提到的GIL](https://morvanzhou.github.io/tutorials/python-basic/threading/5-GIL/)."
   ]
  },
  {
   "cell_type": "code",
   "execution_count": 1,
   "metadata": {
    "ExecuteTime": {
     "end_time": "2018-04-03T05:57:45.500998Z",
     "start_time": "2018-04-03T05:57:45.495997Z"
    }
   },
   "outputs": [],
   "source": [
    "import multiprocessing as mp\n",
    "import threading as td"
   ]
  },
  {
   "cell_type": "markdown",
   "metadata": {},
   "source": [
    "# 添加进程 Process \n",
    "\n",
    "## 定义一个被线程和进程调用的函数"
   ]
  },
  {
   "cell_type": "code",
   "execution_count": 2,
   "metadata": {
    "ExecuteTime": {
     "end_time": "2018-04-03T05:58:46.164412Z",
     "start_time": "2018-04-03T05:58:46.161437Z"
    }
   },
   "outputs": [],
   "source": [
    "def job(a, d):\n",
    "    print('aaaaa')"
   ]
  },
  {
   "cell_type": "markdown",
   "metadata": {},
   "source": [
    "## 创建线程和进程 "
   ]
  },
  {
   "cell_type": "code",
   "execution_count": 3,
   "metadata": {
    "ExecuteTime": {
     "end_time": "2018-04-03T05:59:24.024485Z",
     "start_time": "2018-04-03T05:59:24.021517Z"
    }
   },
   "outputs": [],
   "source": [
    "t1 = td.Thread(target=job, args=(1, 2))\n",
    "p1 = mp.Process(target=job, args=(1, 2))"
   ]
  },
  {
   "cell_type": "markdown",
   "metadata": {},
   "source": [
    "注意：Thread 和 Process 的首字母都要大写，被调用的函数没有括号，被调用的函数的参数放在`args(…)`中\n",
    "\n",
    "## 分别启动线程和进程"
   ]
  },
  {
   "cell_type": "code",
   "execution_count": 4,
   "metadata": {
    "ExecuteTime": {
     "end_time": "2018-04-03T06:00:10.189922Z",
     "start_time": "2018-04-03T06:00:10.143984Z"
    }
   },
   "outputs": [
    {
     "name": "stdout",
     "output_type": "stream",
     "text": [
      "aaaaa\n"
     ]
    }
   ],
   "source": [
    "t1.start()\n",
    "p1.start()"
   ]
  },
  {
   "cell_type": "markdown",
   "metadata": {},
   "source": [
    "## 分别连接线程和进程"
   ]
  },
  {
   "cell_type": "code",
   "execution_count": 5,
   "metadata": {
    "ExecuteTime": {
     "end_time": "2018-04-03T06:00:32.539591Z",
     "start_time": "2018-04-03T06:00:32.536552Z"
    }
   },
   "outputs": [],
   "source": [
    "t1.join()\n",
    "p1.join()"
   ]
  },
  {
   "cell_type": "markdown",
   "metadata": {},
   "source": [
    "## 完整的线程和进程创建使用对比代码 "
   ]
  },
  {
   "cell_type": "code",
   "execution_count": 7,
   "metadata": {
    "ExecuteTime": {
     "end_time": "2018-04-03T06:01:17.998100Z",
     "start_time": "2018-04-03T06:01:17.782099Z"
    }
   },
   "outputs": [
    {
     "name": "stdout",
     "output_type": "stream",
     "text": [
      "aaaaa\n"
     ]
    }
   ],
   "source": [
    "import multiprocessing as mp\n",
    "import threading as td\n",
    "\n",
    "\n",
    "def job(a, d):\n",
    "    print('aaaaa')\n",
    "\n",
    "\n",
    "t1 = td.Thread(target=job, args=(1, 2))\n",
    "p1 = mp.Process(target=job, args=(1, 2))\n",
    "t1.start()\n",
    "p1.start()\n",
    "t1.join()\n",
    "p1.join()"
   ]
  },
  {
   "cell_type": "markdown",
   "metadata": {},
   "source": [
    "从上面的使用对比代码可以看出，线程和进程的使用方法相似。\n",
    "## 运用 \n",
    "在运用时需要添加上一个定义`main`函数的语句\n",
    "\n",
    "完整的应用代码："
   ]
  },
  {
   "cell_type": "code",
   "execution_count": 8,
   "metadata": {
    "ExecuteTime": {
     "end_time": "2018-04-03T06:02:40.894486Z",
     "start_time": "2018-04-03T06:02:40.729460Z"
    }
   },
   "outputs": [],
   "source": [
    "import multiprocessing as mp\n",
    "\n",
    "\n",
    "def job(a, d):\n",
    "    print('aaaaa')\n",
    "\n",
    "\n",
    "if __name__ == '__main__':\n",
    "    p1 = mp.Process(target=job, args=(1, 2))\n",
    "    p1.start()\n",
    "    p1.join()"
   ]
  },
  {
   "cell_type": "markdown",
   "metadata": {},
   "source": [
    "运行环境要在 terminal 环境下，可能其他的编辑工具会出现运行结束后没有打印结果。"
   ]
  },
  {
   "cell_type": "markdown",
   "metadata": {},
   "source": [
    "# 存储进程输出 Queue\n",
    "\n",
    "`Queue` 的功能是将每个核或线程的运算结果放在队里中， 等到每个线程或核运行完毕后再从队列中取出结果， 继续加载运算。原因很简单, 多线程调用的函数不能有返回值, 所以使用`Queue`存储多个线程运算的结果：\n",
    "\n",
    "## 把结果放在 Queue 里 \n",
    "定义一个被多线程调用的函数，`q` 就像一个队列，用来保存每次函数运行的结果"
   ]
  },
  {
   "cell_type": "code",
   "execution_count": 9,
   "metadata": {
    "ExecuteTime": {
     "end_time": "2018-04-03T06:05:01.700382Z",
     "start_time": "2018-04-03T06:05:01.696381Z"
    }
   },
   "outputs": [],
   "source": [
    "# 该函数没有返回值！！！\n",
    "def job(q):\n",
    "    res = 0\n",
    "    for i in range(1000):\n",
    "        res += i+i**2+i**3\n",
    "    q.put(res)  # queue"
   ]
  },
  {
   "cell_type": "markdown",
   "metadata": {},
   "source": [
    "## 主函数 \n",
    "定义一个多线程队列，用来存储结果"
   ]
  },
  {
   "cell_type": "code",
   "execution_count": 10,
   "metadata": {
    "ExecuteTime": {
     "end_time": "2018-04-03T06:05:34.293031Z",
     "start_time": "2018-04-03T06:05:34.270067Z"
    }
   },
   "outputs": [],
   "source": [
    "if __name__ == '__main__':\n",
    "    q = mp.Queue()"
   ]
  },
  {
   "cell_type": "markdown",
   "metadata": {},
   "source": [
    "定义两个线程函数，用来处理同一个任务, `args` 的参数只要一个值的时候，参数后面需要加一个逗号，表示`args`是可迭代的，后面可能还有别的参数，不加逗号会出错"
   ]
  },
  {
   "cell_type": "code",
   "execution_count": 11,
   "metadata": {
    "ExecuteTime": {
     "end_time": "2018-04-03T06:06:20.224045Z",
     "start_time": "2018-04-03T06:06:20.220033Z"
    }
   },
   "outputs": [],
   "source": [
    "p1 = mp.Process(target=job, args=(q,))\n",
    "p2 = mp.Process(target=job, args=(q,))"
   ]
  },
  {
   "cell_type": "markdown",
   "metadata": {},
   "source": [
    "### 分别启动、连接两个线程"
   ]
  },
  {
   "cell_type": "code",
   "execution_count": 12,
   "metadata": {
    "ExecuteTime": {
     "end_time": "2018-04-03T06:06:53.378390Z",
     "start_time": "2018-04-03T06:06:53.177446Z"
    }
   },
   "outputs": [],
   "source": [
    "p1.start()\n",
    "p2.start()\n",
    "p1.join()\n",
    "p2.join()"
   ]
  },
  {
   "cell_type": "markdown",
   "metadata": {},
   "source": [
    "上面是分两批处理的，所以这里分两批输出，将结果分别保存\n",
    "\n",
    "```py\n",
    "res1 = q.get()\n",
    "res2 = q.get()\n",
    "```\n",
    "\n",
    "打印最后的运算结果\n",
    "\n",
    "```py\n",
    "print(res1+res2)\n",
    "```"
   ]
  },
  {
   "cell_type": "markdown",
   "metadata": {},
   "source": [
    "## 完整的代码 ¶ "
   ]
  },
  {
   "cell_type": "code",
   "execution_count": null,
   "metadata": {
    "ExecuteTime": {
     "start_time": "2018-04-03T06:09:46.427Z"
    }
   },
   "outputs": [],
   "source": [
    "import multiprocessing as mp\n",
    "\n",
    "def job(q):\n",
    "    res=0\n",
    "    for i in range(1000):\n",
    "        res+=i+i**2+i**3\n",
    "    q.put(res)    #queue\n",
    "\n",
    "if __name__=='__main__':\n",
    "    q = mp.Queue()\n",
    "    p1 = mp.Process(target=job,args=(q,))\n",
    "    p2 = mp.Process(target=job,args=(q,))\n",
    "    p1.start()\n",
    "    p2.start()\n",
    "    p1.join()\n",
    "    p2.join()\n",
    "    res1 = q.get()\n",
    "    res2 = q.get()\n",
    "    print(res1+res2)"
   ]
  },
  {
   "cell_type": "markdown",
   "metadata": {},
   "source": [
    "运行的时候还是要在 `terminal` 中"
   ]
  },
  {
   "cell_type": "markdown",
   "metadata": {},
   "source": [
    "# [进程池 Pool](https://morvanzhou.github.io/tutorials/python-basic/multiprocessing/5-pool/)"
   ]
  },
  {
   "cell_type": "code",
   "execution_count": null,
   "metadata": {},
   "outputs": [],
   "source": []
  },
  {
   "cell_type": "code",
   "execution_count": null,
   "metadata": {},
   "outputs": [],
   "source": []
  },
  {
   "cell_type": "code",
   "execution_count": null,
   "metadata": {},
   "outputs": [],
   "source": []
  },
  {
   "cell_type": "code",
   "execution_count": null,
   "metadata": {},
   "outputs": [],
   "source": []
  },
  {
   "cell_type": "code",
   "execution_count": null,
   "metadata": {},
   "outputs": [],
   "source": []
  },
  {
   "cell_type": "markdown",
   "metadata": {},
   "source": [
    "# [共享内存 shared memory](https://morvanzhou.github.io/tutorials/python-basic/multiprocessing/6-shared-memory/)"
   ]
  },
  {
   "cell_type": "code",
   "execution_count": null,
   "metadata": {},
   "outputs": [],
   "source": []
  },
  {
   "cell_type": "code",
   "execution_count": null,
   "metadata": {},
   "outputs": [],
   "source": []
  },
  {
   "cell_type": "markdown",
   "metadata": {},
   "source": [
    "# [进程锁 Lock](https://morvanzhou.github.io/tutorials/python-basic/multiprocessing/7-lock/)"
   ]
  },
  {
   "cell_type": "code",
   "execution_count": null,
   "metadata": {},
   "outputs": [],
   "source": []
  }
 ],
 "metadata": {
  "kernelspec": {
   "display_name": "Python 3",
   "language": "python",
   "name": "python3"
  },
  "language_info": {
   "codemirror_mode": {
    "name": "ipython",
    "version": 3
   },
   "file_extension": ".py",
   "mimetype": "text/x-python",
   "name": "python",
   "nbconvert_exporter": "python",
   "pygments_lexer": "ipython3",
   "version": "3.6.4"
  },
  "latex_envs": {
   "LaTeX_envs_menu_present": true,
   "autoclose": false,
   "autocomplete": true,
   "bibliofile": "biblio.bib",
   "cite_by": "apalike",
   "current_citInitial": 1,
   "eqLabelWithNumbers": true,
   "eqNumInitial": 1,
   "hotkeys": {
    "equation": "Ctrl-E",
    "itemize": "Ctrl-I"
   },
   "labels_anchors": false,
   "latex_user_defs": false,
   "report_style_numbering": false,
   "user_envs_cfg": false
  },
  "toc": {
   "nav_menu": {},
   "number_sections": true,
   "sideBar": true,
   "skip_h1_title": false,
   "title_cell": "Table of Contents",
   "title_sidebar": "Contents",
   "toc_cell": false,
   "toc_position": {
    "height": "calc(100% - 180px)",
    "left": "10px",
    "top": "150px",
    "width": "270px"
   },
   "toc_section_display": true,
   "toc_window_display": true
  },
  "varInspector": {
   "cols": {
    "lenName": 16,
    "lenType": 16,
    "lenVar": 40
   },
   "kernels_config": {
    "python": {
     "delete_cmd_postfix": "",
     "delete_cmd_prefix": "del ",
     "library": "var_list.py",
     "varRefreshCmd": "print(var_dic_list())"
    },
    "r": {
     "delete_cmd_postfix": ") ",
     "delete_cmd_prefix": "rm(",
     "library": "var_list.r",
     "varRefreshCmd": "cat(var_dic_list()) "
    }
   },
   "types_to_exclude": [
    "module",
    "function",
    "builtin_function_or_method",
    "instance",
    "_Feature"
   ],
   "window_display": false
  }
 },
 "nbformat": 4,
 "nbformat_minor": 2
}
