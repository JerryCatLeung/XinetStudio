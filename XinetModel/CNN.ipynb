{
 "cells": [
  {
   "cell_type": "code",
   "execution_count": 6,
   "metadata": {
    "ExecuteTime": {
     "end_time": "2018-02-03T15:20:29.669310Z",
     "start_time": "2018-02-03T15:19:27.882530Z"
    },
    "scrolled": true
   },
   "outputs": [
    {
     "name": "stderr",
     "output_type": "stream",
     "text": [
      "c:\\anaconda3\\lib\\site-packages\\mxnet\\gluon\\data\\vision\\datasets.py:82: DeprecationWarning: The binary mode of fromstring is deprecated, as it behaves surprisingly on unicode inputs. Use frombuffer instead\n",
      "  label = np.fromstring(fin.read(), dtype=np.uint8).astype(np.int32)\n",
      "c:\\anaconda3\\lib\\site-packages\\mxnet\\gluon\\data\\vision\\datasets.py:86: DeprecationWarning: The binary mode of fromstring is deprecated, as it behaves surprisingly on unicode inputs. Use frombuffer instead\n",
      "  data = np.fromstring(fin.read(), dtype=np.uint8)\n"
     ]
    },
    {
     "name": "stdout",
     "output_type": "stream",
     "text": [
      "initialize weight on gpu(0)\n",
      "('Start training on ', gpu(0))\n",
      "Epoch 0. Loss: 0.00735389, Train acc 0.331414, Test acc 0.8017, Time 12.1904 sec\n",
      "Epoch 1. Loss: 0.00147082, Train acc 0.883809, Test acc 0.9539, Time 12.1613 sec\n",
      "Epoch 2. Loss: 0.000732922, Train acc 0.943738, Test acc 0.968, Time 12.1313 sec\n",
      "Epoch 3. Loss: 0.000557456, Train acc 0.95894, Test acc 0.974, Time 12.1672 sec\n",
      "Epoch 4. Loss: 0.000462009, Train acc 0.966747, Test acc 0.9775, Time 12.1757 sec\n"
     ]
    }
   ],
   "source": [
    "from mxnet import gluon\n",
    "from mxnet.gluon import nn\n",
    "import Xinet as T\n",
    "import mxnet as mx\n",
    "\n",
    "root = 'E:/Data/MXNet/mnist'\n",
    "_train = gluon.data.vision.MNIST(root= root, train= True, transform= T.transform)\n",
    "_test = gluon.data.vision.MNIST(root= root, train= False, transform= T.transform)\n",
    "\n",
    "batch_size = 256\n",
    "train_data = T.DataLoader(_train, batch_size, shuffle= True)\n",
    "test_data = T.DataLoader(_test, batch_size, shuffle= False)\n",
    "\n",
    "net = nn.Sequential()\n",
    "drop_prob1 = 0.2\n",
    "drop_prob2 = 0.5\n",
    "\n",
    "with net.name_scope():\n",
    "    net.add(\n",
    "        nn.Conv2D(channels= 20, kernel_size= 5, activation= 'relu'),\n",
    "        nn.Dropout(drop_prob1),\n",
    "        nn.MaxPool2D(pool_size= 2, strides= 2),\n",
    "        nn.Conv2D(channels= 50, kernel_size= 3, activation= 'relu'),\n",
    "        nn.Dropout(drop_prob2),\n",
    "        nn.MaxPool2D(pool_size= 2, strides= 2),\n",
    "        nn.Conv2D(channels= 50, kernel_size= 1, activation= 'relu'),\n",
    "        nn.MaxPool2D(pool_size= 2, strides= 2),\n",
    "        nn.Flatten(),\n",
    "        nn.Dense(128, activation= 'relu'),\n",
    "        nn.Dense(10)\n",
    "    )\n",
    "# 初始化\n",
    "ctx = T.try_gpu()\n",
    "net.initialize(ctx= ctx)\n",
    "print('initialize weight on', ctx)\n",
    "\n",
    "num_epochs = 5\n",
    "weight_decay = 0.001    # 正则化项系数\n",
    "lr = 0.2              # 学习率\n",
    "\n",
    "loss = gluon.loss.SoftmaxCrossEntropyLoss()\n",
    "trainer = gluon.Trainer(net.collect_params(), 'sgd', {'learning_rate': lr, 'wd': weight_decay})\n",
    "T.train(train_data, test_data, net, loss, trainer, ctx, num_epochs, batch_size)"
   ]
  },
  {
   "cell_type": "code",
   "execution_count": null,
   "metadata": {},
   "outputs": [],
   "source": []
  }
 ],
 "metadata": {
  "kernelspec": {
   "display_name": "Python 3",
   "language": "python",
   "name": "python3"
  },
  "language_info": {
   "codemirror_mode": {
    "name": "ipython",
    "version": 3
   },
   "file_extension": ".py",
   "mimetype": "text/x-python",
   "name": "python",
   "nbconvert_exporter": "python",
   "pygments_lexer": "ipython3",
   "version": "3.6.3"
  },
  "latex_envs": {
   "LaTeX_envs_menu_present": true,
   "autoclose": false,
   "autocomplete": true,
   "bibliofile": "biblio.bib",
   "cite_by": "apalike",
   "current_citInitial": 1,
   "eqLabelWithNumbers": true,
   "eqNumInitial": 1,
   "hotkeys": {
    "equation": "Ctrl-E",
    "itemize": "Ctrl-I"
   },
   "labels_anchors": false,
   "latex_user_defs": false,
   "report_style_numbering": false,
   "user_envs_cfg": false
  },
  "nbTranslate": {
   "displayLangs": [
    "*"
   ],
   "hotkey": "alt-t",
   "langInMainMenu": true,
   "sourceLang": "en",
   "targetLang": "fr",
   "useGoogleTranslate": true
  },
  "toc": {
   "nav_menu": {},
   "number_sections": true,
   "sideBar": true,
   "skip_h1_title": false,
   "title_cell": "Table of Contents",
   "title_sidebar": "Contents",
   "toc_cell": false,
   "toc_position": {},
   "toc_section_display": true,
   "toc_window_display": false
  },
  "varInspector": {
   "cols": {
    "lenName": 16,
    "lenType": 16,
    "lenVar": 40
   },
   "kernels_config": {
    "python": {
     "delete_cmd_postfix": "",
     "delete_cmd_prefix": "del ",
     "library": "var_list.py",
     "varRefreshCmd": "print(var_dic_list())"
    },
    "r": {
     "delete_cmd_postfix": ") ",
     "delete_cmd_prefix": "rm(",
     "library": "var_list.r",
     "varRefreshCmd": "cat(var_dic_list()) "
    }
   },
   "types_to_exclude": [
    "module",
    "function",
    "builtin_function_or_method",
    "instance",
    "_Feature"
   ],
   "window_display": false
  }
 },
 "nbformat": 4,
 "nbformat_minor": 2
}
