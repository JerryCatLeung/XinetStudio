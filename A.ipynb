{
 "cells": [
  {
   "cell_type": "code",
   "execution_count": 1,
   "metadata": {
    "ExecuteTime": {
     "end_time": "2018-03-22T11:59:53.008979Z",
     "start_time": "2018-03-22T11:59:48.660945Z"
    }
   },
   "outputs": [
    {
     "name": "stderr",
     "output_type": "stream",
     "text": [
      "C:\\Anaconda3\\lib\\site-packages\\h5py\\__init__.py:34: FutureWarning: Conversion of the second argument of issubdtype from `float` to `np.floating` is deprecated. In future, it will be treated as `np.float64 == np.dtype(float).type`.\n",
      "  from ._conv import register_converters as _register_converters\n"
     ]
    }
   ],
   "source": [
    "import tensorflow as tf"
   ]
  },
  {
   "cell_type": "code",
   "execution_count": 6,
   "metadata": {
    "ExecuteTime": {
     "end_time": "2018-03-22T12:02:22.909410Z",
     "start_time": "2018-03-22T12:02:22.898395Z"
    }
   },
   "outputs": [
    {
     "data": {
      "text/plain": [
       "<tf.Tensor 'zeros_3:0' shape=(2, 4) dtype=float32>"
      ]
     },
     "execution_count": 6,
     "metadata": {},
     "output_type": "execute_result"
    }
   ],
   "source": [
    "z = tf.zeros([2, 4], tf.float32)\n",
    "z"
   ]
  },
  {
   "cell_type": "code",
   "execution_count": 7,
   "metadata": {
    "ExecuteTime": {
     "end_time": "2018-03-22T12:02:30.905678Z",
     "start_time": "2018-03-22T12:02:30.897677Z"
    }
   },
   "outputs": [
    {
     "data": {
      "text/plain": [
       "<tf.Tensor 'ones_1:0' shape=(2, 3) dtype=float16>"
      ]
     },
     "execution_count": 7,
     "metadata": {},
     "output_type": "execute_result"
    }
   ],
   "source": [
    "one = tf.ones([2, 3], tf.float16)\n",
    "one"
   ]
  },
  {
   "cell_type": "code",
   "execution_count": 9,
   "metadata": {
    "ExecuteTime": {
     "end_time": "2018-03-22T12:03:44.093846Z",
     "start_time": "2018-03-22T12:03:44.083839Z"
    }
   },
   "outputs": [
    {
     "data": {
      "text/plain": [
       "<tf.Tensor 'Fill:0' shape=(2, 3) dtype=int32>"
      ]
     },
     "execution_count": 9,
     "metadata": {},
     "output_type": "execute_result"
    }
   ],
   "source": [
    "filled_tsr = tf.fill([2, 3], 45)\n",
    "filled_tsr"
   ]
  },
  {
   "cell_type": "code",
   "execution_count": 10,
   "metadata": {
    "ExecuteTime": {
     "end_time": "2018-03-22T12:04:37.876065Z",
     "start_time": "2018-03-22T12:04:37.867067Z"
    }
   },
   "outputs": [
    {
     "data": {
      "text/plain": [
       "<tf.Tensor 'Const:0' shape=(3,) dtype=int32>"
      ]
     },
     "execution_count": 10,
     "metadata": {},
     "output_type": "execute_result"
    }
   ],
   "source": [
    "constant_tsr = tf.constant([1, 2, 3])\n",
    "constant_tsr"
   ]
  },
  {
   "cell_type": "code",
   "execution_count": 11,
   "metadata": {
    "ExecuteTime": {
     "end_time": "2018-03-22T12:05:55.156468Z",
     "start_time": "2018-03-22T12:05:55.144438Z"
    }
   },
   "outputs": [],
   "source": [
    "z_like = tf.zeros_like(constant_tsr)\n",
    "a_like = tf.ones_like(constant_tsr)"
   ]
  },
  {
   "cell_type": "code",
   "execution_count": 19,
   "metadata": {
    "ExecuteTime": {
     "end_time": "2018-03-22T12:11:19.187970Z",
     "start_time": "2018-03-22T12:11:19.177971Z"
    },
    "scrolled": true
   },
   "outputs": [
    {
     "data": {
      "text/plain": [
       "<tf.Tensor 'liner_tensor_4:0' shape=(12,) dtype=float32>"
      ]
     },
     "execution_count": 19,
     "metadata": {},
     "output_type": "execute_result"
    }
   ],
   "source": [
    "liner_tsr = tf.linspace(start= 10., stop= 1, num= 12, name= 'liner_tensor')\n",
    "liner_tsr"
   ]
  },
  {
   "cell_type": "code",
   "execution_count": 20,
   "metadata": {
    "ExecuteTime": {
     "end_time": "2018-03-22T12:12:17.112255Z",
     "start_time": "2018-03-22T12:12:14.494137Z"
    }
   },
   "outputs": [
    {
     "name": "stdout",
     "output_type": "stream",
     "text": [
      "[10.         9.181818   8.363636   7.5454545  6.727273   5.909091\n",
      "  5.090909   4.2727275  3.4545455  2.6363635  1.818182   1.       ]\n"
     ]
    }
   ],
   "source": [
    "with tf.Session() as sess:\n",
    "    print(sess.run(liner_tsr))"
   ]
  },
  {
   "cell_type": "code",
   "execution_count": 22,
   "metadata": {
    "ExecuteTime": {
     "end_time": "2018-03-22T12:15:01.788608Z",
     "start_time": "2018-03-22T12:15:01.778616Z"
    }
   },
   "outputs": [
    {
     "data": {
      "text/plain": [
       "<tf.Tensor 'range:0' shape=(8,) dtype=float32>"
      ]
     },
     "execution_count": 22,
     "metadata": {},
     "output_type": "execute_result"
    }
   ],
   "source": [
    "inter_tsr = tf.range(start= 3, limit= 18, delta= 2, dtype= tf.float32)\n",
    "inter_tsr"
   ]
  },
  {
   "cell_type": "code",
   "execution_count": 23,
   "metadata": {
    "ExecuteTime": {
     "end_time": "2018-03-22T12:15:23.734684Z",
     "start_time": "2018-03-22T12:15:23.336955Z"
    }
   },
   "outputs": [
    {
     "name": "stdout",
     "output_type": "stream",
     "text": [
      "[ 3.  5.  7.  9. 11. 13. 15. 17.]\n"
     ]
    }
   ],
   "source": [
    "with tf.Session() as sess:\n",
    "    print(sess.run(inter_tsr))"
   ]
  },
  {
   "cell_type": "code",
   "execution_count": 26,
   "metadata": {
    "ExecuteTime": {
     "end_time": "2018-03-22T12:18:38.213937Z",
     "start_time": "2018-03-22T12:18:38.172938Z"
    }
   },
   "outputs": [
    {
     "name": "stdout",
     "output_type": "stream",
     "text": [
      "[ 3.  5.  7.  9. 11. 13. 15. 17.]\n"
     ]
    }
   ],
   "source": [
    "a = tf.convert_to_tensor(inter_tsr)\n",
    "with tf.Session() as sess:\n",
    "    print(sess.run(a))"
   ]
  },
  {
   "cell_type": "code",
   "execution_count": 29,
   "metadata": {
    "ExecuteTime": {
     "end_time": "2018-03-22T12:19:18.757732Z",
     "start_time": "2018-03-22T12:19:18.752713Z"
    }
   },
   "outputs": [
    {
     "data": {
      "text/plain": [
       "True"
      ]
     },
     "execution_count": 29,
     "metadata": {},
     "output_type": "execute_result"
    }
   ],
   "source": [
    "a == inter_tsr"
   ]
  },
  {
   "cell_type": "code",
   "execution_count": 30,
   "metadata": {
    "ExecuteTime": {
     "end_time": "2018-03-22T12:19:45.170583Z",
     "start_time": "2018-03-22T12:19:45.167079Z"
    }
   },
   "outputs": [],
   "source": [
    "import numpy as np"
   ]
  },
  {
   "cell_type": "code",
   "execution_count": 31,
   "metadata": {
    "ExecuteTime": {
     "end_time": "2018-03-22T12:20:15.784760Z",
     "start_time": "2018-03-22T12:20:15.775758Z"
    }
   },
   "outputs": [
    {
     "data": {
      "text/plain": [
       "<tf.Tensor 'Const_1:0' shape=(3,) dtype=int32>"
      ]
     },
     "execution_count": 31,
     "metadata": {},
     "output_type": "execute_result"
    }
   ],
   "source": [
    "b = np.array([2, 3, 4])\n",
    "b1 = tf.convert_to_tensor(b)\n",
    "b1"
   ]
  },
  {
   "cell_type": "code",
   "execution_count": 32,
   "metadata": {
    "ExecuteTime": {
     "end_time": "2018-03-22T12:20:54.976545Z",
     "start_time": "2018-03-22T12:20:54.968549Z"
    }
   },
   "outputs": [
    {
     "data": {
      "text/plain": [
       "False"
      ]
     },
     "execution_count": 32,
     "metadata": {},
     "output_type": "execute_result"
    }
   ],
   "source": [
    "b == b1"
   ]
  },
  {
   "cell_type": "code",
   "execution_count": 45,
   "metadata": {
    "ExecuteTime": {
     "end_time": "2018-03-22T12:52:15.855013Z",
     "start_time": "2018-03-22T12:52:15.460128Z"
    }
   },
   "outputs": [],
   "source": [
    "val = np.arange(1, 10, 2, dtype= np.float32)\n",
    "data = tf.placeholder(tf.float32)\n",
    "a =tf.constant(3.)\n",
    "p = tf.multiply(data, a)\n",
    "sess = tf.Session()"
   ]
  },
  {
   "cell_type": "code",
   "execution_count": 49,
   "metadata": {
    "ExecuteTime": {
     "end_time": "2018-03-22T12:53:33.486042Z",
     "start_time": "2018-03-22T12:53:33.470036Z"
    }
   },
   "outputs": [
    {
     "name": "stdout",
     "output_type": "stream",
     "text": [
      "3.0\n",
      "9.0\n",
      "15.0\n",
      "21.0\n",
      "27.0\n"
     ]
    }
   ],
   "source": [
    "for x in val:\n",
    "    print(sess.run(p, feed_dict= {data: x}))"
   ]
  },
  {
   "cell_type": "code",
   "execution_count": 50,
   "metadata": {
    "ExecuteTime": {
     "end_time": "2018-03-22T12:54:02.766762Z",
     "start_time": "2018-03-22T12:54:02.761760Z"
    }
   },
   "outputs": [
    {
     "data": {
      "text/plain": [
       "TensorShape(None)"
      ]
     },
     "execution_count": 50,
     "metadata": {},
     "output_type": "execute_result"
    }
   ],
   "source": [
    "data.shape"
   ]
  },
  {
   "cell_type": "code",
   "execution_count": 54,
   "metadata": {
    "ExecuteTime": {
     "end_time": "2018-03-22T13:22:29.877847Z",
     "start_time": "2018-03-22T13:22:29.874843Z"
    }
   },
   "outputs": [],
   "source": [
    "np.random.chisquare?"
   ]
  },
  {
   "cell_type": "code",
   "execution_count": 56,
   "metadata": {
    "ExecuteTime": {
     "end_time": "2018-03-22T13:32:26.476731Z",
     "start_time": "2018-03-22T13:32:26.008792Z"
    }
   },
   "outputs": [],
   "source": [
    "from tensorflow.python.framework import ops\n",
    "ops.reset_default_graph()\n",
    "sess = tf.Session()"
   ]
  },
  {
   "cell_type": "code",
   "execution_count": 58,
   "metadata": {
    "ExecuteTime": {
     "end_time": "2018-03-22T13:40:30.408684Z",
     "start_time": "2018-03-22T13:40:30.241723Z"
    }
   },
   "outputs": [],
   "source": [
    "x_vals = np.random.normal(1, 0.1, 100)\n",
    "y_vals = np.repeat(10., 100)\n",
    "x_data = tf.placeholder(tf.float32, [None, 1])\n",
    "y_target = tf.placeholder(tf.float32, [None, 1])\n",
    "A = tf.Variable(tf.random_normal([1, 1]))\n",
    "out = tf.matmul(x_data, A)\n",
    "loss = tf.reduce_mean(tf.square(out - y_target))"
   ]
  },
  {
   "cell_type": "code",
   "execution_count": 60,
   "metadata": {
    "ExecuteTime": {
     "end_time": "2018-03-22T13:41:42.168531Z",
     "start_time": "2018-03-22T13:41:42.100546Z"
    }
   },
   "outputs": [],
   "source": [
    "opt = tf.train.GradientDescentOptimizer(0.02)\n",
    "train_step = opt.minimize(loss)"
   ]
  },
  {
   "cell_type": "code",
   "execution_count": 61,
   "metadata": {
    "ExecuteTime": {
     "end_time": "2018-03-22T13:44:55.115322Z",
     "start_time": "2018-03-22T13:44:55.097323Z"
    }
   },
   "outputs": [],
   "source": [
    "batch_size = 32\n",
    "loss_batch = []\n",
    "for i in range(100):\n",
    "    idx = np.random.choice(100, size= batch_size)\n",
    "    x_ = np.transpose(x_vals[idx])\n",
    "    y_ = np.transpose(y_vals[idx])"
   ]
  },
  {
   "cell_type": "code",
   "execution_count": 65,
   "metadata": {
    "ExecuteTime": {
     "end_time": "2018-03-22T13:50:39.984427Z",
     "start_time": "2018-03-22T13:50:39.978440Z"
    }
   },
   "outputs": [
    {
     "data": {
      "text/plain": [
       "array([1.02186005, 1.01873325, 0.95493443, 0.95716094, 0.90855158,\n",
       "       1.00636671, 1.0223595 , 1.06126244, 0.91983578, 1.06654593,\n",
       "       0.99828687, 1.06133468, 1.0283103 , 0.95540917, 1.06517934,\n",
       "       0.83895208, 1.09282936, 1.03510749, 1.07210885, 1.29414758,\n",
       "       0.96144968, 1.14071158, 0.94088895, 0.96874802, 1.09923858,\n",
       "       1.15111876, 1.15719524, 1.09117143, 1.04629189, 1.01967494,\n",
       "       1.08117498, 1.04629189])"
      ]
     },
     "execution_count": 65,
     "metadata": {},
     "output_type": "execute_result"
    }
   ],
   "source": [
    "x_vals[idx]"
   ]
  },
  {
   "cell_type": "code",
   "execution_count": 69,
   "metadata": {
    "ExecuteTime": {
     "end_time": "2018-03-22T14:02:50.671009Z",
     "start_time": "2018-03-22T14:02:50.638011Z"
    }
   },
   "outputs": [],
   "source": [
    "import sys\n",
    "sys.path.append('E:/xinlib')\n",
    "\n",
    "import xin"
   ]
  },
  {
   "cell_type": "code",
   "execution_count": 72,
   "metadata": {
    "ExecuteTime": {
     "end_time": "2018-03-22T14:03:24.584847Z",
     "start_time": "2018-03-22T14:03:24.577846Z"
    }
   },
   "outputs": [],
   "source": [
    "xin.data_iter?"
   ]
  },
  {
   "cell_type": "code",
   "execution_count": null,
   "metadata": {},
   "outputs": [],
   "source": [
    "# "
   ]
  }
 ],
 "metadata": {
  "kernelspec": {
   "display_name": "Python 3",
   "language": "python",
   "name": "python3"
  },
  "language_info": {
   "codemirror_mode": {
    "name": "ipython",
    "version": 3
   },
   "file_extension": ".py",
   "mimetype": "text/x-python",
   "name": "python",
   "nbconvert_exporter": "python",
   "pygments_lexer": "ipython3",
   "version": "3.6.3"
  },
  "latex_envs": {
   "LaTeX_envs_menu_present": true,
   "autoclose": false,
   "autocomplete": true,
   "bibliofile": "biblio.bib",
   "cite_by": "apalike",
   "current_citInitial": 1,
   "eqLabelWithNumbers": true,
   "eqNumInitial": 1,
   "hotkeys": {
    "equation": "Ctrl-E",
    "itemize": "Ctrl-I"
   },
   "labels_anchors": false,
   "latex_user_defs": false,
   "report_style_numbering": false,
   "user_envs_cfg": false
  },
  "toc": {
   "nav_menu": {},
   "number_sections": true,
   "sideBar": true,
   "skip_h1_title": false,
   "title_cell": "Table of Contents",
   "title_sidebar": "Contents",
   "toc_cell": false,
   "toc_position": {
    "height": "calc(100% - 180px)",
    "left": "10px",
    "top": "150px",
    "width": "288px"
   },
   "toc_section_display": true,
   "toc_window_display": true
  },
  "varInspector": {
   "cols": {
    "lenName": 16,
    "lenType": 16,
    "lenVar": 40
   },
   "kernels_config": {
    "python": {
     "delete_cmd_postfix": "",
     "delete_cmd_prefix": "del ",
     "library": "var_list.py",
     "varRefreshCmd": "print(var_dic_list())"
    },
    "r": {
     "delete_cmd_postfix": ") ",
     "delete_cmd_prefix": "rm(",
     "library": "var_list.r",
     "varRefreshCmd": "cat(var_dic_list()) "
    }
   },
   "types_to_exclude": [
    "module",
    "function",
    "builtin_function_or_method",
    "instance",
    "_Feature"
   ],
   "window_display": false
  }
 },
 "nbformat": 4,
 "nbformat_minor": 2
}
