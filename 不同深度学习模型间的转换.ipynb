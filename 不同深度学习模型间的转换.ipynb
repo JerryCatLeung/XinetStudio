{
 "cells": [
  {
   "cell_type": "markdown",
   "metadata": {},
   "source": [
    "参考资源：\n",
    "- [ysh329/deep-learning-model-convertor](https://github.com/ysh329/deep-learning-model-convertor)\n",
    "- [深度学习 - 不同深度学习模型间的转换](http://blog.csdn.net/zziahgf/article/details/72831046)"
   ]
  },
  {
   "cell_type": "markdown",
   "metadata": {},
   "source": [
    "## 支持 MXNet 后端的 Keras\n",
    "- 在安装好 CUDA 驱动之后，安装 MXNet : `pip install mxnet-cu80`\n",
    "- 安装支持 MXNet 的 Keras：\n",
    "\n",
    "```sh\n",
    "git clone --recursive https://github.com/dmlc/keras\n",
    "cd keras\n",
    "python setup.py install\n",
    "```\n",
    "- 指定 MXNet 为后端：\n",
    "```sh\n",
    "KERAS_BACKEND=mxnet python -c \"from keras import backend\"\n",
    "```\n",
    "\n",
    "如果显示 `Using MXNet backend`. 就说明安装成功了。之前已有的 Keras 代码几乎不需要任何修改即可使用 MXNet 。\n",
    "\n",
    "人生苦短，多用 MXNet。\n",
    "\n",
    "### 简要回答几个疑问：\n",
    "- 如果没有GPU怎么办？请把第一步替换为 `pip install mxnet` 或者 `pip install mxnet-mkl` (Intel MKL)\n",
    "- Windows下面能不能用？请把第一步替换为 `pip install mxnet-cu80-win`\n",
    "- 和 TensorFlow 的速度对比如何？这个请观众朋友们试试看了。\n",
    "- 如果不想要 Keras 只想要 MXNet 呢？那就只执行第一步好了。\n",
    "\n",
    "更多参考：[Apache MXNet support in Keras](https://medium.com/@julsimon/apache-mxnet-support-in-keras-83de7dec46e5)"
   ]
  },
  {
   "cell_type": "code",
   "execution_count": null,
   "metadata": {},
   "outputs": [],
   "source": []
  }
 ],
 "metadata": {
  "kernelspec": {
   "display_name": "Python 3",
   "language": "python",
   "name": "python3"
  },
  "language_info": {
   "codemirror_mode": {
    "name": "ipython",
    "version": 3
   },
   "file_extension": ".py",
   "mimetype": "text/x-python",
   "name": "python",
   "nbconvert_exporter": "python",
   "pygments_lexer": "ipython3",
   "version": "3.6.3"
  },
  "latex_envs": {
   "LaTeX_envs_menu_present": true,
   "autoclose": false,
   "autocomplete": true,
   "bibliofile": "biblio.bib",
   "cite_by": "apalike",
   "current_citInitial": 1,
   "eqLabelWithNumbers": true,
   "eqNumInitial": 1,
   "hotkeys": {
    "equation": "Ctrl-E",
    "itemize": "Ctrl-I"
   },
   "labels_anchors": false,
   "latex_user_defs": false,
   "report_style_numbering": false,
   "user_envs_cfg": false
  },
  "nbTranslate": {
   "displayLangs": [
    "*"
   ],
   "hotkey": "alt-t",
   "langInMainMenu": true,
   "sourceLang": "en",
   "targetLang": "fr",
   "useGoogleTranslate": true
  },
  "toc": {
   "nav_menu": {},
   "number_sections": true,
   "sideBar": true,
   "skip_h1_title": false,
   "title_cell": "Table of Contents",
   "title_sidebar": "Contents",
   "toc_cell": false,
   "toc_position": {},
   "toc_section_display": true,
   "toc_window_display": false
  },
  "varInspector": {
   "cols": {
    "lenName": 16,
    "lenType": 16,
    "lenVar": 40
   },
   "kernels_config": {
    "python": {
     "delete_cmd_postfix": "",
     "delete_cmd_prefix": "del ",
     "library": "var_list.py",
     "varRefreshCmd": "print(var_dic_list())"
    },
    "r": {
     "delete_cmd_postfix": ") ",
     "delete_cmd_prefix": "rm(",
     "library": "var_list.r",
     "varRefreshCmd": "cat(var_dic_list()) "
    }
   },
   "types_to_exclude": [
    "module",
    "function",
    "builtin_function_or_method",
    "instance",
    "_Feature"
   ],
   "window_display": false
  }
 },
 "nbformat": 4,
 "nbformat_minor": 2
}
