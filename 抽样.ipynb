{
 "cells": [
  {
   "cell_type": "markdown",
   "metadata": {},
   "source": [
    "# 洗牌"
   ]
  },
  {
   "cell_type": "code",
   "execution_count": 1,
   "metadata": {
    "ExecuteTime": {
     "end_time": "2018-03-20T13:34:56.060965Z",
     "start_time": "2018-03-20T13:34:56.056972Z"
    }
   },
   "outputs": [],
   "source": [
    "SUITS = ['Clubs', 'Diamonds', 'Hearts', 'Spades']\n",
    "RANKS = ['2', '3', '4', '5', '6', '7', '8', '9', '10', 'Jack', 'Queen', 'King', 'Ace']"
   ]
  },
  {
   "cell_type": "code",
   "execution_count": 2,
   "metadata": {
    "ExecuteTime": {
     "end_time": "2018-03-20T13:35:03.001045Z",
     "start_time": "2018-03-20T13:35:02.995591Z"
    }
   },
   "outputs": [
    {
     "name": "stdout",
     "output_type": "stream",
     "text": [
      "Queen of Spades\n"
     ]
    }
   ],
   "source": [
    "import random\n",
    "rank = random.randrange(0, len(RANKS))\n",
    "suit = random.randrange(0, len(SUITS))\n",
    "print(RANKS[rank] + ' of ' + SUITS[suit])"
   ]
  },
  {
   "cell_type": "code",
   "execution_count": 3,
   "metadata": {
    "ExecuteTime": {
     "end_time": "2018-03-20T13:35:21.851923Z",
     "start_time": "2018-03-20T13:35:21.846926Z"
    }
   },
   "outputs": [],
   "source": [
    "# 生成一套牌\n",
    "deck = []\n",
    "for rank in RANKS:\n",
    "    for suit in SUITS:\n",
    "        card = str(rank) + ' of ' + str(suit)\n",
    "        deck += [card]"
   ]
  },
  {
   "cell_type": "code",
   "execution_count": 5,
   "metadata": {
    "ExecuteTime": {
     "end_time": "2018-03-20T13:37:02.125032Z",
     "start_time": "2018-03-20T13:37:02.119531Z"
    }
   },
   "outputs": [],
   "source": [
    "# 洗牌\n",
    "n = len(deck)\n",
    "for i in range(n):\n",
    "    r = random.randrange(i, n)\n",
    "    temp = deck[r]\n",
    "    deck[r] = deck[i]\n",
    "    deck[i] = temp"
   ]
  },
  {
   "cell_type": "code",
   "execution_count": 8,
   "metadata": {
    "ExecuteTime": {
     "end_time": "2018-03-20T13:37:53.479058Z",
     "start_time": "2018-03-20T13:37:53.474057Z"
    },
    "scrolled": false
   },
   "outputs": [
    {
     "data": {
      "text/plain": [
       "['Ace of Diamonds',\n",
       " 'Jack of Hearts',\n",
       " '7 of Diamonds',\n",
       " '2 of Diamonds',\n",
       " '8 of Clubs']"
      ]
     },
     "execution_count": 8,
     "metadata": {},
     "output_type": "execute_result"
    }
   ],
   "source": [
    "deck[:5]"
   ]
  },
  {
   "cell_type": "markdown",
   "metadata": {},
   "source": [
    "下面使用 python 模块实现**洗牌**："
   ]
  },
  {
   "cell_type": "markdown",
   "metadata": {},
   "source": [
    "## `random.shuffle` 可以实现洗牌"
   ]
  },
  {
   "cell_type": "code",
   "execution_count": 10,
   "metadata": {
    "ExecuteTime": {
     "end_time": "2018-03-20T13:39:07.540417Z",
     "start_time": "2018-03-20T13:39:07.534946Z"
    }
   },
   "outputs": [
    {
     "data": {
      "text/plain": [
       "['9 of Spades',\n",
       " '6 of Clubs',\n",
       " 'Queen of Spades',\n",
       " 'Ace of Spades',\n",
       " 'Queen of Hearts']"
      ]
     },
     "execution_count": 10,
     "metadata": {},
     "output_type": "execute_result"
    }
   ],
   "source": [
    "random.shuffle(deck)\n",
    "deck[:5]"
   ]
  },
  {
   "cell_type": "markdown",
   "metadata": {
    "ExecuteTime": {
     "end_time": "2018-03-20T13:40:41.828026Z",
     "start_time": "2018-03-20T13:40:41.821013Z"
    }
   },
   "source": [
    "## `np.random.shuffle`  也可以实现洗牌"
   ]
  },
  {
   "cell_type": "code",
   "execution_count": 11,
   "metadata": {
    "ExecuteTime": {
     "end_time": "2018-03-20T13:39:43.457783Z",
     "start_time": "2018-03-20T13:39:43.451779Z"
    }
   },
   "outputs": [
    {
     "data": {
      "text/plain": [
       "['3 of Clubs',\n",
       " '7 of Hearts',\n",
       " '6 of Diamonds',\n",
       " '4 of Diamonds',\n",
       " 'Jack of Clubs']"
      ]
     },
     "execution_count": 11,
     "metadata": {},
     "output_type": "execute_result"
    }
   ],
   "source": [
    "import numpy as np\n",
    "np.random.shuffle(deck)\n",
    "deck[:5]"
   ]
  },
  {
   "cell_type": "markdown",
   "metadata": {
    "ExecuteTime": {
     "end_time": "2018-03-20T13:43:15.952965Z",
     "start_time": "2018-03-20T13:43:15.948976Z"
    }
   },
   "source": [
    "# 无放回抽样（Sampling without replacement）\n",
    "\n",
    "`random.sample(a, k)` 从数组 `a[:]` 中均匀随机分布抽取 $k$ 个样本。"
   ]
  },
  {
   "cell_type": "code",
   "execution_count": 18,
   "metadata": {
    "ExecuteTime": {
     "end_time": "2018-03-20T13:52:14.212143Z",
     "start_time": "2018-03-20T13:52:14.209165Z"
    },
    "scrolled": true
   },
   "outputs": [],
   "source": [
    "from numpy.random import  RandomState"
   ]
  },
  {
   "cell_type": "code",
   "execution_count": 19,
   "metadata": {
    "ExecuteTime": {
     "end_time": "2018-03-20T13:53:03.045088Z",
     "start_time": "2018-03-20T13:53:03.039588Z"
    }
   },
   "outputs": [],
   "source": [
    "rdm = RandomState(1)\n",
    "X = rdm.rand(128,2)\n",
    "Y = [[x1+x2+(rdm.rand()/10.0-0.05)] for (x1, x2) in X]"
   ]
  },
  {
   "cell_type": "code",
   "execution_count": 41,
   "metadata": {
    "ExecuteTime": {
     "end_time": "2018-03-20T14:02:06.054491Z",
     "start_time": "2018-03-20T14:02:06.049538Z"
    }
   },
   "outputs": [
    {
     "name": "stdout",
     "output_type": "stream",
     "text": [
      "[0.417022   0.72032449] [1.1448176486155424]\n"
     ]
    }
   ],
   "source": [
    "for x,y in zip(X, Y):\n",
    "    print(x, y)\n",
    "    break"
   ]
  },
  {
   "cell_type": "code",
   "execution_count": 43,
   "metadata": {
    "ExecuteTime": {
     "end_time": "2018-03-20T14:02:41.920734Z",
     "start_time": "2018-03-20T14:02:41.910745Z"
    }
   },
   "outputs": [
    {
     "data": {
      "text/plain": [
       "[(array([0.98886109, 0.74816565]), [1.706883732129045]),\n",
       " (array([0.22570934, 0.71298898]), [0.9541120536876058]),\n",
       " (array([0.01553328, 0.59348141]), [0.5620546527403518]),\n",
       " (array([0.31736241, 0.98861615]), [1.3509591628699724]),\n",
       " (array([0.12417332, 0.27918368]), [0.39494186595780334]),\n",
       " (array([0.417022  , 0.72032449]), [1.1448176486155424]),\n",
       " (array([0.87638915, 0.89460666]), [1.7592060910030372]),\n",
       " (array([0.17619626, 0.33206357]), [0.5576511324029401])]"
      ]
     },
     "execution_count": 43,
     "metadata": {},
     "output_type": "execute_result"
    }
   ],
   "source": [
    "random.sample(list(zip(X, Y)), 8)"
   ]
  },
  {
   "cell_type": "code",
   "execution_count": 32,
   "metadata": {
    "ExecuteTime": {
     "end_time": "2018-03-20T13:59:20.767541Z",
     "start_time": "2018-03-20T13:59:20.762072Z"
    }
   },
   "outputs": [
    {
     "data": {
      "text/plain": [
       "[[1.2443681369043287],\n",
       " [0.4558037395609696],\n",
       " [0.5405042724863269],\n",
       " [0.9938036724642166],\n",
       " [0.24533699946471965],\n",
       " [0.8303161163575917],\n",
       " [1.064403391403283],\n",
       " [1.1139275495365555]]"
      ]
     },
     "execution_count": 32,
     "metadata": {},
     "output_type": "execute_result"
    }
   ],
   "source": [
    "random.sample(list(Y), 8)"
   ]
  },
  {
   "cell_type": "code",
   "execution_count": null,
   "metadata": {},
   "outputs": [],
   "source": []
  }
 ],
 "metadata": {
  "kernelspec": {
   "display_name": "Python 3",
   "language": "python",
   "name": "python3"
  },
  "language_info": {
   "codemirror_mode": {
    "name": "ipython",
    "version": 3
   },
   "file_extension": ".py",
   "mimetype": "text/x-python",
   "name": "python",
   "nbconvert_exporter": "python",
   "pygments_lexer": "ipython3",
   "version": "3.6.3"
  },
  "toc": {
   "nav_menu": {},
   "number_sections": true,
   "sideBar": true,
   "skip_h1_title": false,
   "title_cell": "Table of Contents",
   "title_sidebar": "Contents",
   "toc_cell": false,
   "toc_position": {
    "height": "calc(100% - 180px)",
    "left": "10px",
    "top": "150px",
    "width": "366px"
   },
   "toc_section_display": true,
   "toc_window_display": true
  },
  "varInspector": {
   "cols": {
    "lenName": 16,
    "lenType": 16,
    "lenVar": 40
   },
   "kernels_config": {
    "python": {
     "delete_cmd_postfix": "",
     "delete_cmd_prefix": "del ",
     "library": "var_list.py",
     "varRefreshCmd": "print(var_dic_list())"
    },
    "r": {
     "delete_cmd_postfix": ") ",
     "delete_cmd_prefix": "rm(",
     "library": "var_list.r",
     "varRefreshCmd": "cat(var_dic_list()) "
    }
   },
   "types_to_exclude": [
    "module",
    "function",
    "builtin_function_or_method",
    "instance",
    "_Feature"
   ],
   "window_display": false
  }
 },
 "nbformat": 4,
 "nbformat_minor": 2
}
