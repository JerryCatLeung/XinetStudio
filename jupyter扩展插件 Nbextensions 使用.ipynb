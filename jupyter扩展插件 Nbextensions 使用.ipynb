{
 "cells": [
  {
   "cell_type": "markdown",
   "metadata": {
    "lang": "zh-cn"
   },
   "source": [
    "### 参考资源：\n",
    "- [ipython-contrib/jupyter_contrib_nbextensions](https://github.com/ipython-contrib/jupyter_contrib_nbextensions)\n",
    "- [jupyter扩展插件Nbextensions使用](http://www.cnblogs.com/cloud-ken/p/7401534.html)\n",
    "- [Jupyter Notebook 安装插件](http://luly.lamost.org/blog/jupyter_extension.html)\n",
    "- [装扮你的Jupyter](https://segmentfault.com/a/1190000009305646)\n",
    "- [jupyter 中 用 `notedown` 插件来读取 md 文档](https://github.com/aaren/notedown)\n",
    "\n",
    "### 如何使用 Google Colab 的 GPU 进行加速\n",
    "- [Google Colab Free GPU Tutorial](https://medium.com/deep-learning-turkey/google-colab-free-gpu-tutorial-e113627b9f5d)\n",
    "\n",
    "现在，你可以开发深度学习与应用谷歌 `Colaboratory -on` 的免费特斯拉 K80 GPU -使用 `Keras`，`Tensorflow` 和 `PyTorch`。\n",
    "\n",
    "\n",
    "\n",
    "### 运行计时\n",
    "我们可以通过 `ExecutionTime` 插件来对每个 cell 的运行计时。\n",
    "```sh\n",
    "pip install jupyter_contrib_nbextensions\n",
    "jupyter contrib nbextension install --user\n",
    "jupyter nbextension enable execute_time/ExecuteTime\n",
    "```"
   ]
  },
  {
   "cell_type": "markdown",
   "metadata": {
    "lang": "en"
   },
   "source": [
    "### Reference resources:\n",
    "- [ipython-contrib / jupyter _contrib_ nbextensions] (https://github.com/ipython-contrib/jupyter _contrib_ nbextensions)\n",
    "- [jupyter extension Nbextensions use] (http://www.cnblogs.com/cloud-ken/p/7401534.html)\n",
    "- [Jupyter Notebook Install Plugin] (http://luly.lamost.org/blog/jupyter _extension.html)\n",
    "- [Dress Up Your Jupyter] (https://segmentfault.com/a/1190000009305646)\n",
    "- [jupyter with the notedown plug-in to read the md document] (https://github.com/aaren/notedown)\n",
    "\n",
    "### How to Accelerate with Google Colab's GPU\n",
    "- [Google Colab Free GPU Tutorial] (https://medium.com/deep-learning-turkey/google-colab-free-gpu-tutorial-e113627b9f5d)\n",
    "\n",
    "Now you can develop the free Tesla K80 GPU for deep learning and application of Google Colaboratory-on using Keras, Tensorflow and PyTorch.\n",
    "\n",
    "\n",
    "\n",
    "## running time\n",
    "We can use the ExecutionTime plug-in to time each cell's operation.\n",
    "`` `sh\n",
    "pip install jupyter_ contrib _nbextensions\n",
    "jupyter contrib nbextension install --user\n",
    "jupyter nbextension enable execute_ time / ExecuteTime\n",
    "`` `"
   ]
  },
  {
   "cell_type": "code",
   "execution_count": 2,
   "metadata": {
    "ExecuteTime": {
     "end_time": "2018-01-30T12:51:47.965493Z",
     "start_time": "2018-01-30T12:51:47.960473Z"
    }
   },
   "outputs": [],
   "source": [
    "a = 1\n",
    "a -= 2"
   ]
  },
  {
   "cell_type": "code",
   "execution_count": 1,
   "metadata": {
    "ExecuteTime": {
     "end_time": "2018-01-30T13:53:05.306791Z",
     "start_time": "2018-01-30T13:53:03.401724Z"
    }
   },
   "outputs": [
    {
     "name": "stdout",
     "output_type": "stream",
     "text": [
      "Name: tensorflow-gpu\n",
      "Version: 1.5.0\n",
      "Summary: TensorFlow helps the tensors flow\n",
      "Home-page: https://www.tensorflow.org/\n",
      "Author: Google Inc.\n",
      "Author-email: opensource@google.com\n",
      "License: Apache 2.0\n",
      "Location: c:\\anaconda3\\lib\\site-packages\n",
      "Requires: six, numpy, absl-py, tensorflow-tensorboard, protobuf, wheel\n"
     ]
    }
   ],
   "source": [
    "!pip show tensorflow-gpu  # 查看 版本"
   ]
  },
  {
   "cell_type": "code",
   "execution_count": 3,
   "metadata": {
    "ExecuteTime": {
     "end_time": "2018-01-30T13:55:36.670377Z",
     "start_time": "2018-01-30T13:55:34.977875Z"
    }
   },
   "outputs": [
    {
     "name": "stdout",
     "output_type": "stream",
     "text": [
      "Name: mxnet-cu90\n",
      "Version: 1.0.1b20171229\n",
      "Summary: MXNet is an ultra-scalable deep learning framework. This version uses .\n",
      "Home-page: https://github.com/dmlc/mxnet\n",
      "Author: UNKNOWN\n",
      "Author-email: UNKNOWN\n",
      "License: Apache 2.0\n",
      "Location: c:\\anaconda3\\lib\\site-packages\n",
      "Requires: numpy, graphviz, requests\n"
     ]
    }
   ],
   "source": [
    "!pip show mxnet-cu90"
   ]
  },
  {
   "cell_type": "code",
   "execution_count": 4,
   "metadata": {
    "ExecuteTime": {
     "end_time": "2018-01-30T13:55:50.049115Z",
     "start_time": "2018-01-30T13:55:48.294447Z"
    },
    "scrolled": true
   },
   "outputs": [
    {
     "name": "stdout",
     "output_type": "stream",
     "text": [
      "Name: Keras\n",
      "Version: 2.1.3\n",
      "Summary: Deep Learning for humans\n",
      "Home-page: https://github.com/keras-team/keras\n",
      "Author: Francois Chollet\n",
      "Author-email: francois.chollet@gmail.com\n",
      "License: MIT\n",
      "Location: c:\\anaconda3\\lib\\site-packages\n",
      "Requires: six, pyyaml, numpy, scipy\n"
     ]
    }
   ],
   "source": [
    "!pip show keras"
   ]
  },
  {
   "cell_type": "code",
   "execution_count": null,
   "metadata": {},
   "outputs": [],
   "source": []
  }
 ],
 "metadata": {
  "_draft": {
   "nbviewer_url": "https://gist.github.com/58e7eb9e87fc92acc0549032b3510589"
  },
  "gist": {
   "data": {
    "description": "XinetStudio/jupyter扩展插件 Nbextensions 使用.ipynb",
    "public": true
   },
   "id": "58e7eb9e87fc92acc0549032b3510589"
  },
  "kernelspec": {
   "display_name": "Python 3",
   "language": "python",
   "name": "python3"
  },
  "language_info": {
   "codemirror_mode": {
    "name": "ipython",
    "version": 3
   },
   "file_extension": ".py",
   "mimetype": "text/x-python",
   "name": "python",
   "nbconvert_exporter": "python",
   "pygments_lexer": "ipython3",
   "version": "3.6.3"
  },
  "latex_envs": {
   "LaTeX_envs_menu_present": true,
   "autoclose": false,
   "autocomplete": true,
   "bibliofile": "biblio.bib",
   "cite_by": "apalike",
   "current_citInitial": 1,
   "eqLabelWithNumbers": true,
   "eqNumInitial": 1,
   "hotkeys": {
    "equation": "Ctrl-E",
    "itemize": "Ctrl-I"
   },
   "labels_anchors": false,
   "latex_user_defs": false,
   "report_style_numbering": false,
   "user_envs_cfg": false
  },
  "nbTranslate": {
   "displayLangs": [
    "zh-cn"
   ],
   "hotkey": "alt-t",
   "langInMainMenu": true,
   "sourceLang": "en",
   "targetLang": "zh-cn",
   "useGoogleTranslate": true
  },
  "toc": {
   "nav_menu": {
    "height": "192px",
    "width": "349px"
   },
   "number_sections": true,
   "sideBar": true,
   "skip_h1_title": false,
   "title_cell": "Table of Contents",
   "title_sidebar": "Contents",
   "toc_cell": false,
   "toc_position": {
    "height": "calc(100% - 180px)",
    "left": "10px",
    "top": "150px",
    "width": "335px"
   },
   "toc_section_display": true,
   "toc_window_display": true
  },
  "varInspector": {
   "cols": {
    "lenName": 16,
    "lenType": 16,
    "lenVar": 40
   },
   "kernels_config": {
    "python": {
     "delete_cmd_postfix": "",
     "delete_cmd_prefix": "del ",
     "library": "var_list.py",
     "varRefreshCmd": "print(var_dic_list())"
    },
    "r": {
     "delete_cmd_postfix": ") ",
     "delete_cmd_prefix": "rm(",
     "library": "var_list.r",
     "varRefreshCmd": "cat(var_dic_list()) "
    }
   },
   "types_to_exclude": [
    "module",
    "function",
    "builtin_function_or_method",
    "instance",
    "_Feature"
   ],
   "window_display": false
  }
 },
 "nbformat": 4,
 "nbformat_minor": 2
}
